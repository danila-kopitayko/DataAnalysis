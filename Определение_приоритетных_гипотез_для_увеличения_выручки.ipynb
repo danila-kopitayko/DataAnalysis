{
  "cells": [
    {
      "cell_type": "markdown",
      "metadata": {
        "id": "udQ47d7-jK0z"
      },
      "source": [
        "# Определение приоритетных гипотез для увеличения выручки\n",
        "\n",
        "Было решено увеличить прибыль интернет-магазина. Для этого было сформировано несколько гипотез, которые бы потенциально могли бы увеличилить выручку. Их надо расставить по приоритету, выбрать самые приоритетные, провести A/B-тест и провести анализ его результатов.\n",
        "\n",
        "В нашем распоряжении три таблицы: таблица с гипотезами и оценкой их параметров, таблица с данными о том, какие пользователи когда совершали покупки и к каким группам они относятся, а также таблица с количеством покупок в данную дату в данной группе\n",
        "## Цель\n",
        " Приоритизировать гипотезы и определить результаты A/B-теста на данный момент\n",
        "\n",
        "## Задачи\n",
        " - С помощью фреймфорков выделить главные гипотезы\n",
        " - Провести предобработку данных\n",
        " - Посчитать кумулятивные метрики, проанализировать их и сделать выводы\n",
        " - Определить предел количества, стоимости заказов, убрать аномалии\n",
        " - Посчить статистическую значимость разницы между группами по сырым и отфильтрованным данным, оценить прибыльность групп\n",
        " - Проанализировать результаты A/B-теста и решить, останавливать его или нет\n"
      ]
    },
    {
      "cell_type": "code",
      "execution_count": null,
      "metadata": {
        "id": "ksGr2xFYjK00"
      },
      "outputs": [],
      "source": [
        "import pandas as pd\n",
        "import numpy as np\n",
        "import scipy.stats as stats\n",
        "import matplotlib.pyplot as plt\n",
        "import datetime"
      ]
    },
    {
      "cell_type": "markdown",
      "metadata": {
        "id": "-MdnbbYKjK00"
      },
      "source": [
        "## Определение приоритета гипотез"
      ]
    },
    {
      "cell_type": "code",
      "execution_count": null,
      "metadata": {
        "id": "HVsS6GxLjK01",
        "outputId": "a4d61f81-b498-404f-88b3-ac0a26853b46"
      },
      "outputs": [
        {
          "data": {
            "text/html": [
              "<div>\n",
              "<style scoped>\n",
              "    .dataframe tbody tr th:only-of-type {\n",
              "        vertical-align: middle;\n",
              "    }\n",
              "\n",
              "    .dataframe tbody tr th {\n",
              "        vertical-align: top;\n",
              "    }\n",
              "\n",
              "    .dataframe thead th {\n",
              "        text-align: right;\n",
              "    }\n",
              "</style>\n",
              "<table border=\"1\" class=\"dataframe\">\n",
              "  <thead>\n",
              "    <tr style=\"text-align: right;\">\n",
              "      <th></th>\n",
              "      <th>Hypothesis</th>\n",
              "      <th>Reach</th>\n",
              "      <th>Impact</th>\n",
              "      <th>Confidence</th>\n",
              "      <th>Efforts</th>\n",
              "    </tr>\n",
              "  </thead>\n",
              "  <tbody>\n",
              "    <tr>\n",
              "      <th>0</th>\n",
              "      <td>Добавить два новых канала привлечения трафика,...</td>\n",
              "      <td>3</td>\n",
              "      <td>10</td>\n",
              "      <td>8</td>\n",
              "      <td>6</td>\n",
              "    </tr>\n",
              "    <tr>\n",
              "      <th>1</th>\n",
              "      <td>Запустить собственную службу доставки, что сок...</td>\n",
              "      <td>2</td>\n",
              "      <td>5</td>\n",
              "      <td>4</td>\n",
              "      <td>10</td>\n",
              "    </tr>\n",
              "    <tr>\n",
              "      <th>2</th>\n",
              "      <td>Добавить блоки рекомендаций товаров на сайт ин...</td>\n",
              "      <td>8</td>\n",
              "      <td>3</td>\n",
              "      <td>7</td>\n",
              "      <td>3</td>\n",
              "    </tr>\n",
              "    <tr>\n",
              "      <th>3</th>\n",
              "      <td>Изменить структура категорий, что увеличит кон...</td>\n",
              "      <td>8</td>\n",
              "      <td>3</td>\n",
              "      <td>3</td>\n",
              "      <td>8</td>\n",
              "    </tr>\n",
              "    <tr>\n",
              "      <th>4</th>\n",
              "      <td>Изменить цвет фона главной страницы, чтобы уве...</td>\n",
              "      <td>3</td>\n",
              "      <td>1</td>\n",
              "      <td>1</td>\n",
              "      <td>1</td>\n",
              "    </tr>\n",
              "    <tr>\n",
              "      <th>5</th>\n",
              "      <td>Добавить страницу отзывов клиентов о магазине,...</td>\n",
              "      <td>3</td>\n",
              "      <td>2</td>\n",
              "      <td>2</td>\n",
              "      <td>3</td>\n",
              "    </tr>\n",
              "    <tr>\n",
              "      <th>6</th>\n",
              "      <td>Показать на главной странице баннеры с актуаль...</td>\n",
              "      <td>5</td>\n",
              "      <td>3</td>\n",
              "      <td>8</td>\n",
              "      <td>3</td>\n",
              "    </tr>\n",
              "    <tr>\n",
              "      <th>7</th>\n",
              "      <td>Добавить форму подписки на все основные страни...</td>\n",
              "      <td>10</td>\n",
              "      <td>7</td>\n",
              "      <td>8</td>\n",
              "      <td>5</td>\n",
              "    </tr>\n",
              "    <tr>\n",
              "      <th>8</th>\n",
              "      <td>Запустить акцию, дающую скидку на товар в день...</td>\n",
              "      <td>1</td>\n",
              "      <td>9</td>\n",
              "      <td>9</td>\n",
              "      <td>5</td>\n",
              "    </tr>\n",
              "  </tbody>\n",
              "</table>\n",
              "</div>"
            ],
            "text/plain": [
              "                                          Hypothesis  Reach  Impact  \\\n",
              "0  Добавить два новых канала привлечения трафика,...      3      10   \n",
              "1  Запустить собственную службу доставки, что сок...      2       5   \n",
              "2  Добавить блоки рекомендаций товаров на сайт ин...      8       3   \n",
              "3  Изменить структура категорий, что увеличит кон...      8       3   \n",
              "4  Изменить цвет фона главной страницы, чтобы уве...      3       1   \n",
              "5  Добавить страницу отзывов клиентов о магазине,...      3       2   \n",
              "6  Показать на главной странице баннеры с актуаль...      5       3   \n",
              "7  Добавить форму подписки на все основные страни...     10       7   \n",
              "8  Запустить акцию, дающую скидку на товар в день...      1       9   \n",
              "\n",
              "   Confidence  Efforts  \n",
              "0           8        6  \n",
              "1           4       10  \n",
              "2           7        3  \n",
              "3           3        8  \n",
              "4           1        1  \n",
              "5           2        3  \n",
              "6           8        3  \n",
              "7           8        5  \n",
              "8           9        5  "
            ]
          },
          "execution_count": 2,
          "metadata": {},
          "output_type": "execute_result"
        }
      ],
      "source": [
        "hypothesis = pd.read_csv('/datasets/hypothesis.csv')\n",
        "hypothesis"
      ]
    },
    {
      "cell_type": "markdown",
      "metadata": {
        "id": "ayFu4PkljK01"
      },
      "source": [
        "Считаем приоритетность гипотез по фреймворку ICE, как отношение произведения параметров Impact и Confidence, показывающих насколько сильно изменения повлияют на пользователей и уверенность в оценках других параметров соответственно, к параметру Efforts, который определяет сложность проверки гипотезы."
      ]
    },
    {
      "cell_type": "code",
      "execution_count": null,
      "metadata": {
        "scrolled": true,
        "id": "Joz4k-ixjK01",
        "outputId": "21e94888-d5dd-47fc-dbf5-2d264d4eff40"
      },
      "outputs": [
        {
          "data": {
            "text/html": [
              "<div>\n",
              "<style scoped>\n",
              "    .dataframe tbody tr th:only-of-type {\n",
              "        vertical-align: middle;\n",
              "    }\n",
              "\n",
              "    .dataframe tbody tr th {\n",
              "        vertical-align: top;\n",
              "    }\n",
              "\n",
              "    .dataframe thead th {\n",
              "        text-align: right;\n",
              "    }\n",
              "</style>\n",
              "<table border=\"1\" class=\"dataframe\">\n",
              "  <thead>\n",
              "    <tr style=\"text-align: right;\">\n",
              "      <th></th>\n",
              "      <th>Hypothesis</th>\n",
              "      <th>Reach</th>\n",
              "      <th>Impact</th>\n",
              "      <th>Confidence</th>\n",
              "      <th>Efforts</th>\n",
              "      <th>ICE</th>\n",
              "    </tr>\n",
              "  </thead>\n",
              "  <tbody>\n",
              "    <tr>\n",
              "      <th>8</th>\n",
              "      <td>Запустить акцию, дающую скидку на товар в день рождения</td>\n",
              "      <td>1</td>\n",
              "      <td>9</td>\n",
              "      <td>9</td>\n",
              "      <td>5</td>\n",
              "      <td>16.200000</td>\n",
              "    </tr>\n",
              "    <tr>\n",
              "      <th>0</th>\n",
              "      <td>Добавить два новых канала привлечения трафика, что позволит привлекать на 30% больше пользователей</td>\n",
              "      <td>3</td>\n",
              "      <td>10</td>\n",
              "      <td>8</td>\n",
              "      <td>6</td>\n",
              "      <td>13.333333</td>\n",
              "    </tr>\n",
              "    <tr>\n",
              "      <th>7</th>\n",
              "      <td>Добавить форму подписки на все основные страницы, чтобы собрать базу клиентов для email-рассылок</td>\n",
              "      <td>10</td>\n",
              "      <td>7</td>\n",
              "      <td>8</td>\n",
              "      <td>5</td>\n",
              "      <td>11.200000</td>\n",
              "    </tr>\n",
              "    <tr>\n",
              "      <th>6</th>\n",
              "      <td>Показать на главной странице баннеры с актуальными акциями и распродажами, чтобы увеличить конверсию</td>\n",
              "      <td>5</td>\n",
              "      <td>3</td>\n",
              "      <td>8</td>\n",
              "      <td>3</td>\n",
              "      <td>8.000000</td>\n",
              "    </tr>\n",
              "    <tr>\n",
              "      <th>2</th>\n",
              "      <td>Добавить блоки рекомендаций товаров на сайт интернет магазина, чтобы повысить конверсию и средний чек заказа</td>\n",
              "      <td>8</td>\n",
              "      <td>3</td>\n",
              "      <td>7</td>\n",
              "      <td>3</td>\n",
              "      <td>7.000000</td>\n",
              "    </tr>\n",
              "    <tr>\n",
              "      <th>1</th>\n",
              "      <td>Запустить собственную службу доставки, что сократит срок доставки заказов</td>\n",
              "      <td>2</td>\n",
              "      <td>5</td>\n",
              "      <td>4</td>\n",
              "      <td>10</td>\n",
              "      <td>2.000000</td>\n",
              "    </tr>\n",
              "    <tr>\n",
              "      <th>5</th>\n",
              "      <td>Добавить страницу отзывов клиентов о магазине, что позволит увеличить количество заказов</td>\n",
              "      <td>3</td>\n",
              "      <td>2</td>\n",
              "      <td>2</td>\n",
              "      <td>3</td>\n",
              "      <td>1.333333</td>\n",
              "    </tr>\n",
              "    <tr>\n",
              "      <th>3</th>\n",
              "      <td>Изменить структура категорий, что увеличит конверсию, т.к. пользователи быстрее найдут нужный товар</td>\n",
              "      <td>8</td>\n",
              "      <td>3</td>\n",
              "      <td>3</td>\n",
              "      <td>8</td>\n",
              "      <td>1.125000</td>\n",
              "    </tr>\n",
              "    <tr>\n",
              "      <th>4</th>\n",
              "      <td>Изменить цвет фона главной страницы, чтобы увеличить вовлеченность пользователей</td>\n",
              "      <td>3</td>\n",
              "      <td>1</td>\n",
              "      <td>1</td>\n",
              "      <td>1</td>\n",
              "      <td>1.000000</td>\n",
              "    </tr>\n",
              "  </tbody>\n",
              "</table>\n",
              "</div>"
            ],
            "text/plain": [
              "                                                                                                     Hypothesis  \\\n",
              "8                                                       Запустить акцию, дающую скидку на товар в день рождения   \n",
              "0            Добавить два новых канала привлечения трафика, что позволит привлекать на 30% больше пользователей   \n",
              "7              Добавить форму подписки на все основные страницы, чтобы собрать базу клиентов для email-рассылок   \n",
              "6          Показать на главной странице баннеры с актуальными акциями и распродажами, чтобы увеличить конверсию   \n",
              "2  Добавить блоки рекомендаций товаров на сайт интернет магазина, чтобы повысить конверсию и средний чек заказа   \n",
              "1                                     Запустить собственную службу доставки, что сократит срок доставки заказов   \n",
              "5                      Добавить страницу отзывов клиентов о магазине, что позволит увеличить количество заказов   \n",
              "3           Изменить структура категорий, что увеличит конверсию, т.к. пользователи быстрее найдут нужный товар   \n",
              "4                              Изменить цвет фона главной страницы, чтобы увеличить вовлеченность пользователей   \n",
              "\n",
              "   Reach  Impact  Confidence  Efforts        ICE  \n",
              "8      1       9           9        5  16.200000  \n",
              "0      3      10           8        6  13.333333  \n",
              "7     10       7           8        5  11.200000  \n",
              "6      5       3           8        3   8.000000  \n",
              "2      8       3           7        3   7.000000  \n",
              "1      2       5           4       10   2.000000  \n",
              "5      3       2           2        3   1.333333  \n",
              "3      8       3           3        8   1.125000  \n",
              "4      3       1           1        1   1.000000  "
            ]
          },
          "metadata": {},
          "output_type": "display_data"
        }
      ],
      "source": [
        "hypothesis['ICE'] = hypothesis['Impact']*hypothesis['Confidence']/hypothesis['Efforts']\n",
        "pd.options.display.max_colwidth = 150\n",
        "display(hypothesis.sort_values(by='ICE',ascending=False))"
      ]
    },
    {
      "cell_type": "markdown",
      "metadata": {
        "id": "-DIBUDnHjK02"
      },
      "source": [
        "Согласно фреймворку ICE самыми приоритетными гипотезами будут запуск скидок на день рождения и добавление двух новых каналов привлечения."
      ]
    },
    {
      "cell_type": "markdown",
      "metadata": {
        "id": "BDNWADyZjK02"
      },
      "source": [
        "Считаем приоритетность гипотез по фреймворку RICE, как произведение параметров Reach, Impact и Confidence, деленное на Efforts."
      ]
    },
    {
      "cell_type": "code",
      "execution_count": null,
      "metadata": {
        "scrolled": true,
        "id": "Tq7nKt1CjK02",
        "outputId": "4c5eb394-0df1-4f7e-e921-30efa2934ec2"
      },
      "outputs": [
        {
          "data": {
            "text/html": [
              "<div>\n",
              "<style scoped>\n",
              "    .dataframe tbody tr th:only-of-type {\n",
              "        vertical-align: middle;\n",
              "    }\n",
              "\n",
              "    .dataframe tbody tr th {\n",
              "        vertical-align: top;\n",
              "    }\n",
              "\n",
              "    .dataframe thead th {\n",
              "        text-align: right;\n",
              "    }\n",
              "</style>\n",
              "<table border=\"1\" class=\"dataframe\">\n",
              "  <thead>\n",
              "    <tr style=\"text-align: right;\">\n",
              "      <th></th>\n",
              "      <th>Hypothesis</th>\n",
              "      <th>Reach</th>\n",
              "      <th>Impact</th>\n",
              "      <th>Confidence</th>\n",
              "      <th>Efforts</th>\n",
              "      <th>ICE</th>\n",
              "      <th>RICE</th>\n",
              "    </tr>\n",
              "  </thead>\n",
              "  <tbody>\n",
              "    <tr>\n",
              "      <th>7</th>\n",
              "      <td>Добавить форму подписки на все основные страницы, чтобы собрать базу клиентов для email-рассылок</td>\n",
              "      <td>10</td>\n",
              "      <td>7</td>\n",
              "      <td>8</td>\n",
              "      <td>5</td>\n",
              "      <td>11.200000</td>\n",
              "      <td>112.0</td>\n",
              "    </tr>\n",
              "    <tr>\n",
              "      <th>2</th>\n",
              "      <td>Добавить блоки рекомендаций товаров на сайт интернет магазина, чтобы повысить конверсию и средний чек заказа</td>\n",
              "      <td>8</td>\n",
              "      <td>3</td>\n",
              "      <td>7</td>\n",
              "      <td>3</td>\n",
              "      <td>7.000000</td>\n",
              "      <td>56.0</td>\n",
              "    </tr>\n",
              "    <tr>\n",
              "      <th>0</th>\n",
              "      <td>Добавить два новых канала привлечения трафика, что позволит привлекать на 30% больше пользователей</td>\n",
              "      <td>3</td>\n",
              "      <td>10</td>\n",
              "      <td>8</td>\n",
              "      <td>6</td>\n",
              "      <td>13.333333</td>\n",
              "      <td>40.0</td>\n",
              "    </tr>\n",
              "    <tr>\n",
              "      <th>6</th>\n",
              "      <td>Показать на главной странице баннеры с актуальными акциями и распродажами, чтобы увеличить конверсию</td>\n",
              "      <td>5</td>\n",
              "      <td>3</td>\n",
              "      <td>8</td>\n",
              "      <td>3</td>\n",
              "      <td>8.000000</td>\n",
              "      <td>40.0</td>\n",
              "    </tr>\n",
              "    <tr>\n",
              "      <th>8</th>\n",
              "      <td>Запустить акцию, дающую скидку на товар в день рождения</td>\n",
              "      <td>1</td>\n",
              "      <td>9</td>\n",
              "      <td>9</td>\n",
              "      <td>5</td>\n",
              "      <td>16.200000</td>\n",
              "      <td>16.2</td>\n",
              "    </tr>\n",
              "    <tr>\n",
              "      <th>3</th>\n",
              "      <td>Изменить структура категорий, что увеличит конверсию, т.к. пользователи быстрее найдут нужный товар</td>\n",
              "      <td>8</td>\n",
              "      <td>3</td>\n",
              "      <td>3</td>\n",
              "      <td>8</td>\n",
              "      <td>1.125000</td>\n",
              "      <td>9.0</td>\n",
              "    </tr>\n",
              "    <tr>\n",
              "      <th>1</th>\n",
              "      <td>Запустить собственную службу доставки, что сократит срок доставки заказов</td>\n",
              "      <td>2</td>\n",
              "      <td>5</td>\n",
              "      <td>4</td>\n",
              "      <td>10</td>\n",
              "      <td>2.000000</td>\n",
              "      <td>4.0</td>\n",
              "    </tr>\n",
              "    <tr>\n",
              "      <th>5</th>\n",
              "      <td>Добавить страницу отзывов клиентов о магазине, что позволит увеличить количество заказов</td>\n",
              "      <td>3</td>\n",
              "      <td>2</td>\n",
              "      <td>2</td>\n",
              "      <td>3</td>\n",
              "      <td>1.333333</td>\n",
              "      <td>4.0</td>\n",
              "    </tr>\n",
              "    <tr>\n",
              "      <th>4</th>\n",
              "      <td>Изменить цвет фона главной страницы, чтобы увеличить вовлеченность пользователей</td>\n",
              "      <td>3</td>\n",
              "      <td>1</td>\n",
              "      <td>1</td>\n",
              "      <td>1</td>\n",
              "      <td>1.000000</td>\n",
              "      <td>3.0</td>\n",
              "    </tr>\n",
              "  </tbody>\n",
              "</table>\n",
              "</div>"
            ],
            "text/plain": [
              "                                                                                                     Hypothesis  \\\n",
              "7              Добавить форму подписки на все основные страницы, чтобы собрать базу клиентов для email-рассылок   \n",
              "2  Добавить блоки рекомендаций товаров на сайт интернет магазина, чтобы повысить конверсию и средний чек заказа   \n",
              "0            Добавить два новых канала привлечения трафика, что позволит привлекать на 30% больше пользователей   \n",
              "6          Показать на главной странице баннеры с актуальными акциями и распродажами, чтобы увеличить конверсию   \n",
              "8                                                       Запустить акцию, дающую скидку на товар в день рождения   \n",
              "3           Изменить структура категорий, что увеличит конверсию, т.к. пользователи быстрее найдут нужный товар   \n",
              "1                                     Запустить собственную службу доставки, что сократит срок доставки заказов   \n",
              "5                      Добавить страницу отзывов клиентов о магазине, что позволит увеличить количество заказов   \n",
              "4                              Изменить цвет фона главной страницы, чтобы увеличить вовлеченность пользователей   \n",
              "\n",
              "   Reach  Impact  Confidence  Efforts        ICE   RICE  \n",
              "7     10       7           8        5  11.200000  112.0  \n",
              "2      8       3           7        3   7.000000   56.0  \n",
              "0      3      10           8        6  13.333333   40.0  \n",
              "6      5       3           8        3   8.000000   40.0  \n",
              "8      1       9           9        5  16.200000   16.2  \n",
              "3      8       3           3        8   1.125000    9.0  \n",
              "1      2       5           4       10   2.000000    4.0  \n",
              "5      3       2           2        3   1.333333    4.0  \n",
              "4      3       1           1        1   1.000000    3.0  "
            ]
          },
          "execution_count": 4,
          "metadata": {},
          "output_type": "execute_result"
        }
      ],
      "source": [
        "hypothesis['RICE'] = hypothesis['Reach']*hypothesis['Impact']*hypothesis['Confidence']/hypothesis['Efforts']\n",
        "pd.options.display.max_colwidth = 150\n",
        "hypothesis.sort_values(by='RICE',ascending=False)"
      ]
    },
    {
      "cell_type": "markdown",
      "metadata": {
        "id": "3t7E9sqLjK02"
      },
      "source": [
        "Согласно RICE самыми приоритетными задачами будут добавление формы подписки на все основные страницы и блоков рекомендаций товаров."
      ]
    },
    {
      "cell_type": "markdown",
      "metadata": {
        "id": "Vg2Po3qkjK02"
      },
      "source": [
        "Так как у первых гипотез, ранжированных по фреймворку RICE, параметр reach заметно больше первых гипотез, сортированных по ICE, а остальные параметры сопоставимы, следует приоритезировать первые, то есть добавление формы подписки на все основные страницы и добавление блоков рекомендаций."
      ]
    },
    {
      "cell_type": "markdown",
      "metadata": {
        "id": "siXpFTIhjK03"
      },
      "source": [
        "Когда мы считаем приоритетность гипотез с помощью фреймворка RICE, мы учитываем количество пользователей, которых затронет изменение, в отличие от ICE. Поэтому при применении RICE на первые места вышли те гипотезы, которые затронут наибольшее количество клиентов."
      ]
    },
    {
      "cell_type": "markdown",
      "metadata": {
        "id": "99ywECkSjK03"
      },
      "source": [
        "## Анализ результатов A/B-теста"
      ]
    },
    {
      "cell_type": "code",
      "execution_count": null,
      "metadata": {
        "id": "y2UbEu96jK03",
        "outputId": "9d8e4654-8728-40b1-fe59-125757cb2418"
      },
      "outputs": [
        {
          "data": {
            "text/html": [
              "<div>\n",
              "<style scoped>\n",
              "    .dataframe tbody tr th:only-of-type {\n",
              "        vertical-align: middle;\n",
              "    }\n",
              "\n",
              "    .dataframe tbody tr th {\n",
              "        vertical-align: top;\n",
              "    }\n",
              "\n",
              "    .dataframe thead th {\n",
              "        text-align: right;\n",
              "    }\n",
              "</style>\n",
              "<table border=\"1\" class=\"dataframe\">\n",
              "  <thead>\n",
              "    <tr style=\"text-align: right;\">\n",
              "      <th></th>\n",
              "      <th>transactionId</th>\n",
              "      <th>visitorId</th>\n",
              "      <th>date</th>\n",
              "      <th>revenue</th>\n",
              "      <th>group</th>\n",
              "    </tr>\n",
              "  </thead>\n",
              "  <tbody>\n",
              "    <tr>\n",
              "      <th>0</th>\n",
              "      <td>3667963787</td>\n",
              "      <td>3312258926</td>\n",
              "      <td>2019-08-15</td>\n",
              "      <td>1650</td>\n",
              "      <td>B</td>\n",
              "    </tr>\n",
              "    <tr>\n",
              "      <th>1</th>\n",
              "      <td>2804400009</td>\n",
              "      <td>3642806036</td>\n",
              "      <td>2019-08-15</td>\n",
              "      <td>730</td>\n",
              "      <td>B</td>\n",
              "    </tr>\n",
              "    <tr>\n",
              "      <th>2</th>\n",
              "      <td>2961555356</td>\n",
              "      <td>4069496402</td>\n",
              "      <td>2019-08-15</td>\n",
              "      <td>400</td>\n",
              "      <td>A</td>\n",
              "    </tr>\n",
              "    <tr>\n",
              "      <th>3</th>\n",
              "      <td>3797467345</td>\n",
              "      <td>1196621759</td>\n",
              "      <td>2019-08-15</td>\n",
              "      <td>9759</td>\n",
              "      <td>B</td>\n",
              "    </tr>\n",
              "    <tr>\n",
              "      <th>4</th>\n",
              "      <td>2282983706</td>\n",
              "      <td>2322279887</td>\n",
              "      <td>2019-08-15</td>\n",
              "      <td>2308</td>\n",
              "      <td>B</td>\n",
              "    </tr>\n",
              "  </tbody>\n",
              "</table>\n",
              "</div>"
            ],
            "text/plain": [
              "   transactionId   visitorId        date  revenue group\n",
              "0     3667963787  3312258926  2019-08-15     1650     B\n",
              "1     2804400009  3642806036  2019-08-15      730     B\n",
              "2     2961555356  4069496402  2019-08-15      400     A\n",
              "3     3797467345  1196621759  2019-08-15     9759     B\n",
              "4     2282983706  2322279887  2019-08-15     2308     B"
            ]
          },
          "metadata": {},
          "output_type": "display_data"
        },
        {
          "data": {
            "text/plain": [
              "array(['2019-08-15', '2019-08-16', '2019-08-01', '2019-08-22',\n",
              "       '2019-08-17', '2019-08-23', '2019-08-02', '2019-08-18',\n",
              "       '2019-08-24', '2019-08-03', '2019-08-25', '2019-08-28',\n",
              "       '2019-08-19', '2019-08-06', '2019-08-26', '2019-08-29',\n",
              "       '2019-08-04', '2019-08-20', '2019-08-09', '2019-08-07',\n",
              "       '2019-08-30', '2019-08-05', '2019-08-27', '2019-08-21',\n",
              "       '2019-08-08', '2019-08-10', '2019-08-31', '2019-08-11',\n",
              "       '2019-08-12', '2019-08-13', '2019-08-14'], dtype=object)"
            ]
          },
          "execution_count": 5,
          "metadata": {},
          "output_type": "execute_result"
        }
      ],
      "source": [
        "orders = pd.read_csv('/datasets/orders.csv')\n",
        "\n",
        "display(orders.head(5))\n",
        "\n",
        "orders['date'].unique()"
      ]
    },
    {
      "cell_type": "code",
      "execution_count": null,
      "metadata": {
        "id": "dYcSxqv8jK03",
        "outputId": "517709ab-4a26-456b-97c0-f4cc41c396da"
      },
      "outputs": [
        {
          "name": "stdout",
          "output_type": "stream",
          "text": [
            "<class 'pandas.core.frame.DataFrame'>\n",
            "RangeIndex: 1197 entries, 0 to 1196\n",
            "Data columns (total 5 columns):\n",
            " #   Column         Non-Null Count  Dtype \n",
            "---  ------         --------------  ----- \n",
            " 0   transactionId  1197 non-null   int64 \n",
            " 1   visitorId      1197 non-null   int64 \n",
            " 2   date           1197 non-null   object\n",
            " 3   revenue        1197 non-null   int64 \n",
            " 4   group          1197 non-null   object\n",
            "dtypes: int64(3), object(2)\n",
            "memory usage: 46.9+ KB\n"
          ]
        }
      ],
      "source": [
        "orders.info()"
      ]
    },
    {
      "cell_type": "code",
      "execution_count": null,
      "metadata": {
        "id": "flT-bY-7jK03",
        "outputId": "c0f5b4ff-9909-4ec1-c192-7143b4e3e685"
      },
      "outputs": [
        {
          "data": {
            "text/html": [
              "<div>\n",
              "<style scoped>\n",
              "    .dataframe tbody tr th:only-of-type {\n",
              "        vertical-align: middle;\n",
              "    }\n",
              "\n",
              "    .dataframe tbody tr th {\n",
              "        vertical-align: top;\n",
              "    }\n",
              "\n",
              "    .dataframe thead th {\n",
              "        text-align: right;\n",
              "    }\n",
              "</style>\n",
              "<table border=\"1\" class=\"dataframe\">\n",
              "  <thead>\n",
              "    <tr style=\"text-align: right;\">\n",
              "      <th></th>\n",
              "      <th>date</th>\n",
              "      <th>group</th>\n",
              "      <th>visitors</th>\n",
              "    </tr>\n",
              "  </thead>\n",
              "  <tbody>\n",
              "    <tr>\n",
              "      <th>0</th>\n",
              "      <td>2019-08-01</td>\n",
              "      <td>A</td>\n",
              "      <td>719</td>\n",
              "    </tr>\n",
              "    <tr>\n",
              "      <th>1</th>\n",
              "      <td>2019-08-02</td>\n",
              "      <td>A</td>\n",
              "      <td>619</td>\n",
              "    </tr>\n",
              "    <tr>\n",
              "      <th>2</th>\n",
              "      <td>2019-08-03</td>\n",
              "      <td>A</td>\n",
              "      <td>507</td>\n",
              "    </tr>\n",
              "    <tr>\n",
              "      <th>3</th>\n",
              "      <td>2019-08-04</td>\n",
              "      <td>A</td>\n",
              "      <td>717</td>\n",
              "    </tr>\n",
              "    <tr>\n",
              "      <th>4</th>\n",
              "      <td>2019-08-05</td>\n",
              "      <td>A</td>\n",
              "      <td>756</td>\n",
              "    </tr>\n",
              "  </tbody>\n",
              "</table>\n",
              "</div>"
            ],
            "text/plain": [
              "         date group  visitors\n",
              "0  2019-08-01     A       719\n",
              "1  2019-08-02     A       619\n",
              "2  2019-08-03     A       507\n",
              "3  2019-08-04     A       717\n",
              "4  2019-08-05     A       756"
            ]
          },
          "execution_count": 7,
          "metadata": {},
          "output_type": "execute_result"
        }
      ],
      "source": [
        "visitors = pd.read_csv('/datasets/visitors.csv')\n",
        "\n",
        "visitors.head(5)"
      ]
    },
    {
      "cell_type": "code",
      "execution_count": null,
      "metadata": {
        "id": "okcfNl9SjK04",
        "outputId": "4f9f73d9-9ff4-4ad1-fc5d-535d4cb517bc"
      },
      "outputs": [
        {
          "name": "stdout",
          "output_type": "stream",
          "text": [
            "<class 'pandas.core.frame.DataFrame'>\n",
            "RangeIndex: 62 entries, 0 to 61\n",
            "Data columns (total 3 columns):\n",
            " #   Column    Non-Null Count  Dtype \n",
            "---  ------    --------------  ----- \n",
            " 0   date      62 non-null     object\n",
            " 1   group     62 non-null     object\n",
            " 2   visitors  62 non-null     int64 \n",
            "dtypes: int64(1), object(2)\n",
            "memory usage: 1.6+ KB\n"
          ]
        }
      ],
      "source": [
        "visitors.info()"
      ]
    },
    {
      "cell_type": "markdown",
      "metadata": {
        "id": "zzr2egSQjK04"
      },
      "source": [
        "Имеем две таблицы: таблица с информацией о заказах и о покупателях. В первой хранятся идентификаторы покупателей, транзакций, а также дата и группа, в которой находится данный покупатель. Во второй таблице данные о количестве покупателей в указанную дату и группа, к которой они принадлежат.\n",
        "\n",
        "Рассматриваемый период - август 2019-ого года."
      ]
    },
    {
      "cell_type": "code",
      "execution_count": null,
      "metadata": {
        "id": "Ybt3RNF9jK04",
        "outputId": "cc67bb8d-d698-459f-a965-433cfec6d174"
      },
      "outputs": [
        {
          "name": "stdout",
          "output_type": "stream",
          "text": [
            "0\n",
            "0\n"
          ]
        }
      ],
      "source": [
        "print(orders.duplicated().sum())\n",
        "\n",
        "print(visitors.duplicated().sum())"
      ]
    },
    {
      "cell_type": "code",
      "execution_count": null,
      "metadata": {
        "id": "eh1Yu2odjK04",
        "outputId": "75000b04-5bd3-4a04-9c84-2e19d0f85d6c"
      },
      "outputs": [
        {
          "name": "stdout",
          "output_type": "stream",
          "text": [
            "transactionId    0\n",
            "visitorId        0\n",
            "date             0\n",
            "revenue          0\n",
            "group            0\n",
            "dtype: int64\n",
            "date        0\n",
            "group       0\n",
            "visitors    0\n",
            "dtype: int64\n"
          ]
        }
      ],
      "source": [
        "print(orders.isna().sum())\n",
        "\n",
        "print(visitors.isna().sum())"
      ]
    },
    {
      "cell_type": "markdown",
      "metadata": {
        "id": "L3-9lyxFjK04"
      },
      "source": [
        "Пропусков и дубликатов нет."
      ]
    },
    {
      "cell_type": "code",
      "execution_count": null,
      "metadata": {
        "id": "iG6xz3ryjK05",
        "outputId": "8de593b7-8fb2-4de9-e5cc-f35e9154e0a6"
      },
      "outputs": [
        {
          "data": {
            "text/html": [
              "<div>\n",
              "<style scoped>\n",
              "    .dataframe tbody tr th:only-of-type {\n",
              "        vertical-align: middle;\n",
              "    }\n",
              "\n",
              "    .dataframe tbody tr th {\n",
              "        vertical-align: top;\n",
              "    }\n",
              "\n",
              "    .dataframe thead th {\n",
              "        text-align: right;\n",
              "    }\n",
              "</style>\n",
              "<table border=\"1\" class=\"dataframe\">\n",
              "  <thead>\n",
              "    <tr style=\"text-align: right;\">\n",
              "      <th></th>\n",
              "      <th>transactionId</th>\n",
              "      <th>visitorId</th>\n",
              "      <th>date</th>\n",
              "      <th>revenue</th>\n",
              "      <th>group</th>\n",
              "    </tr>\n",
              "  </thead>\n",
              "  <tbody>\n",
              "    <tr>\n",
              "      <th>20</th>\n",
              "      <td>2904772834</td>\n",
              "      <td>963407295</td>\n",
              "      <td>2019-08-15</td>\n",
              "      <td>300</td>\n",
              "      <td>B</td>\n",
              "    </tr>\n",
              "    <tr>\n",
              "      <th>1183</th>\n",
              "      <td>1458356232</td>\n",
              "      <td>963407295</td>\n",
              "      <td>2019-08-14</td>\n",
              "      <td>4940</td>\n",
              "      <td>A</td>\n",
              "    </tr>\n",
              "  </tbody>\n",
              "</table>\n",
              "</div>"
            ],
            "text/plain": [
              "      transactionId  visitorId        date  revenue group\n",
              "20       2904772834  963407295  2019-08-15      300     B\n",
              "1183     1458356232  963407295  2019-08-14     4940     A"
            ]
          },
          "metadata": {},
          "output_type": "display_data"
        },
        {
          "data": {
            "text/html": [
              "<div>\n",
              "<style scoped>\n",
              "    .dataframe tbody tr th:only-of-type {\n",
              "        vertical-align: middle;\n",
              "    }\n",
              "\n",
              "    .dataframe tbody tr th {\n",
              "        vertical-align: top;\n",
              "    }\n",
              "\n",
              "    .dataframe thead th {\n",
              "        text-align: right;\n",
              "    }\n",
              "</style>\n",
              "<table border=\"1\" class=\"dataframe\">\n",
              "  <thead>\n",
              "    <tr style=\"text-align: right;\">\n",
              "      <th></th>\n",
              "      <th>transactionId</th>\n",
              "      <th>visitorId</th>\n",
              "      <th>date</th>\n",
              "      <th>revenue</th>\n",
              "      <th>group</th>\n",
              "    </tr>\n",
              "  </thead>\n",
              "  <tbody>\n",
              "    <tr>\n",
              "      <th>23</th>\n",
              "      <td>4252514150</td>\n",
              "      <td>351125977</td>\n",
              "      <td>2019-08-15</td>\n",
              "      <td>15185</td>\n",
              "      <td>B</td>\n",
              "    </tr>\n",
              "    <tr>\n",
              "      <th>453</th>\n",
              "      <td>3075639014</td>\n",
              "      <td>351125977</td>\n",
              "      <td>2019-08-06</td>\n",
              "      <td>4485</td>\n",
              "      <td>A</td>\n",
              "    </tr>\n",
              "  </tbody>\n",
              "</table>\n",
              "</div>"
            ],
            "text/plain": [
              "     transactionId  visitorId        date  revenue group\n",
              "23      4252514150  351125977  2019-08-15    15185     B\n",
              "453     3075639014  351125977  2019-08-06     4485     A"
            ]
          },
          "metadata": {},
          "output_type": "display_data"
        },
        {
          "data": {
            "text/html": [
              "<div>\n",
              "<style scoped>\n",
              "    .dataframe tbody tr th:only-of-type {\n",
              "        vertical-align: middle;\n",
              "    }\n",
              "\n",
              "    .dataframe tbody tr th {\n",
              "        vertical-align: top;\n",
              "    }\n",
              "\n",
              "    .dataframe thead th {\n",
              "        text-align: right;\n",
              "    }\n",
              "</style>\n",
              "<table border=\"1\" class=\"dataframe\">\n",
              "  <thead>\n",
              "    <tr style=\"text-align: right;\">\n",
              "      <th></th>\n",
              "      <th>transactionId</th>\n",
              "      <th>visitorId</th>\n",
              "      <th>date</th>\n",
              "      <th>revenue</th>\n",
              "      <th>group</th>\n",
              "    </tr>\n",
              "  </thead>\n",
              "  <tbody>\n",
              "    <tr>\n",
              "      <th>24</th>\n",
              "      <td>1162046357</td>\n",
              "      <td>3234906277</td>\n",
              "      <td>2019-08-15</td>\n",
              "      <td>7555</td>\n",
              "      <td>B</td>\n",
              "    </tr>\n",
              "    <tr>\n",
              "      <th>249</th>\n",
              "      <td>1360774578</td>\n",
              "      <td>3234906277</td>\n",
              "      <td>2019-08-18</td>\n",
              "      <td>7555</td>\n",
              "      <td>A</td>\n",
              "    </tr>\n",
              "  </tbody>\n",
              "</table>\n",
              "</div>"
            ],
            "text/plain": [
              "     transactionId   visitorId        date  revenue group\n",
              "24      1162046357  3234906277  2019-08-15     7555     B\n",
              "249     1360774578  3234906277  2019-08-18     7555     A"
            ]
          },
          "metadata": {},
          "output_type": "display_data"
        },
        {
          "data": {
            "text/html": [
              "<div>\n",
              "<style scoped>\n",
              "    .dataframe tbody tr th:only-of-type {\n",
              "        vertical-align: middle;\n",
              "    }\n",
              "\n",
              "    .dataframe tbody tr th {\n",
              "        vertical-align: top;\n",
              "    }\n",
              "\n",
              "    .dataframe thead th {\n",
              "        text-align: right;\n",
              "    }\n",
              "</style>\n",
              "<table border=\"1\" class=\"dataframe\">\n",
              "  <thead>\n",
              "    <tr style=\"text-align: right;\">\n",
              "      <th></th>\n",
              "      <th>transactionId</th>\n",
              "      <th>visitorId</th>\n",
              "      <th>date</th>\n",
              "      <th>revenue</th>\n",
              "      <th>group</th>\n",
              "    </tr>\n",
              "  </thead>\n",
              "  <tbody>\n",
              "    <tr>\n",
              "      <th>27</th>\n",
              "      <td>1630050528</td>\n",
              "      <td>237748145</td>\n",
              "      <td>2019-08-15</td>\n",
              "      <td>7620</td>\n",
              "      <td>B</td>\n",
              "    </tr>\n",
              "    <tr>\n",
              "      <th>41</th>\n",
              "      <td>2594268419</td>\n",
              "      <td>237748145</td>\n",
              "      <td>2019-08-15</td>\n",
              "      <td>1090</td>\n",
              "      <td>A</td>\n",
              "    </tr>\n",
              "    <tr>\n",
              "      <th>590</th>\n",
              "      <td>3702128013</td>\n",
              "      <td>237748145</td>\n",
              "      <td>2019-08-20</td>\n",
              "      <td>1290</td>\n",
              "      <td>A</td>\n",
              "    </tr>\n",
              "    <tr>\n",
              "      <th>716</th>\n",
              "      <td>972407388</td>\n",
              "      <td>237748145</td>\n",
              "      <td>2019-08-27</td>\n",
              "      <td>470</td>\n",
              "      <td>A</td>\n",
              "    </tr>\n",
              "    <tr>\n",
              "      <th>1097</th>\n",
              "      <td>3357467820</td>\n",
              "      <td>237748145</td>\n",
              "      <td>2019-08-12</td>\n",
              "      <td>340</td>\n",
              "      <td>A</td>\n",
              "    </tr>\n",
              "  </tbody>\n",
              "</table>\n",
              "</div>"
            ],
            "text/plain": [
              "      transactionId  visitorId        date  revenue group\n",
              "27       1630050528  237748145  2019-08-15     7620     B\n",
              "41       2594268419  237748145  2019-08-15     1090     A\n",
              "590      3702128013  237748145  2019-08-20     1290     A\n",
              "716       972407388  237748145  2019-08-27      470     A\n",
              "1097     3357467820  237748145  2019-08-12      340     A"
            ]
          },
          "metadata": {},
          "output_type": "display_data"
        },
        {
          "data": {
            "text/html": [
              "<div>\n",
              "<style scoped>\n",
              "    .dataframe tbody tr th:only-of-type {\n",
              "        vertical-align: middle;\n",
              "    }\n",
              "\n",
              "    .dataframe tbody tr th {\n",
              "        vertical-align: top;\n",
              "    }\n",
              "\n",
              "    .dataframe thead th {\n",
              "        text-align: right;\n",
              "    }\n",
              "</style>\n",
              "<table border=\"1\" class=\"dataframe\">\n",
              "  <thead>\n",
              "    <tr style=\"text-align: right;\">\n",
              "      <th></th>\n",
              "      <th>transactionId</th>\n",
              "      <th>visitorId</th>\n",
              "      <th>date</th>\n",
              "      <th>revenue</th>\n",
              "      <th>group</th>\n",
              "    </tr>\n",
              "  </thead>\n",
              "  <tbody>\n",
              "    <tr>\n",
              "      <th>32</th>\n",
              "      <td>3666913472</td>\n",
              "      <td>2038680547</td>\n",
              "      <td>2019-08-15</td>\n",
              "      <td>1680</td>\n",
              "      <td>B</td>\n",
              "    </tr>\n",
              "    <tr>\n",
              "      <th>117</th>\n",
              "      <td>722060263</td>\n",
              "      <td>2038680547</td>\n",
              "      <td>2019-08-22</td>\n",
              "      <td>760</td>\n",
              "      <td>A</td>\n",
              "    </tr>\n",
              "    <tr>\n",
              "      <th>227</th>\n",
              "      <td>4267573899</td>\n",
              "      <td>2038680547</td>\n",
              "      <td>2019-08-17</td>\n",
              "      <td>3470</td>\n",
              "      <td>A</td>\n",
              "    </tr>\n",
              "    <tr>\n",
              "      <th>390</th>\n",
              "      <td>2415738512</td>\n",
              "      <td>2038680547</td>\n",
              "      <td>2019-08-25</td>\n",
              "      <td>270</td>\n",
              "      <td>A</td>\n",
              "    </tr>\n",
              "    <tr>\n",
              "      <th>577</th>\n",
              "      <td>3932236947</td>\n",
              "      <td>2038680547</td>\n",
              "      <td>2019-08-04</td>\n",
              "      <td>2800</td>\n",
              "      <td>B</td>\n",
              "    </tr>\n",
              "    <tr>\n",
              "      <th>578</th>\n",
              "      <td>1570911533</td>\n",
              "      <td>2038680547</td>\n",
              "      <td>2019-08-04</td>\n",
              "      <td>1530</td>\n",
              "      <td>A</td>\n",
              "    </tr>\n",
              "    <tr>\n",
              "      <th>605</th>\n",
              "      <td>1215730747</td>\n",
              "      <td>2038680547</td>\n",
              "      <td>2019-08-04</td>\n",
              "      <td>2540</td>\n",
              "      <td>A</td>\n",
              "    </tr>\n",
              "    <tr>\n",
              "      <th>624</th>\n",
              "      <td>1666104258</td>\n",
              "      <td>2038680547</td>\n",
              "      <td>2019-08-29</td>\n",
              "      <td>2420</td>\n",
              "      <td>B</td>\n",
              "    </tr>\n",
              "  </tbody>\n",
              "</table>\n",
              "</div>"
            ],
            "text/plain": [
              "     transactionId   visitorId        date  revenue group\n",
              "32      3666913472  2038680547  2019-08-15     1680     B\n",
              "117      722060263  2038680547  2019-08-22      760     A\n",
              "227     4267573899  2038680547  2019-08-17     3470     A\n",
              "390     2415738512  2038680547  2019-08-25      270     A\n",
              "577     3932236947  2038680547  2019-08-04     2800     B\n",
              "578     1570911533  2038680547  2019-08-04     1530     A\n",
              "605     1215730747  2038680547  2019-08-04     2540     A\n",
              "624     1666104258  2038680547  2019-08-29     2420     B"
            ]
          },
          "metadata": {},
          "output_type": "display_data"
        },
        {
          "data": {
            "text/html": [
              "<div>\n",
              "<style scoped>\n",
              "    .dataframe tbody tr th:only-of-type {\n",
              "        vertical-align: middle;\n",
              "    }\n",
              "\n",
              "    .dataframe tbody tr th {\n",
              "        vertical-align: top;\n",
              "    }\n",
              "\n",
              "    .dataframe thead th {\n",
              "        text-align: right;\n",
              "    }\n",
              "</style>\n",
              "<table border=\"1\" class=\"dataframe\">\n",
              "  <thead>\n",
              "    <tr style=\"text-align: right;\">\n",
              "      <th></th>\n",
              "      <th>transactionId</th>\n",
              "      <th>visitorId</th>\n",
              "      <th>date</th>\n",
              "      <th>revenue</th>\n",
              "      <th>group</th>\n",
              "    </tr>\n",
              "  </thead>\n",
              "  <tbody>\n",
              "    <tr>\n",
              "      <th>60</th>\n",
              "      <td>1421016313</td>\n",
              "      <td>4256040402</td>\n",
              "      <td>2019-08-16</td>\n",
              "      <td>56650</td>\n",
              "      <td>B</td>\n",
              "    </tr>\n",
              "    <tr>\n",
              "      <th>114</th>\n",
              "      <td>1120327437</td>\n",
              "      <td>4256040402</td>\n",
              "      <td>2019-08-01</td>\n",
              "      <td>5800</td>\n",
              "      <td>A</td>\n",
              "    </tr>\n",
              "    <tr>\n",
              "      <th>187</th>\n",
              "      <td>2048878902</td>\n",
              "      <td>4256040402</td>\n",
              "      <td>2019-08-17</td>\n",
              "      <td>1550</td>\n",
              "      <td>A</td>\n",
              "    </tr>\n",
              "    <tr>\n",
              "      <th>253</th>\n",
              "      <td>1610091760</td>\n",
              "      <td>4256040402</td>\n",
              "      <td>2019-08-23</td>\n",
              "      <td>16950</td>\n",
              "      <td>A</td>\n",
              "    </tr>\n",
              "    <tr>\n",
              "      <th>263</th>\n",
              "      <td>2575861846</td>\n",
              "      <td>4256040402</td>\n",
              "      <td>2019-08-18</td>\n",
              "      <td>10970</td>\n",
              "      <td>B</td>\n",
              "    </tr>\n",
              "    <tr>\n",
              "      <th>588</th>\n",
              "      <td>3700356838</td>\n",
              "      <td>4256040402</td>\n",
              "      <td>2019-08-20</td>\n",
              "      <td>17650</td>\n",
              "      <td>A</td>\n",
              "    </tr>\n",
              "    <tr>\n",
              "      <th>873</th>\n",
              "      <td>2519737434</td>\n",
              "      <td>4256040402</td>\n",
              "      <td>2019-08-08</td>\n",
              "      <td>58220</td>\n",
              "      <td>B</td>\n",
              "    </tr>\n",
              "    <tr>\n",
              "      <th>901</th>\n",
              "      <td>3402467119</td>\n",
              "      <td>4256040402</td>\n",
              "      <td>2019-08-27</td>\n",
              "      <td>1630</td>\n",
              "      <td>A</td>\n",
              "    </tr>\n",
              "    <tr>\n",
              "      <th>1018</th>\n",
              "      <td>1415970216</td>\n",
              "      <td>4256040402</td>\n",
              "      <td>2019-08-31</td>\n",
              "      <td>5170</td>\n",
              "      <td>A</td>\n",
              "    </tr>\n",
              "    <tr>\n",
              "      <th>1019</th>\n",
              "      <td>453824282</td>\n",
              "      <td>4256040402</td>\n",
              "      <td>2019-08-31</td>\n",
              "      <td>1850</td>\n",
              "      <td>B</td>\n",
              "    </tr>\n",
              "    <tr>\n",
              "      <th>1091</th>\n",
              "      <td>750632879</td>\n",
              "      <td>4256040402</td>\n",
              "      <td>2019-08-12</td>\n",
              "      <td>50</td>\n",
              "      <td>A</td>\n",
              "    </tr>\n",
              "  </tbody>\n",
              "</table>\n",
              "</div>"
            ],
            "text/plain": [
              "      transactionId   visitorId        date  revenue group\n",
              "60       1421016313  4256040402  2019-08-16    56650     B\n",
              "114      1120327437  4256040402  2019-08-01     5800     A\n",
              "187      2048878902  4256040402  2019-08-17     1550     A\n",
              "253      1610091760  4256040402  2019-08-23    16950     A\n",
              "263      2575861846  4256040402  2019-08-18    10970     B\n",
              "588      3700356838  4256040402  2019-08-20    17650     A\n",
              "873      2519737434  4256040402  2019-08-08    58220     B\n",
              "901      3402467119  4256040402  2019-08-27     1630     A\n",
              "1018     1415970216  4256040402  2019-08-31     5170     A\n",
              "1019      453824282  4256040402  2019-08-31     1850     B\n",
              "1091      750632879  4256040402  2019-08-12       50     A"
            ]
          },
          "metadata": {},
          "output_type": "display_data"
        },
        {
          "data": {
            "text/html": [
              "<div>\n",
              "<style scoped>\n",
              "    .dataframe tbody tr th:only-of-type {\n",
              "        vertical-align: middle;\n",
              "    }\n",
              "\n",
              "    .dataframe tbody tr th {\n",
              "        vertical-align: top;\n",
              "    }\n",
              "\n",
              "    .dataframe thead th {\n",
              "        text-align: right;\n",
              "    }\n",
              "</style>\n",
              "<table border=\"1\" class=\"dataframe\">\n",
              "  <thead>\n",
              "    <tr style=\"text-align: right;\">\n",
              "      <th></th>\n",
              "      <th>transactionId</th>\n",
              "      <th>visitorId</th>\n",
              "      <th>date</th>\n",
              "      <th>revenue</th>\n",
              "      <th>group</th>\n",
              "    </tr>\n",
              "  </thead>\n",
              "  <tbody>\n",
              "    <tr>\n",
              "      <th>61</th>\n",
              "      <td>1251767592</td>\n",
              "      <td>2712142231</td>\n",
              "      <td>2019-08-16</td>\n",
              "      <td>790</td>\n",
              "      <td>B</td>\n",
              "    </tr>\n",
              "    <tr>\n",
              "      <th>1173</th>\n",
              "      <td>3612788481</td>\n",
              "      <td>2712142231</td>\n",
              "      <td>2019-08-14</td>\n",
              "      <td>2490</td>\n",
              "      <td>A</td>\n",
              "    </tr>\n",
              "  </tbody>\n",
              "</table>\n",
              "</div>"
            ],
            "text/plain": [
              "      transactionId   visitorId        date  revenue group\n",
              "61       1251767592  2712142231  2019-08-16      790     B\n",
              "1173     3612788481  2712142231  2019-08-14     2490     A"
            ]
          },
          "metadata": {},
          "output_type": "display_data"
        },
        {
          "data": {
            "text/html": [
              "<div>\n",
              "<style scoped>\n",
              "    .dataframe tbody tr th:only-of-type {\n",
              "        vertical-align: middle;\n",
              "    }\n",
              "\n",
              "    .dataframe tbody tr th {\n",
              "        vertical-align: top;\n",
              "    }\n",
              "\n",
              "    .dataframe thead th {\n",
              "        text-align: right;\n",
              "    }\n",
              "</style>\n",
              "<table border=\"1\" class=\"dataframe\">\n",
              "  <thead>\n",
              "    <tr style=\"text-align: right;\">\n",
              "      <th></th>\n",
              "      <th>transactionId</th>\n",
              "      <th>visitorId</th>\n",
              "      <th>date</th>\n",
              "      <th>revenue</th>\n",
              "      <th>group</th>\n",
              "    </tr>\n",
              "  </thead>\n",
              "  <tbody>\n",
              "    <tr>\n",
              "      <th>71</th>\n",
              "      <td>3679129301</td>\n",
              "      <td>8300375</td>\n",
              "      <td>2019-08-01</td>\n",
              "      <td>10510</td>\n",
              "      <td>B</td>\n",
              "    </tr>\n",
              "    <tr>\n",
              "      <th>703</th>\n",
              "      <td>4293855558</td>\n",
              "      <td>8300375</td>\n",
              "      <td>2019-08-07</td>\n",
              "      <td>1790</td>\n",
              "      <td>A</td>\n",
              "    </tr>\n",
              "  </tbody>\n",
              "</table>\n",
              "</div>"
            ],
            "text/plain": [
              "     transactionId  visitorId        date  revenue group\n",
              "71      3679129301    8300375  2019-08-01    10510     B\n",
              "703     4293855558    8300375  2019-08-07     1790     A"
            ]
          },
          "metadata": {},
          "output_type": "display_data"
        },
        {
          "data": {
            "text/html": [
              "<div>\n",
              "<style scoped>\n",
              "    .dataframe tbody tr th:only-of-type {\n",
              "        vertical-align: middle;\n",
              "    }\n",
              "\n",
              "    .dataframe tbody tr th {\n",
              "        vertical-align: top;\n",
              "    }\n",
              "\n",
              "    .dataframe thead th {\n",
              "        text-align: right;\n",
              "    }\n",
              "</style>\n",
              "<table border=\"1\" class=\"dataframe\">\n",
              "  <thead>\n",
              "    <tr style=\"text-align: right;\">\n",
              "      <th></th>\n",
              "      <th>transactionId</th>\n",
              "      <th>visitorId</th>\n",
              "      <th>date</th>\n",
              "      <th>revenue</th>\n",
              "      <th>group</th>\n",
              "    </tr>\n",
              "  </thead>\n",
              "  <tbody>\n",
              "    <tr>\n",
              "      <th>85</th>\n",
              "      <td>1701653566</td>\n",
              "      <td>276558944</td>\n",
              "      <td>2019-08-22</td>\n",
              "      <td>12350</td>\n",
              "      <td>B</td>\n",
              "    </tr>\n",
              "    <tr>\n",
              "      <th>1093</th>\n",
              "      <td>3894437543</td>\n",
              "      <td>276558944</td>\n",
              "      <td>2019-08-12</td>\n",
              "      <td>5050</td>\n",
              "      <td>A</td>\n",
              "    </tr>\n",
              "  </tbody>\n",
              "</table>\n",
              "</div>"
            ],
            "text/plain": [
              "      transactionId  visitorId        date  revenue group\n",
              "85       1701653566  276558944  2019-08-22    12350     B\n",
              "1093     3894437543  276558944  2019-08-12     5050     A"
            ]
          },
          "metadata": {},
          "output_type": "display_data"
        },
        {
          "data": {
            "text/html": [
              "<div>\n",
              "<style scoped>\n",
              "    .dataframe tbody tr th:only-of-type {\n",
              "        vertical-align: middle;\n",
              "    }\n",
              "\n",
              "    .dataframe tbody tr th {\n",
              "        vertical-align: top;\n",
              "    }\n",
              "\n",
              "    .dataframe thead th {\n",
              "        text-align: right;\n",
              "    }\n",
              "</style>\n",
              "<table border=\"1\" class=\"dataframe\">\n",
              "  <thead>\n",
              "    <tr style=\"text-align: right;\">\n",
              "      <th></th>\n",
              "      <th>transactionId</th>\n",
              "      <th>visitorId</th>\n",
              "      <th>date</th>\n",
              "      <th>revenue</th>\n",
              "      <th>group</th>\n",
              "    </tr>\n",
              "  </thead>\n",
              "  <tbody>\n",
              "    <tr>\n",
              "      <th>94</th>\n",
              "      <td>252633006</td>\n",
              "      <td>457167155</td>\n",
              "      <td>2019-08-22</td>\n",
              "      <td>5970</td>\n",
              "      <td>B</td>\n",
              "    </tr>\n",
              "    <tr>\n",
              "      <th>95</th>\n",
              "      <td>372616894</td>\n",
              "      <td>457167155</td>\n",
              "      <td>2019-08-22</td>\n",
              "      <td>987</td>\n",
              "      <td>B</td>\n",
              "    </tr>\n",
              "    <tr>\n",
              "      <th>256</th>\n",
              "      <td>2370268995</td>\n",
              "      <td>457167155</td>\n",
              "      <td>2019-08-23</td>\n",
              "      <td>1620</td>\n",
              "      <td>A</td>\n",
              "    </tr>\n",
              "    <tr>\n",
              "      <th>1074</th>\n",
              "      <td>3571123442</td>\n",
              "      <td>457167155</td>\n",
              "      <td>2019-08-12</td>\n",
              "      <td>1280</td>\n",
              "      <td>B</td>\n",
              "    </tr>\n",
              "  </tbody>\n",
              "</table>\n",
              "</div>"
            ],
            "text/plain": [
              "      transactionId  visitorId        date  revenue group\n",
              "94        252633006  457167155  2019-08-22     5970     B\n",
              "95        372616894  457167155  2019-08-22      987     B\n",
              "256      2370268995  457167155  2019-08-23     1620     A\n",
              "1074     3571123442  457167155  2019-08-12     1280     B"
            ]
          },
          "metadata": {},
          "output_type": "display_data"
        },
        {
          "data": {
            "text/html": [
              "<div>\n",
              "<style scoped>\n",
              "    .dataframe tbody tr th:only-of-type {\n",
              "        vertical-align: middle;\n",
              "    }\n",
              "\n",
              "    .dataframe tbody tr th {\n",
              "        vertical-align: top;\n",
              "    }\n",
              "\n",
              "    .dataframe thead th {\n",
              "        text-align: right;\n",
              "    }\n",
              "</style>\n",
              "<table border=\"1\" class=\"dataframe\">\n",
              "  <thead>\n",
              "    <tr style=\"text-align: right;\">\n",
              "      <th></th>\n",
              "      <th>transactionId</th>\n",
              "      <th>visitorId</th>\n",
              "      <th>date</th>\n",
              "      <th>revenue</th>\n",
              "      <th>group</th>\n",
              "    </tr>\n",
              "  </thead>\n",
              "  <tbody>\n",
              "    <tr>\n",
              "      <th>111</th>\n",
              "      <td>2736731761</td>\n",
              "      <td>3062433592</td>\n",
              "      <td>2019-08-01</td>\n",
              "      <td>14489</td>\n",
              "      <td>B</td>\n",
              "    </tr>\n",
              "    <tr>\n",
              "      <th>112</th>\n",
              "      <td>1638982251</td>\n",
              "      <td>3062433592</td>\n",
              "      <td>2019-08-01</td>\n",
              "      <td>8470</td>\n",
              "      <td>B</td>\n",
              "    </tr>\n",
              "    <tr>\n",
              "      <th>1096</th>\n",
              "      <td>3075787818</td>\n",
              "      <td>3062433592</td>\n",
              "      <td>2019-08-12</td>\n",
              "      <td>32610</td>\n",
              "      <td>B</td>\n",
              "    </tr>\n",
              "    <tr>\n",
              "      <th>1098</th>\n",
              "      <td>1092419081</td>\n",
              "      <td>3062433592</td>\n",
              "      <td>2019-08-12</td>\n",
              "      <td>16920</td>\n",
              "      <td>A</td>\n",
              "    </tr>\n",
              "    <tr>\n",
              "      <th>1100</th>\n",
              "      <td>1671551244</td>\n",
              "      <td>3062433592</td>\n",
              "      <td>2019-08-12</td>\n",
              "      <td>2970</td>\n",
              "      <td>B</td>\n",
              "    </tr>\n",
              "  </tbody>\n",
              "</table>\n",
              "</div>"
            ],
            "text/plain": [
              "      transactionId   visitorId        date  revenue group\n",
              "111      2736731761  3062433592  2019-08-01    14489     B\n",
              "112      1638982251  3062433592  2019-08-01     8470     B\n",
              "1096     3075787818  3062433592  2019-08-12    32610     B\n",
              "1098     1092419081  3062433592  2019-08-12    16920     A\n",
              "1100     1671551244  3062433592  2019-08-12     2970     B"
            ]
          },
          "metadata": {},
          "output_type": "display_data"
        },
        {
          "data": {
            "text/html": [
              "<div>\n",
              "<style scoped>\n",
              "    .dataframe tbody tr th:only-of-type {\n",
              "        vertical-align: middle;\n",
              "    }\n",
              "\n",
              "    .dataframe tbody tr th {\n",
              "        vertical-align: top;\n",
              "    }\n",
              "\n",
              "    .dataframe thead th {\n",
              "        text-align: right;\n",
              "    }\n",
              "</style>\n",
              "<table border=\"1\" class=\"dataframe\">\n",
              "  <thead>\n",
              "    <tr style=\"text-align: right;\">\n",
              "      <th></th>\n",
              "      <th>transactionId</th>\n",
              "      <th>visitorId</th>\n",
              "      <th>date</th>\n",
              "      <th>revenue</th>\n",
              "      <th>group</th>\n",
              "    </tr>\n",
              "  </thead>\n",
              "  <tbody>\n",
              "    <tr>\n",
              "      <th>139</th>\n",
              "      <td>4141167864</td>\n",
              "      <td>2716752286</td>\n",
              "      <td>2019-08-01</td>\n",
              "      <td>7990</td>\n",
              "      <td>B</td>\n",
              "    </tr>\n",
              "    <tr>\n",
              "      <th>197</th>\n",
              "      <td>2632798290</td>\n",
              "      <td>2716752286</td>\n",
              "      <td>2019-08-02</td>\n",
              "      <td>2220</td>\n",
              "      <td>A</td>\n",
              "    </tr>\n",
              "  </tbody>\n",
              "</table>\n",
              "</div>"
            ],
            "text/plain": [
              "     transactionId   visitorId        date  revenue group\n",
              "139     4141167864  2716752286  2019-08-01     7990     B\n",
              "197     2632798290  2716752286  2019-08-02     2220     A"
            ]
          },
          "metadata": {},
          "output_type": "display_data"
        },
        {
          "data": {
            "text/html": [
              "<div>\n",
              "<style scoped>\n",
              "    .dataframe tbody tr th:only-of-type {\n",
              "        vertical-align: middle;\n",
              "    }\n",
              "\n",
              "    .dataframe tbody tr th {\n",
              "        vertical-align: top;\n",
              "    }\n",
              "\n",
              "    .dataframe thead th {\n",
              "        text-align: right;\n",
              "    }\n",
              "</style>\n",
              "<table border=\"1\" class=\"dataframe\">\n",
              "  <thead>\n",
              "    <tr style=\"text-align: right;\">\n",
              "      <th></th>\n",
              "      <th>transactionId</th>\n",
              "      <th>visitorId</th>\n",
              "      <th>date</th>\n",
              "      <th>revenue</th>\n",
              "      <th>group</th>\n",
              "    </tr>\n",
              "  </thead>\n",
              "  <tbody>\n",
              "    <tr>\n",
              "      <th>189</th>\n",
              "      <td>4189935502</td>\n",
              "      <td>1648269707</td>\n",
              "      <td>2019-08-17</td>\n",
              "      <td>290</td>\n",
              "      <td>B</td>\n",
              "    </tr>\n",
              "    <tr>\n",
              "      <th>279</th>\n",
              "      <td>1101659272</td>\n",
              "      <td>1648269707</td>\n",
              "      <td>2019-08-18</td>\n",
              "      <td>860</td>\n",
              "      <td>A</td>\n",
              "    </tr>\n",
              "  </tbody>\n",
              "</table>\n",
              "</div>"
            ],
            "text/plain": [
              "     transactionId   visitorId        date  revenue group\n",
              "189     4189935502  1648269707  2019-08-17      290     B\n",
              "279     1101659272  1648269707  2019-08-18      860     A"
            ]
          },
          "metadata": {},
          "output_type": "display_data"
        },
        {
          "data": {
            "text/html": [
              "<div>\n",
              "<style scoped>\n",
              "    .dataframe tbody tr th:only-of-type {\n",
              "        vertical-align: middle;\n",
              "    }\n",
              "\n",
              "    .dataframe tbody tr th {\n",
              "        vertical-align: top;\n",
              "    }\n",
              "\n",
              "    .dataframe thead th {\n",
              "        text-align: right;\n",
              "    }\n",
              "</style>\n",
              "<table border=\"1\" class=\"dataframe\">\n",
              "  <thead>\n",
              "    <tr style=\"text-align: right;\">\n",
              "      <th></th>\n",
              "      <th>transactionId</th>\n",
              "      <th>visitorId</th>\n",
              "      <th>date</th>\n",
              "      <th>revenue</th>\n",
              "      <th>group</th>\n",
              "    </tr>\n",
              "  </thead>\n",
              "  <tbody>\n",
              "    <tr>\n",
              "      <th>26</th>\n",
              "      <td>2223239646</td>\n",
              "      <td>199603092</td>\n",
              "      <td>2019-08-15</td>\n",
              "      <td>3488</td>\n",
              "      <td>A</td>\n",
              "    </tr>\n",
              "    <tr>\n",
              "      <th>134</th>\n",
              "      <td>62794304</td>\n",
              "      <td>199603092</td>\n",
              "      <td>2019-08-22</td>\n",
              "      <td>6976</td>\n",
              "      <td>A</td>\n",
              "    </tr>\n",
              "    <tr>\n",
              "      <th>246</th>\n",
              "      <td>437656952</td>\n",
              "      <td>199603092</td>\n",
              "      <td>2019-08-02</td>\n",
              "      <td>3488</td>\n",
              "      <td>B</td>\n",
              "    </tr>\n",
              "    <tr>\n",
              "      <th>823</th>\n",
              "      <td>2971973105</td>\n",
              "      <td>199603092</td>\n",
              "      <td>2019-08-27</td>\n",
              "      <td>2790</td>\n",
              "      <td>A</td>\n",
              "    </tr>\n",
              "    <tr>\n",
              "      <th>1102</th>\n",
              "      <td>1941707234</td>\n",
              "      <td>199603092</td>\n",
              "      <td>2019-08-12</td>\n",
              "      <td>6438</td>\n",
              "      <td>A</td>\n",
              "    </tr>\n",
              "  </tbody>\n",
              "</table>\n",
              "</div>"
            ],
            "text/plain": [
              "      transactionId  visitorId        date  revenue group\n",
              "26       2223239646  199603092  2019-08-15     3488     A\n",
              "134        62794304  199603092  2019-08-22     6976     A\n",
              "246       437656952  199603092  2019-08-02     3488     B\n",
              "823      2971973105  199603092  2019-08-27     2790     A\n",
              "1102     1941707234  199603092  2019-08-12     6438     A"
            ]
          },
          "metadata": {},
          "output_type": "display_data"
        },
        {
          "data": {
            "text/html": [
              "<div>\n",
              "<style scoped>\n",
              "    .dataframe tbody tr th:only-of-type {\n",
              "        vertical-align: middle;\n",
              "    }\n",
              "\n",
              "    .dataframe tbody tr th {\n",
              "        vertical-align: top;\n",
              "    }\n",
              "\n",
              "    .dataframe thead th {\n",
              "        text-align: right;\n",
              "    }\n",
              "</style>\n",
              "<table border=\"1\" class=\"dataframe\">\n",
              "  <thead>\n",
              "    <tr style=\"text-align: right;\">\n",
              "      <th></th>\n",
              "      <th>transactionId</th>\n",
              "      <th>visitorId</th>\n",
              "      <th>date</th>\n",
              "      <th>revenue</th>\n",
              "      <th>group</th>\n",
              "    </tr>\n",
              "  </thead>\n",
              "  <tbody>\n",
              "    <tr>\n",
              "      <th>29</th>\n",
              "      <td>2220299125</td>\n",
              "      <td>3803269165</td>\n",
              "      <td>2019-08-15</td>\n",
              "      <td>700</td>\n",
              "      <td>A</td>\n",
              "    </tr>\n",
              "    <tr>\n",
              "      <th>252</th>\n",
              "      <td>473864496</td>\n",
              "      <td>3803269165</td>\n",
              "      <td>2019-08-23</td>\n",
              "      <td>2360</td>\n",
              "      <td>B</td>\n",
              "    </tr>\n",
              "    <tr>\n",
              "      <th>693</th>\n",
              "      <td>3244441077</td>\n",
              "      <td>3803269165</td>\n",
              "      <td>2019-08-09</td>\n",
              "      <td>590</td>\n",
              "      <td>B</td>\n",
              "    </tr>\n",
              "    <tr>\n",
              "      <th>1171</th>\n",
              "      <td>2860596918</td>\n",
              "      <td>3803269165</td>\n",
              "      <td>2019-08-14</td>\n",
              "      <td>6613</td>\n",
              "      <td>B</td>\n",
              "    </tr>\n",
              "    <tr>\n",
              "      <th>1172</th>\n",
              "      <td>3898641900</td>\n",
              "      <td>3803269165</td>\n",
              "      <td>2019-08-14</td>\n",
              "      <td>790</td>\n",
              "      <td>B</td>\n",
              "    </tr>\n",
              "  </tbody>\n",
              "</table>\n",
              "</div>"
            ],
            "text/plain": [
              "      transactionId   visitorId        date  revenue group\n",
              "29       2220299125  3803269165  2019-08-15      700     A\n",
              "252       473864496  3803269165  2019-08-23     2360     B\n",
              "693      3244441077  3803269165  2019-08-09      590     B\n",
              "1171     2860596918  3803269165  2019-08-14     6613     B\n",
              "1172     3898641900  3803269165  2019-08-14      790     B"
            ]
          },
          "metadata": {},
          "output_type": "display_data"
        },
        {
          "data": {
            "text/html": [
              "<div>\n",
              "<style scoped>\n",
              "    .dataframe tbody tr th:only-of-type {\n",
              "        vertical-align: middle;\n",
              "    }\n",
              "\n",
              "    .dataframe tbody tr th {\n",
              "        vertical-align: top;\n",
              "    }\n",
              "\n",
              "    .dataframe thead th {\n",
              "        text-align: right;\n",
              "    }\n",
              "</style>\n",
              "<table border=\"1\" class=\"dataframe\">\n",
              "  <thead>\n",
              "    <tr style=\"text-align: right;\">\n",
              "      <th></th>\n",
              "      <th>transactionId</th>\n",
              "      <th>visitorId</th>\n",
              "      <th>date</th>\n",
              "      <th>revenue</th>\n",
              "      <th>group</th>\n",
              "    </tr>\n",
              "  </thead>\n",
              "  <tbody>\n",
              "    <tr>\n",
              "      <th>219</th>\n",
              "      <td>2139320439</td>\n",
              "      <td>2686716486</td>\n",
              "      <td>2019-08-23</td>\n",
              "      <td>10960</td>\n",
              "      <td>A</td>\n",
              "    </tr>\n",
              "    <tr>\n",
              "      <th>254</th>\n",
              "      <td>1545495643</td>\n",
              "      <td>2686716486</td>\n",
              "      <td>2019-08-23</td>\n",
              "      <td>34340</td>\n",
              "      <td>B</td>\n",
              "    </tr>\n",
              "  </tbody>\n",
              "</table>\n",
              "</div>"
            ],
            "text/plain": [
              "     transactionId   visitorId        date  revenue group\n",
              "219     2139320439  2686716486  2019-08-23    10960     A\n",
              "254     1545495643  2686716486  2019-08-23    34340     B"
            ]
          },
          "metadata": {},
          "output_type": "display_data"
        },
        {
          "data": {
            "text/html": [
              "<div>\n",
              "<style scoped>\n",
              "    .dataframe tbody tr th:only-of-type {\n",
              "        vertical-align: middle;\n",
              "    }\n",
              "\n",
              "    .dataframe tbody tr th {\n",
              "        vertical-align: top;\n",
              "    }\n",
              "\n",
              "    .dataframe thead th {\n",
              "        text-align: right;\n",
              "    }\n",
              "</style>\n",
              "<table border=\"1\" class=\"dataframe\">\n",
              "  <thead>\n",
              "    <tr style=\"text-align: right;\">\n",
              "      <th></th>\n",
              "      <th>transactionId</th>\n",
              "      <th>visitorId</th>\n",
              "      <th>date</th>\n",
              "      <th>revenue</th>\n",
              "      <th>group</th>\n",
              "    </tr>\n",
              "  </thead>\n",
              "  <tbody>\n",
              "    <tr>\n",
              "      <th>265</th>\n",
              "      <td>3743515850</td>\n",
              "      <td>2579882178</td>\n",
              "      <td>2019-08-18</td>\n",
              "      <td>1922</td>\n",
              "      <td>A</td>\n",
              "    </tr>\n",
              "    <tr>\n",
              "      <th>267</th>\n",
              "      <td>131747281</td>\n",
              "      <td>2579882178</td>\n",
              "      <td>2019-08-18</td>\n",
              "      <td>19538</td>\n",
              "      <td>B</td>\n",
              "    </tr>\n",
              "  </tbody>\n",
              "</table>\n",
              "</div>"
            ],
            "text/plain": [
              "     transactionId   visitorId        date  revenue group\n",
              "265     3743515850  2579882178  2019-08-18     1922     A\n",
              "267      131747281  2579882178  2019-08-18    19538     B"
            ]
          },
          "metadata": {},
          "output_type": "display_data"
        },
        {
          "data": {
            "text/html": [
              "<div>\n",
              "<style scoped>\n",
              "    .dataframe tbody tr th:only-of-type {\n",
              "        vertical-align: middle;\n",
              "    }\n",
              "\n",
              "    .dataframe tbody tr th {\n",
              "        vertical-align: top;\n",
              "    }\n",
              "\n",
              "    .dataframe thead th {\n",
              "        text-align: right;\n",
              "    }\n",
              "</style>\n",
              "<table border=\"1\" class=\"dataframe\">\n",
              "  <thead>\n",
              "    <tr style=\"text-align: right;\">\n",
              "      <th></th>\n",
              "      <th>transactionId</th>\n",
              "      <th>visitorId</th>\n",
              "      <th>date</th>\n",
              "      <th>revenue</th>\n",
              "      <th>group</th>\n",
              "    </tr>\n",
              "  </thead>\n",
              "  <tbody>\n",
              "    <tr>\n",
              "      <th>310</th>\n",
              "      <td>3532704780</td>\n",
              "      <td>3984495233</td>\n",
              "      <td>2019-08-03</td>\n",
              "      <td>20219</td>\n",
              "      <td>B</td>\n",
              "    </tr>\n",
              "    <tr>\n",
              "      <th>536</th>\n",
              "      <td>3925488023</td>\n",
              "      <td>3984495233</td>\n",
              "      <td>2019-08-04</td>\n",
              "      <td>20219</td>\n",
              "      <td>A</td>\n",
              "    </tr>\n",
              "    <tr>\n",
              "      <th>698</th>\n",
              "      <td>429858801</td>\n",
              "      <td>3984495233</td>\n",
              "      <td>2019-08-05</td>\n",
              "      <td>14495</td>\n",
              "      <td>A</td>\n",
              "    </tr>\n",
              "  </tbody>\n",
              "</table>\n",
              "</div>"
            ],
            "text/plain": [
              "     transactionId   visitorId        date  revenue group\n",
              "310     3532704780  3984495233  2019-08-03    20219     B\n",
              "536     3925488023  3984495233  2019-08-04    20219     A\n",
              "698      429858801  3984495233  2019-08-05    14495     A"
            ]
          },
          "metadata": {},
          "output_type": "display_data"
        },
        {
          "data": {
            "text/html": [
              "<div>\n",
              "<style scoped>\n",
              "    .dataframe tbody tr th:only-of-type {\n",
              "        vertical-align: middle;\n",
              "    }\n",
              "\n",
              "    .dataframe tbody tr th {\n",
              "        vertical-align: top;\n",
              "    }\n",
              "\n",
              "    .dataframe thead th {\n",
              "        text-align: right;\n",
              "    }\n",
              "</style>\n",
              "<table border=\"1\" class=\"dataframe\">\n",
              "  <thead>\n",
              "    <tr style=\"text-align: right;\">\n",
              "      <th></th>\n",
              "      <th>transactionId</th>\n",
              "      <th>visitorId</th>\n",
              "      <th>date</th>\n",
              "      <th>revenue</th>\n",
              "      <th>group</th>\n",
              "    </tr>\n",
              "  </thead>\n",
              "  <tbody>\n",
              "    <tr>\n",
              "      <th>327</th>\n",
              "      <td>3909269888</td>\n",
              "      <td>1668030113</td>\n",
              "      <td>2019-08-28</td>\n",
              "      <td>5070</td>\n",
              "      <td>B</td>\n",
              "    </tr>\n",
              "    <tr>\n",
              "      <th>782</th>\n",
              "      <td>2339954598</td>\n",
              "      <td>1668030113</td>\n",
              "      <td>2019-08-27</td>\n",
              "      <td>2600</td>\n",
              "      <td>A</td>\n",
              "    </tr>\n",
              "    <tr>\n",
              "      <th>1182</th>\n",
              "      <td>2682156369</td>\n",
              "      <td>1668030113</td>\n",
              "      <td>2019-08-14</td>\n",
              "      <td>1290</td>\n",
              "      <td>B</td>\n",
              "    </tr>\n",
              "  </tbody>\n",
              "</table>\n",
              "</div>"
            ],
            "text/plain": [
              "      transactionId   visitorId        date  revenue group\n",
              "327      3909269888  1668030113  2019-08-28     5070     B\n",
              "782      2339954598  1668030113  2019-08-27     2600     A\n",
              "1182     2682156369  1668030113  2019-08-14     1290     B"
            ]
          },
          "metadata": {},
          "output_type": "display_data"
        },
        {
          "data": {
            "text/html": [
              "<div>\n",
              "<style scoped>\n",
              "    .dataframe tbody tr th:only-of-type {\n",
              "        vertical-align: middle;\n",
              "    }\n",
              "\n",
              "    .dataframe tbody tr th {\n",
              "        vertical-align: top;\n",
              "    }\n",
              "\n",
              "    .dataframe thead th {\n",
              "        text-align: right;\n",
              "    }\n",
              "</style>\n",
              "<table border=\"1\" class=\"dataframe\">\n",
              "  <thead>\n",
              "    <tr style=\"text-align: right;\">\n",
              "      <th></th>\n",
              "      <th>transactionId</th>\n",
              "      <th>visitorId</th>\n",
              "      <th>date</th>\n",
              "      <th>revenue</th>\n",
              "      <th>group</th>\n",
              "    </tr>\n",
              "  </thead>\n",
              "  <tbody>\n",
              "    <tr>\n",
              "      <th>129</th>\n",
              "      <td>1665445278</td>\n",
              "      <td>1738359350</td>\n",
              "      <td>2019-08-22</td>\n",
              "      <td>3070</td>\n",
              "      <td>A</td>\n",
              "    </tr>\n",
              "    <tr>\n",
              "      <th>330</th>\n",
              "      <td>3006440800</td>\n",
              "      <td>1738359350</td>\n",
              "      <td>2019-08-28</td>\n",
              "      <td>890</td>\n",
              "      <td>B</td>\n",
              "    </tr>\n",
              "    <tr>\n",
              "      <th>861</th>\n",
              "      <td>2229298010</td>\n",
              "      <td>1738359350</td>\n",
              "      <td>2019-08-30</td>\n",
              "      <td>2000</td>\n",
              "      <td>B</td>\n",
              "    </tr>\n",
              "  </tbody>\n",
              "</table>\n",
              "</div>"
            ],
            "text/plain": [
              "     transactionId   visitorId        date  revenue group\n",
              "129     1665445278  1738359350  2019-08-22     3070     A\n",
              "330     3006440800  1738359350  2019-08-28      890     B\n",
              "861     2229298010  1738359350  2019-08-30     2000     B"
            ]
          },
          "metadata": {},
          "output_type": "display_data"
        },
        {
          "data": {
            "text/html": [
              "<div>\n",
              "<style scoped>\n",
              "    .dataframe tbody tr th:only-of-type {\n",
              "        vertical-align: middle;\n",
              "    }\n",
              "\n",
              "    .dataframe tbody tr th {\n",
              "        vertical-align: top;\n",
              "    }\n",
              "\n",
              "    .dataframe thead th {\n",
              "        text-align: right;\n",
              "    }\n",
              "</style>\n",
              "<table border=\"1\" class=\"dataframe\">\n",
              "  <thead>\n",
              "    <tr style=\"text-align: right;\">\n",
              "      <th></th>\n",
              "      <th>transactionId</th>\n",
              "      <th>visitorId</th>\n",
              "      <th>date</th>\n",
              "      <th>revenue</th>\n",
              "      <th>group</th>\n",
              "    </tr>\n",
              "  </thead>\n",
              "  <tbody>\n",
              "    <tr>\n",
              "      <th>359</th>\n",
              "      <td>615966907</td>\n",
              "      <td>3717692402</td>\n",
              "      <td>2019-08-28</td>\n",
              "      <td>910</td>\n",
              "      <td>B</td>\n",
              "    </tr>\n",
              "    <tr>\n",
              "      <th>809</th>\n",
              "      <td>3362484972</td>\n",
              "      <td>3717692402</td>\n",
              "      <td>2019-08-21</td>\n",
              "      <td>2400</td>\n",
              "      <td>A</td>\n",
              "    </tr>\n",
              "    <tr>\n",
              "      <th>838</th>\n",
              "      <td>1607016207</td>\n",
              "      <td>3717692402</td>\n",
              "      <td>2019-08-21</td>\n",
              "      <td>4170</td>\n",
              "      <td>B</td>\n",
              "    </tr>\n",
              "    <tr>\n",
              "      <th>938</th>\n",
              "      <td>1575313118</td>\n",
              "      <td>3717692402</td>\n",
              "      <td>2019-08-08</td>\n",
              "      <td>1540</td>\n",
              "      <td>B</td>\n",
              "    </tr>\n",
              "    <tr>\n",
              "      <th>1175</th>\n",
              "      <td>1373388206</td>\n",
              "      <td>3717692402</td>\n",
              "      <td>2019-08-14</td>\n",
              "      <td>2400</td>\n",
              "      <td>B</td>\n",
              "    </tr>\n",
              "  </tbody>\n",
              "</table>\n",
              "</div>"
            ],
            "text/plain": [
              "      transactionId   visitorId        date  revenue group\n",
              "359       615966907  3717692402  2019-08-28      910     B\n",
              "809      3362484972  3717692402  2019-08-21     2400     A\n",
              "838      1607016207  3717692402  2019-08-21     4170     B\n",
              "938      1575313118  3717692402  2019-08-08     1540     B\n",
              "1175     1373388206  3717692402  2019-08-14     2400     B"
            ]
          },
          "metadata": {},
          "output_type": "display_data"
        },
        {
          "data": {
            "text/html": [
              "<div>\n",
              "<style scoped>\n",
              "    .dataframe tbody tr th:only-of-type {\n",
              "        vertical-align: middle;\n",
              "    }\n",
              "\n",
              "    .dataframe tbody tr th {\n",
              "        vertical-align: top;\n",
              "    }\n",
              "\n",
              "    .dataframe thead th {\n",
              "        text-align: right;\n",
              "    }\n",
              "</style>\n",
              "<table border=\"1\" class=\"dataframe\">\n",
              "  <thead>\n",
              "    <tr style=\"text-align: right;\">\n",
              "      <th></th>\n",
              "      <th>transactionId</th>\n",
              "      <th>visitorId</th>\n",
              "      <th>date</th>\n",
              "      <th>revenue</th>\n",
              "      <th>group</th>\n",
              "    </tr>\n",
              "  </thead>\n",
              "  <tbody>\n",
              "    <tr>\n",
              "      <th>133</th>\n",
              "      <td>3060563671</td>\n",
              "      <td>2458001652</td>\n",
              "      <td>2019-08-22</td>\n",
              "      <td>5190</td>\n",
              "      <td>A</td>\n",
              "    </tr>\n",
              "    <tr>\n",
              "      <th>380</th>\n",
              "      <td>1177690313</td>\n",
              "      <td>2458001652</td>\n",
              "      <td>2019-08-25</td>\n",
              "      <td>2385</td>\n",
              "      <td>B</td>\n",
              "    </tr>\n",
              "    <tr>\n",
              "      <th>454</th>\n",
              "      <td>3755354294</td>\n",
              "      <td>2458001652</td>\n",
              "      <td>2019-08-06</td>\n",
              "      <td>7349</td>\n",
              "      <td>B</td>\n",
              "    </tr>\n",
              "    <tr>\n",
              "      <th>456</th>\n",
              "      <td>543654048</td>\n",
              "      <td>2458001652</td>\n",
              "      <td>2019-08-06</td>\n",
              "      <td>1620</td>\n",
              "      <td>A</td>\n",
              "    </tr>\n",
              "    <tr>\n",
              "      <th>483</th>\n",
              "      <td>2280027650</td>\n",
              "      <td>2458001652</td>\n",
              "      <td>2019-08-06</td>\n",
              "      <td>6681</td>\n",
              "      <td>B</td>\n",
              "    </tr>\n",
              "    <tr>\n",
              "      <th>611</th>\n",
              "      <td>1244084011</td>\n",
              "      <td>2458001652</td>\n",
              "      <td>2019-08-04</td>\n",
              "      <td>340</td>\n",
              "      <td>A</td>\n",
              "    </tr>\n",
              "    <tr>\n",
              "      <th>692</th>\n",
              "      <td>3586870909</td>\n",
              "      <td>2458001652</td>\n",
              "      <td>2019-08-09</td>\n",
              "      <td>5227</td>\n",
              "      <td>B</td>\n",
              "    </tr>\n",
              "    <tr>\n",
              "      <th>727</th>\n",
              "      <td>3959083601</td>\n",
              "      <td>2458001652</td>\n",
              "      <td>2019-08-07</td>\n",
              "      <td>17379</td>\n",
              "      <td>A</td>\n",
              "    </tr>\n",
              "    <tr>\n",
              "      <th>883</th>\n",
              "      <td>2412219836</td>\n",
              "      <td>2458001652</td>\n",
              "      <td>2019-08-05</td>\n",
              "      <td>2420</td>\n",
              "      <td>B</td>\n",
              "    </tr>\n",
              "    <tr>\n",
              "      <th>916</th>\n",
              "      <td>527333943</td>\n",
              "      <td>2458001652</td>\n",
              "      <td>2019-08-08</td>\n",
              "      <td>5227</td>\n",
              "      <td>B</td>\n",
              "    </tr>\n",
              "    <tr>\n",
              "      <th>1062</th>\n",
              "      <td>1817215137</td>\n",
              "      <td>2458001652</td>\n",
              "      <td>2019-08-11</td>\n",
              "      <td>8280</td>\n",
              "      <td>A</td>\n",
              "    </tr>\n",
              "  </tbody>\n",
              "</table>\n",
              "</div>"
            ],
            "text/plain": [
              "      transactionId   visitorId        date  revenue group\n",
              "133      3060563671  2458001652  2019-08-22     5190     A\n",
              "380      1177690313  2458001652  2019-08-25     2385     B\n",
              "454      3755354294  2458001652  2019-08-06     7349     B\n",
              "456       543654048  2458001652  2019-08-06     1620     A\n",
              "483      2280027650  2458001652  2019-08-06     6681     B\n",
              "611      1244084011  2458001652  2019-08-04      340     A\n",
              "692      3586870909  2458001652  2019-08-09     5227     B\n",
              "727      3959083601  2458001652  2019-08-07    17379     A\n",
              "883      2412219836  2458001652  2019-08-05     2420     B\n",
              "916       527333943  2458001652  2019-08-08     5227     B\n",
              "1062     1817215137  2458001652  2019-08-11     8280     A"
            ]
          },
          "metadata": {},
          "output_type": "display_data"
        },
        {
          "data": {
            "text/html": [
              "<div>\n",
              "<style scoped>\n",
              "    .dataframe tbody tr th:only-of-type {\n",
              "        vertical-align: middle;\n",
              "    }\n",
              "\n",
              "    .dataframe tbody tr th {\n",
              "        vertical-align: top;\n",
              "    }\n",
              "\n",
              "    .dataframe thead th {\n",
              "        text-align: right;\n",
              "    }\n",
              "</style>\n",
              "<table border=\"1\" class=\"dataframe\">\n",
              "  <thead>\n",
              "    <tr style=\"text-align: right;\">\n",
              "      <th></th>\n",
              "      <th>transactionId</th>\n",
              "      <th>visitorId</th>\n",
              "      <th>date</th>\n",
              "      <th>revenue</th>\n",
              "      <th>group</th>\n",
              "    </tr>\n",
              "  </thead>\n",
              "  <tbody>\n",
              "    <tr>\n",
              "      <th>33</th>\n",
              "      <td>486237576</td>\n",
              "      <td>2378935119</td>\n",
              "      <td>2019-08-15</td>\n",
              "      <td>1650</td>\n",
              "      <td>A</td>\n",
              "    </tr>\n",
              "    <tr>\n",
              "      <th>118</th>\n",
              "      <td>4233533907</td>\n",
              "      <td>2378935119</td>\n",
              "      <td>2019-08-22</td>\n",
              "      <td>3390</td>\n",
              "      <td>A</td>\n",
              "    </tr>\n",
              "    <tr>\n",
              "      <th>179</th>\n",
              "      <td>1784270968</td>\n",
              "      <td>2378935119</td>\n",
              "      <td>2019-08-17</td>\n",
              "      <td>310</td>\n",
              "      <td>A</td>\n",
              "    </tr>\n",
              "    <tr>\n",
              "      <th>391</th>\n",
              "      <td>2213813903</td>\n",
              "      <td>2378935119</td>\n",
              "      <td>2019-08-25</td>\n",
              "      <td>21220</td>\n",
              "      <td>B</td>\n",
              "    </tr>\n",
              "    <tr>\n",
              "      <th>435</th>\n",
              "      <td>2430683444</td>\n",
              "      <td>2378935119</td>\n",
              "      <td>2019-08-28</td>\n",
              "      <td>20450</td>\n",
              "      <td>B</td>\n",
              "    </tr>\n",
              "    <tr>\n",
              "      <th>473</th>\n",
              "      <td>3224706027</td>\n",
              "      <td>2378935119</td>\n",
              "      <td>2019-08-28</td>\n",
              "      <td>4410</td>\n",
              "      <td>B</td>\n",
              "    </tr>\n",
              "    <tr>\n",
              "      <th>697</th>\n",
              "      <td>1612868255</td>\n",
              "      <td>2378935119</td>\n",
              "      <td>2019-08-09</td>\n",
              "      <td>30649</td>\n",
              "      <td>B</td>\n",
              "    </tr>\n",
              "    <tr>\n",
              "      <th>1029</th>\n",
              "      <td>469609643</td>\n",
              "      <td>2378935119</td>\n",
              "      <td>2019-08-10</td>\n",
              "      <td>58220</td>\n",
              "      <td>A</td>\n",
              "    </tr>\n",
              "    <tr>\n",
              "      <th>1031</th>\n",
              "      <td>1661772358</td>\n",
              "      <td>2378935119</td>\n",
              "      <td>2019-08-10</td>\n",
              "      <td>2640</td>\n",
              "      <td>B</td>\n",
              "    </tr>\n",
              "  </tbody>\n",
              "</table>\n",
              "</div>"
            ],
            "text/plain": [
              "      transactionId   visitorId        date  revenue group\n",
              "33        486237576  2378935119  2019-08-15     1650     A\n",
              "118      4233533907  2378935119  2019-08-22     3390     A\n",
              "179      1784270968  2378935119  2019-08-17      310     A\n",
              "391      2213813903  2378935119  2019-08-25    21220     B\n",
              "435      2430683444  2378935119  2019-08-28    20450     B\n",
              "473      3224706027  2378935119  2019-08-28     4410     B\n",
              "697      1612868255  2378935119  2019-08-09    30649     B\n",
              "1029      469609643  2378935119  2019-08-10    58220     A\n",
              "1031     1661772358  2378935119  2019-08-10     2640     B"
            ]
          },
          "metadata": {},
          "output_type": "display_data"
        },
        {
          "data": {
            "text/html": [
              "<div>\n",
              "<style scoped>\n",
              "    .dataframe tbody tr th:only-of-type {\n",
              "        vertical-align: middle;\n",
              "    }\n",
              "\n",
              "    .dataframe tbody tr th {\n",
              "        vertical-align: top;\n",
              "    }\n",
              "\n",
              "    .dataframe thead th {\n",
              "        text-align: right;\n",
              "    }\n",
              "</style>\n",
              "<table border=\"1\" class=\"dataframe\">\n",
              "  <thead>\n",
              "    <tr style=\"text-align: right;\">\n",
              "      <th></th>\n",
              "      <th>transactionId</th>\n",
              "      <th>visitorId</th>\n",
              "      <th>date</th>\n",
              "      <th>revenue</th>\n",
              "      <th>group</th>\n",
              "    </tr>\n",
              "  </thead>\n",
              "  <tbody>\n",
              "    <tr>\n",
              "      <th>402</th>\n",
              "      <td>371848868</td>\n",
              "      <td>1294878855</td>\n",
              "      <td>2019-08-28</td>\n",
              "      <td>3080</td>\n",
              "      <td>B</td>\n",
              "    </tr>\n",
              "    <tr>\n",
              "      <th>677</th>\n",
              "      <td>2348589867</td>\n",
              "      <td>1294878855</td>\n",
              "      <td>2019-08-09</td>\n",
              "      <td>27390</td>\n",
              "      <td>A</td>\n",
              "    </tr>\n",
              "    <tr>\n",
              "      <th>1015</th>\n",
              "      <td>4262851755</td>\n",
              "      <td>1294878855</td>\n",
              "      <td>2019-08-31</td>\n",
              "      <td>570</td>\n",
              "      <td>A</td>\n",
              "    </tr>\n",
              "  </tbody>\n",
              "</table>\n",
              "</div>"
            ],
            "text/plain": [
              "      transactionId   visitorId        date  revenue group\n",
              "402       371848868  1294878855  2019-08-28     3080     B\n",
              "677      2348589867  1294878855  2019-08-09    27390     A\n",
              "1015     4262851755  1294878855  2019-08-31      570     A"
            ]
          },
          "metadata": {},
          "output_type": "display_data"
        },
        {
          "data": {
            "text/html": [
              "<div>\n",
              "<style scoped>\n",
              "    .dataframe tbody tr th:only-of-type {\n",
              "        vertical-align: middle;\n",
              "    }\n",
              "\n",
              "    .dataframe tbody tr th {\n",
              "        vertical-align: top;\n",
              "    }\n",
              "\n",
              "    .dataframe thead th {\n",
              "        text-align: right;\n",
              "    }\n",
              "</style>\n",
              "<table border=\"1\" class=\"dataframe\">\n",
              "  <thead>\n",
              "    <tr style=\"text-align: right;\">\n",
              "      <th></th>\n",
              "      <th>transactionId</th>\n",
              "      <th>visitorId</th>\n",
              "      <th>date</th>\n",
              "      <th>revenue</th>\n",
              "      <th>group</th>\n",
              "    </tr>\n",
              "  </thead>\n",
              "  <tbody>\n",
              "    <tr>\n",
              "      <th>406</th>\n",
              "      <td>1441855393</td>\n",
              "      <td>1404934699</td>\n",
              "      <td>2019-08-03</td>\n",
              "      <td>26980</td>\n",
              "      <td>B</td>\n",
              "    </tr>\n",
              "    <tr>\n",
              "      <th>1036</th>\n",
              "      <td>2890600501</td>\n",
              "      <td>1404934699</td>\n",
              "      <td>2019-08-09</td>\n",
              "      <td>8340</td>\n",
              "      <td>B</td>\n",
              "    </tr>\n",
              "    <tr>\n",
              "      <th>1044</th>\n",
              "      <td>1814628689</td>\n",
              "      <td>1404934699</td>\n",
              "      <td>2019-08-11</td>\n",
              "      <td>8640</td>\n",
              "      <td>A</td>\n",
              "    </tr>\n",
              "  </tbody>\n",
              "</table>\n",
              "</div>"
            ],
            "text/plain": [
              "      transactionId   visitorId        date  revenue group\n",
              "406      1441855393  1404934699  2019-08-03    26980     B\n",
              "1036     2890600501  1404934699  2019-08-09     8340     B\n",
              "1044     1814628689  1404934699  2019-08-11     8640     A"
            ]
          },
          "metadata": {},
          "output_type": "display_data"
        },
        {
          "data": {
            "text/html": [
              "<div>\n",
              "<style scoped>\n",
              "    .dataframe tbody tr th:only-of-type {\n",
              "        vertical-align: middle;\n",
              "    }\n",
              "\n",
              "    .dataframe tbody tr th {\n",
              "        vertical-align: top;\n",
              "    }\n",
              "\n",
              "    .dataframe thead th {\n",
              "        text-align: right;\n",
              "    }\n",
              "</style>\n",
              "<table border=\"1\" class=\"dataframe\">\n",
              "  <thead>\n",
              "    <tr style=\"text-align: right;\">\n",
              "      <th></th>\n",
              "      <th>transactionId</th>\n",
              "      <th>visitorId</th>\n",
              "      <th>date</th>\n",
              "      <th>revenue</th>\n",
              "      <th>group</th>\n",
              "    </tr>\n",
              "  </thead>\n",
              "  <tbody>\n",
              "    <tr>\n",
              "      <th>415</th>\n",
              "      <td>1825231501</td>\n",
              "      <td>2587333274</td>\n",
              "      <td>2019-08-06</td>\n",
              "      <td>8870</td>\n",
              "      <td>B</td>\n",
              "    </tr>\n",
              "    <tr>\n",
              "      <th>729</th>\n",
              "      <td>2667448076</td>\n",
              "      <td>2587333274</td>\n",
              "      <td>2019-08-07</td>\n",
              "      <td>6170</td>\n",
              "      <td>B</td>\n",
              "    </tr>\n",
              "    <tr>\n",
              "      <th>970</th>\n",
              "      <td>3478707774</td>\n",
              "      <td>2587333274</td>\n",
              "      <td>2019-08-08</td>\n",
              "      <td>3600</td>\n",
              "      <td>A</td>\n",
              "    </tr>\n",
              "    <tr>\n",
              "      <th>972</th>\n",
              "      <td>2419539947</td>\n",
              "      <td>2587333274</td>\n",
              "      <td>2019-08-08</td>\n",
              "      <td>3600</td>\n",
              "      <td>B</td>\n",
              "    </tr>\n",
              "  </tbody>\n",
              "</table>\n",
              "</div>"
            ],
            "text/plain": [
              "     transactionId   visitorId        date  revenue group\n",
              "415     1825231501  2587333274  2019-08-06     8870     B\n",
              "729     2667448076  2587333274  2019-08-07     6170     B\n",
              "970     3478707774  2587333274  2019-08-08     3600     A\n",
              "972     2419539947  2587333274  2019-08-08     3600     B"
            ]
          },
          "metadata": {},
          "output_type": "display_data"
        },
        {
          "data": {
            "text/html": [
              "<div>\n",
              "<style scoped>\n",
              "    .dataframe tbody tr th:only-of-type {\n",
              "        vertical-align: middle;\n",
              "    }\n",
              "\n",
              "    .dataframe tbody tr th {\n",
              "        vertical-align: top;\n",
              "    }\n",
              "\n",
              "    .dataframe thead th {\n",
              "        text-align: right;\n",
              "    }\n",
              "</style>\n",
              "<table border=\"1\" class=\"dataframe\">\n",
              "  <thead>\n",
              "    <tr style=\"text-align: right;\">\n",
              "      <th></th>\n",
              "      <th>transactionId</th>\n",
              "      <th>visitorId</th>\n",
              "      <th>date</th>\n",
              "      <th>revenue</th>\n",
              "      <th>group</th>\n",
              "    </tr>\n",
              "  </thead>\n",
              "  <tbody>\n",
              "    <tr>\n",
              "      <th>430</th>\n",
              "      <td>1168756094</td>\n",
              "      <td>3202540741</td>\n",
              "      <td>2019-08-24</td>\n",
              "      <td>3150</td>\n",
              "      <td>A</td>\n",
              "    </tr>\n",
              "    <tr>\n",
              "      <th>432</th>\n",
              "      <td>1061451265</td>\n",
              "      <td>3202540741</td>\n",
              "      <td>2019-08-24</td>\n",
              "      <td>5450</td>\n",
              "      <td>B</td>\n",
              "    </tr>\n",
              "  </tbody>\n",
              "</table>\n",
              "</div>"
            ],
            "text/plain": [
              "     transactionId   visitorId        date  revenue group\n",
              "430     1168756094  3202540741  2019-08-24     3150     A\n",
              "432     1061451265  3202540741  2019-08-24     5450     B"
            ]
          },
          "metadata": {},
          "output_type": "display_data"
        },
        {
          "data": {
            "text/html": [
              "<div>\n",
              "<style scoped>\n",
              "    .dataframe tbody tr th:only-of-type {\n",
              "        vertical-align: middle;\n",
              "    }\n",
              "\n",
              "    .dataframe tbody tr th {\n",
              "        vertical-align: top;\n",
              "    }\n",
              "\n",
              "    .dataframe thead th {\n",
              "        text-align: right;\n",
              "    }\n",
              "</style>\n",
              "<table border=\"1\" class=\"dataframe\">\n",
              "  <thead>\n",
              "    <tr style=\"text-align: right;\">\n",
              "      <th></th>\n",
              "      <th>transactionId</th>\n",
              "      <th>visitorId</th>\n",
              "      <th>date</th>\n",
              "      <th>revenue</th>\n",
              "      <th>group</th>\n",
              "    </tr>\n",
              "  </thead>\n",
              "  <tbody>\n",
              "    <tr>\n",
              "      <th>225</th>\n",
              "      <td>2931845376</td>\n",
              "      <td>2954449915</td>\n",
              "      <td>2019-08-17</td>\n",
              "      <td>10791</td>\n",
              "      <td>A</td>\n",
              "    </tr>\n",
              "    <tr>\n",
              "      <th>455</th>\n",
              "      <td>2781850870</td>\n",
              "      <td>2954449915</td>\n",
              "      <td>2019-08-06</td>\n",
              "      <td>3070</td>\n",
              "      <td>B</td>\n",
              "    </tr>\n",
              "  </tbody>\n",
              "</table>\n",
              "</div>"
            ],
            "text/plain": [
              "     transactionId   visitorId        date  revenue group\n",
              "225     2931845376  2954449915  2019-08-17    10791     A\n",
              "455     2781850870  2954449915  2019-08-06     3070     B"
            ]
          },
          "metadata": {},
          "output_type": "display_data"
        },
        {
          "data": {
            "text/html": [
              "<div>\n",
              "<style scoped>\n",
              "    .dataframe tbody tr th:only-of-type {\n",
              "        vertical-align: middle;\n",
              "    }\n",
              "\n",
              "    .dataframe tbody tr th {\n",
              "        vertical-align: top;\n",
              "    }\n",
              "\n",
              "    .dataframe thead th {\n",
              "        text-align: right;\n",
              "    }\n",
              "</style>\n",
              "<table border=\"1\" class=\"dataframe\">\n",
              "  <thead>\n",
              "    <tr style=\"text-align: right;\">\n",
              "      <th></th>\n",
              "      <th>transactionId</th>\n",
              "      <th>visitorId</th>\n",
              "      <th>date</th>\n",
              "      <th>revenue</th>\n",
              "      <th>group</th>\n",
              "    </tr>\n",
              "  </thead>\n",
              "  <tbody>\n",
              "    <tr>\n",
              "      <th>230</th>\n",
              "      <td>3124204494</td>\n",
              "      <td>2927087541</td>\n",
              "      <td>2019-08-23</td>\n",
              "      <td>27550</td>\n",
              "      <td>A</td>\n",
              "    </tr>\n",
              "    <tr>\n",
              "      <th>479</th>\n",
              "      <td>1651227034</td>\n",
              "      <td>2927087541</td>\n",
              "      <td>2019-08-24</td>\n",
              "      <td>2190</td>\n",
              "      <td>B</td>\n",
              "    </tr>\n",
              "  </tbody>\n",
              "</table>\n",
              "</div>"
            ],
            "text/plain": [
              "     transactionId   visitorId        date  revenue group\n",
              "230     3124204494  2927087541  2019-08-23    27550     A\n",
              "479     1651227034  2927087541  2019-08-24     2190     B"
            ]
          },
          "metadata": {},
          "output_type": "display_data"
        },
        {
          "data": {
            "text/html": [
              "<div>\n",
              "<style scoped>\n",
              "    .dataframe tbody tr th:only-of-type {\n",
              "        vertical-align: middle;\n",
              "    }\n",
              "\n",
              "    .dataframe tbody tr th {\n",
              "        vertical-align: top;\n",
              "    }\n",
              "\n",
              "    .dataframe thead th {\n",
              "        text-align: right;\n",
              "    }\n",
              "</style>\n",
              "<table border=\"1\" class=\"dataframe\">\n",
              "  <thead>\n",
              "    <tr style=\"text-align: right;\">\n",
              "      <th></th>\n",
              "      <th>transactionId</th>\n",
              "      <th>visitorId</th>\n",
              "      <th>date</th>\n",
              "      <th>revenue</th>\n",
              "      <th>group</th>\n",
              "    </tr>\n",
              "  </thead>\n",
              "  <tbody>\n",
              "    <tr>\n",
              "      <th>480</th>\n",
              "      <td>1954636284</td>\n",
              "      <td>2600415354</td>\n",
              "      <td>2019-08-06</td>\n",
              "      <td>1530</td>\n",
              "      <td>B</td>\n",
              "    </tr>\n",
              "    <tr>\n",
              "      <th>1008</th>\n",
              "      <td>2316868256</td>\n",
              "      <td>2600415354</td>\n",
              "      <td>2019-08-31</td>\n",
              "      <td>2790</td>\n",
              "      <td>A</td>\n",
              "    </tr>\n",
              "  </tbody>\n",
              "</table>\n",
              "</div>"
            ],
            "text/plain": [
              "      transactionId   visitorId        date  revenue group\n",
              "480      1954636284  2600415354  2019-08-06     1530     B\n",
              "1008     2316868256  2600415354  2019-08-31     2790     A"
            ]
          },
          "metadata": {},
          "output_type": "display_data"
        },
        {
          "data": {
            "text/html": [
              "<div>\n",
              "<style scoped>\n",
              "    .dataframe tbody tr th:only-of-type {\n",
              "        vertical-align: middle;\n",
              "    }\n",
              "\n",
              "    .dataframe tbody tr th {\n",
              "        vertical-align: top;\n",
              "    }\n",
              "\n",
              "    .dataframe thead th {\n",
              "        text-align: right;\n",
              "    }\n",
              "</style>\n",
              "<table border=\"1\" class=\"dataframe\">\n",
              "  <thead>\n",
              "    <tr style=\"text-align: right;\">\n",
              "      <th></th>\n",
              "      <th>transactionId</th>\n",
              "      <th>visitorId</th>\n",
              "      <th>date</th>\n",
              "      <th>revenue</th>\n",
              "      <th>group</th>\n",
              "    </tr>\n",
              "  </thead>\n",
              "  <tbody>\n",
              "    <tr>\n",
              "      <th>496</th>\n",
              "      <td>2825038272</td>\n",
              "      <td>3951559397</td>\n",
              "      <td>2019-08-29</td>\n",
              "      <td>30990</td>\n",
              "      <td>B</td>\n",
              "    </tr>\n",
              "    <tr>\n",
              "      <th>497</th>\n",
              "      <td>246848596</td>\n",
              "      <td>3951559397</td>\n",
              "      <td>2019-08-29</td>\n",
              "      <td>2490</td>\n",
              "      <td>A</td>\n",
              "    </tr>\n",
              "  </tbody>\n",
              "</table>\n",
              "</div>"
            ],
            "text/plain": [
              "     transactionId   visitorId        date  revenue group\n",
              "496     2825038272  3951559397  2019-08-29    30990     B\n",
              "497      246848596  3951559397  2019-08-29     2490     A"
            ]
          },
          "metadata": {},
          "output_type": "display_data"
        },
        {
          "data": {
            "text/html": [
              "<div>\n",
              "<style scoped>\n",
              "    .dataframe tbody tr th:only-of-type {\n",
              "        vertical-align: middle;\n",
              "    }\n",
              "\n",
              "    .dataframe tbody tr th {\n",
              "        vertical-align: top;\n",
              "    }\n",
              "\n",
              "    .dataframe thead th {\n",
              "        text-align: right;\n",
              "    }\n",
              "</style>\n",
              "<table border=\"1\" class=\"dataframe\">\n",
              "  <thead>\n",
              "    <tr style=\"text-align: right;\">\n",
              "      <th></th>\n",
              "      <th>transactionId</th>\n",
              "      <th>visitorId</th>\n",
              "      <th>date</th>\n",
              "      <th>revenue</th>\n",
              "      <th>group</th>\n",
              "    </tr>\n",
              "  </thead>\n",
              "  <tbody>\n",
              "    <tr>\n",
              "      <th>370</th>\n",
              "      <td>857639553</td>\n",
              "      <td>2044997962</td>\n",
              "      <td>2019-08-24</td>\n",
              "      <td>2540</td>\n",
              "      <td>A</td>\n",
              "    </tr>\n",
              "    <tr>\n",
              "      <th>516</th>\n",
              "      <td>3754751399</td>\n",
              "      <td>2044997962</td>\n",
              "      <td>2019-08-26</td>\n",
              "      <td>6090</td>\n",
              "      <td>B</td>\n",
              "    </tr>\n",
              "    <tr>\n",
              "      <th>517</th>\n",
              "      <td>582361359</td>\n",
              "      <td>2044997962</td>\n",
              "      <td>2019-08-26</td>\n",
              "      <td>990</td>\n",
              "      <td>B</td>\n",
              "    </tr>\n",
              "  </tbody>\n",
              "</table>\n",
              "</div>"
            ],
            "text/plain": [
              "     transactionId   visitorId        date  revenue group\n",
              "370      857639553  2044997962  2019-08-24     2540     A\n",
              "516     3754751399  2044997962  2019-08-26     6090     B\n",
              "517      582361359  2044997962  2019-08-26      990     B"
            ]
          },
          "metadata": {},
          "output_type": "display_data"
        },
        {
          "data": {
            "text/html": [
              "<div>\n",
              "<style scoped>\n",
              "    .dataframe tbody tr th:only-of-type {\n",
              "        vertical-align: middle;\n",
              "    }\n",
              "\n",
              "    .dataframe tbody tr th {\n",
              "        vertical-align: top;\n",
              "    }\n",
              "\n",
              "    .dataframe thead th {\n",
              "        text-align: right;\n",
              "    }\n",
              "</style>\n",
              "<table border=\"1\" class=\"dataframe\">\n",
              "  <thead>\n",
              "    <tr style=\"text-align: right;\">\n",
              "      <th></th>\n",
              "      <th>transactionId</th>\n",
              "      <th>visitorId</th>\n",
              "      <th>date</th>\n",
              "      <th>revenue</th>\n",
              "      <th>group</th>\n",
              "    </tr>\n",
              "  </thead>\n",
              "  <tbody>\n",
              "    <tr>\n",
              "      <th>535</th>\n",
              "      <td>3061324106</td>\n",
              "      <td>3972127743</td>\n",
              "      <td>2019-08-04</td>\n",
              "      <td>8401</td>\n",
              "      <td>B</td>\n",
              "    </tr>\n",
              "    <tr>\n",
              "      <th>1035</th>\n",
              "      <td>2898835960</td>\n",
              "      <td>3972127743</td>\n",
              "      <td>2019-08-09</td>\n",
              "      <td>8439</td>\n",
              "      <td>A</td>\n",
              "    </tr>\n",
              "  </tbody>\n",
              "</table>\n",
              "</div>"
            ],
            "text/plain": [
              "      transactionId   visitorId        date  revenue group\n",
              "535      3061324106  3972127743  2019-08-04     8401     B\n",
              "1035     2898835960  3972127743  2019-08-09     8439     A"
            ]
          },
          "metadata": {},
          "output_type": "display_data"
        },
        {
          "data": {
            "text/html": [
              "<div>\n",
              "<style scoped>\n",
              "    .dataframe tbody tr th:only-of-type {\n",
              "        vertical-align: middle;\n",
              "    }\n",
              "\n",
              "    .dataframe tbody tr th {\n",
              "        vertical-align: top;\n",
              "    }\n",
              "\n",
              "    .dataframe thead th {\n",
              "        text-align: right;\n",
              "    }\n",
              "</style>\n",
              "<table border=\"1\" class=\"dataframe\">\n",
              "  <thead>\n",
              "    <tr style=\"text-align: right;\">\n",
              "      <th></th>\n",
              "      <th>transactionId</th>\n",
              "      <th>visitorId</th>\n",
              "      <th>date</th>\n",
              "      <th>revenue</th>\n",
              "      <th>group</th>\n",
              "    </tr>\n",
              "  </thead>\n",
              "  <tbody>\n",
              "    <tr>\n",
              "      <th>269</th>\n",
              "      <td>1067267410</td>\n",
              "      <td>3957174400</td>\n",
              "      <td>2019-08-18</td>\n",
              "      <td>2480</td>\n",
              "      <td>A</td>\n",
              "    </tr>\n",
              "    <tr>\n",
              "      <th>561</th>\n",
              "      <td>3241914033</td>\n",
              "      <td>3957174400</td>\n",
              "      <td>2019-08-26</td>\n",
              "      <td>2480</td>\n",
              "      <td>B</td>\n",
              "    </tr>\n",
              "  </tbody>\n",
              "</table>\n",
              "</div>"
            ],
            "text/plain": [
              "     transactionId   visitorId        date  revenue group\n",
              "269     1067267410  3957174400  2019-08-18     2480     A\n",
              "561     3241914033  3957174400  2019-08-26     2480     B"
            ]
          },
          "metadata": {},
          "output_type": "display_data"
        },
        {
          "data": {
            "text/html": [
              "<div>\n",
              "<style scoped>\n",
              "    .dataframe tbody tr th:only-of-type {\n",
              "        vertical-align: middle;\n",
              "    }\n",
              "\n",
              "    .dataframe tbody tr th {\n",
              "        vertical-align: top;\n",
              "    }\n",
              "\n",
              "    .dataframe thead th {\n",
              "        text-align: right;\n",
              "    }\n",
              "</style>\n",
              "<table border=\"1\" class=\"dataframe\">\n",
              "  <thead>\n",
              "    <tr style=\"text-align: right;\">\n",
              "      <th></th>\n",
              "      <th>transactionId</th>\n",
              "      <th>visitorId</th>\n",
              "      <th>date</th>\n",
              "      <th>revenue</th>\n",
              "      <th>group</th>\n",
              "    </tr>\n",
              "  </thead>\n",
              "  <tbody>\n",
              "    <tr>\n",
              "      <th>159</th>\n",
              "      <td>1170827001</td>\n",
              "      <td>3891541246</td>\n",
              "      <td>2019-08-22</td>\n",
              "      <td>990</td>\n",
              "      <td>A</td>\n",
              "    </tr>\n",
              "    <tr>\n",
              "      <th>606</th>\n",
              "      <td>4007826947</td>\n",
              "      <td>3891541246</td>\n",
              "      <td>2019-08-04</td>\n",
              "      <td>480</td>\n",
              "      <td>B</td>\n",
              "    </tr>\n",
              "    <tr>\n",
              "      <th>609</th>\n",
              "      <td>332633624</td>\n",
              "      <td>3891541246</td>\n",
              "      <td>2019-08-04</td>\n",
              "      <td>5020</td>\n",
              "      <td>A</td>\n",
              "    </tr>\n",
              "  </tbody>\n",
              "</table>\n",
              "</div>"
            ],
            "text/plain": [
              "     transactionId   visitorId        date  revenue group\n",
              "159     1170827001  3891541246  2019-08-22      990     A\n",
              "606     4007826947  3891541246  2019-08-04      480     B\n",
              "609      332633624  3891541246  2019-08-04     5020     A"
            ]
          },
          "metadata": {},
          "output_type": "display_data"
        },
        {
          "data": {
            "text/html": [
              "<div>\n",
              "<style scoped>\n",
              "    .dataframe tbody tr th:only-of-type {\n",
              "        vertical-align: middle;\n",
              "    }\n",
              "\n",
              "    .dataframe tbody tr th {\n",
              "        vertical-align: top;\n",
              "    }\n",
              "\n",
              "    .dataframe thead th {\n",
              "        text-align: right;\n",
              "    }\n",
              "</style>\n",
              "<table border=\"1\" class=\"dataframe\">\n",
              "  <thead>\n",
              "    <tr style=\"text-align: right;\">\n",
              "      <th></th>\n",
              "      <th>transactionId</th>\n",
              "      <th>visitorId</th>\n",
              "      <th>date</th>\n",
              "      <th>revenue</th>\n",
              "      <th>group</th>\n",
              "    </tr>\n",
              "  </thead>\n",
              "  <tbody>\n",
              "    <tr>\n",
              "      <th>672</th>\n",
              "      <td>3667885894</td>\n",
              "      <td>1230306981</td>\n",
              "      <td>2019-08-09</td>\n",
              "      <td>6613</td>\n",
              "      <td>A</td>\n",
              "    </tr>\n",
              "    <tr>\n",
              "      <th>674</th>\n",
              "      <td>1748608673</td>\n",
              "      <td>1230306981</td>\n",
              "      <td>2019-08-09</td>\n",
              "      <td>6400</td>\n",
              "      <td>B</td>\n",
              "    </tr>\n",
              "    <tr>\n",
              "      <th>675</th>\n",
              "      <td>2658936877</td>\n",
              "      <td>1230306981</td>\n",
              "      <td>2019-08-09</td>\n",
              "      <td>6440</td>\n",
              "      <td>B</td>\n",
              "    </tr>\n",
              "    <tr>\n",
              "      <th>676</th>\n",
              "      <td>278311817</td>\n",
              "      <td>1230306981</td>\n",
              "      <td>2019-08-09</td>\n",
              "      <td>1690</td>\n",
              "      <td>A</td>\n",
              "    </tr>\n",
              "    <tr>\n",
              "      <th>739</th>\n",
              "      <td>2541955961</td>\n",
              "      <td>1230306981</td>\n",
              "      <td>2019-08-09</td>\n",
              "      <td>10137</td>\n",
              "      <td>A</td>\n",
              "    </tr>\n",
              "  </tbody>\n",
              "</table>\n",
              "</div>"
            ],
            "text/plain": [
              "     transactionId   visitorId        date  revenue group\n",
              "672     3667885894  1230306981  2019-08-09     6613     A\n",
              "674     1748608673  1230306981  2019-08-09     6400     B\n",
              "675     2658936877  1230306981  2019-08-09     6440     B\n",
              "676      278311817  1230306981  2019-08-09     1690     A\n",
              "739     2541955961  1230306981  2019-08-09    10137     A"
            ]
          },
          "metadata": {},
          "output_type": "display_data"
        },
        {
          "data": {
            "text/html": [
              "<div>\n",
              "<style scoped>\n",
              "    .dataframe tbody tr th:only-of-type {\n",
              "        vertical-align: middle;\n",
              "    }\n",
              "\n",
              "    .dataframe tbody tr th {\n",
              "        vertical-align: top;\n",
              "    }\n",
              "\n",
              "    .dataframe thead th {\n",
              "        text-align: right;\n",
              "    }\n",
              "</style>\n",
              "<table border=\"1\" class=\"dataframe\">\n",
              "  <thead>\n",
              "    <tr style=\"text-align: right;\">\n",
              "      <th></th>\n",
              "      <th>transactionId</th>\n",
              "      <th>visitorId</th>\n",
              "      <th>date</th>\n",
              "      <th>revenue</th>\n",
              "      <th>group</th>\n",
              "    </tr>\n",
              "  </thead>\n",
              "  <tbody>\n",
              "    <tr>\n",
              "      <th>662</th>\n",
              "      <td>1811671147</td>\n",
              "      <td>4266935830</td>\n",
              "      <td>2019-08-29</td>\n",
              "      <td>78990</td>\n",
              "      <td>A</td>\n",
              "    </tr>\n",
              "    <tr>\n",
              "      <th>682</th>\n",
              "      <td>1216533772</td>\n",
              "      <td>4266935830</td>\n",
              "      <td>2019-08-29</td>\n",
              "      <td>78990</td>\n",
              "      <td>B</td>\n",
              "    </tr>\n",
              "  </tbody>\n",
              "</table>\n",
              "</div>"
            ],
            "text/plain": [
              "     transactionId   visitorId        date  revenue group\n",
              "662     1811671147  4266935830  2019-08-29    78990     A\n",
              "682     1216533772  4266935830  2019-08-29    78990     B"
            ]
          },
          "metadata": {},
          "output_type": "display_data"
        },
        {
          "data": {
            "text/html": [
              "<div>\n",
              "<style scoped>\n",
              "    .dataframe tbody tr th:only-of-type {\n",
              "        vertical-align: middle;\n",
              "    }\n",
              "\n",
              "    .dataframe tbody tr th {\n",
              "        vertical-align: top;\n",
              "    }\n",
              "\n",
              "    .dataframe thead th {\n",
              "        text-align: right;\n",
              "    }\n",
              "</style>\n",
              "<table border=\"1\" class=\"dataframe\">\n",
              "  <thead>\n",
              "    <tr style=\"text-align: right;\">\n",
              "      <th></th>\n",
              "      <th>transactionId</th>\n",
              "      <th>visitorId</th>\n",
              "      <th>date</th>\n",
              "      <th>revenue</th>\n",
              "      <th>group</th>\n",
              "    </tr>\n",
              "  </thead>\n",
              "  <tbody>\n",
              "    <tr>\n",
              "      <th>685</th>\n",
              "      <td>2972137054</td>\n",
              "      <td>1614305549</td>\n",
              "      <td>2019-08-29</td>\n",
              "      <td>9680</td>\n",
              "      <td>B</td>\n",
              "    </tr>\n",
              "    <tr>\n",
              "      <th>687</th>\n",
              "      <td>2663041816</td>\n",
              "      <td>1614305549</td>\n",
              "      <td>2019-08-29</td>\n",
              "      <td>1530</td>\n",
              "      <td>A</td>\n",
              "    </tr>\n",
              "    <tr>\n",
              "      <th>767</th>\n",
              "      <td>1278695805</td>\n",
              "      <td>1614305549</td>\n",
              "      <td>2019-08-21</td>\n",
              "      <td>750</td>\n",
              "      <td>A</td>\n",
              "    </tr>\n",
              "    <tr>\n",
              "      <th>1195</th>\n",
              "      <td>1947021204</td>\n",
              "      <td>1614305549</td>\n",
              "      <td>2019-08-14</td>\n",
              "      <td>100</td>\n",
              "      <td>A</td>\n",
              "    </tr>\n",
              "  </tbody>\n",
              "</table>\n",
              "</div>"
            ],
            "text/plain": [
              "      transactionId   visitorId        date  revenue group\n",
              "685      2972137054  1614305549  2019-08-29     9680     B\n",
              "687      2663041816  1614305549  2019-08-29     1530     A\n",
              "767      1278695805  1614305549  2019-08-21      750     A\n",
              "1195     1947021204  1614305549  2019-08-14      100     A"
            ]
          },
          "metadata": {},
          "output_type": "display_data"
        },
        {
          "data": {
            "text/html": [
              "<div>\n",
              "<style scoped>\n",
              "    .dataframe tbody tr th:only-of-type {\n",
              "        vertical-align: middle;\n",
              "    }\n",
              "\n",
              "    .dataframe tbody tr th {\n",
              "        vertical-align: top;\n",
              "    }\n",
              "\n",
              "    .dataframe thead th {\n",
              "        text-align: right;\n",
              "    }\n",
              "</style>\n",
              "<table border=\"1\" class=\"dataframe\">\n",
              "  <thead>\n",
              "    <tr style=\"text-align: right;\">\n",
              "      <th></th>\n",
              "      <th>transactionId</th>\n",
              "      <th>visitorId</th>\n",
              "      <th>date</th>\n",
              "      <th>revenue</th>\n",
              "      <th>group</th>\n",
              "    </tr>\n",
              "  </thead>\n",
              "  <tbody>\n",
              "    <tr>\n",
              "      <th>450</th>\n",
              "      <td>1750160666</td>\n",
              "      <td>1333886533</td>\n",
              "      <td>2019-08-06</td>\n",
              "      <td>1460</td>\n",
              "      <td>A</td>\n",
              "    </tr>\n",
              "    <tr>\n",
              "      <th>688</th>\n",
              "      <td>511953429</td>\n",
              "      <td>1333886533</td>\n",
              "      <td>2019-08-29</td>\n",
              "      <td>2950</td>\n",
              "      <td>B</td>\n",
              "    </tr>\n",
              "  </tbody>\n",
              "</table>\n",
              "</div>"
            ],
            "text/plain": [
              "     transactionId   visitorId        date  revenue group\n",
              "450     1750160666  1333886533  2019-08-06     1460     A\n",
              "688      511953429  1333886533  2019-08-29     2950     B"
            ]
          },
          "metadata": {},
          "output_type": "display_data"
        },
        {
          "data": {
            "text/html": [
              "<div>\n",
              "<style scoped>\n",
              "    .dataframe tbody tr th:only-of-type {\n",
              "        vertical-align: middle;\n",
              "    }\n",
              "\n",
              "    .dataframe tbody tr th {\n",
              "        vertical-align: top;\n",
              "    }\n",
              "\n",
              "    .dataframe thead th {\n",
              "        text-align: right;\n",
              "    }\n",
              "</style>\n",
              "<table border=\"1\" class=\"dataframe\">\n",
              "  <thead>\n",
              "    <tr style=\"text-align: right;\">\n",
              "      <th></th>\n",
              "      <th>transactionId</th>\n",
              "      <th>visitorId</th>\n",
              "      <th>date</th>\n",
              "      <th>revenue</th>\n",
              "      <th>group</th>\n",
              "    </tr>\n",
              "  </thead>\n",
              "  <tbody>\n",
              "    <tr>\n",
              "      <th>730</th>\n",
              "      <td>3335803766</td>\n",
              "      <td>477780734</td>\n",
              "      <td>2019-08-30</td>\n",
              "      <td>7300</td>\n",
              "      <td>A</td>\n",
              "    </tr>\n",
              "    <tr>\n",
              "      <th>732</th>\n",
              "      <td>132561921</td>\n",
              "      <td>477780734</td>\n",
              "      <td>2019-08-30</td>\n",
              "      <td>3650</td>\n",
              "      <td>B</td>\n",
              "    </tr>\n",
              "  </tbody>\n",
              "</table>\n",
              "</div>"
            ],
            "text/plain": [
              "     transactionId  visitorId        date  revenue group\n",
              "730     3335803766  477780734  2019-08-30     7300     A\n",
              "732      132561921  477780734  2019-08-30     3650     B"
            ]
          },
          "metadata": {},
          "output_type": "display_data"
        },
        {
          "data": {
            "text/html": [
              "<div>\n",
              "<style scoped>\n",
              "    .dataframe tbody tr th:only-of-type {\n",
              "        vertical-align: middle;\n",
              "    }\n",
              "\n",
              "    .dataframe tbody tr th {\n",
              "        vertical-align: top;\n",
              "    }\n",
              "\n",
              "    .dataframe thead th {\n",
              "        text-align: right;\n",
              "    }\n",
              "</style>\n",
              "<table border=\"1\" class=\"dataframe\">\n",
              "  <thead>\n",
              "    <tr style=\"text-align: right;\">\n",
              "      <th></th>\n",
              "      <th>transactionId</th>\n",
              "      <th>visitorId</th>\n",
              "      <th>date</th>\n",
              "      <th>revenue</th>\n",
              "      <th>group</th>\n",
              "    </tr>\n",
              "  </thead>\n",
              "  <tbody>\n",
              "    <tr>\n",
              "      <th>778</th>\n",
              "      <td>2726404029</td>\n",
              "      <td>1602967004</td>\n",
              "      <td>2019-08-27</td>\n",
              "      <td>4740</td>\n",
              "      <td>B</td>\n",
              "    </tr>\n",
              "    <tr>\n",
              "      <th>914</th>\n",
              "      <td>2792059099</td>\n",
              "      <td>1602967004</td>\n",
              "      <td>2019-08-08</td>\n",
              "      <td>4040</td>\n",
              "      <td>A</td>\n",
              "    </tr>\n",
              "  </tbody>\n",
              "</table>\n",
              "</div>"
            ],
            "text/plain": [
              "     transactionId   visitorId        date  revenue group\n",
              "778     2726404029  1602967004  2019-08-27     4740     B\n",
              "914     2792059099  1602967004  2019-08-08     4040     A"
            ]
          },
          "metadata": {},
          "output_type": "display_data"
        },
        {
          "data": {
            "text/html": [
              "<div>\n",
              "<style scoped>\n",
              "    .dataframe tbody tr th:only-of-type {\n",
              "        vertical-align: middle;\n",
              "    }\n",
              "\n",
              "    .dataframe tbody tr th {\n",
              "        vertical-align: top;\n",
              "    }\n",
              "\n",
              "    .dataframe thead th {\n",
              "        text-align: right;\n",
              "    }\n",
              "</style>\n",
              "<table border=\"1\" class=\"dataframe\">\n",
              "  <thead>\n",
              "    <tr style=\"text-align: right;\">\n",
              "      <th></th>\n",
              "      <th>transactionId</th>\n",
              "      <th>visitorId</th>\n",
              "      <th>date</th>\n",
              "      <th>revenue</th>\n",
              "      <th>group</th>\n",
              "    </tr>\n",
              "  </thead>\n",
              "  <tbody>\n",
              "    <tr>\n",
              "      <th>375</th>\n",
              "      <td>1863281703</td>\n",
              "      <td>1959144690</td>\n",
              "      <td>2019-08-25</td>\n",
              "      <td>16480</td>\n",
              "      <td>A</td>\n",
              "    </tr>\n",
              "    <tr>\n",
              "      <th>783</th>\n",
              "      <td>189332332</td>\n",
              "      <td>1959144690</td>\n",
              "      <td>2019-08-27</td>\n",
              "      <td>16480</td>\n",
              "      <td>B</td>\n",
              "    </tr>\n",
              "  </tbody>\n",
              "</table>\n",
              "</div>"
            ],
            "text/plain": [
              "     transactionId   visitorId        date  revenue group\n",
              "375     1863281703  1959144690  2019-08-25    16480     A\n",
              "783      189332332  1959144690  2019-08-27    16480     B"
            ]
          },
          "metadata": {},
          "output_type": "display_data"
        },
        {
          "data": {
            "text/html": [
              "<div>\n",
              "<style scoped>\n",
              "    .dataframe tbody tr th:only-of-type {\n",
              "        vertical-align: middle;\n",
              "    }\n",
              "\n",
              "    .dataframe tbody tr th {\n",
              "        vertical-align: top;\n",
              "    }\n",
              "\n",
              "    .dataframe thead th {\n",
              "        text-align: right;\n",
              "    }\n",
              "</style>\n",
              "<table border=\"1\" class=\"dataframe\">\n",
              "  <thead>\n",
              "    <tr style=\"text-align: right;\">\n",
              "      <th></th>\n",
              "      <th>transactionId</th>\n",
              "      <th>visitorId</th>\n",
              "      <th>date</th>\n",
              "      <th>revenue</th>\n",
              "      <th>group</th>\n",
              "    </tr>\n",
              "  </thead>\n",
              "  <tbody>\n",
              "    <tr>\n",
              "      <th>805</th>\n",
              "      <td>2726113349</td>\n",
              "      <td>1801183820</td>\n",
              "      <td>2019-08-05</td>\n",
              "      <td>100</td>\n",
              "      <td>B</td>\n",
              "    </tr>\n",
              "    <tr>\n",
              "      <th>879</th>\n",
              "      <td>1197739160</td>\n",
              "      <td>1801183820</td>\n",
              "      <td>2019-08-05</td>\n",
              "      <td>390</td>\n",
              "      <td>A</td>\n",
              "    </tr>\n",
              "  </tbody>\n",
              "</table>\n",
              "</div>"
            ],
            "text/plain": [
              "     transactionId   visitorId        date  revenue group\n",
              "805     2726113349  1801183820  2019-08-05      100     B\n",
              "879     1197739160  1801183820  2019-08-05      390     A"
            ]
          },
          "metadata": {},
          "output_type": "display_data"
        },
        {
          "data": {
            "text/html": [
              "<div>\n",
              "<style scoped>\n",
              "    .dataframe tbody tr th:only-of-type {\n",
              "        vertical-align: middle;\n",
              "    }\n",
              "\n",
              "    .dataframe tbody tr th {\n",
              "        vertical-align: top;\n",
              "    }\n",
              "\n",
              "    .dataframe thead th {\n",
              "        text-align: right;\n",
              "    }\n",
              "</style>\n",
              "<table border=\"1\" class=\"dataframe\">\n",
              "  <thead>\n",
              "    <tr style=\"text-align: right;\">\n",
              "      <th></th>\n",
              "      <th>transactionId</th>\n",
              "      <th>visitorId</th>\n",
              "      <th>date</th>\n",
              "      <th>revenue</th>\n",
              "      <th>group</th>\n",
              "    </tr>\n",
              "  </thead>\n",
              "  <tbody>\n",
              "    <tr>\n",
              "      <th>814</th>\n",
              "      <td>1759418862</td>\n",
              "      <td>4186807279</td>\n",
              "      <td>2019-08-21</td>\n",
              "      <td>18560</td>\n",
              "      <td>B</td>\n",
              "    </tr>\n",
              "    <tr>\n",
              "      <th>819</th>\n",
              "      <td>380064637</td>\n",
              "      <td>4186807279</td>\n",
              "      <td>2019-08-27</td>\n",
              "      <td>13740</td>\n",
              "      <td>B</td>\n",
              "    </tr>\n",
              "    <tr>\n",
              "      <th>1167</th>\n",
              "      <td>3757656646</td>\n",
              "      <td>4186807279</td>\n",
              "      <td>2019-08-14</td>\n",
              "      <td>4990</td>\n",
              "      <td>A</td>\n",
              "    </tr>\n",
              "  </tbody>\n",
              "</table>\n",
              "</div>"
            ],
            "text/plain": [
              "      transactionId   visitorId        date  revenue group\n",
              "814      1759418862  4186807279  2019-08-21    18560     B\n",
              "819       380064637  4186807279  2019-08-27    13740     B\n",
              "1167     3757656646  4186807279  2019-08-14     4990     A"
            ]
          },
          "metadata": {},
          "output_type": "display_data"
        },
        {
          "data": {
            "text/html": [
              "<div>\n",
              "<style scoped>\n",
              "    .dataframe tbody tr th:only-of-type {\n",
              "        vertical-align: middle;\n",
              "    }\n",
              "\n",
              "    .dataframe tbody tr th {\n",
              "        vertical-align: top;\n",
              "    }\n",
              "\n",
              "    .dataframe thead th {\n",
              "        text-align: right;\n",
              "    }\n",
              "</style>\n",
              "<table border=\"1\" class=\"dataframe\">\n",
              "  <thead>\n",
              "    <tr style=\"text-align: right;\">\n",
              "      <th></th>\n",
              "      <th>transactionId</th>\n",
              "      <th>visitorId</th>\n",
              "      <th>date</th>\n",
              "      <th>revenue</th>\n",
              "      <th>group</th>\n",
              "    </tr>\n",
              "  </thead>\n",
              "  <tbody>\n",
              "    <tr>\n",
              "      <th>829</th>\n",
              "      <td>2514024187</td>\n",
              "      <td>3766097110</td>\n",
              "      <td>2019-08-30</td>\n",
              "      <td>980</td>\n",
              "      <td>A</td>\n",
              "    </tr>\n",
              "    <tr>\n",
              "      <th>832</th>\n",
              "      <td>2470658885</td>\n",
              "      <td>3766097110</td>\n",
              "      <td>2019-08-30</td>\n",
              "      <td>360</td>\n",
              "      <td>B</td>\n",
              "    </tr>\n",
              "  </tbody>\n",
              "</table>\n",
              "</div>"
            ],
            "text/plain": [
              "     transactionId   visitorId        date  revenue group\n",
              "829     2514024187  3766097110  2019-08-30      980     A\n",
              "832     2470658885  3766097110  2019-08-30      360     B"
            ]
          },
          "metadata": {},
          "output_type": "display_data"
        },
        {
          "data": {
            "text/html": [
              "<div>\n",
              "<style scoped>\n",
              "    .dataframe tbody tr th:only-of-type {\n",
              "        vertical-align: middle;\n",
              "    }\n",
              "\n",
              "    .dataframe tbody tr th {\n",
              "        vertical-align: top;\n",
              "    }\n",
              "\n",
              "    .dataframe thead th {\n",
              "        text-align: right;\n",
              "    }\n",
              "</style>\n",
              "<table border=\"1\" class=\"dataframe\">\n",
              "  <thead>\n",
              "    <tr style=\"text-align: right;\">\n",
              "      <th></th>\n",
              "      <th>transactionId</th>\n",
              "      <th>visitorId</th>\n",
              "      <th>date</th>\n",
              "      <th>revenue</th>\n",
              "      <th>group</th>\n",
              "    </tr>\n",
              "  </thead>\n",
              "  <tbody>\n",
              "    <tr>\n",
              "      <th>304</th>\n",
              "      <td>609915801</td>\n",
              "      <td>2780786433</td>\n",
              "      <td>2019-08-28</td>\n",
              "      <td>1200</td>\n",
              "      <td>A</td>\n",
              "    </tr>\n",
              "    <tr>\n",
              "      <th>548</th>\n",
              "      <td>430186476</td>\n",
              "      <td>2780786433</td>\n",
              "      <td>2019-08-29</td>\n",
              "      <td>1580</td>\n",
              "      <td>A</td>\n",
              "    </tr>\n",
              "    <tr>\n",
              "      <th>857</th>\n",
              "      <td>847315305</td>\n",
              "      <td>2780786433</td>\n",
              "      <td>2019-08-27</td>\n",
              "      <td>540</td>\n",
              "      <td>B</td>\n",
              "    </tr>\n",
              "  </tbody>\n",
              "</table>\n",
              "</div>"
            ],
            "text/plain": [
              "     transactionId   visitorId        date  revenue group\n",
              "304      609915801  2780786433  2019-08-28     1200     A\n",
              "548      430186476  2780786433  2019-08-29     1580     A\n",
              "857      847315305  2780786433  2019-08-27      540     B"
            ]
          },
          "metadata": {},
          "output_type": "display_data"
        },
        {
          "data": {
            "text/html": [
              "<div>\n",
              "<style scoped>\n",
              "    .dataframe tbody tr th:only-of-type {\n",
              "        vertical-align: middle;\n",
              "    }\n",
              "\n",
              "    .dataframe tbody tr th {\n",
              "        vertical-align: top;\n",
              "    }\n",
              "\n",
              "    .dataframe thead th {\n",
              "        text-align: right;\n",
              "    }\n",
              "</style>\n",
              "<table border=\"1\" class=\"dataframe\">\n",
              "  <thead>\n",
              "    <tr style=\"text-align: right;\">\n",
              "      <th></th>\n",
              "      <th>transactionId</th>\n",
              "      <th>visitorId</th>\n",
              "      <th>date</th>\n",
              "      <th>revenue</th>\n",
              "      <th>group</th>\n",
              "    </tr>\n",
              "  </thead>\n",
              "  <tbody>\n",
              "    <tr>\n",
              "      <th>858</th>\n",
              "      <td>192721366</td>\n",
              "      <td>1316129916</td>\n",
              "      <td>2019-08-27</td>\n",
              "      <td>93940</td>\n",
              "      <td>A</td>\n",
              "    </tr>\n",
              "    <tr>\n",
              "      <th>900</th>\n",
              "      <td>3922986948</td>\n",
              "      <td>1316129916</td>\n",
              "      <td>2019-08-27</td>\n",
              "      <td>830</td>\n",
              "      <td>B</td>\n",
              "    </tr>\n",
              "  </tbody>\n",
              "</table>\n",
              "</div>"
            ],
            "text/plain": [
              "     transactionId   visitorId        date  revenue group\n",
              "858      192721366  1316129916  2019-08-27    93940     A\n",
              "900     3922986948  1316129916  2019-08-27      830     B"
            ]
          },
          "metadata": {},
          "output_type": "display_data"
        },
        {
          "data": {
            "text/html": [
              "<div>\n",
              "<style scoped>\n",
              "    .dataframe tbody tr th:only-of-type {\n",
              "        vertical-align: middle;\n",
              "    }\n",
              "\n",
              "    .dataframe tbody tr th {\n",
              "        vertical-align: top;\n",
              "    }\n",
              "\n",
              "    .dataframe thead th {\n",
              "        text-align: right;\n",
              "    }\n",
              "</style>\n",
              "<table border=\"1\" class=\"dataframe\">\n",
              "  <thead>\n",
              "    <tr style=\"text-align: right;\">\n",
              "      <th></th>\n",
              "      <th>transactionId</th>\n",
              "      <th>visitorId</th>\n",
              "      <th>date</th>\n",
              "      <th>revenue</th>\n",
              "      <th>group</th>\n",
              "    </tr>\n",
              "  </thead>\n",
              "  <tbody>\n",
              "    <tr>\n",
              "      <th>525</th>\n",
              "      <td>3031564664</td>\n",
              "      <td>393266494</td>\n",
              "      <td>2019-08-19</td>\n",
              "      <td>21550</td>\n",
              "      <td>A</td>\n",
              "    </tr>\n",
              "    <tr>\n",
              "      <th>936</th>\n",
              "      <td>936917445</td>\n",
              "      <td>393266494</td>\n",
              "      <td>2019-08-08</td>\n",
              "      <td>2190</td>\n",
              "      <td>B</td>\n",
              "    </tr>\n",
              "    <tr>\n",
              "      <th>1189</th>\n",
              "      <td>4082620617</td>\n",
              "      <td>393266494</td>\n",
              "      <td>2019-08-14</td>\n",
              "      <td>31550</td>\n",
              "      <td>B</td>\n",
              "    </tr>\n",
              "  </tbody>\n",
              "</table>\n",
              "</div>"
            ],
            "text/plain": [
              "      transactionId  visitorId        date  revenue group\n",
              "525      3031564664  393266494  2019-08-19    21550     A\n",
              "936       936917445  393266494  2019-08-08     2190     B\n",
              "1189     4082620617  393266494  2019-08-14    31550     B"
            ]
          },
          "metadata": {},
          "output_type": "display_data"
        },
        {
          "data": {
            "text/html": [
              "<div>\n",
              "<style scoped>\n",
              "    .dataframe tbody tr th:only-of-type {\n",
              "        vertical-align: middle;\n",
              "    }\n",
              "\n",
              "    .dataframe tbody tr th {\n",
              "        vertical-align: top;\n",
              "    }\n",
              "\n",
              "    .dataframe thead th {\n",
              "        text-align: right;\n",
              "    }\n",
              "</style>\n",
              "<table border=\"1\" class=\"dataframe\">\n",
              "  <thead>\n",
              "    <tr style=\"text-align: right;\">\n",
              "      <th></th>\n",
              "      <th>transactionId</th>\n",
              "      <th>visitorId</th>\n",
              "      <th>date</th>\n",
              "      <th>revenue</th>\n",
              "      <th>group</th>\n",
              "    </tr>\n",
              "  </thead>\n",
              "  <tbody>\n",
              "    <tr>\n",
              "      <th>842</th>\n",
              "      <td>2076434956</td>\n",
              "      <td>3941795274</td>\n",
              "      <td>2019-08-21</td>\n",
              "      <td>990</td>\n",
              "      <td>A</td>\n",
              "    </tr>\n",
              "    <tr>\n",
              "      <th>973</th>\n",
              "      <td>698171827</td>\n",
              "      <td>3941795274</td>\n",
              "      <td>2019-08-22</td>\n",
              "      <td>1320</td>\n",
              "      <td>B</td>\n",
              "    </tr>\n",
              "  </tbody>\n",
              "</table>\n",
              "</div>"
            ],
            "text/plain": [
              "     transactionId   visitorId        date  revenue group\n",
              "842     2076434956  3941795274  2019-08-21      990     A\n",
              "973      698171827  3941795274  2019-08-22     1320     B"
            ]
          },
          "metadata": {},
          "output_type": "display_data"
        },
        {
          "data": {
            "text/html": [
              "<div>\n",
              "<style scoped>\n",
              "    .dataframe tbody tr th:only-of-type {\n",
              "        vertical-align: middle;\n",
              "    }\n",
              "\n",
              "    .dataframe tbody tr th {\n",
              "        vertical-align: top;\n",
              "    }\n",
              "\n",
              "    .dataframe thead th {\n",
              "        text-align: right;\n",
              "    }\n",
              "</style>\n",
              "<table border=\"1\" class=\"dataframe\">\n",
              "  <thead>\n",
              "    <tr style=\"text-align: right;\">\n",
              "      <th></th>\n",
              "      <th>transactionId</th>\n",
              "      <th>visitorId</th>\n",
              "      <th>date</th>\n",
              "      <th>revenue</th>\n",
              "      <th>group</th>\n",
              "    </tr>\n",
              "  </thead>\n",
              "  <tbody>\n",
              "    <tr>\n",
              "      <th>1009</th>\n",
              "      <td>2670069237</td>\n",
              "      <td>232979603</td>\n",
              "      <td>2019-08-31</td>\n",
              "      <td>2640</td>\n",
              "      <td>B</td>\n",
              "    </tr>\n",
              "    <tr>\n",
              "      <th>1013</th>\n",
              "      <td>83566152</td>\n",
              "      <td>232979603</td>\n",
              "      <td>2019-08-31</td>\n",
              "      <td>60</td>\n",
              "      <td>A</td>\n",
              "    </tr>\n",
              "  </tbody>\n",
              "</table>\n",
              "</div>"
            ],
            "text/plain": [
              "      transactionId  visitorId        date  revenue group\n",
              "1009     2670069237  232979603  2019-08-31     2640     B\n",
              "1013       83566152  232979603  2019-08-31       60     A"
            ]
          },
          "metadata": {},
          "output_type": "display_data"
        },
        {
          "data": {
            "text/html": [
              "<div>\n",
              "<style scoped>\n",
              "    .dataframe tbody tr th:only-of-type {\n",
              "        vertical-align: middle;\n",
              "    }\n",
              "\n",
              "    .dataframe tbody tr th {\n",
              "        vertical-align: top;\n",
              "    }\n",
              "\n",
              "    .dataframe thead th {\n",
              "        text-align: right;\n",
              "    }\n",
              "</style>\n",
              "<table border=\"1\" class=\"dataframe\">\n",
              "  <thead>\n",
              "    <tr style=\"text-align: right;\">\n",
              "      <th></th>\n",
              "      <th>transactionId</th>\n",
              "      <th>visitorId</th>\n",
              "      <th>date</th>\n",
              "      <th>revenue</th>\n",
              "      <th>group</th>\n",
              "    </tr>\n",
              "  </thead>\n",
              "  <tbody>\n",
              "    <tr>\n",
              "      <th>627</th>\n",
              "      <td>4212256267</td>\n",
              "      <td>4120364173</td>\n",
              "      <td>2019-08-29</td>\n",
              "      <td>39800</td>\n",
              "      <td>A</td>\n",
              "    </tr>\n",
              "    <tr>\n",
              "      <th>1021</th>\n",
              "      <td>969750843</td>\n",
              "      <td>4120364173</td>\n",
              "      <td>2019-08-31</td>\n",
              "      <td>15500</td>\n",
              "      <td>B</td>\n",
              "    </tr>\n",
              "  </tbody>\n",
              "</table>\n",
              "</div>"
            ],
            "text/plain": [
              "      transactionId   visitorId        date  revenue group\n",
              "627      4212256267  4120364173  2019-08-29    39800     A\n",
              "1021      969750843  4120364173  2019-08-31    15500     B"
            ]
          },
          "metadata": {},
          "output_type": "display_data"
        },
        {
          "data": {
            "text/html": [
              "<div>\n",
              "<style scoped>\n",
              "    .dataframe tbody tr th:only-of-type {\n",
              "        vertical-align: middle;\n",
              "    }\n",
              "\n",
              "    .dataframe tbody tr th {\n",
              "        vertical-align: top;\n",
              "    }\n",
              "\n",
              "    .dataframe thead th {\n",
              "        text-align: right;\n",
              "    }\n",
              "</style>\n",
              "<table border=\"1\" class=\"dataframe\">\n",
              "  <thead>\n",
              "    <tr style=\"text-align: right;\">\n",
              "      <th></th>\n",
              "      <th>transactionId</th>\n",
              "      <th>visitorId</th>\n",
              "      <th>date</th>\n",
              "      <th>revenue</th>\n",
              "      <th>group</th>\n",
              "    </tr>\n",
              "  </thead>\n",
              "  <tbody>\n",
              "    <tr>\n",
              "      <th>200</th>\n",
              "      <td>2066718132</td>\n",
              "      <td>3656415546</td>\n",
              "      <td>2019-08-23</td>\n",
              "      <td>2845</td>\n",
              "      <td>A</td>\n",
              "    </tr>\n",
              "    <tr>\n",
              "      <th>1042</th>\n",
              "      <td>265631116</td>\n",
              "      <td>3656415546</td>\n",
              "      <td>2019-08-11</td>\n",
              "      <td>250</td>\n",
              "      <td>B</td>\n",
              "    </tr>\n",
              "  </tbody>\n",
              "</table>\n",
              "</div>"
            ],
            "text/plain": [
              "      transactionId   visitorId        date  revenue group\n",
              "200      2066718132  3656415546  2019-08-23     2845     A\n",
              "1042      265631116  3656415546  2019-08-11      250     B"
            ]
          },
          "metadata": {},
          "output_type": "display_data"
        },
        {
          "data": {
            "text/html": [
              "<div>\n",
              "<style scoped>\n",
              "    .dataframe tbody tr th:only-of-type {\n",
              "        vertical-align: middle;\n",
              "    }\n",
              "\n",
              "    .dataframe tbody tr th {\n",
              "        vertical-align: top;\n",
              "    }\n",
              "\n",
              "    .dataframe thead th {\n",
              "        text-align: right;\n",
              "    }\n",
              "</style>\n",
              "<table border=\"1\" class=\"dataframe\">\n",
              "  <thead>\n",
              "    <tr style=\"text-align: right;\">\n",
              "      <th></th>\n",
              "      <th>transactionId</th>\n",
              "      <th>visitorId</th>\n",
              "      <th>date</th>\n",
              "      <th>revenue</th>\n",
              "      <th>group</th>\n",
              "    </tr>\n",
              "  </thead>\n",
              "  <tbody>\n",
              "    <tr>\n",
              "      <th>2</th>\n",
              "      <td>2961555356</td>\n",
              "      <td>4069496402</td>\n",
              "      <td>2019-08-15</td>\n",
              "      <td>400</td>\n",
              "      <td>A</td>\n",
              "    </tr>\n",
              "    <tr>\n",
              "      <th>1070</th>\n",
              "      <td>1473132782</td>\n",
              "      <td>4069496402</td>\n",
              "      <td>2019-08-12</td>\n",
              "      <td>640</td>\n",
              "      <td>B</td>\n",
              "    </tr>\n",
              "  </tbody>\n",
              "</table>\n",
              "</div>"
            ],
            "text/plain": [
              "      transactionId   visitorId        date  revenue group\n",
              "2        2961555356  4069496402  2019-08-15      400     A\n",
              "1070     1473132782  4069496402  2019-08-12      640     B"
            ]
          },
          "metadata": {},
          "output_type": "display_data"
        },
        {
          "data": {
            "text/html": [
              "<div>\n",
              "<style scoped>\n",
              "    .dataframe tbody tr th:only-of-type {\n",
              "        vertical-align: middle;\n",
              "    }\n",
              "\n",
              "    .dataframe tbody tr th {\n",
              "        vertical-align: top;\n",
              "    }\n",
              "\n",
              "    .dataframe thead th {\n",
              "        text-align: right;\n",
              "    }\n",
              "</style>\n",
              "<table border=\"1\" class=\"dataframe\">\n",
              "  <thead>\n",
              "    <tr style=\"text-align: right;\">\n",
              "      <th></th>\n",
              "      <th>transactionId</th>\n",
              "      <th>visitorId</th>\n",
              "      <th>date</th>\n",
              "      <th>revenue</th>\n",
              "      <th>group</th>\n",
              "    </tr>\n",
              "  </thead>\n",
              "  <tbody>\n",
              "    <tr>\n",
              "      <th>1122</th>\n",
              "      <td>3620682463</td>\n",
              "      <td>2654030115</td>\n",
              "      <td>2019-08-13</td>\n",
              "      <td>1980</td>\n",
              "      <td>B</td>\n",
              "    </tr>\n",
              "    <tr>\n",
              "      <th>1156</th>\n",
              "      <td>1254962016</td>\n",
              "      <td>2654030115</td>\n",
              "      <td>2019-08-14</td>\n",
              "      <td>1980</td>\n",
              "      <td>A</td>\n",
              "    </tr>\n",
              "  </tbody>\n",
              "</table>\n",
              "</div>"
            ],
            "text/plain": [
              "      transactionId   visitorId        date  revenue group\n",
              "1122     3620682463  2654030115  2019-08-13     1980     B\n",
              "1156     1254962016  2654030115  2019-08-14     1980     A"
            ]
          },
          "metadata": {},
          "output_type": "display_data"
        },
        {
          "data": {
            "text/html": [
              "<div>\n",
              "<style scoped>\n",
              "    .dataframe tbody tr th:only-of-type {\n",
              "        vertical-align: middle;\n",
              "    }\n",
              "\n",
              "    .dataframe tbody tr th {\n",
              "        vertical-align: top;\n",
              "    }\n",
              "\n",
              "    .dataframe thead th {\n",
              "        text-align: right;\n",
              "    }\n",
              "</style>\n",
              "<table border=\"1\" class=\"dataframe\">\n",
              "  <thead>\n",
              "    <tr style=\"text-align: right;\">\n",
              "      <th></th>\n",
              "      <th>transactionId</th>\n",
              "      <th>visitorId</th>\n",
              "      <th>date</th>\n",
              "      <th>revenue</th>\n",
              "      <th>group</th>\n",
              "    </tr>\n",
              "  </thead>\n",
              "  <tbody>\n",
              "    <tr>\n",
              "      <th>325</th>\n",
              "      <td>4276811111</td>\n",
              "      <td>818047933</td>\n",
              "      <td>2019-08-28</td>\n",
              "      <td>3460</td>\n",
              "      <td>A</td>\n",
              "    </tr>\n",
              "    <tr>\n",
              "      <th>1163</th>\n",
              "      <td>2357685128</td>\n",
              "      <td>818047933</td>\n",
              "      <td>2019-08-14</td>\n",
              "      <td>400</td>\n",
              "      <td>B</td>\n",
              "    </tr>\n",
              "  </tbody>\n",
              "</table>\n",
              "</div>"
            ],
            "text/plain": [
              "      transactionId  visitorId        date  revenue group\n",
              "325      4276811111  818047933  2019-08-28     3460     A\n",
              "1163     2357685128  818047933  2019-08-14      400     B"
            ]
          },
          "metadata": {},
          "output_type": "display_data"
        },
        {
          "data": {
            "text/html": [
              "<div>\n",
              "<style scoped>\n",
              "    .dataframe tbody tr th:only-of-type {\n",
              "        vertical-align: middle;\n",
              "    }\n",
              "\n",
              "    .dataframe tbody tr th {\n",
              "        vertical-align: top;\n",
              "    }\n",
              "\n",
              "    .dataframe thead th {\n",
              "        text-align: right;\n",
              "    }\n",
              "</style>\n",
              "<table border=\"1\" class=\"dataframe\">\n",
              "  <thead>\n",
              "    <tr style=\"text-align: right;\">\n",
              "      <th></th>\n",
              "      <th>transactionId</th>\n",
              "      <th>visitorId</th>\n",
              "      <th>date</th>\n",
              "      <th>revenue</th>\n",
              "      <th>group</th>\n",
              "    </tr>\n",
              "  </thead>\n",
              "  <tbody>\n",
              "    <tr>\n",
              "      <th>1162</th>\n",
              "      <td>1277417350</td>\n",
              "      <td>3963646447</td>\n",
              "      <td>2019-08-14</td>\n",
              "      <td>6385</td>\n",
              "      <td>A</td>\n",
              "    </tr>\n",
              "    <tr>\n",
              "      <th>1165</th>\n",
              "      <td>2289555915</td>\n",
              "      <td>3963646447</td>\n",
              "      <td>2019-08-14</td>\n",
              "      <td>7485</td>\n",
              "      <td>B</td>\n",
              "    </tr>\n",
              "  </tbody>\n",
              "</table>\n",
              "</div>"
            ],
            "text/plain": [
              "      transactionId   visitorId        date  revenue group\n",
              "1162     1277417350  3963646447  2019-08-14     6385     A\n",
              "1165     2289555915  3963646447  2019-08-14     7485     B"
            ]
          },
          "metadata": {},
          "output_type": "display_data"
        },
        {
          "data": {
            "text/html": [
              "<div>\n",
              "<style scoped>\n",
              "    .dataframe tbody tr th:only-of-type {\n",
              "        vertical-align: middle;\n",
              "    }\n",
              "\n",
              "    .dataframe tbody tr th {\n",
              "        vertical-align: top;\n",
              "    }\n",
              "\n",
              "    .dataframe thead th {\n",
              "        text-align: right;\n",
              "    }\n",
              "</style>\n",
              "<table border=\"1\" class=\"dataframe\">\n",
              "  <thead>\n",
              "    <tr style=\"text-align: right;\">\n",
              "      <th></th>\n",
              "      <th>transactionId</th>\n",
              "      <th>visitorId</th>\n",
              "      <th>date</th>\n",
              "      <th>revenue</th>\n",
              "      <th>group</th>\n",
              "    </tr>\n",
              "  </thead>\n",
              "  <tbody>\n",
              "    <tr>\n",
              "      <th>844</th>\n",
              "      <td>3734714128</td>\n",
              "      <td>471551937</td>\n",
              "      <td>2019-08-05</td>\n",
              "      <td>22950</td>\n",
              "      <td>A</td>\n",
              "    </tr>\n",
              "    <tr>\n",
              "      <th>1166</th>\n",
              "      <td>2676541142</td>\n",
              "      <td>471551937</td>\n",
              "      <td>2019-08-14</td>\n",
              "      <td>3460</td>\n",
              "      <td>B</td>\n",
              "    </tr>\n",
              "  </tbody>\n",
              "</table>\n",
              "</div>"
            ],
            "text/plain": [
              "      transactionId  visitorId        date  revenue group\n",
              "844      3734714128  471551937  2019-08-05    22950     A\n",
              "1166     2676541142  471551937  2019-08-14     3460     B"
            ]
          },
          "metadata": {},
          "output_type": "display_data"
        },
        {
          "data": {
            "text/html": [
              "<div>\n",
              "<style scoped>\n",
              "    .dataframe tbody tr th:only-of-type {\n",
              "        vertical-align: middle;\n",
              "    }\n",
              "\n",
              "    .dataframe tbody tr th {\n",
              "        vertical-align: top;\n",
              "    }\n",
              "\n",
              "    .dataframe thead th {\n",
              "        text-align: right;\n",
              "    }\n",
              "</style>\n",
              "<table border=\"1\" class=\"dataframe\">\n",
              "  <thead>\n",
              "    <tr style=\"text-align: right;\">\n",
              "      <th></th>\n",
              "      <th>transactionId</th>\n",
              "      <th>visitorId</th>\n",
              "      <th>date</th>\n",
              "      <th>revenue</th>\n",
              "      <th>group</th>\n",
              "    </tr>\n",
              "  </thead>\n",
              "  <tbody>\n",
              "    <tr>\n",
              "      <th>1178</th>\n",
              "      <td>4052155355</td>\n",
              "      <td>2949041841</td>\n",
              "      <td>2019-08-14</td>\n",
              "      <td>190</td>\n",
              "      <td>A</td>\n",
              "    </tr>\n",
              "    <tr>\n",
              "      <th>1184</th>\n",
              "      <td>1329499668</td>\n",
              "      <td>2949041841</td>\n",
              "      <td>2019-08-14</td>\n",
              "      <td>10380</td>\n",
              "      <td>B</td>\n",
              "    </tr>\n",
              "  </tbody>\n",
              "</table>\n",
              "</div>"
            ],
            "text/plain": [
              "      transactionId   visitorId        date  revenue group\n",
              "1178     4052155355  2949041841  2019-08-14      190     A\n",
              "1184     1329499668  2949041841  2019-08-14    10380     B"
            ]
          },
          "metadata": {},
          "output_type": "display_data"
        },
        {
          "data": {
            "text/plain": [
              "181"
            ]
          },
          "execution_count": 11,
          "metadata": {},
          "output_type": "execute_result"
        }
      ],
      "source": [
        "groupA = (orders.query('group==\"A\"')['visitorId']).to_list()\n",
        "\n",
        "test =[]\n",
        "count=0\n",
        "\n",
        "for i in range(0,len(orders.query('group==\"B\"')['visitorId'])):\n",
        "    if(orders.query('group==\"B\"')['visitorId'].reset_index(drop=True)[i] in groupA):\n",
        "        test.append(orders.query('group==\"B\"')['visitorId'].reset_index(drop=True)[i])\n",
        "\n",
        "for visitorId in pd.DataFrame(test,columns=['Id'])['Id'].unique():\n",
        "    display(orders[orders['visitorId']==visitorId])\n",
        "    count+=len(orders[orders['visitorId']==visitorId])\n",
        "int(count)"
      ]
    },
    {
      "cell_type": "code",
      "execution_count": null,
      "metadata": {
        "id": "4a8r6-bMjK05",
        "outputId": "c24c0445-7789-44d3-da76-2fe491b8a5f3"
      },
      "outputs": [
        {
          "data": {
            "text/html": [
              "<div>\n",
              "<style scoped>\n",
              "    .dataframe tbody tr th:only-of-type {\n",
              "        vertical-align: middle;\n",
              "    }\n",
              "\n",
              "    .dataframe tbody tr th {\n",
              "        vertical-align: top;\n",
              "    }\n",
              "\n",
              "    .dataframe thead th {\n",
              "        text-align: right;\n",
              "    }\n",
              "</style>\n",
              "<table border=\"1\" class=\"dataframe\">\n",
              "  <thead>\n",
              "    <tr style=\"text-align: right;\">\n",
              "      <th></th>\n",
              "      <th>transactionId</th>\n",
              "      <th>visitorId</th>\n",
              "      <th>date</th>\n",
              "      <th>revenue</th>\n",
              "      <th>group</th>\n",
              "    </tr>\n",
              "  </thead>\n",
              "  <tbody>\n",
              "    <tr>\n",
              "      <th>0</th>\n",
              "      <td>3667963787</td>\n",
              "      <td>5.114589e+06</td>\n",
              "      <td>2019-08-15</td>\n",
              "      <td>1650</td>\n",
              "      <td>B</td>\n",
              "    </tr>\n",
              "    <tr>\n",
              "      <th>1</th>\n",
              "      <td>2804400009</td>\n",
              "      <td>6.958315e+06</td>\n",
              "      <td>2019-08-15</td>\n",
              "      <td>730</td>\n",
              "      <td>B</td>\n",
              "    </tr>\n",
              "    <tr>\n",
              "      <th>2</th>\n",
              "      <td>3797467345</td>\n",
              "      <td>1.168549e+07</td>\n",
              "      <td>2019-08-15</td>\n",
              "      <td>9759</td>\n",
              "      <td>B</td>\n",
              "    </tr>\n",
              "    <tr>\n",
              "      <th>3</th>\n",
              "      <td>2282983706</td>\n",
              "      <td>3.947535e+07</td>\n",
              "      <td>2019-08-15</td>\n",
              "      <td>2308</td>\n",
              "      <td>B</td>\n",
              "    </tr>\n",
              "    <tr>\n",
              "      <th>4</th>\n",
              "      <td>182168103</td>\n",
              "      <td>4.720641e+07</td>\n",
              "      <td>2019-08-15</td>\n",
              "      <td>2210</td>\n",
              "      <td>B</td>\n",
              "    </tr>\n",
              "    <tr>\n",
              "      <th>...</th>\n",
              "      <td>...</td>\n",
              "      <td>...</td>\n",
              "      <td>...</td>\n",
              "      <td>...</td>\n",
              "      <td>...</td>\n",
              "    </tr>\n",
              "    <tr>\n",
              "      <th>968</th>\n",
              "      <td>4180327962</td>\n",
              "      <td>4.259831e+09</td>\n",
              "      <td>2019-08-31</td>\n",
              "      <td>3404</td>\n",
              "      <td>A</td>\n",
              "    </tr>\n",
              "    <tr>\n",
              "      <th>969</th>\n",
              "      <td>429304275</td>\n",
              "      <td>4.278983e+09</td>\n",
              "      <td>2019-08-10</td>\n",
              "      <td>420</td>\n",
              "      <td>A</td>\n",
              "    </tr>\n",
              "    <tr>\n",
              "      <th>970</th>\n",
              "      <td>4067377068</td>\n",
              "      <td>4.279090e+09</td>\n",
              "      <td>2019-08-10</td>\n",
              "      <td>1190</td>\n",
              "      <td>B</td>\n",
              "    </tr>\n",
              "    <tr>\n",
              "      <th>971</th>\n",
              "      <td>469609643</td>\n",
              "      <td>4.281248e+09</td>\n",
              "      <td>2019-08-10</td>\n",
              "      <td>58220</td>\n",
              "      <td>A</td>\n",
              "    </tr>\n",
              "    <tr>\n",
              "      <th>972</th>\n",
              "      <td>1282920840</td>\n",
              "      <td>4.283872e+09</td>\n",
              "      <td>2019-08-10</td>\n",
              "      <td>2790</td>\n",
              "      <td>B</td>\n",
              "    </tr>\n",
              "  </tbody>\n",
              "</table>\n",
              "<p>973 rows × 5 columns</p>\n",
              "</div>"
            ],
            "text/plain": [
              "     transactionId     visitorId        date  revenue group\n",
              "0       3667963787  5.114589e+06  2019-08-15     1650     B\n",
              "1       2804400009  6.958315e+06  2019-08-15      730     B\n",
              "2       3797467345  1.168549e+07  2019-08-15     9759     B\n",
              "3       2282983706  3.947535e+07  2019-08-15     2308     B\n",
              "4        182168103  4.720641e+07  2019-08-15     2210     B\n",
              "..             ...           ...         ...      ...   ...\n",
              "968     4180327962  4.259831e+09  2019-08-31     3404     A\n",
              "969      429304275  4.278983e+09  2019-08-10      420     A\n",
              "970     4067377068  4.279090e+09  2019-08-10     1190     B\n",
              "971      469609643  4.281248e+09  2019-08-10    58220     A\n",
              "972     1282920840  4.283872e+09  2019-08-10     2790     B\n",
              "\n",
              "[973 rows x 5 columns]"
            ]
          },
          "metadata": {},
          "output_type": "display_data"
        }
      ],
      "source": [
        "orders['visitorId'] = orders.groupby('visitorId')['group'].nunique().reset_index().query('group==1')\n",
        "\n",
        "orders = orders.dropna().reset_index(drop=True)\n",
        "\n",
        "display(orders)"
      ]
    },
    {
      "cell_type": "markdown",
      "metadata": {
        "id": "NLhP-B-pjK05"
      },
      "source": [
        "Удалим всех пользователей, которые совершали покупки в обеих группах."
      ]
    },
    {
      "cell_type": "code",
      "execution_count": null,
      "metadata": {
        "id": "Z--Z-pGmjK06",
        "outputId": "a75c02e5-8f7a-4467-88c7-37f4aebc8a16"
      },
      "outputs": [
        {
          "data": {
            "text/html": [
              "<div>\n",
              "<style scoped>\n",
              "    .dataframe tbody tr th:only-of-type {\n",
              "        vertical-align: middle;\n",
              "    }\n",
              "\n",
              "    .dataframe tbody tr th {\n",
              "        vertical-align: top;\n",
              "    }\n",
              "\n",
              "    .dataframe thead th {\n",
              "        text-align: right;\n",
              "    }\n",
              "</style>\n",
              "<table border=\"1\" class=\"dataframe\">\n",
              "  <thead>\n",
              "    <tr style=\"text-align: right;\">\n",
              "      <th></th>\n",
              "      <th>date</th>\n",
              "      <th>group</th>\n",
              "      <th>visitorCount</th>\n",
              "      <th>orderCount</th>\n",
              "      <th>totalRevenue</th>\n",
              "    </tr>\n",
              "  </thead>\n",
              "  <tbody>\n",
              "    <tr>\n",
              "      <th>67</th>\n",
              "      <td>2019-08-01</td>\n",
              "      <td>A</td>\n",
              "      <td>22</td>\n",
              "      <td>22</td>\n",
              "      <td>140029</td>\n",
              "    </tr>\n",
              "    <tr>\n",
              "      <th>65</th>\n",
              "      <td>2019-08-01</td>\n",
              "      <td>B</td>\n",
              "      <td>19</td>\n",
              "      <td>19</td>\n",
              "      <td>93312</td>\n",
              "    </tr>\n",
              "    <tr>\n",
              "      <th>165</th>\n",
              "      <td>2019-08-02</td>\n",
              "      <td>A</td>\n",
              "      <td>41</td>\n",
              "      <td>41</td>\n",
              "      <td>232961</td>\n",
              "    </tr>\n",
              "    <tr>\n",
              "      <th>163</th>\n",
              "      <td>2019-08-02</td>\n",
              "      <td>B</td>\n",
              "      <td>43</td>\n",
              "      <td>43</td>\n",
              "      <td>258843</td>\n",
              "    </tr>\n",
              "    <tr>\n",
              "      <th>279</th>\n",
              "      <td>2019-08-03</td>\n",
              "      <td>A</td>\n",
              "      <td>64</td>\n",
              "      <td>64</td>\n",
              "      <td>324444</td>\n",
              "    </tr>\n",
              "  </tbody>\n",
              "</table>\n",
              "</div>"
            ],
            "text/plain": [
              "           date group  visitorCount  orderCount  totalRevenue\n",
              "67   2019-08-01     A            22          22        140029\n",
              "65   2019-08-01     B            19          19         93312\n",
              "165  2019-08-02     A            41          41        232961\n",
              "163  2019-08-02     B            43          43        258843\n",
              "279  2019-08-03     A            64          64        324444"
            ]
          },
          "execution_count": 13,
          "metadata": {},
          "output_type": "execute_result"
        }
      ],
      "source": [
        "datesGroups = orders[['date','group']].drop_duplicates()\n",
        "\n",
        "ordersAggregated = datesGroups.apply(lambda x: orders[np.logical_and(orders['date']<=x['date'],orders['group']==x['group'])].\\\n",
        "                                     agg({'date':'max','group':'max','visitorId':'nunique','transactionId':'nunique',\\\n",
        "                                          'revenue':'sum'}),axis=1).sort_values(by=['date','group'])\n",
        "ordersAggregated.columns = ['date','group','visitorCount','orderCount','totalRevenue']\n",
        "ordersAggregated.head(5)"
      ]
    },
    {
      "cell_type": "code",
      "execution_count": null,
      "metadata": {
        "id": "MZ3LiJ0ejK06",
        "outputId": "fee1f39f-be75-49b3-bb64-8d2da5645a33"
      },
      "outputs": [
        {
          "data": {
            "image/png": "[encoded data removed]",
            "text/plain": [
              "<Figure size 432x288 with 1 Axes>"
            ]
          },
          "metadata": {
            "needs_background": "light"
          },
          "output_type": "display_data"
        }
      ],
      "source": [
        "plt.plot(pd.to_datetime(ordersAggregated.query('group==\"A\"')['date']).dt.day,\\\n",
        "         ordersAggregated.query('group==\"A\"')['totalRevenue'],label=\"A\")\n",
        "plt.plot(pd.to_datetime(ordersAggregated.query('group==\"B\"')['date']).dt.day,\\\n",
        "         ordersAggregated.query('group==\"B\"')['totalRevenue'],label=\"B\")\n",
        "\n",
        "plt.legend()\n",
        "\n",
        "plt.xlabel('Дата')\n",
        "plt.ylabel('Выручка')\n",
        "plt.title('Кумулятивная выручка')\n",
        "plt.show()"
      ]
    },
    {
      "cell_type": "markdown",
      "metadata": {
        "id": "oI-RdtZXjK06"
      },
      "source": [
        "Выручки обоих групп росли в течение всего месяца и были сопоставимы. Однако выручка группы B сделала резкий скачок в районе 17-ого числа и стала заметно больше прибыли группы А. Возможно это связано с некоторыми аномально дорогими покупками."
      ]
    },
    {
      "cell_type": "code",
      "execution_count": null,
      "metadata": {
        "id": "Mg2osBNCjK07",
        "outputId": "deb9f07d-2abb-4a93-d07c-129bfbc8ccfa"
      },
      "outputs": [
        {
          "data": {
            "image/png": "[encoded data removed]",
            "text/plain": [
              "<Figure size 432x288 with 1 Axes>"
            ]
          },
          "metadata": {
            "needs_background": "light"
          },
          "output_type": "display_data"
        }
      ],
      "source": [
        "plt.plot(pd.to_datetime(ordersAggregated.query('group==\"A\"')['date']).dt.day,\\\n",
        "         ordersAggregated.query('group==\"A\"')['totalRevenue']/ordersAggregated.query('group==\"A\"')['orderCount'],label='A')\n",
        "\n",
        "plt.plot(pd.to_datetime(ordersAggregated.query('group==\"B\"')['date']).dt.day,\\\n",
        "         ordersAggregated.query('group==\"B\"')['totalRevenue']/ordersAggregated.query('group==\"B\"')['orderCount'],label='B')\n",
        "\n",
        "plt.legend()\n",
        "plt.xlabel('Дата')\n",
        "plt.ylabel('Средняя стоимость чека')\n",
        "plt.title('Кумулятивный средний чек')\n",
        "plt.show()"
      ]
    },
    {
      "cell_type": "markdown",
      "metadata": {
        "id": "iJJjVEs6jK07"
      },
      "source": [
        "Средний чек для группы B был больше среднего чека группы A почти все время. Как и в графике с кумулятивной выручкой, видим скачок у группы B в районе 17-ого числа."
      ]
    },
    {
      "cell_type": "code",
      "execution_count": null,
      "metadata": {
        "id": "JGmKZ15ejK07",
        "outputId": "c1872d91-a97f-45e3-cb03-924821413cd9"
      },
      "outputs": [
        {
          "data": {
            "image/png": "[encoded data removed]",
            "text/plain": [
              "<Figure size 432x288 with 1 Axes>"
            ]
          },
          "metadata": {
            "needs_background": "light"
          },
          "output_type": "display_data"
        }
      ],
      "source": [
        "ARevenue = ordersAggregated[ordersAggregated['group']=='A'][['date','totalRevenue','orderCount','visitorCount']]\n",
        "BRevenue = ordersAggregated[ordersAggregated['group']=='B'][['date','totalRevenue','orderCount','visitorCount']]\n",
        "\n",
        "mergedData = ARevenue.merge(BRevenue,left_on='date',right_on='date',how='left',suffixes=['A','B'])\n",
        "\n",
        "plt.plot(pd.to_datetime(mergedData['date']).dt.day,(mergedData['totalRevenueB']/mergedData['orderCountB'])\\\n",
        "         /(mergedData['totalRevenueA']/mergedData['orderCountA'])-1)\n",
        "\n",
        "plt.axhline(color='black',linestyle='--')\n",
        "\n",
        "plt.xlabel('Дата')\n",
        "plt.ylabel('Отношение выручки')\n",
        "plt.title('Относительная выручка')\n",
        "plt.show()"
      ]
    },
    {
      "cell_type": "markdown",
      "metadata": {
        "id": "9QdsZLDMjK08"
      },
      "source": [
        "Почти все время с начала месяца выручка группы B превосходила выручку группы A, только в самом начале она и ближе к середине месяца она была меньше. После 15-ого числа виден быстрый рост прибыли от группы B.\n",
        "\n",
        "Вероятно большие скачки означают какие-то крупные покупки."
      ]
    },
    {
      "cell_type": "code",
      "execution_count": null,
      "metadata": {
        "id": "iSVT2RhejK08",
        "outputId": "50b43a2b-5a72-437e-84d2-9ff951ab7ba3"
      },
      "outputs": [
        {
          "data": {
            "text/plain": [
              "[]"
            ]
          },
          "execution_count": 17,
          "metadata": {},
          "output_type": "execute_result"
        },
        {
          "data": {
            "image/png": "[encoded data removed]",
            "text/plain": [
              "<Figure size 432x288 with 1 Axes>"
            ]
          },
          "metadata": {
            "needs_background": "light"
          },
          "output_type": "display_data"
        }
      ],
      "source": [
        "arrA=[]\n",
        "for i in range(0,len(orders.query('group==\"A\"').groupby('date').agg({'transactionId':'count'}).cumsum()\\\n",
        "                     ['transactionId'].to_list())):\n",
        "    arrA.append((orders.query('group==\"A\"').groupby('date').agg({'transactionId':'count'}).cumsum()\\\n",
        "                 ['transactionId']).to_list()[i]/(visitors.query('group==\"A\"')['visitors'].cumsum()).to_list()[i])\n",
        "\n",
        "\n",
        "\n",
        "\n",
        "arrB=[]\n",
        "\n",
        "for i in range(0,len(orders.query('group==\"B\"').groupby('date').agg({'transactionId':'count'}).cumsum()\\\n",
        "                     ['transactionId'].to_list())):\n",
        "    arrB.append((orders.query('group==\"B\"').groupby('date').agg({'transactionId':'count'}).cumsum()\\\n",
        "                 ['transactionId']).to_list()[i]/(visitors.query('group==\"B\"')['visitors'].cumsum()).to_list()[i])\n",
        "\n",
        "plt.plot(pd.to_datetime(orders['date'].sort_values().unique()).day,arrA,label='A')\n",
        "plt.plot(pd.to_datetime(orders['date'].sort_values().unique()).day,arrB,label='B')\n",
        "\n",
        "plt.legend()\n",
        "plt.xlabel('Дата')\n",
        "plt.ylabel('Среднее кол-во заказов')\n",
        "plt.title('Среднее количество заказов на посетителя')\n",
        "plt.plot()"
      ]
    },
    {
      "cell_type": "markdown",
      "metadata": {
        "id": "lTmEsjFhjK08"
      },
      "source": [
        "В начале, до примерно пятого августа, среднее количество заказов было больше у группы A, затем, до конца исследуемого периода, - у группы B."
      ]
    },
    {
      "cell_type": "code",
      "execution_count": null,
      "metadata": {
        "id": "UUeUdXyhjK09",
        "outputId": "9bf80dd9-870d-4d12-950d-229928e89ecb"
      },
      "outputs": [
        {
          "data": {
            "text/plain": [
              "[]"
            ]
          },
          "execution_count": 18,
          "metadata": {},
          "output_type": "execute_result"
        },
        {
          "data": {
            "image/png": "[encoded data removed]",
            "text/plain": [
              "<Figure size 432x288 with 1 Axes>"
            ]
          },
          "metadata": {
            "needs_background": "light"
          },
          "output_type": "display_data"
        }
      ],
      "source": [
        "pd.DataFrame(arrA,columns=['ratio'])\n",
        "pd.DataFrame(arrB,columns=['ratio'])\n",
        "\n",
        "plt.plot(pd.to_datetime(orders['date'].sort_values().unique()).day,pd.DataFrame(arrB,columns=['ratio'])/pd.DataFrame(arrA,columns=['ratio'])-1)\n",
        "plt.axhline(y=0,linestyle='--',color='black')\n",
        "plt.xlabel('Дата')\n",
        "plt.ylabel('Доля среднего кол-ва заказов')\n",
        "plt.title('Отношение среднего количества заказов на посетителя группы B к группе A')\n",
        "plt.plot()"
      ]
    },
    {
      "cell_type": "markdown",
      "metadata": {
        "id": "-4KPE3tMjK09"
      },
      "source": [
        "После пятого августа среднее количество заказов на посетителя было больше у группы B и к концу месяца превышало на примерно 15%."
      ]
    },
    {
      "cell_type": "code",
      "execution_count": null,
      "metadata": {
        "id": "MTRB023kjK09",
        "outputId": "a22f252a-9c04-46cb-8cb2-d0f685b48add"
      },
      "outputs": [
        {
          "data": {
            "text/plain": [
              "[]"
            ]
          },
          "execution_count": 19,
          "metadata": {},
          "output_type": "execute_result"
        },
        {
          "data": {
            "image/png": "[encoded data removed]",
            "text/plain": [
              "<Figure size 432x288 with 1 Axes>"
            ]
          },
          "metadata": {
            "needs_background": "light"
          },
          "output_type": "display_data"
        }
      ],
      "source": [
        "x_values = pd.Series(range(0,len(orders.groupby('visitorId').agg({'transactionId':'count'}))))\n",
        "\n",
        "plt.scatter(x_values,orders.groupby('visitorId').agg({'transactionId':'count'}))\n",
        "plt.xlabel('Число клиентов')\n",
        "plt.ylabel('Число покупок')\n",
        "plt.title('Число покупок')\n",
        "plt.plot()"
      ]
    },
    {
      "cell_type": "markdown",
      "metadata": {
        "id": "BXZQH_DTjK0-"
      },
      "source": [
        "Все клиенты совершили только одну покупку."
      ]
    },
    {
      "cell_type": "code",
      "execution_count": null,
      "metadata": {
        "id": "ZNd7gJkGjK0-",
        "outputId": "fa6d36e7-2e32-4406-b9ba-49613cd06b46"
      },
      "outputs": [
        {
          "name": "stdout",
          "output_type": "stream",
          "text": [
            "[1. 1. 1.]\n"
          ]
        }
      ],
      "source": [
        "print(np.percentile(orders.groupby('visitorId').agg({'transactionId':'count'}),[90,95,99]))"
      ]
    },
    {
      "cell_type": "markdown",
      "metadata": {
        "id": "xEltUKlujK0-"
      },
      "source": [
        "Будем считать две покупки, как верхнюю границу числа заказов, так как всего 5% покупателей сделали две покупки."
      ]
    },
    {
      "cell_type": "code",
      "execution_count": null,
      "metadata": {
        "id": "cmlxg7G3jK0-",
        "outputId": "18d11536-1a8c-4052-c25c-7d5663984250"
      },
      "outputs": [
        {
          "data": {
            "image/png": "[encoded data removed]",
            "text/plain": [
              "<Figure size 432x288 with 1 Axes>"
            ]
          },
          "metadata": {
            "needs_background": "light"
          },
          "output_type": "display_data"
        },
        {
          "data": {
            "image/png": "[encoded data removed]",
            "text/plain": [
              "<Figure size 432x288 with 1 Axes>"
            ]
          },
          "metadata": {
            "needs_background": "light"
          },
          "output_type": "display_data"
        }
      ],
      "source": [
        "plt.hist(orders.groupby('visitorId').agg({'revenue':'sum'}),bins=50)\n",
        "plt.xlabel('Прибыль с клиента')\n",
        "plt.ylabel('Количество клиентов')\n",
        "plt.title('Цена покупок клиентов')\n",
        "plt.show()\n",
        "\n",
        "plt.scatter(x_values,orders.groupby('visitorId').agg({'revenue':'sum'}))\n",
        "plt.ylabel('Прибыль с клиента')\n",
        "plt.xlabel('Количество заказов')\n",
        "plt.title('Цена покупок клиентов')\n",
        "plt.ylim()\n",
        "plt.show()"
      ]
    },
    {
      "cell_type": "code",
      "execution_count": null,
      "metadata": {
        "id": "8dB2HW5JjK0_",
        "outputId": "a4d9ebc7-477d-4d1c-ef21-ea69f0de2d15"
      },
      "outputs": [
        {
          "data": {
            "image/png": "[encoded data removed]",
            "text/plain": [
              "<Figure size 432x288 with 1 Axes>"
            ]
          },
          "metadata": {
            "needs_background": "light"
          },
          "output_type": "display_data"
        },
        {
          "data": {
            "image/png": "[encoded data removed]",
            "text/plain": [
              "<Figure size 432x288 with 1 Axes>"
            ]
          },
          "metadata": {
            "needs_background": "light"
          },
          "output_type": "display_data"
        }
      ],
      "source": [
        "plt.hist(orders.groupby('visitorId').agg({'revenue':'sum'}),bins=250)\n",
        "plt.xlabel('Прибыль с клиентов')\n",
        "plt.ylabel('Количество клиентов')\n",
        "plt.title('Цена покупок клиентов')\n",
        "plt.xlim(0,35000)\n",
        "plt.show()\n",
        "\n",
        "plt.scatter(x_values,orders.groupby('visitorId').agg({'revenue':'sum'}))\n",
        "plt.ylabel('Прибыль с клиентов')\n",
        "plt.xlabel('Количество заказов')\n",
        "plt.title('Цена покупок клиентов')\n",
        "plt.ylim([0,100000])\n",
        "plt.show()"
      ]
    },
    {
      "cell_type": "markdown",
      "metadata": {
        "id": "kcK8x7bKjK0_"
      },
      "source": [
        "В основном пользователи совершают покупки ценой до 5000 рублей - таких чуть меньше 1000. Почти в 10 раз меньше пользователей с покупками в 20000. Покупателей, которые покупают на большие суммы совсем мало."
      ]
    },
    {
      "cell_type": "code",
      "execution_count": null,
      "metadata": {
        "id": "p1fbVzbRjK0_",
        "outputId": "89173109-a68e-4e7b-aab3-45bfb8f0e1a8"
      },
      "outputs": [
        {
          "name": "stdout",
          "output_type": "stream",
          "text": [
            "[17990. 26926. 53904.]\n"
          ]
        }
      ],
      "source": [
        "print(np.percentile(orders.groupby('visitorId').agg({'revenue':'sum'}),[90,95,99]))"
      ]
    },
    {
      "cell_type": "markdown",
      "metadata": {
        "id": "oPtDW9SfjK0_"
      },
      "source": [
        "Примем 26926 за верхнюю грань, так как только 5% пользователей покупали на большую сумму."
      ]
    },
    {
      "cell_type": "code",
      "execution_count": null,
      "metadata": {
        "id": "c780q3LijK1A"
      },
      "outputs": [],
      "source": [
        "ordersPerUsersA = orders.query('group==\"A\"').groupby('visitorId',as_index=False).agg({'transactionId':pd.Series.nunique})\n",
        "\n",
        "ordersPerUsersA.columns = ['visitorId','orders']\n",
        "\n",
        "sampleA = pd.concat([ordersPerUsersA['orders'],\\\n",
        "                     pd.Series(0,index=np.arange(ordersAggregated['visitorCount'].sum()\\\n",
        "                                                 -len(ordersPerUsersA['orders'])),name='orders')],axis=0)\n",
        "\n",
        "\n"
      ]
    },
    {
      "cell_type": "code",
      "execution_count": null,
      "metadata": {
        "id": "PeaOMJZxjK1A"
      },
      "outputs": [],
      "source": [
        "ordersPerUsersB = orders.query('group==\"B\"').groupby('visitorId',as_index=False).agg({'transactionId':pd.Series.nunique})\n",
        "\n",
        "ordersPerUsersB.columns = ['visitorId','orders']\n",
        "\n",
        "sampleB = pd.concat([ordersPerUsersB['orders'],\\\n",
        "                     pd.Series(0,index=np.arange(ordersAggregated['visitorCount'].sum()-len(ordersPerUsersB['orders'])),\\\n",
        "                               name='orders')],axis=0)\n"
      ]
    },
    {
      "cell_type": "markdown",
      "metadata": {
        "id": "6BnN5rEljK1A"
      },
      "source": [
        "$H_0$: Различий в среднем количестве заказов на посетителя нет\n",
        "\n",
        "$H_1$: Группы различаются по среднему количеству заказов"
      ]
    },
    {
      "cell_type": "code",
      "execution_count": null,
      "metadata": {
        "id": "tbR-hsdEjK1A",
        "outputId": "cbfacbab-4b9a-46c9-9f28-b15b4fb4e35d"
      },
      "outputs": [
        {
          "name": "stdout",
          "output_type": "stream",
          "text": [
            "p-value:  0.04657458517324421\n",
            "Отношение среднего числа заказов на пользователя 0.13377192982456143\n",
            "Отвергаем нулевую гипотезу, то есть, есть различия между средним числом заказов у групп\n"
          ]
        }
      ],
      "source": [
        "print('p-value: ',stats.mannwhitneyu(sampleA, sampleB)[1])\n",
        "\n",
        "print('Отношение среднего числа заказов на пользователя',sampleB.mean() / sampleA.mean() - 1)\n",
        "\n",
        "if stats.mannwhitneyu(sampleA, sampleB)[1]<0.05:\n",
        "    print('Отвергаем нулевую гипотезу, то есть, есть различия между средним числом заказов у групп')\n",
        "else:\n",
        "    print('Не удалось отвергнуть нулевую гипотезу')"
      ]
    },
    {
      "cell_type": "markdown",
      "metadata": {
        "id": "tEYewiQZjK1B"
      },
      "source": [
        "$H_0$: Различий в среднем чеке заказа нет\n",
        "\n",
        "$H_1$: Группы различаются по среднему чеку заказа"
      ]
    },
    {
      "cell_type": "code",
      "execution_count": null,
      "metadata": {
        "id": "vXdcnjryjK1B",
        "outputId": "e014fa27-5cbb-48a7-e814-e924441492b0"
      },
      "outputs": [
        {
          "name": "stdout",
          "output_type": "stream",
          "text": [
            "p-value:  0.5630129936067314\n",
            "Отношение среднего чека заказа группы B к среднему группы A:  1.369785145045895\n",
            "Не удалось отвергнуть нулевую гипотезу, разницы между средним чеком нет\n"
          ]
        }
      ],
      "source": [
        "print('p-value: ',stats.mannwhitneyu(orders.query('group==\"A\"')['revenue'],orders.query('group==\"B\"')['revenue'])[1])\n",
        "\n",
        "print('Отношение среднего чека заказа группы B к среднему группы A: ', orders.query('group==\"B\"')['revenue'].mean()\\\n",
        "      /orders.query('group==\"A\"')['revenue'].mean())\n",
        "\n",
        "if stats.mannwhitneyu(orders.query('group==\"A\"')['revenue'],orders.query('group==\"B\"')['revenue'])[1] < 0.05:\n",
        "    print('Отвергаем нулевую гипотезу, группы различаются по среднему чеку заказа')\n",
        "else:\n",
        "    print('Не удалось отвергнуть нулевую гипотезу, разницы между средним чеком нет')"
      ]
    },
    {
      "cell_type": "markdown",
      "metadata": {
        "id": "fYcAOUCcjK1B"
      },
      "source": [
        "Средний чек группы B примерно на 37% больше среднего чека группы A, но эта разница не является статистически значимой.\n",
        "\n",
        "Вероятно, выбросы влияют на результат, поэтому надо убрать аномально большие значения."
      ]
    },
    {
      "cell_type": "markdown",
      "metadata": {
        "id": "WWrp1BamjK1B"
      },
      "source": [
        "$H_0$: Среднее количество заказов у отфильтрованных групп одинаково\n",
        "\n",
        "$H_1$: Среднее количество заказов у отфильтрованных групп различно"
      ]
    },
    {
      "cell_type": "code",
      "execution_count": null,
      "metadata": {
        "scrolled": true,
        "id": "TvVgOvBRjK1C",
        "outputId": "d303afc7-136e-4744-f4d2-142f8d711697"
      },
      "outputs": [
        {
          "name": "stderr",
          "output_type": "stream",
          "text": [
            "/tmp/ipykernel_48/1554066223.py:4: UserWarning: Boolean Series key will be reindexed to match DataFrame index.\n",
            "  ordersPerUsersA[ordersPerUsersB['orders']>orders_max]['visitorId']],axis=0)\n"
          ]
        }
      ],
      "source": [
        "orders_max = 1\n",
        "\n",
        "tooManyOrders = pd.concat([ordersPerUsersA[ordersPerUsersA['orders']>orders_max]['visitorId'],\\\n",
        "                           ordersPerUsersA[ordersPerUsersB['orders']>orders_max]['visitorId']],axis=0)\n",
        "\n",
        "revenue_lim = 26926\n",
        "\n",
        "tooExpensiveOrders = orders[orders['revenue']>revenue_lim]['visitorId']\n",
        "\n",
        "abnormalVisitors = pd.concat([tooManyOrders,tooExpensiveOrders],axis=0).drop_duplicates().sort_values()\n",
        "\n",
        "sampleFilteredA = pd.concat([ordersPerUsersA[np.logical_not(ordersPerUsersA['visitorId'].isin(abnormalVisitors))]['orders'],\\\n",
        "                            pd.Series(0,index=np.arange(ordersAggregated['visitorCount'].sum()-len(ordersPerUsersA['orders'])),\\\n",
        "                                     name='orders'),],axis=0)\n",
        "\n",
        "sampleFilteredB = pd.concat([ordersPerUsersB[np.logical_not(ordersPerUsersB['visitorId'].isin(abnormalVisitors))]['orders'],\\\n",
        "                            pd.Series(0,index=np.arange(ordersAggregated['visitorCount'].sum()-len(ordersPerUsersB['orders'])),\\\n",
        "                                     name='orders'),],axis=0)\n"
      ]
    },
    {
      "cell_type": "code",
      "execution_count": null,
      "metadata": {
        "id": "r3olApH1jK1C",
        "outputId": "2b397763-5fc9-4ccb-845f-ccd951d7c09d"
      },
      "outputs": [
        {
          "name": "stdout",
          "output_type": "stream",
          "text": [
            "0.08024166303811044\n",
            "Отношение среднего числа заказов группы B к среднему группы A:  1.1199815458119353\n",
            "Не удалось отвергнуть нулевую гипотезу, то есть, нет различий между количеством заказов\n"
          ]
        }
      ],
      "source": [
        "print(stats.mannwhitneyu(sampleFilteredA,sampleFilteredB)[1])\n",
        "\n",
        "print('Отношение среднего числа заказов группы B к среднему группы A: ',sampleFilteredB.mean()/sampleFilteredA.mean())\n",
        "\n",
        "if stats.mannwhitneyu(sampleFilteredA,sampleFilteredB)[1] > 0.05:\n",
        "    print('Не удалось отвергнуть нулевую гипотезу, то есть, нет различий между количеством заказов')\n",
        "else:\n",
        "    print('Отвергаем нулевую гипотезу, то есть, есть различия между количеством заказов')"
      ]
    },
    {
      "cell_type": "markdown",
      "metadata": {
        "id": "MOf_uJz6jK1D"
      },
      "source": [
        "$H_0$: Различий в среднем чеке отфильтрованных групп заказа нет\n",
        "\n",
        "$H_1$: Отфильтрованные группы различаются по среднему чеку заказа"
      ]
    },
    {
      "cell_type": "code",
      "execution_count": null,
      "metadata": {
        "id": "Ta2xrLW9jK1D",
        "outputId": "2f749f0a-6e3c-45d0-8924-1c2a99ba40d1"
      },
      "outputs": [
        {
          "name": "stdout",
          "output_type": "stream",
          "text": [
            "p_value:  0.7756786498759978\n",
            "Отношение среднего чека заказа группы B к среднему группы A:  0.9936107172768401\n",
            "Не удалось отвергнуть нулевую гипотезу, разницы между средним чеком нет\n"
          ]
        }
      ],
      "source": [
        "p_value = stats.mannwhitneyu(orders[np.logical_and(orders['group']=='A',\\\n",
        "                                                           np.logical_not(orders['visitorId'].isin(abnormalVisitors)))]\\\n",
        "                                     ['revenue'],orders[np.logical_and(orders['group']=='B',\\\n",
        "                                                    np.logical_not(orders['visitorId'].isin(abnormalVisitors)))]['revenue'])[1]\n",
        "\n",
        "print('p_value: ',p_value)\n",
        "\n",
        "print('Отношение среднего чека заказа группы B к среднему группы A: ', orders[np.logical_and(orders['group']=='B',\\\n",
        "                                    np.logical_not(orders['visitorId'].isin(abnormalVisitors)))]['revenue'].mean()\\\n",
        "      /orders[np.logical_and(orders['group']=='A',np.logical_not(orders['visitorId'].isin(abnormalVisitors)))]['revenue'].mean())\n",
        "\n",
        "if p_value < 0.05:\n",
        "    print('Отвергаем нулевую гипотезу, группы различаются по среднему чеку заказа')\n",
        "else:\n",
        "    print('Не удалось отвергнуть нулевую гипотезу, разницы между средним чеком нет')"
      ]
    },
    {
      "cell_type": "markdown",
      "metadata": {
        "id": "Ki9B8YFLjK1D"
      },
      "source": [
        "После исключения аномальных пользователей получили, что нет статистически значимых различий в среднем количестве заказов и в среднем чеке.\n",
        "\n",
        "Различия между средними чеками для групп очень малы, причем они не являются статистически значимыми."
      ]
    },
    {
      "cell_type": "markdown",
      "metadata": {
        "id": "-u_R48-LjK1D"
      },
      "source": [
        "## Вывод"
      ]
    },
    {
      "cell_type": "markdown",
      "metadata": {
        "id": "zQSW-smSjK1E"
      },
      "source": [
        "При проведении исследования результатов A/B-теста были получены следующие результаты:\n",
        " - Кумулятивная выручка и кумулятивный средний чек для группы B больше, чем для группы A\n",
        " - Кумулятивное среднее число заказов для группы B больше, чем для группы A\n",
        " - Наблюдается статистически значимое различие в среднем количестве заказов на пользователя. Среднее для группы B примерно на 13 процентов больше\n",
        " - Статистически значимой разницы между средним чеком нет\n",
        " - После отбрасывания аномально больших значений были получено, что нет статистически значимой разницы ни в количестве заказов, ни в среднем чеке.\n",
        "\n",
        "Таким образом, можно остановить тест и зафиксировать победу группы B, так как, судя по графикам кумулятивной выручки, прибыль от нее больше, также была отмечена статистически значимая разница в количестве заказов для нефильтрованных данных. Однако после исключения аномальных значений оказалось, что разница в количестве заказов и среднем чеке для групп не является статистически значимой."
      ]
    }
  ],
  "metadata": {
    "ExecuteTimeLog": [
      {
        "duration": 449,
        "start_time": "2023-09-29T18:03:58.810Z"
      },
      {
        "duration": 90,
        "start_time": "2023-09-29T18:04:37.311Z"
      },
      {
        "duration": 13,
        "start_time": "2023-09-29T18:06:41.168Z"
      },
      {
        "duration": 12,
        "start_time": "2023-09-29T18:07:48.671Z"
      },
      {
        "duration": 14,
        "start_time": "2023-09-29T18:09:14.058Z"
      },
      {
        "duration": 73,
        "start_time": "2023-09-29T18:09:20.029Z"
      },
      {
        "duration": 25,
        "start_time": "2023-09-29T18:09:34.858Z"
      },
      {
        "duration": 7,
        "start_time": "2023-09-29T18:09:40.134Z"
      },
      {
        "duration": 11,
        "start_time": "2023-09-29T18:09:46.302Z"
      },
      {
        "duration": 7,
        "start_time": "2023-09-29T18:49:18.792Z"
      },
      {
        "duration": 15,
        "start_time": "2023-09-29T18:49:24.363Z"
      },
      {
        "duration": 7,
        "start_time": "2023-09-29T18:53:05.340Z"
      },
      {
        "duration": 13,
        "start_time": "2023-09-29T18:53:12.421Z"
      },
      {
        "duration": 30,
        "start_time": "2023-09-29T18:53:19.161Z"
      },
      {
        "duration": 110,
        "start_time": "2023-09-29T18:57:33.759Z"
      },
      {
        "duration": 10,
        "start_time": "2023-09-29T18:57:42.507Z"
      },
      {
        "duration": 67,
        "start_time": "2023-09-29T18:58:07.118Z"
      },
      {
        "duration": 11,
        "start_time": "2023-09-29T18:58:14.836Z"
      },
      {
        "duration": 4,
        "start_time": "2023-09-29T19:12:00.249Z"
      },
      {
        "duration": 53,
        "start_time": "2023-09-30T08:19:50.047Z"
      },
      {
        "duration": 382,
        "start_time": "2023-09-30T08:19:59.041Z"
      },
      {
        "duration": 72,
        "start_time": "2023-09-30T08:19:59.426Z"
      },
      {
        "duration": 13,
        "start_time": "2023-09-30T08:19:59.499Z"
      },
      {
        "duration": 14,
        "start_time": "2023-09-30T08:19:59.514Z"
      },
      {
        "duration": 150,
        "start_time": "2023-09-30T08:19:59.530Z"
      },
      {
        "duration": 51,
        "start_time": "2023-09-30T08:19:59.682Z"
      },
      {
        "duration": 148,
        "start_time": "2023-09-30T08:19:59.735Z"
      },
      {
        "duration": 11,
        "start_time": "2023-09-30T08:19:59.885Z"
      },
      {
        "duration": 30,
        "start_time": "2023-09-30T08:19:59.899Z"
      },
      {
        "duration": 3,
        "start_time": "2023-09-30T09:19:16.212Z"
      },
      {
        "duration": 2270,
        "start_time": "2023-09-30T09:20:09.470Z"
      },
      {
        "duration": 13,
        "start_time": "2023-09-30T09:20:47.205Z"
      },
      {
        "duration": 1097,
        "start_time": "2023-09-30T09:22:45.286Z"
      },
      {
        "duration": 147,
        "start_time": "2023-09-30T09:29:19.658Z"
      },
      {
        "duration": 91,
        "start_time": "2023-09-30T09:29:39.984Z"
      },
      {
        "duration": 155,
        "start_time": "2023-09-30T09:29:46.263Z"
      },
      {
        "duration": 181,
        "start_time": "2023-09-30T09:30:24.248Z"
      },
      {
        "duration": 163,
        "start_time": "2023-09-30T09:31:31.096Z"
      },
      {
        "duration": 761,
        "start_time": "2023-09-30T09:32:59.191Z"
      },
      {
        "duration": 171,
        "start_time": "2023-09-30T09:33:05.664Z"
      },
      {
        "duration": 3,
        "start_time": "2023-09-30T09:33:50.361Z"
      },
      {
        "duration": 316,
        "start_time": "2023-09-30T09:33:55.063Z"
      },
      {
        "duration": 213,
        "start_time": "2023-09-30T09:34:38.372Z"
      },
      {
        "duration": 418,
        "start_time": "2023-09-30T09:34:48.790Z"
      },
      {
        "duration": 208,
        "start_time": "2023-09-30T09:35:13.035Z"
      },
      {
        "duration": 403,
        "start_time": "2023-09-30T09:35:17.538Z"
      },
      {
        "duration": 423,
        "start_time": "2023-09-30T09:35:53.503Z"
      },
      {
        "duration": 420,
        "start_time": "2023-09-30T09:36:10.317Z"
      },
      {
        "duration": 420,
        "start_time": "2023-09-30T09:36:19.383Z"
      },
      {
        "duration": 9,
        "start_time": "2023-09-30T09:41:41.343Z"
      },
      {
        "duration": 4,
        "start_time": "2023-09-30T09:41:45.731Z"
      },
      {
        "duration": 158,
        "start_time": "2023-09-30T09:41:59.017Z"
      },
      {
        "duration": 164,
        "start_time": "2023-09-30T09:42:06.810Z"
      },
      {
        "duration": 160,
        "start_time": "2023-09-30T09:42:19.083Z"
      },
      {
        "duration": 170,
        "start_time": "2023-09-30T09:42:49.285Z"
      },
      {
        "duration": 321,
        "start_time": "2023-09-30T09:44:42.415Z"
      },
      {
        "duration": 435,
        "start_time": "2023-09-30T09:44:57.359Z"
      },
      {
        "duration": 159,
        "start_time": "2023-09-30T09:45:17.306Z"
      },
      {
        "duration": 156,
        "start_time": "2023-09-30T09:45:30.274Z"
      },
      {
        "duration": 159,
        "start_time": "2023-09-30T09:46:01.618Z"
      },
      {
        "duration": 152,
        "start_time": "2023-09-30T09:46:06.928Z"
      },
      {
        "duration": 294,
        "start_time": "2023-09-30T09:46:13.274Z"
      },
      {
        "duration": 316,
        "start_time": "2023-09-30T09:46:18.303Z"
      },
      {
        "duration": 53,
        "start_time": "2023-09-30T09:46:39.579Z"
      },
      {
        "duration": 49,
        "start_time": "2023-09-30T09:46:41.931Z"
      },
      {
        "duration": 359,
        "start_time": "2023-09-30T09:46:52.645Z"
      },
      {
        "duration": 14,
        "start_time": "2023-09-30T10:00:01.878Z"
      },
      {
        "duration": 5,
        "start_time": "2023-09-30T10:00:16.527Z"
      },
      {
        "duration": 11,
        "start_time": "2023-09-30T10:00:19.493Z"
      },
      {
        "duration": 5,
        "start_time": "2023-09-30T10:00:49.715Z"
      },
      {
        "duration": 11,
        "start_time": "2023-09-30T10:01:04.183Z"
      },
      {
        "duration": 11,
        "start_time": "2023-09-30T10:02:01.840Z"
      },
      {
        "duration": 10,
        "start_time": "2023-09-30T10:02:45.848Z"
      },
      {
        "duration": 13,
        "start_time": "2023-09-30T10:02:54.623Z"
      },
      {
        "duration": 12,
        "start_time": "2023-09-30T10:03:02.935Z"
      },
      {
        "duration": 316,
        "start_time": "2023-09-30T10:03:52.123Z"
      },
      {
        "duration": 11,
        "start_time": "2023-09-30T10:04:02.928Z"
      },
      {
        "duration": 252,
        "start_time": "2023-09-30T10:06:42.087Z"
      },
      {
        "duration": 127,
        "start_time": "2023-09-30T10:07:02.641Z"
      },
      {
        "duration": 139,
        "start_time": "2023-09-30T10:07:18.324Z"
      },
      {
        "duration": 135,
        "start_time": "2023-09-30T11:01:30.957Z"
      },
      {
        "duration": 118,
        "start_time": "2023-09-30T11:01:38.173Z"
      },
      {
        "duration": 156,
        "start_time": "2023-09-30T11:02:04.616Z"
      },
      {
        "duration": 125,
        "start_time": "2023-09-30T11:02:31.572Z"
      },
      {
        "duration": 111,
        "start_time": "2023-09-30T11:03:20.130Z"
      },
      {
        "duration": 128,
        "start_time": "2023-09-30T11:03:33.305Z"
      },
      {
        "duration": 119,
        "start_time": "2023-09-30T11:03:49.156Z"
      },
      {
        "duration": 142,
        "start_time": "2023-09-30T11:04:22.461Z"
      },
      {
        "duration": 218,
        "start_time": "2023-09-30T11:04:32.620Z"
      },
      {
        "duration": 118,
        "start_time": "2023-09-30T11:04:39.431Z"
      },
      {
        "duration": 12,
        "start_time": "2023-09-30T11:05:05.575Z"
      },
      {
        "duration": 135,
        "start_time": "2023-09-30T11:05:08.900Z"
      },
      {
        "duration": 144,
        "start_time": "2023-09-30T11:05:27.483Z"
      },
      {
        "duration": 136,
        "start_time": "2023-09-30T11:05:34.692Z"
      },
      {
        "duration": 145,
        "start_time": "2023-09-30T11:05:38.500Z"
      },
      {
        "duration": 133,
        "start_time": "2023-09-30T11:06:24.262Z"
      },
      {
        "duration": 171,
        "start_time": "2023-09-30T11:06:37.854Z"
      },
      {
        "duration": 119,
        "start_time": "2023-09-30T11:07:28.866Z"
      },
      {
        "duration": 119,
        "start_time": "2023-09-30T11:07:49.052Z"
      },
      {
        "duration": 119,
        "start_time": "2023-09-30T11:07:53.023Z"
      },
      {
        "duration": 142,
        "start_time": "2023-09-30T11:07:58.838Z"
      },
      {
        "duration": 15,
        "start_time": "2023-09-30T11:08:09.769Z"
      },
      {
        "duration": 15,
        "start_time": "2023-09-30T11:08:16.421Z"
      },
      {
        "duration": 13,
        "start_time": "2023-09-30T11:08:23.723Z"
      },
      {
        "duration": 14,
        "start_time": "2023-09-30T11:08:26.931Z"
      },
      {
        "duration": 15,
        "start_time": "2023-09-30T11:08:30.985Z"
      },
      {
        "duration": 12,
        "start_time": "2023-09-30T11:08:50.385Z"
      },
      {
        "duration": 12,
        "start_time": "2023-09-30T11:09:36.464Z"
      },
      {
        "duration": 12,
        "start_time": "2023-09-30T11:15:48.375Z"
      },
      {
        "duration": 11,
        "start_time": "2023-09-30T11:17:22.227Z"
      },
      {
        "duration": 12,
        "start_time": "2023-09-30T11:17:34.782Z"
      },
      {
        "duration": 6,
        "start_time": "2023-09-30T11:18:42.299Z"
      },
      {
        "duration": 6,
        "start_time": "2023-09-30T11:18:53.356Z"
      },
      {
        "duration": 11,
        "start_time": "2023-09-30T11:19:24.147Z"
      },
      {
        "duration": 8,
        "start_time": "2023-09-30T11:19:31.525Z"
      },
      {
        "duration": 7,
        "start_time": "2023-09-30T11:19:41.590Z"
      },
      {
        "duration": 11,
        "start_time": "2023-09-30T11:20:43.229Z"
      },
      {
        "duration": 128,
        "start_time": "2023-09-30T13:16:41.642Z"
      },
      {
        "duration": 12,
        "start_time": "2023-09-30T13:17:19.246Z"
      },
      {
        "duration": 12,
        "start_time": "2023-09-30T13:34:27.817Z"
      },
      {
        "duration": 12,
        "start_time": "2023-09-30T13:35:36.755Z"
      },
      {
        "duration": 14,
        "start_time": "2023-09-30T13:37:35.511Z"
      },
      {
        "duration": 16,
        "start_time": "2023-09-30T13:37:39.800Z"
      },
      {
        "duration": 14,
        "start_time": "2023-09-30T13:38:27.332Z"
      },
      {
        "duration": 261,
        "start_time": "2023-09-30T13:38:57.611Z"
      },
      {
        "duration": 138,
        "start_time": "2023-09-30T13:39:10.841Z"
      },
      {
        "duration": 147,
        "start_time": "2023-09-30T13:39:27.397Z"
      },
      {
        "duration": 298,
        "start_time": "2023-09-30T13:39:35.687Z"
      },
      {
        "duration": 256,
        "start_time": "2023-09-30T13:39:45.000Z"
      },
      {
        "duration": 216,
        "start_time": "2023-09-30T13:39:57.555Z"
      },
      {
        "duration": 207,
        "start_time": "2023-09-30T13:40:05.956Z"
      },
      {
        "duration": 274,
        "start_time": "2023-09-30T13:40:33.386Z"
      },
      {
        "duration": 264,
        "start_time": "2023-09-30T13:40:39.682Z"
      },
      {
        "duration": 144,
        "start_time": "2023-09-30T13:40:54.806Z"
      },
      {
        "duration": 354,
        "start_time": "2023-09-30T13:41:07.787Z"
      },
      {
        "duration": 154,
        "start_time": "2023-09-30T13:41:19.074Z"
      },
      {
        "duration": 162,
        "start_time": "2023-09-30T13:41:24.837Z"
      },
      {
        "duration": 199,
        "start_time": "2023-09-30T13:41:44.550Z"
      },
      {
        "duration": 155,
        "start_time": "2023-09-30T13:41:49.634Z"
      },
      {
        "duration": 143,
        "start_time": "2023-09-30T13:42:26.325Z"
      },
      {
        "duration": 148,
        "start_time": "2023-09-30T13:42:32.191Z"
      },
      {
        "duration": 168,
        "start_time": "2023-09-30T13:42:56.092Z"
      },
      {
        "duration": 232,
        "start_time": "2023-09-30T13:43:11.946Z"
      },
      {
        "duration": 11,
        "start_time": "2023-09-30T14:13:48.739Z"
      },
      {
        "duration": 7,
        "start_time": "2023-09-30T14:14:30.036Z"
      },
      {
        "duration": 11,
        "start_time": "2023-09-30T14:14:44.635Z"
      },
      {
        "duration": 282,
        "start_time": "2023-09-30T14:14:50.398Z"
      },
      {
        "duration": 151,
        "start_time": "2023-09-30T14:15:06.702Z"
      },
      {
        "duration": 144,
        "start_time": "2023-09-30T14:15:09.951Z"
      },
      {
        "duration": 242,
        "start_time": "2023-09-30T14:15:48.561Z"
      },
      {
        "duration": 133,
        "start_time": "2023-09-30T14:15:57.548Z"
      },
      {
        "duration": 150,
        "start_time": "2023-09-30T14:16:46.354Z"
      },
      {
        "duration": 192,
        "start_time": "2023-09-30T14:16:54.539Z"
      },
      {
        "duration": 208,
        "start_time": "2023-09-30T14:18:38.606Z"
      },
      {
        "duration": 174,
        "start_time": "2023-09-30T14:18:42.681Z"
      },
      {
        "duration": 11,
        "start_time": "2023-09-30T14:20:15.030Z"
      },
      {
        "duration": 264,
        "start_time": "2023-09-30T14:21:01.069Z"
      },
      {
        "duration": 11,
        "start_time": "2023-09-30T14:21:17.153Z"
      },
      {
        "duration": 8,
        "start_time": "2023-09-30T14:24:49.803Z"
      },
      {
        "duration": 12,
        "start_time": "2023-09-30T14:24:53.561Z"
      },
      {
        "duration": 11,
        "start_time": "2023-09-30T14:26:03.775Z"
      },
      {
        "duration": 6,
        "start_time": "2023-09-30T14:26:14.176Z"
      },
      {
        "duration": 11,
        "start_time": "2023-09-30T14:26:18.899Z"
      },
      {
        "duration": 11,
        "start_time": "2023-09-30T14:26:32.643Z"
      },
      {
        "duration": 12,
        "start_time": "2023-09-30T14:26:52.417Z"
      },
      {
        "duration": 11,
        "start_time": "2023-09-30T14:28:15.991Z"
      },
      {
        "duration": 11,
        "start_time": "2023-09-30T14:28:21.101Z"
      },
      {
        "duration": 10,
        "start_time": "2023-09-30T14:28:27.079Z"
      },
      {
        "duration": 11,
        "start_time": "2023-09-30T14:28:36.753Z"
      },
      {
        "duration": 11,
        "start_time": "2023-09-30T14:28:43.638Z"
      },
      {
        "duration": 11,
        "start_time": "2023-09-30T14:28:53.432Z"
      },
      {
        "duration": 814,
        "start_time": "2023-10-01T08:32:00.714Z"
      },
      {
        "duration": 72,
        "start_time": "2023-10-01T08:32:01.530Z"
      },
      {
        "duration": 54,
        "start_time": "2023-10-01T08:32:01.604Z"
      },
      {
        "duration": 34,
        "start_time": "2023-10-01T08:32:01.661Z"
      },
      {
        "duration": 130,
        "start_time": "2023-10-01T08:32:01.696Z"
      },
      {
        "duration": 10,
        "start_time": "2023-10-01T08:32:01.828Z"
      },
      {
        "duration": 129,
        "start_time": "2023-10-01T08:32:01.840Z"
      },
      {
        "duration": 78,
        "start_time": "2023-10-01T08:32:01.971Z"
      },
      {
        "duration": 214,
        "start_time": "2023-10-01T08:32:02.052Z"
      },
      {
        "duration": 180,
        "start_time": "2023-10-01T08:32:02.269Z"
      },
      {
        "duration": 161,
        "start_time": "2023-10-01T08:32:02.452Z"
      },
      {
        "duration": 324,
        "start_time": "2023-10-01T08:32:02.615Z"
      },
      {
        "duration": 191,
        "start_time": "2023-10-01T08:32:02.941Z"
      },
      {
        "duration": 16,
        "start_time": "2023-10-01T08:32:03.134Z"
      },
      {
        "duration": 4,
        "start_time": "2023-10-01T08:33:14.196Z"
      },
      {
        "duration": 9,
        "start_time": "2023-10-01T08:33:26.528Z"
      },
      {
        "duration": 5,
        "start_time": "2023-10-01T08:34:21.124Z"
      },
      {
        "duration": 4,
        "start_time": "2023-10-01T08:34:36.860Z"
      },
      {
        "duration": 6,
        "start_time": "2023-10-01T08:34:55.228Z"
      },
      {
        "duration": 67,
        "start_time": "2023-10-01T08:35:07.708Z"
      },
      {
        "duration": 10,
        "start_time": "2023-10-01T08:35:11.372Z"
      },
      {
        "duration": 4,
        "start_time": "2023-10-01T08:35:19.088Z"
      },
      {
        "duration": 10,
        "start_time": "2023-10-01T08:36:44.532Z"
      },
      {
        "duration": 10,
        "start_time": "2023-10-01T08:37:22.713Z"
      },
      {
        "duration": 10,
        "start_time": "2023-10-01T08:41:17.870Z"
      },
      {
        "duration": 9,
        "start_time": "2023-10-01T08:41:25.292Z"
      },
      {
        "duration": 17,
        "start_time": "2023-10-01T08:44:50.605Z"
      },
      {
        "duration": 10,
        "start_time": "2023-10-01T08:45:02.954Z"
      },
      {
        "duration": 5,
        "start_time": "2023-10-01T08:45:22.689Z"
      },
      {
        "duration": 5,
        "start_time": "2023-10-01T08:45:28.683Z"
      },
      {
        "duration": 4,
        "start_time": "2023-10-01T08:45:54.067Z"
      },
      {
        "duration": 6,
        "start_time": "2023-10-01T08:46:01.104Z"
      },
      {
        "duration": 11,
        "start_time": "2023-10-01T08:46:23.672Z"
      },
      {
        "duration": 8,
        "start_time": "2023-10-01T08:47:01.276Z"
      },
      {
        "duration": 13,
        "start_time": "2023-10-01T08:47:20.267Z"
      },
      {
        "duration": 63,
        "start_time": "2023-10-01T08:47:34.210Z"
      },
      {
        "duration": 16,
        "start_time": "2023-10-01T08:48:00.084Z"
      },
      {
        "duration": 10,
        "start_time": "2023-10-01T08:48:07.761Z"
      },
      {
        "duration": 9,
        "start_time": "2023-10-01T08:48:48.104Z"
      },
      {
        "duration": 2057,
        "start_time": "2023-10-01T08:48:56.814Z"
      },
      {
        "duration": 12,
        "start_time": "2023-10-01T08:49:08.718Z"
      },
      {
        "duration": 5,
        "start_time": "2023-10-01T08:49:17.645Z"
      },
      {
        "duration": 10,
        "start_time": "2023-10-01T08:49:22.259Z"
      },
      {
        "duration": 5,
        "start_time": "2023-10-01T08:49:37.006Z"
      },
      {
        "duration": 9,
        "start_time": "2023-10-01T08:49:55.996Z"
      },
      {
        "duration": 148,
        "start_time": "2023-10-01T08:50:36.118Z"
      },
      {
        "duration": 142,
        "start_time": "2023-10-01T08:51:29.457Z"
      },
      {
        "duration": 192,
        "start_time": "2023-10-01T08:51:35.959Z"
      },
      {
        "duration": 1570,
        "start_time": "2023-10-01T08:51:44.436Z"
      },
      {
        "duration": 135,
        "start_time": "2023-10-01T08:52:05.024Z"
      },
      {
        "duration": 140,
        "start_time": "2023-10-01T08:52:41.687Z"
      },
      {
        "duration": 1489,
        "start_time": "2023-10-01T08:53:21.352Z"
      },
      {
        "duration": 1739,
        "start_time": "2023-10-01T08:54:22.754Z"
      },
      {
        "duration": 1743,
        "start_time": "2023-10-01T08:54:30.485Z"
      },
      {
        "duration": 242,
        "start_time": "2023-10-01T08:54:43.622Z"
      },
      {
        "duration": 10,
        "start_time": "2023-10-01T08:55:08.985Z"
      },
      {
        "duration": 11,
        "start_time": "2023-10-01T08:55:22.780Z"
      },
      {
        "duration": 5,
        "start_time": "2023-10-01T08:55:38.279Z"
      },
      {
        "duration": 6,
        "start_time": "2023-10-01T08:55:51.078Z"
      },
      {
        "duration": 9,
        "start_time": "2023-10-01T08:56:02.412Z"
      },
      {
        "duration": 6,
        "start_time": "2023-10-01T08:56:29.151Z"
      },
      {
        "duration": 14,
        "start_time": "2023-10-01T08:56:35.484Z"
      },
      {
        "duration": 6,
        "start_time": "2023-10-01T08:56:42.422Z"
      },
      {
        "duration": 1836,
        "start_time": "2023-10-01T09:11:33.612Z"
      },
      {
        "duration": 139,
        "start_time": "2023-10-01T09:12:00.599Z"
      },
      {
        "duration": 11,
        "start_time": "2023-10-01T09:12:19.145Z"
      },
      {
        "duration": 195,
        "start_time": "2023-10-01T09:14:35.633Z"
      },
      {
        "duration": 103,
        "start_time": "2023-10-01T09:14:57.593Z"
      },
      {
        "duration": 198,
        "start_time": "2023-10-01T09:15:09.791Z"
      },
      {
        "duration": 168,
        "start_time": "2023-10-01T09:15:28.516Z"
      },
      {
        "duration": 239,
        "start_time": "2023-10-01T09:15:52.738Z"
      },
      {
        "duration": 272,
        "start_time": "2023-10-01T09:17:04.079Z"
      },
      {
        "duration": 279,
        "start_time": "2023-10-01T09:17:08.701Z"
      },
      {
        "duration": 10,
        "start_time": "2023-10-01T09:34:48.491Z"
      },
      {
        "duration": 814,
        "start_time": "2023-10-01T14:46:57.929Z"
      },
      {
        "duration": 69,
        "start_time": "2023-10-01T14:46:58.746Z"
      },
      {
        "duration": 12,
        "start_time": "2023-10-01T14:46:58.817Z"
      },
      {
        "duration": 106,
        "start_time": "2023-10-01T14:46:58.831Z"
      },
      {
        "duration": 253,
        "start_time": "2023-10-01T14:46:58.939Z"
      },
      {
        "duration": 12,
        "start_time": "2023-10-01T14:46:59.193Z"
      },
      {
        "duration": 63,
        "start_time": "2023-10-01T14:46:59.207Z"
      },
      {
        "duration": 15,
        "start_time": "2023-10-01T14:46:59.272Z"
      },
      {
        "duration": 177,
        "start_time": "2023-10-01T14:46:59.289Z"
      },
      {
        "duration": 174,
        "start_time": "2023-10-01T14:46:59.469Z"
      },
      {
        "duration": 160,
        "start_time": "2023-10-01T14:46:59.644Z"
      },
      {
        "duration": 306,
        "start_time": "2023-10-01T14:46:59.806Z"
      },
      {
        "duration": 190,
        "start_time": "2023-10-01T14:47:00.114Z"
      },
      {
        "duration": 367,
        "start_time": "2023-10-01T14:47:00.306Z"
      },
      {
        "duration": 97,
        "start_time": "2023-10-01T14:47:00.675Z"
      },
      {
        "duration": 245,
        "start_time": "2023-10-01T14:47:06.248Z"
      },
      {
        "duration": 2,
        "start_time": "2023-10-01T14:52:24.625Z"
      },
      {
        "duration": 12,
        "start_time": "2023-10-01T14:52:28.409Z"
      },
      {
        "duration": 150,
        "start_time": "2023-10-01T14:55:13.456Z"
      },
      {
        "duration": 251,
        "start_time": "2023-10-01T14:56:08.755Z"
      },
      {
        "duration": 243,
        "start_time": "2023-10-01T14:56:58.840Z"
      },
      {
        "duration": 238,
        "start_time": "2023-10-01T14:57:03.339Z"
      },
      {
        "duration": 308,
        "start_time": "2023-10-01T14:57:34.524Z"
      },
      {
        "duration": 297,
        "start_time": "2023-10-01T14:57:44.415Z"
      },
      {
        "duration": 306,
        "start_time": "2023-10-01T14:58:08.262Z"
      },
      {
        "duration": 289,
        "start_time": "2023-10-01T14:58:27.370Z"
      },
      {
        "duration": 297,
        "start_time": "2023-10-01T14:58:38.902Z"
      },
      {
        "duration": 307,
        "start_time": "2023-10-01T15:02:43.466Z"
      },
      {
        "duration": 362,
        "start_time": "2023-10-01T15:03:05.258Z"
      },
      {
        "duration": 273,
        "start_time": "2023-10-01T15:03:11.796Z"
      },
      {
        "duration": 276,
        "start_time": "2023-10-01T15:03:19.036Z"
      },
      {
        "duration": 363,
        "start_time": "2023-10-01T15:03:26.866Z"
      },
      {
        "duration": 393,
        "start_time": "2023-10-01T15:03:30.924Z"
      },
      {
        "duration": 580,
        "start_time": "2023-10-01T15:03:34.928Z"
      },
      {
        "duration": 545,
        "start_time": "2023-10-01T15:03:38.449Z"
      },
      {
        "duration": 5,
        "start_time": "2023-10-01T15:04:09.327Z"
      },
      {
        "duration": 682,
        "start_time": "2023-10-01T15:04:12.602Z"
      },
      {
        "duration": 569,
        "start_time": "2023-10-01T15:04:16.837Z"
      },
      {
        "duration": 332,
        "start_time": "2023-10-01T15:07:12.290Z"
      },
      {
        "duration": 1674,
        "start_time": "2023-10-01T15:11:23.941Z"
      },
      {
        "duration": 1405,
        "start_time": "2023-10-01T15:11:39.227Z"
      },
      {
        "duration": 1665,
        "start_time": "2023-10-01T15:11:59.844Z"
      },
      {
        "duration": 12,
        "start_time": "2023-10-01T15:12:36.638Z"
      },
      {
        "duration": 11,
        "start_time": "2023-10-01T15:20:36.348Z"
      },
      {
        "duration": 88,
        "start_time": "2023-10-01T15:20:54.571Z"
      },
      {
        "duration": 77,
        "start_time": "2023-10-01T15:21:02.943Z"
      },
      {
        "duration": 74,
        "start_time": "2023-10-01T15:21:19.871Z"
      },
      {
        "duration": 72,
        "start_time": "2023-10-01T15:21:26.073Z"
      },
      {
        "duration": 7,
        "start_time": "2023-10-01T15:21:40.345Z"
      },
      {
        "duration": 10,
        "start_time": "2023-10-01T15:21:44.179Z"
      },
      {
        "duration": 197,
        "start_time": "2023-10-01T15:22:02.841Z"
      },
      {
        "duration": 115,
        "start_time": "2023-10-01T15:22:44.280Z"
      },
      {
        "duration": 111,
        "start_time": "2023-10-01T15:28:31.272Z"
      },
      {
        "duration": 117,
        "start_time": "2023-10-01T15:28:35.408Z"
      },
      {
        "duration": 107,
        "start_time": "2023-10-01T15:28:39.867Z"
      },
      {
        "duration": 115,
        "start_time": "2023-10-01T15:28:42.249Z"
      },
      {
        "duration": 123,
        "start_time": "2023-10-01T15:29:42.127Z"
      },
      {
        "duration": 7,
        "start_time": "2023-10-01T15:30:20.985Z"
      },
      {
        "duration": 114,
        "start_time": "2023-10-01T15:33:20.985Z"
      },
      {
        "duration": 122,
        "start_time": "2023-10-01T15:36:43.213Z"
      },
      {
        "duration": 155,
        "start_time": "2023-10-01T15:37:10.071Z"
      },
      {
        "duration": 128,
        "start_time": "2023-10-01T15:37:14.982Z"
      },
      {
        "duration": 358,
        "start_time": "2023-10-01T15:41:37.140Z"
      },
      {
        "duration": 282,
        "start_time": "2023-10-01T15:43:56.684Z"
      },
      {
        "duration": 133,
        "start_time": "2023-10-01T15:44:08.230Z"
      },
      {
        "duration": 503,
        "start_time": "2023-10-01T15:44:36.805Z"
      },
      {
        "duration": 82,
        "start_time": "2023-10-01T15:46:06.286Z"
      },
      {
        "duration": 8,
        "start_time": "2023-10-01T15:46:10.590Z"
      },
      {
        "duration": 838,
        "start_time": "2023-10-02T05:28:50.189Z"
      },
      {
        "duration": 81,
        "start_time": "2023-10-02T05:28:51.030Z"
      },
      {
        "duration": 13,
        "start_time": "2023-10-02T05:28:51.113Z"
      },
      {
        "duration": 28,
        "start_time": "2023-10-02T05:28:51.128Z"
      },
      {
        "duration": 113,
        "start_time": "2023-10-02T05:28:51.157Z"
      },
      {
        "duration": 13,
        "start_time": "2023-10-02T05:28:51.272Z"
      },
      {
        "duration": 64,
        "start_time": "2023-10-02T05:28:51.286Z"
      },
      {
        "duration": 10,
        "start_time": "2023-10-02T05:28:51.352Z"
      },
      {
        "duration": 210,
        "start_time": "2023-10-02T05:28:51.364Z"
      },
      {
        "duration": 183,
        "start_time": "2023-10-02T05:28:51.577Z"
      },
      {
        "duration": 171,
        "start_time": "2023-10-02T05:28:51.762Z"
      },
      {
        "duration": 317,
        "start_time": "2023-10-02T05:28:51.935Z"
      },
      {
        "duration": 180,
        "start_time": "2023-10-02T05:28:52.255Z"
      },
      {
        "duration": 304,
        "start_time": "2023-10-02T05:28:52.436Z"
      },
      {
        "duration": 144,
        "start_time": "2023-10-02T05:28:52.742Z"
      },
      {
        "duration": 7,
        "start_time": "2023-10-02T05:28:52.888Z"
      },
      {
        "duration": 332,
        "start_time": "2023-10-02T05:28:52.896Z"
      },
      {
        "duration": 560,
        "start_time": "2023-10-02T05:28:53.230Z"
      },
      {
        "duration": 7,
        "start_time": "2023-10-02T05:28:53.791Z"
      },
      {
        "duration": 717,
        "start_time": "2023-10-02T05:30:49.933Z"
      },
      {
        "duration": 40,
        "start_time": "2023-10-02T05:30:50.653Z"
      },
      {
        "duration": 13,
        "start_time": "2023-10-02T05:30:50.695Z"
      },
      {
        "duration": 19,
        "start_time": "2023-10-02T05:30:50.711Z"
      },
      {
        "duration": 56,
        "start_time": "2023-10-02T05:30:50.732Z"
      },
      {
        "duration": 13,
        "start_time": "2023-10-02T05:30:50.789Z"
      },
      {
        "duration": 56,
        "start_time": "2023-10-02T05:30:50.804Z"
      },
      {
        "duration": 15,
        "start_time": "2023-10-02T05:30:50.862Z"
      },
      {
        "duration": 238,
        "start_time": "2023-10-02T05:30:50.879Z"
      },
      {
        "duration": 180,
        "start_time": "2023-10-02T05:30:51.120Z"
      },
      {
        "duration": 178,
        "start_time": "2023-10-02T05:30:51.301Z"
      },
      {
        "duration": 238,
        "start_time": "2023-10-02T05:30:51.480Z"
      },
      {
        "duration": 210,
        "start_time": "2023-10-02T05:30:51.720Z"
      },
      {
        "duration": 319,
        "start_time": "2023-10-02T05:30:51.932Z"
      },
      {
        "duration": 139,
        "start_time": "2023-10-02T05:30:52.253Z"
      },
      {
        "duration": 8,
        "start_time": "2023-10-02T05:30:52.394Z"
      },
      {
        "duration": 339,
        "start_time": "2023-10-02T05:30:52.403Z"
      },
      {
        "duration": 578,
        "start_time": "2023-10-02T05:30:52.746Z"
      },
      {
        "duration": 23,
        "start_time": "2023-10-02T05:30:53.326Z"
      },
      {
        "duration": 12,
        "start_time": "2023-10-02T07:28:56.872Z"
      },
      {
        "duration": 13,
        "start_time": "2023-10-02T07:29:20.717Z"
      },
      {
        "duration": 14,
        "start_time": "2023-10-02T07:31:13.003Z"
      },
      {
        "duration": 13,
        "start_time": "2023-10-02T07:31:46.664Z"
      },
      {
        "duration": 13,
        "start_time": "2023-10-02T07:32:03.167Z"
      },
      {
        "duration": 98,
        "start_time": "2023-10-02T07:32:17.164Z"
      },
      {
        "duration": 79,
        "start_time": "2023-10-02T07:33:20.115Z"
      },
      {
        "duration": 80,
        "start_time": "2023-10-02T07:35:35.599Z"
      },
      {
        "duration": 92,
        "start_time": "2023-10-02T07:36:08.337Z"
      },
      {
        "duration": 105,
        "start_time": "2023-10-02T08:12:51.642Z"
      },
      {
        "duration": 75,
        "start_time": "2023-10-02T08:13:15.193Z"
      },
      {
        "duration": 165,
        "start_time": "2023-10-02T08:13:33.112Z"
      },
      {
        "duration": 70,
        "start_time": "2023-10-02T08:13:49.173Z"
      },
      {
        "duration": 76,
        "start_time": "2023-10-02T08:14:26.237Z"
      },
      {
        "duration": 88,
        "start_time": "2023-10-02T08:14:39.666Z"
      },
      {
        "duration": 68,
        "start_time": "2023-10-02T08:16:18.189Z"
      },
      {
        "duration": 82,
        "start_time": "2023-10-02T08:16:39.940Z"
      },
      {
        "duration": 5,
        "start_time": "2023-10-02T08:16:44.853Z"
      },
      {
        "duration": 78,
        "start_time": "2023-10-02T08:16:51.862Z"
      },
      {
        "duration": 79,
        "start_time": "2023-10-02T08:19:22.896Z"
      },
      {
        "duration": 70,
        "start_time": "2023-10-02T08:19:31.985Z"
      },
      {
        "duration": 77,
        "start_time": "2023-10-02T08:19:35.491Z"
      },
      {
        "duration": 92,
        "start_time": "2023-10-02T08:21:08.941Z"
      },
      {
        "duration": 100,
        "start_time": "2023-10-02T08:21:14.333Z"
      },
      {
        "duration": 88,
        "start_time": "2023-10-02T08:21:17.467Z"
      },
      {
        "duration": 80,
        "start_time": "2023-10-02T08:21:43.951Z"
      },
      {
        "duration": 76,
        "start_time": "2023-10-02T08:21:56.829Z"
      },
      {
        "duration": 101,
        "start_time": "2023-10-02T08:22:07.270Z"
      },
      {
        "duration": 87,
        "start_time": "2023-10-02T08:22:16.439Z"
      },
      {
        "duration": 124,
        "start_time": "2023-10-02T08:22:23.642Z"
      },
      {
        "duration": 85,
        "start_time": "2023-10-02T08:22:48.523Z"
      },
      {
        "duration": 85,
        "start_time": "2023-10-02T08:22:52.340Z"
      },
      {
        "duration": 92,
        "start_time": "2023-10-02T08:22:55.081Z"
      },
      {
        "duration": 86,
        "start_time": "2023-10-02T08:23:00.103Z"
      },
      {
        "duration": 97,
        "start_time": "2023-10-02T08:23:14.656Z"
      },
      {
        "duration": 83,
        "start_time": "2023-10-02T08:23:23.830Z"
      },
      {
        "duration": 83,
        "start_time": "2023-10-02T08:23:26.483Z"
      },
      {
        "duration": 8,
        "start_time": "2023-10-02T08:24:28.024Z"
      },
      {
        "duration": 496,
        "start_time": "2023-10-02T08:24:52.751Z"
      },
      {
        "duration": 40,
        "start_time": "2023-10-02T08:24:56.105Z"
      },
      {
        "duration": 4,
        "start_time": "2023-10-02T08:25:05.182Z"
      },
      {
        "duration": 27,
        "start_time": "2023-10-02T08:25:07.829Z"
      },
      {
        "duration": 23,
        "start_time": "2023-10-02T08:29:19.133Z"
      },
      {
        "duration": 89,
        "start_time": "2023-10-02T10:49:17.663Z"
      },
      {
        "duration": 52,
        "start_time": "2023-10-02T10:49:39.819Z"
      },
      {
        "duration": 20,
        "start_time": "2023-10-02T10:54:26.036Z"
      },
      {
        "duration": 11,
        "start_time": "2023-10-02T10:54:32.047Z"
      },
      {
        "duration": 14,
        "start_time": "2023-10-02T10:54:42.310Z"
      },
      {
        "duration": 15,
        "start_time": "2023-10-02T10:54:53.817Z"
      },
      {
        "duration": 8,
        "start_time": "2023-10-02T10:55:14.314Z"
      },
      {
        "duration": 14,
        "start_time": "2023-10-02T12:12:14.258Z"
      },
      {
        "duration": 9,
        "start_time": "2023-10-02T12:12:59.202Z"
      },
      {
        "duration": 11,
        "start_time": "2023-10-02T12:13:04.694Z"
      },
      {
        "duration": 16,
        "start_time": "2023-10-02T12:14:22.041Z"
      },
      {
        "duration": 46,
        "start_time": "2023-10-02T12:15:29.889Z"
      },
      {
        "duration": 20,
        "start_time": "2023-10-02T12:16:04.415Z"
      },
      {
        "duration": 22,
        "start_time": "2023-10-02T12:16:16.905Z"
      },
      {
        "duration": 9,
        "start_time": "2023-10-02T12:27:11.785Z"
      },
      {
        "duration": 11,
        "start_time": "2023-10-02T12:27:14.362Z"
      },
      {
        "duration": 8,
        "start_time": "2023-10-02T12:27:47.942Z"
      },
      {
        "duration": 1546,
        "start_time": "2023-10-02T12:27:58.660Z"
      },
      {
        "duration": 9,
        "start_time": "2023-10-02T12:28:09.328Z"
      },
      {
        "duration": 7,
        "start_time": "2023-10-02T12:28:35.813Z"
      },
      {
        "duration": 9,
        "start_time": "2023-10-02T12:29:51.733Z"
      },
      {
        "duration": 10,
        "start_time": "2023-10-02T12:32:12.582Z"
      },
      {
        "duration": 11,
        "start_time": "2023-10-02T13:20:35.852Z"
      },
      {
        "duration": 20,
        "start_time": "2023-10-02T13:20:45.805Z"
      },
      {
        "duration": 14,
        "start_time": "2023-10-02T13:21:17.960Z"
      },
      {
        "duration": 54,
        "start_time": "2023-10-02T13:35:34.625Z"
      },
      {
        "duration": 47,
        "start_time": "2023-10-02T13:36:34.851Z"
      },
      {
        "duration": 97,
        "start_time": "2023-10-02T13:36:57.299Z"
      },
      {
        "duration": 44,
        "start_time": "2023-10-02T13:56:51.745Z"
      },
      {
        "duration": 13,
        "start_time": "2023-10-02T13:57:09.623Z"
      },
      {
        "duration": 17,
        "start_time": "2023-10-02T13:57:28.826Z"
      },
      {
        "duration": 209,
        "start_time": "2023-10-02T14:00:13.436Z"
      },
      {
        "duration": 15,
        "start_time": "2023-10-02T14:00:19.323Z"
      },
      {
        "duration": 46,
        "start_time": "2023-10-02T14:01:09.814Z"
      },
      {
        "duration": 44,
        "start_time": "2023-10-02T14:01:28.754Z"
      },
      {
        "duration": 45,
        "start_time": "2023-10-02T14:04:50.538Z"
      },
      {
        "duration": 46,
        "start_time": "2023-10-02T14:10:01.715Z"
      },
      {
        "duration": 62,
        "start_time": "2023-10-02T14:22:46.973Z"
      },
      {
        "duration": 1428,
        "start_time": "2023-10-02T15:46:42.108Z"
      },
      {
        "duration": 1260,
        "start_time": "2023-10-02T15:46:55.150Z"
      },
      {
        "duration": 4,
        "start_time": "2023-10-02T15:47:08.450Z"
      },
      {
        "duration": 5,
        "start_time": "2023-10-02T15:47:19.785Z"
      },
      {
        "duration": 5,
        "start_time": "2023-10-02T15:47:23.387Z"
      },
      {
        "duration": 4,
        "start_time": "2023-10-02T15:47:27.453Z"
      },
      {
        "duration": 4,
        "start_time": "2023-10-02T15:47:44.975Z"
      },
      {
        "duration": 4,
        "start_time": "2023-10-02T15:47:51.881Z"
      },
      {
        "duration": 4,
        "start_time": "2023-10-02T15:48:09.266Z"
      },
      {
        "duration": 4,
        "start_time": "2023-10-02T15:49:48.899Z"
      },
      {
        "duration": 4,
        "start_time": "2023-10-02T15:54:41.931Z"
      },
      {
        "duration": 14,
        "start_time": "2023-10-02T15:54:49.410Z"
      },
      {
        "duration": 20,
        "start_time": "2023-10-02T16:04:12.137Z"
      },
      {
        "duration": 16,
        "start_time": "2023-10-02T16:05:07.306Z"
      },
      {
        "duration": 16,
        "start_time": "2023-10-02T16:05:15.383Z"
      },
      {
        "duration": 18,
        "start_time": "2023-10-02T16:05:24.874Z"
      },
      {
        "duration": 17,
        "start_time": "2023-10-02T16:05:43.173Z"
      },
      {
        "duration": 17,
        "start_time": "2023-10-02T16:05:53.294Z"
      },
      {
        "duration": 22,
        "start_time": "2023-10-02T16:06:06.506Z"
      },
      {
        "duration": 18,
        "start_time": "2023-10-02T16:06:14.007Z"
      },
      {
        "duration": 32,
        "start_time": "2023-10-02T16:06:23.130Z"
      },
      {
        "duration": 13,
        "start_time": "2023-10-02T16:06:34.620Z"
      },
      {
        "duration": 17,
        "start_time": "2023-10-02T16:06:38.292Z"
      },
      {
        "duration": 31,
        "start_time": "2023-10-02T16:06:58.235Z"
      },
      {
        "duration": 204,
        "start_time": "2023-10-02T16:08:00.462Z"
      },
      {
        "duration": 15,
        "start_time": "2023-10-02T16:09:29.120Z"
      },
      {
        "duration": 104,
        "start_time": "2023-10-02T16:16:21.944Z"
      },
      {
        "duration": 78,
        "start_time": "2023-10-02T16:16:27.289Z"
      },
      {
        "duration": 85,
        "start_time": "2023-10-02T16:16:32.119Z"
      },
      {
        "duration": 791,
        "start_time": "2023-10-02T16:16:43.560Z"
      },
      {
        "duration": 126,
        "start_time": "2023-10-02T16:17:04.892Z"
      },
      {
        "duration": 79,
        "start_time": "2023-10-02T16:17:28.531Z"
      },
      {
        "duration": 78,
        "start_time": "2023-10-02T16:17:34.790Z"
      },
      {
        "duration": 197,
        "start_time": "2023-10-02T16:17:48.541Z"
      },
      {
        "duration": 183,
        "start_time": "2023-10-02T16:22:49.983Z"
      },
      {
        "duration": 1292,
        "start_time": "2023-10-02T17:04:24.426Z"
      },
      {
        "duration": 138,
        "start_time": "2023-10-02T17:04:25.720Z"
      },
      {
        "duration": 13,
        "start_time": "2023-10-02T17:04:25.859Z"
      },
      {
        "duration": 69,
        "start_time": "2023-10-02T17:04:25.873Z"
      },
      {
        "duration": 105,
        "start_time": "2023-10-02T17:04:25.944Z"
      },
      {
        "duration": 25,
        "start_time": "2023-10-02T17:04:26.050Z"
      },
      {
        "duration": 117,
        "start_time": "2023-10-02T17:04:26.076Z"
      },
      {
        "duration": 13,
        "start_time": "2023-10-02T17:04:26.194Z"
      },
      {
        "duration": 76,
        "start_time": "2023-10-02T17:04:26.209Z"
      },
      {
        "duration": 11,
        "start_time": "2023-10-02T17:04:26.287Z"
      },
      {
        "duration": 203,
        "start_time": "2023-10-02T17:04:26.300Z"
      },
      {
        "duration": 167,
        "start_time": "2023-10-02T17:04:26.505Z"
      },
      {
        "duration": 172,
        "start_time": "2023-10-02T17:04:26.674Z"
      },
      {
        "duration": 280,
        "start_time": "2023-10-02T17:04:26.850Z"
      },
      {
        "duration": 171,
        "start_time": "2023-10-02T17:04:27.133Z"
      },
      {
        "duration": 252,
        "start_time": "2023-10-02T17:04:27.306Z"
      },
      {
        "duration": 127,
        "start_time": "2023-10-02T17:04:27.560Z"
      },
      {
        "duration": 5,
        "start_time": "2023-10-02T17:04:27.689Z"
      },
      {
        "duration": 311,
        "start_time": "2023-10-02T17:04:27.696Z"
      },
      {
        "duration": 595,
        "start_time": "2023-10-02T17:04:28.008Z"
      },
      {
        "duration": 7,
        "start_time": "2023-10-02T17:04:28.604Z"
      },
      {
        "duration": 79,
        "start_time": "2023-10-02T17:04:28.612Z"
      },
      {
        "duration": 83,
        "start_time": "2023-10-02T17:04:28.693Z"
      },
      {
        "duration": 40,
        "start_time": "2023-10-02T17:04:28.777Z"
      },
      {
        "duration": 35,
        "start_time": "2023-10-02T17:04:28.819Z"
      },
      {
        "duration": 13,
        "start_time": "2023-10-02T17:04:28.855Z"
      },
      {
        "duration": 44,
        "start_time": "2023-10-02T17:04:28.870Z"
      },
      {
        "duration": 36,
        "start_time": "2023-10-02T17:04:28.916Z"
      },
      {
        "duration": 1754,
        "start_time": "2023-10-02T17:05:43.504Z"
      },
      {
        "duration": 186,
        "start_time": "2023-10-02T17:05:45.260Z"
      },
      {
        "duration": 17,
        "start_time": "2023-10-02T17:05:45.448Z"
      },
      {
        "duration": 22,
        "start_time": "2023-10-02T17:05:45.467Z"
      },
      {
        "duration": 63,
        "start_time": "2023-10-02T17:05:45.491Z"
      },
      {
        "duration": 4,
        "start_time": "2023-10-02T17:05:45.556Z"
      },
      {
        "duration": 85,
        "start_time": "2023-10-02T17:05:45.561Z"
      },
      {
        "duration": 14,
        "start_time": "2023-10-02T17:05:45.648Z"
      },
      {
        "duration": 23,
        "start_time": "2023-10-02T17:05:45.663Z"
      },
      {
        "duration": 62,
        "start_time": "2023-10-02T17:05:45.691Z"
      },
      {
        "duration": 316,
        "start_time": "2023-10-02T17:05:45.755Z"
      },
      {
        "duration": 184,
        "start_time": "2023-10-02T17:05:46.073Z"
      },
      {
        "duration": 164,
        "start_time": "2023-10-02T17:05:46.259Z"
      },
      {
        "duration": 258,
        "start_time": "2023-10-02T17:05:46.425Z"
      },
      {
        "duration": 184,
        "start_time": "2023-10-02T17:05:46.685Z"
      },
      {
        "duration": 227,
        "start_time": "2023-10-02T17:05:46.871Z"
      },
      {
        "duration": 127,
        "start_time": "2023-10-02T17:05:47.100Z"
      },
      {
        "duration": 15,
        "start_time": "2023-10-02T17:05:47.229Z"
      },
      {
        "duration": 290,
        "start_time": "2023-10-02T17:05:47.246Z"
      },
      {
        "duration": 568,
        "start_time": "2023-10-02T17:05:47.537Z"
      },
      {
        "duration": 7,
        "start_time": "2023-10-02T17:05:48.106Z"
      },
      {
        "duration": 92,
        "start_time": "2023-10-02T17:05:48.115Z"
      },
      {
        "duration": 84,
        "start_time": "2023-10-02T17:05:48.209Z"
      },
      {
        "duration": 54,
        "start_time": "2023-10-02T17:05:48.295Z"
      },
      {
        "duration": 27,
        "start_time": "2023-10-02T17:05:48.350Z"
      },
      {
        "duration": 30,
        "start_time": "2023-10-02T17:05:48.379Z"
      },
      {
        "duration": 94,
        "start_time": "2023-10-02T17:05:48.411Z"
      },
      {
        "duration": 33,
        "start_time": "2023-10-02T17:05:48.508Z"
      },
      {
        "duration": 92,
        "start_time": "2023-10-02T17:08:08.242Z"
      },
      {
        "duration": 1292,
        "start_time": "2023-10-04T17:48:30.394Z"
      },
      {
        "duration": 134,
        "start_time": "2023-10-04T17:48:31.689Z"
      },
      {
        "duration": 15,
        "start_time": "2023-10-04T17:48:31.825Z"
      },
      {
        "duration": 14,
        "start_time": "2023-10-04T17:48:31.842Z"
      },
      {
        "duration": 112,
        "start_time": "2023-10-04T17:48:31.858Z"
      },
      {
        "duration": 84,
        "start_time": "2023-10-04T17:48:31.971Z"
      },
      {
        "duration": 202,
        "start_time": "2023-10-04T17:48:32.056Z"
      },
      {
        "duration": 55,
        "start_time": "2023-10-04T17:48:32.259Z"
      },
      {
        "duration": 117,
        "start_time": "2023-10-04T17:48:32.316Z"
      },
      {
        "duration": 30,
        "start_time": "2023-10-04T17:48:32.437Z"
      },
      {
        "duration": 207,
        "start_time": "2023-10-04T17:48:32.469Z"
      },
      {
        "duration": 168,
        "start_time": "2023-10-04T17:48:32.678Z"
      },
      {
        "duration": 177,
        "start_time": "2023-10-04T17:48:32.847Z"
      },
      {
        "duration": 380,
        "start_time": "2023-10-04T17:48:33.025Z"
      },
      {
        "duration": 184,
        "start_time": "2023-10-04T17:48:33.406Z"
      },
      {
        "duration": 274,
        "start_time": "2023-10-04T17:48:33.592Z"
      },
      {
        "duration": 127,
        "start_time": "2023-10-04T17:48:33.867Z"
      },
      {
        "duration": 7,
        "start_time": "2023-10-04T17:48:33.995Z"
      },
      {
        "duration": 312,
        "start_time": "2023-10-04T17:48:34.004Z"
      },
      {
        "duration": 595,
        "start_time": "2023-10-04T17:48:34.318Z"
      },
      {
        "duration": 10,
        "start_time": "2023-10-04T17:48:34.914Z"
      },
      {
        "duration": 220,
        "start_time": "2023-10-04T17:48:34.925Z"
      },
      {
        "duration": 92,
        "start_time": "2023-10-04T17:48:35.147Z"
      },
      {
        "duration": 67,
        "start_time": "2023-10-04T17:48:35.241Z"
      },
      {
        "duration": 30,
        "start_time": "2023-10-04T17:48:35.310Z"
      },
      {
        "duration": 121,
        "start_time": "2023-10-04T17:48:35.342Z"
      },
      {
        "duration": 218,
        "start_time": "2023-10-04T17:48:35.466Z"
      },
      {
        "duration": 21,
        "start_time": "2023-10-04T17:48:35.688Z"
      },
      {
        "duration": 11,
        "start_time": "2023-10-04T18:12:47.031Z"
      },
      {
        "duration": 13,
        "start_time": "2023-10-04T18:12:58.140Z"
      },
      {
        "duration": 12,
        "start_time": "2023-10-04T18:13:01.692Z"
      },
      {
        "duration": 13,
        "start_time": "2023-10-04T18:13:12.200Z"
      },
      {
        "duration": 12,
        "start_time": "2023-10-04T18:13:16.782Z"
      },
      {
        "duration": 12,
        "start_time": "2023-10-04T18:13:21.510Z"
      },
      {
        "duration": 13,
        "start_time": "2023-10-04T18:16:00.181Z"
      },
      {
        "duration": 124,
        "start_time": "2023-10-04T18:20:40.275Z"
      },
      {
        "duration": 6,
        "start_time": "2023-10-04T18:20:47.525Z"
      },
      {
        "duration": 6,
        "start_time": "2023-10-04T18:21:19.064Z"
      },
      {
        "duration": 12,
        "start_time": "2023-10-04T18:22:07.562Z"
      },
      {
        "duration": 10,
        "start_time": "2023-10-04T18:29:25.310Z"
      },
      {
        "duration": 12,
        "start_time": "2023-10-04T18:29:36.665Z"
      },
      {
        "duration": 9,
        "start_time": "2023-10-04T18:30:09.402Z"
      },
      {
        "duration": 7,
        "start_time": "2023-10-04T18:30:15.683Z"
      },
      {
        "duration": 9,
        "start_time": "2023-10-04T18:30:34.417Z"
      },
      {
        "duration": 9,
        "start_time": "2023-10-04T18:30:39.399Z"
      },
      {
        "duration": 5,
        "start_time": "2023-10-04T18:32:01.637Z"
      },
      {
        "duration": 11,
        "start_time": "2023-10-04T18:32:05.780Z"
      },
      {
        "duration": 9,
        "start_time": "2023-10-04T18:34:55.578Z"
      },
      {
        "duration": 13,
        "start_time": "2023-10-04T18:35:29.200Z"
      },
      {
        "duration": 7,
        "start_time": "2023-10-04T18:35:49.758Z"
      },
      {
        "duration": 13,
        "start_time": "2023-10-04T18:36:08.891Z"
      },
      {
        "duration": 6,
        "start_time": "2023-10-04T18:36:16.411Z"
      },
      {
        "duration": 10,
        "start_time": "2023-10-04T18:38:33.505Z"
      },
      {
        "duration": 9,
        "start_time": "2023-10-04T18:38:38.926Z"
      },
      {
        "duration": 8,
        "start_time": "2023-10-04T18:39:54.684Z"
      },
      {
        "duration": 7,
        "start_time": "2023-10-04T18:40:09.695Z"
      },
      {
        "duration": 12,
        "start_time": "2023-10-04T18:40:13.726Z"
      },
      {
        "duration": 5,
        "start_time": "2023-10-04T18:40:15.837Z"
      },
      {
        "duration": 9,
        "start_time": "2023-10-04T18:40:45.798Z"
      },
      {
        "duration": 8,
        "start_time": "2023-10-04T18:40:48.750Z"
      },
      {
        "duration": 8,
        "start_time": "2023-10-04T18:41:20.542Z"
      },
      {
        "duration": 12,
        "start_time": "2023-10-04T18:41:39.728Z"
      },
      {
        "duration": 1193,
        "start_time": "2023-10-04T18:41:44.234Z"
      },
      {
        "duration": 1039,
        "start_time": "2023-10-04T18:41:52.897Z"
      },
      {
        "duration": 6,
        "start_time": "2023-10-04T18:51:19.007Z"
      },
      {
        "duration": 5,
        "start_time": "2023-10-04T18:51:23.129Z"
      },
      {
        "duration": 1040,
        "start_time": "2023-10-04T18:51:29.050Z"
      },
      {
        "duration": 93,
        "start_time": "2023-10-04T18:51:30.092Z"
      },
      {
        "duration": 12,
        "start_time": "2023-10-04T18:51:30.187Z"
      },
      {
        "duration": 46,
        "start_time": "2023-10-04T18:51:30.201Z"
      },
      {
        "duration": 77,
        "start_time": "2023-10-04T18:51:30.249Z"
      },
      {
        "duration": 43,
        "start_time": "2023-10-04T18:51:30.328Z"
      },
      {
        "duration": 148,
        "start_time": "2023-10-04T18:51:30.373Z"
      },
      {
        "duration": 44,
        "start_time": "2023-10-04T18:51:30.523Z"
      },
      {
        "duration": 39,
        "start_time": "2023-10-04T18:51:30.569Z"
      },
      {
        "duration": 58,
        "start_time": "2023-10-04T18:51:30.609Z"
      },
      {
        "duration": 53,
        "start_time": "2023-10-04T18:51:30.668Z"
      },
      {
        "duration": 219,
        "start_time": "2023-10-04T18:51:30.723Z"
      },
      {
        "duration": 172,
        "start_time": "2023-10-04T18:51:30.944Z"
      },
      {
        "duration": 160,
        "start_time": "2023-10-04T18:51:31.123Z"
      },
      {
        "duration": 291,
        "start_time": "2023-10-04T18:51:31.285Z"
      },
      {
        "duration": 188,
        "start_time": "2023-10-04T18:51:31.578Z"
      },
      {
        "duration": 238,
        "start_time": "2023-10-04T18:51:31.767Z"
      },
      {
        "duration": 135,
        "start_time": "2023-10-04T18:51:32.007Z"
      },
      {
        "duration": 6,
        "start_time": "2023-10-04T18:51:32.144Z"
      },
      {
        "duration": 328,
        "start_time": "2023-10-04T18:51:32.152Z"
      },
      {
        "duration": 633,
        "start_time": "2023-10-04T18:51:32.482Z"
      },
      {
        "duration": 8,
        "start_time": "2023-10-04T18:51:33.123Z"
      },
      {
        "duration": 177,
        "start_time": "2023-10-04T18:51:33.132Z"
      },
      {
        "duration": 291,
        "start_time": "2023-10-04T18:51:33.311Z"
      },
      {
        "duration": 42,
        "start_time": "2023-10-04T18:51:33.603Z"
      },
      {
        "duration": 20,
        "start_time": "2023-10-04T18:51:33.646Z"
      },
      {
        "duration": 37,
        "start_time": "2023-10-04T18:51:33.667Z"
      },
      {
        "duration": 91,
        "start_time": "2023-10-04T18:51:33.706Z"
      },
      {
        "duration": 81,
        "start_time": "2023-10-04T18:51:33.799Z"
      },
      {
        "duration": 6,
        "start_time": "2023-10-04T18:52:12.134Z"
      },
      {
        "duration": 6,
        "start_time": "2023-10-04T18:52:23.736Z"
      },
      {
        "duration": 13,
        "start_time": "2023-10-04T18:52:39.194Z"
      },
      {
        "duration": 7,
        "start_time": "2023-10-04T18:59:18.319Z"
      },
      {
        "duration": 95,
        "start_time": "2023-10-04T18:59:42.057Z"
      },
      {
        "duration": 8,
        "start_time": "2023-10-04T18:59:53.797Z"
      },
      {
        "duration": 6,
        "start_time": "2023-10-04T18:59:58.399Z"
      },
      {
        "duration": 7,
        "start_time": "2023-10-04T19:01:39.085Z"
      },
      {
        "duration": 6,
        "start_time": "2023-10-04T19:01:43.514Z"
      },
      {
        "duration": 9,
        "start_time": "2023-10-04T19:02:10.893Z"
      },
      {
        "duration": 4,
        "start_time": "2023-10-04T19:02:30.097Z"
      },
      {
        "duration": 7,
        "start_time": "2023-10-04T19:02:32.518Z"
      },
      {
        "duration": 7,
        "start_time": "2023-10-04T19:02:53.258Z"
      },
      {
        "duration": 8,
        "start_time": "2023-10-04T19:03:25.789Z"
      },
      {
        "duration": 15,
        "start_time": "2023-10-04T19:05:25.419Z"
      },
      {
        "duration": 14,
        "start_time": "2023-10-04T19:05:30.758Z"
      },
      {
        "duration": 15,
        "start_time": "2023-10-04T19:05:39.591Z"
      },
      {
        "duration": 15,
        "start_time": "2023-10-04T19:06:11.511Z"
      },
      {
        "duration": 7,
        "start_time": "2023-10-04T19:06:15.470Z"
      },
      {
        "duration": 158,
        "start_time": "2023-10-04T19:07:21.562Z"
      },
      {
        "duration": 152,
        "start_time": "2023-10-04T19:07:25.494Z"
      },
      {
        "duration": 166,
        "start_time": "2023-10-04T19:07:32.905Z"
      },
      {
        "duration": 164,
        "start_time": "2023-10-04T19:07:51.305Z"
      },
      {
        "duration": 198,
        "start_time": "2023-10-04T19:08:33.685Z"
      },
      {
        "duration": 173,
        "start_time": "2023-10-04T19:09:08.036Z"
      },
      {
        "duration": 239,
        "start_time": "2023-10-04T19:09:37.187Z"
      },
      {
        "duration": 135,
        "start_time": "2023-10-04T19:10:52.622Z"
      },
      {
        "duration": 232,
        "start_time": "2023-10-04T19:11:00.350Z"
      },
      {
        "duration": 310,
        "start_time": "2023-10-04T19:12:37.396Z"
      },
      {
        "duration": 302,
        "start_time": "2023-10-04T19:12:51.395Z"
      },
      {
        "duration": 307,
        "start_time": "2023-10-04T19:13:25.226Z"
      },
      {
        "duration": 336,
        "start_time": "2023-10-04T19:13:45.460Z"
      },
      {
        "duration": 643,
        "start_time": "2023-10-04T19:14:04.659Z"
      },
      {
        "duration": 8,
        "start_time": "2023-10-04T19:21:25.796Z"
      },
      {
        "duration": 7,
        "start_time": "2023-10-04T19:21:59.411Z"
      },
      {
        "duration": 5,
        "start_time": "2023-10-04T19:24:36.906Z"
      },
      {
        "duration": 7,
        "start_time": "2023-10-04T19:25:17.515Z"
      },
      {
        "duration": 9,
        "start_time": "2023-10-04T19:25:49.558Z"
      },
      {
        "duration": 5,
        "start_time": "2023-10-04T19:25:57.242Z"
      },
      {
        "duration": 12,
        "start_time": "2023-10-04T19:26:01.088Z"
      },
      {
        "duration": 13,
        "start_time": "2023-10-04T19:31:20.246Z"
      },
      {
        "duration": 83,
        "start_time": "2023-10-04T19:31:34.354Z"
      },
      {
        "duration": 15,
        "start_time": "2023-10-04T19:31:38.121Z"
      },
      {
        "duration": 14,
        "start_time": "2023-10-04T19:31:45.682Z"
      },
      {
        "duration": 13,
        "start_time": "2023-10-04T19:31:53.841Z"
      },
      {
        "duration": 13,
        "start_time": "2023-10-04T19:32:03.725Z"
      },
      {
        "duration": 12,
        "start_time": "2023-10-04T19:32:08.983Z"
      },
      {
        "duration": 13,
        "start_time": "2023-10-04T19:33:01.887Z"
      },
      {
        "duration": 14,
        "start_time": "2023-10-04T19:33:08.284Z"
      },
      {
        "duration": 5,
        "start_time": "2023-10-04T19:53:16.749Z"
      },
      {
        "duration": 7,
        "start_time": "2023-10-04T19:53:32.301Z"
      },
      {
        "duration": 12,
        "start_time": "2023-10-04T19:53:36.693Z"
      },
      {
        "duration": 14,
        "start_time": "2023-10-04T19:54:53.446Z"
      },
      {
        "duration": 14,
        "start_time": "2023-10-04T19:55:01.543Z"
      },
      {
        "duration": 1309,
        "start_time": "2023-10-04T19:58:48.093Z"
      },
      {
        "duration": 1739,
        "start_time": "2023-10-04T19:59:02.547Z"
      },
      {
        "duration": 9,
        "start_time": "2023-10-04T19:59:06.156Z"
      },
      {
        "duration": 10,
        "start_time": "2023-10-04T19:59:08.046Z"
      },
      {
        "duration": 10,
        "start_time": "2023-10-04T19:59:12.432Z"
      },
      {
        "duration": 14,
        "start_time": "2023-10-04T19:59:54.601Z"
      },
      {
        "duration": 21,
        "start_time": "2023-10-04T20:00:09.461Z"
      },
      {
        "duration": 1548,
        "start_time": "2023-10-04T20:00:17.150Z"
      },
      {
        "duration": 24,
        "start_time": "2023-10-04T20:00:21.332Z"
      },
      {
        "duration": 17,
        "start_time": "2023-10-04T20:00:47.705Z"
      },
      {
        "duration": 16,
        "start_time": "2023-10-04T20:00:52.629Z"
      },
      {
        "duration": 9,
        "start_time": "2023-10-04T20:00:55.063Z"
      },
      {
        "duration": 1966,
        "start_time": "2023-10-04T20:01:15.427Z"
      },
      {
        "duration": 9,
        "start_time": "2023-10-04T20:01:37.689Z"
      },
      {
        "duration": 10,
        "start_time": "2023-10-04T20:01:40.837Z"
      },
      {
        "duration": 1483,
        "start_time": "2023-10-04T20:02:05.703Z"
      },
      {
        "duration": 1209,
        "start_time": "2023-10-04T20:02:16.598Z"
      },
      {
        "duration": 1190,
        "start_time": "2023-10-04T20:02:41.198Z"
      },
      {
        "duration": 1184,
        "start_time": "2023-10-04T20:03:12.894Z"
      },
      {
        "duration": 38,
        "start_time": "2023-10-04T20:08:01.590Z"
      },
      {
        "duration": 37,
        "start_time": "2023-10-04T20:08:38.634Z"
      },
      {
        "duration": 7,
        "start_time": "2023-10-04T20:08:44.085Z"
      },
      {
        "duration": 29,
        "start_time": "2023-10-04T20:08:52.462Z"
      },
      {
        "duration": 12,
        "start_time": "2023-10-04T20:11:56.854Z"
      },
      {
        "duration": 1344,
        "start_time": "2023-10-04T20:19:03.253Z"
      },
      {
        "duration": 39,
        "start_time": "2023-10-04T20:19:18.149Z"
      },
      {
        "duration": 39,
        "start_time": "2023-10-04T20:19:32.435Z"
      },
      {
        "duration": 1542,
        "start_time": "2023-10-04T20:21:00.624Z"
      },
      {
        "duration": 2010,
        "start_time": "2023-10-04T20:21:15.366Z"
      },
      {
        "duration": 64,
        "start_time": "2023-10-04T20:28:37.494Z"
      },
      {
        "duration": 2375,
        "start_time": "2023-10-04T20:29:14.393Z"
      },
      {
        "duration": 1374,
        "start_time": "2023-10-05T05:10:31.361Z"
      },
      {
        "duration": 142,
        "start_time": "2023-10-05T05:10:32.737Z"
      },
      {
        "duration": 13,
        "start_time": "2023-10-05T05:10:32.881Z"
      },
      {
        "duration": 23,
        "start_time": "2023-10-05T05:10:32.896Z"
      },
      {
        "duration": 300,
        "start_time": "2023-10-05T05:10:32.921Z"
      },
      {
        "duration": 424,
        "start_time": "2023-10-05T05:10:33.223Z"
      },
      {
        "duration": 93,
        "start_time": "2023-10-05T05:10:33.649Z"
      },
      {
        "duration": 11,
        "start_time": "2023-10-05T05:10:33.744Z"
      },
      {
        "duration": 37,
        "start_time": "2023-10-05T05:10:33.756Z"
      },
      {
        "duration": 139,
        "start_time": "2023-10-05T05:10:33.796Z"
      },
      {
        "duration": 2397,
        "start_time": "2023-10-05T05:10:33.937Z"
      },
      {
        "duration": 191,
        "start_time": "2023-10-05T05:10:36.336Z"
      },
      {
        "duration": 451,
        "start_time": "2023-10-05T05:10:36.529Z"
      },
      {
        "duration": 430,
        "start_time": "2023-10-05T05:10:36.982Z"
      },
      {
        "duration": 312,
        "start_time": "2023-10-05T05:10:37.414Z"
      },
      {
        "duration": 249,
        "start_time": "2023-10-05T05:10:37.728Z"
      },
      {
        "duration": 290,
        "start_time": "2023-10-05T05:10:37.979Z"
      },
      {
        "duration": 152,
        "start_time": "2023-10-05T05:10:38.271Z"
      },
      {
        "duration": 7,
        "start_time": "2023-10-05T05:10:38.425Z"
      },
      {
        "duration": 425,
        "start_time": "2023-10-05T05:10:38.433Z"
      },
      {
        "duration": 656,
        "start_time": "2023-10-05T05:10:38.860Z"
      },
      {
        "duration": 8,
        "start_time": "2023-10-05T05:10:39.518Z"
      },
      {
        "duration": 90,
        "start_time": "2023-10-05T05:10:39.527Z"
      },
      {
        "duration": 97,
        "start_time": "2023-10-05T05:10:39.619Z"
      },
      {
        "duration": 41,
        "start_time": "2023-10-05T05:10:39.718Z"
      },
      {
        "duration": 19,
        "start_time": "2023-10-05T05:10:39.761Z"
      },
      {
        "duration": 36,
        "start_time": "2023-10-05T05:10:39.782Z"
      },
      {
        "duration": 70,
        "start_time": "2023-10-05T05:10:39.821Z"
      },
      {
        "duration": 24,
        "start_time": "2023-10-05T05:10:39.893Z"
      },
      {
        "duration": 2657,
        "start_time": "2023-10-05T05:11:38.221Z"
      },
      {
        "duration": 2811,
        "start_time": "2023-10-05T05:13:04.017Z"
      },
      {
        "duration": 2577,
        "start_time": "2023-10-05T05:13:17.954Z"
      },
      {
        "duration": 2366,
        "start_time": "2023-10-05T05:13:43.291Z"
      },
      {
        "duration": 1693,
        "start_time": "2023-10-05T05:14:05.153Z"
      },
      {
        "duration": 1616,
        "start_time": "2023-10-05T05:14:19.465Z"
      },
      {
        "duration": 1575,
        "start_time": "2023-10-05T05:15:00.576Z"
      },
      {
        "duration": 1518,
        "start_time": "2023-10-05T05:15:27.445Z"
      },
      {
        "duration": 1515,
        "start_time": "2023-10-05T05:15:41.445Z"
      },
      {
        "duration": 1617,
        "start_time": "2023-10-05T05:16:29.841Z"
      },
      {
        "duration": 1886,
        "start_time": "2023-10-05T05:16:38.438Z"
      },
      {
        "duration": 1750,
        "start_time": "2023-10-05T05:22:22.578Z"
      },
      {
        "duration": 1573,
        "start_time": "2023-10-05T05:22:29.913Z"
      },
      {
        "duration": 1890,
        "start_time": "2023-10-05T05:22:42.234Z"
      },
      {
        "duration": 1818,
        "start_time": "2023-10-05T05:24:06.523Z"
      },
      {
        "duration": 2285,
        "start_time": "2023-10-05T05:24:31.748Z"
      },
      {
        "duration": 2218,
        "start_time": "2023-10-05T05:25:06.332Z"
      },
      {
        "duration": 1769,
        "start_time": "2023-10-05T05:38:02.221Z"
      },
      {
        "duration": 1631,
        "start_time": "2023-10-05T05:38:53.382Z"
      },
      {
        "duration": 1679,
        "start_time": "2023-10-05T05:39:12.955Z"
      },
      {
        "duration": 1656,
        "start_time": "2023-10-05T05:39:24.055Z"
      },
      {
        "duration": 2033,
        "start_time": "2023-10-05T05:41:11.627Z"
      },
      {
        "duration": 2022,
        "start_time": "2023-10-05T05:41:35.220Z"
      },
      {
        "duration": 1244,
        "start_time": "2023-10-05T05:46:31.172Z"
      },
      {
        "duration": 1882,
        "start_time": "2023-10-05T05:46:39.094Z"
      },
      {
        "duration": 1860,
        "start_time": "2023-10-05T05:50:32.625Z"
      },
      {
        "duration": 94,
        "start_time": "2023-10-05T05:51:30.258Z"
      },
      {
        "duration": 1616,
        "start_time": "2023-10-05T05:53:42.591Z"
      },
      {
        "duration": 1532,
        "start_time": "2023-10-05T05:55:09.743Z"
      },
      {
        "duration": 1300,
        "start_time": "2023-10-05T12:48:20.486Z"
      },
      {
        "duration": 135,
        "start_time": "2023-10-05T12:48:21.789Z"
      },
      {
        "duration": 13,
        "start_time": "2023-10-05T12:48:21.926Z"
      },
      {
        "duration": 35,
        "start_time": "2023-10-05T12:48:21.942Z"
      },
      {
        "duration": 121,
        "start_time": "2023-10-05T12:48:21.978Z"
      },
      {
        "duration": 15,
        "start_time": "2023-10-05T12:48:22.101Z"
      },
      {
        "duration": 130,
        "start_time": "2023-10-05T12:48:22.118Z"
      },
      {
        "duration": 15,
        "start_time": "2023-10-05T12:48:22.250Z"
      },
      {
        "duration": 11,
        "start_time": "2023-10-05T12:48:22.268Z"
      },
      {
        "duration": 17,
        "start_time": "2023-10-05T12:48:22.283Z"
      },
      {
        "duration": 1897,
        "start_time": "2023-10-05T12:48:22.302Z"
      },
      {
        "duration": 0,
        "start_time": "2023-10-05T12:48:24.201Z"
      },
      {
        "duration": 0,
        "start_time": "2023-10-05T12:48:24.202Z"
      },
      {
        "duration": 0,
        "start_time": "2023-10-05T12:48:24.204Z"
      },
      {
        "duration": 0,
        "start_time": "2023-10-05T12:48:24.205Z"
      },
      {
        "duration": 0,
        "start_time": "2023-10-05T12:48:24.207Z"
      },
      {
        "duration": 0,
        "start_time": "2023-10-05T12:48:24.209Z"
      },
      {
        "duration": 0,
        "start_time": "2023-10-05T12:48:24.210Z"
      },
      {
        "duration": 0,
        "start_time": "2023-10-05T12:48:24.212Z"
      },
      {
        "duration": 0,
        "start_time": "2023-10-05T12:48:24.213Z"
      },
      {
        "duration": 0,
        "start_time": "2023-10-05T12:48:24.215Z"
      },
      {
        "duration": 0,
        "start_time": "2023-10-05T12:48:24.217Z"
      },
      {
        "duration": 0,
        "start_time": "2023-10-05T12:48:24.218Z"
      },
      {
        "duration": 0,
        "start_time": "2023-10-05T12:48:24.219Z"
      },
      {
        "duration": 1,
        "start_time": "2023-10-05T12:48:24.249Z"
      },
      {
        "duration": 0,
        "start_time": "2023-10-05T12:48:24.252Z"
      },
      {
        "duration": 0,
        "start_time": "2023-10-05T12:48:24.254Z"
      },
      {
        "duration": 0,
        "start_time": "2023-10-05T12:48:24.255Z"
      },
      {
        "duration": 0,
        "start_time": "2023-10-05T12:48:24.259Z"
      },
      {
        "duration": 1813,
        "start_time": "2023-10-05T12:48:53.535Z"
      },
      {
        "duration": 83,
        "start_time": "2023-10-05T12:58:37.714Z"
      },
      {
        "duration": 95,
        "start_time": "2023-10-05T13:02:23.344Z"
      },
      {
        "duration": 110,
        "start_time": "2023-10-05T13:03:35.195Z"
      },
      {
        "duration": 151,
        "start_time": "2023-10-05T13:07:28.018Z"
      },
      {
        "duration": 123,
        "start_time": "2023-10-05T13:07:40.710Z"
      },
      {
        "duration": 2082,
        "start_time": "2023-10-05T13:07:52.189Z"
      },
      {
        "duration": 2233,
        "start_time": "2023-10-05T13:08:13.337Z"
      },
      {
        "duration": 105,
        "start_time": "2023-10-05T13:54:50.884Z"
      },
      {
        "duration": 1605,
        "start_time": "2023-10-05T13:54:56.048Z"
      },
      {
        "duration": 1684,
        "start_time": "2023-10-05T13:55:29.655Z"
      },
      {
        "duration": 82,
        "start_time": "2023-10-05T13:55:46.904Z"
      },
      {
        "duration": 1679,
        "start_time": "2023-10-05T13:55:52.112Z"
      },
      {
        "duration": 1629,
        "start_time": "2023-10-05T13:56:02.105Z"
      },
      {
        "duration": 1498,
        "start_time": "2023-10-05T13:56:08.597Z"
      },
      {
        "duration": 1726,
        "start_time": "2023-10-05T13:56:12.799Z"
      },
      {
        "duration": 1671,
        "start_time": "2023-10-05T13:56:29.753Z"
      },
      {
        "duration": 1691,
        "start_time": "2023-10-05T13:56:33.938Z"
      },
      {
        "duration": 1644,
        "start_time": "2023-10-05T13:57:02.496Z"
      },
      {
        "duration": 1649,
        "start_time": "2023-10-05T13:57:21.984Z"
      },
      {
        "duration": 1679,
        "start_time": "2023-10-05T13:57:25.597Z"
      },
      {
        "duration": 93,
        "start_time": "2023-10-05T13:58:30.060Z"
      },
      {
        "duration": 82,
        "start_time": "2023-10-05T13:58:38.861Z"
      },
      {
        "duration": 80,
        "start_time": "2023-10-05T13:58:41.286Z"
      },
      {
        "duration": 82,
        "start_time": "2023-10-05T13:59:01.562Z"
      },
      {
        "duration": 1698,
        "start_time": "2023-10-05T13:59:07.832Z"
      },
      {
        "duration": 86,
        "start_time": "2023-10-05T13:59:14.019Z"
      },
      {
        "duration": 79,
        "start_time": "2023-10-05T13:59:21.684Z"
      },
      {
        "duration": 1701,
        "start_time": "2023-10-05T14:01:03.565Z"
      },
      {
        "duration": 1544,
        "start_time": "2023-10-05T14:01:33.078Z"
      },
      {
        "duration": 1474,
        "start_time": "2023-10-05T14:01:53.111Z"
      },
      {
        "duration": 1486,
        "start_time": "2023-10-05T14:02:47.677Z"
      },
      {
        "duration": 1445,
        "start_time": "2023-10-05T14:02:53.570Z"
      },
      {
        "duration": 1462,
        "start_time": "2023-10-05T14:03:12.162Z"
      },
      {
        "duration": 1465,
        "start_time": "2023-10-05T14:03:27.171Z"
      },
      {
        "duration": 1517,
        "start_time": "2023-10-05T14:03:34.465Z"
      },
      {
        "duration": 1467,
        "start_time": "2023-10-05T14:03:40.739Z"
      },
      {
        "duration": 1192,
        "start_time": "2023-10-05T14:04:02.535Z"
      },
      {
        "duration": 90,
        "start_time": "2023-10-05T14:04:03.729Z"
      },
      {
        "duration": 271,
        "start_time": "2023-10-05T14:04:03.821Z"
      },
      {
        "duration": 177,
        "start_time": "2023-10-05T14:04:04.094Z"
      },
      {
        "duration": 111,
        "start_time": "2023-10-05T14:04:04.274Z"
      },
      {
        "duration": 11,
        "start_time": "2023-10-05T14:04:04.386Z"
      },
      {
        "duration": 22,
        "start_time": "2023-10-05T14:04:04.399Z"
      },
      {
        "duration": 10,
        "start_time": "2023-10-05T14:04:04.423Z"
      },
      {
        "duration": 10,
        "start_time": "2023-10-05T14:04:04.434Z"
      },
      {
        "duration": 6,
        "start_time": "2023-10-05T14:04:04.446Z"
      },
      {
        "duration": 1789,
        "start_time": "2023-10-05T14:04:04.453Z"
      },
      {
        "duration": 194,
        "start_time": "2023-10-05T14:04:06.243Z"
      },
      {
        "duration": 186,
        "start_time": "2023-10-05T14:04:06.439Z"
      },
      {
        "duration": 183,
        "start_time": "2023-10-05T14:04:06.628Z"
      },
      {
        "duration": 293,
        "start_time": "2023-10-05T14:04:06.812Z"
      },
      {
        "duration": 202,
        "start_time": "2023-10-05T14:04:07.106Z"
      },
      {
        "duration": 294,
        "start_time": "2023-10-05T14:04:07.309Z"
      },
      {
        "duration": 153,
        "start_time": "2023-10-05T14:04:07.606Z"
      },
      {
        "duration": 8,
        "start_time": "2023-10-05T14:04:07.761Z"
      },
      {
        "duration": 363,
        "start_time": "2023-10-05T14:04:07.771Z"
      },
      {
        "duration": 699,
        "start_time": "2023-10-05T14:04:08.137Z"
      },
      {
        "duration": 14,
        "start_time": "2023-10-05T14:04:08.838Z"
      },
      {
        "duration": 80,
        "start_time": "2023-10-05T14:04:08.853Z"
      },
      {
        "duration": 119,
        "start_time": "2023-10-05T14:04:08.934Z"
      },
      {
        "duration": 49,
        "start_time": "2023-10-05T14:04:09.055Z"
      },
      {
        "duration": 41,
        "start_time": "2023-10-05T14:04:09.106Z"
      },
      {
        "duration": 14,
        "start_time": "2023-10-05T14:04:09.149Z"
      },
      {
        "duration": 60,
        "start_time": "2023-10-05T14:04:09.164Z"
      },
      {
        "duration": 22,
        "start_time": "2023-10-05T14:04:09.227Z"
      },
      {
        "duration": 188,
        "start_time": "2023-10-05T14:04:20.781Z"
      },
      {
        "duration": 1683,
        "start_time": "2023-10-05T14:04:26.830Z"
      },
      {
        "duration": 1726,
        "start_time": "2023-10-05T14:17:14.930Z"
      },
      {
        "duration": 1717,
        "start_time": "2023-10-05T14:17:24.994Z"
      },
      {
        "duration": 1670,
        "start_time": "2023-10-05T14:18:31.349Z"
      },
      {
        "duration": 1649,
        "start_time": "2023-10-05T14:18:41.410Z"
      },
      {
        "duration": 1643,
        "start_time": "2023-10-05T14:18:52.782Z"
      },
      {
        "duration": 1642,
        "start_time": "2023-10-05T14:19:16.741Z"
      },
      {
        "duration": 1672,
        "start_time": "2023-10-05T14:19:27.435Z"
      },
      {
        "duration": 1639,
        "start_time": "2023-10-05T14:20:01.876Z"
      },
      {
        "duration": 1636,
        "start_time": "2023-10-05T14:26:08.179Z"
      },
      {
        "duration": 1514,
        "start_time": "2023-10-05T14:26:29.381Z"
      },
      {
        "duration": 3358,
        "start_time": "2023-10-05T14:53:37.194Z"
      },
      {
        "duration": 206,
        "start_time": "2023-10-05T14:54:12.201Z"
      },
      {
        "duration": 3191,
        "start_time": "2023-10-05T14:54:15.400Z"
      },
      {
        "duration": 2806,
        "start_time": "2023-10-05T14:55:03.837Z"
      },
      {
        "duration": 15,
        "start_time": "2023-10-05T15:01:31.086Z"
      },
      {
        "duration": 8,
        "start_time": "2023-10-05T15:05:19.739Z"
      },
      {
        "duration": 20,
        "start_time": "2023-10-05T15:05:30.645Z"
      },
      {
        "duration": 8,
        "start_time": "2023-10-05T15:05:37.617Z"
      },
      {
        "duration": 1230,
        "start_time": "2023-10-05T15:11:39.072Z"
      },
      {
        "duration": 1256,
        "start_time": "2023-10-05T15:11:43.855Z"
      },
      {
        "duration": 1236,
        "start_time": "2023-10-05T15:12:16.271Z"
      },
      {
        "duration": 1476,
        "start_time": "2023-10-05T15:12:44.442Z"
      },
      {
        "duration": 1449,
        "start_time": "2023-10-05T15:15:09.074Z"
      },
      {
        "duration": 1091,
        "start_time": "2023-10-05T15:15:41.236Z"
      },
      {
        "duration": 1051,
        "start_time": "2023-10-05T15:15:50.578Z"
      },
      {
        "duration": 1078,
        "start_time": "2023-10-05T15:16:05.870Z"
      },
      {
        "duration": 1020,
        "start_time": "2023-10-05T15:16:24.149Z"
      },
      {
        "duration": 1083,
        "start_time": "2023-10-05T15:16:44.651Z"
      },
      {
        "duration": 3880,
        "start_time": "2023-10-05T15:16:54.237Z"
      },
      {
        "duration": 2462,
        "start_time": "2023-10-05T15:17:21.309Z"
      },
      {
        "duration": 2734,
        "start_time": "2023-10-05T15:17:33.962Z"
      },
      {
        "duration": 1035,
        "start_time": "2023-10-05T15:17:40.071Z"
      },
      {
        "duration": 1093,
        "start_time": "2023-10-05T15:29:55.051Z"
      },
      {
        "duration": 1077,
        "start_time": "2023-10-05T15:30:01.732Z"
      },
      {
        "duration": 1170,
        "start_time": "2023-10-05T15:30:09.121Z"
      },
      {
        "duration": 1046,
        "start_time": "2023-10-05T15:31:08.428Z"
      },
      {
        "duration": 1165,
        "start_time": "2023-10-05T15:31:26.110Z"
      },
      {
        "duration": 1119,
        "start_time": "2023-10-05T15:31:50.203Z"
      },
      {
        "duration": 92,
        "start_time": "2023-10-05T15:31:51.324Z"
      },
      {
        "duration": 13,
        "start_time": "2023-10-05T15:31:51.418Z"
      },
      {
        "duration": 25,
        "start_time": "2023-10-05T15:31:51.433Z"
      },
      {
        "duration": 51,
        "start_time": "2023-10-05T15:31:51.460Z"
      },
      {
        "duration": 12,
        "start_time": "2023-10-05T15:31:51.513Z"
      },
      {
        "duration": 50,
        "start_time": "2023-10-05T15:31:51.526Z"
      },
      {
        "duration": 11,
        "start_time": "2023-10-05T15:31:51.578Z"
      },
      {
        "duration": 23,
        "start_time": "2023-10-05T15:31:51.591Z"
      },
      {
        "duration": 18,
        "start_time": "2023-10-05T15:31:51.616Z"
      },
      {
        "duration": 1373,
        "start_time": "2023-10-05T15:31:51.636Z"
      },
      {
        "duration": 0,
        "start_time": "2023-10-05T15:31:53.011Z"
      },
      {
        "duration": 1,
        "start_time": "2023-10-05T15:31:53.012Z"
      },
      {
        "duration": 0,
        "start_time": "2023-10-05T15:31:53.014Z"
      },
      {
        "duration": 0,
        "start_time": "2023-10-05T15:31:53.015Z"
      },
      {
        "duration": 0,
        "start_time": "2023-10-05T15:31:53.016Z"
      },
      {
        "duration": 0,
        "start_time": "2023-10-05T15:31:53.017Z"
      },
      {
        "duration": 0,
        "start_time": "2023-10-05T15:31:53.018Z"
      },
      {
        "duration": 0,
        "start_time": "2023-10-05T15:31:53.020Z"
      },
      {
        "duration": 0,
        "start_time": "2023-10-05T15:31:53.021Z"
      },
      {
        "duration": 0,
        "start_time": "2023-10-05T15:31:53.023Z"
      },
      {
        "duration": 0,
        "start_time": "2023-10-05T15:31:53.046Z"
      },
      {
        "duration": 0,
        "start_time": "2023-10-05T15:31:53.048Z"
      },
      {
        "duration": 0,
        "start_time": "2023-10-05T15:31:53.049Z"
      },
      {
        "duration": 0,
        "start_time": "2023-10-05T15:31:53.050Z"
      },
      {
        "duration": 0,
        "start_time": "2023-10-05T15:31:53.051Z"
      },
      {
        "duration": 0,
        "start_time": "2023-10-05T15:31:53.052Z"
      },
      {
        "duration": 0,
        "start_time": "2023-10-05T15:31:53.053Z"
      },
      {
        "duration": 0,
        "start_time": "2023-10-05T15:31:53.054Z"
      },
      {
        "duration": 0,
        "start_time": "2023-10-05T15:31:53.055Z"
      },
      {
        "duration": 1578,
        "start_time": "2023-10-05T15:32:06.634Z"
      },
      {
        "duration": 2523,
        "start_time": "2023-10-05T15:32:48.019Z"
      },
      {
        "duration": 852,
        "start_time": "2023-10-05T15:32:51.628Z"
      },
      {
        "duration": 1107,
        "start_time": "2023-10-05T15:33:16.140Z"
      },
      {
        "duration": 90,
        "start_time": "2023-10-05T15:33:17.249Z"
      },
      {
        "duration": 13,
        "start_time": "2023-10-05T15:33:17.341Z"
      },
      {
        "duration": 23,
        "start_time": "2023-10-05T15:33:17.357Z"
      },
      {
        "duration": 47,
        "start_time": "2023-10-05T15:33:17.382Z"
      },
      {
        "duration": 13,
        "start_time": "2023-10-05T15:33:17.431Z"
      },
      {
        "duration": 31,
        "start_time": "2023-10-05T15:33:17.446Z"
      },
      {
        "duration": 10,
        "start_time": "2023-10-05T15:33:17.479Z"
      },
      {
        "duration": 13,
        "start_time": "2023-10-05T15:33:17.491Z"
      },
      {
        "duration": 39,
        "start_time": "2023-10-05T15:33:17.506Z"
      },
      {
        "duration": 2123,
        "start_time": "2023-10-05T15:33:17.547Z"
      },
      {
        "duration": 3070,
        "start_time": "2023-10-05T15:33:19.672Z"
      },
      {
        "duration": 179,
        "start_time": "2023-10-05T15:33:22.744Z"
      },
      {
        "duration": 186,
        "start_time": "2023-10-05T15:33:22.924Z"
      },
      {
        "duration": 181,
        "start_time": "2023-10-05T15:33:23.112Z"
      },
      {
        "duration": 223,
        "start_time": "2023-10-05T15:33:23.295Z"
      },
      {
        "duration": 197,
        "start_time": "2023-10-05T15:33:23.520Z"
      },
      {
        "duration": 297,
        "start_time": "2023-10-05T15:33:23.719Z"
      },
      {
        "duration": 185,
        "start_time": "2023-10-05T15:33:24.018Z"
      },
      {
        "duration": 7,
        "start_time": "2023-10-05T15:33:24.205Z"
      },
      {
        "duration": 350,
        "start_time": "2023-10-05T15:33:24.213Z"
      },
      {
        "duration": 671,
        "start_time": "2023-10-05T15:33:24.565Z"
      },
      {
        "duration": 14,
        "start_time": "2023-10-05T15:33:25.238Z"
      },
      {
        "duration": 122,
        "start_time": "2023-10-05T15:33:25.254Z"
      },
      {
        "duration": 95,
        "start_time": "2023-10-05T15:33:25.378Z"
      },
      {
        "duration": 39,
        "start_time": "2023-10-05T15:33:25.474Z"
      },
      {
        "duration": 36,
        "start_time": "2023-10-05T15:33:25.514Z"
      },
      {
        "duration": 13,
        "start_time": "2023-10-05T15:33:25.554Z"
      },
      {
        "duration": 49,
        "start_time": "2023-10-05T15:33:25.569Z"
      },
      {
        "duration": 31,
        "start_time": "2023-10-05T15:33:25.620Z"
      },
      {
        "duration": 840,
        "start_time": "2023-10-05T15:33:35.797Z"
      },
      {
        "duration": 1736,
        "start_time": "2023-10-05T15:34:12.219Z"
      },
      {
        "duration": 1154,
        "start_time": "2023-10-05T15:37:54.871Z"
      },
      {
        "duration": 94,
        "start_time": "2023-10-05T15:37:56.027Z"
      },
      {
        "duration": 13,
        "start_time": "2023-10-05T15:37:56.122Z"
      },
      {
        "duration": 20,
        "start_time": "2023-10-05T15:37:56.137Z"
      },
      {
        "duration": 57,
        "start_time": "2023-10-05T15:37:56.159Z"
      },
      {
        "duration": 16,
        "start_time": "2023-10-05T15:37:56.217Z"
      },
      {
        "duration": 24,
        "start_time": "2023-10-05T15:37:56.235Z"
      },
      {
        "duration": 10,
        "start_time": "2023-10-05T15:37:56.260Z"
      },
      {
        "duration": 20,
        "start_time": "2023-10-05T15:37:56.272Z"
      },
      {
        "duration": 15,
        "start_time": "2023-10-05T15:37:56.295Z"
      },
      {
        "duration": 1837,
        "start_time": "2023-10-05T15:37:56.311Z"
      },
      {
        "duration": 3191,
        "start_time": "2023-10-05T15:37:58.150Z"
      },
      {
        "duration": 178,
        "start_time": "2023-10-05T15:38:01.343Z"
      },
      {
        "duration": 199,
        "start_time": "2023-10-05T15:38:01.523Z"
      },
      {
        "duration": 183,
        "start_time": "2023-10-05T15:38:01.724Z"
      },
      {
        "duration": 279,
        "start_time": "2023-10-05T15:38:01.908Z"
      },
      {
        "duration": 203,
        "start_time": "2023-10-05T15:38:02.189Z"
      },
      {
        "duration": 241,
        "start_time": "2023-10-05T15:38:02.394Z"
      },
      {
        "duration": 168,
        "start_time": "2023-10-05T15:38:02.647Z"
      },
      {
        "duration": 7,
        "start_time": "2023-10-05T15:38:02.817Z"
      },
      {
        "duration": 364,
        "start_time": "2023-10-05T15:38:02.825Z"
      },
      {
        "duration": 668,
        "start_time": "2023-10-05T15:38:03.191Z"
      },
      {
        "duration": 9,
        "start_time": "2023-10-05T15:38:03.861Z"
      },
      {
        "duration": 297,
        "start_time": "2023-10-05T15:38:03.872Z"
      },
      {
        "duration": 219,
        "start_time": "2023-10-05T15:38:04.171Z"
      },
      {
        "duration": 39,
        "start_time": "2023-10-05T15:38:04.392Z"
      },
      {
        "duration": 31,
        "start_time": "2023-10-05T15:38:04.433Z"
      },
      {
        "duration": 13,
        "start_time": "2023-10-05T15:38:04.467Z"
      },
      {
        "duration": 66,
        "start_time": "2023-10-05T15:38:04.481Z"
      },
      {
        "duration": 15,
        "start_time": "2023-10-05T15:38:04.549Z"
      },
      {
        "duration": 862,
        "start_time": "2023-10-05T15:38:17.025Z"
      },
      {
        "duration": 1797,
        "start_time": "2023-10-05T15:40:40.963Z"
      },
      {
        "duration": 1131,
        "start_time": "2023-10-05T15:40:48.642Z"
      },
      {
        "duration": 94,
        "start_time": "2023-10-05T15:40:49.775Z"
      },
      {
        "duration": 15,
        "start_time": "2023-10-05T15:40:49.871Z"
      },
      {
        "duration": 29,
        "start_time": "2023-10-05T15:40:49.888Z"
      },
      {
        "duration": 64,
        "start_time": "2023-10-05T15:40:49.920Z"
      },
      {
        "duration": 12,
        "start_time": "2023-10-05T15:40:49.986Z"
      },
      {
        "duration": 38,
        "start_time": "2023-10-05T15:40:50.000Z"
      },
      {
        "duration": 50,
        "start_time": "2023-10-05T15:40:50.040Z"
      },
      {
        "duration": 86,
        "start_time": "2023-10-05T15:40:50.092Z"
      },
      {
        "duration": 37,
        "start_time": "2023-10-05T15:40:50.180Z"
      },
      {
        "duration": 2659,
        "start_time": "2023-10-05T15:40:50.219Z"
      },
      {
        "duration": 3200,
        "start_time": "2023-10-05T15:40:52.880Z"
      },
      {
        "duration": 208,
        "start_time": "2023-10-05T15:40:56.082Z"
      },
      {
        "duration": 178,
        "start_time": "2023-10-05T15:40:56.293Z"
      },
      {
        "duration": 170,
        "start_time": "2023-10-05T15:40:56.472Z"
      },
      {
        "duration": 265,
        "start_time": "2023-10-05T15:40:56.646Z"
      },
      {
        "duration": 197,
        "start_time": "2023-10-05T15:40:56.913Z"
      },
      {
        "duration": 289,
        "start_time": "2023-10-05T15:40:57.111Z"
      },
      {
        "duration": 148,
        "start_time": "2023-10-05T15:40:57.401Z"
      },
      {
        "duration": 8,
        "start_time": "2023-10-05T15:40:57.550Z"
      },
      {
        "duration": 418,
        "start_time": "2023-10-05T15:40:57.559Z"
      },
      {
        "duration": 670,
        "start_time": "2023-10-05T15:40:57.979Z"
      },
      {
        "duration": 7,
        "start_time": "2023-10-05T15:40:58.651Z"
      },
      {
        "duration": 95,
        "start_time": "2023-10-05T15:40:58.660Z"
      },
      {
        "duration": 93,
        "start_time": "2023-10-05T15:40:58.757Z"
      },
      {
        "duration": 43,
        "start_time": "2023-10-05T15:40:58.851Z"
      },
      {
        "duration": 20,
        "start_time": "2023-10-05T15:40:58.896Z"
      },
      {
        "duration": 33,
        "start_time": "2023-10-05T15:40:58.918Z"
      },
      {
        "duration": 69,
        "start_time": "2023-10-05T15:40:58.953Z"
      },
      {
        "duration": 17,
        "start_time": "2023-10-05T15:40:59.024Z"
      },
      {
        "duration": 2721,
        "start_time": "2023-10-05T15:41:12.137Z"
      },
      {
        "duration": 2784,
        "start_time": "2023-10-05T15:41:30.194Z"
      },
      {
        "duration": 1060,
        "start_time": "2023-10-05T15:53:50.476Z"
      },
      {
        "duration": 92,
        "start_time": "2023-10-05T15:53:51.538Z"
      },
      {
        "duration": 13,
        "start_time": "2023-10-05T15:53:51.631Z"
      },
      {
        "duration": 21,
        "start_time": "2023-10-05T15:53:51.646Z"
      },
      {
        "duration": 75,
        "start_time": "2023-10-05T15:53:51.669Z"
      },
      {
        "duration": 11,
        "start_time": "2023-10-05T15:53:51.746Z"
      },
      {
        "duration": 34,
        "start_time": "2023-10-05T15:53:51.759Z"
      },
      {
        "duration": 11,
        "start_time": "2023-10-05T15:53:51.795Z"
      },
      {
        "duration": 26,
        "start_time": "2023-10-05T15:53:51.807Z"
      },
      {
        "duration": 19,
        "start_time": "2023-10-05T15:53:51.837Z"
      },
      {
        "duration": 1590,
        "start_time": "2023-10-05T15:53:51.858Z"
      },
      {
        "duration": 3213,
        "start_time": "2023-10-05T15:53:53.449Z"
      },
      {
        "duration": 329,
        "start_time": "2023-10-05T15:53:56.664Z"
      },
      {
        "duration": 328,
        "start_time": "2023-10-05T15:53:57.047Z"
      },
      {
        "duration": 374,
        "start_time": "2023-10-05T15:53:57.377Z"
      },
      {
        "duration": 396,
        "start_time": "2023-10-05T15:53:57.753Z"
      },
      {
        "duration": 336,
        "start_time": "2023-10-05T15:53:58.151Z"
      },
      {
        "duration": 329,
        "start_time": "2023-10-05T15:53:58.489Z"
      },
      {
        "duration": 154,
        "start_time": "2023-10-05T15:53:58.819Z"
      },
      {
        "duration": 7,
        "start_time": "2023-10-05T15:53:58.975Z"
      },
      {
        "duration": 364,
        "start_time": "2023-10-05T15:53:58.984Z"
      },
      {
        "duration": 656,
        "start_time": "2023-10-05T15:53:59.350Z"
      },
      {
        "duration": 7,
        "start_time": "2023-10-05T15:54:00.008Z"
      },
      {
        "duration": 86,
        "start_time": "2023-10-05T15:54:00.017Z"
      },
      {
        "duration": 113,
        "start_time": "2023-10-05T15:54:00.105Z"
      },
      {
        "duration": 75,
        "start_time": "2023-10-05T15:54:00.220Z"
      },
      {
        "duration": 97,
        "start_time": "2023-10-05T15:54:00.297Z"
      },
      {
        "duration": 76,
        "start_time": "2023-10-05T15:54:00.397Z"
      },
      {
        "duration": 83,
        "start_time": "2023-10-05T15:54:00.475Z"
      },
      {
        "duration": 21,
        "start_time": "2023-10-05T15:54:00.560Z"
      },
      {
        "duration": 1094,
        "start_time": "2023-10-05T15:56:27.306Z"
      },
      {
        "duration": 89,
        "start_time": "2023-10-05T15:56:28.402Z"
      },
      {
        "duration": 13,
        "start_time": "2023-10-05T15:56:28.493Z"
      },
      {
        "duration": 52,
        "start_time": "2023-10-05T15:56:28.508Z"
      },
      {
        "duration": 94,
        "start_time": "2023-10-05T15:56:28.561Z"
      },
      {
        "duration": 11,
        "start_time": "2023-10-05T15:56:28.657Z"
      },
      {
        "duration": 87,
        "start_time": "2023-10-05T15:56:28.670Z"
      },
      {
        "duration": 91,
        "start_time": "2023-10-05T15:56:28.758Z"
      },
      {
        "duration": 27,
        "start_time": "2023-10-05T15:56:28.850Z"
      },
      {
        "duration": 67,
        "start_time": "2023-10-05T15:56:28.880Z"
      },
      {
        "duration": 2303,
        "start_time": "2023-10-05T15:56:28.949Z"
      },
      {
        "duration": 3122,
        "start_time": "2023-10-05T15:56:31.254Z"
      },
      {
        "duration": 197,
        "start_time": "2023-10-05T15:56:34.378Z"
      },
      {
        "duration": 184,
        "start_time": "2023-10-05T15:56:34.577Z"
      },
      {
        "duration": 182,
        "start_time": "2023-10-05T15:56:34.763Z"
      },
      {
        "duration": 269,
        "start_time": "2023-10-05T15:56:34.947Z"
      },
      {
        "duration": 252,
        "start_time": "2023-10-05T15:56:35.218Z"
      },
      {
        "duration": 278,
        "start_time": "2023-10-05T15:56:35.473Z"
      },
      {
        "duration": 175,
        "start_time": "2023-10-05T15:56:35.753Z"
      },
      {
        "duration": 17,
        "start_time": "2023-10-05T15:56:35.930Z"
      },
      {
        "duration": 390,
        "start_time": "2023-10-05T15:56:35.948Z"
      },
      {
        "duration": 706,
        "start_time": "2023-10-05T15:56:36.340Z"
      },
      {
        "duration": 7,
        "start_time": "2023-10-05T15:56:37.049Z"
      },
      {
        "duration": 94,
        "start_time": "2023-10-05T15:56:37.058Z"
      },
      {
        "duration": 94,
        "start_time": "2023-10-05T15:56:37.154Z"
      },
      {
        "duration": 69,
        "start_time": "2023-10-05T15:56:37.251Z"
      },
      {
        "duration": 37,
        "start_time": "2023-10-05T15:56:37.322Z"
      },
      {
        "duration": 14,
        "start_time": "2023-10-05T15:56:37.362Z"
      },
      {
        "duration": 48,
        "start_time": "2023-10-05T15:56:37.377Z"
      },
      {
        "duration": 34,
        "start_time": "2023-10-05T15:56:37.426Z"
      },
      {
        "duration": 176,
        "start_time": "2023-10-05T16:24:35.588Z"
      },
      {
        "duration": 173,
        "start_time": "2023-10-05T16:24:56.077Z"
      },
      {
        "duration": 165,
        "start_time": "2023-10-05T16:25:07.677Z"
      },
      {
        "duration": 256,
        "start_time": "2023-10-05T16:25:26.561Z"
      },
      {
        "duration": 288,
        "start_time": "2023-10-05T16:25:31.315Z"
      },
      {
        "duration": 190,
        "start_time": "2023-10-05T16:25:48.891Z"
      },
      {
        "duration": 13,
        "start_time": "2023-10-05T16:27:38.510Z"
      },
      {
        "duration": 176,
        "start_time": "2023-10-05T16:33:32.560Z"
      },
      {
        "duration": 12,
        "start_time": "2023-10-05T16:36:49.296Z"
      },
      {
        "duration": 16,
        "start_time": "2023-10-05T16:43:18.677Z"
      },
      {
        "duration": 16,
        "start_time": "2023-10-05T16:43:25.740Z"
      },
      {
        "duration": 18,
        "start_time": "2023-10-05T16:43:30.803Z"
      },
      {
        "duration": 19,
        "start_time": "2023-10-05T16:43:52.817Z"
      },
      {
        "duration": 15,
        "start_time": "2023-10-05T16:44:03.214Z"
      },
      {
        "duration": 16,
        "start_time": "2023-10-05T16:44:12.003Z"
      },
      {
        "duration": 13,
        "start_time": "2023-10-05T16:44:28.269Z"
      },
      {
        "duration": 13,
        "start_time": "2023-10-05T16:50:42.830Z"
      },
      {
        "duration": 368,
        "start_time": "2023-10-05T16:56:40.903Z"
      },
      {
        "duration": 277,
        "start_time": "2023-10-05T16:57:03.438Z"
      },
      {
        "duration": 216,
        "start_time": "2023-10-05T19:48:15.895Z"
      },
      {
        "duration": 316,
        "start_time": "2023-10-05T19:48:29.216Z"
      },
      {
        "duration": 382,
        "start_time": "2023-10-05T19:51:06.374Z"
      },
      {
        "duration": 383,
        "start_time": "2023-10-05T19:52:18.647Z"
      },
      {
        "duration": 743,
        "start_time": "2023-10-05T19:52:51.378Z"
      },
      {
        "duration": 664,
        "start_time": "2023-10-05T19:53:22.073Z"
      },
      {
        "duration": 186,
        "start_time": "2023-10-05T20:00:48.368Z"
      },
      {
        "duration": 107,
        "start_time": "2023-10-05T20:05:56.802Z"
      },
      {
        "duration": 76,
        "start_time": "2023-10-05T20:06:07.717Z"
      },
      {
        "duration": 15,
        "start_time": "2023-10-05T20:08:58.776Z"
      },
      {
        "duration": 22,
        "start_time": "2023-10-05T20:09:07.346Z"
      },
      {
        "duration": 13,
        "start_time": "2023-10-05T20:09:30.182Z"
      },
      {
        "duration": 15,
        "start_time": "2023-10-05T20:10:26.267Z"
      },
      {
        "duration": 13,
        "start_time": "2023-10-05T20:10:45.073Z"
      },
      {
        "duration": 188,
        "start_time": "2023-10-05T20:11:30.826Z"
      },
      {
        "duration": 16,
        "start_time": "2023-10-05T20:12:50.145Z"
      },
      {
        "duration": 17,
        "start_time": "2023-10-05T20:12:55.478Z"
      },
      {
        "duration": 13,
        "start_time": "2023-10-05T20:13:37.276Z"
      },
      {
        "duration": 17,
        "start_time": "2023-10-05T20:13:46.373Z"
      },
      {
        "duration": 5,
        "start_time": "2023-10-05T20:23:43.461Z"
      },
      {
        "duration": 16,
        "start_time": "2023-10-05T20:24:26.162Z"
      },
      {
        "duration": 130,
        "start_time": "2023-10-05T20:25:07.245Z"
      },
      {
        "duration": 29,
        "start_time": "2023-10-05T20:25:17.936Z"
      },
      {
        "duration": 19,
        "start_time": "2023-10-05T20:25:26.480Z"
      },
      {
        "duration": 14,
        "start_time": "2023-10-05T20:25:34.073Z"
      },
      {
        "duration": 26,
        "start_time": "2023-10-05T20:30:58.796Z"
      },
      {
        "duration": 17,
        "start_time": "2023-10-05T20:31:07.649Z"
      },
      {
        "duration": 17,
        "start_time": "2023-10-05T20:31:32.378Z"
      },
      {
        "duration": 16,
        "start_time": "2023-10-05T20:31:38.228Z"
      },
      {
        "duration": 23,
        "start_time": "2023-10-05T20:32:20.155Z"
      },
      {
        "duration": 23,
        "start_time": "2023-10-05T20:32:35.455Z"
      },
      {
        "duration": 10,
        "start_time": "2023-10-05T20:33:46.222Z"
      },
      {
        "duration": 29,
        "start_time": "2023-10-05T20:33:48.528Z"
      },
      {
        "duration": 29,
        "start_time": "2023-10-05T20:33:53.165Z"
      },
      {
        "duration": 29,
        "start_time": "2023-10-05T20:34:37.097Z"
      },
      {
        "duration": 27,
        "start_time": "2023-10-05T20:35:18.308Z"
      },
      {
        "duration": 92,
        "start_time": "2023-10-05T20:35:33.053Z"
      },
      {
        "duration": 25,
        "start_time": "2023-10-05T20:35:35.928Z"
      },
      {
        "duration": 38,
        "start_time": "2023-10-05T20:36:31.396Z"
      },
      {
        "duration": 15,
        "start_time": "2023-10-05T20:36:53.699Z"
      },
      {
        "duration": 15,
        "start_time": "2023-10-05T20:38:55.611Z"
      },
      {
        "duration": 16,
        "start_time": "2023-10-05T20:39:22.140Z"
      },
      {
        "duration": 15,
        "start_time": "2023-10-05T20:39:33.823Z"
      },
      {
        "duration": 12,
        "start_time": "2023-10-05T20:40:11.390Z"
      },
      {
        "duration": 11,
        "start_time": "2023-10-05T20:40:33.506Z"
      },
      {
        "duration": 17,
        "start_time": "2023-10-05T20:41:15.642Z"
      },
      {
        "duration": 24,
        "start_time": "2023-10-05T20:42:22.961Z"
      },
      {
        "duration": 18,
        "start_time": "2023-10-05T20:44:09.543Z"
      },
      {
        "duration": 17,
        "start_time": "2023-10-05T20:46:05.574Z"
      },
      {
        "duration": 169,
        "start_time": "2023-10-05T20:46:10.147Z"
      },
      {
        "duration": 283,
        "start_time": "2023-10-05T20:47:53.921Z"
      },
      {
        "duration": 403,
        "start_time": "2023-10-05T20:48:04.594Z"
      },
      {
        "duration": 500,
        "start_time": "2023-10-05T20:48:18.761Z"
      },
      {
        "duration": 161,
        "start_time": "2023-10-05T20:48:26.694Z"
      },
      {
        "duration": 278,
        "start_time": "2023-10-05T20:48:34.001Z"
      },
      {
        "duration": 410,
        "start_time": "2023-10-05T20:48:40.300Z"
      },
      {
        "duration": 544,
        "start_time": "2023-10-05T20:49:43.099Z"
      },
      {
        "duration": 297,
        "start_time": "2023-10-05T20:50:01.416Z"
      },
      {
        "duration": 306,
        "start_time": "2023-10-05T20:50:18.319Z"
      },
      {
        "duration": 309,
        "start_time": "2023-10-05T20:51:09.559Z"
      },
      {
        "duration": 324,
        "start_time": "2023-10-05T20:51:34.349Z"
      },
      {
        "duration": 8,
        "start_time": "2023-10-05T20:59:31.587Z"
      },
      {
        "duration": 11,
        "start_time": "2023-10-05T21:00:45.035Z"
      },
      {
        "duration": 8,
        "start_time": "2023-10-05T21:01:03.829Z"
      },
      {
        "duration": 12,
        "start_time": "2023-10-05T21:01:15.099Z"
      },
      {
        "duration": 49,
        "start_time": "2023-10-06T19:39:06.305Z"
      },
      {
        "duration": 1270,
        "start_time": "2023-10-06T19:39:18.286Z"
      },
      {
        "duration": 98,
        "start_time": "2023-10-06T19:39:19.558Z"
      },
      {
        "duration": 12,
        "start_time": "2023-10-06T19:39:19.657Z"
      },
      {
        "duration": 92,
        "start_time": "2023-10-06T19:39:19.670Z"
      },
      {
        "duration": 135,
        "start_time": "2023-10-06T19:39:19.764Z"
      },
      {
        "duration": 11,
        "start_time": "2023-10-06T19:39:19.901Z"
      },
      {
        "duration": 64,
        "start_time": "2023-10-06T19:39:19.913Z"
      },
      {
        "duration": 10,
        "start_time": "2023-10-06T19:39:19.979Z"
      },
      {
        "duration": 28,
        "start_time": "2023-10-06T19:39:19.991Z"
      },
      {
        "duration": 21,
        "start_time": "2023-10-06T19:39:20.021Z"
      },
      {
        "duration": 1441,
        "start_time": "2023-10-06T19:39:20.044Z"
      },
      {
        "duration": 2792,
        "start_time": "2023-10-06T19:39:21.487Z"
      },
      {
        "duration": 202,
        "start_time": "2023-10-06T19:39:24.282Z"
      },
      {
        "duration": 165,
        "start_time": "2023-10-06T19:39:24.488Z"
      },
      {
        "duration": 146,
        "start_time": "2023-10-06T19:39:24.655Z"
      },
      {
        "duration": 319,
        "start_time": "2023-10-06T19:39:24.803Z"
      },
      {
        "duration": 391,
        "start_time": "2023-10-06T19:39:25.124Z"
      },
      {
        "duration": 0,
        "start_time": "2023-10-06T19:39:25.516Z"
      },
      {
        "duration": 0,
        "start_time": "2023-10-06T19:39:25.518Z"
      },
      {
        "duration": 0,
        "start_time": "2023-10-06T19:39:25.518Z"
      },
      {
        "duration": 0,
        "start_time": "2023-10-06T19:39:25.520Z"
      },
      {
        "duration": 0,
        "start_time": "2023-10-06T19:39:25.520Z"
      },
      {
        "duration": 0,
        "start_time": "2023-10-06T19:39:25.521Z"
      },
      {
        "duration": 0,
        "start_time": "2023-10-06T19:39:25.522Z"
      },
      {
        "duration": 0,
        "start_time": "2023-10-06T19:39:25.524Z"
      },
      {
        "duration": 0,
        "start_time": "2023-10-06T19:39:25.525Z"
      },
      {
        "duration": 0,
        "start_time": "2023-10-06T19:39:25.526Z"
      },
      {
        "duration": 0,
        "start_time": "2023-10-06T19:39:25.527Z"
      },
      {
        "duration": 0,
        "start_time": "2023-10-06T19:39:25.528Z"
      },
      {
        "duration": 0,
        "start_time": "2023-10-06T19:39:25.550Z"
      },
      {
        "duration": 443,
        "start_time": "2023-10-06T19:40:07.061Z"
      },
      {
        "duration": 419,
        "start_time": "2023-10-06T19:46:55.071Z"
      },
      {
        "duration": 398,
        "start_time": "2023-10-06T19:47:00.327Z"
      },
      {
        "duration": 410,
        "start_time": "2023-10-06T19:47:06.216Z"
      },
      {
        "duration": 382,
        "start_time": "2023-10-06T19:47:19.530Z"
      },
      {
        "duration": 424,
        "start_time": "2023-10-06T19:50:56.977Z"
      },
      {
        "duration": 390,
        "start_time": "2023-10-06T19:51:09.189Z"
      },
      {
        "duration": 441,
        "start_time": "2023-10-06T19:51:15.967Z"
      },
      {
        "duration": 383,
        "start_time": "2023-10-06T19:52:01.496Z"
      },
      {
        "duration": 145,
        "start_time": "2023-10-06T19:52:08.131Z"
      },
      {
        "duration": 414,
        "start_time": "2023-10-06T19:52:12.184Z"
      },
      {
        "duration": 68,
        "start_time": "2023-10-07T04:53:18.925Z"
      },
      {
        "duration": 1140,
        "start_time": "2023-10-07T04:53:30.328Z"
      },
      {
        "duration": 132,
        "start_time": "2023-10-07T04:53:31.469Z"
      },
      {
        "duration": 13,
        "start_time": "2023-10-07T04:53:31.602Z"
      },
      {
        "duration": 39,
        "start_time": "2023-10-07T04:53:31.617Z"
      },
      {
        "duration": 119,
        "start_time": "2023-10-07T04:53:31.657Z"
      },
      {
        "duration": 11,
        "start_time": "2023-10-07T04:53:31.777Z"
      },
      {
        "duration": 97,
        "start_time": "2023-10-07T04:53:31.789Z"
      },
      {
        "duration": 8,
        "start_time": "2023-10-07T04:53:31.888Z"
      },
      {
        "duration": 18,
        "start_time": "2023-10-07T04:53:31.897Z"
      },
      {
        "duration": 12,
        "start_time": "2023-10-07T04:53:31.917Z"
      },
      {
        "duration": 1442,
        "start_time": "2023-10-07T04:53:31.930Z"
      },
      {
        "duration": 2578,
        "start_time": "2023-10-07T04:53:33.373Z"
      },
      {
        "duration": 156,
        "start_time": "2023-10-07T04:53:35.952Z"
      },
      {
        "duration": 167,
        "start_time": "2023-10-07T04:53:36.109Z"
      },
      {
        "duration": 171,
        "start_time": "2023-10-07T04:53:36.277Z"
      },
      {
        "duration": 282,
        "start_time": "2023-10-07T04:53:36.449Z"
      },
      {
        "duration": 428,
        "start_time": "2023-10-07T04:53:36.732Z"
      },
      {
        "duration": 232,
        "start_time": "2023-10-07T04:53:37.161Z"
      },
      {
        "duration": 174,
        "start_time": "2023-10-07T04:53:37.394Z"
      },
      {
        "duration": 5,
        "start_time": "2023-10-07T04:53:37.581Z"
      },
      {
        "duration": 288,
        "start_time": "2023-10-07T04:53:37.588Z"
      },
      {
        "duration": 529,
        "start_time": "2023-10-07T04:53:37.881Z"
      },
      {
        "duration": 5,
        "start_time": "2023-10-07T04:53:38.412Z"
      },
      {
        "duration": 85,
        "start_time": "2023-10-07T04:53:38.419Z"
      },
      {
        "duration": 87,
        "start_time": "2023-10-07T04:53:38.505Z"
      },
      {
        "duration": 30,
        "start_time": "2023-10-07T04:53:38.593Z"
      },
      {
        "duration": 36,
        "start_time": "2023-10-07T04:53:38.624Z"
      },
      {
        "duration": 18,
        "start_time": "2023-10-07T04:53:38.671Z"
      },
      {
        "duration": 29,
        "start_time": "2023-10-07T04:53:38.690Z"
      },
      {
        "duration": 11,
        "start_time": "2023-10-07T04:53:38.720Z"
      },
      {
        "duration": 1010,
        "start_time": "2023-10-07T04:54:36.294Z"
      },
      {
        "duration": 5,
        "start_time": "2023-10-07T05:05:54.497Z"
      },
      {
        "duration": 13,
        "start_time": "2023-10-07T05:06:17.477Z"
      },
      {
        "duration": 124,
        "start_time": "2023-10-07T05:10:27.186Z"
      },
      {
        "duration": 213,
        "start_time": "2023-10-07T05:10:35.379Z"
      },
      {
        "duration": 144,
        "start_time": "2023-10-07T05:10:42.980Z"
      },
      {
        "duration": 223,
        "start_time": "2023-10-07T05:11:05.886Z"
      },
      {
        "duration": 222,
        "start_time": "2023-10-07T05:16:37.164Z"
      },
      {
        "duration": 16,
        "start_time": "2023-10-07T05:16:41.750Z"
      },
      {
        "duration": 233,
        "start_time": "2023-10-07T05:16:44.755Z"
      },
      {
        "duration": 221,
        "start_time": "2023-10-07T05:18:06.404Z"
      },
      {
        "duration": 314,
        "start_time": "2023-10-07T05:18:23.204Z"
      },
      {
        "duration": 185,
        "start_time": "2023-10-07T05:18:31.917Z"
      },
      {
        "duration": 200,
        "start_time": "2023-10-07T05:29:04.301Z"
      },
      {
        "duration": 208,
        "start_time": "2023-10-07T05:29:10.280Z"
      },
      {
        "duration": 137,
        "start_time": "2023-10-07T05:29:53.981Z"
      },
      {
        "duration": 52,
        "start_time": "2023-10-07T09:42:55.126Z"
      },
      {
        "duration": 1428,
        "start_time": "2023-10-07T09:43:03.325Z"
      },
      {
        "duration": 173,
        "start_time": "2023-10-07T09:43:04.758Z"
      },
      {
        "duration": 14,
        "start_time": "2023-10-07T09:43:04.932Z"
      },
      {
        "duration": 162,
        "start_time": "2023-10-07T09:43:04.948Z"
      },
      {
        "duration": 143,
        "start_time": "2023-10-07T09:43:05.114Z"
      },
      {
        "duration": 12,
        "start_time": "2023-10-07T09:43:05.259Z"
      },
      {
        "duration": 123,
        "start_time": "2023-10-07T09:43:05.274Z"
      },
      {
        "duration": 26,
        "start_time": "2023-10-07T09:43:05.399Z"
      },
      {
        "duration": 292,
        "start_time": "2023-10-07T09:43:05.431Z"
      },
      {
        "duration": 167,
        "start_time": "2023-10-07T09:43:05.728Z"
      },
      {
        "duration": 1772,
        "start_time": "2023-10-07T09:43:05.897Z"
      },
      {
        "duration": 3466,
        "start_time": "2023-10-07T09:43:07.671Z"
      },
      {
        "duration": 198,
        "start_time": "2023-10-07T09:43:11.139Z"
      },
      {
        "duration": 191,
        "start_time": "2023-10-07T09:43:11.338Z"
      },
      {
        "duration": 193,
        "start_time": "2023-10-07T09:43:11.531Z"
      },
      {
        "duration": 307,
        "start_time": "2023-10-07T09:43:11.726Z"
      },
      {
        "duration": 520,
        "start_time": "2023-10-07T09:43:12.035Z"
      },
      {
        "duration": 335,
        "start_time": "2023-10-07T09:43:12.557Z"
      },
      {
        "duration": 192,
        "start_time": "2023-10-07T09:43:12.894Z"
      },
      {
        "duration": 7,
        "start_time": "2023-10-07T09:43:13.088Z"
      },
      {
        "duration": 435,
        "start_time": "2023-10-07T09:43:13.097Z"
      },
      {
        "duration": 750,
        "start_time": "2023-10-07T09:43:13.534Z"
      },
      {
        "duration": 7,
        "start_time": "2023-10-07T09:43:14.287Z"
      },
      {
        "duration": 98,
        "start_time": "2023-10-07T09:43:14.296Z"
      },
      {
        "duration": 97,
        "start_time": "2023-10-07T09:43:14.396Z"
      },
      {
        "duration": 71,
        "start_time": "2023-10-07T09:43:14.495Z"
      },
      {
        "duration": 24,
        "start_time": "2023-10-07T09:43:14.569Z"
      },
      {
        "duration": 34,
        "start_time": "2023-10-07T09:43:14.596Z"
      },
      {
        "duration": 54,
        "start_time": "2023-10-07T09:43:14.631Z"
      },
      {
        "duration": 20,
        "start_time": "2023-10-07T09:43:14.687Z"
      },
      {
        "duration": 226,
        "start_time": "2023-10-07T09:43:44.771Z"
      },
      {
        "duration": 176,
        "start_time": "2023-10-07T09:43:47.321Z"
      },
      {
        "duration": 192,
        "start_time": "2023-10-07T09:44:07.173Z"
      },
      {
        "duration": 19,
        "start_time": "2023-10-07T11:44:20.522Z"
      },
      {
        "duration": 59,
        "start_time": "2023-10-07T11:45:25.197Z"
      },
      {
        "duration": 20,
        "start_time": "2023-10-07T11:55:32.687Z"
      },
      {
        "duration": 24,
        "start_time": "2023-10-07T11:56:33.892Z"
      },
      {
        "duration": 14,
        "start_time": "2023-10-07T11:58:59.176Z"
      },
      {
        "duration": 16,
        "start_time": "2023-10-07T11:59:08.077Z"
      },
      {
        "duration": 48,
        "start_time": "2023-10-07T11:59:27.871Z"
      },
      {
        "duration": 15,
        "start_time": "2023-10-07T11:59:35.165Z"
      },
      {
        "duration": 64,
        "start_time": "2023-10-07T12:07:47.412Z"
      },
      {
        "duration": 89,
        "start_time": "2023-10-07T12:10:01.424Z"
      },
      {
        "duration": 75,
        "start_time": "2023-10-07T12:10:09.313Z"
      },
      {
        "duration": 75,
        "start_time": "2023-10-07T12:10:15.616Z"
      },
      {
        "duration": 88,
        "start_time": "2023-10-07T12:10:25.043Z"
      },
      {
        "duration": 132,
        "start_time": "2023-10-07T12:10:54.615Z"
      },
      {
        "duration": 88,
        "start_time": "2023-10-07T12:11:09.950Z"
      },
      {
        "duration": 73,
        "start_time": "2023-10-07T12:11:15.054Z"
      },
      {
        "duration": 83,
        "start_time": "2023-10-07T12:11:26.134Z"
      },
      {
        "duration": 74,
        "start_time": "2023-10-07T12:11:33.325Z"
      },
      {
        "duration": 84,
        "start_time": "2023-10-07T12:11:36.203Z"
      },
      {
        "duration": 73,
        "start_time": "2023-10-07T12:11:38.953Z"
      },
      {
        "duration": 88,
        "start_time": "2023-10-07T12:11:42.934Z"
      },
      {
        "duration": 87,
        "start_time": "2023-10-07T12:11:46.367Z"
      },
      {
        "duration": 83,
        "start_time": "2023-10-07T12:11:49.036Z"
      },
      {
        "duration": 102,
        "start_time": "2023-10-07T12:12:02.520Z"
      },
      {
        "duration": 93,
        "start_time": "2023-10-07T12:12:13.186Z"
      },
      {
        "duration": 113,
        "start_time": "2023-10-07T12:12:25.198Z"
      },
      {
        "duration": 87,
        "start_time": "2023-10-07T12:12:41.049Z"
      },
      {
        "duration": 76,
        "start_time": "2023-10-07T12:12:44.041Z"
      },
      {
        "duration": 557,
        "start_time": "2023-10-07T12:13:04.088Z"
      },
      {
        "duration": 1247,
        "start_time": "2023-10-07T12:14:31.516Z"
      },
      {
        "duration": 107,
        "start_time": "2023-10-07T12:14:32.765Z"
      },
      {
        "duration": 15,
        "start_time": "2023-10-07T12:14:32.874Z"
      },
      {
        "duration": 37,
        "start_time": "2023-10-07T12:14:32.906Z"
      },
      {
        "duration": 83,
        "start_time": "2023-10-07T12:14:32.945Z"
      },
      {
        "duration": 16,
        "start_time": "2023-10-07T12:14:33.030Z"
      },
      {
        "duration": 46,
        "start_time": "2023-10-07T12:14:33.048Z"
      },
      {
        "duration": 22,
        "start_time": "2023-10-07T12:14:33.097Z"
      },
      {
        "duration": 33,
        "start_time": "2023-10-07T12:14:33.121Z"
      },
      {
        "duration": 38,
        "start_time": "2023-10-07T12:14:33.157Z"
      },
      {
        "duration": 1851,
        "start_time": "2023-10-07T12:14:33.196Z"
      },
      {
        "duration": 3534,
        "start_time": "2023-10-07T12:14:35.049Z"
      },
      {
        "duration": 264,
        "start_time": "2023-10-07T12:14:38.585Z"
      },
      {
        "duration": 217,
        "start_time": "2023-10-07T12:14:38.853Z"
      },
      {
        "duration": 205,
        "start_time": "2023-10-07T12:14:39.072Z"
      },
      {
        "duration": 303,
        "start_time": "2023-10-07T12:14:39.280Z"
      },
      {
        "duration": 551,
        "start_time": "2023-10-07T12:14:39.585Z"
      },
      {
        "duration": 291,
        "start_time": "2023-10-07T12:14:40.138Z"
      },
      {
        "duration": 185,
        "start_time": "2023-10-07T12:14:40.430Z"
      },
      {
        "duration": 10,
        "start_time": "2023-10-07T12:14:40.618Z"
      },
      {
        "duration": 394,
        "start_time": "2023-10-07T12:14:40.630Z"
      },
      {
        "duration": 727,
        "start_time": "2023-10-07T12:14:41.026Z"
      },
      {
        "duration": 8,
        "start_time": "2023-10-07T12:14:41.755Z"
      },
      {
        "duration": 124,
        "start_time": "2023-10-07T12:14:41.766Z"
      },
      {
        "duration": 91,
        "start_time": "2023-10-07T12:14:41.892Z"
      },
      {
        "duration": 65,
        "start_time": "2023-10-07T12:14:41.985Z"
      },
      {
        "duration": 23,
        "start_time": "2023-10-07T12:14:42.051Z"
      },
      {
        "duration": 35,
        "start_time": "2023-10-07T12:14:42.076Z"
      },
      {
        "duration": 44,
        "start_time": "2023-10-07T12:14:42.114Z"
      },
      {
        "duration": 15,
        "start_time": "2023-10-07T12:14:42.160Z"
      },
      {
        "duration": 1167,
        "start_time": "2023-10-08T06:16:19.680Z"
      },
      {
        "duration": 128,
        "start_time": "2023-10-08T06:16:20.850Z"
      },
      {
        "duration": 14,
        "start_time": "2023-10-08T06:16:20.979Z"
      },
      {
        "duration": 12,
        "start_time": "2023-10-08T06:16:20.995Z"
      },
      {
        "duration": 168,
        "start_time": "2023-10-08T06:16:21.008Z"
      },
      {
        "duration": 10,
        "start_time": "2023-10-08T06:16:21.177Z"
      },
      {
        "duration": 64,
        "start_time": "2023-10-08T06:16:21.189Z"
      },
      {
        "duration": 9,
        "start_time": "2023-10-08T06:16:21.255Z"
      },
      {
        "duration": 28,
        "start_time": "2023-10-08T06:16:21.265Z"
      },
      {
        "duration": 26,
        "start_time": "2023-10-08T06:16:21.295Z"
      },
      {
        "duration": 1366,
        "start_time": "2023-10-08T06:16:21.322Z"
      },
      {
        "duration": 2887,
        "start_time": "2023-10-08T06:16:22.690Z"
      },
      {
        "duration": 175,
        "start_time": "2023-10-08T06:16:25.579Z"
      },
      {
        "duration": 178,
        "start_time": "2023-10-08T06:16:25.755Z"
      },
      {
        "duration": 183,
        "start_time": "2023-10-08T06:16:25.935Z"
      },
      {
        "duration": 320,
        "start_time": "2023-10-08T06:16:26.119Z"
      },
      {
        "duration": 412,
        "start_time": "2023-10-08T06:16:26.450Z"
      },
      {
        "duration": 259,
        "start_time": "2023-10-08T06:16:26.863Z"
      },
      {
        "duration": 145,
        "start_time": "2023-10-08T06:16:27.124Z"
      },
      {
        "duration": 6,
        "start_time": "2023-10-08T06:16:27.271Z"
      },
      {
        "duration": 400,
        "start_time": "2023-10-08T06:16:27.278Z"
      },
      {
        "duration": 572,
        "start_time": "2023-10-08T06:16:27.681Z"
      },
      {
        "duration": 7,
        "start_time": "2023-10-08T06:16:28.254Z"
      },
      {
        "duration": 74,
        "start_time": "2023-10-08T06:16:28.262Z"
      },
      {
        "duration": 76,
        "start_time": "2023-10-08T06:16:28.338Z"
      },
      {
        "duration": 49,
        "start_time": "2023-10-08T06:16:28.415Z"
      },
      {
        "duration": 18,
        "start_time": "2023-10-08T06:16:28.466Z"
      },
      {
        "duration": 31,
        "start_time": "2023-10-08T06:16:28.488Z"
      },
      {
        "duration": 52,
        "start_time": "2023-10-08T06:16:28.521Z"
      },
      {
        "duration": 13,
        "start_time": "2023-10-08T06:16:28.575Z"
      },
      {
        "duration": 8,
        "start_time": "2023-10-08T06:20:54.712Z"
      },
      {
        "duration": 58,
        "start_time": "2023-10-08T08:31:23.245Z"
      },
      {
        "duration": 1311,
        "start_time": "2023-10-08T08:31:32.684Z"
      },
      {
        "duration": 144,
        "start_time": "2023-10-08T08:31:33.997Z"
      },
      {
        "duration": 13,
        "start_time": "2023-10-08T08:31:34.143Z"
      },
      {
        "duration": 83,
        "start_time": "2023-10-08T08:31:34.157Z"
      },
      {
        "duration": 109,
        "start_time": "2023-10-08T08:31:34.241Z"
      },
      {
        "duration": 17,
        "start_time": "2023-10-08T08:31:34.352Z"
      },
      {
        "duration": 123,
        "start_time": "2023-10-08T08:31:34.371Z"
      },
      {
        "duration": 9,
        "start_time": "2023-10-08T08:31:34.495Z"
      },
      {
        "duration": 33,
        "start_time": "2023-10-08T08:31:34.505Z"
      },
      {
        "duration": 13,
        "start_time": "2023-10-08T08:31:34.541Z"
      },
      {
        "duration": 1624,
        "start_time": "2023-10-08T08:31:34.555Z"
      },
      {
        "duration": 11,
        "start_time": "2023-10-08T08:31:36.180Z"
      },
      {
        "duration": 204,
        "start_time": "2023-10-08T08:31:36.192Z"
      },
      {
        "duration": 186,
        "start_time": "2023-10-08T08:31:36.398Z"
      },
      {
        "duration": 179,
        "start_time": "2023-10-08T08:31:36.586Z"
      },
      {
        "duration": 312,
        "start_time": "2023-10-08T08:31:36.766Z"
      },
      {
        "duration": 484,
        "start_time": "2023-10-08T08:31:37.079Z"
      },
      {
        "duration": 247,
        "start_time": "2023-10-08T08:31:37.565Z"
      },
      {
        "duration": 150,
        "start_time": "2023-10-08T08:31:37.813Z"
      },
      {
        "duration": 6,
        "start_time": "2023-10-08T08:31:37.964Z"
      },
      {
        "duration": 499,
        "start_time": "2023-10-08T08:31:37.972Z"
      },
      {
        "duration": 688,
        "start_time": "2023-10-08T08:31:38.473Z"
      },
      {
        "duration": 9,
        "start_time": "2023-10-08T08:31:39.162Z"
      },
      {
        "duration": 126,
        "start_time": "2023-10-08T08:31:39.173Z"
      },
      {
        "duration": 86,
        "start_time": "2023-10-08T08:31:39.301Z"
      },
      {
        "duration": 64,
        "start_time": "2023-10-08T08:31:39.388Z"
      },
      {
        "duration": 22,
        "start_time": "2023-10-08T08:31:39.454Z"
      },
      {
        "duration": 13,
        "start_time": "2023-10-08T08:31:39.480Z"
      },
      {
        "duration": 71,
        "start_time": "2023-10-08T08:31:39.494Z"
      },
      {
        "duration": 16,
        "start_time": "2023-10-08T08:31:39.567Z"
      },
      {
        "duration": 14,
        "start_time": "2023-10-08T08:32:03.402Z"
      },
      {
        "duration": 102,
        "start_time": "2023-10-08T08:32:39.482Z"
      },
      {
        "duration": 11,
        "start_time": "2023-10-08T08:32:42.530Z"
      },
      {
        "duration": 1030,
        "start_time": "2023-10-08T08:33:07.462Z"
      },
      {
        "duration": 94,
        "start_time": "2023-10-08T08:33:08.494Z"
      },
      {
        "duration": 11,
        "start_time": "2023-10-08T08:33:08.589Z"
      },
      {
        "duration": 13,
        "start_time": "2023-10-08T08:33:08.601Z"
      },
      {
        "duration": 49,
        "start_time": "2023-10-08T08:33:08.623Z"
      },
      {
        "duration": 10,
        "start_time": "2023-10-08T08:33:08.674Z"
      },
      {
        "duration": 30,
        "start_time": "2023-10-08T08:33:08.685Z"
      },
      {
        "duration": 11,
        "start_time": "2023-10-08T08:33:08.717Z"
      },
      {
        "duration": 7,
        "start_time": "2023-10-08T08:33:08.730Z"
      },
      {
        "duration": 6,
        "start_time": "2023-10-08T08:33:08.740Z"
      },
      {
        "duration": 1538,
        "start_time": "2023-10-08T08:33:08.747Z"
      },
      {
        "duration": 178,
        "start_time": "2023-10-08T08:33:10.287Z"
      },
      {
        "duration": 0,
        "start_time": "2023-10-08T08:33:10.468Z"
      },
      {
        "duration": 0,
        "start_time": "2023-10-08T08:33:10.469Z"
      },
      {
        "duration": 0,
        "start_time": "2023-10-08T08:33:10.470Z"
      },
      {
        "duration": 0,
        "start_time": "2023-10-08T08:33:10.471Z"
      },
      {
        "duration": 0,
        "start_time": "2023-10-08T08:33:10.472Z"
      },
      {
        "duration": 0,
        "start_time": "2023-10-08T08:33:10.473Z"
      },
      {
        "duration": 0,
        "start_time": "2023-10-08T08:33:10.474Z"
      },
      {
        "duration": 0,
        "start_time": "2023-10-08T08:33:10.475Z"
      },
      {
        "duration": 0,
        "start_time": "2023-10-08T08:33:10.476Z"
      },
      {
        "duration": 0,
        "start_time": "2023-10-08T08:33:10.477Z"
      },
      {
        "duration": 0,
        "start_time": "2023-10-08T08:33:10.478Z"
      },
      {
        "duration": 0,
        "start_time": "2023-10-08T08:33:10.479Z"
      },
      {
        "duration": 0,
        "start_time": "2023-10-08T08:33:10.480Z"
      },
      {
        "duration": 0,
        "start_time": "2023-10-08T08:33:10.481Z"
      },
      {
        "duration": 0,
        "start_time": "2023-10-08T08:33:10.482Z"
      },
      {
        "duration": 0,
        "start_time": "2023-10-08T08:33:10.483Z"
      },
      {
        "duration": 0,
        "start_time": "2023-10-08T08:33:10.484Z"
      },
      {
        "duration": 0,
        "start_time": "2023-10-08T08:33:10.485Z"
      },
      {
        "duration": 9,
        "start_time": "2023-10-08T08:33:28.980Z"
      },
      {
        "duration": 20,
        "start_time": "2023-10-08T08:48:01.427Z"
      },
      {
        "duration": 1186,
        "start_time": "2023-10-08T08:48:34.995Z"
      },
      {
        "duration": 100,
        "start_time": "2023-10-08T08:48:36.182Z"
      },
      {
        "duration": 13,
        "start_time": "2023-10-08T08:48:36.284Z"
      },
      {
        "duration": 47,
        "start_time": "2023-10-08T08:48:36.299Z"
      },
      {
        "duration": 91,
        "start_time": "2023-10-08T08:48:36.348Z"
      },
      {
        "duration": 17,
        "start_time": "2023-10-08T08:48:36.441Z"
      },
      {
        "duration": 66,
        "start_time": "2023-10-08T08:48:36.460Z"
      },
      {
        "duration": 24,
        "start_time": "2023-10-08T08:48:36.528Z"
      },
      {
        "duration": 86,
        "start_time": "2023-10-08T08:48:36.553Z"
      },
      {
        "duration": 54,
        "start_time": "2023-10-08T08:48:36.642Z"
      },
      {
        "duration": 2775,
        "start_time": "2023-10-08T08:48:36.698Z"
      },
      {
        "duration": 28,
        "start_time": "2023-10-08T08:48:39.525Z"
      },
      {
        "duration": 376,
        "start_time": "2023-10-08T08:48:39.554Z"
      },
      {
        "duration": 180,
        "start_time": "2023-10-08T08:48:39.935Z"
      },
      {
        "duration": 167,
        "start_time": "2023-10-08T08:48:40.123Z"
      },
      {
        "duration": 336,
        "start_time": "2023-10-08T08:48:40.292Z"
      },
      {
        "duration": 500,
        "start_time": "2023-10-08T08:48:40.632Z"
      },
      {
        "duration": 279,
        "start_time": "2023-10-08T08:48:41.134Z"
      },
      {
        "duration": 158,
        "start_time": "2023-10-08T08:48:41.415Z"
      },
      {
        "duration": 7,
        "start_time": "2023-10-08T08:48:41.574Z"
      },
      {
        "duration": 406,
        "start_time": "2023-10-08T08:48:41.583Z"
      },
      {
        "duration": 700,
        "start_time": "2023-10-08T08:48:41.991Z"
      },
      {
        "duration": 9,
        "start_time": "2023-10-08T08:48:42.693Z"
      },
      {
        "duration": 110,
        "start_time": "2023-10-08T08:48:42.704Z"
      },
      {
        "duration": 75,
        "start_time": "2023-10-08T08:48:42.816Z"
      },
      {
        "duration": 55,
        "start_time": "2023-10-08T08:48:42.893Z"
      },
      {
        "duration": 25,
        "start_time": "2023-10-08T08:48:42.951Z"
      },
      {
        "duration": 14,
        "start_time": "2023-10-08T08:48:42.977Z"
      },
      {
        "duration": 72,
        "start_time": "2023-10-08T08:48:42.992Z"
      },
      {
        "duration": 15,
        "start_time": "2023-10-08T08:48:43.066Z"
      },
      {
        "duration": 20,
        "start_time": "2023-10-08T08:58:08.074Z"
      },
      {
        "duration": 18,
        "start_time": "2023-10-08T08:58:21.037Z"
      },
      {
        "duration": 19,
        "start_time": "2023-10-08T08:58:31.660Z"
      },
      {
        "duration": 23,
        "start_time": "2023-10-08T08:58:38.919Z"
      },
      {
        "duration": 12,
        "start_time": "2023-10-08T08:58:44.007Z"
      },
      {
        "duration": 1246,
        "start_time": "2023-10-08T08:58:56.309Z"
      },
      {
        "duration": 178,
        "start_time": "2023-10-08T08:58:57.557Z"
      },
      {
        "duration": 12,
        "start_time": "2023-10-08T08:58:57.737Z"
      },
      {
        "duration": 17,
        "start_time": "2023-10-08T08:58:57.750Z"
      },
      {
        "duration": 63,
        "start_time": "2023-10-08T08:58:57.769Z"
      },
      {
        "duration": 11,
        "start_time": "2023-10-08T08:58:57.833Z"
      },
      {
        "duration": 24,
        "start_time": "2023-10-08T08:58:57.846Z"
      },
      {
        "duration": 58,
        "start_time": "2023-10-08T08:58:57.871Z"
      },
      {
        "duration": 26,
        "start_time": "2023-10-08T08:58:57.931Z"
      },
      {
        "duration": 6,
        "start_time": "2023-10-08T08:58:57.958Z"
      },
      {
        "duration": 1869,
        "start_time": "2023-10-08T08:58:57.966Z"
      },
      {
        "duration": 19,
        "start_time": "2023-10-08T08:58:59.836Z"
      },
      {
        "duration": 243,
        "start_time": "2023-10-08T08:58:59.857Z"
      },
      {
        "duration": 162,
        "start_time": "2023-10-08T08:59:00.104Z"
      },
      {
        "duration": 193,
        "start_time": "2023-10-08T08:59:00.268Z"
      },
      {
        "duration": 214,
        "start_time": "2023-10-08T08:59:00.463Z"
      },
      {
        "duration": 398,
        "start_time": "2023-10-08T08:59:00.679Z"
      },
      {
        "duration": 251,
        "start_time": "2023-10-08T08:59:01.079Z"
      },
      {
        "duration": 286,
        "start_time": "2023-10-08T08:59:01.332Z"
      },
      {
        "duration": 8,
        "start_time": "2023-10-08T08:59:01.619Z"
      },
      {
        "duration": 348,
        "start_time": "2023-10-08T08:59:01.629Z"
      },
      {
        "duration": 640,
        "start_time": "2023-10-08T08:59:01.979Z"
      },
      {
        "duration": 7,
        "start_time": "2023-10-08T08:59:02.624Z"
      },
      {
        "duration": 316,
        "start_time": "2023-10-08T08:59:02.632Z"
      },
      {
        "duration": 242,
        "start_time": "2023-10-08T08:59:02.950Z"
      },
      {
        "duration": 148,
        "start_time": "2023-10-08T08:59:03.194Z"
      },
      {
        "duration": 32,
        "start_time": "2023-10-08T08:59:03.344Z"
      },
      {
        "duration": 138,
        "start_time": "2023-10-08T08:59:03.378Z"
      },
      {
        "duration": 196,
        "start_time": "2023-10-08T08:59:03.518Z"
      },
      {
        "duration": 59,
        "start_time": "2023-10-08T08:59:03.716Z"
      },
      {
        "duration": 1093,
        "start_time": "2023-10-08T08:59:25.286Z"
      },
      {
        "duration": 94,
        "start_time": "2023-10-08T08:59:26.381Z"
      },
      {
        "duration": 12,
        "start_time": "2023-10-08T08:59:26.476Z"
      },
      {
        "duration": 54,
        "start_time": "2023-10-08T08:59:26.490Z"
      },
      {
        "duration": 68,
        "start_time": "2023-10-08T08:59:26.545Z"
      },
      {
        "duration": 24,
        "start_time": "2023-10-08T08:59:26.615Z"
      },
      {
        "duration": 64,
        "start_time": "2023-10-08T08:59:26.641Z"
      },
      {
        "duration": 88,
        "start_time": "2023-10-08T08:59:26.707Z"
      },
      {
        "duration": 55,
        "start_time": "2023-10-08T08:59:26.797Z"
      },
      {
        "duration": 80,
        "start_time": "2023-10-08T08:59:26.855Z"
      },
      {
        "duration": 2230,
        "start_time": "2023-10-08T08:59:26.937Z"
      },
      {
        "duration": 120,
        "start_time": "2023-10-08T08:59:29.169Z"
      },
      {
        "duration": 0,
        "start_time": "2023-10-08T08:59:29.291Z"
      },
      {
        "duration": 0,
        "start_time": "2023-10-08T08:59:29.293Z"
      },
      {
        "duration": 0,
        "start_time": "2023-10-08T08:59:29.294Z"
      },
      {
        "duration": 1,
        "start_time": "2023-10-08T08:59:29.295Z"
      },
      {
        "duration": 0,
        "start_time": "2023-10-08T08:59:29.297Z"
      },
      {
        "duration": 0,
        "start_time": "2023-10-08T08:59:29.298Z"
      },
      {
        "duration": 0,
        "start_time": "2023-10-08T08:59:29.300Z"
      },
      {
        "duration": 0,
        "start_time": "2023-10-08T08:59:29.301Z"
      },
      {
        "duration": 0,
        "start_time": "2023-10-08T08:59:29.303Z"
      },
      {
        "duration": 0,
        "start_time": "2023-10-08T08:59:29.324Z"
      },
      {
        "duration": 0,
        "start_time": "2023-10-08T08:59:29.326Z"
      },
      {
        "duration": 0,
        "start_time": "2023-10-08T08:59:29.327Z"
      },
      {
        "duration": 0,
        "start_time": "2023-10-08T08:59:29.329Z"
      },
      {
        "duration": 0,
        "start_time": "2023-10-08T08:59:29.330Z"
      },
      {
        "duration": 0,
        "start_time": "2023-10-08T08:59:29.332Z"
      },
      {
        "duration": 0,
        "start_time": "2023-10-08T08:59:29.333Z"
      },
      {
        "duration": 0,
        "start_time": "2023-10-08T08:59:29.335Z"
      },
      {
        "duration": 0,
        "start_time": "2023-10-08T08:59:29.337Z"
      },
      {
        "duration": 32,
        "start_time": "2023-10-08T08:59:36.865Z"
      },
      {
        "duration": 30,
        "start_time": "2023-10-08T08:59:59.270Z"
      },
      {
        "duration": 1172,
        "start_time": "2023-10-08T09:00:14.916Z"
      },
      {
        "duration": 127,
        "start_time": "2023-10-08T09:00:16.090Z"
      },
      {
        "duration": 19,
        "start_time": "2023-10-08T09:00:16.224Z"
      },
      {
        "duration": 74,
        "start_time": "2023-10-08T09:00:16.246Z"
      },
      {
        "duration": 184,
        "start_time": "2023-10-08T09:00:16.322Z"
      },
      {
        "duration": 132,
        "start_time": "2023-10-08T09:00:16.509Z"
      },
      {
        "duration": 198,
        "start_time": "2023-10-08T09:00:16.642Z"
      },
      {
        "duration": 92,
        "start_time": "2023-10-08T09:00:16.842Z"
      },
      {
        "duration": 31,
        "start_time": "2023-10-08T09:00:16.936Z"
      },
      {
        "duration": 65,
        "start_time": "2023-10-08T09:00:16.971Z"
      },
      {
        "duration": 2535,
        "start_time": "2023-10-08T09:00:17.038Z"
      },
      {
        "duration": 78,
        "start_time": "2023-10-08T09:00:19.576Z"
      },
      {
        "duration": 196,
        "start_time": "2023-10-08T09:00:19.656Z"
      },
      {
        "duration": 232,
        "start_time": "2023-10-08T09:00:19.853Z"
      },
      {
        "duration": 198,
        "start_time": "2023-10-08T09:00:20.087Z"
      },
      {
        "duration": 313,
        "start_time": "2023-10-08T09:00:20.287Z"
      },
      {
        "duration": 458,
        "start_time": "2023-10-08T09:00:20.601Z"
      },
      {
        "duration": 267,
        "start_time": "2023-10-08T09:00:21.062Z"
      },
      {
        "duration": 152,
        "start_time": "2023-10-08T09:00:21.331Z"
      },
      {
        "duration": 7,
        "start_time": "2023-10-08T09:00:21.485Z"
      },
      {
        "duration": 434,
        "start_time": "2023-10-08T09:00:21.495Z"
      },
      {
        "duration": 779,
        "start_time": "2023-10-08T09:00:21.931Z"
      },
      {
        "duration": 17,
        "start_time": "2023-10-08T09:00:22.713Z"
      },
      {
        "duration": 177,
        "start_time": "2023-10-08T09:00:22.732Z"
      },
      {
        "duration": 235,
        "start_time": "2023-10-08T09:00:22.912Z"
      },
      {
        "duration": 42,
        "start_time": "2023-10-08T09:00:23.149Z"
      },
      {
        "duration": 127,
        "start_time": "2023-10-08T09:00:23.193Z"
      },
      {
        "duration": 171,
        "start_time": "2023-10-08T09:00:23.324Z"
      },
      {
        "duration": 85,
        "start_time": "2023-10-08T09:00:23.498Z"
      },
      {
        "duration": 338,
        "start_time": "2023-10-08T09:00:23.585Z"
      },
      {
        "duration": 41,
        "start_time": "2023-10-08T09:02:05.002Z"
      },
      {
        "duration": 41,
        "start_time": "2023-10-08T09:02:10.808Z"
      },
      {
        "duration": 37,
        "start_time": "2023-10-08T09:02:18.208Z"
      },
      {
        "duration": 1192,
        "start_time": "2023-10-08T09:02:53.223Z"
      },
      {
        "duration": 97,
        "start_time": "2023-10-08T09:02:54.418Z"
      },
      {
        "duration": 24,
        "start_time": "2023-10-08T09:02:54.525Z"
      },
      {
        "duration": 101,
        "start_time": "2023-10-08T09:02:54.550Z"
      },
      {
        "duration": 90,
        "start_time": "2023-10-08T09:02:54.654Z"
      },
      {
        "duration": 16,
        "start_time": "2023-10-08T09:02:54.746Z"
      },
      {
        "duration": 107,
        "start_time": "2023-10-08T09:02:54.764Z"
      },
      {
        "duration": 87,
        "start_time": "2023-10-08T09:02:54.873Z"
      },
      {
        "duration": 93,
        "start_time": "2023-10-08T09:02:54.963Z"
      },
      {
        "duration": 124,
        "start_time": "2023-10-08T09:02:55.058Z"
      },
      {
        "duration": 2346,
        "start_time": "2023-10-08T09:02:55.184Z"
      },
      {
        "duration": 36,
        "start_time": "2023-10-08T09:02:57.532Z"
      },
      {
        "duration": 218,
        "start_time": "2023-10-08T09:02:57.569Z"
      },
      {
        "duration": 190,
        "start_time": "2023-10-08T09:02:57.790Z"
      },
      {
        "duration": 184,
        "start_time": "2023-10-08T09:02:57.982Z"
      },
      {
        "duration": 277,
        "start_time": "2023-10-08T09:02:58.167Z"
      },
      {
        "duration": 450,
        "start_time": "2023-10-08T09:02:58.446Z"
      },
      {
        "duration": 293,
        "start_time": "2023-10-08T09:02:58.898Z"
      },
      {
        "duration": 150,
        "start_time": "2023-10-08T09:02:59.193Z"
      },
      {
        "duration": 8,
        "start_time": "2023-10-08T09:02:59.345Z"
      },
      {
        "duration": 400,
        "start_time": "2023-10-08T09:02:59.355Z"
      },
      {
        "duration": 679,
        "start_time": "2023-10-08T09:02:59.757Z"
      },
      {
        "duration": 10,
        "start_time": "2023-10-08T09:03:00.438Z"
      },
      {
        "duration": 114,
        "start_time": "2023-10-08T09:03:00.450Z"
      },
      {
        "duration": 69,
        "start_time": "2023-10-08T09:03:00.566Z"
      },
      {
        "duration": 48,
        "start_time": "2023-10-08T09:03:00.640Z"
      },
      {
        "duration": 32,
        "start_time": "2023-10-08T09:03:00.690Z"
      },
      {
        "duration": 29,
        "start_time": "2023-10-08T09:03:00.725Z"
      },
      {
        "duration": 101,
        "start_time": "2023-10-08T09:03:00.756Z"
      },
      {
        "duration": 42,
        "start_time": "2023-10-08T09:03:00.859Z"
      },
      {
        "duration": 26,
        "start_time": "2023-10-08T09:05:25.758Z"
      },
      {
        "duration": 130,
        "start_time": "2023-10-08T09:06:08.543Z"
      },
      {
        "duration": 32,
        "start_time": "2023-10-08T09:06:23.088Z"
      },
      {
        "duration": 37,
        "start_time": "2023-10-08T09:08:15.081Z"
      },
      {
        "duration": 39,
        "start_time": "2023-10-08T09:10:05.003Z"
      },
      {
        "duration": 27,
        "start_time": "2023-10-08T09:10:18.468Z"
      },
      {
        "duration": 38,
        "start_time": "2023-10-08T09:10:34.636Z"
      },
      {
        "duration": 19,
        "start_time": "2023-10-08T09:10:55.682Z"
      },
      {
        "duration": 30,
        "start_time": "2023-10-08T09:11:05.023Z"
      },
      {
        "duration": 27,
        "start_time": "2023-10-08T09:11:38.786Z"
      },
      {
        "duration": 23,
        "start_time": "2023-10-08T09:11:51.017Z"
      },
      {
        "duration": 14,
        "start_time": "2023-10-08T09:12:00.789Z"
      },
      {
        "duration": 12,
        "start_time": "2023-10-08T09:12:27.154Z"
      },
      {
        "duration": 16,
        "start_time": "2023-10-08T09:12:44.005Z"
      },
      {
        "duration": 12,
        "start_time": "2023-10-08T09:13:05.858Z"
      },
      {
        "duration": 14,
        "start_time": "2023-10-08T09:13:10.857Z"
      },
      {
        "duration": 16,
        "start_time": "2023-10-08T09:13:31.007Z"
      },
      {
        "duration": 28,
        "start_time": "2023-10-08T09:14:56.018Z"
      },
      {
        "duration": 32,
        "start_time": "2023-10-08T09:15:02.265Z"
      },
      {
        "duration": 1189,
        "start_time": "2023-10-08T09:15:35.199Z"
      },
      {
        "duration": 97,
        "start_time": "2023-10-08T09:15:36.390Z"
      },
      {
        "duration": 15,
        "start_time": "2023-10-08T09:15:36.488Z"
      },
      {
        "duration": 137,
        "start_time": "2023-10-08T09:15:36.505Z"
      },
      {
        "duration": 152,
        "start_time": "2023-10-08T09:15:36.644Z"
      },
      {
        "duration": 54,
        "start_time": "2023-10-08T09:15:36.798Z"
      },
      {
        "duration": 76,
        "start_time": "2023-10-08T09:15:36.854Z"
      },
      {
        "duration": 61,
        "start_time": "2023-10-08T09:15:36.932Z"
      },
      {
        "duration": 73,
        "start_time": "2023-10-08T09:15:36.995Z"
      },
      {
        "duration": 21,
        "start_time": "2023-10-08T09:15:37.071Z"
      },
      {
        "duration": 2382,
        "start_time": "2023-10-08T09:15:37.094Z"
      },
      {
        "duration": 27,
        "start_time": "2023-10-08T09:15:39.478Z"
      },
      {
        "duration": 193,
        "start_time": "2023-10-08T09:15:39.524Z"
      },
      {
        "duration": 174,
        "start_time": "2023-10-08T09:15:39.719Z"
      },
      {
        "duration": 162,
        "start_time": "2023-10-08T09:15:39.894Z"
      },
      {
        "duration": 239,
        "start_time": "2023-10-08T09:15:40.058Z"
      },
      {
        "duration": 479,
        "start_time": "2023-10-08T09:15:40.299Z"
      },
      {
        "duration": 282,
        "start_time": "2023-10-08T09:15:40.780Z"
      },
      {
        "duration": 141,
        "start_time": "2023-10-08T09:15:41.063Z"
      },
      {
        "duration": 19,
        "start_time": "2023-10-08T09:15:41.206Z"
      },
      {
        "duration": 344,
        "start_time": "2023-10-08T09:15:41.227Z"
      },
      {
        "duration": 623,
        "start_time": "2023-10-08T09:15:41.573Z"
      },
      {
        "duration": 7,
        "start_time": "2023-10-08T09:15:42.198Z"
      },
      {
        "duration": 86,
        "start_time": "2023-10-08T09:15:42.207Z"
      },
      {
        "duration": 85,
        "start_time": "2023-10-08T09:15:42.295Z"
      },
      {
        "duration": 54,
        "start_time": "2023-10-08T09:15:42.382Z"
      },
      {
        "duration": 20,
        "start_time": "2023-10-08T09:15:42.438Z"
      },
      {
        "duration": 19,
        "start_time": "2023-10-08T09:15:42.462Z"
      },
      {
        "duration": 62,
        "start_time": "2023-10-08T09:15:42.482Z"
      },
      {
        "duration": 15,
        "start_time": "2023-10-08T09:15:42.546Z"
      },
      {
        "duration": 27,
        "start_time": "2023-10-08T09:16:51.457Z"
      },
      {
        "duration": 46,
        "start_time": "2023-10-08T09:17:10.270Z"
      },
      {
        "duration": 33,
        "start_time": "2023-10-08T09:17:36.084Z"
      },
      {
        "duration": 30,
        "start_time": "2023-10-08T09:17:50.813Z"
      },
      {
        "duration": 1082,
        "start_time": "2023-10-08T09:19:54.914Z"
      },
      {
        "duration": 91,
        "start_time": "2023-10-08T09:19:55.998Z"
      },
      {
        "duration": 12,
        "start_time": "2023-10-08T09:19:56.091Z"
      },
      {
        "duration": 20,
        "start_time": "2023-10-08T09:19:56.104Z"
      },
      {
        "duration": 55,
        "start_time": "2023-10-08T09:19:56.126Z"
      },
      {
        "duration": 11,
        "start_time": "2023-10-08T09:19:56.183Z"
      },
      {
        "duration": 39,
        "start_time": "2023-10-08T09:19:56.195Z"
      },
      {
        "duration": 10,
        "start_time": "2023-10-08T09:19:56.236Z"
      },
      {
        "duration": 35,
        "start_time": "2023-10-08T09:19:56.247Z"
      },
      {
        "duration": 25,
        "start_time": "2023-10-08T09:19:56.283Z"
      },
      {
        "duration": 1429,
        "start_time": "2023-10-08T09:19:56.310Z"
      },
      {
        "duration": 26,
        "start_time": "2023-10-08T09:19:57.741Z"
      },
      {
        "duration": 170,
        "start_time": "2023-10-08T09:19:57.769Z"
      },
      {
        "duration": 161,
        "start_time": "2023-10-08T09:19:57.942Z"
      },
      {
        "duration": 167,
        "start_time": "2023-10-08T09:19:58.105Z"
      },
      {
        "duration": 224,
        "start_time": "2023-10-08T09:19:58.273Z"
      },
      {
        "duration": 417,
        "start_time": "2023-10-08T09:19:58.499Z"
      },
      {
        "duration": 284,
        "start_time": "2023-10-08T09:19:58.917Z"
      },
      {
        "duration": 138,
        "start_time": "2023-10-08T09:19:59.203Z"
      },
      {
        "duration": 7,
        "start_time": "2023-10-08T09:19:59.342Z"
      },
      {
        "duration": 333,
        "start_time": "2023-10-08T09:19:59.351Z"
      },
      {
        "duration": 1264,
        "start_time": "2023-10-08T09:19:59.686Z"
      },
      {
        "duration": 10,
        "start_time": "2023-10-08T09:20:00.952Z"
      },
      {
        "duration": 288,
        "start_time": "2023-10-08T09:20:00.964Z"
      },
      {
        "duration": 209,
        "start_time": "2023-10-08T09:20:01.254Z"
      },
      {
        "duration": 194,
        "start_time": "2023-10-08T09:20:01.465Z"
      },
      {
        "duration": 51,
        "start_time": "2023-10-08T09:20:01.661Z"
      },
      {
        "duration": 81,
        "start_time": "2023-10-08T09:20:01.713Z"
      },
      {
        "duration": 322,
        "start_time": "2023-10-08T09:20:01.796Z"
      },
      {
        "duration": 115,
        "start_time": "2023-10-08T09:20:02.120Z"
      },
      {
        "duration": 157,
        "start_time": "2023-10-08T09:20:22.568Z"
      },
      {
        "duration": 12,
        "start_time": "2023-10-08T09:23:31.679Z"
      },
      {
        "duration": 33,
        "start_time": "2023-10-08T09:23:37.396Z"
      },
      {
        "duration": 13,
        "start_time": "2023-10-08T09:24:24.696Z"
      },
      {
        "duration": 43,
        "start_time": "2023-10-08T09:24:30.775Z"
      },
      {
        "duration": 808,
        "start_time": "2023-10-08T09:26:20.093Z"
      },
      {
        "duration": 29,
        "start_time": "2023-10-08T10:32:53.400Z"
      },
      {
        "duration": 18,
        "start_time": "2023-10-08T10:34:23.443Z"
      },
      {
        "duration": 42,
        "start_time": "2023-10-08T10:34:27.065Z"
      },
      {
        "duration": 15,
        "start_time": "2023-10-08T10:34:37.777Z"
      },
      {
        "duration": 14,
        "start_time": "2023-10-08T10:34:55.188Z"
      },
      {
        "duration": 19,
        "start_time": "2023-10-08T10:35:14.311Z"
      },
      {
        "duration": 15,
        "start_time": "2023-10-08T10:42:30.240Z"
      },
      {
        "duration": 34,
        "start_time": "2023-10-08T10:42:33.137Z"
      },
      {
        "duration": 118,
        "start_time": "2023-10-08T10:42:36.943Z"
      },
      {
        "duration": 16,
        "start_time": "2023-10-08T10:42:44.956Z"
      },
      {
        "duration": 33,
        "start_time": "2023-10-08T10:42:47.469Z"
      },
      {
        "duration": 23,
        "start_time": "2023-10-08T10:42:53.855Z"
      },
      {
        "duration": 15,
        "start_time": "2023-10-08T10:45:13.307Z"
      },
      {
        "duration": 1247,
        "start_time": "2023-10-08T10:45:20.631Z"
      },
      {
        "duration": 176,
        "start_time": "2023-10-08T10:45:21.880Z"
      },
      {
        "duration": 70,
        "start_time": "2023-10-08T10:45:22.058Z"
      },
      {
        "duration": 19,
        "start_time": "2023-10-08T10:45:22.131Z"
      },
      {
        "duration": 82,
        "start_time": "2023-10-08T10:45:22.152Z"
      },
      {
        "duration": 14,
        "start_time": "2023-10-08T10:45:22.236Z"
      },
      {
        "duration": 82,
        "start_time": "2023-10-08T10:45:22.252Z"
      },
      {
        "duration": 24,
        "start_time": "2023-10-08T10:45:22.337Z"
      },
      {
        "duration": 65,
        "start_time": "2023-10-08T10:45:22.364Z"
      },
      {
        "duration": 33,
        "start_time": "2023-10-08T10:45:22.433Z"
      },
      {
        "duration": 2729,
        "start_time": "2023-10-08T10:45:22.468Z"
      },
      {
        "duration": 46,
        "start_time": "2023-10-08T10:45:25.199Z"
      },
      {
        "duration": 189,
        "start_time": "2023-10-08T10:45:25.247Z"
      },
      {
        "duration": 180,
        "start_time": "2023-10-08T10:45:25.438Z"
      },
      {
        "duration": 260,
        "start_time": "2023-10-08T10:45:25.623Z"
      },
      {
        "duration": 344,
        "start_time": "2023-10-08T10:45:25.885Z"
      },
      {
        "duration": 507,
        "start_time": "2023-10-08T10:45:26.231Z"
      },
      {
        "duration": 292,
        "start_time": "2023-10-08T10:45:26.740Z"
      },
      {
        "duration": 157,
        "start_time": "2023-10-08T10:45:27.035Z"
      },
      {
        "duration": 50,
        "start_time": "2023-10-08T10:45:27.194Z"
      },
      {
        "duration": 517,
        "start_time": "2023-10-08T10:45:27.246Z"
      },
      {
        "duration": 703,
        "start_time": "2023-10-08T10:45:27.766Z"
      },
      {
        "duration": 8,
        "start_time": "2023-10-08T10:45:28.470Z"
      },
      {
        "duration": 212,
        "start_time": "2023-10-08T10:45:28.480Z"
      },
      {
        "duration": 270,
        "start_time": "2023-10-08T10:45:28.694Z"
      },
      {
        "duration": 205,
        "start_time": "2023-10-08T10:45:28.966Z"
      },
      {
        "duration": 258,
        "start_time": "2023-10-08T10:45:29.173Z"
      },
      {
        "duration": 77,
        "start_time": "2023-10-08T10:45:29.439Z"
      },
      {
        "duration": 134,
        "start_time": "2023-10-08T10:45:29.517Z"
      },
      {
        "duration": 18,
        "start_time": "2023-10-08T10:45:29.653Z"
      },
      {
        "duration": 1422,
        "start_time": "2023-10-08T14:59:52.661Z"
      },
      {
        "duration": 175,
        "start_time": "2023-10-08T14:59:54.085Z"
      },
      {
        "duration": 15,
        "start_time": "2023-10-08T14:59:54.262Z"
      },
      {
        "duration": 21,
        "start_time": "2023-10-08T14:59:54.279Z"
      },
      {
        "duration": 118,
        "start_time": "2023-10-08T14:59:54.302Z"
      },
      {
        "duration": 12,
        "start_time": "2023-10-08T14:59:54.422Z"
      },
      {
        "duration": 98,
        "start_time": "2023-10-08T14:59:54.436Z"
      },
      {
        "duration": 11,
        "start_time": "2023-10-08T14:59:54.536Z"
      },
      {
        "duration": 23,
        "start_time": "2023-10-08T14:59:54.549Z"
      },
      {
        "duration": 17,
        "start_time": "2023-10-08T14:59:54.575Z"
      },
      {
        "duration": 1622,
        "start_time": "2023-10-08T14:59:54.594Z"
      },
      {
        "duration": 51,
        "start_time": "2023-10-08T14:59:56.218Z"
      },
      {
        "duration": 170,
        "start_time": "2023-10-08T14:59:56.271Z"
      },
      {
        "duration": 196,
        "start_time": "2023-10-08T14:59:56.444Z"
      },
      {
        "duration": 199,
        "start_time": "2023-10-08T14:59:56.641Z"
      },
      {
        "duration": 307,
        "start_time": "2023-10-08T14:59:56.842Z"
      },
      {
        "duration": 430,
        "start_time": "2023-10-08T14:59:57.157Z"
      },
      {
        "duration": 270,
        "start_time": "2023-10-08T14:59:57.589Z"
      },
      {
        "duration": 175,
        "start_time": "2023-10-08T14:59:57.861Z"
      },
      {
        "duration": 19,
        "start_time": "2023-10-08T14:59:58.038Z"
      },
      {
        "duration": 414,
        "start_time": "2023-10-08T14:59:58.060Z"
      },
      {
        "duration": 814,
        "start_time": "2023-10-08T14:59:58.476Z"
      },
      {
        "duration": 8,
        "start_time": "2023-10-08T14:59:59.292Z"
      },
      {
        "duration": 225,
        "start_time": "2023-10-08T14:59:59.301Z"
      },
      {
        "duration": 91,
        "start_time": "2023-10-08T14:59:59.528Z"
      },
      {
        "duration": 48,
        "start_time": "2023-10-08T14:59:59.621Z"
      },
      {
        "duration": 24,
        "start_time": "2023-10-08T14:59:59.671Z"
      },
      {
        "duration": 109,
        "start_time": "2023-10-08T14:59:59.698Z"
      },
      {
        "duration": 42,
        "start_time": "2023-10-08T14:59:59.810Z"
      },
      {
        "duration": 18,
        "start_time": "2023-10-08T14:59:59.855Z"
      },
      {
        "duration": 12,
        "start_time": "2023-10-08T15:02:09.367Z"
      },
      {
        "duration": 6,
        "start_time": "2023-10-08T15:03:36.845Z"
      },
      {
        "duration": 13,
        "start_time": "2023-10-08T15:04:10.743Z"
      }
    ],
    "kernelspec": {
      "display_name": "Python 3 (ipykernel)",
      "language": "python",
      "name": "python3"
    },
    "language_info": {
      "codemirror_mode": {
        "name": "ipython",
        "version": 3
      },
      "file_extension": ".py",
      "mimetype": "text/x-python",
      "name": "python",
      "nbconvert_exporter": "python",
      "pygments_lexer": "ipython3",
      "version": "3.9.5"
    },
    "toc": {
      "base_numbering": 1,
      "nav_menu": {},
      "number_sections": true,
      "sideBar": true,
      "skip_h1_title": true,
      "title_cell": "Table of Contents",
      "title_sidebar": "Contents",
      "toc_cell": false,
      "toc_position": {
        "height": "calc(100% - 180px)",
        "left": "10px",
        "top": "150px",
        "width": "245px"
      },
      "toc_section_display": true,
      "toc_window_display": true
    },
    "colab": {
      "provenance": []
    }
  },
  "nbformat": 4,
  "nbformat_minor": 0
}