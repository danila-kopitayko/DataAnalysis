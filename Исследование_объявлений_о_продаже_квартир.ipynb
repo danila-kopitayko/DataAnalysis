{
  "cells": [
    {
      "cell_type": "markdown",
      "metadata": {
        "id": "Hs6c8Dh1bSZD"
      },
      "source": [
        "# Исследование объявлений о продаже квартир\n",
        "\n",
        "В вашем распоряжении данные сервиса Яндекс.Недвижимость — архив объявлений о продаже квартир в Санкт-Петербурге и соседних населённых пунктов за несколько лет. Нужно научиться определять рыночную стоимость объектов недвижимости. Ваша задача — установить параметры. Это позволит построить автоматизированную систему: она отследит аномалии и мошенническую деятельность.\n",
        "\n",
        "По каждой квартире на продажу доступны два вида данных. Первые вписаны пользователем, вторые — получены автоматически на основе картографических данных. Например, расстояние до центра, аэропорта, ближайшего парка и водоёма."
      ]
    },
    {
      "cell_type": "markdown",
      "metadata": {
        "id": "VwPAP9ZabSZE"
      },
      "source": [
        "### Откройте файл с данными и изучите общую информацию."
      ]
    },
    {
      "cell_type": "code",
      "execution_count": null,
      "metadata": {
        "scrolled": false,
        "id": "xkOxuqAdbSZE"
      },
      "outputs": [],
      "source": [
        "import pandas as pd\n",
        "import matplotlib.pyplot as plt"
      ]
    },
    {
      "cell_type": "code",
      "execution_count": null,
      "metadata": {
        "id": "G709mDYwbSZF"
      },
      "outputs": [],
      "source": [
        "try:\n",
        "    data = pd.read_csv('/datasets/real_estate_data.csv',sep=\"\\t\")\n",
        "except:\n",
        "    print('Не удалось открыть файл')"
      ]
    },
    {
      "cell_type": "code",
      "execution_count": null,
      "metadata": {
        "id": "sZ7z0tvYbSZG",
        "outputId": "748bb988-62b7-4210-8921-dc458f5cf326"
      },
      "outputs": [
        {
          "data": {
            "text/html": [
              "<div>\n",
              "<style scoped>\n",
              "    .dataframe tbody tr th:only-of-type {\n",
              "        vertical-align: middle;\n",
              "    }\n",
              "\n",
              "    .dataframe tbody tr th {\n",
              "        vertical-align: top;\n",
              "    }\n",
              "\n",
              "    .dataframe thead th {\n",
              "        text-align: right;\n",
              "    }\n",
              "</style>\n",
              "<table border=\"1\" class=\"dataframe\">\n",
              "  <thead>\n",
              "    <tr style=\"text-align: right;\">\n",
              "      <th></th>\n",
              "      <th>total_images</th>\n",
              "      <th>last_price</th>\n",
              "      <th>total_area</th>\n",
              "      <th>first_day_exposition</th>\n",
              "      <th>rooms</th>\n",
              "      <th>ceiling_height</th>\n",
              "      <th>floors_total</th>\n",
              "      <th>living_area</th>\n",
              "      <th>floor</th>\n",
              "      <th>is_apartment</th>\n",
              "      <th>...</th>\n",
              "      <th>kitchen_area</th>\n",
              "      <th>balcony</th>\n",
              "      <th>locality_name</th>\n",
              "      <th>airports_nearest</th>\n",
              "      <th>cityCenters_nearest</th>\n",
              "      <th>parks_around3000</th>\n",
              "      <th>parks_nearest</th>\n",
              "      <th>ponds_around3000</th>\n",
              "      <th>ponds_nearest</th>\n",
              "      <th>days_exposition</th>\n",
              "    </tr>\n",
              "  </thead>\n",
              "  <tbody>\n",
              "    <tr>\n",
              "      <th>0</th>\n",
              "      <td>20</td>\n",
              "      <td>13000000.0</td>\n",
              "      <td>108.00</td>\n",
              "      <td>2019-03-07T00:00:00</td>\n",
              "      <td>3</td>\n",
              "      <td>2.70</td>\n",
              "      <td>16.0</td>\n",
              "      <td>51.00</td>\n",
              "      <td>8</td>\n",
              "      <td>NaN</td>\n",
              "      <td>...</td>\n",
              "      <td>25.00</td>\n",
              "      <td>NaN</td>\n",
              "      <td>Санкт-Петербург</td>\n",
              "      <td>18863.0</td>\n",
              "      <td>16028.0</td>\n",
              "      <td>1.0</td>\n",
              "      <td>482.0</td>\n",
              "      <td>2.0</td>\n",
              "      <td>755.0</td>\n",
              "      <td>NaN</td>\n",
              "    </tr>\n",
              "    <tr>\n",
              "      <th>1</th>\n",
              "      <td>7</td>\n",
              "      <td>3350000.0</td>\n",
              "      <td>40.40</td>\n",
              "      <td>2018-12-04T00:00:00</td>\n",
              "      <td>1</td>\n",
              "      <td>NaN</td>\n",
              "      <td>11.0</td>\n",
              "      <td>18.60</td>\n",
              "      <td>1</td>\n",
              "      <td>NaN</td>\n",
              "      <td>...</td>\n",
              "      <td>11.00</td>\n",
              "      <td>2.0</td>\n",
              "      <td>посёлок Шушары</td>\n",
              "      <td>12817.0</td>\n",
              "      <td>18603.0</td>\n",
              "      <td>0.0</td>\n",
              "      <td>NaN</td>\n",
              "      <td>0.0</td>\n",
              "      <td>NaN</td>\n",
              "      <td>81.0</td>\n",
              "    </tr>\n",
              "    <tr>\n",
              "      <th>2</th>\n",
              "      <td>10</td>\n",
              "      <td>5196000.0</td>\n",
              "      <td>56.00</td>\n",
              "      <td>2015-08-20T00:00:00</td>\n",
              "      <td>2</td>\n",
              "      <td>NaN</td>\n",
              "      <td>5.0</td>\n",
              "      <td>34.30</td>\n",
              "      <td>4</td>\n",
              "      <td>NaN</td>\n",
              "      <td>...</td>\n",
              "      <td>8.30</td>\n",
              "      <td>0.0</td>\n",
              "      <td>Санкт-Петербург</td>\n",
              "      <td>21741.0</td>\n",
              "      <td>13933.0</td>\n",
              "      <td>1.0</td>\n",
              "      <td>90.0</td>\n",
              "      <td>2.0</td>\n",
              "      <td>574.0</td>\n",
              "      <td>558.0</td>\n",
              "    </tr>\n",
              "    <tr>\n",
              "      <th>3</th>\n",
              "      <td>0</td>\n",
              "      <td>64900000.0</td>\n",
              "      <td>159.00</td>\n",
              "      <td>2015-07-24T00:00:00</td>\n",
              "      <td>3</td>\n",
              "      <td>NaN</td>\n",
              "      <td>14.0</td>\n",
              "      <td>NaN</td>\n",
              "      <td>9</td>\n",
              "      <td>NaN</td>\n",
              "      <td>...</td>\n",
              "      <td>NaN</td>\n",
              "      <td>0.0</td>\n",
              "      <td>Санкт-Петербург</td>\n",
              "      <td>28098.0</td>\n",
              "      <td>6800.0</td>\n",
              "      <td>2.0</td>\n",
              "      <td>84.0</td>\n",
              "      <td>3.0</td>\n",
              "      <td>234.0</td>\n",
              "      <td>424.0</td>\n",
              "    </tr>\n",
              "    <tr>\n",
              "      <th>4</th>\n",
              "      <td>2</td>\n",
              "      <td>10000000.0</td>\n",
              "      <td>100.00</td>\n",
              "      <td>2018-06-19T00:00:00</td>\n",
              "      <td>2</td>\n",
              "      <td>3.03</td>\n",
              "      <td>14.0</td>\n",
              "      <td>32.00</td>\n",
              "      <td>13</td>\n",
              "      <td>NaN</td>\n",
              "      <td>...</td>\n",
              "      <td>41.00</td>\n",
              "      <td>NaN</td>\n",
              "      <td>Санкт-Петербург</td>\n",
              "      <td>31856.0</td>\n",
              "      <td>8098.0</td>\n",
              "      <td>2.0</td>\n",
              "      <td>112.0</td>\n",
              "      <td>1.0</td>\n",
              "      <td>48.0</td>\n",
              "      <td>121.0</td>\n",
              "    </tr>\n",
              "    <tr>\n",
              "      <th>5</th>\n",
              "      <td>10</td>\n",
              "      <td>2890000.0</td>\n",
              "      <td>30.40</td>\n",
              "      <td>2018-09-10T00:00:00</td>\n",
              "      <td>1</td>\n",
              "      <td>NaN</td>\n",
              "      <td>12.0</td>\n",
              "      <td>14.40</td>\n",
              "      <td>5</td>\n",
              "      <td>NaN</td>\n",
              "      <td>...</td>\n",
              "      <td>9.10</td>\n",
              "      <td>NaN</td>\n",
              "      <td>городской посёлок Янино-1</td>\n",
              "      <td>NaN</td>\n",
              "      <td>NaN</td>\n",
              "      <td>NaN</td>\n",
              "      <td>NaN</td>\n",
              "      <td>NaN</td>\n",
              "      <td>NaN</td>\n",
              "      <td>55.0</td>\n",
              "    </tr>\n",
              "    <tr>\n",
              "      <th>6</th>\n",
              "      <td>6</td>\n",
              "      <td>3700000.0</td>\n",
              "      <td>37.30</td>\n",
              "      <td>2017-11-02T00:00:00</td>\n",
              "      <td>1</td>\n",
              "      <td>NaN</td>\n",
              "      <td>26.0</td>\n",
              "      <td>10.60</td>\n",
              "      <td>6</td>\n",
              "      <td>NaN</td>\n",
              "      <td>...</td>\n",
              "      <td>14.40</td>\n",
              "      <td>1.0</td>\n",
              "      <td>посёлок Парголово</td>\n",
              "      <td>52996.0</td>\n",
              "      <td>19143.0</td>\n",
              "      <td>0.0</td>\n",
              "      <td>NaN</td>\n",
              "      <td>0.0</td>\n",
              "      <td>NaN</td>\n",
              "      <td>155.0</td>\n",
              "    </tr>\n",
              "    <tr>\n",
              "      <th>7</th>\n",
              "      <td>5</td>\n",
              "      <td>7915000.0</td>\n",
              "      <td>71.60</td>\n",
              "      <td>2019-04-18T00:00:00</td>\n",
              "      <td>2</td>\n",
              "      <td>NaN</td>\n",
              "      <td>24.0</td>\n",
              "      <td>NaN</td>\n",
              "      <td>22</td>\n",
              "      <td>NaN</td>\n",
              "      <td>...</td>\n",
              "      <td>18.90</td>\n",
              "      <td>2.0</td>\n",
              "      <td>Санкт-Петербург</td>\n",
              "      <td>23982.0</td>\n",
              "      <td>11634.0</td>\n",
              "      <td>0.0</td>\n",
              "      <td>NaN</td>\n",
              "      <td>0.0</td>\n",
              "      <td>NaN</td>\n",
              "      <td>NaN</td>\n",
              "    </tr>\n",
              "    <tr>\n",
              "      <th>8</th>\n",
              "      <td>20</td>\n",
              "      <td>2900000.0</td>\n",
              "      <td>33.16</td>\n",
              "      <td>2018-05-23T00:00:00</td>\n",
              "      <td>1</td>\n",
              "      <td>NaN</td>\n",
              "      <td>27.0</td>\n",
              "      <td>15.43</td>\n",
              "      <td>26</td>\n",
              "      <td>NaN</td>\n",
              "      <td>...</td>\n",
              "      <td>8.81</td>\n",
              "      <td>NaN</td>\n",
              "      <td>посёлок Мурино</td>\n",
              "      <td>NaN</td>\n",
              "      <td>NaN</td>\n",
              "      <td>NaN</td>\n",
              "      <td>NaN</td>\n",
              "      <td>NaN</td>\n",
              "      <td>NaN</td>\n",
              "      <td>189.0</td>\n",
              "    </tr>\n",
              "    <tr>\n",
              "      <th>9</th>\n",
              "      <td>18</td>\n",
              "      <td>5400000.0</td>\n",
              "      <td>61.00</td>\n",
              "      <td>2017-02-26T00:00:00</td>\n",
              "      <td>3</td>\n",
              "      <td>2.50</td>\n",
              "      <td>9.0</td>\n",
              "      <td>43.60</td>\n",
              "      <td>7</td>\n",
              "      <td>NaN</td>\n",
              "      <td>...</td>\n",
              "      <td>6.50</td>\n",
              "      <td>2.0</td>\n",
              "      <td>Санкт-Петербург</td>\n",
              "      <td>50898.0</td>\n",
              "      <td>15008.0</td>\n",
              "      <td>0.0</td>\n",
              "      <td>NaN</td>\n",
              "      <td>0.0</td>\n",
              "      <td>NaN</td>\n",
              "      <td>289.0</td>\n",
              "    </tr>\n",
              "    <tr>\n",
              "      <th>10</th>\n",
              "      <td>5</td>\n",
              "      <td>5050000.0</td>\n",
              "      <td>39.60</td>\n",
              "      <td>2017-11-16T00:00:00</td>\n",
              "      <td>1</td>\n",
              "      <td>2.67</td>\n",
              "      <td>12.0</td>\n",
              "      <td>20.30</td>\n",
              "      <td>3</td>\n",
              "      <td>NaN</td>\n",
              "      <td>...</td>\n",
              "      <td>8.50</td>\n",
              "      <td>NaN</td>\n",
              "      <td>Санкт-Петербург</td>\n",
              "      <td>38357.0</td>\n",
              "      <td>13878.0</td>\n",
              "      <td>1.0</td>\n",
              "      <td>310.0</td>\n",
              "      <td>2.0</td>\n",
              "      <td>553.0</td>\n",
              "      <td>137.0</td>\n",
              "    </tr>\n",
              "    <tr>\n",
              "      <th>11</th>\n",
              "      <td>9</td>\n",
              "      <td>3300000.0</td>\n",
              "      <td>44.00</td>\n",
              "      <td>2018-08-27T00:00:00</td>\n",
              "      <td>2</td>\n",
              "      <td>NaN</td>\n",
              "      <td>5.0</td>\n",
              "      <td>31.00</td>\n",
              "      <td>4</td>\n",
              "      <td>False</td>\n",
              "      <td>...</td>\n",
              "      <td>6.00</td>\n",
              "      <td>1.0</td>\n",
              "      <td>Ломоносов</td>\n",
              "      <td>48252.0</td>\n",
              "      <td>51677.0</td>\n",
              "      <td>0.0</td>\n",
              "      <td>NaN</td>\n",
              "      <td>0.0</td>\n",
              "      <td>NaN</td>\n",
              "      <td>7.0</td>\n",
              "    </tr>\n",
              "    <tr>\n",
              "      <th>12</th>\n",
              "      <td>10</td>\n",
              "      <td>3890000.0</td>\n",
              "      <td>54.00</td>\n",
              "      <td>2016-06-30T00:00:00</td>\n",
              "      <td>2</td>\n",
              "      <td>NaN</td>\n",
              "      <td>5.0</td>\n",
              "      <td>30.00</td>\n",
              "      <td>5</td>\n",
              "      <td>NaN</td>\n",
              "      <td>...</td>\n",
              "      <td>9.00</td>\n",
              "      <td>0.0</td>\n",
              "      <td>Сертолово</td>\n",
              "      <td>NaN</td>\n",
              "      <td>NaN</td>\n",
              "      <td>NaN</td>\n",
              "      <td>NaN</td>\n",
              "      <td>NaN</td>\n",
              "      <td>NaN</td>\n",
              "      <td>90.0</td>\n",
              "    </tr>\n",
              "    <tr>\n",
              "      <th>13</th>\n",
              "      <td>20</td>\n",
              "      <td>3550000.0</td>\n",
              "      <td>42.80</td>\n",
              "      <td>2017-07-01T00:00:00</td>\n",
              "      <td>2</td>\n",
              "      <td>2.56</td>\n",
              "      <td>5.0</td>\n",
              "      <td>27.00</td>\n",
              "      <td>5</td>\n",
              "      <td>NaN</td>\n",
              "      <td>...</td>\n",
              "      <td>5.20</td>\n",
              "      <td>1.0</td>\n",
              "      <td>Петергоф</td>\n",
              "      <td>37868.0</td>\n",
              "      <td>33058.0</td>\n",
              "      <td>1.0</td>\n",
              "      <td>294.0</td>\n",
              "      <td>3.0</td>\n",
              "      <td>298.0</td>\n",
              "      <td>366.0</td>\n",
              "    </tr>\n",
              "    <tr>\n",
              "      <th>14</th>\n",
              "      <td>1</td>\n",
              "      <td>4400000.0</td>\n",
              "      <td>36.00</td>\n",
              "      <td>2016-06-23T00:00:00</td>\n",
              "      <td>1</td>\n",
              "      <td>NaN</td>\n",
              "      <td>6.0</td>\n",
              "      <td>17.00</td>\n",
              "      <td>1</td>\n",
              "      <td>NaN</td>\n",
              "      <td>...</td>\n",
              "      <td>8.00</td>\n",
              "      <td>0.0</td>\n",
              "      <td>Пушкин</td>\n",
              "      <td>20782.0</td>\n",
              "      <td>30759.0</td>\n",
              "      <td>0.0</td>\n",
              "      <td>NaN</td>\n",
              "      <td>1.0</td>\n",
              "      <td>96.0</td>\n",
              "      <td>203.0</td>\n",
              "    </tr>\n",
              "    <tr>\n",
              "      <th>15</th>\n",
              "      <td>16</td>\n",
              "      <td>4650000.0</td>\n",
              "      <td>39.00</td>\n",
              "      <td>2017-11-18T00:00:00</td>\n",
              "      <td>1</td>\n",
              "      <td>NaN</td>\n",
              "      <td>14.0</td>\n",
              "      <td>20.50</td>\n",
              "      <td>5</td>\n",
              "      <td>NaN</td>\n",
              "      <td>...</td>\n",
              "      <td>7.60</td>\n",
              "      <td>1.0</td>\n",
              "      <td>Санкт-Петербург</td>\n",
              "      <td>12900.0</td>\n",
              "      <td>14259.0</td>\n",
              "      <td>1.0</td>\n",
              "      <td>590.0</td>\n",
              "      <td>1.0</td>\n",
              "      <td>296.0</td>\n",
              "      <td>19.0</td>\n",
              "    </tr>\n",
              "    <tr>\n",
              "      <th>16</th>\n",
              "      <td>11</td>\n",
              "      <td>6700000.0</td>\n",
              "      <td>82.00</td>\n",
              "      <td>2017-11-23T00:00:00</td>\n",
              "      <td>3</td>\n",
              "      <td>3.05</td>\n",
              "      <td>5.0</td>\n",
              "      <td>55.60</td>\n",
              "      <td>1</td>\n",
              "      <td>NaN</td>\n",
              "      <td>...</td>\n",
              "      <td>9.00</td>\n",
              "      <td>NaN</td>\n",
              "      <td>Санкт-Петербург</td>\n",
              "      <td>22108.0</td>\n",
              "      <td>10698.0</td>\n",
              "      <td>3.0</td>\n",
              "      <td>420.0</td>\n",
              "      <td>0.0</td>\n",
              "      <td>NaN</td>\n",
              "      <td>397.0</td>\n",
              "    </tr>\n",
              "    <tr>\n",
              "      <th>17</th>\n",
              "      <td>6</td>\n",
              "      <td>4180000.0</td>\n",
              "      <td>36.00</td>\n",
              "      <td>2016-09-09T00:00:00</td>\n",
              "      <td>1</td>\n",
              "      <td>NaN</td>\n",
              "      <td>17.0</td>\n",
              "      <td>16.50</td>\n",
              "      <td>7</td>\n",
              "      <td>NaN</td>\n",
              "      <td>...</td>\n",
              "      <td>11.00</td>\n",
              "      <td>1.0</td>\n",
              "      <td>Санкт-Петербург</td>\n",
              "      <td>33564.0</td>\n",
              "      <td>14616.0</td>\n",
              "      <td>0.0</td>\n",
              "      <td>NaN</td>\n",
              "      <td>1.0</td>\n",
              "      <td>859.0</td>\n",
              "      <td>571.0</td>\n",
              "    </tr>\n",
              "    <tr>\n",
              "      <th>18</th>\n",
              "      <td>8</td>\n",
              "      <td>3250000.0</td>\n",
              "      <td>31.00</td>\n",
              "      <td>2017-01-27T00:00:00</td>\n",
              "      <td>1</td>\n",
              "      <td>2.50</td>\n",
              "      <td>5.0</td>\n",
              "      <td>19.40</td>\n",
              "      <td>2</td>\n",
              "      <td>NaN</td>\n",
              "      <td>...</td>\n",
              "      <td>5.60</td>\n",
              "      <td>1.0</td>\n",
              "      <td>Санкт-Петербург</td>\n",
              "      <td>44060.0</td>\n",
              "      <td>10842.0</td>\n",
              "      <td>1.0</td>\n",
              "      <td>759.0</td>\n",
              "      <td>0.0</td>\n",
              "      <td>NaN</td>\n",
              "      <td>168.0</td>\n",
              "    </tr>\n",
              "    <tr>\n",
              "      <th>19</th>\n",
              "      <td>16</td>\n",
              "      <td>14200000.0</td>\n",
              "      <td>121.00</td>\n",
              "      <td>2019-01-09T00:00:00</td>\n",
              "      <td>3</td>\n",
              "      <td>2.75</td>\n",
              "      <td>16.0</td>\n",
              "      <td>76.00</td>\n",
              "      <td>8</td>\n",
              "      <td>NaN</td>\n",
              "      <td>...</td>\n",
              "      <td>12.00</td>\n",
              "      <td>NaN</td>\n",
              "      <td>Санкт-Петербург</td>\n",
              "      <td>38900.0</td>\n",
              "      <td>12843.0</td>\n",
              "      <td>0.0</td>\n",
              "      <td>NaN</td>\n",
              "      <td>0.0</td>\n",
              "      <td>NaN</td>\n",
              "      <td>97.0</td>\n",
              "    </tr>\n",
              "  </tbody>\n",
              "</table>\n",
              "<p>20 rows × 22 columns</p>\n",
              "</div>"
            ],
            "text/plain": [
              "    total_images  last_price  total_area first_day_exposition  rooms  \\\n",
              "0             20  13000000.0      108.00  2019-03-07T00:00:00      3   \n",
              "1              7   3350000.0       40.40  2018-12-04T00:00:00      1   \n",
              "2             10   5196000.0       56.00  2015-08-20T00:00:00      2   \n",
              "3              0  64900000.0      159.00  2015-07-24T00:00:00      3   \n",
              "4              2  10000000.0      100.00  2018-06-19T00:00:00      2   \n",
              "5             10   2890000.0       30.40  2018-09-10T00:00:00      1   \n",
              "6              6   3700000.0       37.30  2017-11-02T00:00:00      1   \n",
              "7              5   7915000.0       71.60  2019-04-18T00:00:00      2   \n",
              "8             20   2900000.0       33.16  2018-05-23T00:00:00      1   \n",
              "9             18   5400000.0       61.00  2017-02-26T00:00:00      3   \n",
              "10             5   5050000.0       39.60  2017-11-16T00:00:00      1   \n",
              "11             9   3300000.0       44.00  2018-08-27T00:00:00      2   \n",
              "12            10   3890000.0       54.00  2016-06-30T00:00:00      2   \n",
              "13            20   3550000.0       42.80  2017-07-01T00:00:00      2   \n",
              "14             1   4400000.0       36.00  2016-06-23T00:00:00      1   \n",
              "15            16   4650000.0       39.00  2017-11-18T00:00:00      1   \n",
              "16            11   6700000.0       82.00  2017-11-23T00:00:00      3   \n",
              "17             6   4180000.0       36.00  2016-09-09T00:00:00      1   \n",
              "18             8   3250000.0       31.00  2017-01-27T00:00:00      1   \n",
              "19            16  14200000.0      121.00  2019-01-09T00:00:00      3   \n",
              "\n",
              "    ceiling_height  floors_total  living_area  floor is_apartment  ...  \\\n",
              "0             2.70          16.0        51.00      8          NaN  ...   \n",
              "1              NaN          11.0        18.60      1          NaN  ...   \n",
              "2              NaN           5.0        34.30      4          NaN  ...   \n",
              "3              NaN          14.0          NaN      9          NaN  ...   \n",
              "4             3.03          14.0        32.00     13          NaN  ...   \n",
              "5              NaN          12.0        14.40      5          NaN  ...   \n",
              "6              NaN          26.0        10.60      6          NaN  ...   \n",
              "7              NaN          24.0          NaN     22          NaN  ...   \n",
              "8              NaN          27.0        15.43     26          NaN  ...   \n",
              "9             2.50           9.0        43.60      7          NaN  ...   \n",
              "10            2.67          12.0        20.30      3          NaN  ...   \n",
              "11             NaN           5.0        31.00      4        False  ...   \n",
              "12             NaN           5.0        30.00      5          NaN  ...   \n",
              "13            2.56           5.0        27.00      5          NaN  ...   \n",
              "14             NaN           6.0        17.00      1          NaN  ...   \n",
              "15             NaN          14.0        20.50      5          NaN  ...   \n",
              "16            3.05           5.0        55.60      1          NaN  ...   \n",
              "17             NaN          17.0        16.50      7          NaN  ...   \n",
              "18            2.50           5.0        19.40      2          NaN  ...   \n",
              "19            2.75          16.0        76.00      8          NaN  ...   \n",
              "\n",
              "    kitchen_area  balcony              locality_name  airports_nearest  \\\n",
              "0          25.00      NaN            Санкт-Петербург           18863.0   \n",
              "1          11.00      2.0             посёлок Шушары           12817.0   \n",
              "2           8.30      0.0            Санкт-Петербург           21741.0   \n",
              "3            NaN      0.0            Санкт-Петербург           28098.0   \n",
              "4          41.00      NaN            Санкт-Петербург           31856.0   \n",
              "5           9.10      NaN  городской посёлок Янино-1               NaN   \n",
              "6          14.40      1.0          посёлок Парголово           52996.0   \n",
              "7          18.90      2.0            Санкт-Петербург           23982.0   \n",
              "8           8.81      NaN             посёлок Мурино               NaN   \n",
              "9           6.50      2.0            Санкт-Петербург           50898.0   \n",
              "10          8.50      NaN            Санкт-Петербург           38357.0   \n",
              "11          6.00      1.0                  Ломоносов           48252.0   \n",
              "12          9.00      0.0                  Сертолово               NaN   \n",
              "13          5.20      1.0                   Петергоф           37868.0   \n",
              "14          8.00      0.0                     Пушкин           20782.0   \n",
              "15          7.60      1.0            Санкт-Петербург           12900.0   \n",
              "16          9.00      NaN            Санкт-Петербург           22108.0   \n",
              "17         11.00      1.0            Санкт-Петербург           33564.0   \n",
              "18          5.60      1.0            Санкт-Петербург           44060.0   \n",
              "19         12.00      NaN            Санкт-Петербург           38900.0   \n",
              "\n",
              "   cityCenters_nearest  parks_around3000  parks_nearest  ponds_around3000  \\\n",
              "0              16028.0               1.0          482.0               2.0   \n",
              "1              18603.0               0.0            NaN               0.0   \n",
              "2              13933.0               1.0           90.0               2.0   \n",
              "3               6800.0               2.0           84.0               3.0   \n",
              "4               8098.0               2.0          112.0               1.0   \n",
              "5                  NaN               NaN            NaN               NaN   \n",
              "6              19143.0               0.0            NaN               0.0   \n",
              "7              11634.0               0.0            NaN               0.0   \n",
              "8                  NaN               NaN            NaN               NaN   \n",
              "9              15008.0               0.0            NaN               0.0   \n",
              "10             13878.0               1.0          310.0               2.0   \n",
              "11             51677.0               0.0            NaN               0.0   \n",
              "12                 NaN               NaN            NaN               NaN   \n",
              "13             33058.0               1.0          294.0               3.0   \n",
              "14             30759.0               0.0            NaN               1.0   \n",
              "15             14259.0               1.0          590.0               1.0   \n",
              "16             10698.0               3.0          420.0               0.0   \n",
              "17             14616.0               0.0            NaN               1.0   \n",
              "18             10842.0               1.0          759.0               0.0   \n",
              "19             12843.0               0.0            NaN               0.0   \n",
              "\n",
              "    ponds_nearest  days_exposition  \n",
              "0           755.0              NaN  \n",
              "1             NaN             81.0  \n",
              "2           574.0            558.0  \n",
              "3           234.0            424.0  \n",
              "4            48.0            121.0  \n",
              "5             NaN             55.0  \n",
              "6             NaN            155.0  \n",
              "7             NaN              NaN  \n",
              "8             NaN            189.0  \n",
              "9             NaN            289.0  \n",
              "10          553.0            137.0  \n",
              "11            NaN              7.0  \n",
              "12            NaN             90.0  \n",
              "13          298.0            366.0  \n",
              "14           96.0            203.0  \n",
              "15          296.0             19.0  \n",
              "16            NaN            397.0  \n",
              "17          859.0            571.0  \n",
              "18            NaN            168.0  \n",
              "19            NaN             97.0  \n",
              "\n",
              "[20 rows x 22 columns]"
            ]
          },
          "execution_count": 3,
          "metadata": {},
          "output_type": "execute_result"
        }
      ],
      "source": [
        "data.head(20)"
      ]
    },
    {
      "cell_type": "code",
      "execution_count": null,
      "metadata": {
        "id": "-cN5XA5SbSZG",
        "outputId": "13f12feb-29b1-4d81-c949-f33258ce94bc"
      },
      "outputs": [
        {
          "name": "stdout",
          "output_type": "stream",
          "text": [
            "<class 'pandas.core.frame.DataFrame'>\n",
            "RangeIndex: 23699 entries, 0 to 23698\n",
            "Data columns (total 22 columns):\n",
            " #   Column                Non-Null Count  Dtype  \n",
            "---  ------                --------------  -----  \n",
            " 0   total_images          23699 non-null  int64  \n",
            " 1   last_price            23699 non-null  float64\n",
            " 2   total_area            23699 non-null  float64\n",
            " 3   first_day_exposition  23699 non-null  object \n",
            " 4   rooms                 23699 non-null  int64  \n",
            " 5   ceiling_height        14504 non-null  float64\n",
            " 6   floors_total          23613 non-null  float64\n",
            " 7   living_area           21796 non-null  float64\n",
            " 8   floor                 23699 non-null  int64  \n",
            " 9   is_apartment          2775 non-null   object \n",
            " 10  studio                23699 non-null  bool   \n",
            " 11  open_plan             23699 non-null  bool   \n",
            " 12  kitchen_area          21421 non-null  float64\n",
            " 13  balcony               12180 non-null  float64\n",
            " 14  locality_name         23650 non-null  object \n",
            " 15  airports_nearest      18157 non-null  float64\n",
            " 16  cityCenters_nearest   18180 non-null  float64\n",
            " 17  parks_around3000      18181 non-null  float64\n",
            " 18  parks_nearest         8079 non-null   float64\n",
            " 19  ponds_around3000      18181 non-null  float64\n",
            " 20  ponds_nearest         9110 non-null   float64\n",
            " 21  days_exposition       20518 non-null  float64\n",
            "dtypes: bool(2), float64(14), int64(3), object(3)\n",
            "memory usage: 3.7+ MB\n"
          ]
        }
      ],
      "source": [
        "data.info()"
      ]
    },
    {
      "cell_type": "code",
      "execution_count": null,
      "metadata": {
        "id": "noTNtrXobSZH",
        "outputId": "751faa7f-1053-4204-984c-810cd882ee95"
      },
      "outputs": [
        {
          "data": {
            "text/plain": [
              "array([[<AxesSubplot:title={'center':'total_images'}>,\n",
              "        <AxesSubplot:title={'center':'last_price'}>,\n",
              "        <AxesSubplot:title={'center':'total_area'}>,\n",
              "        <AxesSubplot:title={'center':'rooms'}>],\n",
              "       [<AxesSubplot:title={'center':'ceiling_height'}>,\n",
              "        <AxesSubplot:title={'center':'floors_total'}>,\n",
              "        <AxesSubplot:title={'center':'living_area'}>,\n",
              "        <AxesSubplot:title={'center':'floor'}>],\n",
              "       [<AxesSubplot:title={'center':'kitchen_area'}>,\n",
              "        <AxesSubplot:title={'center':'balcony'}>,\n",
              "        <AxesSubplot:title={'center':'airports_nearest'}>,\n",
              "        <AxesSubplot:title={'center':'cityCenters_nearest'}>],\n",
              "       [<AxesSubplot:title={'center':'parks_around3000'}>,\n",
              "        <AxesSubplot:title={'center':'parks_nearest'}>,\n",
              "        <AxesSubplot:title={'center':'ponds_around3000'}>,\n",
              "        <AxesSubplot:title={'center':'ponds_nearest'}>],\n",
              "       [<AxesSubplot:title={'center':'days_exposition'}>, <AxesSubplot:>,\n",
              "        <AxesSubplot:>, <AxesSubplot:>]], dtype=object)"
            ]
          },
          "execution_count": 5,
          "metadata": {},
          "output_type": "execute_result"
        },
        {
          "data": {
            "image/png": "[encoded data removed]",
            "text/plain": [
              "<Figure size 1080x1440 with 20 Axes>"
            ]
          },
          "metadata": {
            "needs_background": "light"
          },
          "output_type": "display_data"
        }
      ],
      "source": [
        "data.hist(figsize=(15,20))"
      ]
    },
    {
      "cell_type": "code",
      "execution_count": null,
      "metadata": {
        "scrolled": false,
        "id": "_tSYcEd-bSZH",
        "outputId": "9ebccba1-1938-4607-c862-0317ef95e8ad"
      },
      "outputs": [
        {
          "data": {
            "text/html": [
              "<div>\n",
              "<style scoped>\n",
              "    .dataframe tbody tr th:only-of-type {\n",
              "        vertical-align: middle;\n",
              "    }\n",
              "\n",
              "    .dataframe tbody tr th {\n",
              "        vertical-align: top;\n",
              "    }\n",
              "\n",
              "    .dataframe thead th {\n",
              "        text-align: right;\n",
              "    }\n",
              "</style>\n",
              "<table border=\"1\" class=\"dataframe\">\n",
              "  <thead>\n",
              "    <tr style=\"text-align: right;\">\n",
              "      <th></th>\n",
              "      <th>total_images</th>\n",
              "      <th>last_price</th>\n",
              "      <th>total_area</th>\n",
              "      <th>rooms</th>\n",
              "      <th>ceiling_height</th>\n",
              "      <th>floors_total</th>\n",
              "      <th>living_area</th>\n",
              "      <th>floor</th>\n",
              "      <th>kitchen_area</th>\n",
              "      <th>balcony</th>\n",
              "      <th>airports_nearest</th>\n",
              "      <th>cityCenters_nearest</th>\n",
              "      <th>parks_around3000</th>\n",
              "      <th>parks_nearest</th>\n",
              "      <th>ponds_around3000</th>\n",
              "      <th>ponds_nearest</th>\n",
              "      <th>days_exposition</th>\n",
              "    </tr>\n",
              "  </thead>\n",
              "  <tbody>\n",
              "    <tr>\n",
              "      <th>count</th>\n",
              "      <td>23699.000000</td>\n",
              "      <td>2.369900e+04</td>\n",
              "      <td>23699.000000</td>\n",
              "      <td>23699.000000</td>\n",
              "      <td>14504.000000</td>\n",
              "      <td>23613.000000</td>\n",
              "      <td>21796.000000</td>\n",
              "      <td>23699.000000</td>\n",
              "      <td>21421.000000</td>\n",
              "      <td>12180.000000</td>\n",
              "      <td>18157.000000</td>\n",
              "      <td>18180.000000</td>\n",
              "      <td>18181.000000</td>\n",
              "      <td>8079.000000</td>\n",
              "      <td>18181.000000</td>\n",
              "      <td>9110.000000</td>\n",
              "      <td>20518.000000</td>\n",
              "    </tr>\n",
              "    <tr>\n",
              "      <th>mean</th>\n",
              "      <td>9.858475</td>\n",
              "      <td>6.541549e+06</td>\n",
              "      <td>60.348651</td>\n",
              "      <td>2.070636</td>\n",
              "      <td>2.771499</td>\n",
              "      <td>10.673824</td>\n",
              "      <td>34.457852</td>\n",
              "      <td>5.892358</td>\n",
              "      <td>10.569807</td>\n",
              "      <td>1.150082</td>\n",
              "      <td>28793.672193</td>\n",
              "      <td>14191.277833</td>\n",
              "      <td>0.611408</td>\n",
              "      <td>490.804555</td>\n",
              "      <td>0.770255</td>\n",
              "      <td>517.980900</td>\n",
              "      <td>180.888634</td>\n",
              "    </tr>\n",
              "    <tr>\n",
              "      <th>std</th>\n",
              "      <td>5.682529</td>\n",
              "      <td>1.088701e+07</td>\n",
              "      <td>35.654083</td>\n",
              "      <td>1.078405</td>\n",
              "      <td>1.261056</td>\n",
              "      <td>6.597173</td>\n",
              "      <td>22.030445</td>\n",
              "      <td>4.885249</td>\n",
              "      <td>5.905438</td>\n",
              "      <td>1.071300</td>\n",
              "      <td>12630.880622</td>\n",
              "      <td>8608.386210</td>\n",
              "      <td>0.802074</td>\n",
              "      <td>342.317995</td>\n",
              "      <td>0.938346</td>\n",
              "      <td>277.720643</td>\n",
              "      <td>219.727988</td>\n",
              "    </tr>\n",
              "    <tr>\n",
              "      <th>min</th>\n",
              "      <td>0.000000</td>\n",
              "      <td>1.219000e+04</td>\n",
              "      <td>12.000000</td>\n",
              "      <td>0.000000</td>\n",
              "      <td>1.000000</td>\n",
              "      <td>1.000000</td>\n",
              "      <td>2.000000</td>\n",
              "      <td>1.000000</td>\n",
              "      <td>1.300000</td>\n",
              "      <td>0.000000</td>\n",
              "      <td>0.000000</td>\n",
              "      <td>181.000000</td>\n",
              "      <td>0.000000</td>\n",
              "      <td>1.000000</td>\n",
              "      <td>0.000000</td>\n",
              "      <td>13.000000</td>\n",
              "      <td>1.000000</td>\n",
              "    </tr>\n",
              "    <tr>\n",
              "      <th>25%</th>\n",
              "      <td>6.000000</td>\n",
              "      <td>3.400000e+06</td>\n",
              "      <td>40.000000</td>\n",
              "      <td>1.000000</td>\n",
              "      <td>2.520000</td>\n",
              "      <td>5.000000</td>\n",
              "      <td>18.600000</td>\n",
              "      <td>2.000000</td>\n",
              "      <td>7.000000</td>\n",
              "      <td>0.000000</td>\n",
              "      <td>18585.000000</td>\n",
              "      <td>9238.000000</td>\n",
              "      <td>0.000000</td>\n",
              "      <td>288.000000</td>\n",
              "      <td>0.000000</td>\n",
              "      <td>294.000000</td>\n",
              "      <td>45.000000</td>\n",
              "    </tr>\n",
              "    <tr>\n",
              "      <th>50%</th>\n",
              "      <td>9.000000</td>\n",
              "      <td>4.650000e+06</td>\n",
              "      <td>52.000000</td>\n",
              "      <td>2.000000</td>\n",
              "      <td>2.650000</td>\n",
              "      <td>9.000000</td>\n",
              "      <td>30.000000</td>\n",
              "      <td>4.000000</td>\n",
              "      <td>9.100000</td>\n",
              "      <td>1.000000</td>\n",
              "      <td>26726.000000</td>\n",
              "      <td>13098.500000</td>\n",
              "      <td>0.000000</td>\n",
              "      <td>455.000000</td>\n",
              "      <td>1.000000</td>\n",
              "      <td>502.000000</td>\n",
              "      <td>95.000000</td>\n",
              "    </tr>\n",
              "    <tr>\n",
              "      <th>75%</th>\n",
              "      <td>14.000000</td>\n",
              "      <td>6.800000e+06</td>\n",
              "      <td>69.900000</td>\n",
              "      <td>3.000000</td>\n",
              "      <td>2.800000</td>\n",
              "      <td>16.000000</td>\n",
              "      <td>42.300000</td>\n",
              "      <td>8.000000</td>\n",
              "      <td>12.000000</td>\n",
              "      <td>2.000000</td>\n",
              "      <td>37273.000000</td>\n",
              "      <td>16293.000000</td>\n",
              "      <td>1.000000</td>\n",
              "      <td>612.000000</td>\n",
              "      <td>1.000000</td>\n",
              "      <td>729.000000</td>\n",
              "      <td>232.000000</td>\n",
              "    </tr>\n",
              "    <tr>\n",
              "      <th>max</th>\n",
              "      <td>50.000000</td>\n",
              "      <td>7.630000e+08</td>\n",
              "      <td>900.000000</td>\n",
              "      <td>19.000000</td>\n",
              "      <td>100.000000</td>\n",
              "      <td>60.000000</td>\n",
              "      <td>409.700000</td>\n",
              "      <td>33.000000</td>\n",
              "      <td>112.000000</td>\n",
              "      <td>5.000000</td>\n",
              "      <td>84869.000000</td>\n",
              "      <td>65968.000000</td>\n",
              "      <td>3.000000</td>\n",
              "      <td>3190.000000</td>\n",
              "      <td>3.000000</td>\n",
              "      <td>1344.000000</td>\n",
              "      <td>1580.000000</td>\n",
              "    </tr>\n",
              "  </tbody>\n",
              "</table>\n",
              "</div>"
            ],
            "text/plain": [
              "       total_images    last_price    total_area         rooms  ceiling_height  \\\n",
              "count  23699.000000  2.369900e+04  23699.000000  23699.000000    14504.000000   \n",
              "mean       9.858475  6.541549e+06     60.348651      2.070636        2.771499   \n",
              "std        5.682529  1.088701e+07     35.654083      1.078405        1.261056   \n",
              "min        0.000000  1.219000e+04     12.000000      0.000000        1.000000   \n",
              "25%        6.000000  3.400000e+06     40.000000      1.000000        2.520000   \n",
              "50%        9.000000  4.650000e+06     52.000000      2.000000        2.650000   \n",
              "75%       14.000000  6.800000e+06     69.900000      3.000000        2.800000   \n",
              "max       50.000000  7.630000e+08    900.000000     19.000000      100.000000   \n",
              "\n",
              "       floors_total   living_area         floor  kitchen_area       balcony  \\\n",
              "count  23613.000000  21796.000000  23699.000000  21421.000000  12180.000000   \n",
              "mean      10.673824     34.457852      5.892358     10.569807      1.150082   \n",
              "std        6.597173     22.030445      4.885249      5.905438      1.071300   \n",
              "min        1.000000      2.000000      1.000000      1.300000      0.000000   \n",
              "25%        5.000000     18.600000      2.000000      7.000000      0.000000   \n",
              "50%        9.000000     30.000000      4.000000      9.100000      1.000000   \n",
              "75%       16.000000     42.300000      8.000000     12.000000      2.000000   \n",
              "max       60.000000    409.700000     33.000000    112.000000      5.000000   \n",
              "\n",
              "       airports_nearest  cityCenters_nearest  parks_around3000  parks_nearest  \\\n",
              "count      18157.000000         18180.000000      18181.000000    8079.000000   \n",
              "mean       28793.672193         14191.277833          0.611408     490.804555   \n",
              "std        12630.880622          8608.386210          0.802074     342.317995   \n",
              "min            0.000000           181.000000          0.000000       1.000000   \n",
              "25%        18585.000000          9238.000000          0.000000     288.000000   \n",
              "50%        26726.000000         13098.500000          0.000000     455.000000   \n",
              "75%        37273.000000         16293.000000          1.000000     612.000000   \n",
              "max        84869.000000         65968.000000          3.000000    3190.000000   \n",
              "\n",
              "       ponds_around3000  ponds_nearest  days_exposition  \n",
              "count      18181.000000    9110.000000     20518.000000  \n",
              "mean           0.770255     517.980900       180.888634  \n",
              "std            0.938346     277.720643       219.727988  \n",
              "min            0.000000      13.000000         1.000000  \n",
              "25%            0.000000     294.000000        45.000000  \n",
              "50%            1.000000     502.000000        95.000000  \n",
              "75%            1.000000     729.000000       232.000000  \n",
              "max            3.000000    1344.000000      1580.000000  "
            ]
          },
          "execution_count": 6,
          "metadata": {},
          "output_type": "execute_result"
        }
      ],
      "source": [
        "data.describe()"
      ]
    },
    {
      "cell_type": "markdown",
      "metadata": {
        "id": "cweVrxz_bSZI"
      },
      "source": [
        "### Предобработка данных"
      ]
    },
    {
      "cell_type": "markdown",
      "metadata": {
        "id": "psUWGNujbSZI"
      },
      "source": [
        "Подсчет пропущенных значений"
      ]
    },
    {
      "cell_type": "code",
      "execution_count": null,
      "metadata": {
        "id": "AQPS3EfIbSZI",
        "outputId": "1f9e5c81-f483-4cf6-a717-894fc1020130"
      },
      "outputs": [
        {
          "data": {
            "text/plain": [
              "total_images                0\n",
              "last_price                  0\n",
              "total_area                  0\n",
              "first_day_exposition        0\n",
              "rooms                       0\n",
              "ceiling_height           9195\n",
              "floors_total               86\n",
              "living_area              1903\n",
              "floor                       0\n",
              "is_apartment            20924\n",
              "studio                      0\n",
              "open_plan                   0\n",
              "kitchen_area             2278\n",
              "balcony                 11519\n",
              "locality_name              49\n",
              "airports_nearest         5542\n",
              "cityCenters_nearest      5519\n",
              "parks_around3000         5518\n",
              "parks_nearest           15620\n",
              "ponds_around3000         5518\n",
              "ponds_nearest           14589\n",
              "days_exposition          3181\n",
              "dtype: int64"
            ]
          },
          "execution_count": 7,
          "metadata": {},
          "output_type": "execute_result"
        }
      ],
      "source": [
        "data.isna().sum()"
      ]
    },
    {
      "cell_type": "code",
      "execution_count": null,
      "metadata": {
        "id": "UquW9nlRbSZI",
        "outputId": "d41661cc-4d72-41f5-86b0-504bfb718dda"
      },
      "outputs": [
        {
          "data": {
            "text/plain": [
              "array([  2.7 ,    nan,   3.03,   2.5 ,   2.67,   2.56,   3.05,   2.75,\n",
              "         2.6 ,   2.9 ,   2.8 ,   2.55,   3.  ,   2.65,   3.2 ,   2.61,\n",
              "         3.25,   3.45,   2.77,   2.85,   2.64,   2.57,   4.15,   3.5 ,\n",
              "         3.3 ,   2.71,   4.  ,   2.47,   2.73,   2.84,   3.1 ,   2.34,\n",
              "         3.4 ,   3.06,   2.72,   2.54,   2.51,   2.78,   2.76,  25.  ,\n",
              "         2.58,   3.7 ,   2.52,   5.2 ,   2.87,   2.66,   2.59,   2.  ,\n",
              "         2.45,   3.6 ,   2.92,   3.11,   3.13,   3.8 ,   3.15,   3.55,\n",
              "         3.16,   3.62,   3.12,   2.53,   2.74,   2.96,   2.46,   5.3 ,\n",
              "         5.  ,   2.79,   2.95,   4.06,   2.94,   3.82,   3.54,   3.53,\n",
              "         2.83,   4.7 ,   2.4 ,   3.38,   3.01,   5.6 ,   3.65,   3.9 ,\n",
              "         3.18,   3.35,   2.3 ,   3.57,   2.48,   2.62,   2.82,   3.98,\n",
              "         2.63,   3.83,   3.52,   3.95,   3.75,   2.88,   3.67,   3.87,\n",
              "         3.66,   3.85,   3.86,   4.19,   3.24,   4.8 ,   4.5 ,   4.2 ,\n",
              "         3.36,  32.  ,   3.08,   3.68,   3.07,   3.37,   3.09,   8.  ,\n",
              "         3.26,   3.34,   2.81,   3.44,   2.97,   3.14,   4.37,   2.68,\n",
              "         3.22,   3.27,  27.  ,   4.1 ,   2.93,   3.46,  24.  ,   3.47,\n",
              "         3.33,   3.63,   3.32,  26.  ,   1.2 ,   8.3 ,   2.98,   2.86,\n",
              "         3.17,   4.4 ,   3.28,   3.04,   4.45,   5.5 ,   3.84,   3.23,\n",
              "         3.02,   3.21,   3.43,   3.78,   4.3 ,   3.39,   2.69,   3.31,\n",
              "         4.65,   3.56,   2.2 ,   3.51,   3.93,   3.42,   2.99,   3.49,\n",
              "        14.  ,   4.14,   2.91,   3.88,   1.75,   4.25,   3.29,  20.  ,\n",
              "         2.25,   3.76,   3.69,   6.  ,  22.6 ,   2.89,   3.58,   5.8 ,\n",
              "        27.5 ,   2.49,   4.9 ,   3.48,  10.3 ,   1.  , 100.  ,   3.59])"
            ]
          },
          "execution_count": 8,
          "metadata": {},
          "output_type": "execute_result"
        }
      ],
      "source": [
        "data['ceiling_height'].unique()"
      ]
    },
    {
      "cell_type": "markdown",
      "metadata": {
        "id": "2oQp1knzbSZI"
      },
      "source": [
        "Заполнение пропусков и замена уникальных значений"
      ]
    },
    {
      "cell_type": "code",
      "execution_count": null,
      "metadata": {
        "scrolled": false,
        "id": "H8tfgnj8bSZJ",
        "outputId": "988445f0-31cd-4afa-b683-5c25b2bc82d8"
      },
      "outputs": [
        {
          "name": "stdout",
          "output_type": "stream",
          "text": [
            "0\n"
          ]
        }
      ],
      "source": [
        "data['ceiling_height'] = data['ceiling_height'].fillna(data['ceiling_height'].median())\n",
        "print(data['ceiling_height'].isna().sum())"
      ]
    },
    {
      "cell_type": "code",
      "execution_count": null,
      "metadata": {
        "id": "3hNxxSjRbSZJ",
        "outputId": "4da5796f-f5a7-4047-e003-bb3db3d1eee2"
      },
      "outputs": [
        {
          "data": {
            "text/plain": [
              "array([2.7 , 2.65, 3.03, 2.5 , 2.67, 2.56, 3.05, 2.75, 2.6 , 2.9 , 2.8 ,\n",
              "       2.55, 3.  , 3.2 , 2.61, 3.25, 3.45, 2.77, 2.85, 2.64, 2.57, 3.5 ,\n",
              "       3.3 , 2.71, 4.  , 2.47, 2.73, 2.84, 3.1 , 2.34, 3.4 , 3.06, 2.72,\n",
              "       2.54, 2.51, 2.78, 2.76, 2.58, 3.7 , 2.52, 2.87, 2.66, 2.59, 2.  ,\n",
              "       2.45, 3.6 , 2.92, 3.11, 3.13, 3.8 , 3.15, 3.55, 3.16, 3.62, 3.12,\n",
              "       2.53, 2.74, 2.96, 2.46, 2.79, 2.95, 2.94, 3.82, 3.54, 3.53, 2.83,\n",
              "       2.4 , 3.38, 3.01, 3.65, 3.9 , 3.18, 3.35, 2.3 , 3.57, 2.48, 2.62,\n",
              "       2.82, 3.98, 2.63, 3.83, 3.52, 3.95, 3.75, 2.88, 3.67, 3.87, 3.66,\n",
              "       3.85, 3.86, 3.24, 3.36, 3.08, 3.68, 3.07, 3.37, 3.09, 3.26, 3.34,\n",
              "       2.81, 3.44, 2.97, 3.14, 2.68, 3.22, 3.27, 2.93, 3.46, 3.47, 3.33,\n",
              "       3.63, 3.32, 2.98, 2.86, 3.17, 3.28, 3.04, 3.84, 3.23, 3.02, 3.21,\n",
              "       3.43, 3.78, 3.39, 2.69, 3.31, 3.56, 2.2 , 3.51, 3.93, 3.42, 2.99,\n",
              "       3.49, 2.91, 3.88, 3.29, 2.25, 3.76, 3.69, 2.26, 2.89, 3.58, 2.49,\n",
              "       3.48, 3.59])"
            ]
          },
          "execution_count": 10,
          "metadata": {},
          "output_type": "execute_result"
        }
      ],
      "source": [
        "data.loc[(data['ceiling_height'] > 10),'ceiling_height'] = data['ceiling_height'] / 10\n",
        "\n",
        "data.loc[(data['ceiling_height'] < 2) | (data['ceiling_height'] > 4),'ceiling_height'] = data['ceiling_height'].median()\n",
        "\n",
        "data['ceiling_height'].unique()"
      ]
    },
    {
      "cell_type": "markdown",
      "metadata": {
        "id": "Jb21YiGRbSZJ"
      },
      "source": [
        "Аномально маленькие значения для площади кухни заменим на мимнимально возможные по стандартам площади. Площади кухни, где значения больше 30 квадратных метров, поделим на 10."
      ]
    },
    {
      "cell_type": "code",
      "execution_count": null,
      "metadata": {
        "id": "MGzfBDEEbSZJ"
      },
      "outputs": [],
      "source": [
        "data['kitchen_area'] = data['kitchen_area'].abs()\n",
        "data.loc[data['kitchen_area']>30,'kitchen_area'] = data['kitchen_area']/10\n",
        "data.loc[((data['kitchen_area']<6)&(data['rooms'] == 1)&(data['studio']==False)), 'kitchen_area'] = 6 #минимальная площадь кухонь для однокомнатных квартир - 6 квадратных метров\n",
        "data.loc[((data['kitchen_area']<6)&(data['rooms'] > 1)&(data['studio']==False)), 'kitchen_area'] = 8 #минимальная площадь кухонь для квартир с более, чем 1 комантой- 8 квадратных метров\n"
      ]
    },
    {
      "cell_type": "code",
      "execution_count": null,
      "metadata": {
        "id": "zo0VG1bEbSZK",
        "outputId": "2819a584-6448-4d6a-96c5-be641f6ca34c"
      },
      "outputs": [
        {
          "data": {
            "text/plain": [
              "array([  6. ,   6.5,   8. , ..., 409. , 409.7,   nan])"
            ]
          },
          "execution_count": 12,
          "metadata": {},
          "output_type": "execute_result"
        }
      ],
      "source": [
        "data.loc[data['living_area']<6] = 6\n",
        "data['living_area'].sort_values(ascending=True).unique()"
      ]
    },
    {
      "cell_type": "markdown",
      "metadata": {
        "id": "D6D5PwcZbSZK"
      },
      "source": [
        "Заполняем пропуски разностью всей площади и площади кухни, там, где это возможно. В остальных случаях заполняем медианой."
      ]
    },
    {
      "cell_type": "code",
      "execution_count": null,
      "metadata": {
        "scrolled": true,
        "id": "fQcljUxDbSZK",
        "outputId": "2e090c25-4ec0-47a8-9a29-2a07cb4c786c"
      },
      "outputs": [
        {
          "name": "stdout",
          "output_type": "stream",
          "text": [
            "0\n"
          ]
        },
        {
          "data": {
            "text/plain": [
              "array([  6.        ,   6.5       ,   8.        , ..., 409.        ,\n",
              "       409.7       , 512.71489217])"
            ]
          },
          "execution_count": 13,
          "metadata": {},
          "output_type": "execute_result"
        }
      ],
      "source": [
        "data['living_area'] = data['living_area'].fillna(((data['total_area']-data['kitchen_area'])/data['total_area']).mean() * data['total_area'])\n",
        "print(data['living_area'].isna().sum())\n",
        "\n",
        "data['living_area'].sort_values(ascending=True).unique()\n"
      ]
    },
    {
      "cell_type": "markdown",
      "metadata": {
        "id": "3ftx5jPjbSZL"
      },
      "source": [
        "Заполяняем пропуски для площади кухни разностью всей площади и жилой площади."
      ]
    },
    {
      "cell_type": "code",
      "execution_count": null,
      "metadata": {
        "scrolled": true,
        "id": "90R39zcHbSZL",
        "outputId": "d9ebf0cf-ccf4-4458-8b95-f70c1cdf8a8a"
      },
      "outputs": [
        {
          "name": "stdout",
          "output_type": "stream",
          "text": [
            "0\n"
          ]
        }
      ],
      "source": [
        "data['kitchen_area'] = data['kitchen_area'].fillna(data['total_area'] - data['living_area'])\n",
        "print(data['kitchen_area'].isna().sum())"
      ]
    },
    {
      "cell_type": "code",
      "execution_count": null,
      "metadata": {
        "id": "7ZrlSoR2bSZL"
      },
      "outputs": [],
      "source": [
        "data['balcony'] = data['balcony'].fillna(0)"
      ]
    },
    {
      "cell_type": "code",
      "execution_count": null,
      "metadata": {
        "scrolled": false,
        "id": "IvjKc8L5bSZL",
        "outputId": "c54d00f1-6d86-4e2b-dc06-2a85c1ed58d3"
      },
      "outputs": [
        {
          "data": {
            "text/plain": [
              "0"
            ]
          },
          "execution_count": 16,
          "metadata": {},
          "output_type": "execute_result"
        }
      ],
      "source": [
        "data['is_apartment'] = data['is_apartment'].fillna(False)\n",
        "data['is_apartment'].isna().sum()"
      ]
    },
    {
      "cell_type": "markdown",
      "metadata": {
        "id": "PgSx19gabSZL"
      },
      "source": [
        "Заполняем пропуски у количества парков, прудов поблизости и времени, в течение которого висели объявления. Будем считать, что если стоит пропуск у прудов и парков в радиусе 3 км, то их там нет, поэтому заполним нулями. Пропуски во времени висения объявлений заполним медианой."
      ]
    },
    {
      "cell_type": "code",
      "execution_count": null,
      "metadata": {
        "id": "vuGpjLT0bSZL",
        "outputId": "5a028215-9c94-4082-fb9c-f7c97b33c4ef"
      },
      "outputs": [
        {
          "name": "stdout",
          "output_type": "stream",
          "text": [
            "5517\n",
            "[6. 3. 2. 1. 0.]\n"
          ]
        }
      ],
      "source": [
        "print(data['parks_around3000'].isna().sum())\n",
        "data['parks_around3000'] = data['parks_around3000'].fillna(0)\n",
        "print(data['parks_around3000'].sort_values(ascending=False).unique())"
      ]
    },
    {
      "cell_type": "code",
      "execution_count": null,
      "metadata": {
        "id": "srMiLrADbSZM",
        "outputId": "4f549c6a-ab2a-4de8-8032-12d34c2dd4fa"
      },
      "outputs": [
        {
          "name": "stdout",
          "output_type": "stream",
          "text": [
            "5517\n",
            "[6. 3. 2. 1. 0.]\n"
          ]
        }
      ],
      "source": [
        "print(data['ponds_around3000'].isna().sum())\n",
        "data['ponds_around3000'] = data['ponds_around3000'].fillna(0)\n",
        "print(data['ponds_around3000'].sort_values(ascending=False).unique())\n"
      ]
    },
    {
      "cell_type": "code",
      "execution_count": null,
      "metadata": {
        "id": "lET6ld0ebSZM",
        "outputId": "b74860d3-db18-45d8-cf08-a5adcb3fefcf"
      },
      "outputs": [
        {
          "name": "stdout",
          "output_type": "stream",
          "text": [
            "0\n"
          ]
        }
      ],
      "source": [
        "data['days_exposition'] = data['days_exposition'].fillna(data['days_exposition'].median())\n",
        "print(data['days_exposition'].isna().sum())"
      ]
    },
    {
      "cell_type": "markdown",
      "metadata": {
        "id": "J8A5YjB3bSZM"
      },
      "source": [
        "Разбираемся с дубликатами.     "
      ]
    },
    {
      "cell_type": "code",
      "execution_count": null,
      "metadata": {
        "id": "1wRUI-ucbSZW",
        "outputId": "93eb00a7-0972-42dc-a57a-b13b03e51ea8"
      },
      "outputs": [
        {
          "name": "stderr",
          "output_type": "stream",
          "text": [
            "/tmp/ipykernel_342/2920154655.py:9: SettingWithCopyWarning: \n",
            "A value is trying to be set on a copy of a slice from a DataFrame\n",
            "\n",
            "See the caveats in the documentation: https://pandas.pydata.org/pandas-docs/stable/user_guide/indexing.html#returning-a-view-versus-a-copy\n",
            "  data['locality_name'][i] = data['locality_name'][i].replace('ё','е')\n"
          ]
        },
        {
          "name": "stdout",
          "output_type": "stream",
          "text": [
            "['Санкт-Петербург' 'поселок Шушары' 'поселок городского типа Янино-1'\n",
            " 'поселок Парголово' 'поселок Мурино' 'Ломоносов' 'Сертолово' 'Петергоф'\n",
            " 'Пушкин' 'деревня Кудрово' 'Коммунар' 'Колпино'\n",
            " 'поселок городского типа Красный Бор' 'Гатчина' 'деревня Федоровское'\n",
            " 'Выборг' 'Кронштадт' 'Кировск' 'деревня Новое Девяткино'\n",
            " 'поселок Металлострой' 'поселок городского типа Лебяжье'\n",
            " 'поселок городского типа Сиверский' 'поселок Молодцово'\n",
            " 'поселок городского типа Кузьмоловский'\n",
            " 'садовое товарищество Новая Ропша' 'Павловск' 'деревня Пикколово'\n",
            " 'Всеволожск' 'Волхов' 'Кингисепп' 'Приозерск' 'Сестрорецк'\n",
            " 'деревня Куттузи' 'поселок Аннино' 'поселок городского типа Ефимовский'\n",
            " 'поселок Плодовое' 'деревня Заклинье' 'поселок Торковичи'\n",
            " 'поселок Первомайское' 'Красное Село' 'поселок Понтонный' 'Сясьстрой'\n",
            " 'деревня Старая' 'деревня Лесколово' 'поселок Новый Свет' 'Сланцы'\n",
            " 'село Путилово' 'Ивангород' 'Мурино' 'Шлиссельбург' 'Никольское'\n",
            " 'Зеленогорск' 'Сосновый Бор' 'деревня Оржицы' 'деревня Кальтино'\n",
            " 'Кудрово' 'поселок Романовка' 'поселок Бугры'\n",
            " 'поселок городского типа Рощино' 'Кириши' 'Луга' 'Волосово' 'Отрадное'\n",
            " 'село Павлово' 'поселок Оредеж' 'село Копорье' 'поселок Молодежное'\n",
            " 'Тихвин' 'поселок Победа' 'деревня Нурма'\n",
            " 'поселок городского типа Синявино' 'Тосно' 'поселок Стрельна'\n",
            " 'Бокситогорск' 'поселок Александровская' 'деревня Лопухинка' 'Пикалево'\n",
            " 'поселок Терволово' 'поселок городского типа Советский' 'Подпорожье'\n",
            " 'поселок Петровское' 'поселок городского типа Токсово' 'поселок Сельцо'\n",
            " 'поселок городского типа Вырица' 'деревня Кипень' 'деревня Келози'\n",
            " 'деревня Вартемяги' 'поселок Тельмана' 'поселок Севастьяново'\n",
            " 'поселок городского типа Большая Ижора' nan\n",
            " 'поселок городского типа Павлово' 'деревня Агалатово'\n",
            " 'поселок Новогорелово' 'поселок городского типа Лесогорский'\n",
            " 'деревня Лаголово' 'поселок Цвелодубово' 'поселок городского типа Рахья'\n",
            " 'деревня Белогорка' 'поселок Заводской'\n",
            " 'поселок городского типа Новоселье' 'деревня Большие Колпаны'\n",
            " 'деревня Горбунки' 'деревня Батово' 'деревня Заневка' 'деревня Иссад'\n",
            " 'Приморск' 'поселок городского типа Федоровское' 'деревня Мистолово'\n",
            " 'Новая Ладога' 'поселок Зимитицы' 'поселок Барышево'\n",
            " 'деревня Разметелево' 'поселок городского типа имени Свердлова'\n",
            " 'деревня Пеники' 'поселок Рябово' 'деревня Пудомяги'\n",
            " 'поселок станции Корнево' 'деревня Низино' 'деревня Бегуницы'\n",
            " 'поселок Поляны' 'поселок городского типа Мга' 'поселок Елизаветино'\n",
            " 'поселок городского типа Кузнечное' 'деревня Колтуши'\n",
            " 'поселок Запорожское' 'деревня Гостилицы' 'деревня Малое Карлино'\n",
            " 'поселок Мичуринское' 'поселок городского типа имени Морозова'\n",
            " 'поселок Песочный' 'поселок Сосново' 'деревня Аро' 'поселок Ильичево'\n",
            " 'поселок городского типа Тайцы' 'деревня Малое Верево' 'деревня Извара'\n",
            " 'поселок станции Вещево' 'село Паша' 'деревня Калитино'\n",
            " 'поселок городского типа Ульяновка' 'деревня Чудской Бор'\n",
            " 'поселок городского типа Дубровка' 'деревня Мины' 'поселок Войсковицы'\n",
            " 'деревня Коркино' 'поселок Ропша' 'поселок городского типа Приладожский'\n",
            " 'поселок Щеглово' 'поселок Гаврилово' 'Лодейное Поле' 'деревня Рабитицы'\n",
            " 'поселок городского типа Никольский' 'деревня Кузьмолово'\n",
            " 'деревня Малые Колпаны' 'поселок Петро-Славянка'\n",
            " 'поселок городского типа Назия' 'поселок Репино' 'поселок Углово'\n",
            " 'поселок Старая Малукса' 'садовое товарищество Рахья' 'деревня Меньково'\n",
            " 'деревня Старые Бегуницы' 'поселок Саперный' 'поселок Семрино'\n",
            " 'поселок Глажево' 'поселок Кобринское' 'деревня Гарболово' 'деревня Юкки'\n",
            " 6 'поселок станции Приветнинское' 'деревня Мануйлово' 'деревня Пчева'\n",
            " 'поселок Цвылево' 'поселок Мельниково' 'поселок Пудость'\n",
            " 'поселок Усть-Луга' 'Светогорск' 'Любань' 'поселок Селезнево'\n",
            " 'поселок городского типа Рябово' 'Каменногорск' 'деревня Кривко'\n",
            " 'поселок Глебычево' 'деревня Парицы' 'поселок Жилпоселок'\n",
            " 'поселок Войскорово' 'село Никольское' 'поселок Стеклянный'\n",
            " 'поселок городского типа Важины' 'поселок Мыза-Ивановка'\n",
            " 'село Русско-Высоцкое' 'поселок городского типа Форносово'\n",
            " 'село Старая Ладога' 'поселок Житково' 'поселок городского типа Виллози'\n",
            " 'деревня Лампово' 'деревня Шпаньково' 'деревня Лаврики' 'поселок Сумино'\n",
            " 'поселок Возрождение' 'деревня Старосиверская' 'поселок Кикерино'\n",
            " 'деревня Старое Хинколово' 'поселок Пригородный' 'поселок Торфяное'\n",
            " 'поселок городского типа Будогощь' 'поселок Суходолье'\n",
            " 'поселок Красная Долина' 'деревня Хапо-Ое'\n",
            " 'поселок городского типа Дружная Горка' 'поселок Лисий Нос'\n",
            " 'деревня Яльгелево' 'село Рождествено' 'деревня Старополье'\n",
            " 'поселок Левашово' 'деревня Сяськелево' 'деревня Камышовка'\n",
            " 'садоводческое некоммерческое товарищество Лесная Поляна'\n",
            " 'деревня Хязельки' 'поселок Жилгородок' 'деревня Ялгино'\n",
            " 'поселок Новый Учхоз' 'поселок Гончарово' 'поселок Почап'\n",
            " 'поселок Саперное' 'поселок Платформа 69-й километр' 'поселок Каложицы'\n",
            " 'деревня Фалилеево' 'деревня Пельгора' 'деревня Торошковичи'\n",
            " 'поселок Белоостров' 'поселок Алексеевка' 'поселок Серебрянский'\n",
            " 'поселок Лукаши' 'деревня Щеглово' 'деревня Тарасово'\n",
            " 'поселок Кингисеппский' 'поселок при железнодорожной станции Вещево'\n",
            " 'поселок Ушаки' 'деревня Котлы' 'деревня Сижно' 'деревня Торосово'\n",
            " 'поселок Форт Красная Горка' 'деревня Новолисино'\n",
            " 'поселок станции Громово' 'деревня Глинка' 'деревня Старая Пустошь'\n",
            " 'поселок Коммунары' 'поселок Починок'\n",
            " 'поселок городского типа Вознесенье' 'деревня Разбегаево'\n",
            " 'поселок Гладкое' 'поселок при железнодорожной станции Приветнинское'\n",
            " 'поселок Тесово-4' 'деревня Бор' 'поселок Коробицыно'\n",
            " 'деревня Большая Вруда' 'деревня Курковицы' 'поселок Кобралово'\n",
            " 'деревня Суоранда' 'поселок городского типа Кондратьево'\n",
            " 'коттеджный поселок Счастье' 'поселок Любань' 'деревня Реброво'\n",
            " 'деревня Зимитицы' 'деревня Тойворово' 'поселок Семиозерье'\n",
            " 'поселок Лесное' 'поселок Совхозный' 'поселок Ленинское' 'поселок Суйда'\n",
            " 'деревня Нижние Осельки' 'поселок станции Свирь' 'поселок Перово'\n",
            " 'Высоцк' 'поселок Гарболово' 'село Шум' 'поселок Котельский'\n",
            " 'поселок станции Лужайка' 'деревня Большая Пустомержа'\n",
            " 'поселок Красносельское' 'деревня Вахнова Кара' 'деревня Пижма'\n",
            " 'коттеджный поселок Кивеннапа Север' 'поселок Ромашки' 'деревня Каськово'\n",
            " 'деревня Куровицы' 'поселок Плоское' 'поселок Кирпичное'\n",
            " 'деревня Ям-Тесово' 'деревня Раздолье' 'деревня Терпилицы'\n",
            " 'поселок Шугозеро' 'деревня Ваганово' 'поселок Пушное'\n",
            " 'садовое товарищество Садко' 'поселок Усть-Ижора' 'деревня Выскатка'\n",
            " 'поселок городского типа Свирьстрой' 'поселок Громово' 'деревня Кисельня'\n",
            " 'деревня Трубников Бор' 'поселок Калитино' 'поселок Высокоключевой'\n",
            " 'садовое товарищество Приладожский' 'поселок Пансионат Зеленый Бор'\n",
            " 'деревня Ненимяки' 'деревня Снегиревка' 'деревня Рапполово'\n",
            " 'деревня Пустынка' 'поселок Рабитицы' 'деревня Большой Сабск'\n",
            " 'деревня Русско' 'деревня Лупполово' 'деревня Большое Рейзино'\n",
            " 'деревня Малая Романовка' 'поселок Дружноселье' 'поселок Пчевжа'\n",
            " 'поселок Володарское' 'деревня Нижняя' 'коттеджный поселок Лесное'\n",
            " 'деревня Тихковицы' 'деревня Борисова Грива' 'поселок Дзержинского']\n"
          ]
        },
        {
          "name": "stderr",
          "output_type": "stream",
          "text": [
            "/tmp/ipykernel_342/2920154655.py:12: SettingWithCopyWarning: \n",
            "A value is trying to be set on a copy of a slice from a DataFrame\n",
            "\n",
            "See the caveats in the documentation: https://pandas.pydata.org/pandas-docs/stable/user_guide/indexing.html#returning-a-view-versus-a-copy\n",
            "  data['locality_name'][i] = data['locality_name'][i].replace('городской поселок','поселок городского типа')\n"
          ]
        }
      ],
      "source": [
        "count=0\n",
        "for i in range(len(data['locality_name'])):\n",
        "    if 'ё' in str(data['locality_name'][i]):\n",
        "        data['locality_name'][i] = data['locality_name'][i].replace('ё','е')\n",
        "for i in range(len(data['locality_name'])):\n",
        "    if 'городской поселок' in str(data['locality_name'][i]):\n",
        "        data['locality_name'][i] = data['locality_name'][i].replace('городской поселок','поселок городского типа')\n",
        "print(data['locality_name'].unique())\n"
      ]
    },
    {
      "cell_type": "markdown",
      "metadata": {
        "id": "nqFXkh3cbSZW"
      },
      "source": [
        "Пропуски в расстояниях до центра, парков, прудов и аэропортов, а также время размещения публикации точно заполнить не удастся, поэтому оставим их.\n",
        "\n",
        "\n"
      ]
    },
    {
      "cell_type": "markdown",
      "metadata": {
        "id": "1R2WniVkbSZX"
      },
      "source": [
        "Поменяем тип времени."
      ]
    },
    {
      "cell_type": "code",
      "execution_count": null,
      "metadata": {
        "id": "qXxaQ0BcbSZX"
      },
      "outputs": [],
      "source": [
        "data['first_day_exposition'] = pd.to_datetime(data[\"first_day_exposition\"],format='%Y-%m-%dT%H:%M:%S')"
      ]
    },
    {
      "cell_type": "markdown",
      "metadata": {
        "id": "b5KJirOIbSZX"
      },
      "source": [
        "<div class=\"alert alert-info\">\n",
        "<b>Вывод</b>:    \n",
        "В ходе предобработки данных были выявлены и исправлены аномальные значения площади кухни, были заполнены пропуски в данных там, где это возможно и исправлены дубликаты. </div>"
      ]
    },
    {
      "cell_type": "markdown",
      "metadata": {
        "id": "pHWhsVsEbSZY"
      },
      "source": [
        "### Посчитайте и добавьте в таблицу новые столбцы"
      ]
    },
    {
      "cell_type": "code",
      "execution_count": null,
      "metadata": {
        "scrolled": true,
        "id": "rpikmNH4bSZY"
      },
      "outputs": [],
      "source": [
        "data['square_meter_price'] = data['last_price'] / (data['living_area'] + data['kitchen_area'])"
      ]
    },
    {
      "cell_type": "code",
      "execution_count": null,
      "metadata": {
        "id": "TTpNcB1mbSZY"
      },
      "outputs": [],
      "source": [
        "data['week_day'] = data['first_day_exposition'].dt.weekday\n"
      ]
    },
    {
      "cell_type": "code",
      "execution_count": null,
      "metadata": {
        "id": "j98OSIwtbSZY"
      },
      "outputs": [],
      "source": [
        "data['month_of_exposition'] = data['first_day_exposition'].dt.month\n"
      ]
    },
    {
      "cell_type": "code",
      "execution_count": null,
      "metadata": {
        "id": "if3phGC-bSZY"
      },
      "outputs": [],
      "source": [
        "data['year_of_exposition'] = data['first_day_exposition'].dt.year\n"
      ]
    },
    {
      "cell_type": "code",
      "execution_count": null,
      "metadata": {
        "id": "OU1ttSvwbSZY",
        "outputId": "bdb85800-ac47-4695-bb02-2ec2ab69c93e"
      },
      "outputs": [
        {
          "data": {
            "text/html": [
              "<div>\n",
              "<style scoped>\n",
              "    .dataframe tbody tr th:only-of-type {\n",
              "        vertical-align: middle;\n",
              "    }\n",
              "\n",
              "    .dataframe tbody tr th {\n",
              "        vertical-align: top;\n",
              "    }\n",
              "\n",
              "    .dataframe thead th {\n",
              "        text-align: right;\n",
              "    }\n",
              "</style>\n",
              "<table border=\"1\" class=\"dataframe\">\n",
              "  <thead>\n",
              "    <tr style=\"text-align: right;\">\n",
              "      <th></th>\n",
              "      <th>total_images</th>\n",
              "      <th>last_price</th>\n",
              "      <th>total_area</th>\n",
              "      <th>first_day_exposition</th>\n",
              "      <th>rooms</th>\n",
              "      <th>ceiling_height</th>\n",
              "      <th>floors_total</th>\n",
              "      <th>living_area</th>\n",
              "      <th>floor</th>\n",
              "      <th>is_apartment</th>\n",
              "      <th>...</th>\n",
              "      <th>parks_around3000</th>\n",
              "      <th>parks_nearest</th>\n",
              "      <th>ponds_around3000</th>\n",
              "      <th>ponds_nearest</th>\n",
              "      <th>days_exposition</th>\n",
              "      <th>square_meter_price</th>\n",
              "      <th>week_day</th>\n",
              "      <th>month_of_exposition</th>\n",
              "      <th>year_of_exposition</th>\n",
              "      <th>floors_category</th>\n",
              "    </tr>\n",
              "  </thead>\n",
              "  <tbody>\n",
              "    <tr>\n",
              "      <th>0</th>\n",
              "      <td>20</td>\n",
              "      <td>13000000.0</td>\n",
              "      <td>108.0</td>\n",
              "      <td>2019-03-07</td>\n",
              "      <td>3</td>\n",
              "      <td>2.70</td>\n",
              "      <td>16.0</td>\n",
              "      <td>51.000000</td>\n",
              "      <td>8</td>\n",
              "      <td>False</td>\n",
              "      <td>...</td>\n",
              "      <td>1.0</td>\n",
              "      <td>482.0</td>\n",
              "      <td>2.0</td>\n",
              "      <td>755.0</td>\n",
              "      <td>95.0</td>\n",
              "      <td>171052.631579</td>\n",
              "      <td>3</td>\n",
              "      <td>3</td>\n",
              "      <td>2019</td>\n",
              "      <td>Другой</td>\n",
              "    </tr>\n",
              "    <tr>\n",
              "      <th>1</th>\n",
              "      <td>7</td>\n",
              "      <td>3350000.0</td>\n",
              "      <td>40.4</td>\n",
              "      <td>2018-12-04</td>\n",
              "      <td>1</td>\n",
              "      <td>2.65</td>\n",
              "      <td>11.0</td>\n",
              "      <td>18.600000</td>\n",
              "      <td>1</td>\n",
              "      <td>False</td>\n",
              "      <td>...</td>\n",
              "      <td>0.0</td>\n",
              "      <td>NaN</td>\n",
              "      <td>0.0</td>\n",
              "      <td>NaN</td>\n",
              "      <td>81.0</td>\n",
              "      <td>113175.675676</td>\n",
              "      <td>1</td>\n",
              "      <td>12</td>\n",
              "      <td>2018</td>\n",
              "      <td>Первый</td>\n",
              "    </tr>\n",
              "    <tr>\n",
              "      <th>2</th>\n",
              "      <td>10</td>\n",
              "      <td>5196000.0</td>\n",
              "      <td>56.0</td>\n",
              "      <td>2015-08-20</td>\n",
              "      <td>2</td>\n",
              "      <td>2.65</td>\n",
              "      <td>5.0</td>\n",
              "      <td>34.300000</td>\n",
              "      <td>4</td>\n",
              "      <td>False</td>\n",
              "      <td>...</td>\n",
              "      <td>1.0</td>\n",
              "      <td>90.0</td>\n",
              "      <td>2.0</td>\n",
              "      <td>574.0</td>\n",
              "      <td>558.0</td>\n",
              "      <td>121971.830986</td>\n",
              "      <td>3</td>\n",
              "      <td>8</td>\n",
              "      <td>2015</td>\n",
              "      <td>Другой</td>\n",
              "    </tr>\n",
              "    <tr>\n",
              "      <th>3</th>\n",
              "      <td>0</td>\n",
              "      <td>64900000.0</td>\n",
              "      <td>159.0</td>\n",
              "      <td>2015-07-24</td>\n",
              "      <td>3</td>\n",
              "      <td>2.65</td>\n",
              "      <td>14.0</td>\n",
              "      <td>129.194402</td>\n",
              "      <td>9</td>\n",
              "      <td>False</td>\n",
              "      <td>...</td>\n",
              "      <td>2.0</td>\n",
              "      <td>84.0</td>\n",
              "      <td>3.0</td>\n",
              "      <td>234.0</td>\n",
              "      <td>424.0</td>\n",
              "      <td>408176.100629</td>\n",
              "      <td>4</td>\n",
              "      <td>7</td>\n",
              "      <td>2015</td>\n",
              "      <td>Другой</td>\n",
              "    </tr>\n",
              "    <tr>\n",
              "      <th>4</th>\n",
              "      <td>2</td>\n",
              "      <td>10000000.0</td>\n",
              "      <td>100.0</td>\n",
              "      <td>2018-06-19</td>\n",
              "      <td>2</td>\n",
              "      <td>3.03</td>\n",
              "      <td>14.0</td>\n",
              "      <td>32.000000</td>\n",
              "      <td>13</td>\n",
              "      <td>False</td>\n",
              "      <td>...</td>\n",
              "      <td>2.0</td>\n",
              "      <td>112.0</td>\n",
              "      <td>1.0</td>\n",
              "      <td>48.0</td>\n",
              "      <td>121.0</td>\n",
              "      <td>250000.000000</td>\n",
              "      <td>1</td>\n",
              "      <td>6</td>\n",
              "      <td>2018</td>\n",
              "      <td>Другой</td>\n",
              "    </tr>\n",
              "  </tbody>\n",
              "</table>\n",
              "<p>5 rows × 27 columns</p>\n",
              "</div>"
            ],
            "text/plain": [
              "   total_images  last_price  total_area first_day_exposition  rooms  \\\n",
              "0            20  13000000.0       108.0           2019-03-07      3   \n",
              "1             7   3350000.0        40.4           2018-12-04      1   \n",
              "2            10   5196000.0        56.0           2015-08-20      2   \n",
              "3             0  64900000.0       159.0           2015-07-24      3   \n",
              "4             2  10000000.0       100.0           2018-06-19      2   \n",
              "\n",
              "   ceiling_height  floors_total  living_area  floor is_apartment  ...  \\\n",
              "0            2.70          16.0    51.000000      8        False  ...   \n",
              "1            2.65          11.0    18.600000      1        False  ...   \n",
              "2            2.65           5.0    34.300000      4        False  ...   \n",
              "3            2.65          14.0   129.194402      9        False  ...   \n",
              "4            3.03          14.0    32.000000     13        False  ...   \n",
              "\n",
              "  parks_around3000 parks_nearest  ponds_around3000  ponds_nearest  \\\n",
              "0              1.0         482.0               2.0          755.0   \n",
              "1              0.0           NaN               0.0            NaN   \n",
              "2              1.0          90.0               2.0          574.0   \n",
              "3              2.0          84.0               3.0          234.0   \n",
              "4              2.0         112.0               1.0           48.0   \n",
              "\n",
              "  days_exposition  square_meter_price  week_day  month_of_exposition  \\\n",
              "0            95.0       171052.631579         3                    3   \n",
              "1            81.0       113175.675676         1                   12   \n",
              "2           558.0       121971.830986         3                    8   \n",
              "3           424.0       408176.100629         4                    7   \n",
              "4           121.0       250000.000000         1                    6   \n",
              "\n",
              "   year_of_exposition  floors_category  \n",
              "0                2019           Другой  \n",
              "1                2018           Первый  \n",
              "2                2015           Другой  \n",
              "3                2015           Другой  \n",
              "4                2018           Другой  \n",
              "\n",
              "[5 rows x 27 columns]"
            ]
          },
          "execution_count": 27,
          "metadata": {},
          "output_type": "execute_result"
        }
      ],
      "source": [
        "def floor_category(floor_number):\n",
        "    if floor_number['floor'] == 1:\n",
        "        return 'Первый'\n",
        "    elif floor_number['floor'] == floor_number['floors_total']:\n",
        "        return 'Последний'\n",
        "    else:\n",
        "        return 'Другой'\n",
        "\n",
        "data['floors_category'] = data.apply(floor_category,axis=1)\n",
        "data.head()"
      ]
    },
    {
      "cell_type": "code",
      "execution_count": null,
      "metadata": {
        "id": "zXx5NcH_bSZZ",
        "outputId": "cd248312-b7f8-4885-83c3-a236b02dc56e"
      },
      "outputs": [
        {
          "data": {
            "text/html": [
              "<div>\n",
              "<style scoped>\n",
              "    .dataframe tbody tr th:only-of-type {\n",
              "        vertical-align: middle;\n",
              "    }\n",
              "\n",
              "    .dataframe tbody tr th {\n",
              "        vertical-align: top;\n",
              "    }\n",
              "\n",
              "    .dataframe thead th {\n",
              "        text-align: right;\n",
              "    }\n",
              "</style>\n",
              "<table border=\"1\" class=\"dataframe\">\n",
              "  <thead>\n",
              "    <tr style=\"text-align: right;\">\n",
              "      <th></th>\n",
              "      <th>total_images</th>\n",
              "      <th>last_price</th>\n",
              "      <th>total_area</th>\n",
              "      <th>first_day_exposition</th>\n",
              "      <th>rooms</th>\n",
              "      <th>ceiling_height</th>\n",
              "      <th>floors_total</th>\n",
              "      <th>living_area</th>\n",
              "      <th>floor</th>\n",
              "      <th>is_apartment</th>\n",
              "      <th>...</th>\n",
              "      <th>parks_nearest</th>\n",
              "      <th>ponds_around3000</th>\n",
              "      <th>ponds_nearest</th>\n",
              "      <th>days_exposition</th>\n",
              "      <th>square_meter_price</th>\n",
              "      <th>week_day</th>\n",
              "      <th>month_of_exposition</th>\n",
              "      <th>year_of_exposition</th>\n",
              "      <th>floors_category</th>\n",
              "      <th>distance_to_centre</th>\n",
              "    </tr>\n",
              "  </thead>\n",
              "  <tbody>\n",
              "    <tr>\n",
              "      <th>0</th>\n",
              "      <td>20</td>\n",
              "      <td>13000000.0</td>\n",
              "      <td>108.0</td>\n",
              "      <td>2019-03-07</td>\n",
              "      <td>3</td>\n",
              "      <td>2.70</td>\n",
              "      <td>16.0</td>\n",
              "      <td>51.000000</td>\n",
              "      <td>8</td>\n",
              "      <td>False</td>\n",
              "      <td>...</td>\n",
              "      <td>482.0</td>\n",
              "      <td>2.0</td>\n",
              "      <td>755.0</td>\n",
              "      <td>95.0</td>\n",
              "      <td>171052.631579</td>\n",
              "      <td>3</td>\n",
              "      <td>3</td>\n",
              "      <td>2019</td>\n",
              "      <td>Другой</td>\n",
              "      <td>16.028</td>\n",
              "    </tr>\n",
              "    <tr>\n",
              "      <th>1</th>\n",
              "      <td>7</td>\n",
              "      <td>3350000.0</td>\n",
              "      <td>40.4</td>\n",
              "      <td>2018-12-04</td>\n",
              "      <td>1</td>\n",
              "      <td>2.65</td>\n",
              "      <td>11.0</td>\n",
              "      <td>18.600000</td>\n",
              "      <td>1</td>\n",
              "      <td>False</td>\n",
              "      <td>...</td>\n",
              "      <td>NaN</td>\n",
              "      <td>0.0</td>\n",
              "      <td>NaN</td>\n",
              "      <td>81.0</td>\n",
              "      <td>113175.675676</td>\n",
              "      <td>1</td>\n",
              "      <td>12</td>\n",
              "      <td>2018</td>\n",
              "      <td>Первый</td>\n",
              "      <td>18.603</td>\n",
              "    </tr>\n",
              "    <tr>\n",
              "      <th>2</th>\n",
              "      <td>10</td>\n",
              "      <td>5196000.0</td>\n",
              "      <td>56.0</td>\n",
              "      <td>2015-08-20</td>\n",
              "      <td>2</td>\n",
              "      <td>2.65</td>\n",
              "      <td>5.0</td>\n",
              "      <td>34.300000</td>\n",
              "      <td>4</td>\n",
              "      <td>False</td>\n",
              "      <td>...</td>\n",
              "      <td>90.0</td>\n",
              "      <td>2.0</td>\n",
              "      <td>574.0</td>\n",
              "      <td>558.0</td>\n",
              "      <td>121971.830986</td>\n",
              "      <td>3</td>\n",
              "      <td>8</td>\n",
              "      <td>2015</td>\n",
              "      <td>Другой</td>\n",
              "      <td>13.933</td>\n",
              "    </tr>\n",
              "    <tr>\n",
              "      <th>3</th>\n",
              "      <td>0</td>\n",
              "      <td>64900000.0</td>\n",
              "      <td>159.0</td>\n",
              "      <td>2015-07-24</td>\n",
              "      <td>3</td>\n",
              "      <td>2.65</td>\n",
              "      <td>14.0</td>\n",
              "      <td>129.194402</td>\n",
              "      <td>9</td>\n",
              "      <td>False</td>\n",
              "      <td>...</td>\n",
              "      <td>84.0</td>\n",
              "      <td>3.0</td>\n",
              "      <td>234.0</td>\n",
              "      <td>424.0</td>\n",
              "      <td>408176.100629</td>\n",
              "      <td>4</td>\n",
              "      <td>7</td>\n",
              "      <td>2015</td>\n",
              "      <td>Другой</td>\n",
              "      <td>6.800</td>\n",
              "    </tr>\n",
              "    <tr>\n",
              "      <th>4</th>\n",
              "      <td>2</td>\n",
              "      <td>10000000.0</td>\n",
              "      <td>100.0</td>\n",
              "      <td>2018-06-19</td>\n",
              "      <td>2</td>\n",
              "      <td>3.03</td>\n",
              "      <td>14.0</td>\n",
              "      <td>32.000000</td>\n",
              "      <td>13</td>\n",
              "      <td>False</td>\n",
              "      <td>...</td>\n",
              "      <td>112.0</td>\n",
              "      <td>1.0</td>\n",
              "      <td>48.0</td>\n",
              "      <td>121.0</td>\n",
              "      <td>250000.000000</td>\n",
              "      <td>1</td>\n",
              "      <td>6</td>\n",
              "      <td>2018</td>\n",
              "      <td>Другой</td>\n",
              "      <td>8.098</td>\n",
              "    </tr>\n",
              "  </tbody>\n",
              "</table>\n",
              "<p>5 rows × 28 columns</p>\n",
              "</div>"
            ],
            "text/plain": [
              "   total_images  last_price  total_area first_day_exposition  rooms  \\\n",
              "0            20  13000000.0       108.0           2019-03-07      3   \n",
              "1             7   3350000.0        40.4           2018-12-04      1   \n",
              "2            10   5196000.0        56.0           2015-08-20      2   \n",
              "3             0  64900000.0       159.0           2015-07-24      3   \n",
              "4             2  10000000.0       100.0           2018-06-19      2   \n",
              "\n",
              "   ceiling_height  floors_total  living_area  floor is_apartment  ...  \\\n",
              "0            2.70          16.0    51.000000      8        False  ...   \n",
              "1            2.65          11.0    18.600000      1        False  ...   \n",
              "2            2.65           5.0    34.300000      4        False  ...   \n",
              "3            2.65          14.0   129.194402      9        False  ...   \n",
              "4            3.03          14.0    32.000000     13        False  ...   \n",
              "\n",
              "  parks_nearest ponds_around3000  ponds_nearest  days_exposition  \\\n",
              "0         482.0              2.0          755.0             95.0   \n",
              "1           NaN              0.0            NaN             81.0   \n",
              "2          90.0              2.0          574.0            558.0   \n",
              "3          84.0              3.0          234.0            424.0   \n",
              "4         112.0              1.0           48.0            121.0   \n",
              "\n",
              "  square_meter_price  week_day  month_of_exposition  year_of_exposition  \\\n",
              "0      171052.631579         3                    3                2019   \n",
              "1      113175.675676         1                   12                2018   \n",
              "2      121971.830986         3                    8                2015   \n",
              "3      408176.100629         4                    7                2015   \n",
              "4      250000.000000         1                    6                2018   \n",
              "\n",
              "   floors_category  distance_to_centre  \n",
              "0           Другой              16.028  \n",
              "1           Первый              18.603  \n",
              "2           Другой              13.933  \n",
              "3           Другой               6.800  \n",
              "4           Другой               8.098  \n",
              "\n",
              "[5 rows x 28 columns]"
            ]
          },
          "execution_count": 28,
          "metadata": {},
          "output_type": "execute_result"
        }
      ],
      "source": [
        "data['distance_to_centre'] = data['cityCenters_nearest'] / 1000\n",
        "data.head()"
      ]
    },
    {
      "cell_type": "markdown",
      "metadata": {
        "id": "2my1BPM_bSZZ"
      },
      "source": [
        "### Проведите исследовательский анализ данных"
      ]
    },
    {
      "cell_type": "code",
      "execution_count": null,
      "metadata": {
        "scrolled": true,
        "id": "hwEdvR3TbSZZ",
        "outputId": "8e24f7f4-0bed-410f-8031-e364f07ea4ad"
      },
      "outputs": [
        {
          "data": {
            "text/html": [
              "<div>\n",
              "<style scoped>\n",
              "    .dataframe tbody tr th:only-of-type {\n",
              "        vertical-align: middle;\n",
              "    }\n",
              "\n",
              "    .dataframe tbody tr th {\n",
              "        vertical-align: top;\n",
              "    }\n",
              "\n",
              "    .dataframe thead th {\n",
              "        text-align: right;\n",
              "    }\n",
              "</style>\n",
              "<table border=\"1\" class=\"dataframe\">\n",
              "  <thead>\n",
              "    <tr style=\"text-align: right;\">\n",
              "      <th></th>\n",
              "      <th>total_images</th>\n",
              "      <th>last_price</th>\n",
              "      <th>total_area</th>\n",
              "      <th>rooms</th>\n",
              "      <th>ceiling_height</th>\n",
              "      <th>floors_total</th>\n",
              "      <th>living_area</th>\n",
              "      <th>floor</th>\n",
              "      <th>kitchen_area</th>\n",
              "      <th>balcony</th>\n",
              "      <th>...</th>\n",
              "      <th>parks_around3000</th>\n",
              "      <th>parks_nearest</th>\n",
              "      <th>ponds_around3000</th>\n",
              "      <th>ponds_nearest</th>\n",
              "      <th>days_exposition</th>\n",
              "      <th>square_meter_price</th>\n",
              "      <th>week_day</th>\n",
              "      <th>month_of_exposition</th>\n",
              "      <th>year_of_exposition</th>\n",
              "      <th>distance_to_centre</th>\n",
              "    </tr>\n",
              "  </thead>\n",
              "  <tbody>\n",
              "    <tr>\n",
              "      <th>count</th>\n",
              "      <td>23699.000000</td>\n",
              "      <td>2.369900e+04</td>\n",
              "      <td>23699.000000</td>\n",
              "      <td>23699.000000</td>\n",
              "      <td>23699.000000</td>\n",
              "      <td>23613.000000</td>\n",
              "      <td>23699.000000</td>\n",
              "      <td>23699.000000</td>\n",
              "      <td>23699.000000</td>\n",
              "      <td>23699.000000</td>\n",
              "      <td>...</td>\n",
              "      <td>23699.000000</td>\n",
              "      <td>8082.000000</td>\n",
              "      <td>23699.000000</td>\n",
              "      <td>9113.000000</td>\n",
              "      <td>23699.000000</td>\n",
              "      <td>2.369900e+04</td>\n",
              "      <td>23699.000000</td>\n",
              "      <td>23699.000000</td>\n",
              "      <td>23699.000000</td>\n",
              "      <td>18181.000000</td>\n",
              "    </tr>\n",
              "    <tr>\n",
              "      <th>mean</th>\n",
              "      <td>9.857167</td>\n",
              "      <td>6.537882e+06</td>\n",
              "      <td>60.335207</td>\n",
              "      <td>2.071733</td>\n",
              "      <td>2.694012</td>\n",
              "      <td>10.671579</td>\n",
              "      <td>35.822965</td>\n",
              "      <td>5.891430</td>\n",
              "      <td>10.579931</td>\n",
              "      <td>0.592472</td>\n",
              "      <td>...</td>\n",
              "      <td>0.470442</td>\n",
              "      <td>490.373299</td>\n",
              "      <td>0.592219</td>\n",
              "      <td>517.620762</td>\n",
              "      <td>169.329845</td>\n",
              "      <td>1.317618e+05</td>\n",
              "      <td>2.569391</td>\n",
              "      <td>6.399046</td>\n",
              "      <td>2017.355120</td>\n",
              "      <td>14.187834</td>\n",
              "    </tr>\n",
              "    <tr>\n",
              "      <th>std</th>\n",
              "      <td>5.681921</td>\n",
              "      <td>1.088082e+07</td>\n",
              "      <td>35.658772</td>\n",
              "      <td>1.079936</td>\n",
              "      <td>0.211141</td>\n",
              "      <td>6.596134</td>\n",
              "      <td>23.985181</td>\n",
              "      <td>4.883388</td>\n",
              "      <td>5.534441</td>\n",
              "      <td>0.963072</td>\n",
              "      <td>...</td>\n",
              "      <td>0.753646</td>\n",
              "      <td>342.482551</td>\n",
              "      <td>0.888007</td>\n",
              "      <td>277.899092</td>\n",
              "      <td>206.545889</td>\n",
              "      <td>8.288646e+04</td>\n",
              "      <td>1.788749</td>\n",
              "      <td>3.492062</td>\n",
              "      <td>1.283991</td>\n",
              "      <td>8.611549</td>\n",
              "    </tr>\n",
              "    <tr>\n",
              "      <th>min</th>\n",
              "      <td>0.000000</td>\n",
              "      <td>6.000000e+00</td>\n",
              "      <td>6.000000</td>\n",
              "      <td>0.000000</td>\n",
              "      <td>2.000000</td>\n",
              "      <td>1.000000</td>\n",
              "      <td>6.000000</td>\n",
              "      <td>1.000000</td>\n",
              "      <td>0.000000</td>\n",
              "      <td>0.000000</td>\n",
              "      <td>...</td>\n",
              "      <td>0.000000</td>\n",
              "      <td>1.000000</td>\n",
              "      <td>0.000000</td>\n",
              "      <td>6.000000</td>\n",
              "      <td>1.000000</td>\n",
              "      <td>5.000000e-01</td>\n",
              "      <td>0.000000</td>\n",
              "      <td>1.000000</td>\n",
              "      <td>1970.000000</td>\n",
              "      <td>0.006000</td>\n",
              "    </tr>\n",
              "    <tr>\n",
              "      <th>25%</th>\n",
              "      <td>6.000000</td>\n",
              "      <td>3.400000e+06</td>\n",
              "      <td>40.000000</td>\n",
              "      <td>1.000000</td>\n",
              "      <td>2.600000</td>\n",
              "      <td>5.000000</td>\n",
              "      <td>19.000000</td>\n",
              "      <td>2.000000</td>\n",
              "      <td>7.800000</td>\n",
              "      <td>0.000000</td>\n",
              "      <td>...</td>\n",
              "      <td>0.000000</td>\n",
              "      <td>287.000000</td>\n",
              "      <td>0.000000</td>\n",
              "      <td>293.000000</td>\n",
              "      <td>45.000000</td>\n",
              "      <td>9.577151e+04</td>\n",
              "      <td>1.000000</td>\n",
              "      <td>3.000000</td>\n",
              "      <td>2017.000000</td>\n",
              "      <td>9.234000</td>\n",
              "    </tr>\n",
              "    <tr>\n",
              "      <th>50%</th>\n",
              "      <td>9.000000</td>\n",
              "      <td>4.650000e+06</td>\n",
              "      <td>52.000000</td>\n",
              "      <td>2.000000</td>\n",
              "      <td>2.650000</td>\n",
              "      <td>9.000000</td>\n",
              "      <td>31.000000</td>\n",
              "      <td>4.000000</td>\n",
              "      <td>9.000000</td>\n",
              "      <td>0.000000</td>\n",
              "      <td>...</td>\n",
              "      <td>0.000000</td>\n",
              "      <td>454.000000</td>\n",
              "      <td>0.000000</td>\n",
              "      <td>502.000000</td>\n",
              "      <td>95.000000</td>\n",
              "      <td>1.223629e+05</td>\n",
              "      <td>3.000000</td>\n",
              "      <td>6.000000</td>\n",
              "      <td>2017.000000</td>\n",
              "      <td>13.098000</td>\n",
              "    </tr>\n",
              "    <tr>\n",
              "      <th>75%</th>\n",
              "      <td>14.000000</td>\n",
              "      <td>6.799500e+06</td>\n",
              "      <td>69.800000</td>\n",
              "      <td>3.000000</td>\n",
              "      <td>2.700000</td>\n",
              "      <td>16.000000</td>\n",
              "      <td>43.200000</td>\n",
              "      <td>8.000000</td>\n",
              "      <td>12.000000</td>\n",
              "      <td>1.000000</td>\n",
              "      <td>...</td>\n",
              "      <td>1.000000</td>\n",
              "      <td>612.000000</td>\n",
              "      <td>1.000000</td>\n",
              "      <td>729.000000</td>\n",
              "      <td>199.000000</td>\n",
              "      <td>1.517241e+05</td>\n",
              "      <td>4.000000</td>\n",
              "      <td>10.000000</td>\n",
              "      <td>2018.000000</td>\n",
              "      <td>16.293000</td>\n",
              "    </tr>\n",
              "    <tr>\n",
              "      <th>max</th>\n",
              "      <td>50.000000</td>\n",
              "      <td>7.630000e+08</td>\n",
              "      <td>900.000000</td>\n",
              "      <td>19.000000</td>\n",
              "      <td>6.000000</td>\n",
              "      <td>60.000000</td>\n",
              "      <td>512.714892</td>\n",
              "      <td>33.000000</td>\n",
              "      <td>230.000000</td>\n",
              "      <td>6.000000</td>\n",
              "      <td>...</td>\n",
              "      <td>6.000000</td>\n",
              "      <td>3190.000000</td>\n",
              "      <td>6.000000</td>\n",
              "      <td>1344.000000</td>\n",
              "      <td>1580.000000</td>\n",
              "      <td>4.034008e+06</td>\n",
              "      <td>6.000000</td>\n",
              "      <td>12.000000</td>\n",
              "      <td>2019.000000</td>\n",
              "      <td>65.968000</td>\n",
              "    </tr>\n",
              "  </tbody>\n",
              "</table>\n",
              "<p>8 rows × 22 columns</p>\n",
              "</div>"
            ],
            "text/plain": [
              "       total_images    last_price    total_area         rooms  ceiling_height  \\\n",
              "count  23699.000000  2.369900e+04  23699.000000  23699.000000    23699.000000   \n",
              "mean       9.857167  6.537882e+06     60.335207      2.071733        2.694012   \n",
              "std        5.681921  1.088082e+07     35.658772      1.079936        0.211141   \n",
              "min        0.000000  6.000000e+00      6.000000      0.000000        2.000000   \n",
              "25%        6.000000  3.400000e+06     40.000000      1.000000        2.600000   \n",
              "50%        9.000000  4.650000e+06     52.000000      2.000000        2.650000   \n",
              "75%       14.000000  6.799500e+06     69.800000      3.000000        2.700000   \n",
              "max       50.000000  7.630000e+08    900.000000     19.000000        6.000000   \n",
              "\n",
              "       floors_total   living_area         floor  kitchen_area       balcony  \\\n",
              "count  23613.000000  23699.000000  23699.000000  23699.000000  23699.000000   \n",
              "mean      10.671579     35.822965      5.891430     10.579931      0.592472   \n",
              "std        6.596134     23.985181      4.883388      5.534441      0.963072   \n",
              "min        1.000000      6.000000      1.000000      0.000000      0.000000   \n",
              "25%        5.000000     19.000000      2.000000      7.800000      0.000000   \n",
              "50%        9.000000     31.000000      4.000000      9.000000      0.000000   \n",
              "75%       16.000000     43.200000      8.000000     12.000000      1.000000   \n",
              "max       60.000000    512.714892     33.000000    230.000000      6.000000   \n",
              "\n",
              "       ...  parks_around3000  parks_nearest  ponds_around3000  ponds_nearest  \\\n",
              "count  ...      23699.000000    8082.000000      23699.000000    9113.000000   \n",
              "mean   ...          0.470442     490.373299          0.592219     517.620762   \n",
              "std    ...          0.753646     342.482551          0.888007     277.899092   \n",
              "min    ...          0.000000       1.000000          0.000000       6.000000   \n",
              "25%    ...          0.000000     287.000000          0.000000     293.000000   \n",
              "50%    ...          0.000000     454.000000          0.000000     502.000000   \n",
              "75%    ...          1.000000     612.000000          1.000000     729.000000   \n",
              "max    ...          6.000000    3190.000000          6.000000    1344.000000   \n",
              "\n",
              "       days_exposition  square_meter_price      week_day  month_of_exposition  \\\n",
              "count     23699.000000        2.369900e+04  23699.000000         23699.000000   \n",
              "mean        169.329845        1.317618e+05      2.569391             6.399046   \n",
              "std         206.545889        8.288646e+04      1.788749             3.492062   \n",
              "min           1.000000        5.000000e-01      0.000000             1.000000   \n",
              "25%          45.000000        9.577151e+04      1.000000             3.000000   \n",
              "50%          95.000000        1.223629e+05      3.000000             6.000000   \n",
              "75%         199.000000        1.517241e+05      4.000000            10.000000   \n",
              "max        1580.000000        4.034008e+06      6.000000            12.000000   \n",
              "\n",
              "       year_of_exposition  distance_to_centre  \n",
              "count        23699.000000        18181.000000  \n",
              "mean          2017.355120           14.187834  \n",
              "std              1.283991            8.611549  \n",
              "min           1970.000000            0.006000  \n",
              "25%           2017.000000            9.234000  \n",
              "50%           2017.000000           13.098000  \n",
              "75%           2018.000000           16.293000  \n",
              "max           2019.000000           65.968000  \n",
              "\n",
              "[8 rows x 22 columns]"
            ]
          },
          "execution_count": 29,
          "metadata": {},
          "output_type": "execute_result"
        }
      ],
      "source": [
        "data.describe()"
      ]
    },
    {
      "cell_type": "code",
      "execution_count": null,
      "metadata": {
        "id": "FFrHFlulbSZZ",
        "outputId": "ee7f37b6-1d8e-4ac2-a65c-7ddc58637e6c"
      },
      "outputs": [
        {
          "data": {
            "image/png": "[encoded data removed]",
            "text/plain": [
              "<Figure size 432x288 with 1 Axes>"
            ]
          },
          "metadata": {
            "needs_background": "light"
          },
          "output_type": "display_data"
        }
      ],
      "source": [
        "total_area_filtered = data[(data['total_area']<(69+(69-52)*1.5))&(data['total_area']>(39-(69-52)*1.5))]['total_area']\n",
        "\n",
        "total_area_filtered_df = pd.DataFrame(data=total_area_filtered)\n",
        "\n",
        "total_area_filtered_df.hist()\n",
        "\n",
        "data['total_area_filtered_df'] = total_area_filtered_df\n"
      ]
    },
    {
      "cell_type": "code",
      "execution_count": null,
      "metadata": {
        "id": "N0xIXQ73bSZa",
        "outputId": "db1c501c-70f5-4c4e-c984-4f9425515db5"
      },
      "outputs": [
        {
          "data": {
            "image/png": "[encoded data removed]",
            "text/plain": [
              "<Figure size 432x288 with 1 Axes>"
            ]
          },
          "metadata": {
            "needs_background": "light"
          },
          "output_type": "display_data"
        }
      ],
      "source": [
        "living_area_filtered = data[(data['living_area']<(39+(39-18)*1.5))]['living_area']\n",
        "\n",
        "living_area_filtered_df = pd.DataFrame(data=living_area_filtered)\n",
        "\n",
        "living_area_filtered_df.hist(bins=50,range=(0,100))\n",
        "\n",
        "data['living_area_filtered_df'] = living_area_filtered_df\n"
      ]
    },
    {
      "cell_type": "code",
      "execution_count": null,
      "metadata": {
        "id": "-smjTfDpbSZa",
        "outputId": "fccadbbf-1939-495e-f937-811bac6c2d99"
      },
      "outputs": [
        {
          "data": {
            "image/png": "[encoded data removed]",
            "text/plain": [
              "<Figure size 432x288 with 1 Axes>"
            ]
          },
          "metadata": {
            "needs_background": "light"
          },
          "output_type": "display_data"
        }
      ],
      "source": [
        "kitchen_area_filtered = data[(data['kitchen_area']<(11+(11-7)*1.5))&((data['kitchen_area']>(7-(11-7)*1.5)))]['kitchen_area']\n",
        "\n",
        "kitchen_area_filtered_df = pd.DataFrame(data=kitchen_area_filtered)\n",
        "\n",
        "kitchen_area_filtered_df.hist(bins=40,range=(0,20))\n",
        "\n",
        "data['kitchen_area_filtered_df'] = kitchen_area_filtered_df"
      ]
    },
    {
      "cell_type": "markdown",
      "metadata": {
        "id": "anTSC7QkbSZa"
      },
      "source": [
        "Чаще всего покупают квартиры обще площадью примерно 50 м^2, жилой площадью чуть больше 30 м^2 и площадью кухни чуть меньше 25 м^2."
      ]
    },
    {
      "cell_type": "code",
      "execution_count": null,
      "metadata": {
        "id": "rZnm2S6NbSZa",
        "outputId": "d954d050-4956-4e7c-80d4-a9973b9072c9"
      },
      "outputs": [
        {
          "data": {
            "image/png": "[encoded data removed]",
            "text/plain": [
              "<Figure size 432x288 with 1 Axes>"
            ]
          },
          "metadata": {
            "needs_background": "light"
          },
          "output_type": "display_data"
        }
      ],
      "source": [
        "last_price_filtered = data[(data['last_price']<(5800000+(5800000-3280000)*1.5))&((data['last_price']>(3280000-(5800000-3280000)*1.5)))]['last_price']\n",
        "\n",
        "last_price_filtered_df = pd.DataFrame(data=last_price_filtered)\n",
        "\n",
        "last_price_filtered_df.hist(bins=100)\n",
        "\n",
        "data['last_price_filtered_df'] = last_price_filtered_df"
      ]
    },
    {
      "cell_type": "code",
      "execution_count": null,
      "metadata": {
        "scrolled": true,
        "id": "hJdadCm_bSZa",
        "outputId": "d00433ef-9925-4912-c607-c889abada0c4"
      },
      "outputs": [
        {
          "data": {
            "image/png": "[encoded data removed]",
            "text/plain": [
              "<Figure size 432x288 with 1 Axes>"
            ]
          },
          "metadata": {
            "needs_background": "light"
          },
          "output_type": "display_data"
        }
      ],
      "source": [
        "rooms_filtered = data[(data['rooms']<6)]['rooms']\n",
        "\n",
        "rooms_filtered_df = pd.DataFrame(data=rooms_filtered)\n",
        "\n",
        "rooms_filtered_df.hist(bins=6)\n",
        "\n",
        "data['rooms_filtered_df']=rooms_filtered_df"
      ]
    },
    {
      "cell_type": "markdown",
      "metadata": {
        "id": "jH0ksCnRbSZb"
      },
      "source": [
        "Квартир ценой примерно 4-5 миллиона рублей продано больше всего, а именно чуть менее 5000 штук."
      ]
    },
    {
      "cell_type": "markdown",
      "metadata": {
        "id": "Ewc0qCAZbSZb"
      },
      "source": [
        "Около 8000 проданых квартир были однокомнатные и двукомнатные. Чуть хуже продаются трехкомнатные квартиры, около 6000. Квартир с большим количеством комнат продано сильно меньше."
      ]
    },
    {
      "cell_type": "code",
      "execution_count": null,
      "metadata": {
        "id": "aqO6NORWbSZb",
        "outputId": "c624dbe1-0953-4133-98b1-8381caedf02b"
      },
      "outputs": [
        {
          "name": "stdout",
          "output_type": "stream",
          "text": [
            "count    23699.000000\n",
            "mean         2.694012\n",
            "std          0.211141\n",
            "min          2.000000\n",
            "25%          2.600000\n",
            "50%          2.650000\n",
            "75%          2.700000\n",
            "max          6.000000\n",
            "Name: ceiling_height, dtype: float64\n"
          ]
        },
        {
          "data": {
            "image/png": "[encoded data removed]",
            "text/plain": [
              "<Figure size 432x288 with 1 Axes>"
            ]
          },
          "metadata": {
            "needs_background": "light"
          },
          "output_type": "display_data"
        }
      ],
      "source": [
        "print(data['ceiling_height'].describe())\n",
        "\n",
        "ceiling_height_filtered = data[(data['ceiling_height']<3)&(data['ceiling_height']>2.4)]['ceiling_height']\n",
        "\n",
        "ceiling_height_filtered_df = pd.DataFrame(data=ceiling_height_filtered)\n",
        "\n",
        "ceiling_height_filtered_df.hist()\n",
        "\n",
        "data['ceiling_height_filtered_df'] = ceiling_height_filtered_df"
      ]
    },
    {
      "cell_type": "markdown",
      "metadata": {
        "id": "Ym3dIqWDbSZb"
      },
      "source": [
        "Больше всего продано квартир с высотой потолка около 2.7 метра, больше 12000. Более, чем в два раза меньше проданых квартир с высотой потолка примерно 2.5 метра, таких продано 5000 штук."
      ]
    },
    {
      "cell_type": "code",
      "execution_count": null,
      "metadata": {
        "id": "ZO_EtATMbSZb",
        "outputId": "57023901-01d6-45e7-c51c-6a67086fa03d"
      },
      "outputs": [
        {
          "data": {
            "image/png": "[encoded data removed]",
            "text/plain": [
              "<Figure size 432x288 with 1 Axes>"
            ]
          },
          "metadata": {
            "needs_background": "light"
          },
          "output_type": "display_data"
        }
      ],
      "source": [
        "floor_filtered = data[(data['floor']<16)]['floor']\n",
        "\n",
        "floor_filtered_df = pd.DataFrame(data=floor_filtered)\n",
        "\n",
        "floor_filtered_df.hist(bins=16)\n",
        "\n",
        "data['floor_filtered_df'] = floor_filtered_df"
      ]
    },
    {
      "cell_type": "code",
      "execution_count": null,
      "metadata": {
        "id": "NhitNLzMbSZc",
        "outputId": "db2b3e83-2198-4a19-ea64-0ac12c6011cb"
      },
      "outputs": [
        {
          "data": {
            "text/plain": [
              "<AxesSubplot:>"
            ]
          },
          "execution_count": 37,
          "metadata": {},
          "output_type": "execute_result"
        },
        {
          "data": {
            "image/png": "[encoded data removed]",
            "text/plain": [
              "<Figure size 432x288 with 1 Axes>"
            ]
          },
          "metadata": {
            "needs_background": "light"
          },
          "output_type": "display_data"
        }
      ],
      "source": [
        "data['floors_category'].hist(bins=3,legend='floors_category')\n"
      ]
    },
    {
      "cell_type": "markdown",
      "metadata": {
        "id": "r1S9iBSQbSZc"
      },
      "source": [
        "Около 3000 проданых квартир были на втором, третьем, четвертом этажах, примерно столько же квартир было продано на первом этаже. Начиная с пятого этажа, количество проданых квартир сильно падает."
      ]
    },
    {
      "cell_type": "code",
      "execution_count": null,
      "metadata": {
        "id": "cL5Ii5xIbSZc",
        "outputId": "8ce03a2e-c093-4619-fff6-919facce8370"
      },
      "outputs": [
        {
          "data": {
            "image/png": "[encoded data removed]",
            "text/plain": [
              "<Figure size 432x288 with 1 Axes>"
            ]
          },
          "metadata": {
            "needs_background": "light"
          },
          "output_type": "display_data"
        }
      ],
      "source": [
        "floors_total_filtered = data[data['floors_total']<22]['floors_total']\n",
        "floors_total_filtered_df = pd.DataFrame(data=floors_total_filtered)\n",
        "\n",
        "floors_total_filtered_df.hist(bins=22)\n",
        "\n",
        "data['floors_total_filtered_df'] = floors_total_filtered_df"
      ]
    },
    {
      "cell_type": "markdown",
      "metadata": {
        "id": "qGgrzs7_bSZd"
      },
      "source": [
        "Выделяются пятиэтажные дома (больше 5000 квартир продано в таких домах), девятиэтажные (примерно 4000)."
      ]
    },
    {
      "cell_type": "code",
      "execution_count": null,
      "metadata": {
        "id": "l9iesnzvbSZd",
        "outputId": "899c09ec-1a39-48e5-e6d7-625478795bb3"
      },
      "outputs": [
        {
          "data": {
            "image/png": "[encoded data removed]",
            "text/plain": [
              "<Figure size 432x288 with 1 Axes>"
            ]
          },
          "metadata": {
            "needs_background": "light"
          },
          "output_type": "display_data"
        }
      ],
      "source": [
        "distance_to_centre_filtered = data[data['distance_to_centre']<27]['distance_to_centre']\n",
        "distance_to_centre_filtered_df = pd.DataFrame(data=distance_to_centre_filtered)\n",
        "\n",
        "distance_to_centre_filtered_df.hist()\n",
        "\n",
        "data['distance_to_centre_filtered_df'] = distance_to_centre_filtered_df"
      ]
    },
    {
      "cell_type": "markdown",
      "metadata": {
        "id": "arSbepxlbSZd"
      },
      "source": [
        "Больше всего квартир было продано в примерно 10-15 километрах от центра города."
      ]
    },
    {
      "cell_type": "code",
      "execution_count": null,
      "metadata": {
        "id": "_6G8Tz-ybSZe",
        "outputId": "0fc27b10-16db-4efb-84b6-c9f2d17d2a90"
      },
      "outputs": [
        {
          "name": "stdout",
          "output_type": "stream",
          "text": [
            "count    18158.000000\n",
            "mean     28784.540643\n",
            "std      12641.015192\n",
            "min          0.000000\n",
            "25%      18576.000000\n",
            "50%      26723.500000\n",
            "75%      37273.000000\n",
            "max      84869.000000\n",
            "Name: airports_nearest, dtype: float64\n"
          ]
        },
        {
          "data": {
            "image/png": "[encoded data removed]",
            "text/plain": [
              "<Figure size 432x288 with 1 Axes>"
            ]
          },
          "metadata": {
            "needs_background": "light"
          },
          "output_type": "display_data"
        }
      ],
      "source": [
        "print(data['airports_nearest'].describe())\n",
        "\n",
        "airports_nearest_filtered = data[data['airports_nearest']<65249]['airports_nearest']\n",
        "\n",
        "airports_nearest_filtered_df = pd.DataFrame(data=airports_nearest_filtered)\n",
        "\n",
        "airports_nearest_filtered_df.hist(bins=50)\n",
        "\n",
        "data['airports_nearest_filtered_df'] = airports_nearest_filtered_df"
      ]
    },
    {
      "cell_type": "markdown",
      "metadata": {
        "id": "AO7gp3M3bSZe"
      },
      "source": [
        "Основная часть проданых квартир примерно в 20 километрах от ближайших аэропортов."
      ]
    },
    {
      "cell_type": "code",
      "execution_count": null,
      "metadata": {
        "id": "JdiHsZtBbSZe",
        "outputId": "baf49d31-03b0-407a-cbed-a403628f21f4"
      },
      "outputs": [
        {
          "data": {
            "text/plain": [
              "<AxesSubplot:>"
            ]
          },
          "execution_count": 41,
          "metadata": {},
          "output_type": "execute_result"
        },
        {
          "data": {
            "image/png": "[encoded data removed]",
            "text/plain": [
              "<Figure size 432x288 with 1 Axes>"
            ]
          },
          "metadata": {
            "needs_background": "light"
          },
          "output_type": "display_data"
        }
      ],
      "source": [
        "data['parks_nearest'].hist(bins=50,legend='parks_nearest')"
      ]
    },
    {
      "cell_type": "markdown",
      "metadata": {
        "id": "6saNGg9IbSZf"
      },
      "source": [
        "Основная часть проданых квартир примерно в 500 метрах от ближайших парков."
      ]
    },
    {
      "cell_type": "code",
      "execution_count": null,
      "metadata": {
        "id": "5crnFlRtbSZf",
        "outputId": "46565365-ae75-4fdc-d3bc-324c772a06e4"
      },
      "outputs": [
        {
          "data": {
            "text/plain": [
              "<AxesSubplot:>"
            ]
          },
          "execution_count": 42,
          "metadata": {},
          "output_type": "execute_result"
        },
        {
          "data": {
            "image/png": "[encoded data removed]",
            "text/plain": [
              "<Figure size 432x288 with 1 Axes>"
            ]
          },
          "metadata": {
            "needs_background": "light"
          },
          "output_type": "display_data"
        }
      ],
      "source": [
        "data['week_day'].hist(bins=7,legend='week_day')"
      ]
    },
    {
      "cell_type": "markdown",
      "metadata": {
        "id": "-f_b2M44bSZg"
      },
      "source": [
        "Основная часть продаж приходится на рабочую неделю, меньше всего продаж в выходные."
      ]
    },
    {
      "cell_type": "code",
      "execution_count": null,
      "metadata": {
        "id": "940cBUQNbSZg",
        "outputId": "8bfc5973-f8b3-45a6-9ac7-cf0828ba48ee"
      },
      "outputs": [
        {
          "data": {
            "text/plain": [
              "<AxesSubplot:>"
            ]
          },
          "execution_count": 43,
          "metadata": {},
          "output_type": "execute_result"
        },
        {
          "data": {
            "image/png": "[encoded data removed]",
            "text/plain": [
              "<Figure size 432x288 with 1 Axes>"
            ]
          },
          "metadata": {
            "needs_background": "light"
          },
          "output_type": "display_data"
        }
      ],
      "source": [
        "data['month_of_exposition'].hist(bins=12,legend='month_of_exposition')"
      ]
    },
    {
      "cell_type": "markdown",
      "metadata": {
        "id": "9Ss-3q9nbSZg"
      },
      "source": [
        "Основная часть продаж приходится на начало года, летом продажи резко падают и постепенно поднимаются к Новому Году."
      ]
    },
    {
      "cell_type": "code",
      "execution_count": null,
      "metadata": {
        "scrolled": true,
        "id": "7aA6L60gbSZg",
        "outputId": "0878efae-66e1-4750-db9a-cdf7d8953ca9"
      },
      "outputs": [
        {
          "data": {
            "image/png": "[encoded data removed]",
            "text/plain": [
              "<Figure size 432x288 with 1 Axes>"
            ]
          },
          "metadata": {
            "needs_background": "light"
          },
          "output_type": "display_data"
        }
      ],
      "source": [
        "days_exposition_filtered = data[data['days_exposition']<436]['days_exposition']\n",
        "\n",
        "days_exposition_filtered_df = pd.DataFrame(data=days_exposition_filtered)\n",
        "\n",
        "days_exposition_filtered_df.hist(bins=50)\n",
        "\n",
        "data['days_exposition_filtered_df'] = days_exposition_filtered_df"
      ]
    },
    {
      "cell_type": "code",
      "execution_count": null,
      "metadata": {
        "id": "UPMK8ArYbSZh",
        "outputId": "1a17d0dc-4188-45e6-de77-5c1d3183ce81"
      },
      "outputs": [
        {
          "data": {
            "text/plain": [
              "95.0"
            ]
          },
          "execution_count": 46,
          "metadata": {},
          "output_type": "execute_result"
        }
      ],
      "source": [
        "data['days_exposition'].median()"
      ]
    },
    {
      "cell_type": "code",
      "execution_count": null,
      "metadata": {
        "id": "b_EGnh-XbSZh",
        "outputId": "d06c5562-f574-49e3-c8d9-934dd642e3a4"
      },
      "outputs": [
        {
          "data": {
            "text/plain": [
              "169.3298451411452"
            ]
          },
          "execution_count": 47,
          "metadata": {},
          "output_type": "execute_result"
        }
      ],
      "source": [
        "data['days_exposition'].mean()"
      ]
    },
    {
      "cell_type": "markdown",
      "metadata": {
        "id": "L50_Mw94bSZh"
      },
      "source": [
        "Обычно продажа занимает примерно 50 дней. Объявлений, которые висели больше 200 дней, более чем пять раз меньше, чем тех, которые сняли через 50 дней. Поэтому можно считать продажи, совершившиеся больше чем через 200 дней после размещения объявления, долгими. Продажи, совершившиеся менее чем за 50 дней после размещения объявления, можно считать быстрыми."
      ]
    },
    {
      "cell_type": "markdown",
      "metadata": {
        "id": "JBpq5_2ebSZi"
      },
      "source": [
        "Строим графики медиан цен от различных значений параметров (общей площади, жилой площади и т.д.)"
      ]
    },
    {
      "cell_type": "code",
      "execution_count": null,
      "metadata": {
        "scrolled": true,
        "id": "liCITvdDbSZi",
        "outputId": "6ce4883e-a7a3-43ae-c251-e3573096f38d"
      },
      "outputs": [
        {
          "name": "stdout",
          "output_type": "stream",
          "text": [
            "0.6311903637153695\n"
          ]
        },
        {
          "data": {
            "image/png": "[encoded data removed]",
            "text/plain": [
              "<Figure size 432x288 with 1 Axes>"
            ]
          },
          "metadata": {
            "needs_background": "light"
          },
          "output_type": "display_data"
        }
      ],
      "source": [
        "data.pivot_table(index='total_area_filtered_df',values='last_price_filtered_df',aggfunc='median').plot()\n",
        "\n",
        "print(data['total_area_filtered_df'].corr(data['last_price_filtered_df']))"
      ]
    },
    {
      "cell_type": "code",
      "execution_count": null,
      "metadata": {
        "id": "-r4LFLkUbSZi",
        "outputId": "4f764ba9-c4bb-482e-f20d-5be4b8d3a391"
      },
      "outputs": [
        {
          "name": "stdout",
          "output_type": "stream",
          "text": [
            "0.6115653993601576\n"
          ]
        },
        {
          "data": {
            "image/png": "[encoded data removed]",
            "text/plain": [
              "<Figure size 432x288 with 1 Axes>"
            ]
          },
          "metadata": {
            "needs_background": "light"
          },
          "output_type": "display_data"
        }
      ],
      "source": [
        "data.pivot_table(index='living_area_filtered_df',values='last_price_filtered_df',aggfunc='median').plot()\n",
        "\n",
        "\n",
        "\n",
        "print(data.pivot_table(index='living_area_filtered_df',values='last_price_filtered_df',aggfunc='median').join(living_area_filtered_df)['living_area'].corr(data['last_price_filtered_df']))"
      ]
    },
    {
      "cell_type": "code",
      "execution_count": null,
      "metadata": {
        "scrolled": false,
        "id": "ggWjPoiebSZj",
        "outputId": "95a4c89f-0edc-45f8-9d39-71a56c2be943"
      },
      "outputs": [
        {
          "name": "stdout",
          "output_type": "stream",
          "text": [
            "0.4153426227419872\n"
          ]
        },
        {
          "data": {
            "image/png": "[encoded data removed]",
            "text/plain": [
              "<Figure size 432x288 with 1 Axes>"
            ]
          },
          "metadata": {
            "needs_background": "light"
          },
          "output_type": "display_data"
        }
      ],
      "source": [
        "data.pivot_table(index='kitchen_area_filtered_df',values='last_price_filtered_df',aggfunc='median').plot()\n",
        "\n",
        "#если проданых квартир с кухней площадью в райное 150 м^2 всего 1, томожно считать пик выбросом и не обращать на него внимание\n",
        "\n",
        "print(data['kitchen_area_filtered_df'].corr(data['last_price_filtered_df']))"
      ]
    },
    {
      "cell_type": "code",
      "execution_count": null,
      "metadata": {
        "id": "NnTn6io3bSZj",
        "outputId": "35a99d7d-d851-4c7f-b8ad-d8b2bbb1b972"
      },
      "outputs": [
        {
          "data": {
            "text/plain": [
              "<AxesSubplot:xlabel='rooms_filtered_df'>"
            ]
          },
          "execution_count": 52,
          "metadata": {},
          "output_type": "execute_result"
        },
        {
          "data": {
            "image/png": "[encoded data removed]",
            "text/plain": [
              "<Figure size 432x288 with 1 Axes>"
            ]
          },
          "metadata": {
            "needs_background": "light"
          },
          "output_type": "display_data"
        }
      ],
      "source": [
        "#Если проданых квартир с 12 комнатами всего 1, томожно считать пик на 12 выбросом и не обращать на него внимание\n",
        "\n",
        "data.pivot_table(index='rooms_filtered_df',values='last_price_filtered_df',aggfunc='median').plot()\n",
        "\n"
      ]
    },
    {
      "cell_type": "code",
      "execution_count": null,
      "metadata": {
        "id": "Nb-tACTZbSZj",
        "outputId": "bb37a5d2-4bc4-4daf-e618-020b8555199e"
      },
      "outputs": [
        {
          "data": {
            "text/plain": [
              "<AxesSubplot:xlabel='floors_category'>"
            ]
          },
          "execution_count": 53,
          "metadata": {},
          "output_type": "execute_result"
        },
        {
          "data": {
            "image/png": "[encoded data removed]",
            "text/plain": [
              "<Figure size 432x288 with 1 Axes>"
            ]
          },
          "metadata": {
            "needs_background": "light"
          },
          "output_type": "display_data"
        }
      ],
      "source": [
        "data.pivot_table(index='floors_category',values='last_price_filtered_df',aggfunc='median').plot()"
      ]
    },
    {
      "cell_type": "code",
      "execution_count": null,
      "metadata": {
        "scrolled": true,
        "id": "YZdA1JDsbSZj",
        "outputId": "b2d7d849-b9b6-49e0-c7cf-d6c2b6f0940c"
      },
      "outputs": [
        {
          "data": {
            "text/plain": [
              "<AxesSubplot:xlabel='first_day_exposition', ylabel='last_price_filtered_df'>"
            ]
          },
          "execution_count": 54,
          "metadata": {},
          "output_type": "execute_result"
        },
        {
          "data": {
            "image/png": "[encoded data removed]",
            "text/plain": [
              "<Figure size 432x288 with 1 Axes>"
            ]
          },
          "metadata": {
            "needs_background": "light"
          },
          "output_type": "display_data"
        }
      ],
      "source": [
        "data.plot(x='first_day_exposition',y='last_price_filtered_df',kind='scatter',alpha=0.15)"
      ]
    },
    {
      "cell_type": "markdown",
      "metadata": {
        "id": "1N5BHfLRbSZk"
      },
      "source": [
        "Чем больше общая площадь квартиры, тем больше она стоит. То же можно сказать и про жилую площадь, про площадь кухни, однако начиная с площади кухни в 200 м^2, явной зависимости между ценой и площадью кухни нет.\n",
        "\n",
        "Чем больше комнат в квартире, тем дороже она стоит.\n",
        "\n",
        "Цена также зависит от этажа. Чем выше квартира, тем она дороже, однако, самые дорогие квартиры находятся между первым и последним этажами.\n",
        "\n",
        "Явной зависимости цены от даты снятия объявления нет."
      ]
    },
    {
      "cell_type": "code",
      "execution_count": null,
      "metadata": {
        "id": "1cXuo0WybSZk",
        "outputId": "fcd7686c-7d2c-40ab-8d25-0f791a0e19c2"
      },
      "outputs": [
        {
          "name": "stdout",
          "output_type": "stream",
          "text": [
            "locality_name\n",
            "Санкт-Петербург      15716\n",
            "поселок Мурино         555\n",
            "поселок Шушары         440\n",
            "Всеволожск             398\n",
            "Пушкин                 369\n",
            "Колпино                338\n",
            "поселок Парголово      327\n",
            "Гатчина                307\n",
            "деревня Кудрово        299\n",
            "Выборг                 237\n",
            "Name: living_area, dtype: int64\n",
            "[[89759.72287247643, 'Выборг'], [115122.71054667888, 'Гатчина'], [118537.0791254846, 'Всеволожск'], [123101.6536252402, 'Колпино'], [135413.05198887672, 'поселок Шушары'], [150336.80311200977, 'поселок Мурино'], [164597.80087750344, 'деревня Кудрово'], [166613.3301232047, 'поселок Парголово'], [181243.96812426852, 'Пушкин'], [209676.61562595752, 'Санкт-Петербург']]\n"
          ]
        }
      ],
      "source": [
        "print(data.groupby('locality_name')['living_area'].count().sort_values(ascending=False).head(10))\n",
        "\n",
        "cities = ['Санкт-Петербург','поселок Мурино','поселок Шушары','Всеволожск','Пушкин','Колпино','поселок Парголово','Гатчина','деревня Кудрово','Выборг']\n",
        "\n",
        "dt = data.groupby('locality_name')[['living_area','last_price']].sum()['last_price']/data.groupby('locality_name')[['living_area','last_price']].sum()['living_area']\n",
        "\n",
        "average_cost_per_city = []\n",
        "\n",
        "for city in cities:\n",
        "    average_cost_per_city.append([dt.loc[city],city])\n",
        "\n",
        "print(sorted(average_cost_per_city))\n"
      ]
    },
    {
      "cell_type": "markdown",
      "metadata": {
        "id": "v45-JMIFbSZk"
      },
      "source": [
        "Самая дешевая площадь в Выборге, а самая дорогая в Санкт-Петербурге среди 10 населенных пунктов с наибольшим количеством объявлений."
      ]
    },
    {
      "cell_type": "code",
      "execution_count": null,
      "metadata": {
        "id": "zzBtgCS8bSZk",
        "outputId": "e546e966-b3ed-4c0e-d02d-7ed6d843fce8"
      },
      "outputs": [
        {
          "data": {
            "text/plain": [
              "<AxesSubplot:xlabel='distance_to_centre'>"
            ]
          },
          "execution_count": 56,
          "metadata": {},
          "output_type": "execute_result"
        },
        {
          "data": {
            "image/png": "[encoded data removed]",
            "text/plain": [
              "<Figure size 432x288 with 1 Axes>"
            ]
          },
          "metadata": {
            "needs_background": "light"
          },
          "output_type": "display_data"
        }
      ],
      "source": [
        "data.head()\n",
        "number_per_distance = data.loc[data['locality_name']=='Санкт-Петербург'].groupby('distance_to_centre')['last_price'].count()\n",
        "total_price = data.loc[data['locality_name']=='Санкт-Петербург'].groupby('distance_to_centre')['last_price'].sum()\n",
        "average_price = total_price / number_per_distance\n",
        "average_price.plot()"
      ]
    },
    {
      "cell_type": "markdown",
      "metadata": {
        "id": "3aTq6H19bSZl"
      },
      "source": [
        "Чем ближе к центру квартира, тем выше её цена."
      ]
    },
    {
      "cell_type": "markdown",
      "metadata": {
        "id": "UINGC-EcbSZl"
      },
      "source": [
        "### Общий вывод"
      ]
    },
    {
      "cell_type": "markdown",
      "metadata": {
        "id": "05M63HoGbSZl"
      },
      "source": [
        "Была выявлена зависимость между ценой и количеством комнат, площадью, расстоянием до центра для квартир в Санкт-Петербурге и этажом. Чем меньше площадь, чем меньше комнат, дальше центр, тем дешевле квартира.\n",
        "\n",
        "Также, чаще всего покупаются квартиры на нижних этажах, в 10-15 километрах от центра, в домах с, как правило, 5 и 9 этажами недалеко от парков.\n",
        "\n",
        "Чаще всего продаются квартиры зимой, ранней весной в течение рабочей недели."
      ]
    },
    {
      "cell_type": "markdown",
      "metadata": {
        "id": "qiC_pciAbSZl"
      },
      "source": [
        "\n",
        "\n",
        "    \n",
        "Было проведено исследование по выявлению зависимости цены квартиры от различных факторов. Для этого была изучена таблица с\n",
        "данными о проданных квартирах. Перед исследованием были поставлены следующие гипотезы:\n",
        "1) Цена квартиры зависит от жилой площади\n",
        "    \n",
        "2) Цена квартиры зависит от общей площади\n",
        "\n",
        "3) Цена квартиры зависит от площади кухни\n",
        "\n",
        "4) Цена квартиры зависит от количества комнат\n",
        "\n",
        "5) Цена квартиры зависит от этажа\n",
        "\n",
        "6) Цена квартиры зависит от даты размещения\n",
        "\n",
        "Первая гипотеза подтвердилась, коэффициент корреляции между жилой площадью и ценой равна 0,61. То же самое можно сказать про общую площадь, для неё коэффициент корреляции 0,63.\n",
        "Третья гипотеза частично подтвердилась, зависимость есть, но слабая: коэффициент корреляции равен 0,43.\n",
        "    \n",
        "Исходя из графиков, есть явная зависимость между количеством комнат в квартире и этажем. Самые дешевые квартиры находятся на первом этаже. Средняя цена для квартир на последнем этаже чуть выше. И самые дорогие находятся между первым и последним.\n",
        "Студии и квартиры с одной комнатой стоят в районе 3 - 3,5 миллионов рублей, а квартиры с пятью комнатами - больше семи миллионов. Таким образом, четвертая и пятая гипотезы подтверждаются.\n",
        "    \n",
        "Цена от даты размещения не зависит.\n",
        "\n",
        "\n",
        "    \n",
        "Также, в ходе исследования была найдена десятка мест, в которых больше всего продавались квартиры. В Санкт-Петербурге больше всего продаж - около 16 тысяч, а в Выборге меньше всего - около 237. При этом в Выборге самые дешевые квартиры со средней ценой в примерно 90 тыс. рублей за квадратный метр, и самые дорогие в Санкт-Петербурге - примерно 210 тыс. рублей.\n",
        "    \n"
      ]
    },
    {
      "cell_type": "code",
      "execution_count": null,
      "metadata": {
        "id": "sHmTMUMKbSZm"
      },
      "outputs": [],
      "source": []
    }
  ],
  "metadata": {
    "ExecuteTimeLog": [
      {
        "duration": 495,
        "start_time": "2022-09-02T11:18:33.250Z"
      },
      {
        "duration": 139,
        "start_time": "2022-09-02T11:18:44.941Z"
      },
      {
        "duration": 84,
        "start_time": "2022-09-02T11:18:57.482Z"
      },
      {
        "duration": 90,
        "start_time": "2022-09-02T11:19:26.745Z"
      },
      {
        "duration": 90,
        "start_time": "2022-09-02T11:21:04.130Z"
      },
      {
        "duration": 77,
        "start_time": "2022-09-02T11:22:39.870Z"
      },
      {
        "duration": 78,
        "start_time": "2022-09-02T11:22:48.367Z"
      },
      {
        "duration": 82,
        "start_time": "2022-09-02T11:22:56.028Z"
      },
      {
        "duration": 98,
        "start_time": "2022-09-02T11:23:05.045Z"
      },
      {
        "duration": 81,
        "start_time": "2022-09-02T11:23:08.083Z"
      },
      {
        "duration": 135,
        "start_time": "2022-09-02T11:23:14.917Z"
      },
      {
        "duration": 134,
        "start_time": "2022-09-02T11:23:26.249Z"
      },
      {
        "duration": 85,
        "start_time": "2022-09-02T11:23:32.396Z"
      },
      {
        "duration": 175,
        "start_time": "2022-09-02T11:24:23.648Z"
      },
      {
        "duration": 88,
        "start_time": "2022-09-02T11:24:27.405Z"
      },
      {
        "duration": 123,
        "start_time": "2022-09-02T11:24:32.411Z"
      },
      {
        "duration": 94,
        "start_time": "2022-09-02T11:24:35.414Z"
      },
      {
        "duration": 109,
        "start_time": "2022-09-02T11:26:10.702Z"
      },
      {
        "duration": 14,
        "start_time": "2022-09-02T11:27:03.830Z"
      },
      {
        "duration": 4,
        "start_time": "2022-09-02T11:27:08.540Z"
      },
      {
        "duration": 25,
        "start_time": "2022-09-02T11:28:57.703Z"
      },
      {
        "duration": 1477,
        "start_time": "2022-09-02T11:29:04.753Z"
      },
      {
        "duration": 13,
        "start_time": "2022-09-02T11:29:42.147Z"
      },
      {
        "duration": 14,
        "start_time": "2022-09-02T11:29:48.484Z"
      },
      {
        "duration": 45,
        "start_time": "2022-09-03T14:27:55.894Z"
      },
      {
        "duration": 815,
        "start_time": "2022-09-03T14:28:05.678Z"
      },
      {
        "duration": 301,
        "start_time": "2022-09-03T14:28:06.496Z"
      },
      {
        "duration": 19,
        "start_time": "2022-09-03T14:28:06.799Z"
      },
      {
        "duration": 19,
        "start_time": "2022-09-03T14:28:06.820Z"
      },
      {
        "duration": 1988,
        "start_time": "2022-09-03T14:28:06.844Z"
      },
      {
        "duration": 12,
        "start_time": "2022-09-03T14:35:58.231Z"
      },
      {
        "duration": 13,
        "start_time": "2022-09-03T14:36:04.322Z"
      },
      {
        "duration": 7,
        "start_time": "2022-09-03T14:37:23.736Z"
      },
      {
        "duration": 6,
        "start_time": "2022-09-03T14:37:34.337Z"
      },
      {
        "duration": 5,
        "start_time": "2022-09-03T14:37:49.890Z"
      },
      {
        "duration": 5,
        "start_time": "2022-09-03T14:38:34.707Z"
      },
      {
        "duration": 7,
        "start_time": "2022-09-03T14:38:42.162Z"
      },
      {
        "duration": 8,
        "start_time": "2022-09-03T14:39:11.895Z"
      },
      {
        "duration": 8,
        "start_time": "2022-09-03T14:39:30.554Z"
      },
      {
        "duration": 7,
        "start_time": "2022-09-03T15:03:01.468Z"
      },
      {
        "duration": 9,
        "start_time": "2022-09-03T15:03:12.627Z"
      },
      {
        "duration": 10,
        "start_time": "2022-09-03T15:03:36.534Z"
      },
      {
        "duration": 8,
        "start_time": "2022-09-03T15:03:46.767Z"
      },
      {
        "duration": 1689,
        "start_time": "2022-09-03T18:10:15.209Z"
      },
      {
        "duration": 8,
        "start_time": "2022-09-03T18:10:29.123Z"
      },
      {
        "duration": 677,
        "start_time": "2022-09-03T18:10:59.331Z"
      },
      {
        "duration": 712,
        "start_time": "2022-09-03T18:11:07.742Z"
      },
      {
        "duration": 649,
        "start_time": "2022-09-03T18:11:26.983Z"
      },
      {
        "duration": 102,
        "start_time": "2022-09-03T18:11:27.634Z"
      },
      {
        "duration": 17,
        "start_time": "2022-09-03T18:11:27.737Z"
      },
      {
        "duration": 36,
        "start_time": "2022-09-03T18:11:27.756Z"
      },
      {
        "duration": 2146,
        "start_time": "2022-09-03T18:11:27.794Z"
      },
      {
        "duration": 10,
        "start_time": "2022-09-03T18:11:29.941Z"
      },
      {
        "duration": 862,
        "start_time": "2022-09-03T18:11:29.952Z"
      },
      {
        "duration": 963,
        "start_time": "2022-09-03T18:11:54.253Z"
      },
      {
        "duration": 679,
        "start_time": "2022-09-03T18:13:52.903Z"
      },
      {
        "duration": 5,
        "start_time": "2022-09-03T18:21:26.564Z"
      },
      {
        "duration": 6,
        "start_time": "2022-09-03T18:21:30.429Z"
      },
      {
        "duration": 6,
        "start_time": "2022-09-03T18:21:46.940Z"
      },
      {
        "duration": 7,
        "start_time": "2022-09-03T18:21:53.590Z"
      },
      {
        "duration": 690,
        "start_time": "2022-09-03T18:22:04.843Z"
      },
      {
        "duration": 103,
        "start_time": "2022-09-03T18:22:05.536Z"
      },
      {
        "duration": 30,
        "start_time": "2022-09-03T18:22:05.640Z"
      },
      {
        "duration": 2204,
        "start_time": "2022-09-03T18:22:05.672Z"
      },
      {
        "duration": 13,
        "start_time": "2022-09-03T18:22:07.879Z"
      },
      {
        "duration": 6,
        "start_time": "2022-09-03T18:22:07.895Z"
      },
      {
        "duration": 28,
        "start_time": "2022-09-03T18:22:10.335Z"
      },
      {
        "duration": 75,
        "start_time": "2022-09-03T18:22:18.048Z"
      },
      {
        "duration": 5,
        "start_time": "2022-09-03T18:28:18.868Z"
      },
      {
        "duration": 7,
        "start_time": "2022-09-03T18:28:21.823Z"
      },
      {
        "duration": 21,
        "start_time": "2022-09-03T18:29:12.103Z"
      },
      {
        "duration": 10,
        "start_time": "2022-09-03T18:29:18.319Z"
      },
      {
        "duration": 13,
        "start_time": "2022-09-03T18:29:37.695Z"
      },
      {
        "duration": 11,
        "start_time": "2022-09-03T18:29:43.649Z"
      },
      {
        "duration": 9,
        "start_time": "2022-09-03T18:29:50.812Z"
      },
      {
        "duration": 6,
        "start_time": "2022-09-03T18:30:44.643Z"
      },
      {
        "duration": 49,
        "start_time": "2022-09-04T06:22:07.984Z"
      },
      {
        "duration": 804,
        "start_time": "2022-09-04T06:22:15.709Z"
      },
      {
        "duration": 324,
        "start_time": "2022-09-04T06:22:16.515Z"
      },
      {
        "duration": 46,
        "start_time": "2022-09-04T06:22:16.841Z"
      },
      {
        "duration": 18,
        "start_time": "2022-09-04T06:22:16.889Z"
      },
      {
        "duration": 2112,
        "start_time": "2022-09-04T06:22:16.909Z"
      },
      {
        "duration": 11,
        "start_time": "2022-09-04T06:22:19.024Z"
      },
      {
        "duration": 11,
        "start_time": "2022-09-04T06:22:19.037Z"
      },
      {
        "duration": 15,
        "start_time": "2022-09-04T06:22:19.050Z"
      },
      {
        "duration": 7,
        "start_time": "2022-09-04T06:23:04.531Z"
      },
      {
        "duration": 7,
        "start_time": "2022-09-04T06:25:39.352Z"
      },
      {
        "duration": 8,
        "start_time": "2022-09-04T06:26:03.646Z"
      },
      {
        "duration": 9,
        "start_time": "2022-09-04T06:26:18.437Z"
      },
      {
        "duration": 7,
        "start_time": "2022-09-04T06:28:39.818Z"
      },
      {
        "duration": 6,
        "start_time": "2022-09-04T06:28:45.445Z"
      },
      {
        "duration": 8,
        "start_time": "2022-09-04T06:28:49.455Z"
      },
      {
        "duration": 10,
        "start_time": "2022-09-04T06:29:00.312Z"
      },
      {
        "duration": 5,
        "start_time": "2022-09-04T06:29:27.979Z"
      },
      {
        "duration": 10,
        "start_time": "2022-09-04T06:29:57.225Z"
      },
      {
        "duration": 8,
        "start_time": "2022-09-04T06:30:04.919Z"
      },
      {
        "duration": 18,
        "start_time": "2022-09-04T06:32:36.724Z"
      },
      {
        "duration": 867,
        "start_time": "2022-09-04T06:36:22.486Z"
      },
      {
        "duration": 855,
        "start_time": "2022-09-04T06:37:15.322Z"
      },
      {
        "duration": 13,
        "start_time": "2022-09-04T06:37:55.764Z"
      },
      {
        "duration": 35,
        "start_time": "2022-09-04T06:42:24.377Z"
      },
      {
        "duration": 30,
        "start_time": "2022-09-04T07:14:11.359Z"
      },
      {
        "duration": 57,
        "start_time": "2022-09-04T07:14:26.836Z"
      },
      {
        "duration": 18,
        "start_time": "2022-09-04T07:14:29.661Z"
      },
      {
        "duration": 21,
        "start_time": "2022-09-04T07:14:51.882Z"
      },
      {
        "duration": 662,
        "start_time": "2022-09-04T07:14:58.317Z"
      },
      {
        "duration": 128,
        "start_time": "2022-09-04T07:14:58.981Z"
      },
      {
        "duration": 61,
        "start_time": "2022-09-04T07:14:59.111Z"
      },
      {
        "duration": 43,
        "start_time": "2022-09-04T07:14:59.174Z"
      },
      {
        "duration": 2122,
        "start_time": "2022-09-04T07:14:59.219Z"
      },
      {
        "duration": 10,
        "start_time": "2022-09-04T07:15:01.343Z"
      },
      {
        "duration": 20,
        "start_time": "2022-09-04T07:15:01.355Z"
      },
      {
        "duration": 110,
        "start_time": "2022-09-04T07:15:01.378Z"
      },
      {
        "duration": 21,
        "start_time": "2022-09-04T07:15:04.669Z"
      },
      {
        "duration": 34,
        "start_time": "2022-09-04T07:15:24.765Z"
      },
      {
        "duration": 15,
        "start_time": "2022-09-04T07:15:33.065Z"
      },
      {
        "duration": 16,
        "start_time": "2022-09-04T07:15:42.613Z"
      },
      {
        "duration": 26,
        "start_time": "2022-09-04T07:20:36.469Z"
      },
      {
        "duration": 29,
        "start_time": "2022-09-04T07:21:02.400Z"
      },
      {
        "duration": 13,
        "start_time": "2022-09-04T07:21:13.785Z"
      },
      {
        "duration": 3,
        "start_time": "2022-09-04T07:21:30.282Z"
      },
      {
        "duration": 24,
        "start_time": "2022-09-04T07:22:26.525Z"
      },
      {
        "duration": 686,
        "start_time": "2022-09-04T07:22:35.962Z"
      },
      {
        "duration": 95,
        "start_time": "2022-09-04T07:22:36.650Z"
      },
      {
        "duration": 45,
        "start_time": "2022-09-04T07:22:36.746Z"
      },
      {
        "duration": 24,
        "start_time": "2022-09-04T07:22:36.793Z"
      },
      {
        "duration": 2109,
        "start_time": "2022-09-04T07:22:36.820Z"
      },
      {
        "duration": 12,
        "start_time": "2022-09-04T07:22:38.932Z"
      },
      {
        "duration": 8,
        "start_time": "2022-09-04T07:22:38.946Z"
      },
      {
        "duration": 38,
        "start_time": "2022-09-04T07:22:38.956Z"
      },
      {
        "duration": 27,
        "start_time": "2022-09-04T07:22:43.890Z"
      },
      {
        "duration": 96,
        "start_time": "2022-09-04T07:23:33.213Z"
      },
      {
        "duration": 17,
        "start_time": "2022-09-04T07:23:59.656Z"
      },
      {
        "duration": 16,
        "start_time": "2022-09-04T07:24:03.586Z"
      },
      {
        "duration": 14,
        "start_time": "2022-09-04T07:24:16.636Z"
      },
      {
        "duration": 18,
        "start_time": "2022-09-04T07:24:25.534Z"
      },
      {
        "duration": 16,
        "start_time": "2022-09-04T07:24:33.938Z"
      },
      {
        "duration": 16,
        "start_time": "2022-09-04T07:24:44.474Z"
      },
      {
        "duration": 87,
        "start_time": "2022-09-04T07:27:47.005Z"
      },
      {
        "duration": 672,
        "start_time": "2022-09-04T07:28:30.413Z"
      },
      {
        "duration": 98,
        "start_time": "2022-09-04T07:28:31.086Z"
      },
      {
        "duration": 46,
        "start_time": "2022-09-04T07:28:31.185Z"
      },
      {
        "duration": 15,
        "start_time": "2022-09-04T07:28:31.234Z"
      },
      {
        "duration": 2121,
        "start_time": "2022-09-04T07:28:31.252Z"
      },
      {
        "duration": 10,
        "start_time": "2022-09-04T07:28:33.375Z"
      },
      {
        "duration": 13,
        "start_time": "2022-09-04T07:28:33.386Z"
      },
      {
        "duration": 17,
        "start_time": "2022-09-04T07:28:33.400Z"
      },
      {
        "duration": 24,
        "start_time": "2022-09-04T07:32:08.300Z"
      },
      {
        "duration": 25,
        "start_time": "2022-09-04T07:32:21.464Z"
      },
      {
        "duration": 12,
        "start_time": "2022-09-04T07:32:42.518Z"
      },
      {
        "duration": 707,
        "start_time": "2022-09-04T07:32:48.674Z"
      },
      {
        "duration": 95,
        "start_time": "2022-09-04T07:32:49.383Z"
      },
      {
        "duration": 46,
        "start_time": "2022-09-04T07:32:49.482Z"
      },
      {
        "duration": 15,
        "start_time": "2022-09-04T07:32:49.529Z"
      },
      {
        "duration": 2095,
        "start_time": "2022-09-04T07:32:49.546Z"
      },
      {
        "duration": 9,
        "start_time": "2022-09-04T07:32:51.644Z"
      },
      {
        "duration": 7,
        "start_time": "2022-09-04T07:32:51.655Z"
      },
      {
        "duration": 12,
        "start_time": "2022-09-04T07:32:51.663Z"
      },
      {
        "duration": 82,
        "start_time": "2022-09-04T07:37:36.442Z"
      },
      {
        "duration": 26,
        "start_time": "2022-09-04T07:37:48.431Z"
      },
      {
        "duration": 21,
        "start_time": "2022-09-04T07:40:52.168Z"
      },
      {
        "duration": 8,
        "start_time": "2022-09-04T07:40:55.498Z"
      },
      {
        "duration": 7,
        "start_time": "2022-09-04T07:40:59.246Z"
      },
      {
        "duration": 30,
        "start_time": "2022-09-04T07:41:10.842Z"
      },
      {
        "duration": 35,
        "start_time": "2022-09-04T07:41:24.404Z"
      },
      {
        "duration": 39,
        "start_time": "2022-09-04T07:41:52.852Z"
      },
      {
        "duration": 76,
        "start_time": "2022-09-04T07:48:28.521Z"
      },
      {
        "duration": 7,
        "start_time": "2022-09-04T07:49:59.965Z"
      },
      {
        "duration": 48,
        "start_time": "2022-09-04T07:50:53.015Z"
      },
      {
        "duration": 41,
        "start_time": "2022-09-04T07:51:14.216Z"
      },
      {
        "duration": 12,
        "start_time": "2022-09-04T07:51:36.748Z"
      },
      {
        "duration": 62,
        "start_time": "2022-09-04T07:52:26.152Z"
      },
      {
        "duration": 12,
        "start_time": "2022-09-04T07:53:28.295Z"
      },
      {
        "duration": 6,
        "start_time": "2022-09-04T07:53:51.322Z"
      },
      {
        "duration": 9,
        "start_time": "2022-09-04T07:53:53.199Z"
      },
      {
        "duration": 6,
        "start_time": "2022-09-04T07:54:12.702Z"
      },
      {
        "duration": 8,
        "start_time": "2022-09-04T07:58:28.507Z"
      },
      {
        "duration": 8,
        "start_time": "2022-09-04T07:58:33.979Z"
      },
      {
        "duration": 859,
        "start_time": "2022-09-04T07:58:58.869Z"
      },
      {
        "duration": 7,
        "start_time": "2022-09-04T07:59:13.434Z"
      },
      {
        "duration": 7,
        "start_time": "2022-09-04T07:59:20.207Z"
      },
      {
        "duration": 5,
        "start_time": "2022-09-04T07:59:24.156Z"
      },
      {
        "duration": 7,
        "start_time": "2022-09-04T09:40:28.383Z"
      },
      {
        "duration": 26,
        "start_time": "2022-09-04T09:40:33.444Z"
      },
      {
        "duration": 16,
        "start_time": "2022-09-04T09:40:36.395Z"
      },
      {
        "duration": 25,
        "start_time": "2022-09-04T09:40:55.645Z"
      },
      {
        "duration": 15,
        "start_time": "2022-09-04T09:41:04.562Z"
      },
      {
        "duration": 1176,
        "start_time": "2022-09-04T09:42:06.876Z"
      },
      {
        "duration": 9,
        "start_time": "2022-09-04T09:42:13.960Z"
      },
      {
        "duration": 7,
        "start_time": "2022-09-04T09:42:19.846Z"
      },
      {
        "duration": 811,
        "start_time": "2022-09-04T09:43:19.977Z"
      },
      {
        "duration": 160,
        "start_time": "2022-09-04T09:43:20.791Z"
      },
      {
        "duration": 98,
        "start_time": "2022-09-04T09:43:20.953Z"
      },
      {
        "duration": 40,
        "start_time": "2022-09-04T09:43:21.054Z"
      },
      {
        "duration": 3067,
        "start_time": "2022-09-04T09:43:21.106Z"
      },
      {
        "duration": 16,
        "start_time": "2022-09-04T09:43:24.176Z"
      },
      {
        "duration": 85,
        "start_time": "2022-09-04T09:43:24.194Z"
      },
      {
        "duration": 32,
        "start_time": "2022-09-04T09:43:24.281Z"
      },
      {
        "duration": 66,
        "start_time": "2022-09-04T09:43:24.315Z"
      },
      {
        "duration": 87,
        "start_time": "2022-09-04T09:43:24.383Z"
      },
      {
        "duration": 7,
        "start_time": "2022-09-04T09:43:24.693Z"
      },
      {
        "duration": 7,
        "start_time": "2022-09-04T09:43:26.462Z"
      },
      {
        "duration": 7,
        "start_time": "2022-09-04T09:43:44.148Z"
      },
      {
        "duration": 7,
        "start_time": "2022-09-04T09:43:47.382Z"
      },
      {
        "duration": 14,
        "start_time": "2022-09-04T09:43:55.545Z"
      },
      {
        "duration": 11,
        "start_time": "2022-09-04T09:44:12.547Z"
      },
      {
        "duration": 8,
        "start_time": "2022-09-04T09:45:01.247Z"
      },
      {
        "duration": 8,
        "start_time": "2022-09-04T09:47:03.048Z"
      },
      {
        "duration": 6,
        "start_time": "2022-09-04T09:55:59.977Z"
      },
      {
        "duration": 6,
        "start_time": "2022-09-04T09:56:06.633Z"
      },
      {
        "duration": 6,
        "start_time": "2022-09-04T09:56:23.376Z"
      },
      {
        "duration": 104,
        "start_time": "2022-09-04T10:07:30.449Z"
      },
      {
        "duration": 56,
        "start_time": "2022-09-04T10:07:39.836Z"
      },
      {
        "duration": 9,
        "start_time": "2022-09-04T10:12:23.270Z"
      },
      {
        "duration": 7,
        "start_time": "2022-09-04T10:14:28.486Z"
      },
      {
        "duration": 8,
        "start_time": "2022-09-04T10:14:36.047Z"
      },
      {
        "duration": 8,
        "start_time": "2022-09-04T10:16:21.341Z"
      },
      {
        "duration": 6,
        "start_time": "2022-09-04T10:21:05.637Z"
      },
      {
        "duration": 6,
        "start_time": "2022-09-04T10:21:25.237Z"
      },
      {
        "duration": 6,
        "start_time": "2022-09-04T10:23:01.379Z"
      },
      {
        "duration": 7,
        "start_time": "2022-09-04T10:30:43.287Z"
      },
      {
        "duration": 7,
        "start_time": "2022-09-04T10:31:19.232Z"
      },
      {
        "duration": 10,
        "start_time": "2022-09-04T10:31:45.600Z"
      },
      {
        "duration": 11,
        "start_time": "2022-09-04T10:46:26.334Z"
      },
      {
        "duration": 12,
        "start_time": "2022-09-04T10:46:31.289Z"
      },
      {
        "duration": 16,
        "start_time": "2022-09-04T10:46:55.397Z"
      },
      {
        "duration": 14,
        "start_time": "2022-09-04T10:47:21.184Z"
      },
      {
        "duration": 23,
        "start_time": "2022-09-04T10:47:40.379Z"
      },
      {
        "duration": 77,
        "start_time": "2022-09-04T10:47:51.803Z"
      },
      {
        "duration": 21,
        "start_time": "2022-09-04T10:47:55.977Z"
      },
      {
        "duration": 688,
        "start_time": "2022-09-05T17:56:17.423Z"
      },
      {
        "duration": 325,
        "start_time": "2022-09-05T17:56:18.112Z"
      },
      {
        "duration": 49,
        "start_time": "2022-09-05T17:56:18.439Z"
      },
      {
        "duration": 15,
        "start_time": "2022-09-05T17:56:18.491Z"
      },
      {
        "duration": 1905,
        "start_time": "2022-09-05T17:56:18.507Z"
      },
      {
        "duration": 9,
        "start_time": "2022-09-05T17:56:20.413Z"
      },
      {
        "duration": 5,
        "start_time": "2022-09-05T17:56:20.424Z"
      },
      {
        "duration": 6,
        "start_time": "2022-09-05T17:56:20.431Z"
      },
      {
        "duration": 12,
        "start_time": "2022-09-05T17:56:20.438Z"
      },
      {
        "duration": 6,
        "start_time": "2022-09-05T17:56:20.452Z"
      },
      {
        "duration": 5,
        "start_time": "2022-09-05T17:56:20.460Z"
      },
      {
        "duration": 23,
        "start_time": "2022-09-05T17:56:20.467Z"
      },
      {
        "duration": 31,
        "start_time": "2022-09-05T17:56:20.492Z"
      },
      {
        "duration": 6,
        "start_time": "2022-09-05T17:56:44.574Z"
      },
      {
        "duration": 7,
        "start_time": "2022-09-05T17:57:08.559Z"
      },
      {
        "duration": 7,
        "start_time": "2022-09-05T17:57:21.862Z"
      },
      {
        "duration": 4,
        "start_time": "2022-09-05T17:57:44.018Z"
      },
      {
        "duration": 5,
        "start_time": "2022-09-05T17:57:56.876Z"
      },
      {
        "duration": 8,
        "start_time": "2022-09-05T17:58:17.873Z"
      },
      {
        "duration": 6,
        "start_time": "2022-09-05T17:58:54.970Z"
      },
      {
        "duration": 5,
        "start_time": "2022-09-05T17:59:29.001Z"
      },
      {
        "duration": 1454,
        "start_time": "2022-09-05T18:02:51.875Z"
      },
      {
        "duration": 6,
        "start_time": "2022-09-05T18:03:14.243Z"
      },
      {
        "duration": 40,
        "start_time": "2022-09-05T18:04:40.617Z"
      },
      {
        "duration": 6,
        "start_time": "2022-09-05T18:04:49.221Z"
      },
      {
        "duration": 7,
        "start_time": "2022-09-05T18:04:55.827Z"
      },
      {
        "duration": 7,
        "start_time": "2022-09-05T18:05:07.737Z"
      },
      {
        "duration": 7,
        "start_time": "2022-09-05T18:05:16.616Z"
      },
      {
        "duration": 8,
        "start_time": "2022-09-05T18:05:42.813Z"
      },
      {
        "duration": 7,
        "start_time": "2022-09-05T18:05:50.605Z"
      },
      {
        "duration": 1152,
        "start_time": "2022-09-05T18:08:20.246Z"
      },
      {
        "duration": 9,
        "start_time": "2022-09-05T18:08:48.229Z"
      },
      {
        "duration": 46,
        "start_time": "2022-09-05T18:09:13.727Z"
      },
      {
        "duration": 10,
        "start_time": "2022-09-05T18:09:17.251Z"
      },
      {
        "duration": 47,
        "start_time": "2022-09-05T18:09:28.067Z"
      },
      {
        "duration": 5,
        "start_time": "2022-09-05T18:11:55.561Z"
      },
      {
        "duration": 7,
        "start_time": "2022-09-05T18:12:05.904Z"
      },
      {
        "duration": 9,
        "start_time": "2022-09-05T18:12:15.124Z"
      },
      {
        "duration": 9,
        "start_time": "2022-09-05T18:12:40.718Z"
      },
      {
        "duration": 10,
        "start_time": "2022-09-05T18:12:56.600Z"
      },
      {
        "duration": 1171,
        "start_time": "2022-09-05T18:17:41.600Z"
      },
      {
        "duration": 20,
        "start_time": "2022-09-05T18:17:53.913Z"
      },
      {
        "duration": 15,
        "start_time": "2022-09-05T18:18:00.440Z"
      },
      {
        "duration": 25,
        "start_time": "2022-09-05T18:18:58.422Z"
      },
      {
        "duration": 23,
        "start_time": "2022-09-05T18:26:30.570Z"
      },
      {
        "duration": 36,
        "start_time": "2022-09-05T18:32:55.572Z"
      },
      {
        "duration": 1047,
        "start_time": "2022-09-05T18:33:20.674Z"
      },
      {
        "duration": 815,
        "start_time": "2022-09-05T18:33:34.272Z"
      },
      {
        "duration": 1078,
        "start_time": "2022-09-05T18:33:48.071Z"
      },
      {
        "duration": 807,
        "start_time": "2022-09-05T18:34:25.752Z"
      },
      {
        "duration": 38,
        "start_time": "2022-09-05T18:34:35.960Z"
      },
      {
        "duration": 20,
        "start_time": "2022-09-05T18:34:51.307Z"
      },
      {
        "duration": 852,
        "start_time": "2022-09-05T18:34:59.461Z"
      },
      {
        "duration": 573,
        "start_time": "2022-09-05T18:35:12.029Z"
      },
      {
        "duration": 86,
        "start_time": "2022-09-05T18:35:12.603Z"
      },
      {
        "duration": 37,
        "start_time": "2022-09-05T18:35:12.690Z"
      },
      {
        "duration": 12,
        "start_time": "2022-09-05T18:35:12.729Z"
      },
      {
        "duration": 1900,
        "start_time": "2022-09-05T18:35:12.743Z"
      },
      {
        "duration": 11,
        "start_time": "2022-09-05T18:35:14.645Z"
      },
      {
        "duration": 21,
        "start_time": "2022-09-05T18:35:14.657Z"
      },
      {
        "duration": 8,
        "start_time": "2022-09-05T18:35:14.680Z"
      },
      {
        "duration": 12,
        "start_time": "2022-09-05T18:35:14.689Z"
      },
      {
        "duration": 7,
        "start_time": "2022-09-05T18:35:14.703Z"
      },
      {
        "duration": 11,
        "start_time": "2022-09-05T18:35:14.711Z"
      },
      {
        "duration": 7,
        "start_time": "2022-09-05T18:35:14.723Z"
      },
      {
        "duration": 11,
        "start_time": "2022-09-05T18:35:14.732Z"
      },
      {
        "duration": 952,
        "start_time": "2022-09-05T18:35:14.745Z"
      },
      {
        "duration": 781,
        "start_time": "2022-09-05T18:35:17.689Z"
      },
      {
        "duration": 790,
        "start_time": "2022-09-05T18:36:14.178Z"
      },
      {
        "duration": 877,
        "start_time": "2022-09-05T18:36:30.620Z"
      },
      {
        "duration": 33,
        "start_time": "2022-09-05T18:36:59.870Z"
      },
      {
        "duration": 898,
        "start_time": "2022-09-05T18:37:30.917Z"
      },
      {
        "duration": 1152,
        "start_time": "2022-09-05T18:41:27.067Z"
      },
      {
        "duration": 709,
        "start_time": "2022-09-05T18:41:49.638Z"
      },
      {
        "duration": 18,
        "start_time": "2022-09-05T18:41:54.521Z"
      },
      {
        "duration": 25,
        "start_time": "2022-09-05T18:42:00.891Z"
      },
      {
        "duration": 18,
        "start_time": "2022-09-05T18:42:08.555Z"
      },
      {
        "duration": 915,
        "start_time": "2022-09-05T18:42:18.343Z"
      },
      {
        "duration": 721,
        "start_time": "2022-09-05T18:42:28.383Z"
      },
      {
        "duration": 27,
        "start_time": "2022-09-05T18:42:30.593Z"
      },
      {
        "duration": 725,
        "start_time": "2022-09-05T18:42:48.887Z"
      },
      {
        "duration": 19,
        "start_time": "2022-09-05T19:14:18.764Z"
      },
      {
        "duration": 17,
        "start_time": "2022-09-05T19:14:26.233Z"
      },
      {
        "duration": 28,
        "start_time": "2022-09-05T19:15:01.138Z"
      },
      {
        "duration": 150,
        "start_time": "2022-09-05T19:15:37.663Z"
      },
      {
        "duration": 20,
        "start_time": "2022-09-05T19:15:52.605Z"
      },
      {
        "duration": 649,
        "start_time": "2022-09-05T19:16:11.246Z"
      },
      {
        "duration": 88,
        "start_time": "2022-09-05T19:16:11.896Z"
      },
      {
        "duration": 38,
        "start_time": "2022-09-05T19:16:11.986Z"
      },
      {
        "duration": 13,
        "start_time": "2022-09-05T19:16:12.025Z"
      },
      {
        "duration": 1867,
        "start_time": "2022-09-05T19:16:12.040Z"
      },
      {
        "duration": 9,
        "start_time": "2022-09-05T19:16:13.910Z"
      },
      {
        "duration": 13,
        "start_time": "2022-09-05T19:16:13.921Z"
      },
      {
        "duration": 16,
        "start_time": "2022-09-05T19:16:13.935Z"
      },
      {
        "duration": 14,
        "start_time": "2022-09-05T19:16:13.953Z"
      },
      {
        "duration": 6,
        "start_time": "2022-09-05T19:16:13.969Z"
      },
      {
        "duration": 10,
        "start_time": "2022-09-05T19:16:13.976Z"
      },
      {
        "duration": 4,
        "start_time": "2022-09-05T19:16:13.988Z"
      },
      {
        "duration": 10,
        "start_time": "2022-09-05T19:16:13.993Z"
      },
      {
        "duration": 172,
        "start_time": "2022-09-05T19:16:14.006Z"
      },
      {
        "duration": 76,
        "start_time": "2022-09-05T19:16:16.751Z"
      },
      {
        "duration": 21,
        "start_time": "2022-09-05T19:19:07.961Z"
      },
      {
        "duration": 21,
        "start_time": "2022-09-05T19:19:18.230Z"
      },
      {
        "duration": 600,
        "start_time": "2022-09-05T19:19:42.251Z"
      },
      {
        "duration": 94,
        "start_time": "2022-09-05T19:19:42.853Z"
      },
      {
        "duration": 55,
        "start_time": "2022-09-05T19:19:42.948Z"
      },
      {
        "duration": 14,
        "start_time": "2022-09-05T19:19:43.005Z"
      },
      {
        "duration": 1952,
        "start_time": "2022-09-05T19:19:43.020Z"
      },
      {
        "duration": 8,
        "start_time": "2022-09-05T19:19:44.973Z"
      },
      {
        "duration": 6,
        "start_time": "2022-09-05T19:19:44.983Z"
      },
      {
        "duration": 6,
        "start_time": "2022-09-05T19:19:44.990Z"
      },
      {
        "duration": 8,
        "start_time": "2022-09-05T19:19:44.997Z"
      },
      {
        "duration": 11,
        "start_time": "2022-09-05T19:19:45.007Z"
      },
      {
        "duration": 57,
        "start_time": "2022-09-05T19:19:45.019Z"
      },
      {
        "duration": 6,
        "start_time": "2022-09-05T19:19:45.077Z"
      },
      {
        "duration": 19,
        "start_time": "2022-09-05T19:19:45.085Z"
      },
      {
        "duration": 138,
        "start_time": "2022-09-05T19:19:45.106Z"
      },
      {
        "duration": 82,
        "start_time": "2022-09-05T19:19:47.809Z"
      },
      {
        "duration": 20,
        "start_time": "2022-09-05T19:19:56.887Z"
      },
      {
        "duration": 19,
        "start_time": "2022-09-05T19:20:21.531Z"
      },
      {
        "duration": 19,
        "start_time": "2022-09-05T19:21:12.345Z"
      },
      {
        "duration": 46,
        "start_time": "2022-09-05T19:21:20.729Z"
      },
      {
        "duration": 59,
        "start_time": "2022-09-06T18:48:15.338Z"
      },
      {
        "duration": 831,
        "start_time": "2022-09-06T18:48:24.874Z"
      },
      {
        "duration": 317,
        "start_time": "2022-09-06T18:48:25.707Z"
      },
      {
        "duration": 45,
        "start_time": "2022-09-06T18:48:26.026Z"
      },
      {
        "duration": 17,
        "start_time": "2022-09-06T18:48:26.072Z"
      },
      {
        "duration": 2118,
        "start_time": "2022-09-06T18:48:26.092Z"
      },
      {
        "duration": 11,
        "start_time": "2022-09-06T18:48:28.212Z"
      },
      {
        "duration": 9,
        "start_time": "2022-09-06T18:48:28.225Z"
      },
      {
        "duration": 15,
        "start_time": "2022-09-06T18:48:28.236Z"
      },
      {
        "duration": 15,
        "start_time": "2022-09-06T18:48:28.252Z"
      },
      {
        "duration": 8,
        "start_time": "2022-09-06T18:48:28.269Z"
      },
      {
        "duration": 26,
        "start_time": "2022-09-06T18:48:28.279Z"
      },
      {
        "duration": 17,
        "start_time": "2022-09-06T18:48:28.306Z"
      },
      {
        "duration": 21,
        "start_time": "2022-09-06T18:48:28.325Z"
      },
      {
        "duration": 53,
        "start_time": "2022-09-06T18:48:28.349Z"
      },
      {
        "duration": 96,
        "start_time": "2022-09-06T18:52:23.876Z"
      },
      {
        "duration": 796,
        "start_time": "2022-09-06T18:52:29.156Z"
      },
      {
        "duration": 870,
        "start_time": "2022-09-06T18:52:49.944Z"
      },
      {
        "duration": 27,
        "start_time": "2022-09-06T18:53:03.599Z"
      },
      {
        "duration": 25,
        "start_time": "2022-09-06T18:53:21.440Z"
      },
      {
        "duration": 958,
        "start_time": "2022-09-06T18:53:25.572Z"
      },
      {
        "duration": 78,
        "start_time": "2022-09-06T18:53:36.805Z"
      },
      {
        "duration": 942,
        "start_time": "2022-09-06T18:53:39.872Z"
      },
      {
        "duration": 1388,
        "start_time": "2022-09-06T18:53:44.999Z"
      },
      {
        "duration": 26,
        "start_time": "2022-09-06T18:54:34.723Z"
      },
      {
        "duration": 952,
        "start_time": "2022-09-06T18:59:09.274Z"
      },
      {
        "duration": 27,
        "start_time": "2022-09-06T18:59:31.872Z"
      },
      {
        "duration": 30,
        "start_time": "2022-09-06T18:59:45.273Z"
      },
      {
        "duration": 28,
        "start_time": "2022-09-06T18:59:48.396Z"
      },
      {
        "duration": 18,
        "start_time": "2022-09-06T19:00:09.832Z"
      },
      {
        "duration": 33,
        "start_time": "2022-09-06T19:00:12.370Z"
      },
      {
        "duration": 30,
        "start_time": "2022-09-06T19:00:19.373Z"
      },
      {
        "duration": 64,
        "start_time": "2022-09-06T19:05:02.987Z"
      },
      {
        "duration": 20,
        "start_time": "2022-09-06T19:05:14.565Z"
      },
      {
        "duration": 25,
        "start_time": "2022-09-06T19:07:17.281Z"
      },
      {
        "duration": 174,
        "start_time": "2022-09-06T19:07:24.931Z"
      },
      {
        "duration": 150,
        "start_time": "2022-09-06T19:07:57.331Z"
      },
      {
        "duration": 157,
        "start_time": "2022-09-06T19:08:00.343Z"
      },
      {
        "duration": 148,
        "start_time": "2022-09-06T19:08:02.662Z"
      },
      {
        "duration": 175,
        "start_time": "2022-09-06T19:08:06.435Z"
      },
      {
        "duration": 5,
        "start_time": "2022-09-06T19:14:24.363Z"
      },
      {
        "duration": 44,
        "start_time": "2022-09-07T19:11:13.376Z"
      },
      {
        "duration": 804,
        "start_time": "2022-09-07T19:11:20.617Z"
      },
      {
        "duration": 193,
        "start_time": "2022-09-07T19:11:21.423Z"
      },
      {
        "duration": 55,
        "start_time": "2022-09-07T19:11:21.620Z"
      },
      {
        "duration": 22,
        "start_time": "2022-09-07T19:11:21.678Z"
      },
      {
        "duration": 1911,
        "start_time": "2022-09-07T19:11:21.702Z"
      },
      {
        "duration": 12,
        "start_time": "2022-09-07T19:11:23.615Z"
      },
      {
        "duration": 6,
        "start_time": "2022-09-07T19:11:23.629Z"
      },
      {
        "duration": 8,
        "start_time": "2022-09-07T19:11:23.637Z"
      },
      {
        "duration": 16,
        "start_time": "2022-09-07T19:11:23.647Z"
      },
      {
        "duration": 23,
        "start_time": "2022-09-07T19:11:23.666Z"
      },
      {
        "duration": 6,
        "start_time": "2022-09-07T19:11:23.690Z"
      },
      {
        "duration": 9,
        "start_time": "2022-09-07T19:11:23.698Z"
      },
      {
        "duration": 10,
        "start_time": "2022-09-07T19:11:23.710Z"
      },
      {
        "duration": 6,
        "start_time": "2022-09-07T19:11:23.721Z"
      },
      {
        "duration": 5,
        "start_time": "2022-09-07T19:14:41.380Z"
      },
      {
        "duration": 71,
        "start_time": "2022-09-07T19:15:11.480Z"
      },
      {
        "duration": 5,
        "start_time": "2022-09-07T19:17:21.361Z"
      },
      {
        "duration": 800,
        "start_time": "2022-09-07T19:17:48.633Z"
      },
      {
        "duration": 6,
        "start_time": "2022-09-07T19:18:04.483Z"
      },
      {
        "duration": 980,
        "start_time": "2022-09-07T19:18:33.800Z"
      },
      {
        "duration": 856,
        "start_time": "2022-09-07T19:18:50.456Z"
      },
      {
        "duration": 7,
        "start_time": "2022-09-07T19:19:09.148Z"
      },
      {
        "duration": 21,
        "start_time": "2022-09-07T19:19:21.170Z"
      },
      {
        "duration": 20,
        "start_time": "2022-09-07T19:19:27.894Z"
      },
      {
        "duration": 15,
        "start_time": "2022-09-07T19:19:46.902Z"
      },
      {
        "duration": 4,
        "start_time": "2022-09-07T19:54:01.773Z"
      },
      {
        "duration": 7,
        "start_time": "2022-09-07T19:54:14.421Z"
      },
      {
        "duration": 7,
        "start_time": "2022-09-07T19:54:23.734Z"
      },
      {
        "duration": 8,
        "start_time": "2022-09-07T19:54:33.790Z"
      },
      {
        "duration": 6,
        "start_time": "2022-09-07T19:54:39.800Z"
      },
      {
        "duration": 7,
        "start_time": "2022-09-07T19:54:48.978Z"
      },
      {
        "duration": 6,
        "start_time": "2022-09-07T19:54:59.902Z"
      },
      {
        "duration": 5,
        "start_time": "2022-09-07T19:55:13.159Z"
      },
      {
        "duration": 7,
        "start_time": "2022-09-07T19:55:28.073Z"
      },
      {
        "duration": 6,
        "start_time": "2022-09-07T19:55:45.356Z"
      },
      {
        "duration": 6,
        "start_time": "2022-09-07T19:56:14.015Z"
      },
      {
        "duration": 7,
        "start_time": "2022-09-07T19:56:34.830Z"
      },
      {
        "duration": 7,
        "start_time": "2022-09-07T19:56:44.736Z"
      },
      {
        "duration": 7,
        "start_time": "2022-09-07T19:56:55.863Z"
      },
      {
        "duration": 38,
        "start_time": "2022-09-07T19:58:24.269Z"
      },
      {
        "duration": 32,
        "start_time": "2022-09-07T20:03:49.046Z"
      },
      {
        "duration": 6,
        "start_time": "2022-09-07T20:05:44.681Z"
      },
      {
        "duration": 4,
        "start_time": "2022-09-07T20:06:12.827Z"
      },
      {
        "duration": 7,
        "start_time": "2022-09-07T20:06:18.266Z"
      },
      {
        "duration": 6,
        "start_time": "2022-09-07T20:06:26.280Z"
      },
      {
        "duration": 11,
        "start_time": "2022-09-07T20:06:30.455Z"
      },
      {
        "duration": 6,
        "start_time": "2022-09-07T20:06:38.601Z"
      },
      {
        "duration": 7,
        "start_time": "2022-09-07T20:06:45.909Z"
      },
      {
        "duration": 7,
        "start_time": "2022-09-07T20:06:48.035Z"
      },
      {
        "duration": 7,
        "start_time": "2022-09-07T20:06:51.394Z"
      },
      {
        "duration": 6,
        "start_time": "2022-09-07T20:06:54.520Z"
      },
      {
        "duration": 44,
        "start_time": "2022-09-09T16:35:50.150Z"
      },
      {
        "duration": 710,
        "start_time": "2022-09-09T16:35:57.494Z"
      },
      {
        "duration": 378,
        "start_time": "2022-09-09T16:35:58.206Z"
      },
      {
        "duration": 38,
        "start_time": "2022-09-09T16:35:58.586Z"
      },
      {
        "duration": 14,
        "start_time": "2022-09-09T16:35:58.626Z"
      },
      {
        "duration": 1740,
        "start_time": "2022-09-09T16:35:58.642Z"
      },
      {
        "duration": 9,
        "start_time": "2022-09-09T16:36:00.384Z"
      },
      {
        "duration": 12,
        "start_time": "2022-09-09T16:36:00.395Z"
      },
      {
        "duration": 20,
        "start_time": "2022-09-09T16:36:00.409Z"
      },
      {
        "duration": 13,
        "start_time": "2022-09-09T16:36:00.431Z"
      },
      {
        "duration": 33,
        "start_time": "2022-09-09T16:36:00.446Z"
      },
      {
        "duration": 49,
        "start_time": "2022-09-09T16:36:00.481Z"
      },
      {
        "duration": 19,
        "start_time": "2022-09-09T16:36:00.532Z"
      },
      {
        "duration": 6,
        "start_time": "2022-09-09T16:36:00.553Z"
      },
      {
        "duration": 12,
        "start_time": "2022-09-09T16:36:00.561Z"
      },
      {
        "duration": 17,
        "start_time": "2022-09-09T16:36:00.574Z"
      },
      {
        "duration": 20,
        "start_time": "2022-09-09T16:36:00.592Z"
      },
      {
        "duration": 32,
        "start_time": "2022-09-09T16:36:00.613Z"
      },
      {
        "duration": 23,
        "start_time": "2022-09-09T16:36:00.646Z"
      },
      {
        "duration": 11,
        "start_time": "2022-09-09T16:36:50.590Z"
      },
      {
        "duration": 13,
        "start_time": "2022-09-09T16:48:03.948Z"
      },
      {
        "duration": 8,
        "start_time": "2022-09-09T16:49:37.026Z"
      },
      {
        "duration": 9,
        "start_time": "2022-09-09T16:49:40.665Z"
      },
      {
        "duration": 10,
        "start_time": "2022-09-09T16:50:24.592Z"
      },
      {
        "duration": 3,
        "start_time": "2022-09-09T16:50:26.469Z"
      },
      {
        "duration": 15,
        "start_time": "2022-09-09T16:50:31.932Z"
      },
      {
        "duration": 13,
        "start_time": "2022-09-09T16:50:38.352Z"
      },
      {
        "duration": 12,
        "start_time": "2022-09-09T16:50:44.314Z"
      },
      {
        "duration": 12,
        "start_time": "2022-09-09T16:50:49.408Z"
      },
      {
        "duration": 6,
        "start_time": "2022-09-09T16:50:59.740Z"
      },
      {
        "duration": 8,
        "start_time": "2022-09-09T16:51:04.365Z"
      },
      {
        "duration": 9,
        "start_time": "2022-09-09T16:51:07.207Z"
      },
      {
        "duration": 413,
        "start_time": "2022-09-09T16:56:33.479Z"
      },
      {
        "duration": 388,
        "start_time": "2022-09-09T16:57:14.127Z"
      },
      {
        "duration": 14,
        "start_time": "2022-09-09T17:01:00.369Z"
      },
      {
        "duration": 571,
        "start_time": "2022-09-09T17:01:13.662Z"
      },
      {
        "duration": 88,
        "start_time": "2022-09-09T17:01:14.235Z"
      },
      {
        "duration": 39,
        "start_time": "2022-09-09T17:01:14.327Z"
      },
      {
        "duration": 14,
        "start_time": "2022-09-09T17:01:14.368Z"
      },
      {
        "duration": 1779,
        "start_time": "2022-09-09T17:01:14.383Z"
      },
      {
        "duration": 9,
        "start_time": "2022-09-09T17:01:16.163Z"
      },
      {
        "duration": 9,
        "start_time": "2022-09-09T17:01:16.173Z"
      },
      {
        "duration": 8,
        "start_time": "2022-09-09T17:01:16.184Z"
      },
      {
        "duration": 10,
        "start_time": "2022-09-09T17:01:16.193Z"
      },
      {
        "duration": 7,
        "start_time": "2022-09-09T17:01:16.205Z"
      },
      {
        "duration": 28,
        "start_time": "2022-09-09T17:01:16.213Z"
      },
      {
        "duration": 2,
        "start_time": "2022-09-09T17:01:16.243Z"
      },
      {
        "duration": 93,
        "start_time": "2022-09-09T17:01:16.247Z"
      },
      {
        "duration": 0,
        "start_time": "2022-09-09T17:01:16.342Z"
      },
      {
        "duration": 0,
        "start_time": "2022-09-09T17:01:16.343Z"
      },
      {
        "duration": 0,
        "start_time": "2022-09-09T17:01:16.344Z"
      },
      {
        "duration": 0,
        "start_time": "2022-09-09T17:01:16.344Z"
      },
      {
        "duration": 0,
        "start_time": "2022-09-09T17:01:16.345Z"
      },
      {
        "duration": 16,
        "start_time": "2022-09-09T17:01:37.498Z"
      },
      {
        "duration": 47,
        "start_time": "2022-09-09T17:03:11.772Z"
      },
      {
        "duration": 14,
        "start_time": "2022-09-09T17:07:11.321Z"
      },
      {
        "duration": 19,
        "start_time": "2022-09-09T17:07:26.079Z"
      },
      {
        "duration": 4,
        "start_time": "2022-09-09T17:07:53.175Z"
      },
      {
        "duration": 9,
        "start_time": "2022-09-09T17:08:19.156Z"
      },
      {
        "duration": 8,
        "start_time": "2022-09-09T17:08:29.793Z"
      },
      {
        "duration": 6,
        "start_time": "2022-09-09T17:08:42.601Z"
      },
      {
        "duration": 7,
        "start_time": "2022-09-09T17:08:54.034Z"
      },
      {
        "duration": 12,
        "start_time": "2022-09-09T17:10:13.806Z"
      },
      {
        "duration": 44,
        "start_time": "2022-09-09T17:10:30.667Z"
      },
      {
        "duration": 14,
        "start_time": "2022-09-09T17:10:38.386Z"
      },
      {
        "duration": 16,
        "start_time": "2022-09-09T17:10:53.346Z"
      },
      {
        "duration": 17,
        "start_time": "2022-09-09T17:12:07.072Z"
      },
      {
        "duration": 18,
        "start_time": "2022-09-09T17:12:13.416Z"
      },
      {
        "duration": 11,
        "start_time": "2022-09-09T17:12:46.825Z"
      },
      {
        "duration": 11,
        "start_time": "2022-09-09T17:12:49.477Z"
      },
      {
        "duration": 14,
        "start_time": "2022-09-09T17:20:14.112Z"
      },
      {
        "duration": 15,
        "start_time": "2022-09-09T17:20:18.075Z"
      },
      {
        "duration": 14,
        "start_time": "2022-09-09T17:20:21.603Z"
      },
      {
        "duration": 9,
        "start_time": "2022-09-09T17:20:26.689Z"
      },
      {
        "duration": 6,
        "start_time": "2022-09-09T17:23:06.189Z"
      },
      {
        "duration": 8,
        "start_time": "2022-09-09T17:25:52.306Z"
      },
      {
        "duration": 5,
        "start_time": "2022-09-09T17:34:17.376Z"
      },
      {
        "duration": 4,
        "start_time": "2022-09-09T17:34:19.806Z"
      },
      {
        "duration": 7,
        "start_time": "2022-09-09T17:34:24.929Z"
      },
      {
        "duration": 8,
        "start_time": "2022-09-09T17:36:26.715Z"
      },
      {
        "duration": 7,
        "start_time": "2022-09-09T17:36:46.746Z"
      },
      {
        "duration": 9,
        "start_time": "2022-09-09T17:36:50.795Z"
      },
      {
        "duration": 4,
        "start_time": "2022-09-09T17:36:55.942Z"
      },
      {
        "duration": 6,
        "start_time": "2022-09-09T17:40:32.571Z"
      },
      {
        "duration": 6,
        "start_time": "2022-09-09T17:40:49.789Z"
      },
      {
        "duration": 5,
        "start_time": "2022-09-09T17:41:17.942Z"
      },
      {
        "duration": 10,
        "start_time": "2022-09-09T17:41:33.644Z"
      },
      {
        "duration": 12,
        "start_time": "2022-09-09T17:41:48.205Z"
      },
      {
        "duration": 1042,
        "start_time": "2022-09-09T17:42:14.902Z"
      },
      {
        "duration": 12,
        "start_time": "2022-09-09T17:43:00.249Z"
      },
      {
        "duration": 20,
        "start_time": "2022-09-09T17:49:26.167Z"
      },
      {
        "duration": 18,
        "start_time": "2022-09-09T17:49:30.058Z"
      },
      {
        "duration": 18,
        "start_time": "2022-09-09T17:50:11.931Z"
      },
      {
        "duration": 16,
        "start_time": "2022-09-09T17:50:29.689Z"
      },
      {
        "duration": 16,
        "start_time": "2022-09-09T17:50:36.663Z"
      },
      {
        "duration": 18,
        "start_time": "2022-09-09T17:50:41.404Z"
      },
      {
        "duration": 19,
        "start_time": "2022-09-09T17:50:58.435Z"
      },
      {
        "duration": 19,
        "start_time": "2022-09-09T17:51:07.182Z"
      },
      {
        "duration": 17,
        "start_time": "2022-09-09T17:51:15.662Z"
      },
      {
        "duration": 19,
        "start_time": "2022-09-09T17:51:21.097Z"
      },
      {
        "duration": 17,
        "start_time": "2022-09-09T17:51:24.434Z"
      },
      {
        "duration": 16,
        "start_time": "2022-09-09T17:51:31.558Z"
      },
      {
        "duration": 54,
        "start_time": "2022-09-09T17:51:40.024Z"
      },
      {
        "duration": 18,
        "start_time": "2022-09-09T17:52:19.006Z"
      },
      {
        "duration": 6,
        "start_time": "2022-09-09T17:52:58.958Z"
      },
      {
        "duration": 17,
        "start_time": "2022-09-09T17:53:29.335Z"
      },
      {
        "duration": 10,
        "start_time": "2022-09-09T17:54:36.421Z"
      },
      {
        "duration": 12,
        "start_time": "2022-09-09T17:54:45.366Z"
      },
      {
        "duration": 7,
        "start_time": "2022-09-09T17:54:56.241Z"
      },
      {
        "duration": 13,
        "start_time": "2022-09-09T17:55:03.662Z"
      },
      {
        "duration": 16,
        "start_time": "2022-09-09T17:55:24.254Z"
      },
      {
        "duration": 5,
        "start_time": "2022-09-09T18:04:23.987Z"
      },
      {
        "duration": 587,
        "start_time": "2022-09-09T18:05:02.993Z"
      },
      {
        "duration": 94,
        "start_time": "2022-09-09T18:05:03.581Z"
      },
      {
        "duration": 42,
        "start_time": "2022-09-09T18:05:03.676Z"
      },
      {
        "duration": 22,
        "start_time": "2022-09-09T18:05:03.719Z"
      },
      {
        "duration": 1811,
        "start_time": "2022-09-09T18:05:03.743Z"
      },
      {
        "duration": 9,
        "start_time": "2022-09-09T18:05:05.556Z"
      },
      {
        "duration": 5,
        "start_time": "2022-09-09T18:05:05.566Z"
      },
      {
        "duration": 9,
        "start_time": "2022-09-09T18:05:05.572Z"
      },
      {
        "duration": 9,
        "start_time": "2022-09-09T18:05:05.583Z"
      },
      {
        "duration": 15,
        "start_time": "2022-09-09T18:05:05.594Z"
      },
      {
        "duration": 27,
        "start_time": "2022-09-09T18:05:05.610Z"
      },
      {
        "duration": 10,
        "start_time": "2022-09-09T18:05:05.638Z"
      },
      {
        "duration": 4,
        "start_time": "2022-09-09T18:05:05.650Z"
      },
      {
        "duration": 18,
        "start_time": "2022-09-09T18:05:05.656Z"
      },
      {
        "duration": 14,
        "start_time": "2022-09-09T18:05:05.676Z"
      },
      {
        "duration": 11,
        "start_time": "2022-09-09T18:05:05.691Z"
      },
      {
        "duration": 11,
        "start_time": "2022-09-09T18:05:05.703Z"
      },
      {
        "duration": 19,
        "start_time": "2022-09-09T18:05:16.372Z"
      },
      {
        "duration": 25,
        "start_time": "2022-09-09T18:06:54.156Z"
      },
      {
        "duration": 4,
        "start_time": "2022-09-09T18:11:20.412Z"
      },
      {
        "duration": 6,
        "start_time": "2022-09-09T18:19:53.044Z"
      },
      {
        "duration": 9,
        "start_time": "2022-09-09T18:20:00.673Z"
      },
      {
        "duration": 6,
        "start_time": "2022-09-09T18:20:08.224Z"
      },
      {
        "duration": 30,
        "start_time": "2022-09-09T18:20:42.197Z"
      },
      {
        "duration": 23,
        "start_time": "2022-09-09T18:21:08.526Z"
      },
      {
        "duration": 5,
        "start_time": "2022-09-09T18:21:21.277Z"
      },
      {
        "duration": 53,
        "start_time": "2022-09-09T18:21:56.774Z"
      },
      {
        "duration": 1317,
        "start_time": "2022-09-09T18:22:05.058Z"
      },
      {
        "duration": 24,
        "start_time": "2022-09-09T18:22:21.739Z"
      },
      {
        "duration": 5,
        "start_time": "2022-09-09T18:22:49.232Z"
      },
      {
        "duration": 6,
        "start_time": "2022-09-09T18:23:47.248Z"
      },
      {
        "duration": 187,
        "start_time": "2022-09-09T18:25:41.721Z"
      },
      {
        "duration": 9,
        "start_time": "2022-09-09T18:25:57.686Z"
      },
      {
        "duration": 59,
        "start_time": "2022-09-09T18:26:00.965Z"
      },
      {
        "duration": 200,
        "start_time": "2022-09-09T18:26:03.058Z"
      },
      {
        "duration": 214,
        "start_time": "2022-09-09T18:26:32.010Z"
      },
      {
        "duration": 51,
        "start_time": "2022-09-11T16:10:19.039Z"
      },
      {
        "duration": 930,
        "start_time": "2022-09-11T16:10:26.197Z"
      },
      {
        "duration": 159,
        "start_time": "2022-09-11T16:10:27.130Z"
      },
      {
        "duration": 53,
        "start_time": "2022-09-11T16:10:27.291Z"
      },
      {
        "duration": 17,
        "start_time": "2022-09-11T16:10:27.346Z"
      },
      {
        "duration": 2222,
        "start_time": "2022-09-11T16:10:27.365Z"
      },
      {
        "duration": 12,
        "start_time": "2022-09-11T16:10:29.590Z"
      },
      {
        "duration": 11,
        "start_time": "2022-09-11T16:10:29.604Z"
      },
      {
        "duration": 12,
        "start_time": "2022-09-11T16:10:29.617Z"
      },
      {
        "duration": 19,
        "start_time": "2022-09-11T16:10:29.631Z"
      },
      {
        "duration": 39,
        "start_time": "2022-09-11T16:10:29.654Z"
      },
      {
        "duration": 22,
        "start_time": "2022-09-11T16:10:29.696Z"
      },
      {
        "duration": 14,
        "start_time": "2022-09-11T16:10:29.721Z"
      },
      {
        "duration": 7,
        "start_time": "2022-09-11T16:10:29.738Z"
      },
      {
        "duration": 41,
        "start_time": "2022-09-11T16:10:29.748Z"
      },
      {
        "duration": 16,
        "start_time": "2022-09-11T16:10:29.792Z"
      },
      {
        "duration": 16,
        "start_time": "2022-09-11T16:10:29.810Z"
      },
      {
        "duration": 33,
        "start_time": "2022-09-11T16:10:29.828Z"
      },
      {
        "duration": 7,
        "start_time": "2022-09-11T16:10:29.863Z"
      },
      {
        "duration": 20,
        "start_time": "2022-09-11T16:10:29.873Z"
      },
      {
        "duration": 8,
        "start_time": "2022-09-11T16:10:29.896Z"
      },
      {
        "duration": 8,
        "start_time": "2022-09-11T16:10:29.906Z"
      },
      {
        "duration": 466,
        "start_time": "2022-09-11T16:10:29.916Z"
      },
      {
        "duration": 404,
        "start_time": "2022-09-11T16:11:50.076Z"
      },
      {
        "duration": 372,
        "start_time": "2022-09-11T16:12:09.549Z"
      },
      {
        "duration": 285,
        "start_time": "2022-09-11T16:12:24.494Z"
      },
      {
        "duration": 282,
        "start_time": "2022-09-11T16:15:08.920Z"
      },
      {
        "duration": 340,
        "start_time": "2022-09-11T16:15:36.357Z"
      },
      {
        "duration": 438,
        "start_time": "2022-09-11T16:18:44.967Z"
      },
      {
        "duration": 337,
        "start_time": "2022-09-11T16:18:50.563Z"
      },
      {
        "duration": 299,
        "start_time": "2022-09-11T16:18:58.913Z"
      },
      {
        "duration": 319,
        "start_time": "2022-09-11T16:19:10.757Z"
      },
      {
        "duration": 310,
        "start_time": "2022-09-11T16:19:38.699Z"
      },
      {
        "duration": 826,
        "start_time": "2022-09-11T16:20:02.573Z"
      },
      {
        "duration": 103,
        "start_time": "2022-09-11T16:20:03.401Z"
      },
      {
        "duration": 48,
        "start_time": "2022-09-11T16:20:03.506Z"
      },
      {
        "duration": 17,
        "start_time": "2022-09-11T16:20:03.556Z"
      },
      {
        "duration": 2099,
        "start_time": "2022-09-11T16:20:03.592Z"
      },
      {
        "duration": 11,
        "start_time": "2022-09-11T16:20:05.693Z"
      },
      {
        "duration": 8,
        "start_time": "2022-09-11T16:20:05.706Z"
      },
      {
        "duration": 16,
        "start_time": "2022-09-11T16:20:05.715Z"
      },
      {
        "duration": 12,
        "start_time": "2022-09-11T16:20:05.733Z"
      },
      {
        "duration": 45,
        "start_time": "2022-09-11T16:20:05.748Z"
      },
      {
        "duration": 15,
        "start_time": "2022-09-11T16:20:05.795Z"
      },
      {
        "duration": 12,
        "start_time": "2022-09-11T16:20:05.811Z"
      },
      {
        "duration": 12,
        "start_time": "2022-09-11T16:20:05.825Z"
      },
      {
        "duration": 12,
        "start_time": "2022-09-11T16:20:05.839Z"
      },
      {
        "duration": 18,
        "start_time": "2022-09-11T16:20:05.852Z"
      },
      {
        "duration": 9,
        "start_time": "2022-09-11T16:20:05.891Z"
      },
      {
        "duration": 22,
        "start_time": "2022-09-11T16:20:05.902Z"
      },
      {
        "duration": 4,
        "start_time": "2022-09-11T16:20:05.926Z"
      },
      {
        "duration": 8,
        "start_time": "2022-09-11T16:20:05.932Z"
      },
      {
        "duration": 7,
        "start_time": "2022-09-11T16:20:05.942Z"
      },
      {
        "duration": 6,
        "start_time": "2022-09-11T16:20:05.951Z"
      },
      {
        "duration": 1557,
        "start_time": "2022-09-11T16:20:05.959Z"
      },
      {
        "duration": 9,
        "start_time": "2022-09-11T16:20:57.558Z"
      },
      {
        "duration": 354,
        "start_time": "2022-09-11T16:21:05.272Z"
      },
      {
        "duration": 9,
        "start_time": "2022-09-11T16:22:51.690Z"
      },
      {
        "duration": 296,
        "start_time": "2022-09-11T16:22:56.259Z"
      },
      {
        "duration": 88,
        "start_time": "2022-09-11T16:24:42.292Z"
      },
      {
        "duration": 87,
        "start_time": "2022-09-11T16:24:55.059Z"
      },
      {
        "duration": 314,
        "start_time": "2022-09-11T16:25:15.008Z"
      },
      {
        "duration": 374,
        "start_time": "2022-09-11T16:26:47.968Z"
      },
      {
        "duration": 410,
        "start_time": "2022-09-11T16:27:01.833Z"
      },
      {
        "duration": 341,
        "start_time": "2022-09-11T16:27:11.018Z"
      },
      {
        "duration": 1152,
        "start_time": "2022-09-11T16:29:14.522Z"
      },
      {
        "duration": 1091,
        "start_time": "2022-09-11T16:29:23.301Z"
      },
      {
        "duration": 5,
        "start_time": "2022-09-11T16:29:25.123Z"
      },
      {
        "duration": 39,
        "start_time": "2022-09-11T16:29:32.113Z"
      },
      {
        "duration": 159,
        "start_time": "2022-09-11T16:55:37.480Z"
      },
      {
        "duration": 122,
        "start_time": "2022-09-11T16:58:41.581Z"
      },
      {
        "duration": 495,
        "start_time": "2022-09-11T16:58:50.072Z"
      },
      {
        "duration": 231,
        "start_time": "2022-09-11T16:58:57.619Z"
      },
      {
        "duration": 518,
        "start_time": "2022-09-11T16:59:04.933Z"
      },
      {
        "duration": 297,
        "start_time": "2022-09-11T16:59:39.197Z"
      },
      {
        "duration": 229,
        "start_time": "2022-09-11T16:59:45.141Z"
      },
      {
        "duration": 259,
        "start_time": "2022-09-11T17:00:04.819Z"
      },
      {
        "duration": 288,
        "start_time": "2022-09-11T17:00:42.139Z"
      },
      {
        "duration": 409,
        "start_time": "2022-09-11T17:01:01.770Z"
      },
      {
        "duration": 305,
        "start_time": "2022-09-11T17:01:31.232Z"
      },
      {
        "duration": 398,
        "start_time": "2022-09-11T17:01:37.185Z"
      },
      {
        "duration": 1018,
        "start_time": "2022-09-11T17:01:41.461Z"
      },
      {
        "duration": 218,
        "start_time": "2022-09-11T17:01:45.480Z"
      },
      {
        "duration": 377,
        "start_time": "2022-09-11T17:01:50.642Z"
      },
      {
        "duration": 247,
        "start_time": "2022-09-11T17:01:58.536Z"
      },
      {
        "duration": 1224,
        "start_time": "2022-09-11T17:02:39.622Z"
      },
      {
        "duration": 243,
        "start_time": "2022-09-11T17:02:57.393Z"
      },
      {
        "duration": 320,
        "start_time": "2022-09-11T17:03:03.121Z"
      },
      {
        "duration": 310,
        "start_time": "2022-09-11T17:03:07.722Z"
      },
      {
        "duration": 278,
        "start_time": "2022-09-11T17:03:24.250Z"
      },
      {
        "duration": 1881,
        "start_time": "2022-09-11T17:03:28.672Z"
      },
      {
        "duration": 2166,
        "start_time": "2022-09-11T17:03:35.362Z"
      },
      {
        "duration": 291,
        "start_time": "2022-09-11T17:03:41.346Z"
      },
      {
        "duration": 150,
        "start_time": "2022-09-11T17:03:44.045Z"
      },
      {
        "duration": 283,
        "start_time": "2022-09-11T17:05:07.141Z"
      },
      {
        "duration": 321,
        "start_time": "2022-09-11T17:05:16.606Z"
      },
      {
        "duration": 222,
        "start_time": "2022-09-11T17:05:40.952Z"
      },
      {
        "duration": 317,
        "start_time": "2022-09-11T17:05:44.025Z"
      },
      {
        "duration": 218,
        "start_time": "2022-09-11T17:06:12.459Z"
      },
      {
        "duration": 236,
        "start_time": "2022-09-11T17:06:19.421Z"
      },
      {
        "duration": 187,
        "start_time": "2022-09-11T17:06:23.548Z"
      },
      {
        "duration": 209,
        "start_time": "2022-09-11T17:06:28.696Z"
      },
      {
        "duration": 207,
        "start_time": "2022-09-11T17:06:32.184Z"
      },
      {
        "duration": 188,
        "start_time": "2022-09-11T17:06:37.743Z"
      },
      {
        "duration": 0,
        "start_time": "2022-09-11T17:07:21.353Z"
      },
      {
        "duration": 1256,
        "start_time": "2022-09-11T17:07:50.397Z"
      },
      {
        "duration": 212,
        "start_time": "2022-09-11T17:08:11.341Z"
      },
      {
        "duration": 249,
        "start_time": "2022-09-11T17:08:19.245Z"
      },
      {
        "duration": 219,
        "start_time": "2022-09-11T17:08:23.622Z"
      },
      {
        "duration": 215,
        "start_time": "2022-09-11T17:09:00.971Z"
      },
      {
        "duration": 278,
        "start_time": "2022-09-11T17:09:06.685Z"
      },
      {
        "duration": 187,
        "start_time": "2022-09-11T17:09:10.497Z"
      },
      {
        "duration": 25,
        "start_time": "2022-09-11T17:25:58.509Z"
      },
      {
        "duration": 562,
        "start_time": "2022-09-11T17:26:21.472Z"
      },
      {
        "duration": 135,
        "start_time": "2022-09-11T17:26:36.665Z"
      },
      {
        "duration": 238,
        "start_time": "2022-09-11T17:27:05.770Z"
      },
      {
        "duration": 196,
        "start_time": "2022-09-11T17:27:10.580Z"
      },
      {
        "duration": 183,
        "start_time": "2022-09-11T17:27:12.650Z"
      },
      {
        "duration": 27,
        "start_time": "2022-09-11T17:27:32.413Z"
      },
      {
        "duration": 228,
        "start_time": "2022-09-11T17:28:00.723Z"
      },
      {
        "duration": 313,
        "start_time": "2022-09-11T17:28:06.803Z"
      },
      {
        "duration": 20,
        "start_time": "2022-09-11T17:28:33.791Z"
      },
      {
        "duration": 221,
        "start_time": "2022-09-11T17:28:49.349Z"
      },
      {
        "duration": 295,
        "start_time": "2022-09-11T17:28:54.093Z"
      },
      {
        "duration": 18,
        "start_time": "2022-09-11T17:29:16.087Z"
      },
      {
        "duration": 288,
        "start_time": "2022-09-11T17:29:34.949Z"
      },
      {
        "duration": 11,
        "start_time": "2022-09-11T17:29:53.417Z"
      },
      {
        "duration": 8,
        "start_time": "2022-09-11T17:29:55.882Z"
      },
      {
        "duration": 18,
        "start_time": "2022-09-11T17:29:58.740Z"
      },
      {
        "duration": 284,
        "start_time": "2022-09-11T17:30:29.539Z"
      },
      {
        "duration": 152,
        "start_time": "2022-09-11T17:30:35.074Z"
      },
      {
        "duration": 294,
        "start_time": "2022-09-11T17:30:55.929Z"
      },
      {
        "duration": 149,
        "start_time": "2022-09-11T17:30:59.519Z"
      },
      {
        "duration": 98,
        "start_time": "2023-07-04T15:40:04.196Z"
      },
      {
        "duration": 1236,
        "start_time": "2023-07-04T15:40:50.695Z"
      },
      {
        "duration": 638,
        "start_time": "2023-07-04T15:40:51.933Z"
      },
      {
        "duration": 77,
        "start_time": "2023-07-04T15:40:52.572Z"
      },
      {
        "duration": 15,
        "start_time": "2023-07-04T15:40:52.651Z"
      },
      {
        "duration": 3058,
        "start_time": "2023-07-04T15:40:52.668Z"
      },
      {
        "duration": 27,
        "start_time": "2023-07-04T15:40:55.728Z"
      },
      {
        "duration": 113,
        "start_time": "2023-07-04T15:40:55.757Z"
      },
      {
        "duration": 237,
        "start_time": "2023-07-04T15:40:55.873Z"
      },
      {
        "duration": 162,
        "start_time": "2023-07-04T15:40:56.112Z"
      },
      {
        "duration": 160,
        "start_time": "2023-07-04T15:40:56.285Z"
      },
      {
        "duration": 50,
        "start_time": "2023-07-04T15:40:56.447Z"
      },
      {
        "duration": 67,
        "start_time": "2023-07-04T15:40:56.499Z"
      },
      {
        "duration": 105,
        "start_time": "2023-07-04T15:40:56.573Z"
      },
      {
        "duration": 106,
        "start_time": "2023-07-04T15:40:56.687Z"
      },
      {
        "duration": 151,
        "start_time": "2023-07-04T15:40:56.799Z"
      },
      {
        "duration": 114,
        "start_time": "2023-07-04T15:40:56.953Z"
      },
      {
        "duration": 233,
        "start_time": "2023-07-04T15:40:57.069Z"
      },
      {
        "duration": 60,
        "start_time": "2023-07-04T15:40:57.308Z"
      },
      {
        "duration": 107,
        "start_time": "2023-07-04T15:40:57.370Z"
      },
      {
        "duration": 88,
        "start_time": "2023-07-04T15:40:57.479Z"
      },
      {
        "duration": 83,
        "start_time": "2023-07-04T15:40:57.570Z"
      },
      {
        "duration": 587,
        "start_time": "2023-07-04T15:40:57.655Z"
      },
      {
        "duration": 34,
        "start_time": "2023-07-04T15:40:58.244Z"
      },
      {
        "duration": 133,
        "start_time": "2023-07-04T15:40:58.279Z"
      },
      {
        "duration": 339,
        "start_time": "2023-07-04T15:40:58.417Z"
      },
      {
        "duration": 341,
        "start_time": "2023-07-04T15:40:58.759Z"
      },
      {
        "duration": 463,
        "start_time": "2023-07-04T15:40:59.102Z"
      },
      {
        "duration": 540,
        "start_time": "2023-07-04T15:40:59.569Z"
      },
      {
        "duration": 330,
        "start_time": "2023-07-04T15:41:00.111Z"
      },
      {
        "duration": 413,
        "start_time": "2023-07-04T15:41:00.448Z"
      },
      {
        "duration": 291,
        "start_time": "2023-07-04T15:41:00.867Z"
      },
      {
        "duration": 465,
        "start_time": "2023-07-04T15:41:01.166Z"
      },
      {
        "duration": 290,
        "start_time": "2023-07-04T15:41:01.639Z"
      },
      {
        "duration": 378,
        "start_time": "2023-07-04T15:41:01.931Z"
      },
      {
        "duration": 541,
        "start_time": "2023-07-04T15:41:02.315Z"
      },
      {
        "duration": 448,
        "start_time": "2023-07-04T15:41:02.861Z"
      },
      {
        "duration": 218,
        "start_time": "2023-07-04T15:41:03.314Z"
      },
      {
        "duration": 180,
        "start_time": "2023-07-04T15:41:03.546Z"
      },
      {
        "duration": 234,
        "start_time": "2023-07-04T15:41:10.918Z"
      },
      {
        "duration": 413,
        "start_time": "2023-07-04T15:41:17.972Z"
      },
      {
        "duration": 362,
        "start_time": "2023-07-04T15:41:25.045Z"
      },
      {
        "duration": 245,
        "start_time": "2023-07-04T15:43:43.873Z"
      },
      {
        "duration": 231,
        "start_time": "2023-07-04T15:43:55.799Z"
      },
      {
        "duration": 245,
        "start_time": "2023-07-04T15:44:00.329Z"
      },
      {
        "duration": 378,
        "start_time": "2023-07-04T15:44:11.344Z"
      },
      {
        "duration": 262,
        "start_time": "2023-07-04T15:44:25.915Z"
      },
      {
        "duration": 266,
        "start_time": "2023-07-04T15:44:29.704Z"
      },
      {
        "duration": 231,
        "start_time": "2023-07-04T15:44:33.527Z"
      },
      {
        "duration": 160,
        "start_time": "2023-07-04T15:46:14.636Z"
      },
      {
        "duration": 193,
        "start_time": "2023-07-04T15:46:19.149Z"
      },
      {
        "duration": 190,
        "start_time": "2023-07-04T15:46:25.296Z"
      },
      {
        "duration": 221,
        "start_time": "2023-07-04T15:46:31.732Z"
      },
      {
        "duration": 194,
        "start_time": "2023-07-04T15:46:40.137Z"
      },
      {
        "duration": 180,
        "start_time": "2023-07-04T15:46:47.916Z"
      },
      {
        "duration": 202,
        "start_time": "2023-07-04T15:46:55.133Z"
      },
      {
        "duration": 240,
        "start_time": "2023-07-04T15:47:01.553Z"
      },
      {
        "duration": 242,
        "start_time": "2023-07-04T15:47:11.700Z"
      },
      {
        "duration": 85,
        "start_time": "2023-07-04T15:48:48.057Z"
      },
      {
        "duration": 2381,
        "start_time": "2023-07-04T15:49:05.073Z"
      },
      {
        "duration": 217,
        "start_time": "2023-07-04T15:49:14.920Z"
      },
      {
        "duration": 212,
        "start_time": "2023-07-04T15:49:36.693Z"
      },
      {
        "duration": 330,
        "start_time": "2023-07-04T15:50:33.005Z"
      },
      {
        "duration": 181,
        "start_time": "2023-07-04T15:50:42.045Z"
      },
      {
        "duration": 311,
        "start_time": "2023-07-04T15:50:56.333Z"
      },
      {
        "duration": 222,
        "start_time": "2023-07-04T15:51:05.013Z"
      },
      {
        "duration": 261,
        "start_time": "2023-07-04T15:51:08.214Z"
      },
      {
        "duration": 252,
        "start_time": "2023-07-04T15:51:19.603Z"
      },
      {
        "duration": 293,
        "start_time": "2023-07-04T15:51:27.565Z"
      },
      {
        "duration": 242,
        "start_time": "2023-07-04T15:51:33.669Z"
      },
      {
        "duration": 195,
        "start_time": "2023-07-04T15:51:38.051Z"
      },
      {
        "duration": 198,
        "start_time": "2023-07-04T15:51:45.026Z"
      },
      {
        "duration": 233,
        "start_time": "2023-07-04T15:51:49.500Z"
      },
      {
        "duration": 9,
        "start_time": "2023-07-04T15:53:57.815Z"
      },
      {
        "duration": 15,
        "start_time": "2023-07-04T15:54:10.617Z"
      },
      {
        "duration": 7,
        "start_time": "2023-07-04T15:54:57.565Z"
      },
      {
        "duration": 150,
        "start_time": "2023-07-04T15:55:04.812Z"
      },
      {
        "duration": 246,
        "start_time": "2023-07-04T15:55:32.761Z"
      },
      {
        "duration": 241,
        "start_time": "2023-07-04T15:55:39.028Z"
      },
      {
        "duration": 5,
        "start_time": "2023-07-04T15:58:02.033Z"
      },
      {
        "duration": 5,
        "start_time": "2023-07-04T15:58:48.236Z"
      },
      {
        "duration": 421,
        "start_time": "2023-07-04T16:05:22.016Z"
      },
      {
        "duration": 337,
        "start_time": "2023-07-04T16:05:36.354Z"
      },
      {
        "duration": 245,
        "start_time": "2023-07-04T16:05:47.136Z"
      },
      {
        "duration": 182,
        "start_time": "2023-07-04T16:05:56.133Z"
      },
      {
        "duration": 351,
        "start_time": "2023-07-04T16:06:11.104Z"
      },
      {
        "duration": 219,
        "start_time": "2023-07-04T16:06:47.919Z"
      },
      {
        "duration": 65,
        "start_time": "2023-07-05T13:47:59.984Z"
      },
      {
        "duration": 961,
        "start_time": "2023-07-05T13:48:10.688Z"
      },
      {
        "duration": 779,
        "start_time": "2023-07-05T13:48:11.651Z"
      },
      {
        "duration": 44,
        "start_time": "2023-07-05T13:48:12.432Z"
      },
      {
        "duration": 16,
        "start_time": "2023-07-05T13:48:12.478Z"
      },
      {
        "duration": 2302,
        "start_time": "2023-07-05T13:48:12.497Z"
      },
      {
        "duration": 20,
        "start_time": "2023-07-05T13:48:14.801Z"
      },
      {
        "duration": 36,
        "start_time": "2023-07-05T13:48:14.823Z"
      },
      {
        "duration": 10,
        "start_time": "2023-07-05T13:48:14.861Z"
      },
      {
        "duration": 14,
        "start_time": "2023-07-05T13:48:14.873Z"
      },
      {
        "duration": 22,
        "start_time": "2023-07-05T13:48:14.889Z"
      },
      {
        "duration": 76,
        "start_time": "2023-07-05T13:48:14.913Z"
      },
      {
        "duration": 86,
        "start_time": "2023-07-05T13:48:14.991Z"
      },
      {
        "duration": 48,
        "start_time": "2023-07-05T13:48:15.079Z"
      },
      {
        "duration": 53,
        "start_time": "2023-07-05T13:48:15.131Z"
      },
      {
        "duration": 55,
        "start_time": "2023-07-05T13:48:15.186Z"
      },
      {
        "duration": 16,
        "start_time": "2023-07-05T13:48:15.243Z"
      },
      {
        "duration": 35,
        "start_time": "2023-07-05T13:48:15.261Z"
      },
      {
        "duration": 36,
        "start_time": "2023-07-05T13:48:15.298Z"
      },
      {
        "duration": 11,
        "start_time": "2023-07-05T13:48:15.336Z"
      },
      {
        "duration": 9,
        "start_time": "2023-07-05T13:48:15.349Z"
      },
      {
        "duration": 14,
        "start_time": "2023-07-05T13:48:15.359Z"
      },
      {
        "duration": 446,
        "start_time": "2023-07-05T13:48:15.375Z"
      },
      {
        "duration": 31,
        "start_time": "2023-07-05T13:48:15.823Z"
      },
      {
        "duration": 110,
        "start_time": "2023-07-05T13:48:15.856Z"
      },
      {
        "duration": 268,
        "start_time": "2023-07-05T13:48:15.968Z"
      },
      {
        "duration": 256,
        "start_time": "2023-07-05T13:48:16.238Z"
      },
      {
        "duration": 363,
        "start_time": "2023-07-05T13:48:16.496Z"
      },
      {
        "duration": 377,
        "start_time": "2023-07-05T13:48:16.862Z"
      },
      {
        "duration": 231,
        "start_time": "2023-07-05T13:48:17.243Z"
      },
      {
        "duration": 281,
        "start_time": "2023-07-05T13:48:17.476Z"
      },
      {
        "duration": 244,
        "start_time": "2023-07-05T13:48:17.759Z"
      },
      {
        "duration": 168,
        "start_time": "2023-07-05T13:48:18.010Z"
      },
      {
        "duration": 213,
        "start_time": "2023-07-05T13:48:18.180Z"
      },
      {
        "duration": 321,
        "start_time": "2023-07-05T13:48:18.396Z"
      },
      {
        "duration": 228,
        "start_time": "2023-07-05T13:48:18.722Z"
      },
      {
        "duration": 390,
        "start_time": "2023-07-05T13:48:18.951Z"
      },
      {
        "duration": 172,
        "start_time": "2023-07-05T13:48:19.343Z"
      },
      {
        "duration": 179,
        "start_time": "2023-07-05T13:48:19.522Z"
      },
      {
        "duration": 349,
        "start_time": "2023-07-05T13:48:19.702Z"
      },
      {
        "duration": 215,
        "start_time": "2023-07-05T13:48:20.053Z"
      },
      {
        "duration": 6,
        "start_time": "2023-07-05T13:48:20.272Z"
      },
      {
        "duration": 19,
        "start_time": "2023-07-05T13:48:20.280Z"
      },
      {
        "duration": 58,
        "start_time": "2023-07-05T13:48:20.301Z"
      },
      {
        "duration": 15,
        "start_time": "2023-07-05T13:54:02.452Z"
      },
      {
        "duration": 17,
        "start_time": "2023-07-05T13:54:22.524Z"
      },
      {
        "duration": 16,
        "start_time": "2023-07-05T13:54:34.744Z"
      },
      {
        "duration": 18,
        "start_time": "2023-07-05T13:54:46.315Z"
      },
      {
        "duration": 206,
        "start_time": "2023-07-05T14:07:32.993Z"
      },
      {
        "duration": 14,
        "start_time": "2023-07-05T14:08:26.742Z"
      },
      {
        "duration": 170,
        "start_time": "2023-07-05T14:09:00.075Z"
      },
      {
        "duration": 241,
        "start_time": "2023-07-05T14:11:28.336Z"
      },
      {
        "duration": 165,
        "start_time": "2023-07-05T14:11:42.098Z"
      },
      {
        "duration": 136,
        "start_time": "2023-07-05T14:12:21.320Z"
      },
      {
        "duration": 21,
        "start_time": "2023-07-05T14:14:37.832Z"
      },
      {
        "duration": 2900,
        "start_time": "2023-07-05T14:15:08.787Z"
      },
      {
        "duration": 2370,
        "start_time": "2023-07-05T14:15:48.834Z"
      },
      {
        "duration": 1445,
        "start_time": "2023-07-05T14:24:05.031Z"
      },
      {
        "duration": 165,
        "start_time": "2023-07-05T14:24:12.243Z"
      },
      {
        "duration": 30,
        "start_time": "2023-07-05T14:24:19.025Z"
      },
      {
        "duration": 1310,
        "start_time": "2023-07-05T14:25:42.169Z"
      },
      {
        "duration": 1339,
        "start_time": "2023-07-05T14:25:53.649Z"
      },
      {
        "duration": 1970,
        "start_time": "2023-07-05T14:26:14.377Z"
      },
      {
        "duration": 368,
        "start_time": "2023-07-05T14:26:54.564Z"
      },
      {
        "duration": 77,
        "start_time": "2023-07-05T14:29:44.787Z"
      },
      {
        "duration": 223,
        "start_time": "2023-07-05T14:29:55.447Z"
      },
      {
        "duration": 204,
        "start_time": "2023-07-05T14:31:24.937Z"
      },
      {
        "duration": 227,
        "start_time": "2023-07-05T14:31:27.548Z"
      },
      {
        "duration": 246,
        "start_time": "2023-07-05T14:31:38.030Z"
      },
      {
        "duration": 212,
        "start_time": "2023-07-05T14:31:47.176Z"
      },
      {
        "duration": 16,
        "start_time": "2023-07-05T14:37:30.973Z"
      },
      {
        "duration": 13,
        "start_time": "2023-07-05T14:37:42.938Z"
      },
      {
        "duration": 13,
        "start_time": "2023-07-05T14:37:49.330Z"
      },
      {
        "duration": 11,
        "start_time": "2023-07-05T14:38:00.190Z"
      },
      {
        "duration": 2133,
        "start_time": "2023-07-05T14:38:17.320Z"
      },
      {
        "duration": 21,
        "start_time": "2023-07-05T14:38:27.881Z"
      },
      {
        "duration": 17,
        "start_time": "2023-07-05T14:38:33.639Z"
      },
      {
        "duration": 2043,
        "start_time": "2023-07-05T14:38:46.352Z"
      },
      {
        "duration": 262,
        "start_time": "2023-07-05T14:39:10.550Z"
      },
      {
        "duration": 168,
        "start_time": "2023-07-05T14:39:14.596Z"
      },
      {
        "duration": 185,
        "start_time": "2023-07-05T14:39:38.489Z"
      },
      {
        "duration": 263,
        "start_time": "2023-07-05T14:40:10.125Z"
      },
      {
        "duration": 183,
        "start_time": "2023-07-05T14:40:31.184Z"
      },
      {
        "duration": 184,
        "start_time": "2023-07-05T14:43:23.169Z"
      },
      {
        "duration": 173,
        "start_time": "2023-07-05T14:44:25.722Z"
      },
      {
        "duration": 133,
        "start_time": "2023-07-05T14:46:51.300Z"
      },
      {
        "duration": 18,
        "start_time": "2023-07-05T14:47:01.958Z"
      },
      {
        "duration": 268,
        "start_time": "2023-07-05T15:06:29.215Z"
      },
      {
        "duration": 195,
        "start_time": "2023-07-05T15:08:02.578Z"
      },
      {
        "duration": 174,
        "start_time": "2023-07-05T15:08:29.450Z"
      },
      {
        "duration": 463,
        "start_time": "2023-07-05T15:08:57.644Z"
      },
      {
        "duration": 1147,
        "start_time": "2023-07-06T05:59:15.934Z"
      },
      {
        "duration": 191,
        "start_time": "2023-07-06T05:59:17.083Z"
      },
      {
        "duration": 66,
        "start_time": "2023-07-06T05:59:17.278Z"
      },
      {
        "duration": 22,
        "start_time": "2023-07-06T05:59:17.346Z"
      },
      {
        "duration": 2259,
        "start_time": "2023-07-06T05:59:17.370Z"
      },
      {
        "duration": 15,
        "start_time": "2023-07-06T05:59:19.631Z"
      },
      {
        "duration": 12,
        "start_time": "2023-07-06T05:59:19.649Z"
      },
      {
        "duration": 18,
        "start_time": "2023-07-06T05:59:19.663Z"
      },
      {
        "duration": 32,
        "start_time": "2023-07-06T05:59:19.683Z"
      },
      {
        "duration": 26,
        "start_time": "2023-07-06T05:59:19.719Z"
      },
      {
        "duration": 29,
        "start_time": "2023-07-06T05:59:19.747Z"
      },
      {
        "duration": 14,
        "start_time": "2023-07-06T05:59:19.779Z"
      },
      {
        "duration": 7,
        "start_time": "2023-07-06T05:59:19.796Z"
      },
      {
        "duration": 5,
        "start_time": "2023-07-06T05:59:19.805Z"
      },
      {
        "duration": 13,
        "start_time": "2023-07-06T05:59:19.813Z"
      },
      {
        "duration": 47,
        "start_time": "2023-07-06T05:59:19.828Z"
      },
      {
        "duration": 24,
        "start_time": "2023-07-06T05:59:19.877Z"
      },
      {
        "duration": 7,
        "start_time": "2023-07-06T05:59:19.904Z"
      },
      {
        "duration": 9,
        "start_time": "2023-07-06T05:59:19.913Z"
      },
      {
        "duration": 6,
        "start_time": "2023-07-06T05:59:19.924Z"
      },
      {
        "duration": 6,
        "start_time": "2023-07-06T05:59:19.933Z"
      },
      {
        "duration": 379,
        "start_time": "2023-07-06T05:59:19.968Z"
      },
      {
        "duration": 45,
        "start_time": "2023-07-06T05:59:20.349Z"
      },
      {
        "duration": 125,
        "start_time": "2023-07-06T05:59:20.396Z"
      },
      {
        "duration": 248,
        "start_time": "2023-07-06T05:59:20.523Z"
      },
      {
        "duration": 246,
        "start_time": "2023-07-06T05:59:20.773Z"
      },
      {
        "duration": 351,
        "start_time": "2023-07-06T05:59:21.021Z"
      },
      {
        "duration": 306,
        "start_time": "2023-07-06T05:59:21.378Z"
      },
      {
        "duration": 227,
        "start_time": "2023-07-06T05:59:21.686Z"
      },
      {
        "duration": 254,
        "start_time": "2023-07-06T05:59:21.916Z"
      },
      {
        "duration": 247,
        "start_time": "2023-07-06T05:59:22.172Z"
      },
      {
        "duration": 164,
        "start_time": "2023-07-06T05:59:22.421Z"
      },
      {
        "duration": 199,
        "start_time": "2023-07-06T05:59:22.587Z"
      },
      {
        "duration": 291,
        "start_time": "2023-07-06T05:59:22.788Z"
      },
      {
        "duration": 270,
        "start_time": "2023-07-06T05:59:23.081Z"
      },
      {
        "duration": 309,
        "start_time": "2023-07-06T05:59:23.353Z"
      },
      {
        "duration": 145,
        "start_time": "2023-07-06T05:59:23.667Z"
      },
      {
        "duration": 265,
        "start_time": "2023-07-06T05:59:23.814Z"
      },
      {
        "duration": 353,
        "start_time": "2023-07-06T05:59:24.081Z"
      },
      {
        "duration": 195,
        "start_time": "2023-07-06T05:59:24.436Z"
      },
      {
        "duration": 6,
        "start_time": "2023-07-06T05:59:24.633Z"
      },
      {
        "duration": 27,
        "start_time": "2023-07-06T05:59:24.641Z"
      },
      {
        "duration": 147,
        "start_time": "2023-07-06T05:59:24.670Z"
      },
      {
        "duration": 169,
        "start_time": "2023-07-06T05:59:24.819Z"
      },
      {
        "duration": 159,
        "start_time": "2023-07-06T05:59:24.990Z"
      },
      {
        "duration": 153,
        "start_time": "2023-07-06T05:59:25.151Z"
      },
      {
        "duration": 161,
        "start_time": "2023-07-06T05:59:25.306Z"
      },
      {
        "duration": 622,
        "start_time": "2023-07-06T05:59:25.469Z"
      },
      {
        "duration": 175,
        "start_time": "2023-07-06T06:00:10.590Z"
      },
      {
        "duration": 283,
        "start_time": "2023-07-06T06:03:52.484Z"
      },
      {
        "duration": 116,
        "start_time": "2023-07-06T06:12:49.593Z"
      },
      {
        "duration": 260,
        "start_time": "2023-07-06T06:12:55.692Z"
      },
      {
        "duration": 259,
        "start_time": "2023-07-06T06:13:03.539Z"
      },
      {
        "duration": 281,
        "start_time": "2023-07-06T06:16:17.615Z"
      },
      {
        "duration": 280,
        "start_time": "2023-07-06T06:17:18.674Z"
      },
      {
        "duration": 384,
        "start_time": "2023-07-06T06:25:24.357Z"
      },
      {
        "duration": 272,
        "start_time": "2023-07-06T06:25:35.134Z"
      },
      {
        "duration": 287,
        "start_time": "2023-07-06T06:25:38.566Z"
      },
      {
        "duration": 278,
        "start_time": "2023-07-06T06:25:46.920Z"
      },
      {
        "duration": 276,
        "start_time": "2023-07-06T06:26:48.913Z"
      },
      {
        "duration": 254,
        "start_time": "2023-07-06T06:27:33.607Z"
      },
      {
        "duration": 10,
        "start_time": "2023-07-06T06:38:01.826Z"
      },
      {
        "duration": 34,
        "start_time": "2023-07-06T06:47:34.622Z"
      },
      {
        "duration": 27,
        "start_time": "2023-07-06T06:49:04.844Z"
      },
      {
        "duration": 38,
        "start_time": "2023-07-06T06:49:21.638Z"
      },
      {
        "duration": 820,
        "start_time": "2023-07-06T17:42:56.275Z"
      },
      {
        "duration": 353,
        "start_time": "2023-07-06T17:42:57.097Z"
      },
      {
        "duration": 52,
        "start_time": "2023-07-06T17:42:57.452Z"
      },
      {
        "duration": 14,
        "start_time": "2023-07-06T17:42:57.507Z"
      },
      {
        "duration": 2124,
        "start_time": "2023-07-06T17:42:57.523Z"
      },
      {
        "duration": 11,
        "start_time": "2023-07-06T17:42:59.649Z"
      },
      {
        "duration": 21,
        "start_time": "2023-07-06T17:42:59.662Z"
      },
      {
        "duration": 6,
        "start_time": "2023-07-06T17:42:59.685Z"
      },
      {
        "duration": 25,
        "start_time": "2023-07-06T17:42:59.692Z"
      },
      {
        "duration": 16,
        "start_time": "2023-07-06T17:42:59.719Z"
      },
      {
        "duration": 28,
        "start_time": "2023-07-06T17:42:59.737Z"
      },
      {
        "duration": 9,
        "start_time": "2023-07-06T17:42:59.767Z"
      },
      {
        "duration": 17,
        "start_time": "2023-07-06T17:42:59.778Z"
      },
      {
        "duration": 12,
        "start_time": "2023-07-06T17:42:59.798Z"
      },
      {
        "duration": 12,
        "start_time": "2023-07-06T17:42:59.812Z"
      },
      {
        "duration": 9,
        "start_time": "2023-07-06T17:42:59.825Z"
      },
      {
        "duration": 46,
        "start_time": "2023-07-06T17:42:59.836Z"
      },
      {
        "duration": 5,
        "start_time": "2023-07-06T17:42:59.884Z"
      },
      {
        "duration": 35,
        "start_time": "2023-07-06T17:42:59.891Z"
      },
      {
        "duration": 10,
        "start_time": "2023-07-06T17:42:59.927Z"
      },
      {
        "duration": 29,
        "start_time": "2023-07-06T17:42:59.939Z"
      },
      {
        "duration": 417,
        "start_time": "2023-07-06T17:42:59.971Z"
      },
      {
        "duration": 29,
        "start_time": "2023-07-06T17:43:00.390Z"
      },
      {
        "duration": 169,
        "start_time": "2023-07-06T17:43:00.422Z"
      },
      {
        "duration": 231,
        "start_time": "2023-07-06T17:43:00.592Z"
      },
      {
        "duration": 238,
        "start_time": "2023-07-06T17:43:00.825Z"
      },
      {
        "duration": 348,
        "start_time": "2023-07-06T17:43:01.065Z"
      },
      {
        "duration": 341,
        "start_time": "2023-07-06T17:43:01.415Z"
      },
      {
        "duration": 228,
        "start_time": "2023-07-06T17:43:01.758Z"
      },
      {
        "duration": 215,
        "start_time": "2023-07-06T17:43:01.987Z"
      },
      {
        "duration": 217,
        "start_time": "2023-07-06T17:43:02.204Z"
      },
      {
        "duration": 196,
        "start_time": "2023-07-06T17:43:02.423Z"
      },
      {
        "duration": 225,
        "start_time": "2023-07-06T17:43:02.621Z"
      },
      {
        "duration": 258,
        "start_time": "2023-07-06T17:43:02.848Z"
      },
      {
        "duration": 222,
        "start_time": "2023-07-06T17:43:03.108Z"
      },
      {
        "duration": 351,
        "start_time": "2023-07-06T17:43:03.332Z"
      },
      {
        "duration": 144,
        "start_time": "2023-07-06T17:43:03.685Z"
      },
      {
        "duration": 155,
        "start_time": "2023-07-06T17:43:03.831Z"
      },
      {
        "duration": 291,
        "start_time": "2023-07-06T17:43:03.988Z"
      },
      {
        "duration": 154,
        "start_time": "2023-07-06T17:43:04.281Z"
      },
      {
        "duration": 19,
        "start_time": "2023-07-06T17:43:04.438Z"
      },
      {
        "duration": 16,
        "start_time": "2023-07-06T17:43:04.459Z"
      },
      {
        "duration": 136,
        "start_time": "2023-07-06T17:43:04.477Z"
      },
      {
        "duration": 159,
        "start_time": "2023-07-06T17:43:04.615Z"
      },
      {
        "duration": 250,
        "start_time": "2023-07-06T17:43:04.777Z"
      },
      {
        "duration": 252,
        "start_time": "2023-07-06T17:43:05.029Z"
      },
      {
        "duration": 162,
        "start_time": "2023-07-06T17:43:05.283Z"
      },
      {
        "duration": 258,
        "start_time": "2023-07-06T17:43:05.451Z"
      },
      {
        "duration": 30,
        "start_time": "2023-07-06T17:43:05.710Z"
      },
      {
        "duration": 4,
        "start_time": "2023-07-06T17:43:13.203Z"
      },
      {
        "duration": 29,
        "start_time": "2023-07-06T17:43:22.266Z"
      },
      {
        "duration": 15,
        "start_time": "2023-07-06T18:50:11.967Z"
      },
      {
        "duration": 15,
        "start_time": "2023-07-06T18:55:43.655Z"
      },
      {
        "duration": 85,
        "start_time": "2023-07-06T18:56:05.786Z"
      },
      {
        "duration": 14,
        "start_time": "2023-07-06T18:56:12.950Z"
      },
      {
        "duration": 17,
        "start_time": "2023-07-06T18:56:21.606Z"
      },
      {
        "duration": 16,
        "start_time": "2023-07-06T18:56:25.849Z"
      },
      {
        "duration": 13,
        "start_time": "2023-07-06T18:56:33.273Z"
      },
      {
        "duration": 13,
        "start_time": "2023-07-06T18:56:41.913Z"
      },
      {
        "duration": 14,
        "start_time": "2023-07-06T18:56:51.392Z"
      },
      {
        "duration": 826,
        "start_time": "2023-07-07T06:19:37.687Z"
      },
      {
        "duration": 155,
        "start_time": "2023-07-07T06:19:38.515Z"
      },
      {
        "duration": 40,
        "start_time": "2023-07-07T06:19:38.672Z"
      },
      {
        "duration": 14,
        "start_time": "2023-07-07T06:19:38.714Z"
      },
      {
        "duration": 1974,
        "start_time": "2023-07-07T06:19:38.729Z"
      },
      {
        "duration": 8,
        "start_time": "2023-07-07T06:19:40.705Z"
      },
      {
        "duration": 8,
        "start_time": "2023-07-07T06:19:40.715Z"
      },
      {
        "duration": 7,
        "start_time": "2023-07-07T06:19:40.724Z"
      },
      {
        "duration": 11,
        "start_time": "2023-07-07T06:19:40.733Z"
      },
      {
        "duration": 26,
        "start_time": "2023-07-07T06:19:40.746Z"
      },
      {
        "duration": 13,
        "start_time": "2023-07-07T06:19:40.774Z"
      },
      {
        "duration": 27,
        "start_time": "2023-07-07T06:19:40.789Z"
      },
      {
        "duration": 5,
        "start_time": "2023-07-07T06:19:40.817Z"
      },
      {
        "duration": 5,
        "start_time": "2023-07-07T06:19:40.824Z"
      },
      {
        "duration": 9,
        "start_time": "2023-07-07T06:19:40.830Z"
      },
      {
        "duration": 9,
        "start_time": "2023-07-07T06:19:40.841Z"
      },
      {
        "duration": 29,
        "start_time": "2023-07-07T06:19:40.851Z"
      },
      {
        "duration": 4,
        "start_time": "2023-07-07T06:19:40.882Z"
      },
      {
        "duration": 29,
        "start_time": "2023-07-07T06:19:40.887Z"
      },
      {
        "duration": 6,
        "start_time": "2023-07-07T06:19:40.917Z"
      },
      {
        "duration": 9,
        "start_time": "2023-07-07T06:19:40.924Z"
      },
      {
        "duration": 359,
        "start_time": "2023-07-07T06:19:40.934Z"
      },
      {
        "duration": 33,
        "start_time": "2023-07-07T06:19:41.295Z"
      },
      {
        "duration": 93,
        "start_time": "2023-07-07T06:19:41.330Z"
      },
      {
        "duration": 210,
        "start_time": "2023-07-07T06:19:41.425Z"
      },
      {
        "duration": 219,
        "start_time": "2023-07-07T06:19:41.637Z"
      },
      {
        "duration": 289,
        "start_time": "2023-07-07T06:19:41.857Z"
      },
      {
        "duration": 286,
        "start_time": "2023-07-07T06:19:42.149Z"
      },
      {
        "duration": 196,
        "start_time": "2023-07-07T06:19:42.437Z"
      },
      {
        "duration": 191,
        "start_time": "2023-07-07T06:19:42.634Z"
      },
      {
        "duration": 191,
        "start_time": "2023-07-07T06:19:42.827Z"
      },
      {
        "duration": 136,
        "start_time": "2023-07-07T06:19:43.019Z"
      },
      {
        "duration": 181,
        "start_time": "2023-07-07T06:19:43.157Z"
      },
      {
        "duration": 252,
        "start_time": "2023-07-07T06:19:43.340Z"
      },
      {
        "duration": 198,
        "start_time": "2023-07-07T06:19:43.594Z"
      },
      {
        "duration": 296,
        "start_time": "2023-07-07T06:19:43.794Z"
      },
      {
        "duration": 139,
        "start_time": "2023-07-07T06:19:44.091Z"
      },
      {
        "duration": 159,
        "start_time": "2023-07-07T06:19:44.232Z"
      },
      {
        "duration": 293,
        "start_time": "2023-07-07T06:19:44.392Z"
      },
      {
        "duration": 183,
        "start_time": "2023-07-07T06:19:44.686Z"
      },
      {
        "duration": 5,
        "start_time": "2023-07-07T06:19:44.871Z"
      },
      {
        "duration": 7,
        "start_time": "2023-07-07T06:19:44.877Z"
      },
      {
        "duration": 153,
        "start_time": "2023-07-07T06:19:44.886Z"
      },
      {
        "duration": 157,
        "start_time": "2023-07-07T06:19:45.041Z"
      },
      {
        "duration": 247,
        "start_time": "2023-07-07T06:19:45.200Z"
      },
      {
        "duration": 247,
        "start_time": "2023-07-07T06:19:45.448Z"
      },
      {
        "duration": 143,
        "start_time": "2023-07-07T06:19:45.696Z"
      },
      {
        "duration": 236,
        "start_time": "2023-07-07T06:19:45.841Z"
      },
      {
        "duration": 13,
        "start_time": "2023-07-07T06:19:46.078Z"
      },
      {
        "duration": 128,
        "start_time": "2023-07-07T06:21:16.017Z"
      },
      {
        "duration": 25,
        "start_time": "2023-07-07T06:22:02.604Z"
      },
      {
        "duration": 13,
        "start_time": "2023-07-07T06:22:12.786Z"
      },
      {
        "duration": 1790,
        "start_time": "2023-07-07T06:23:26.929Z"
      },
      {
        "duration": 15,
        "start_time": "2023-07-07T06:46:00.799Z"
      },
      {
        "duration": 21,
        "start_time": "2023-07-07T06:46:21.036Z"
      },
      {
        "duration": 13,
        "start_time": "2023-07-07T06:46:39.517Z"
      },
      {
        "duration": 14,
        "start_time": "2023-07-07T06:47:51.906Z"
      },
      {
        "duration": 17,
        "start_time": "2023-07-07T06:48:25.649Z"
      },
      {
        "duration": 10,
        "start_time": "2023-07-07T06:49:11.140Z"
      },
      {
        "duration": 16,
        "start_time": "2023-07-07T06:49:17.633Z"
      },
      {
        "duration": 21,
        "start_time": "2023-07-07T06:50:18.979Z"
      },
      {
        "duration": 20,
        "start_time": "2023-07-07T06:51:02.351Z"
      },
      {
        "duration": 22,
        "start_time": "2023-07-07T06:51:15.258Z"
      },
      {
        "duration": 20,
        "start_time": "2023-07-07T06:59:08.562Z"
      },
      {
        "duration": 21,
        "start_time": "2023-07-07T06:59:30.367Z"
      },
      {
        "duration": 1354,
        "start_time": "2023-07-07T06:59:47.350Z"
      },
      {
        "duration": 1505,
        "start_time": "2023-07-07T07:00:22.071Z"
      },
      {
        "duration": 33,
        "start_time": "2023-07-07T07:07:37.912Z"
      },
      {
        "duration": 24,
        "start_time": "2023-07-07T07:08:57.826Z"
      },
      {
        "duration": 9,
        "start_time": "2023-07-07T07:13:17.946Z"
      },
      {
        "duration": 5,
        "start_time": "2023-07-07T07:13:34.355Z"
      },
      {
        "duration": 4,
        "start_time": "2023-07-07T07:13:44.751Z"
      },
      {
        "duration": 19,
        "start_time": "2023-07-07T07:18:24.132Z"
      },
      {
        "duration": 23,
        "start_time": "2023-07-07T07:18:37.149Z"
      },
      {
        "duration": 13,
        "start_time": "2023-07-07T07:18:41.868Z"
      },
      {
        "duration": 14,
        "start_time": "2023-07-07T07:18:44.656Z"
      },
      {
        "duration": 1534,
        "start_time": "2023-07-07T07:18:56.740Z"
      },
      {
        "duration": 19,
        "start_time": "2023-07-07T07:29:36.415Z"
      },
      {
        "duration": 20,
        "start_time": "2023-07-07T07:29:48.204Z"
      },
      {
        "duration": 14,
        "start_time": "2023-07-07T07:30:07.160Z"
      },
      {
        "duration": 25,
        "start_time": "2023-07-07T07:31:07.252Z"
      },
      {
        "duration": 22,
        "start_time": "2023-07-07T07:31:28.796Z"
      },
      {
        "duration": 24,
        "start_time": "2023-07-07T07:31:43.237Z"
      },
      {
        "duration": 11,
        "start_time": "2023-07-07T07:32:01.640Z"
      },
      {
        "duration": 35,
        "start_time": "2023-07-07T07:33:39.666Z"
      },
      {
        "duration": 27,
        "start_time": "2023-07-07T07:34:12.560Z"
      },
      {
        "duration": 1163,
        "start_time": "2023-07-07T13:54:39.240Z"
      },
      {
        "duration": 309,
        "start_time": "2023-07-07T13:54:40.404Z"
      },
      {
        "duration": 39,
        "start_time": "2023-07-07T13:54:40.715Z"
      },
      {
        "duration": 15,
        "start_time": "2023-07-07T13:54:40.755Z"
      },
      {
        "duration": 1900,
        "start_time": "2023-07-07T13:54:40.776Z"
      },
      {
        "duration": 11,
        "start_time": "2023-07-07T13:54:42.678Z"
      },
      {
        "duration": 7,
        "start_time": "2023-07-07T13:54:42.691Z"
      },
      {
        "duration": 12,
        "start_time": "2023-07-07T13:54:42.700Z"
      },
      {
        "duration": 15,
        "start_time": "2023-07-07T13:54:42.714Z"
      },
      {
        "duration": 45,
        "start_time": "2023-07-07T13:54:42.731Z"
      },
      {
        "duration": 15,
        "start_time": "2023-07-07T13:54:42.778Z"
      },
      {
        "duration": 9,
        "start_time": "2023-07-07T13:54:42.795Z"
      },
      {
        "duration": 5,
        "start_time": "2023-07-07T13:54:42.806Z"
      },
      {
        "duration": 3,
        "start_time": "2023-07-07T13:54:42.815Z"
      },
      {
        "duration": 15,
        "start_time": "2023-07-07T13:54:42.820Z"
      },
      {
        "duration": 43,
        "start_time": "2023-07-07T13:54:42.837Z"
      },
      {
        "duration": 33,
        "start_time": "2023-07-07T13:54:42.882Z"
      },
      {
        "duration": 5,
        "start_time": "2023-07-07T13:54:42.917Z"
      },
      {
        "duration": 14,
        "start_time": "2023-07-07T13:54:42.924Z"
      },
      {
        "duration": 6,
        "start_time": "2023-07-07T13:54:42.940Z"
      },
      {
        "duration": 8,
        "start_time": "2023-07-07T13:54:42.948Z"
      },
      {
        "duration": 353,
        "start_time": "2023-07-07T13:54:42.958Z"
      },
      {
        "duration": 27,
        "start_time": "2023-07-07T13:54:43.312Z"
      },
      {
        "duration": 96,
        "start_time": "2023-07-07T13:54:43.341Z"
      },
      {
        "duration": 207,
        "start_time": "2023-07-07T13:54:43.438Z"
      },
      {
        "duration": 216,
        "start_time": "2023-07-07T13:54:43.646Z"
      },
      {
        "duration": 277,
        "start_time": "2023-07-07T13:54:43.864Z"
      },
      {
        "duration": 291,
        "start_time": "2023-07-07T13:54:44.143Z"
      },
      {
        "duration": 189,
        "start_time": "2023-07-07T13:54:44.436Z"
      },
      {
        "duration": 182,
        "start_time": "2023-07-07T13:54:44.627Z"
      },
      {
        "duration": 167,
        "start_time": "2023-07-07T13:54:44.811Z"
      },
      {
        "duration": 130,
        "start_time": "2023-07-07T13:54:44.980Z"
      },
      {
        "duration": 174,
        "start_time": "2023-07-07T13:54:45.112Z"
      },
      {
        "duration": 242,
        "start_time": "2023-07-07T13:54:45.287Z"
      },
      {
        "duration": 186,
        "start_time": "2023-07-07T13:54:45.530Z"
      },
      {
        "duration": 279,
        "start_time": "2023-07-07T13:54:45.717Z"
      },
      {
        "duration": 140,
        "start_time": "2023-07-07T13:54:45.998Z"
      },
      {
        "duration": 148,
        "start_time": "2023-07-07T13:54:46.140Z"
      },
      {
        "duration": 326,
        "start_time": "2023-07-07T13:54:46.290Z"
      },
      {
        "duration": 147,
        "start_time": "2023-07-07T13:54:46.617Z"
      },
      {
        "duration": 8,
        "start_time": "2023-07-07T13:54:46.768Z"
      },
      {
        "duration": 4,
        "start_time": "2023-07-07T13:54:46.778Z"
      },
      {
        "duration": 133,
        "start_time": "2023-07-07T13:54:46.784Z"
      },
      {
        "duration": 134,
        "start_time": "2023-07-07T13:54:46.919Z"
      },
      {
        "duration": 248,
        "start_time": "2023-07-07T13:54:47.055Z"
      },
      {
        "duration": 222,
        "start_time": "2023-07-07T13:54:47.305Z"
      },
      {
        "duration": 125,
        "start_time": "2023-07-07T13:54:47.528Z"
      },
      {
        "duration": 221,
        "start_time": "2023-07-07T13:54:47.655Z"
      },
      {
        "duration": 21,
        "start_time": "2023-07-07T13:54:47.878Z"
      },
      {
        "duration": 22,
        "start_time": "2023-07-07T13:55:23.644Z"
      },
      {
        "duration": 32,
        "start_time": "2023-07-07T13:56:04.160Z"
      },
      {
        "duration": 4,
        "start_time": "2023-07-07T14:04:55.731Z"
      },
      {
        "duration": 129,
        "start_time": "2023-07-07T14:05:27.510Z"
      },
      {
        "duration": 84,
        "start_time": "2023-07-07T14:05:46.113Z"
      },
      {
        "duration": 7,
        "start_time": "2023-07-07T14:05:52.720Z"
      },
      {
        "duration": 68,
        "start_time": "2023-07-07T14:06:20.079Z"
      },
      {
        "duration": 9,
        "start_time": "2023-07-07T14:06:36.219Z"
      },
      {
        "duration": 10,
        "start_time": "2023-07-07T14:06:46.933Z"
      },
      {
        "duration": 4,
        "start_time": "2023-07-07T14:20:05.029Z"
      },
      {
        "duration": 3,
        "start_time": "2023-07-07T14:20:12.898Z"
      },
      {
        "duration": 7,
        "start_time": "2023-07-07T14:20:18.420Z"
      },
      {
        "duration": 9,
        "start_time": "2023-07-07T14:20:35.396Z"
      },
      {
        "duration": 7,
        "start_time": "2023-07-07T14:20:45.632Z"
      },
      {
        "duration": 980,
        "start_time": "2023-07-07T14:21:07.083Z"
      },
      {
        "duration": 8,
        "start_time": "2023-07-07T14:21:11.350Z"
      },
      {
        "duration": 8,
        "start_time": "2023-07-07T14:21:27.150Z"
      },
      {
        "duration": 942,
        "start_time": "2023-07-07T14:21:41.980Z"
      },
      {
        "duration": 9,
        "start_time": "2023-07-07T14:21:47.431Z"
      },
      {
        "duration": 15,
        "start_time": "2023-07-07T14:22:22.434Z"
      },
      {
        "duration": 11,
        "start_time": "2023-07-07T14:22:40.068Z"
      },
      {
        "duration": 5,
        "start_time": "2023-07-07T14:24:34.194Z"
      },
      {
        "duration": 4,
        "start_time": "2023-07-07T14:24:45.804Z"
      },
      {
        "duration": 23,
        "start_time": "2023-07-07T14:25:14.617Z"
      },
      {
        "duration": 1293,
        "start_time": "2023-07-07T14:25:32.810Z"
      },
      {
        "duration": 8,
        "start_time": "2023-07-07T14:25:42.877Z"
      },
      {
        "duration": 8,
        "start_time": "2023-07-07T14:25:54.752Z"
      },
      {
        "duration": 12,
        "start_time": "2023-07-07T14:26:12.076Z"
      },
      {
        "duration": 8,
        "start_time": "2023-07-07T14:26:17.894Z"
      },
      {
        "duration": 7,
        "start_time": "2023-07-07T14:26:23.377Z"
      },
      {
        "duration": 8,
        "start_time": "2023-07-07T14:26:27.639Z"
      },
      {
        "duration": 10,
        "start_time": "2023-07-07T14:33:53.067Z"
      },
      {
        "duration": 28,
        "start_time": "2023-07-07T14:34:05.158Z"
      },
      {
        "duration": 29,
        "start_time": "2023-07-07T14:34:16.791Z"
      },
      {
        "duration": 9,
        "start_time": "2023-07-07T14:43:02.996Z"
      },
      {
        "duration": 7,
        "start_time": "2023-07-07T14:43:13.154Z"
      },
      {
        "duration": 7,
        "start_time": "2023-07-07T14:43:16.869Z"
      },
      {
        "duration": 8,
        "start_time": "2023-07-07T14:43:30.492Z"
      },
      {
        "duration": 998,
        "start_time": "2023-07-07T14:44:13.244Z"
      },
      {
        "duration": 994,
        "start_time": "2023-07-07T14:44:40.461Z"
      },
      {
        "duration": 16,
        "start_time": "2023-07-07T14:52:47.765Z"
      },
      {
        "duration": 22,
        "start_time": "2023-07-07T14:53:00.951Z"
      },
      {
        "duration": 21,
        "start_time": "2023-07-07T14:53:30.198Z"
      },
      {
        "duration": 24,
        "start_time": "2023-07-07T14:53:40.433Z"
      },
      {
        "duration": 7,
        "start_time": "2023-07-07T14:54:15.676Z"
      },
      {
        "duration": 48,
        "start_time": "2023-07-07T14:54:19.559Z"
      },
      {
        "duration": 52,
        "start_time": "2023-07-07T14:54:29.199Z"
      },
      {
        "duration": 43,
        "start_time": "2023-07-07T14:54:42.851Z"
      },
      {
        "duration": 304,
        "start_time": "2023-07-07T14:54:56.701Z"
      },
      {
        "duration": 335,
        "start_time": "2023-07-07T14:55:09.758Z"
      },
      {
        "duration": 15,
        "start_time": "2023-07-07T14:55:21.500Z"
      },
      {
        "duration": 18,
        "start_time": "2023-07-07T14:55:39.754Z"
      },
      {
        "duration": 17,
        "start_time": "2023-07-07T14:55:44.176Z"
      },
      {
        "duration": 24,
        "start_time": "2023-07-07T14:56:25.078Z"
      },
      {
        "duration": 9,
        "start_time": "2023-07-07T15:49:57.643Z"
      },
      {
        "duration": 5,
        "start_time": "2023-07-07T15:50:19.335Z"
      },
      {
        "duration": 4,
        "start_time": "2023-07-07T15:50:37.021Z"
      },
      {
        "duration": 81,
        "start_time": "2023-07-07T15:50:49.918Z"
      },
      {
        "duration": 3,
        "start_time": "2023-07-07T15:50:52.833Z"
      },
      {
        "duration": 5,
        "start_time": "2023-07-07T15:51:26.805Z"
      },
      {
        "duration": 9,
        "start_time": "2023-07-07T15:51:34.525Z"
      },
      {
        "duration": 11,
        "start_time": "2023-07-07T15:55:23.613Z"
      },
      {
        "duration": 9,
        "start_time": "2023-07-07T15:57:10.566Z"
      },
      {
        "duration": 13,
        "start_time": "2023-07-07T16:00:21.215Z"
      },
      {
        "duration": 13,
        "start_time": "2023-07-07T16:00:27.874Z"
      },
      {
        "duration": 132,
        "start_time": "2023-07-07T16:00:43.982Z"
      },
      {
        "duration": 12,
        "start_time": "2023-07-07T16:00:48.628Z"
      },
      {
        "duration": 10,
        "start_time": "2023-07-07T16:00:56.455Z"
      },
      {
        "duration": 18,
        "start_time": "2023-07-07T16:01:19.468Z"
      },
      {
        "duration": 15,
        "start_time": "2023-07-07T16:01:27.042Z"
      },
      {
        "duration": 30,
        "start_time": "2023-07-07T16:01:33.391Z"
      },
      {
        "duration": 18,
        "start_time": "2023-07-07T16:01:55.131Z"
      },
      {
        "duration": 12,
        "start_time": "2023-07-07T16:09:24.583Z"
      },
      {
        "duration": 12,
        "start_time": "2023-07-07T16:09:33.084Z"
      },
      {
        "duration": 10,
        "start_time": "2023-07-07T16:09:51.746Z"
      },
      {
        "duration": 55,
        "start_time": "2023-07-07T16:10:59.617Z"
      },
      {
        "duration": 10,
        "start_time": "2023-07-07T16:11:03.908Z"
      },
      {
        "duration": 14,
        "start_time": "2023-07-07T16:11:25.614Z"
      },
      {
        "duration": 19,
        "start_time": "2023-07-07T16:11:45.217Z"
      },
      {
        "duration": 13,
        "start_time": "2023-07-07T16:12:09.085Z"
      },
      {
        "duration": 35,
        "start_time": "2023-07-07T16:21:23.825Z"
      },
      {
        "duration": 35,
        "start_time": "2023-07-07T16:21:30.393Z"
      },
      {
        "duration": 31,
        "start_time": "2023-07-07T16:21:54.459Z"
      },
      {
        "duration": 10,
        "start_time": "2023-07-07T16:22:17.960Z"
      },
      {
        "duration": 17,
        "start_time": "2023-07-07T16:22:37.849Z"
      },
      {
        "duration": 1282,
        "start_time": "2023-07-07T16:22:47.584Z"
      },
      {
        "duration": 143,
        "start_time": "2023-07-07T16:22:54.419Z"
      },
      {
        "duration": 17,
        "start_time": "2023-07-07T16:22:56.241Z"
      },
      {
        "duration": 13,
        "start_time": "2023-07-07T16:26:26.061Z"
      },
      {
        "duration": 15,
        "start_time": "2023-07-07T16:26:37.914Z"
      },
      {
        "duration": 17,
        "start_time": "2023-07-07T16:26:52.981Z"
      },
      {
        "duration": 16,
        "start_time": "2023-07-07T16:37:34.244Z"
      },
      {
        "duration": 1017,
        "start_time": "2023-07-07T16:37:42.196Z"
      },
      {
        "duration": 953,
        "start_time": "2023-07-07T16:38:08.024Z"
      },
      {
        "duration": 14,
        "start_time": "2023-07-07T16:39:25.502Z"
      },
      {
        "duration": 16,
        "start_time": "2023-07-07T16:39:40.116Z"
      },
      {
        "duration": 17,
        "start_time": "2023-07-07T16:42:06.630Z"
      },
      {
        "duration": 13,
        "start_time": "2023-07-07T16:42:11.520Z"
      },
      {
        "duration": 13,
        "start_time": "2023-07-07T16:42:41.975Z"
      },
      {
        "duration": 1068,
        "start_time": "2023-07-07T16:43:29.824Z"
      },
      {
        "duration": 12,
        "start_time": "2023-07-07T16:43:48.527Z"
      },
      {
        "duration": 14,
        "start_time": "2023-07-07T16:45:07.485Z"
      },
      {
        "duration": 17,
        "start_time": "2023-07-07T16:45:53.183Z"
      },
      {
        "duration": 768,
        "start_time": "2023-07-09T07:29:37.009Z"
      },
      {
        "duration": 144,
        "start_time": "2023-07-09T07:29:37.779Z"
      },
      {
        "duration": 40,
        "start_time": "2023-07-09T07:29:37.924Z"
      },
      {
        "duration": 14,
        "start_time": "2023-07-09T07:29:37.966Z"
      },
      {
        "duration": 1798,
        "start_time": "2023-07-09T07:29:37.982Z"
      },
      {
        "duration": 9,
        "start_time": "2023-07-09T07:29:39.781Z"
      },
      {
        "duration": 19,
        "start_time": "2023-07-09T07:29:39.791Z"
      },
      {
        "duration": 22,
        "start_time": "2023-07-09T07:29:39.811Z"
      },
      {
        "duration": 14,
        "start_time": "2023-07-09T07:29:39.835Z"
      },
      {
        "duration": 15,
        "start_time": "2023-07-09T07:29:39.851Z"
      },
      {
        "duration": 14,
        "start_time": "2023-07-09T07:29:39.867Z"
      },
      {
        "duration": 9,
        "start_time": "2023-07-09T07:29:39.882Z"
      },
      {
        "duration": 13,
        "start_time": "2023-07-09T07:29:39.892Z"
      },
      {
        "duration": 3,
        "start_time": "2023-07-09T07:29:39.908Z"
      },
      {
        "duration": 10,
        "start_time": "2023-07-09T07:29:39.913Z"
      },
      {
        "duration": 12,
        "start_time": "2023-07-09T07:29:39.924Z"
      },
      {
        "duration": 37,
        "start_time": "2023-07-09T07:29:39.937Z"
      },
      {
        "duration": 21,
        "start_time": "2023-07-09T07:29:39.975Z"
      },
      {
        "duration": 20,
        "start_time": "2023-07-09T07:29:39.998Z"
      },
      {
        "duration": 26,
        "start_time": "2023-07-09T07:29:40.019Z"
      },
      {
        "duration": 9,
        "start_time": "2023-07-09T07:29:40.046Z"
      },
      {
        "duration": 337,
        "start_time": "2023-07-09T07:29:40.057Z"
      },
      {
        "duration": 20,
        "start_time": "2023-07-09T07:29:40.396Z"
      },
      {
        "duration": 92,
        "start_time": "2023-07-09T07:29:40.418Z"
      },
      {
        "duration": 188,
        "start_time": "2023-07-09T07:29:40.512Z"
      },
      {
        "duration": 198,
        "start_time": "2023-07-09T07:29:40.701Z"
      },
      {
        "duration": 274,
        "start_time": "2023-07-09T07:29:40.900Z"
      },
      {
        "duration": 288,
        "start_time": "2023-07-09T07:29:41.175Z"
      },
      {
        "duration": 188,
        "start_time": "2023-07-09T07:29:41.465Z"
      },
      {
        "duration": 183,
        "start_time": "2023-07-09T07:29:41.654Z"
      },
      {
        "duration": 165,
        "start_time": "2023-07-09T07:29:41.839Z"
      },
      {
        "duration": 120,
        "start_time": "2023-07-09T07:29:42.005Z"
      },
      {
        "duration": 163,
        "start_time": "2023-07-09T07:29:42.126Z"
      },
      {
        "duration": 224,
        "start_time": "2023-07-09T07:29:42.291Z"
      },
      {
        "duration": 182,
        "start_time": "2023-07-09T07:29:42.517Z"
      },
      {
        "duration": 270,
        "start_time": "2023-07-09T07:29:42.700Z"
      },
      {
        "duration": 134,
        "start_time": "2023-07-09T07:29:42.972Z"
      },
      {
        "duration": 138,
        "start_time": "2023-07-09T07:29:43.108Z"
      },
      {
        "duration": 249,
        "start_time": "2023-07-09T07:29:43.247Z"
      },
      {
        "duration": 148,
        "start_time": "2023-07-09T07:29:43.498Z"
      },
      {
        "duration": 4,
        "start_time": "2023-07-09T07:29:43.649Z"
      },
      {
        "duration": 15,
        "start_time": "2023-07-09T07:29:43.655Z"
      },
      {
        "duration": 133,
        "start_time": "2023-07-09T07:29:43.671Z"
      },
      {
        "duration": 140,
        "start_time": "2023-07-09T07:29:43.805Z"
      },
      {
        "duration": 248,
        "start_time": "2023-07-09T07:29:43.946Z"
      },
      {
        "duration": 224,
        "start_time": "2023-07-09T07:29:44.196Z"
      },
      {
        "duration": 129,
        "start_time": "2023-07-09T07:29:44.421Z"
      },
      {
        "duration": 237,
        "start_time": "2023-07-09T07:29:44.552Z"
      },
      {
        "duration": 16,
        "start_time": "2023-07-09T07:29:44.790Z"
      },
      {
        "duration": 9,
        "start_time": "2023-07-09T07:30:45.990Z"
      },
      {
        "duration": 5,
        "start_time": "2023-07-09T07:31:12.769Z"
      },
      {
        "duration": 7,
        "start_time": "2023-07-09T07:31:19.129Z"
      },
      {
        "duration": 6,
        "start_time": "2023-07-09T07:31:24.813Z"
      },
      {
        "duration": 9,
        "start_time": "2023-07-09T07:31:33.229Z"
      },
      {
        "duration": 10,
        "start_time": "2023-07-09T07:31:42.401Z"
      },
      {
        "duration": 10,
        "start_time": "2023-07-09T07:31:53.789Z"
      },
      {
        "duration": 10,
        "start_time": "2023-07-09T07:32:01.601Z"
      },
      {
        "duration": 75,
        "start_time": "2023-07-09T07:32:41.749Z"
      },
      {
        "duration": 14,
        "start_time": "2023-07-09T07:32:46.404Z"
      },
      {
        "duration": 9,
        "start_time": "2023-07-09T07:33:19.961Z"
      },
      {
        "duration": 12,
        "start_time": "2023-07-09T07:33:46.945Z"
      },
      {
        "duration": 10,
        "start_time": "2023-07-09T07:33:59.597Z"
      },
      {
        "duration": 10,
        "start_time": "2023-07-09T07:34:10.461Z"
      },
      {
        "duration": 11,
        "start_time": "2023-07-09T07:34:17.093Z"
      },
      {
        "duration": 9,
        "start_time": "2023-07-09T07:34:46.657Z"
      },
      {
        "duration": 10,
        "start_time": "2023-07-09T07:35:00.289Z"
      },
      {
        "duration": 10,
        "start_time": "2023-07-09T07:35:32.978Z"
      },
      {
        "duration": 14,
        "start_time": "2023-07-09T07:35:46.257Z"
      },
      {
        "duration": 15,
        "start_time": "2023-07-09T07:35:49.896Z"
      },
      {
        "duration": 11,
        "start_time": "2023-07-09T07:35:57.612Z"
      },
      {
        "duration": 7199,
        "start_time": "2023-07-09T07:44:21.076Z"
      },
      {
        "duration": 6985,
        "start_time": "2023-07-09T07:44:29.949Z"
      },
      {
        "duration": 6684,
        "start_time": "2023-07-09T07:44:39.909Z"
      },
      {
        "duration": 6776,
        "start_time": "2023-07-09T07:44:51.134Z"
      },
      {
        "duration": 17,
        "start_time": "2023-07-09T07:45:10.733Z"
      },
      {
        "duration": 91,
        "start_time": "2023-07-09T07:45:45.141Z"
      },
      {
        "duration": 18,
        "start_time": "2023-07-09T07:45:56.240Z"
      },
      {
        "duration": 36,
        "start_time": "2023-07-09T07:46:03.921Z"
      },
      {
        "duration": 112,
        "start_time": "2023-07-09T07:46:27.261Z"
      },
      {
        "duration": 19,
        "start_time": "2023-07-09T07:46:31.856Z"
      },
      {
        "duration": 19,
        "start_time": "2023-07-09T07:46:49.452Z"
      },
      {
        "duration": 16,
        "start_time": "2023-07-09T07:49:34.957Z"
      },
      {
        "duration": 16,
        "start_time": "2023-07-09T07:49:41.325Z"
      },
      {
        "duration": 20,
        "start_time": "2023-07-09T07:49:53.981Z"
      },
      {
        "duration": 20,
        "start_time": "2023-07-09T07:50:00.724Z"
      },
      {
        "duration": 17,
        "start_time": "2023-07-09T07:50:19.792Z"
      },
      {
        "duration": 71,
        "start_time": "2023-07-09T07:50:26.900Z"
      },
      {
        "duration": 56,
        "start_time": "2023-07-09T07:50:35.400Z"
      },
      {
        "duration": 58,
        "start_time": "2023-07-09T07:50:43.833Z"
      },
      {
        "duration": 20,
        "start_time": "2023-07-09T07:50:53.417Z"
      },
      {
        "duration": 24,
        "start_time": "2023-07-09T07:51:33.105Z"
      },
      {
        "duration": 25,
        "start_time": "2023-07-09T07:51:45.764Z"
      },
      {
        "duration": 20,
        "start_time": "2023-07-09T07:51:54.357Z"
      },
      {
        "duration": 1318,
        "start_time": "2023-07-09T07:53:24.013Z"
      },
      {
        "duration": 20,
        "start_time": "2023-07-09T07:53:33.690Z"
      },
      {
        "duration": 23,
        "start_time": "2023-07-09T07:53:47.909Z"
      },
      {
        "duration": 24,
        "start_time": "2023-07-09T07:53:54.805Z"
      },
      {
        "duration": 23,
        "start_time": "2023-07-09T07:54:04.095Z"
      },
      {
        "duration": 1322,
        "start_time": "2023-07-09T07:54:24.417Z"
      },
      {
        "duration": 1488,
        "start_time": "2023-07-09T07:54:38.969Z"
      },
      {
        "duration": 20,
        "start_time": "2023-07-09T07:54:41.856Z"
      },
      {
        "duration": 1435,
        "start_time": "2023-07-09T07:54:49.473Z"
      },
      {
        "duration": 1462,
        "start_time": "2023-07-09T07:54:55.295Z"
      },
      {
        "duration": 15,
        "start_time": "2023-07-09T07:55:12.197Z"
      },
      {
        "duration": 18,
        "start_time": "2023-07-09T08:06:03.536Z"
      },
      {
        "duration": 23,
        "start_time": "2023-07-09T08:07:37.368Z"
      },
      {
        "duration": 16,
        "start_time": "2023-07-09T08:07:43.332Z"
      },
      {
        "duration": 18,
        "start_time": "2023-07-09T08:07:58.933Z"
      },
      {
        "duration": 85,
        "start_time": "2023-07-09T08:10:53.364Z"
      },
      {
        "duration": 16,
        "start_time": "2023-07-09T08:10:59.615Z"
      },
      {
        "duration": 11,
        "start_time": "2023-07-09T08:15:55.600Z"
      },
      {
        "duration": 11,
        "start_time": "2023-07-09T08:16:12.315Z"
      },
      {
        "duration": 12,
        "start_time": "2023-07-09T08:16:37.810Z"
      },
      {
        "duration": 12,
        "start_time": "2023-07-09T08:17:29.760Z"
      },
      {
        "duration": 25,
        "start_time": "2023-07-09T08:17:48.305Z"
      },
      {
        "duration": 11,
        "start_time": "2023-07-09T08:18:06.148Z"
      },
      {
        "duration": 6,
        "start_time": "2023-07-09T08:18:10.112Z"
      },
      {
        "duration": 8,
        "start_time": "2023-07-09T08:18:16.940Z"
      },
      {
        "duration": 4,
        "start_time": "2023-07-09T08:18:30.624Z"
      },
      {
        "duration": 43,
        "start_time": "2023-07-09T08:19:18.437Z"
      },
      {
        "duration": 8,
        "start_time": "2023-07-09T08:24:11.860Z"
      },
      {
        "duration": 6,
        "start_time": "2023-07-09T08:24:16.048Z"
      },
      {
        "duration": 8,
        "start_time": "2023-07-09T08:24:52.891Z"
      },
      {
        "duration": 11,
        "start_time": "2023-07-09T08:25:00.808Z"
      },
      {
        "duration": 92,
        "start_time": "2023-07-09T08:25:49.928Z"
      },
      {
        "duration": 32,
        "start_time": "2023-07-09T08:25:54.251Z"
      },
      {
        "duration": 13,
        "start_time": "2023-07-09T08:26:10.848Z"
      },
      {
        "duration": 22,
        "start_time": "2023-07-09T08:26:34.704Z"
      },
      {
        "duration": 14,
        "start_time": "2023-07-09T08:26:43.212Z"
      },
      {
        "duration": 14,
        "start_time": "2023-07-09T08:27:09.756Z"
      },
      {
        "duration": 14,
        "start_time": "2023-07-09T08:27:15.097Z"
      },
      {
        "duration": 17,
        "start_time": "2023-07-09T08:27:40.520Z"
      },
      {
        "duration": 25,
        "start_time": "2023-07-09T08:28:24.499Z"
      },
      {
        "duration": 19,
        "start_time": "2023-07-09T08:29:00.196Z"
      },
      {
        "duration": 151,
        "start_time": "2023-07-09T08:29:54.187Z"
      },
      {
        "duration": 189,
        "start_time": "2023-07-09T08:32:44.024Z"
      },
      {
        "duration": 181,
        "start_time": "2023-07-09T08:32:52.994Z"
      },
      {
        "duration": 225,
        "start_time": "2023-07-09T08:33:06.452Z"
      },
      {
        "duration": 153,
        "start_time": "2023-07-09T08:33:26.364Z"
      },
      {
        "duration": 274,
        "start_time": "2023-07-09T08:48:07.456Z"
      },
      {
        "duration": 305,
        "start_time": "2023-07-09T08:48:21.064Z"
      },
      {
        "duration": 283,
        "start_time": "2023-07-09T08:50:09.972Z"
      },
      {
        "duration": 349,
        "start_time": "2023-07-09T08:50:13.924Z"
      },
      {
        "duration": 440,
        "start_time": "2023-07-09T08:50:46.991Z"
      },
      {
        "duration": 289,
        "start_time": "2023-07-09T08:51:12.948Z"
      },
      {
        "duration": 288,
        "start_time": "2023-07-09T08:51:23.268Z"
      },
      {
        "duration": 308,
        "start_time": "2023-07-09T08:51:30.204Z"
      },
      {
        "duration": 280,
        "start_time": "2023-07-09T08:56:09.523Z"
      },
      {
        "duration": 279,
        "start_time": "2023-07-09T08:56:26.293Z"
      },
      {
        "duration": 96,
        "start_time": "2023-07-09T08:56:37.052Z"
      },
      {
        "duration": 278,
        "start_time": "2023-07-09T08:56:40.868Z"
      },
      {
        "duration": 450,
        "start_time": "2023-07-09T08:56:59.896Z"
      },
      {
        "duration": 1675,
        "start_time": "2023-07-09T08:57:08.420Z"
      },
      {
        "duration": 279,
        "start_time": "2023-07-09T08:57:17.964Z"
      },
      {
        "duration": 277,
        "start_time": "2023-07-09T08:57:34.368Z"
      },
      {
        "duration": 269,
        "start_time": "2023-07-09T08:57:48.648Z"
      },
      {
        "duration": 270,
        "start_time": "2023-07-09T08:57:56.644Z"
      },
      {
        "duration": 465,
        "start_time": "2023-07-09T08:58:01.794Z"
      },
      {
        "duration": 288,
        "start_time": "2023-07-09T08:58:09.892Z"
      },
      {
        "duration": 275,
        "start_time": "2023-07-09T08:58:18.340Z"
      },
      {
        "duration": 298,
        "start_time": "2023-07-09T08:58:23.696Z"
      },
      {
        "duration": 317,
        "start_time": "2023-07-09T08:58:27.752Z"
      },
      {
        "duration": 906,
        "start_time": "2023-07-09T14:18:45.014Z"
      },
      {
        "duration": 159,
        "start_time": "2023-07-09T14:18:45.923Z"
      },
      {
        "duration": 48,
        "start_time": "2023-07-09T14:18:46.085Z"
      },
      {
        "duration": 17,
        "start_time": "2023-07-09T14:18:46.136Z"
      },
      {
        "duration": 2204,
        "start_time": "2023-07-09T14:18:46.155Z"
      },
      {
        "duration": 10,
        "start_time": "2023-07-09T14:18:48.361Z"
      },
      {
        "duration": 52,
        "start_time": "2023-07-09T14:18:48.373Z"
      },
      {
        "duration": 31,
        "start_time": "2023-07-09T14:18:48.427Z"
      },
      {
        "duration": 25,
        "start_time": "2023-07-09T14:18:48.460Z"
      },
      {
        "duration": 21,
        "start_time": "2023-07-09T14:18:48.488Z"
      },
      {
        "duration": 16,
        "start_time": "2023-07-09T14:18:48.511Z"
      },
      {
        "duration": 11,
        "start_time": "2023-07-09T14:18:48.529Z"
      },
      {
        "duration": 5,
        "start_time": "2023-07-09T14:18:48.543Z"
      },
      {
        "duration": 14,
        "start_time": "2023-07-09T14:18:48.550Z"
      },
      {
        "duration": 40,
        "start_time": "2023-07-09T14:18:48.566Z"
      },
      {
        "duration": 15,
        "start_time": "2023-07-09T14:18:48.608Z"
      },
      {
        "duration": 31,
        "start_time": "2023-07-09T14:18:48.625Z"
      },
      {
        "duration": 14,
        "start_time": "2023-07-09T14:18:48.658Z"
      },
      {
        "duration": 13,
        "start_time": "2023-07-09T14:18:48.674Z"
      },
      {
        "duration": 6,
        "start_time": "2023-07-09T14:18:48.689Z"
      },
      {
        "duration": 21,
        "start_time": "2023-07-09T14:18:48.697Z"
      },
      {
        "duration": 372,
        "start_time": "2023-07-09T14:18:48.720Z"
      },
      {
        "duration": 35,
        "start_time": "2023-07-09T14:18:49.094Z"
      },
      {
        "duration": 113,
        "start_time": "2023-07-09T14:18:49.132Z"
      },
      {
        "duration": 229,
        "start_time": "2023-07-09T14:18:49.247Z"
      },
      {
        "duration": 305,
        "start_time": "2023-07-09T14:18:49.478Z"
      },
      {
        "duration": 349,
        "start_time": "2023-07-09T14:18:49.785Z"
      },
      {
        "duration": 329,
        "start_time": "2023-07-09T14:18:50.138Z"
      },
      {
        "duration": 256,
        "start_time": "2023-07-09T14:18:50.469Z"
      },
      {
        "duration": 228,
        "start_time": "2023-07-09T14:18:50.727Z"
      },
      {
        "duration": 198,
        "start_time": "2023-07-09T14:18:50.956Z"
      },
      {
        "duration": 159,
        "start_time": "2023-07-09T14:18:51.156Z"
      },
      {
        "duration": 198,
        "start_time": "2023-07-09T14:18:51.317Z"
      },
      {
        "duration": 273,
        "start_time": "2023-07-09T14:18:51.517Z"
      },
      {
        "duration": 216,
        "start_time": "2023-07-09T14:18:51.792Z"
      },
      {
        "duration": 312,
        "start_time": "2023-07-09T14:18:52.010Z"
      },
      {
        "duration": 152,
        "start_time": "2023-07-09T14:18:52.324Z"
      },
      {
        "duration": 182,
        "start_time": "2023-07-09T14:18:52.479Z"
      },
      {
        "duration": 329,
        "start_time": "2023-07-09T14:18:52.664Z"
      },
      {
        "duration": 185,
        "start_time": "2023-07-09T14:18:52.995Z"
      },
      {
        "duration": 5,
        "start_time": "2023-07-09T14:18:53.182Z"
      },
      {
        "duration": 22,
        "start_time": "2023-07-09T14:18:53.189Z"
      },
      {
        "duration": 165,
        "start_time": "2023-07-09T14:18:53.213Z"
      },
      {
        "duration": 169,
        "start_time": "2023-07-09T14:18:53.380Z"
      },
      {
        "duration": 280,
        "start_time": "2023-07-09T14:18:53.551Z"
      },
      {
        "duration": 288,
        "start_time": "2023-07-09T14:18:53.833Z"
      },
      {
        "duration": 159,
        "start_time": "2023-07-09T14:18:54.123Z"
      },
      {
        "duration": 261,
        "start_time": "2023-07-09T14:18:54.284Z"
      },
      {
        "duration": 20,
        "start_time": "2023-07-09T14:18:54.546Z"
      },
      {
        "duration": 222,
        "start_time": "2023-07-09T14:18:54.568Z"
      },
      {
        "duration": 431,
        "start_time": "2023-07-09T14:21:44.000Z"
      },
      {
        "duration": 332,
        "start_time": "2023-07-09T14:21:54.577Z"
      },
      {
        "duration": 299,
        "start_time": "2023-07-09T14:22:09.821Z"
      },
      {
        "duration": 312,
        "start_time": "2023-07-09T14:22:20.933Z"
      },
      {
        "duration": 346,
        "start_time": "2023-07-09T14:22:38.990Z"
      },
      {
        "duration": 543,
        "start_time": "2023-07-09T14:22:49.297Z"
      },
      {
        "duration": 223,
        "start_time": "2023-07-09T14:28:23.401Z"
      },
      {
        "duration": 198,
        "start_time": "2023-07-09T14:28:50.248Z"
      },
      {
        "duration": 220,
        "start_time": "2023-07-09T14:28:55.880Z"
      },
      {
        "duration": 200,
        "start_time": "2023-07-09T14:31:33.584Z"
      },
      {
        "duration": 268,
        "start_time": "2023-07-09T14:31:49.608Z"
      },
      {
        "duration": 211,
        "start_time": "2023-07-09T14:46:25.506Z"
      },
      {
        "duration": 230,
        "start_time": "2023-07-09T14:46:52.201Z"
      },
      {
        "duration": 208,
        "start_time": "2023-07-09T14:47:57.086Z"
      },
      {
        "duration": 138,
        "start_time": "2023-07-09T14:48:12.534Z"
      },
      {
        "duration": 196,
        "start_time": "2023-07-09T14:48:36.791Z"
      },
      {
        "duration": 179,
        "start_time": "2023-07-09T14:48:40.105Z"
      },
      {
        "duration": 213,
        "start_time": "2023-07-09T14:51:44.737Z"
      },
      {
        "duration": 401,
        "start_time": "2023-07-09T14:52:04.409Z"
      },
      {
        "duration": 246,
        "start_time": "2023-07-09T14:52:57.430Z"
      },
      {
        "duration": 281,
        "start_time": "2023-07-09T14:54:03.620Z"
      },
      {
        "duration": 436,
        "start_time": "2023-07-09T14:54:37.749Z"
      },
      {
        "duration": 246,
        "start_time": "2023-07-09T15:08:51.722Z"
      },
      {
        "duration": 255,
        "start_time": "2023-07-09T15:10:35.226Z"
      },
      {
        "duration": 713,
        "start_time": "2023-07-09T15:22:22.901Z"
      },
      {
        "duration": 108,
        "start_time": "2023-07-09T15:22:23.616Z"
      },
      {
        "duration": 64,
        "start_time": "2023-07-09T15:22:23.726Z"
      },
      {
        "duration": 20,
        "start_time": "2023-07-09T15:22:23.792Z"
      },
      {
        "duration": 2324,
        "start_time": "2023-07-09T15:22:23.815Z"
      },
      {
        "duration": 10,
        "start_time": "2023-07-09T15:22:26.141Z"
      },
      {
        "duration": 27,
        "start_time": "2023-07-09T15:22:26.152Z"
      },
      {
        "duration": 17,
        "start_time": "2023-07-09T15:22:26.181Z"
      },
      {
        "duration": 16,
        "start_time": "2023-07-09T15:22:26.200Z"
      },
      {
        "duration": 19,
        "start_time": "2023-07-09T15:22:26.218Z"
      },
      {
        "duration": 42,
        "start_time": "2023-07-09T15:22:26.239Z"
      },
      {
        "duration": 12,
        "start_time": "2023-07-09T15:22:26.283Z"
      },
      {
        "duration": 6,
        "start_time": "2023-07-09T15:22:26.298Z"
      },
      {
        "duration": 11,
        "start_time": "2023-07-09T15:22:26.308Z"
      },
      {
        "duration": 10,
        "start_time": "2023-07-09T15:22:26.321Z"
      },
      {
        "duration": 11,
        "start_time": "2023-07-09T15:22:26.334Z"
      },
      {
        "duration": 51,
        "start_time": "2023-07-09T15:22:26.347Z"
      },
      {
        "duration": 5,
        "start_time": "2023-07-09T15:22:26.400Z"
      },
      {
        "duration": 18,
        "start_time": "2023-07-09T15:22:26.407Z"
      },
      {
        "duration": 18,
        "start_time": "2023-07-09T15:22:26.426Z"
      },
      {
        "duration": 8,
        "start_time": "2023-07-09T15:22:26.446Z"
      },
      {
        "duration": 443,
        "start_time": "2023-07-09T15:22:26.456Z"
      },
      {
        "duration": 30,
        "start_time": "2023-07-09T15:22:26.902Z"
      },
      {
        "duration": 123,
        "start_time": "2023-07-09T15:22:26.934Z"
      },
      {
        "duration": 259,
        "start_time": "2023-07-09T15:22:27.059Z"
      },
      {
        "duration": 255,
        "start_time": "2023-07-09T15:22:27.320Z"
      },
      {
        "duration": 367,
        "start_time": "2023-07-09T15:22:27.577Z"
      },
      {
        "duration": 337,
        "start_time": "2023-07-09T15:22:27.946Z"
      },
      {
        "duration": 226,
        "start_time": "2023-07-09T15:22:28.286Z"
      },
      {
        "duration": 246,
        "start_time": "2023-07-09T15:22:28.513Z"
      },
      {
        "duration": 236,
        "start_time": "2023-07-09T15:22:28.760Z"
      },
      {
        "duration": 159,
        "start_time": "2023-07-09T15:22:28.998Z"
      },
      {
        "duration": 268,
        "start_time": "2023-07-09T15:22:29.159Z"
      },
      {
        "duration": 290,
        "start_time": "2023-07-09T15:22:29.428Z"
      },
      {
        "duration": 361,
        "start_time": "2023-07-09T15:22:29.721Z"
      },
      {
        "duration": 243,
        "start_time": "2023-07-09T15:22:30.084Z"
      },
      {
        "duration": 167,
        "start_time": "2023-07-09T15:22:30.328Z"
      },
      {
        "duration": 172,
        "start_time": "2023-07-09T15:22:30.498Z"
      },
      {
        "duration": 342,
        "start_time": "2023-07-09T15:22:30.673Z"
      },
      {
        "duration": 204,
        "start_time": "2023-07-09T15:22:31.017Z"
      },
      {
        "duration": 6,
        "start_time": "2023-07-09T15:22:31.225Z"
      },
      {
        "duration": 66,
        "start_time": "2023-07-09T15:22:31.232Z"
      },
      {
        "duration": 251,
        "start_time": "2023-07-09T15:22:31.300Z"
      },
      {
        "duration": 176,
        "start_time": "2023-07-09T15:22:31.553Z"
      },
      {
        "duration": 304,
        "start_time": "2023-07-09T15:22:31.732Z"
      },
      {
        "duration": 296,
        "start_time": "2023-07-09T15:22:32.037Z"
      },
      {
        "duration": 182,
        "start_time": "2023-07-09T15:22:32.335Z"
      },
      {
        "duration": 423,
        "start_time": "2023-07-09T15:22:32.519Z"
      },
      {
        "duration": 39,
        "start_time": "2023-07-09T15:22:32.943Z"
      },
      {
        "duration": 171,
        "start_time": "2023-07-09T15:22:32.986Z"
      },
      {
        "duration": 225,
        "start_time": "2023-07-10T10:18:24.006Z"
      },
      {
        "duration": 64,
        "start_time": "2023-07-10T10:18:29.192Z"
      },
      {
        "duration": 3,
        "start_time": "2023-07-10T10:19:34.383Z"
      },
      {
        "duration": 3,
        "start_time": "2023-07-10T10:19:54.952Z"
      },
      {
        "duration": 4,
        "start_time": "2023-07-10T10:19:59.127Z"
      },
      {
        "duration": 4,
        "start_time": "2023-07-10T10:20:20.548Z"
      },
      {
        "duration": 8,
        "start_time": "2023-07-10T10:20:58.184Z"
      },
      {
        "duration": 768,
        "start_time": "2023-07-10T10:21:10.937Z"
      },
      {
        "duration": 327,
        "start_time": "2023-07-10T10:21:11.707Z"
      },
      {
        "duration": 40,
        "start_time": "2023-07-10T10:21:12.035Z"
      },
      {
        "duration": 15,
        "start_time": "2023-07-10T10:21:12.077Z"
      },
      {
        "duration": 1742,
        "start_time": "2023-07-10T10:21:12.112Z"
      },
      {
        "duration": 8,
        "start_time": "2023-07-10T10:21:13.856Z"
      },
      {
        "duration": 5,
        "start_time": "2023-07-10T10:21:13.865Z"
      },
      {
        "duration": 5,
        "start_time": "2023-07-10T10:21:13.871Z"
      },
      {
        "duration": 12,
        "start_time": "2023-07-10T10:21:13.878Z"
      },
      {
        "duration": 33,
        "start_time": "2023-07-10T10:21:13.891Z"
      },
      {
        "duration": 13,
        "start_time": "2023-07-10T10:21:13.925Z"
      },
      {
        "duration": 9,
        "start_time": "2023-07-10T10:21:13.939Z"
      },
      {
        "duration": 4,
        "start_time": "2023-07-10T10:21:13.949Z"
      },
      {
        "duration": 6,
        "start_time": "2023-07-10T10:21:13.956Z"
      },
      {
        "duration": 15,
        "start_time": "2023-07-10T10:21:13.964Z"
      },
      {
        "duration": 30,
        "start_time": "2023-07-10T10:21:13.980Z"
      },
      {
        "duration": 20,
        "start_time": "2023-07-10T10:21:14.011Z"
      },
      {
        "duration": 5,
        "start_time": "2023-07-10T10:21:14.032Z"
      },
      {
        "duration": 9,
        "start_time": "2023-07-10T10:21:14.038Z"
      },
      {
        "duration": 6,
        "start_time": "2023-07-10T10:21:14.049Z"
      },
      {
        "duration": 6,
        "start_time": "2023-07-10T10:21:14.056Z"
      },
      {
        "duration": 356,
        "start_time": "2023-07-10T10:21:14.063Z"
      },
      {
        "duration": 21,
        "start_time": "2023-07-10T10:21:14.421Z"
      },
      {
        "duration": 101,
        "start_time": "2023-07-10T10:21:14.443Z"
      },
      {
        "duration": 181,
        "start_time": "2023-07-10T10:21:14.545Z"
      },
      {
        "duration": 192,
        "start_time": "2023-07-10T10:21:14.727Z"
      },
      {
        "duration": 271,
        "start_time": "2023-07-10T10:21:14.921Z"
      },
      {
        "duration": 264,
        "start_time": "2023-07-10T10:21:15.194Z"
      },
      {
        "duration": 188,
        "start_time": "2023-07-10T10:21:15.459Z"
      },
      {
        "duration": 175,
        "start_time": "2023-07-10T10:21:15.649Z"
      },
      {
        "duration": 191,
        "start_time": "2023-07-10T10:21:15.825Z"
      },
      {
        "duration": 141,
        "start_time": "2023-07-10T10:21:16.017Z"
      },
      {
        "duration": 210,
        "start_time": "2023-07-10T10:21:16.160Z"
      },
      {
        "duration": 211,
        "start_time": "2023-07-10T10:21:16.372Z"
      },
      {
        "duration": 238,
        "start_time": "2023-07-10T10:21:16.584Z"
      },
      {
        "duration": 169,
        "start_time": "2023-07-10T10:21:16.824Z"
      },
      {
        "duration": 124,
        "start_time": "2023-07-10T10:21:16.995Z"
      },
      {
        "duration": 132,
        "start_time": "2023-07-10T10:21:17.121Z"
      },
      {
        "duration": 255,
        "start_time": "2023-07-10T10:21:17.254Z"
      },
      {
        "duration": 146,
        "start_time": "2023-07-10T10:21:17.511Z"
      },
      {
        "duration": 4,
        "start_time": "2023-07-10T10:21:17.660Z"
      },
      {
        "duration": 10,
        "start_time": "2023-07-10T10:21:17.666Z"
      },
      {
        "duration": 135,
        "start_time": "2023-07-10T10:21:17.677Z"
      },
      {
        "duration": 127,
        "start_time": "2023-07-10T10:21:17.814Z"
      },
      {
        "duration": 236,
        "start_time": "2023-07-10T10:21:17.942Z"
      },
      {
        "duration": 242,
        "start_time": "2023-07-10T10:21:18.180Z"
      },
      {
        "duration": 124,
        "start_time": "2023-07-10T10:21:18.423Z"
      },
      {
        "duration": 298,
        "start_time": "2023-07-10T10:21:18.549Z"
      },
      {
        "duration": 15,
        "start_time": "2023-07-10T10:21:18.849Z"
      },
      {
        "duration": 155,
        "start_time": "2023-07-10T10:21:18.866Z"
      },
      {
        "duration": 96,
        "start_time": "2023-07-10T10:21:43.328Z"
      },
      {
        "duration": 54,
        "start_time": "2023-07-10T10:21:53.544Z"
      },
      {
        "duration": 88,
        "start_time": "2023-07-10T10:21:57.657Z"
      },
      {
        "duration": 3290,
        "start_time": "2023-07-10T12:18:49.731Z"
      },
      {
        "duration": 1681,
        "start_time": "2023-07-10T12:19:23.334Z"
      },
      {
        "duration": 49,
        "start_time": "2023-07-12T08:53:31.667Z"
      },
      {
        "duration": 852,
        "start_time": "2023-07-12T08:53:40.164Z"
      },
      {
        "duration": 321,
        "start_time": "2023-07-12T08:53:41.019Z"
      },
      {
        "duration": 60,
        "start_time": "2023-07-12T08:53:41.342Z"
      },
      {
        "duration": 17,
        "start_time": "2023-07-12T08:53:41.404Z"
      },
      {
        "duration": 2098,
        "start_time": "2023-07-12T08:53:41.424Z"
      },
      {
        "duration": 76,
        "start_time": "2023-07-12T08:53:43.524Z"
      },
      {
        "duration": 9,
        "start_time": "2023-07-12T08:53:43.602Z"
      },
      {
        "duration": 19,
        "start_time": "2023-07-12T08:53:43.613Z"
      },
      {
        "duration": 25,
        "start_time": "2023-07-12T08:53:43.633Z"
      },
      {
        "duration": 17,
        "start_time": "2023-07-12T08:53:43.666Z"
      },
      {
        "duration": 24,
        "start_time": "2023-07-12T08:53:43.685Z"
      },
      {
        "duration": 16,
        "start_time": "2023-07-12T08:53:43.711Z"
      },
      {
        "duration": 11,
        "start_time": "2023-07-12T08:53:43.729Z"
      },
      {
        "duration": 13,
        "start_time": "2023-07-12T08:53:43.756Z"
      },
      {
        "duration": 11,
        "start_time": "2023-07-12T08:53:43.771Z"
      },
      {
        "duration": 10,
        "start_time": "2023-07-12T08:53:43.784Z"
      },
      {
        "duration": 9,
        "start_time": "2023-07-12T08:53:43.795Z"
      },
      {
        "duration": 44,
        "start_time": "2023-07-12T08:53:43.806Z"
      },
      {
        "duration": 7,
        "start_time": "2023-07-12T08:53:43.852Z"
      },
      {
        "duration": 23,
        "start_time": "2023-07-12T08:53:43.861Z"
      },
      {
        "duration": 8,
        "start_time": "2023-07-12T08:53:43.886Z"
      },
      {
        "duration": 8,
        "start_time": "2023-07-12T08:53:43.896Z"
      },
      {
        "duration": 415,
        "start_time": "2023-07-12T08:53:43.906Z"
      },
      {
        "duration": 49,
        "start_time": "2023-07-12T08:53:44.324Z"
      },
      {
        "duration": 118,
        "start_time": "2023-07-12T08:53:44.376Z"
      },
      {
        "duration": 248,
        "start_time": "2023-07-12T08:53:44.496Z"
      },
      {
        "duration": 239,
        "start_time": "2023-07-12T08:53:44.746Z"
      },
      {
        "duration": 343,
        "start_time": "2023-07-12T08:53:44.987Z"
      },
      {
        "duration": 323,
        "start_time": "2023-07-12T08:53:45.332Z"
      },
      {
        "duration": 219,
        "start_time": "2023-07-12T08:53:45.658Z"
      },
      {
        "duration": 223,
        "start_time": "2023-07-12T08:53:45.879Z"
      },
      {
        "duration": 216,
        "start_time": "2023-07-12T08:53:46.103Z"
      },
      {
        "duration": 154,
        "start_time": "2023-07-12T08:53:46.321Z"
      },
      {
        "duration": 259,
        "start_time": "2023-07-12T08:53:46.477Z"
      },
      {
        "duration": 300,
        "start_time": "2023-07-12T08:53:46.738Z"
      },
      {
        "duration": 345,
        "start_time": "2023-07-12T08:53:47.040Z"
      },
      {
        "duration": 233,
        "start_time": "2023-07-12T08:53:47.387Z"
      },
      {
        "duration": 157,
        "start_time": "2023-07-12T08:53:47.622Z"
      },
      {
        "duration": 162,
        "start_time": "2023-07-12T08:53:47.781Z"
      },
      {
        "duration": 324,
        "start_time": "2023-07-12T08:53:47.945Z"
      },
      {
        "duration": 225,
        "start_time": "2023-07-12T08:53:48.274Z"
      },
      {
        "duration": 8,
        "start_time": "2023-07-12T08:53:48.501Z"
      },
      {
        "duration": 28,
        "start_time": "2023-07-12T08:53:48.511Z"
      },
      {
        "duration": 169,
        "start_time": "2023-07-12T08:53:48.541Z"
      },
      {
        "duration": 165,
        "start_time": "2023-07-12T08:53:48.712Z"
      },
      {
        "duration": 269,
        "start_time": "2023-07-12T08:53:48.879Z"
      },
      {
        "duration": 276,
        "start_time": "2023-07-12T08:53:49.152Z"
      },
      {
        "duration": 154,
        "start_time": "2023-07-12T08:53:49.430Z"
      },
      {
        "duration": 385,
        "start_time": "2023-07-12T08:53:49.585Z"
      },
      {
        "duration": 19,
        "start_time": "2023-07-12T08:53:49.972Z"
      },
      {
        "duration": 175,
        "start_time": "2023-07-12T08:53:49.993Z"
      },
      {
        "duration": 90,
        "start_time": "2023-07-12T08:57:54.941Z"
      },
      {
        "duration": 6034,
        "start_time": "2023-07-12T09:03:15.933Z"
      },
      {
        "duration": 3086,
        "start_time": "2023-07-12T09:03:46.542Z"
      },
      {
        "duration": 779,
        "start_time": "2023-07-12T09:04:09.298Z"
      },
      {
        "duration": 8,
        "start_time": "2023-07-12T09:15:36.874Z"
      },
      {
        "duration": 7,
        "start_time": "2023-07-12T09:15:48.338Z"
      },
      {
        "duration": 13,
        "start_time": "2023-07-12T09:16:42.305Z"
      },
      {
        "duration": 16,
        "start_time": "2023-07-12T09:26:45.872Z"
      },
      {
        "duration": 53,
        "start_time": "2023-07-12T12:39:37.026Z"
      },
      {
        "duration": 853,
        "start_time": "2023-07-12T12:39:44.667Z"
      },
      {
        "duration": 313,
        "start_time": "2023-07-12T12:39:45.522Z"
      },
      {
        "duration": 45,
        "start_time": "2023-07-12T12:39:45.836Z"
      },
      {
        "duration": 20,
        "start_time": "2023-07-12T12:39:45.883Z"
      },
      {
        "duration": 2074,
        "start_time": "2023-07-12T12:39:45.905Z"
      },
      {
        "duration": 74,
        "start_time": "2023-07-12T12:39:47.982Z"
      },
      {
        "duration": 11,
        "start_time": "2023-07-12T12:39:48.058Z"
      },
      {
        "duration": 6,
        "start_time": "2023-07-12T12:39:48.071Z"
      },
      {
        "duration": 24,
        "start_time": "2023-07-12T12:39:48.078Z"
      },
      {
        "duration": 12,
        "start_time": "2023-07-12T12:39:48.104Z"
      },
      {
        "duration": 13,
        "start_time": "2023-07-12T12:39:48.118Z"
      },
      {
        "duration": 14,
        "start_time": "2023-07-12T12:39:48.133Z"
      },
      {
        "duration": 12,
        "start_time": "2023-07-12T12:39:48.148Z"
      },
      {
        "duration": 52,
        "start_time": "2023-07-12T12:39:48.162Z"
      },
      {
        "duration": 6,
        "start_time": "2023-07-12T12:39:48.217Z"
      },
      {
        "duration": 23,
        "start_time": "2023-07-12T12:39:48.225Z"
      },
      {
        "duration": 22,
        "start_time": "2023-07-12T12:39:48.250Z"
      },
      {
        "duration": 24,
        "start_time": "2023-07-12T12:39:48.274Z"
      },
      {
        "duration": 13,
        "start_time": "2023-07-12T12:39:48.300Z"
      },
      {
        "duration": 10,
        "start_time": "2023-07-12T12:39:48.316Z"
      },
      {
        "duration": 7,
        "start_time": "2023-07-12T12:39:48.328Z"
      },
      {
        "duration": 17,
        "start_time": "2023-07-12T12:39:48.337Z"
      },
      {
        "duration": 387,
        "start_time": "2023-07-12T12:39:48.356Z"
      },
      {
        "duration": 37,
        "start_time": "2023-07-12T12:39:48.746Z"
      },
      {
        "duration": 117,
        "start_time": "2023-07-12T12:39:48.785Z"
      },
      {
        "duration": 284,
        "start_time": "2023-07-12T12:39:48.904Z"
      },
      {
        "duration": 272,
        "start_time": "2023-07-12T12:39:49.194Z"
      },
      {
        "duration": 344,
        "start_time": "2023-07-12T12:39:49.472Z"
      },
      {
        "duration": 315,
        "start_time": "2023-07-12T12:39:49.818Z"
      },
      {
        "duration": 230,
        "start_time": "2023-07-12T12:39:50.135Z"
      },
      {
        "duration": 321,
        "start_time": "2023-07-12T12:39:50.368Z"
      },
      {
        "duration": 214,
        "start_time": "2023-07-12T12:39:50.692Z"
      },
      {
        "duration": 160,
        "start_time": "2023-07-12T12:39:50.908Z"
      },
      {
        "duration": 265,
        "start_time": "2023-07-12T12:39:51.070Z"
      },
      {
        "duration": 273,
        "start_time": "2023-07-12T12:39:51.336Z"
      },
      {
        "duration": 319,
        "start_time": "2023-07-12T12:39:51.612Z"
      },
      {
        "duration": 227,
        "start_time": "2023-07-12T12:39:51.933Z"
      },
      {
        "duration": 149,
        "start_time": "2023-07-12T12:39:52.162Z"
      },
      {
        "duration": 167,
        "start_time": "2023-07-12T12:39:52.313Z"
      },
      {
        "duration": 301,
        "start_time": "2023-07-12T12:39:52.482Z"
      },
      {
        "duration": 177,
        "start_time": "2023-07-12T12:39:52.785Z"
      },
      {
        "duration": 6,
        "start_time": "2023-07-12T12:39:52.963Z"
      },
      {
        "duration": 22,
        "start_time": "2023-07-12T12:39:52.970Z"
      },
      {
        "duration": 201,
        "start_time": "2023-07-12T12:39:52.994Z"
      },
      {
        "duration": 157,
        "start_time": "2023-07-12T12:39:53.197Z"
      },
      {
        "duration": 313,
        "start_time": "2023-07-12T12:39:53.356Z"
      },
      {
        "duration": 279,
        "start_time": "2023-07-12T12:39:53.674Z"
      },
      {
        "duration": 154,
        "start_time": "2023-07-12T12:39:53.956Z"
      },
      {
        "duration": 371,
        "start_time": "2023-07-12T12:39:54.112Z"
      },
      {
        "duration": 25,
        "start_time": "2023-07-12T12:39:54.484Z"
      },
      {
        "duration": 194,
        "start_time": "2023-07-12T12:39:54.512Z"
      },
      {
        "duration": 14,
        "start_time": "2023-07-12T12:40:11.705Z"
      },
      {
        "duration": 17,
        "start_time": "2023-07-12T12:40:43.598Z"
      },
      {
        "duration": 13,
        "start_time": "2023-07-12T12:40:51.409Z"
      },
      {
        "duration": 16,
        "start_time": "2023-07-12T12:41:00.602Z"
      },
      {
        "duration": 12,
        "start_time": "2023-07-12T12:41:08.737Z"
      },
      {
        "duration": 20,
        "start_time": "2023-07-12T12:58:10.777Z"
      },
      {
        "duration": 88,
        "start_time": "2023-07-12T12:58:42.702Z"
      },
      {
        "duration": 20,
        "start_time": "2023-07-12T12:58:55.548Z"
      },
      {
        "duration": 197,
        "start_time": "2023-07-12T12:59:50.299Z"
      },
      {
        "duration": 200,
        "start_time": "2023-07-12T13:00:00.350Z"
      },
      {
        "duration": 25,
        "start_time": "2023-07-12T13:00:46.738Z"
      },
      {
        "duration": 17,
        "start_time": "2023-07-12T13:00:52.554Z"
      },
      {
        "duration": 27,
        "start_time": "2023-07-12T13:00:58.418Z"
      },
      {
        "duration": 158,
        "start_time": "2023-07-12T13:01:12.506Z"
      },
      {
        "duration": 217,
        "start_time": "2023-07-12T13:01:21.707Z"
      },
      {
        "duration": 232,
        "start_time": "2023-07-12T13:02:07.287Z"
      },
      {
        "duration": 202,
        "start_time": "2023-07-12T13:03:35.643Z"
      },
      {
        "duration": 260,
        "start_time": "2023-07-12T13:06:00.567Z"
      },
      {
        "duration": 240,
        "start_time": "2023-07-12T13:06:06.371Z"
      },
      {
        "duration": 241,
        "start_time": "2023-07-12T13:06:21.194Z"
      },
      {
        "duration": 369,
        "start_time": "2023-07-12T13:06:34.236Z"
      },
      {
        "duration": 215,
        "start_time": "2023-07-12T13:06:48.703Z"
      },
      {
        "duration": 208,
        "start_time": "2023-07-12T13:07:00.860Z"
      },
      {
        "duration": 2311,
        "start_time": "2023-07-12T13:07:42.518Z"
      },
      {
        "duration": 3432,
        "start_time": "2023-07-12T13:07:50.870Z"
      },
      {
        "duration": 284,
        "start_time": "2023-07-12T13:07:54.865Z"
      },
      {
        "duration": 298,
        "start_time": "2023-07-12T13:08:09.118Z"
      },
      {
        "duration": 267,
        "start_time": "2023-07-12T13:08:35.168Z"
      },
      {
        "duration": 285,
        "start_time": "2023-07-12T13:08:43.858Z"
      },
      {
        "duration": 252,
        "start_time": "2023-07-12T13:08:53.416Z"
      },
      {
        "duration": 327,
        "start_time": "2023-07-12T13:09:10.505Z"
      },
      {
        "duration": 410,
        "start_time": "2023-07-12T13:09:23.659Z"
      },
      {
        "duration": 238,
        "start_time": "2023-07-12T13:09:34.398Z"
      },
      {
        "duration": 204,
        "start_time": "2023-07-12T13:09:45.611Z"
      },
      {
        "duration": 243,
        "start_time": "2023-07-12T13:09:53.046Z"
      },
      {
        "duration": 212,
        "start_time": "2023-07-12T13:10:00.605Z"
      },
      {
        "duration": 213,
        "start_time": "2023-07-12T13:10:18.237Z"
      },
      {
        "duration": 216,
        "start_time": "2023-07-12T13:10:28.312Z"
      },
      {
        "duration": 197,
        "start_time": "2023-07-12T13:10:53.429Z"
      },
      {
        "duration": 213,
        "start_time": "2023-07-12T13:11:02.122Z"
      },
      {
        "duration": 201,
        "start_time": "2023-07-12T13:11:07.725Z"
      },
      {
        "duration": 217,
        "start_time": "2023-07-12T13:11:43.633Z"
      },
      {
        "duration": 376,
        "start_time": "2023-07-12T13:11:51.032Z"
      },
      {
        "duration": 202,
        "start_time": "2023-07-12T13:12:04.640Z"
      },
      {
        "duration": 722,
        "start_time": "2023-07-12T13:12:16.903Z"
      },
      {
        "duration": 103,
        "start_time": "2023-07-12T13:12:17.627Z"
      },
      {
        "duration": 43,
        "start_time": "2023-07-12T13:12:17.731Z"
      },
      {
        "duration": 38,
        "start_time": "2023-07-12T13:12:17.778Z"
      },
      {
        "duration": 2047,
        "start_time": "2023-07-12T13:12:17.819Z"
      },
      {
        "duration": 77,
        "start_time": "2023-07-12T13:12:19.869Z"
      },
      {
        "duration": 10,
        "start_time": "2023-07-12T13:12:19.948Z"
      },
      {
        "duration": 6,
        "start_time": "2023-07-12T13:12:19.960Z"
      },
      {
        "duration": 11,
        "start_time": "2023-07-12T13:12:19.967Z"
      },
      {
        "duration": 12,
        "start_time": "2023-07-12T13:12:20.001Z"
      },
      {
        "duration": 221,
        "start_time": "2023-07-12T13:12:20.015Z"
      },
      {
        "duration": 17,
        "start_time": "2023-07-12T13:12:20.239Z"
      },
      {
        "duration": 13,
        "start_time": "2023-07-12T13:12:20.258Z"
      },
      {
        "duration": 29,
        "start_time": "2023-07-12T13:12:20.273Z"
      },
      {
        "duration": 27,
        "start_time": "2023-07-12T13:12:20.304Z"
      },
      {
        "duration": 24,
        "start_time": "2023-07-12T13:12:20.333Z"
      },
      {
        "duration": 41,
        "start_time": "2023-07-12T13:12:20.359Z"
      },
      {
        "duration": 28,
        "start_time": "2023-07-12T13:12:20.403Z"
      },
      {
        "duration": 35,
        "start_time": "2023-07-12T13:12:20.433Z"
      },
      {
        "duration": 24,
        "start_time": "2023-07-12T13:12:20.470Z"
      },
      {
        "duration": 30,
        "start_time": "2023-07-12T13:12:20.496Z"
      },
      {
        "duration": 33,
        "start_time": "2023-07-12T13:12:20.528Z"
      },
      {
        "duration": 400,
        "start_time": "2023-07-12T13:12:20.564Z"
      },
      {
        "duration": 44,
        "start_time": "2023-07-12T13:12:20.966Z"
      },
      {
        "duration": 101,
        "start_time": "2023-07-12T13:12:21.012Z"
      },
      {
        "duration": 243,
        "start_time": "2023-07-12T13:12:21.115Z"
      },
      {
        "duration": 328,
        "start_time": "2023-07-12T13:12:21.359Z"
      },
      {
        "duration": 258,
        "start_time": "2023-07-12T13:12:21.691Z"
      },
      {
        "duration": 297,
        "start_time": "2023-07-12T13:12:21.951Z"
      },
      {
        "duration": 214,
        "start_time": "2023-07-12T13:12:22.250Z"
      },
      {
        "duration": 217,
        "start_time": "2023-07-12T13:12:22.466Z"
      },
      {
        "duration": 219,
        "start_time": "2023-07-12T13:12:22.685Z"
      },
      {
        "duration": 154,
        "start_time": "2023-07-12T13:12:22.905Z"
      },
      {
        "duration": 274,
        "start_time": "2023-07-12T13:12:23.061Z"
      },
      {
        "duration": 449,
        "start_time": "2023-07-12T13:12:23.337Z"
      },
      {
        "duration": 251,
        "start_time": "2023-07-12T13:12:23.788Z"
      },
      {
        "duration": 223,
        "start_time": "2023-07-12T13:12:24.041Z"
      },
      {
        "duration": 147,
        "start_time": "2023-07-12T13:12:24.266Z"
      },
      {
        "duration": 157,
        "start_time": "2023-07-12T13:12:24.415Z"
      },
      {
        "duration": 304,
        "start_time": "2023-07-12T13:12:24.574Z"
      },
      {
        "duration": 186,
        "start_time": "2023-07-12T13:12:24.880Z"
      },
      {
        "duration": 5,
        "start_time": "2023-07-12T13:12:25.068Z"
      },
      {
        "duration": 19,
        "start_time": "2023-07-12T13:12:25.074Z"
      },
      {
        "duration": 162,
        "start_time": "2023-07-12T13:12:25.095Z"
      },
      {
        "duration": 167,
        "start_time": "2023-07-12T13:12:25.259Z"
      },
      {
        "duration": 372,
        "start_time": "2023-07-12T13:12:25.427Z"
      },
      {
        "duration": 258,
        "start_time": "2023-07-12T13:12:25.802Z"
      },
      {
        "duration": 153,
        "start_time": "2023-07-12T13:12:26.062Z"
      },
      {
        "duration": 253,
        "start_time": "2023-07-12T13:12:26.217Z"
      },
      {
        "duration": 18,
        "start_time": "2023-07-12T13:12:26.472Z"
      },
      {
        "duration": 161,
        "start_time": "2023-07-12T13:12:26.502Z"
      },
      {
        "duration": 208,
        "start_time": "2023-07-12T13:12:52.395Z"
      },
      {
        "duration": 193,
        "start_time": "2023-07-12T13:22:29.923Z"
      },
      {
        "duration": 188,
        "start_time": "2023-07-12T13:23:39.847Z"
      },
      {
        "duration": 206,
        "start_time": "2023-07-12T13:23:46.183Z"
      },
      {
        "duration": 198,
        "start_time": "2023-07-12T13:23:49.754Z"
      },
      {
        "duration": 264,
        "start_time": "2023-07-12T13:24:01.089Z"
      },
      {
        "duration": 212,
        "start_time": "2023-07-12T13:24:09.319Z"
      },
      {
        "duration": 341,
        "start_time": "2023-07-12T13:24:48.782Z"
      },
      {
        "duration": 168,
        "start_time": "2023-07-12T13:29:14.214Z"
      },
      {
        "duration": 192,
        "start_time": "2023-07-12T13:29:21.563Z"
      },
      {
        "duration": 207,
        "start_time": "2023-07-12T13:29:34.823Z"
      },
      {
        "duration": 702,
        "start_time": "2023-07-12T13:29:55.873Z"
      },
      {
        "duration": 94,
        "start_time": "2023-07-12T13:29:56.577Z"
      },
      {
        "duration": 48,
        "start_time": "2023-07-12T13:29:56.672Z"
      },
      {
        "duration": 17,
        "start_time": "2023-07-12T13:29:56.721Z"
      },
      {
        "duration": 2154,
        "start_time": "2023-07-12T13:29:56.741Z"
      },
      {
        "duration": 79,
        "start_time": "2023-07-12T13:29:58.898Z"
      },
      {
        "duration": 24,
        "start_time": "2023-07-12T13:29:58.979Z"
      },
      {
        "duration": 7,
        "start_time": "2023-07-12T13:29:59.004Z"
      },
      {
        "duration": 10,
        "start_time": "2023-07-12T13:29:59.012Z"
      },
      {
        "duration": 16,
        "start_time": "2023-07-12T13:29:59.024Z"
      },
      {
        "duration": 239,
        "start_time": "2023-07-12T13:29:59.043Z"
      },
      {
        "duration": 26,
        "start_time": "2023-07-12T13:29:59.284Z"
      },
      {
        "duration": 13,
        "start_time": "2023-07-12T13:29:59.312Z"
      },
      {
        "duration": 6,
        "start_time": "2023-07-12T13:29:59.328Z"
      },
      {
        "duration": 4,
        "start_time": "2023-07-12T13:29:59.336Z"
      },
      {
        "duration": 15,
        "start_time": "2023-07-12T13:29:59.342Z"
      },
      {
        "duration": 43,
        "start_time": "2023-07-12T13:29:59.359Z"
      },
      {
        "duration": 38,
        "start_time": "2023-07-12T13:29:59.404Z"
      },
      {
        "duration": 6,
        "start_time": "2023-07-12T13:29:59.444Z"
      },
      {
        "duration": 13,
        "start_time": "2023-07-12T13:29:59.452Z"
      },
      {
        "duration": 9,
        "start_time": "2023-07-12T13:29:59.468Z"
      },
      {
        "duration": 6,
        "start_time": "2023-07-12T13:29:59.480Z"
      },
      {
        "duration": 374,
        "start_time": "2023-07-12T13:29:59.502Z"
      },
      {
        "duration": 34,
        "start_time": "2023-07-12T13:29:59.878Z"
      },
      {
        "duration": 110,
        "start_time": "2023-07-12T13:29:59.914Z"
      },
      {
        "duration": 241,
        "start_time": "2023-07-12T13:30:00.026Z"
      },
      {
        "duration": 355,
        "start_time": "2023-07-12T13:30:00.268Z"
      },
      {
        "duration": 338,
        "start_time": "2023-07-12T13:30:00.625Z"
      },
      {
        "duration": 405,
        "start_time": "2023-07-12T13:30:00.966Z"
      },
      {
        "duration": 268,
        "start_time": "2023-07-12T13:30:01.373Z"
      },
      {
        "duration": 258,
        "start_time": "2023-07-12T13:30:01.644Z"
      },
      {
        "duration": 222,
        "start_time": "2023-07-12T13:30:01.904Z"
      },
      {
        "duration": 173,
        "start_time": "2023-07-12T13:30:02.128Z"
      },
      {
        "duration": 292,
        "start_time": "2023-07-12T13:30:02.304Z"
      },
      {
        "duration": 406,
        "start_time": "2023-07-12T13:30:02.598Z"
      },
      {
        "duration": 231,
        "start_time": "2023-07-12T13:30:03.006Z"
      },
      {
        "duration": 276,
        "start_time": "2023-07-12T13:30:03.239Z"
      },
      {
        "duration": 163,
        "start_time": "2023-07-12T13:30:03.517Z"
      },
      {
        "duration": 343,
        "start_time": "2023-07-12T13:30:03.682Z"
      },
      {
        "duration": 322,
        "start_time": "2023-07-12T13:30:04.026Z"
      },
      {
        "duration": 180,
        "start_time": "2023-07-12T13:30:04.352Z"
      },
      {
        "duration": 7,
        "start_time": "2023-07-12T13:30:04.534Z"
      },
      {
        "duration": 22,
        "start_time": "2023-07-12T13:30:04.542Z"
      },
      {
        "duration": 177,
        "start_time": "2023-07-12T13:30:04.566Z"
      },
      {
        "duration": 183,
        "start_time": "2023-07-12T13:30:04.745Z"
      },
      {
        "duration": 401,
        "start_time": "2023-07-12T13:30:04.933Z"
      },
      {
        "duration": 378,
        "start_time": "2023-07-12T13:30:05.337Z"
      },
      {
        "duration": 163,
        "start_time": "2023-07-12T13:30:05.719Z"
      },
      {
        "duration": 318,
        "start_time": "2023-07-12T13:30:05.884Z"
      },
      {
        "duration": 27,
        "start_time": "2023-07-12T13:30:06.204Z"
      },
      {
        "duration": 248,
        "start_time": "2023-07-12T13:30:06.234Z"
      },
      {
        "duration": 229,
        "start_time": "2023-07-12T13:30:31.154Z"
      },
      {
        "duration": 94,
        "start_time": "2023-07-12T13:31:29.249Z"
      },
      {
        "duration": 237,
        "start_time": "2023-07-12T13:31:49.300Z"
      },
      {
        "duration": 221,
        "start_time": "2023-07-12T13:31:59.462Z"
      },
      {
        "duration": 683,
        "start_time": "2023-07-12T13:32:30.255Z"
      },
      {
        "duration": 136,
        "start_time": "2023-07-12T13:32:30.942Z"
      },
      {
        "duration": 60,
        "start_time": "2023-07-12T13:32:31.080Z"
      },
      {
        "duration": 49,
        "start_time": "2023-07-12T13:32:31.142Z"
      },
      {
        "duration": 2225,
        "start_time": "2023-07-12T13:32:31.194Z"
      },
      {
        "duration": 79,
        "start_time": "2023-07-12T13:32:33.420Z"
      },
      {
        "duration": 10,
        "start_time": "2023-07-12T13:32:33.500Z"
      },
      {
        "duration": 19,
        "start_time": "2023-07-12T13:32:33.512Z"
      },
      {
        "duration": 17,
        "start_time": "2023-07-12T13:32:33.533Z"
      },
      {
        "duration": 27,
        "start_time": "2023-07-12T13:32:33.552Z"
      },
      {
        "duration": 216,
        "start_time": "2023-07-12T13:32:33.581Z"
      },
      {
        "duration": 21,
        "start_time": "2023-07-12T13:32:33.799Z"
      },
      {
        "duration": 13,
        "start_time": "2023-07-12T13:32:33.822Z"
      },
      {
        "duration": 6,
        "start_time": "2023-07-12T13:32:33.837Z"
      },
      {
        "duration": 7,
        "start_time": "2023-07-12T13:32:33.845Z"
      },
      {
        "duration": 48,
        "start_time": "2023-07-12T13:32:33.854Z"
      },
      {
        "duration": 9,
        "start_time": "2023-07-12T13:32:33.904Z"
      },
      {
        "duration": 33,
        "start_time": "2023-07-12T13:32:33.914Z"
      },
      {
        "duration": 6,
        "start_time": "2023-07-12T13:32:33.949Z"
      },
      {
        "duration": 23,
        "start_time": "2023-07-12T13:32:33.957Z"
      },
      {
        "duration": 12,
        "start_time": "2023-07-12T13:32:33.983Z"
      },
      {
        "duration": 8,
        "start_time": "2023-07-12T13:32:34.002Z"
      },
      {
        "duration": 386,
        "start_time": "2023-07-12T13:32:34.012Z"
      },
      {
        "duration": 27,
        "start_time": "2023-07-12T13:32:34.402Z"
      },
      {
        "duration": 107,
        "start_time": "2023-07-12T13:32:34.431Z"
      },
      {
        "duration": 236,
        "start_time": "2023-07-12T13:32:34.540Z"
      },
      {
        "duration": 332,
        "start_time": "2023-07-12T13:32:34.778Z"
      },
      {
        "duration": 253,
        "start_time": "2023-07-12T13:32:35.113Z"
      },
      {
        "duration": 334,
        "start_time": "2023-07-12T13:32:35.368Z"
      },
      {
        "duration": 229,
        "start_time": "2023-07-12T13:32:35.704Z"
      },
      {
        "duration": 227,
        "start_time": "2023-07-12T13:32:35.935Z"
      },
      {
        "duration": 231,
        "start_time": "2023-07-12T13:32:36.164Z"
      },
      {
        "duration": 160,
        "start_time": "2023-07-12T13:32:36.397Z"
      },
      {
        "duration": 267,
        "start_time": "2023-07-12T13:32:36.559Z"
      },
      {
        "duration": 395,
        "start_time": "2023-07-12T13:32:36.827Z"
      },
      {
        "duration": 233,
        "start_time": "2023-07-12T13:32:37.224Z"
      },
      {
        "duration": 215,
        "start_time": "2023-07-12T13:32:37.460Z"
      },
      {
        "duration": 168,
        "start_time": "2023-07-12T13:32:37.677Z"
      },
      {
        "duration": 176,
        "start_time": "2023-07-12T13:32:37.847Z"
      },
      {
        "duration": 311,
        "start_time": "2023-07-12T13:32:38.025Z"
      },
      {
        "duration": 181,
        "start_time": "2023-07-12T13:32:38.342Z"
      },
      {
        "duration": 5,
        "start_time": "2023-07-12T13:32:38.525Z"
      },
      {
        "duration": 8,
        "start_time": "2023-07-12T13:32:38.532Z"
      },
      {
        "duration": 167,
        "start_time": "2023-07-12T13:32:38.542Z"
      },
      {
        "duration": 155,
        "start_time": "2023-07-12T13:32:38.711Z"
      },
      {
        "duration": 409,
        "start_time": "2023-07-12T13:32:38.868Z"
      },
      {
        "duration": 258,
        "start_time": "2023-07-12T13:32:39.278Z"
      },
      {
        "duration": 155,
        "start_time": "2023-07-12T13:32:39.538Z"
      },
      {
        "duration": 267,
        "start_time": "2023-07-12T13:32:39.702Z"
      },
      {
        "duration": 30,
        "start_time": "2023-07-12T13:32:39.971Z"
      },
      {
        "duration": 170,
        "start_time": "2023-07-12T13:32:40.004Z"
      },
      {
        "duration": 164,
        "start_time": "2023-07-12T13:32:54.267Z"
      },
      {
        "duration": 165,
        "start_time": "2023-07-12T13:32:58.937Z"
      },
      {
        "duration": 138,
        "start_time": "2023-07-12T13:33:02.653Z"
      },
      {
        "duration": 15,
        "start_time": "2023-07-12T13:33:42.127Z"
      },
      {
        "duration": 6,
        "start_time": "2023-07-12T14:28:31.103Z"
      },
      {
        "duration": 6,
        "start_time": "2023-07-12T14:28:45.422Z"
      },
      {
        "duration": 76,
        "start_time": "2023-07-12T14:28:59.839Z"
      },
      {
        "duration": 9,
        "start_time": "2023-07-12T14:29:22.843Z"
      },
      {
        "duration": 132,
        "start_time": "2023-07-12T14:29:39.143Z"
      },
      {
        "duration": 179,
        "start_time": "2023-07-12T14:29:49.735Z"
      },
      {
        "duration": 182,
        "start_time": "2023-07-12T14:30:23.754Z"
      },
      {
        "duration": 176,
        "start_time": "2023-07-12T14:30:46.842Z"
      },
      {
        "duration": 131,
        "start_time": "2023-07-12T14:31:00.043Z"
      },
      {
        "duration": 198,
        "start_time": "2023-07-12T14:31:07.691Z"
      },
      {
        "duration": 6,
        "start_time": "2023-07-12T14:33:05.044Z"
      },
      {
        "duration": 7,
        "start_time": "2023-07-12T14:33:41.663Z"
      },
      {
        "duration": 7,
        "start_time": "2023-07-12T14:34:21.959Z"
      },
      {
        "duration": 306,
        "start_time": "2023-07-12T14:42:27.099Z"
      },
      {
        "duration": 151,
        "start_time": "2023-07-12T14:42:38.194Z"
      },
      {
        "duration": 174,
        "start_time": "2023-07-12T14:42:43.302Z"
      },
      {
        "duration": 9,
        "start_time": "2023-07-12T14:43:14.139Z"
      },
      {
        "duration": 10,
        "start_time": "2023-07-12T14:43:27.239Z"
      },
      {
        "duration": 184,
        "start_time": "2023-07-12T14:43:31.354Z"
      },
      {
        "duration": 9,
        "start_time": "2023-07-12T14:49:09.218Z"
      },
      {
        "duration": 10,
        "start_time": "2023-07-12T14:49:21.169Z"
      },
      {
        "duration": 8,
        "start_time": "2023-07-12T14:49:26.265Z"
      },
      {
        "duration": 159,
        "start_time": "2023-07-12T14:49:45.766Z"
      },
      {
        "duration": 9,
        "start_time": "2023-07-12T14:49:57.693Z"
      },
      {
        "duration": 4,
        "start_time": "2023-07-12T14:51:01.894Z"
      },
      {
        "duration": 165,
        "start_time": "2023-07-12T14:51:25.097Z"
      },
      {
        "duration": 270,
        "start_time": "2023-07-12T15:12:46.940Z"
      },
      {
        "duration": 35,
        "start_time": "2023-07-12T15:13:06.085Z"
      },
      {
        "duration": 8,
        "start_time": "2023-07-12T15:13:17.834Z"
      },
      {
        "duration": 11,
        "start_time": "2023-07-12T15:13:24.947Z"
      },
      {
        "duration": 165,
        "start_time": "2023-07-12T15:14:16.898Z"
      },
      {
        "duration": 176,
        "start_time": "2023-07-12T15:14:23.854Z"
      },
      {
        "duration": 168,
        "start_time": "2023-07-12T15:14:36.056Z"
      },
      {
        "duration": 190,
        "start_time": "2023-07-12T15:14:41.339Z"
      },
      {
        "duration": 362,
        "start_time": "2023-07-12T15:14:52.647Z"
      },
      {
        "duration": 418,
        "start_time": "2023-07-12T15:15:09.257Z"
      },
      {
        "duration": 256,
        "start_time": "2023-07-12T15:16:30.731Z"
      },
      {
        "duration": 14,
        "start_time": "2023-07-12T15:16:51.997Z"
      },
      {
        "duration": 6,
        "start_time": "2023-07-12T15:16:59.354Z"
      },
      {
        "duration": 247,
        "start_time": "2023-07-12T15:17:11.740Z"
      },
      {
        "duration": 6,
        "start_time": "2023-07-12T15:17:27.265Z"
      },
      {
        "duration": 7,
        "start_time": "2023-07-12T15:25:30.861Z"
      },
      {
        "duration": 10,
        "start_time": "2023-07-12T15:27:26.051Z"
      },
      {
        "duration": 14,
        "start_time": "2023-07-12T15:27:36.227Z"
      },
      {
        "duration": 29,
        "start_time": "2023-07-12T15:29:23.493Z"
      },
      {
        "duration": 104,
        "start_time": "2023-07-12T15:30:22.156Z"
      },
      {
        "duration": 101,
        "start_time": "2023-07-12T15:30:30.050Z"
      },
      {
        "duration": 11,
        "start_time": "2023-07-12T15:31:39.858Z"
      },
      {
        "duration": 19,
        "start_time": "2023-07-12T15:34:00.182Z"
      },
      {
        "duration": 26,
        "start_time": "2023-07-12T15:34:10.681Z"
      },
      {
        "duration": 12,
        "start_time": "2023-07-12T15:35:01.241Z"
      },
      {
        "duration": 10,
        "start_time": "2023-07-12T15:36:07.883Z"
      },
      {
        "duration": 12,
        "start_time": "2023-07-12T15:36:16.488Z"
      },
      {
        "duration": 9,
        "start_time": "2023-07-12T15:36:44.031Z"
      },
      {
        "duration": 10,
        "start_time": "2023-07-12T15:37:14.341Z"
      },
      {
        "duration": 12,
        "start_time": "2023-07-12T15:37:25.246Z"
      },
      {
        "duration": 13,
        "start_time": "2023-07-12T15:37:41.547Z"
      },
      {
        "duration": 11,
        "start_time": "2023-07-12T15:37:50.090Z"
      },
      {
        "duration": 12,
        "start_time": "2023-07-12T15:38:03.047Z"
      },
      {
        "duration": 12,
        "start_time": "2023-07-12T15:38:08.539Z"
      },
      {
        "duration": 19,
        "start_time": "2023-07-12T15:38:37.443Z"
      },
      {
        "duration": 7,
        "start_time": "2023-07-12T15:38:49.169Z"
      },
      {
        "duration": 21,
        "start_time": "2023-07-12T15:39:14.000Z"
      },
      {
        "duration": 28,
        "start_time": "2023-07-12T15:39:28.185Z"
      },
      {
        "duration": 20,
        "start_time": "2023-07-12T15:39:38.268Z"
      },
      {
        "duration": 124,
        "start_time": "2023-07-12T15:40:08.842Z"
      },
      {
        "duration": 721,
        "start_time": "2023-07-12T15:40:22.826Z"
      },
      {
        "duration": 109,
        "start_time": "2023-07-12T15:40:23.549Z"
      },
      {
        "duration": 87,
        "start_time": "2023-07-12T15:40:23.660Z"
      },
      {
        "duration": 17,
        "start_time": "2023-07-12T15:40:23.749Z"
      },
      {
        "duration": 2317,
        "start_time": "2023-07-12T15:40:23.770Z"
      },
      {
        "duration": 93,
        "start_time": "2023-07-12T15:40:26.089Z"
      },
      {
        "duration": 23,
        "start_time": "2023-07-12T15:40:26.184Z"
      },
      {
        "duration": 43,
        "start_time": "2023-07-12T15:40:26.210Z"
      },
      {
        "duration": 27,
        "start_time": "2023-07-12T15:40:26.254Z"
      },
      {
        "duration": 33,
        "start_time": "2023-07-12T15:40:26.283Z"
      },
      {
        "duration": 35,
        "start_time": "2023-07-12T15:40:26.318Z"
      },
      {
        "duration": 20,
        "start_time": "2023-07-12T15:40:26.355Z"
      },
      {
        "duration": 29,
        "start_time": "2023-07-12T15:40:26.377Z"
      },
      {
        "duration": 52,
        "start_time": "2023-07-12T15:40:26.410Z"
      },
      {
        "duration": 17,
        "start_time": "2023-07-12T15:40:26.463Z"
      },
      {
        "duration": 57,
        "start_time": "2023-07-12T15:40:26.481Z"
      },
      {
        "duration": 16,
        "start_time": "2023-07-12T15:40:26.540Z"
      },
      {
        "duration": 30,
        "start_time": "2023-07-12T15:40:26.558Z"
      },
      {
        "duration": 24,
        "start_time": "2023-07-12T15:40:26.589Z"
      },
      {
        "duration": 104,
        "start_time": "2023-07-12T15:40:26.615Z"
      },
      {
        "duration": 0,
        "start_time": "2023-07-12T15:40:26.722Z"
      },
      {
        "duration": 0,
        "start_time": "2023-07-12T15:40:26.724Z"
      },
      {
        "duration": 0,
        "start_time": "2023-07-12T15:40:26.725Z"
      },
      {
        "duration": 0,
        "start_time": "2023-07-12T15:40:26.727Z"
      },
      {
        "duration": 0,
        "start_time": "2023-07-12T15:40:26.729Z"
      },
      {
        "duration": 0,
        "start_time": "2023-07-12T15:40:26.730Z"
      },
      {
        "duration": 0,
        "start_time": "2023-07-12T15:40:26.732Z"
      },
      {
        "duration": 1,
        "start_time": "2023-07-12T15:40:26.733Z"
      },
      {
        "duration": 0,
        "start_time": "2023-07-12T15:40:26.736Z"
      },
      {
        "duration": 0,
        "start_time": "2023-07-12T15:40:26.737Z"
      },
      {
        "duration": 0,
        "start_time": "2023-07-12T15:40:26.739Z"
      },
      {
        "duration": 0,
        "start_time": "2023-07-12T15:40:26.740Z"
      },
      {
        "duration": 0,
        "start_time": "2023-07-12T15:40:26.742Z"
      },
      {
        "duration": 0,
        "start_time": "2023-07-12T15:40:26.743Z"
      },
      {
        "duration": 0,
        "start_time": "2023-07-12T15:40:26.744Z"
      },
      {
        "duration": 0,
        "start_time": "2023-07-12T15:40:26.746Z"
      },
      {
        "duration": 0,
        "start_time": "2023-07-12T15:40:26.747Z"
      },
      {
        "duration": 0,
        "start_time": "2023-07-12T15:40:26.748Z"
      },
      {
        "duration": 0,
        "start_time": "2023-07-12T15:40:26.749Z"
      },
      {
        "duration": 0,
        "start_time": "2023-07-12T15:40:26.750Z"
      },
      {
        "duration": 0,
        "start_time": "2023-07-12T15:40:26.751Z"
      },
      {
        "duration": 0,
        "start_time": "2023-07-12T15:40:26.752Z"
      },
      {
        "duration": 0,
        "start_time": "2023-07-12T15:40:26.753Z"
      },
      {
        "duration": 0,
        "start_time": "2023-07-12T15:40:26.754Z"
      },
      {
        "duration": 0,
        "start_time": "2023-07-12T15:40:26.755Z"
      },
      {
        "duration": 0,
        "start_time": "2023-07-12T15:40:26.757Z"
      },
      {
        "duration": 0,
        "start_time": "2023-07-12T15:40:26.802Z"
      },
      {
        "duration": 0,
        "start_time": "2023-07-12T15:40:26.804Z"
      },
      {
        "duration": 0,
        "start_time": "2023-07-12T15:40:26.804Z"
      },
      {
        "duration": 0,
        "start_time": "2023-07-12T15:40:26.809Z"
      },
      {
        "duration": 0,
        "start_time": "2023-07-12T15:40:26.810Z"
      },
      {
        "duration": 0,
        "start_time": "2023-07-12T15:40:26.810Z"
      },
      {
        "duration": 0,
        "start_time": "2023-07-12T15:40:26.811Z"
      },
      {
        "duration": 0,
        "start_time": "2023-07-12T15:40:26.812Z"
      },
      {
        "duration": 0,
        "start_time": "2023-07-12T15:40:26.812Z"
      },
      {
        "duration": 109,
        "start_time": "2023-07-12T15:40:38.216Z"
      },
      {
        "duration": 102,
        "start_time": "2023-07-12T15:41:37.248Z"
      },
      {
        "duration": 149,
        "start_time": "2023-07-12T15:41:41.330Z"
      },
      {
        "duration": 77,
        "start_time": "2023-07-13T09:48:22.142Z"
      },
      {
        "duration": 1673,
        "start_time": "2023-07-13T09:48:30.742Z"
      },
      {
        "duration": 422,
        "start_time": "2023-07-13T09:48:32.418Z"
      },
      {
        "duration": 65,
        "start_time": "2023-07-13T09:48:32.842Z"
      },
      {
        "duration": 17,
        "start_time": "2023-07-13T09:48:32.908Z"
      },
      {
        "duration": 2345,
        "start_time": "2023-07-13T09:48:32.927Z"
      },
      {
        "duration": 104,
        "start_time": "2023-07-13T09:48:35.275Z"
      },
      {
        "duration": 16,
        "start_time": "2023-07-13T09:48:35.381Z"
      },
      {
        "duration": 46,
        "start_time": "2023-07-13T09:48:35.399Z"
      },
      {
        "duration": 18,
        "start_time": "2023-07-13T09:48:35.447Z"
      },
      {
        "duration": 42,
        "start_time": "2023-07-13T09:48:35.470Z"
      },
      {
        "duration": 9,
        "start_time": "2023-07-13T09:48:35.514Z"
      },
      {
        "duration": 26,
        "start_time": "2023-07-13T09:48:35.525Z"
      },
      {
        "duration": 23,
        "start_time": "2023-07-13T09:48:35.552Z"
      },
      {
        "duration": 16,
        "start_time": "2023-07-13T09:48:35.584Z"
      },
      {
        "duration": 18,
        "start_time": "2023-07-13T09:48:35.602Z"
      },
      {
        "duration": 16,
        "start_time": "2023-07-13T09:48:35.622Z"
      },
      {
        "duration": 12,
        "start_time": "2023-07-13T09:48:35.640Z"
      },
      {
        "duration": 40,
        "start_time": "2023-07-13T09:48:35.654Z"
      },
      {
        "duration": 8,
        "start_time": "2023-07-13T09:48:35.696Z"
      },
      {
        "duration": 184,
        "start_time": "2023-07-13T09:48:35.706Z"
      },
      {
        "duration": 0,
        "start_time": "2023-07-13T09:48:35.892Z"
      },
      {
        "duration": 0,
        "start_time": "2023-07-13T09:48:35.894Z"
      },
      {
        "duration": 0,
        "start_time": "2023-07-13T09:48:35.895Z"
      },
      {
        "duration": 0,
        "start_time": "2023-07-13T09:48:35.896Z"
      },
      {
        "duration": 0,
        "start_time": "2023-07-13T09:48:35.897Z"
      },
      {
        "duration": 0,
        "start_time": "2023-07-13T09:48:35.899Z"
      },
      {
        "duration": 0,
        "start_time": "2023-07-13T09:48:35.900Z"
      },
      {
        "duration": 0,
        "start_time": "2023-07-13T09:48:35.901Z"
      },
      {
        "duration": 0,
        "start_time": "2023-07-13T09:48:35.903Z"
      },
      {
        "duration": 0,
        "start_time": "2023-07-13T09:48:35.904Z"
      },
      {
        "duration": 0,
        "start_time": "2023-07-13T09:48:35.905Z"
      },
      {
        "duration": 0,
        "start_time": "2023-07-13T09:48:35.906Z"
      },
      {
        "duration": 0,
        "start_time": "2023-07-13T09:48:35.907Z"
      },
      {
        "duration": 0,
        "start_time": "2023-07-13T09:48:35.909Z"
      },
      {
        "duration": 0,
        "start_time": "2023-07-13T09:48:35.910Z"
      },
      {
        "duration": 0,
        "start_time": "2023-07-13T09:48:35.911Z"
      },
      {
        "duration": 0,
        "start_time": "2023-07-13T09:48:35.912Z"
      },
      {
        "duration": 0,
        "start_time": "2023-07-13T09:48:35.914Z"
      },
      {
        "duration": 0,
        "start_time": "2023-07-13T09:48:35.915Z"
      },
      {
        "duration": 0,
        "start_time": "2023-07-13T09:48:35.958Z"
      },
      {
        "duration": 0,
        "start_time": "2023-07-13T09:48:35.959Z"
      },
      {
        "duration": 0,
        "start_time": "2023-07-13T09:48:35.959Z"
      },
      {
        "duration": 0,
        "start_time": "2023-07-13T09:48:35.960Z"
      },
      {
        "duration": 0,
        "start_time": "2023-07-13T09:48:35.961Z"
      },
      {
        "duration": 0,
        "start_time": "2023-07-13T09:48:35.962Z"
      },
      {
        "duration": 0,
        "start_time": "2023-07-13T09:48:35.962Z"
      },
      {
        "duration": 0,
        "start_time": "2023-07-13T09:48:35.963Z"
      },
      {
        "duration": 0,
        "start_time": "2023-07-13T09:48:35.963Z"
      },
      {
        "duration": 0,
        "start_time": "2023-07-13T09:48:35.964Z"
      },
      {
        "duration": 0,
        "start_time": "2023-07-13T09:48:35.965Z"
      },
      {
        "duration": 0,
        "start_time": "2023-07-13T09:48:35.968Z"
      },
      {
        "duration": 0,
        "start_time": "2023-07-13T09:48:35.968Z"
      },
      {
        "duration": 0,
        "start_time": "2023-07-13T09:48:35.969Z"
      },
      {
        "duration": 0,
        "start_time": "2023-07-13T09:48:35.970Z"
      },
      {
        "duration": 0,
        "start_time": "2023-07-13T09:48:35.970Z"
      },
      {
        "duration": 5,
        "start_time": "2023-07-13T09:50:38.799Z"
      },
      {
        "duration": 112,
        "start_time": "2023-07-13T09:50:49.198Z"
      },
      {
        "duration": 5,
        "start_time": "2023-07-13T09:50:52.345Z"
      },
      {
        "duration": 4,
        "start_time": "2023-07-13T09:50:55.679Z"
      },
      {
        "duration": 4,
        "start_time": "2023-07-13T09:51:07.030Z"
      },
      {
        "duration": 94,
        "start_time": "2023-07-13T09:51:55.149Z"
      },
      {
        "duration": 6,
        "start_time": "2023-07-13T09:52:05.298Z"
      },
      {
        "duration": 6,
        "start_time": "2023-07-13T09:52:13.495Z"
      },
      {
        "duration": 102,
        "start_time": "2023-07-13T09:52:50.707Z"
      },
      {
        "duration": 111,
        "start_time": "2023-07-13T09:53:23.426Z"
      },
      {
        "duration": 5,
        "start_time": "2023-07-13T09:55:19.274Z"
      },
      {
        "duration": 141,
        "start_time": "2023-07-13T10:01:35.302Z"
      },
      {
        "duration": 101,
        "start_time": "2023-07-13T10:02:05.707Z"
      },
      {
        "duration": 835,
        "start_time": "2023-07-13T10:03:19.922Z"
      },
      {
        "duration": 808,
        "start_time": "2023-07-13T10:03:29.122Z"
      },
      {
        "duration": 607,
        "start_time": "2023-07-13T10:03:39.741Z"
      },
      {
        "duration": 5,
        "start_time": "2023-07-13T10:05:12.735Z"
      },
      {
        "duration": 15,
        "start_time": "2023-07-13T10:05:30.447Z"
      },
      {
        "duration": 808,
        "start_time": "2023-07-13T10:10:20.875Z"
      },
      {
        "duration": 97,
        "start_time": "2023-07-13T10:10:21.685Z"
      },
      {
        "duration": 45,
        "start_time": "2023-07-13T10:10:21.784Z"
      },
      {
        "duration": 39,
        "start_time": "2023-07-13T10:10:21.831Z"
      },
      {
        "duration": 2233,
        "start_time": "2023-07-13T10:10:21.874Z"
      },
      {
        "duration": 104,
        "start_time": "2023-07-13T10:10:24.109Z"
      },
      {
        "duration": 12,
        "start_time": "2023-07-13T10:10:24.215Z"
      },
      {
        "duration": 30,
        "start_time": "2023-07-13T10:10:24.228Z"
      },
      {
        "duration": 16,
        "start_time": "2023-07-13T10:10:24.264Z"
      },
      {
        "duration": 32,
        "start_time": "2023-07-13T10:10:24.284Z"
      },
      {
        "duration": 18,
        "start_time": "2023-07-13T10:10:24.318Z"
      },
      {
        "duration": 64,
        "start_time": "2023-07-13T10:10:24.338Z"
      },
      {
        "duration": 32,
        "start_time": "2023-07-13T10:10:24.404Z"
      },
      {
        "duration": 47,
        "start_time": "2023-07-13T10:10:24.440Z"
      },
      {
        "duration": 9,
        "start_time": "2023-07-13T10:10:24.489Z"
      },
      {
        "duration": 21,
        "start_time": "2023-07-13T10:10:24.500Z"
      },
      {
        "duration": 39,
        "start_time": "2023-07-13T10:10:24.522Z"
      },
      {
        "duration": 23,
        "start_time": "2023-07-13T10:10:24.565Z"
      },
      {
        "duration": 19,
        "start_time": "2023-07-13T10:10:24.590Z"
      },
      {
        "duration": 26,
        "start_time": "2023-07-13T10:10:24.611Z"
      },
      {
        "duration": 41,
        "start_time": "2023-07-13T10:10:24.640Z"
      },
      {
        "duration": 28,
        "start_time": "2023-07-13T10:10:24.683Z"
      },
      {
        "duration": 6,
        "start_time": "2023-07-13T10:10:24.712Z"
      },
      {
        "duration": 23,
        "start_time": "2023-07-13T10:10:24.720Z"
      },
      {
        "duration": 35,
        "start_time": "2023-07-13T10:10:24.745Z"
      },
      {
        "duration": 18,
        "start_time": "2023-07-13T10:10:24.782Z"
      },
      {
        "duration": 430,
        "start_time": "2023-07-13T10:10:24.802Z"
      },
      {
        "duration": 43,
        "start_time": "2023-07-13T10:10:25.234Z"
      },
      {
        "duration": 130,
        "start_time": "2023-07-13T10:10:25.279Z"
      },
      {
        "duration": 258,
        "start_time": "2023-07-13T10:10:25.411Z"
      },
      {
        "duration": 252,
        "start_time": "2023-07-13T10:10:25.672Z"
      },
      {
        "duration": 369,
        "start_time": "2023-07-13T10:10:25.926Z"
      },
      {
        "duration": 316,
        "start_time": "2023-07-13T10:10:26.296Z"
      },
      {
        "duration": 231,
        "start_time": "2023-07-13T10:10:26.614Z"
      },
      {
        "duration": 228,
        "start_time": "2023-07-13T10:10:26.847Z"
      },
      {
        "duration": 218,
        "start_time": "2023-07-13T10:10:27.078Z"
      },
      {
        "duration": 172,
        "start_time": "2023-07-13T10:10:27.298Z"
      },
      {
        "duration": 286,
        "start_time": "2023-07-13T10:10:27.473Z"
      },
      {
        "duration": 287,
        "start_time": "2023-07-13T10:10:27.761Z"
      },
      {
        "duration": 409,
        "start_time": "2023-07-13T10:10:28.050Z"
      },
      {
        "duration": 284,
        "start_time": "2023-07-13T10:10:28.464Z"
      },
      {
        "duration": 199,
        "start_time": "2023-07-13T10:10:28.753Z"
      },
      {
        "duration": 156,
        "start_time": "2023-07-13T10:10:28.962Z"
      },
      {
        "duration": 347,
        "start_time": "2023-07-13T10:10:29.120Z"
      },
      {
        "duration": 203,
        "start_time": "2023-07-13T10:10:29.471Z"
      },
      {
        "duration": 6,
        "start_time": "2023-07-13T10:10:29.676Z"
      },
      {
        "duration": 11,
        "start_time": "2023-07-13T10:10:29.683Z"
      },
      {
        "duration": 216,
        "start_time": "2023-07-13T10:10:29.696Z"
      },
      {
        "duration": 160,
        "start_time": "2023-07-13T10:10:29.914Z"
      },
      {
        "duration": 269,
        "start_time": "2023-07-13T10:10:30.076Z"
      },
      {
        "duration": 318,
        "start_time": "2023-07-13T10:10:30.356Z"
      },
      {
        "duration": 170,
        "start_time": "2023-07-13T10:10:30.676Z"
      },
      {
        "duration": 420,
        "start_time": "2023-07-13T10:10:30.855Z"
      },
      {
        "duration": 20,
        "start_time": "2023-07-13T10:10:31.277Z"
      },
      {
        "duration": 207,
        "start_time": "2023-07-13T10:10:31.300Z"
      },
      {
        "duration": 760,
        "start_time": "2023-07-13T10:11:10.722Z"
      },
      {
        "duration": 4,
        "start_time": "2023-07-13T10:12:50.269Z"
      },
      {
        "duration": 824,
        "start_time": "2023-07-13T10:13:04.099Z"
      },
      {
        "duration": 11,
        "start_time": "2023-07-13T10:14:17.970Z"
      },
      {
        "duration": 29,
        "start_time": "2023-07-13T10:15:04.242Z"
      },
      {
        "duration": 19,
        "start_time": "2023-07-13T10:15:18.329Z"
      },
      {
        "duration": 556,
        "start_time": "2023-07-13T10:16:24.339Z"
      },
      {
        "duration": 500,
        "start_time": "2023-07-13T10:16:42.519Z"
      },
      {
        "duration": 1581,
        "start_time": "2023-07-13T10:17:02.022Z"
      },
      {
        "duration": 104,
        "start_time": "2023-07-13T10:17:03.606Z"
      },
      {
        "duration": 69,
        "start_time": "2023-07-13T10:17:03.712Z"
      },
      {
        "duration": 17,
        "start_time": "2023-07-13T10:17:03.783Z"
      },
      {
        "duration": 2396,
        "start_time": "2023-07-13T10:17:03.803Z"
      },
      {
        "duration": 107,
        "start_time": "2023-07-13T10:17:06.202Z"
      },
      {
        "duration": 13,
        "start_time": "2023-07-13T10:17:06.311Z"
      },
      {
        "duration": 50,
        "start_time": "2023-07-13T10:17:06.326Z"
      },
      {
        "duration": 48,
        "start_time": "2023-07-13T10:17:06.378Z"
      },
      {
        "duration": 32,
        "start_time": "2023-07-13T10:17:06.428Z"
      },
      {
        "duration": 27,
        "start_time": "2023-07-13T10:17:06.462Z"
      },
      {
        "duration": 24,
        "start_time": "2023-07-13T10:17:06.491Z"
      },
      {
        "duration": 28,
        "start_time": "2023-07-13T10:17:06.517Z"
      },
      {
        "duration": 7,
        "start_time": "2023-07-13T10:17:06.550Z"
      },
      {
        "duration": 41,
        "start_time": "2023-07-13T10:17:06.560Z"
      },
      {
        "duration": 23,
        "start_time": "2023-07-13T10:17:06.603Z"
      },
      {
        "duration": 31,
        "start_time": "2023-07-13T10:17:06.628Z"
      },
      {
        "duration": 35,
        "start_time": "2023-07-13T10:17:06.661Z"
      },
      {
        "duration": 8,
        "start_time": "2023-07-13T10:17:06.698Z"
      },
      {
        "duration": 622,
        "start_time": "2023-07-13T10:17:06.708Z"
      },
      {
        "duration": 0,
        "start_time": "2023-07-13T10:17:07.333Z"
      },
      {
        "duration": 0,
        "start_time": "2023-07-13T10:17:07.334Z"
      },
      {
        "duration": 0,
        "start_time": "2023-07-13T10:17:07.336Z"
      },
      {
        "duration": 0,
        "start_time": "2023-07-13T10:17:07.336Z"
      },
      {
        "duration": 0,
        "start_time": "2023-07-13T10:17:07.338Z"
      },
      {
        "duration": 0,
        "start_time": "2023-07-13T10:17:07.354Z"
      },
      {
        "duration": 0,
        "start_time": "2023-07-13T10:17:07.356Z"
      },
      {
        "duration": 0,
        "start_time": "2023-07-13T10:17:07.359Z"
      },
      {
        "duration": 0,
        "start_time": "2023-07-13T10:17:07.362Z"
      },
      {
        "duration": 0,
        "start_time": "2023-07-13T10:17:07.364Z"
      },
      {
        "duration": 0,
        "start_time": "2023-07-13T10:17:07.365Z"
      },
      {
        "duration": 0,
        "start_time": "2023-07-13T10:17:07.370Z"
      },
      {
        "duration": 0,
        "start_time": "2023-07-13T10:17:07.371Z"
      },
      {
        "duration": 0,
        "start_time": "2023-07-13T10:17:07.372Z"
      },
      {
        "duration": 0,
        "start_time": "2023-07-13T10:17:07.372Z"
      },
      {
        "duration": 0,
        "start_time": "2023-07-13T10:17:07.373Z"
      },
      {
        "duration": 0,
        "start_time": "2023-07-13T10:17:07.374Z"
      },
      {
        "duration": 0,
        "start_time": "2023-07-13T10:17:07.375Z"
      },
      {
        "duration": 0,
        "start_time": "2023-07-13T10:17:07.376Z"
      },
      {
        "duration": 0,
        "start_time": "2023-07-13T10:17:07.377Z"
      },
      {
        "duration": 0,
        "start_time": "2023-07-13T10:17:07.378Z"
      },
      {
        "duration": 0,
        "start_time": "2023-07-13T10:17:07.379Z"
      },
      {
        "duration": 0,
        "start_time": "2023-07-13T10:17:07.379Z"
      },
      {
        "duration": 0,
        "start_time": "2023-07-13T10:17:07.380Z"
      },
      {
        "duration": 0,
        "start_time": "2023-07-13T10:17:07.381Z"
      },
      {
        "duration": 0,
        "start_time": "2023-07-13T10:17:07.384Z"
      },
      {
        "duration": 0,
        "start_time": "2023-07-13T10:17:07.386Z"
      },
      {
        "duration": 0,
        "start_time": "2023-07-13T10:17:07.387Z"
      },
      {
        "duration": 0,
        "start_time": "2023-07-13T10:17:07.388Z"
      },
      {
        "duration": 0,
        "start_time": "2023-07-13T10:17:07.389Z"
      },
      {
        "duration": 0,
        "start_time": "2023-07-13T10:17:07.390Z"
      },
      {
        "duration": 0,
        "start_time": "2023-07-13T10:17:07.391Z"
      },
      {
        "duration": 0,
        "start_time": "2023-07-13T10:17:07.392Z"
      },
      {
        "duration": 0,
        "start_time": "2023-07-13T10:17:07.393Z"
      },
      {
        "duration": 0,
        "start_time": "2023-07-13T10:17:07.395Z"
      },
      {
        "duration": 580,
        "start_time": "2023-07-13T10:17:33.712Z"
      },
      {
        "duration": 22,
        "start_time": "2023-07-13T10:19:04.478Z"
      },
      {
        "duration": 141,
        "start_time": "2023-07-13T10:19:36.879Z"
      },
      {
        "duration": 17,
        "start_time": "2023-07-13T10:19:56.074Z"
      },
      {
        "duration": 19,
        "start_time": "2023-07-13T10:20:15.070Z"
      },
      {
        "duration": 258,
        "start_time": "2023-07-13T10:20:29.634Z"
      },
      {
        "duration": 14,
        "start_time": "2023-07-13T10:20:49.621Z"
      },
      {
        "duration": 27,
        "start_time": "2023-07-13T10:20:59.359Z"
      },
      {
        "duration": 577,
        "start_time": "2023-07-13T10:21:30.609Z"
      },
      {
        "duration": 503,
        "start_time": "2023-07-13T10:39:18.076Z"
      },
      {
        "duration": 921,
        "start_time": "2023-07-13T10:39:44.972Z"
      },
      {
        "duration": 800,
        "start_time": "2023-07-13T10:40:08.682Z"
      },
      {
        "duration": 36756,
        "start_time": "2023-07-13T10:42:12.832Z"
      },
      {
        "duration": 993,
        "start_time": "2023-07-13T10:44:01.258Z"
      },
      {
        "duration": 154,
        "start_time": "2023-07-13T10:44:02.265Z"
      },
      {
        "duration": 68,
        "start_time": "2023-07-13T10:44:02.424Z"
      },
      {
        "duration": 74,
        "start_time": "2023-07-13T10:44:02.495Z"
      },
      {
        "duration": 2797,
        "start_time": "2023-07-13T10:44:02.571Z"
      },
      {
        "duration": 118,
        "start_time": "2023-07-13T10:44:05.371Z"
      },
      {
        "duration": 17,
        "start_time": "2023-07-13T10:44:05.492Z"
      },
      {
        "duration": 23,
        "start_time": "2023-07-13T10:44:05.511Z"
      },
      {
        "duration": 15,
        "start_time": "2023-07-13T10:44:05.536Z"
      },
      {
        "duration": 60,
        "start_time": "2023-07-13T10:44:05.554Z"
      },
      {
        "duration": 25,
        "start_time": "2023-07-13T10:44:05.617Z"
      },
      {
        "duration": 27,
        "start_time": "2023-07-13T10:44:05.645Z"
      },
      {
        "duration": 55,
        "start_time": "2023-07-13T10:44:05.674Z"
      },
      {
        "duration": 19,
        "start_time": "2023-07-13T10:44:05.731Z"
      },
      {
        "duration": 77,
        "start_time": "2023-07-13T10:44:05.766Z"
      },
      {
        "duration": 60,
        "start_time": "2023-07-13T10:44:05.845Z"
      },
      {
        "duration": 12,
        "start_time": "2023-07-13T10:44:05.908Z"
      },
      {
        "duration": 18,
        "start_time": "2023-07-13T10:44:05.922Z"
      },
      {
        "duration": 60,
        "start_time": "2023-07-13T10:44:05.942Z"
      },
      {
        "duration": 206,
        "start_time": "2023-07-13T10:44:06.004Z"
      },
      {
        "duration": 45,
        "start_time": "2023-07-13T10:44:06.220Z"
      },
      {
        "duration": 75,
        "start_time": "2023-07-13T10:44:06.267Z"
      },
      {
        "duration": 6,
        "start_time": "2023-07-13T10:44:06.345Z"
      },
      {
        "duration": 55,
        "start_time": "2023-07-13T10:44:06.354Z"
      },
      {
        "duration": 7,
        "start_time": "2023-07-13T10:44:06.412Z"
      },
      {
        "duration": 22,
        "start_time": "2023-07-13T10:44:06.422Z"
      },
      {
        "duration": 655,
        "start_time": "2023-07-13T10:44:06.448Z"
      },
      {
        "duration": 30,
        "start_time": "2023-07-13T10:44:07.108Z"
      },
      {
        "duration": 136,
        "start_time": "2023-07-13T10:44:07.140Z"
      },
      {
        "duration": 306,
        "start_time": "2023-07-13T10:44:07.280Z"
      },
      {
        "duration": 403,
        "start_time": "2023-07-13T10:44:07.595Z"
      },
      {
        "duration": 386,
        "start_time": "2023-07-13T10:44:08.003Z"
      },
      {
        "duration": 548,
        "start_time": "2023-07-13T10:44:08.395Z"
      },
      {
        "duration": 318,
        "start_time": "2023-07-13T10:44:08.960Z"
      },
      {
        "duration": 265,
        "start_time": "2023-07-13T10:44:09.280Z"
      },
      {
        "duration": 277,
        "start_time": "2023-07-13T10:44:09.551Z"
      },
      {
        "duration": 186,
        "start_time": "2023-07-13T10:44:09.830Z"
      },
      {
        "duration": 321,
        "start_time": "2023-07-13T10:44:10.018Z"
      },
      {
        "duration": 465,
        "start_time": "2023-07-13T10:44:10.341Z"
      },
      {
        "duration": 308,
        "start_time": "2023-07-13T10:44:10.809Z"
      },
      {
        "duration": 271,
        "start_time": "2023-07-13T10:44:11.120Z"
      },
      {
        "duration": 250,
        "start_time": "2023-07-13T10:44:11.395Z"
      },
      {
        "duration": 236,
        "start_time": "2023-07-13T10:44:11.648Z"
      },
      {
        "duration": 474,
        "start_time": "2023-07-13T10:44:11.890Z"
      },
      {
        "duration": 233,
        "start_time": "2023-07-13T10:44:12.371Z"
      },
      {
        "duration": 10,
        "start_time": "2023-07-13T10:44:12.607Z"
      },
      {
        "duration": 10,
        "start_time": "2023-07-13T10:44:12.619Z"
      },
      {
        "duration": 249,
        "start_time": "2023-07-13T10:44:12.632Z"
      },
      {
        "duration": 204,
        "start_time": "2023-07-13T10:44:12.885Z"
      },
      {
        "duration": 505,
        "start_time": "2023-07-13T10:44:13.094Z"
      },
      {
        "duration": 374,
        "start_time": "2023-07-13T10:44:13.609Z"
      },
      {
        "duration": 244,
        "start_time": "2023-07-13T10:44:13.986Z"
      },
      {
        "duration": 404,
        "start_time": "2023-07-13T10:44:14.232Z"
      },
      {
        "duration": 39,
        "start_time": "2023-07-13T10:44:14.639Z"
      },
      {
        "duration": 286,
        "start_time": "2023-07-13T10:44:14.687Z"
      },
      {
        "duration": 1972,
        "start_time": "2023-07-13T10:45:01.325Z"
      },
      {
        "duration": 152,
        "start_time": "2023-07-13T10:46:58.218Z"
      },
      {
        "duration": 283,
        "start_time": "2023-07-13T10:47:15.217Z"
      },
      {
        "duration": 162,
        "start_time": "2023-07-13T10:48:26.613Z"
      },
      {
        "duration": 127,
        "start_time": "2023-07-13T10:48:33.513Z"
      },
      {
        "duration": 581,
        "start_time": "2023-07-13T10:49:08.780Z"
      },
      {
        "duration": 635,
        "start_time": "2023-07-13T10:51:34.438Z"
      },
      {
        "duration": 352,
        "start_time": "2023-07-13T10:59:57.013Z"
      },
      {
        "duration": 4,
        "start_time": "2023-07-13T11:03:50.814Z"
      },
      {
        "duration": 2702,
        "start_time": "2023-07-13T11:06:01.540Z"
      },
      {
        "duration": 15,
        "start_time": "2023-07-13T11:09:27.449Z"
      },
      {
        "duration": 13,
        "start_time": "2023-07-13T11:09:39.756Z"
      },
      {
        "duration": 10,
        "start_time": "2023-07-13T11:11:23.565Z"
      },
      {
        "duration": 393,
        "start_time": "2023-07-13T12:55:35.169Z"
      },
      {
        "duration": 366,
        "start_time": "2023-07-13T12:55:40.009Z"
      },
      {
        "duration": 362,
        "start_time": "2023-07-13T12:55:44.548Z"
      },
      {
        "duration": 386,
        "start_time": "2023-07-13T12:56:11.449Z"
      },
      {
        "duration": 350,
        "start_time": "2023-07-13T12:56:17.033Z"
      },
      {
        "duration": 380,
        "start_time": "2023-07-13T12:56:36.839Z"
      },
      {
        "duration": 340,
        "start_time": "2023-07-13T12:56:50.581Z"
      },
      {
        "duration": 385,
        "start_time": "2023-07-13T12:56:53.945Z"
      },
      {
        "duration": 385,
        "start_time": "2023-07-13T12:56:59.337Z"
      },
      {
        "duration": 310,
        "start_time": "2023-07-13T12:57:04.321Z"
      },
      {
        "duration": 307,
        "start_time": "2023-07-13T12:57:10.810Z"
      },
      {
        "duration": 361,
        "start_time": "2023-07-13T12:57:16.822Z"
      },
      {
        "duration": 367,
        "start_time": "2023-07-13T12:57:21.343Z"
      },
      {
        "duration": 455,
        "start_time": "2023-07-13T13:01:18.248Z"
      },
      {
        "duration": 337,
        "start_time": "2023-07-13T13:01:33.862Z"
      },
      {
        "duration": 359,
        "start_time": "2023-07-13T13:01:45.938Z"
      },
      {
        "duration": 389,
        "start_time": "2023-07-13T13:08:20.313Z"
      },
      {
        "duration": 347,
        "start_time": "2023-07-13T13:09:15.250Z"
      },
      {
        "duration": 435,
        "start_time": "2023-07-13T13:09:34.826Z"
      },
      {
        "duration": 257,
        "start_time": "2023-07-13T13:10:06.237Z"
      },
      {
        "duration": 320,
        "start_time": "2023-07-13T13:10:30.423Z"
      },
      {
        "duration": 236,
        "start_time": "2023-07-13T13:10:43.774Z"
      },
      {
        "duration": 263,
        "start_time": "2023-07-13T13:10:51.625Z"
      },
      {
        "duration": 270,
        "start_time": "2023-07-13T13:10:55.526Z"
      },
      {
        "duration": 316,
        "start_time": "2023-07-13T13:11:01.318Z"
      },
      {
        "duration": 226,
        "start_time": "2023-07-13T13:11:10.618Z"
      },
      {
        "duration": 229,
        "start_time": "2023-07-13T13:11:49.425Z"
      },
      {
        "duration": 237,
        "start_time": "2023-07-13T13:11:57.858Z"
      },
      {
        "duration": 287,
        "start_time": "2023-07-13T13:16:47.321Z"
      },
      {
        "duration": 259,
        "start_time": "2023-07-13T13:18:38.918Z"
      },
      {
        "duration": 550,
        "start_time": "2023-07-13T13:18:55.034Z"
      },
      {
        "duration": 335,
        "start_time": "2023-07-13T13:24:34.634Z"
      },
      {
        "duration": 253,
        "start_time": "2023-07-13T13:24:42.868Z"
      },
      {
        "duration": 312,
        "start_time": "2023-07-13T13:26:01.574Z"
      },
      {
        "duration": 372,
        "start_time": "2023-07-13T13:26:18.238Z"
      },
      {
        "duration": 154,
        "start_time": "2023-07-13T13:27:13.878Z"
      },
      {
        "duration": 246,
        "start_time": "2023-07-13T13:27:39.314Z"
      },
      {
        "duration": 224,
        "start_time": "2023-07-13T13:27:51.162Z"
      },
      {
        "duration": 268,
        "start_time": "2023-07-13T13:28:02.236Z"
      },
      {
        "duration": 255,
        "start_time": "2023-07-13T13:28:56.208Z"
      },
      {
        "duration": 201,
        "start_time": "2023-07-13T13:29:26.918Z"
      },
      {
        "duration": 198,
        "start_time": "2023-07-13T13:29:37.034Z"
      },
      {
        "duration": 226,
        "start_time": "2023-07-13T13:29:43.748Z"
      },
      {
        "duration": 770,
        "start_time": "2023-07-13T13:30:00.078Z"
      },
      {
        "duration": 127,
        "start_time": "2023-07-13T13:30:00.851Z"
      },
      {
        "duration": 48,
        "start_time": "2023-07-13T13:30:00.980Z"
      },
      {
        "duration": 35,
        "start_time": "2023-07-13T13:30:01.030Z"
      },
      {
        "duration": 2519,
        "start_time": "2023-07-13T13:30:01.072Z"
      },
      {
        "duration": 96,
        "start_time": "2023-07-13T13:30:03.593Z"
      },
      {
        "duration": 9,
        "start_time": "2023-07-13T13:30:03.691Z"
      },
      {
        "duration": 59,
        "start_time": "2023-07-13T13:30:03.702Z"
      },
      {
        "duration": 41,
        "start_time": "2023-07-13T13:30:03.767Z"
      },
      {
        "duration": 111,
        "start_time": "2023-07-13T13:30:03.810Z"
      },
      {
        "duration": 63,
        "start_time": "2023-07-13T13:30:03.923Z"
      },
      {
        "duration": 124,
        "start_time": "2023-07-13T13:30:03.989Z"
      },
      {
        "duration": 15,
        "start_time": "2023-07-13T13:30:04.115Z"
      },
      {
        "duration": 11,
        "start_time": "2023-07-13T13:30:04.133Z"
      },
      {
        "duration": 44,
        "start_time": "2023-07-13T13:30:04.145Z"
      },
      {
        "duration": 44,
        "start_time": "2023-07-13T13:30:04.190Z"
      },
      {
        "duration": 25,
        "start_time": "2023-07-13T13:30:04.236Z"
      },
      {
        "duration": 38,
        "start_time": "2023-07-13T13:30:04.263Z"
      },
      {
        "duration": 10,
        "start_time": "2023-07-13T13:30:04.303Z"
      },
      {
        "duration": 474,
        "start_time": "2023-07-13T13:30:04.315Z"
      },
      {
        "duration": 8,
        "start_time": "2023-07-13T13:30:04.791Z"
      },
      {
        "duration": 31,
        "start_time": "2023-07-13T13:30:04.800Z"
      },
      {
        "duration": 11,
        "start_time": "2023-07-13T13:30:04.833Z"
      },
      {
        "duration": 44,
        "start_time": "2023-07-13T13:30:04.846Z"
      },
      {
        "duration": 8,
        "start_time": "2023-07-13T13:30:04.892Z"
      },
      {
        "duration": 28,
        "start_time": "2023-07-13T13:30:04.902Z"
      },
      {
        "duration": 500,
        "start_time": "2023-07-13T13:30:04.932Z"
      },
      {
        "duration": 47,
        "start_time": "2023-07-13T13:30:05.434Z"
      },
      {
        "duration": 115,
        "start_time": "2023-07-13T13:30:05.485Z"
      },
      {
        "duration": 287,
        "start_time": "2023-07-13T13:30:05.602Z"
      },
      {
        "duration": 223,
        "start_time": "2023-07-13T13:30:05.891Z"
      },
      {
        "duration": 392,
        "start_time": "2023-07-13T13:30:06.116Z"
      },
      {
        "duration": 359,
        "start_time": "2023-07-13T13:30:06.510Z"
      },
      {
        "duration": 242,
        "start_time": "2023-07-13T13:30:06.870Z"
      },
      {
        "duration": 262,
        "start_time": "2023-07-13T13:30:07.114Z"
      },
      {
        "duration": 228,
        "start_time": "2023-07-13T13:30:07.378Z"
      },
      {
        "duration": 168,
        "start_time": "2023-07-13T13:30:07.608Z"
      },
      {
        "duration": 265,
        "start_time": "2023-07-13T13:30:07.778Z"
      },
      {
        "duration": 344,
        "start_time": "2023-07-13T13:30:08.045Z"
      },
      {
        "duration": 421,
        "start_time": "2023-07-13T13:30:08.393Z"
      },
      {
        "duration": 281,
        "start_time": "2023-07-13T13:30:08.818Z"
      },
      {
        "duration": 210,
        "start_time": "2023-07-13T13:30:09.101Z"
      },
      {
        "duration": 209,
        "start_time": "2023-07-13T13:30:09.313Z"
      },
      {
        "duration": 365,
        "start_time": "2023-07-13T13:30:09.524Z"
      },
      {
        "duration": 212,
        "start_time": "2023-07-13T13:30:09.891Z"
      },
      {
        "duration": 5,
        "start_time": "2023-07-13T13:30:10.106Z"
      },
      {
        "duration": 32,
        "start_time": "2023-07-13T13:30:10.113Z"
      },
      {
        "duration": 215,
        "start_time": "2023-07-13T13:30:10.147Z"
      },
      {
        "duration": 203,
        "start_time": "2023-07-13T13:30:10.371Z"
      },
      {
        "duration": 2717,
        "start_time": "2023-07-13T13:30:10.576Z"
      },
      {
        "duration": 0,
        "start_time": "2023-07-13T13:30:13.295Z"
      },
      {
        "duration": 0,
        "start_time": "2023-07-13T13:30:13.297Z"
      },
      {
        "duration": 0,
        "start_time": "2023-07-13T13:30:13.299Z"
      },
      {
        "duration": 0,
        "start_time": "2023-07-13T13:30:13.301Z"
      },
      {
        "duration": 0,
        "start_time": "2023-07-13T13:30:13.302Z"
      },
      {
        "duration": 128,
        "start_time": "2023-07-13T13:30:19.151Z"
      },
      {
        "duration": 220,
        "start_time": "2023-07-13T13:30:26.680Z"
      },
      {
        "duration": 435,
        "start_time": "2023-07-13T13:32:10.261Z"
      },
      {
        "duration": 267,
        "start_time": "2023-07-13T13:39:47.730Z"
      },
      {
        "duration": 200,
        "start_time": "2023-07-13T13:39:51.006Z"
      },
      {
        "duration": 237,
        "start_time": "2023-07-13T13:39:57.618Z"
      },
      {
        "duration": 258,
        "start_time": "2023-07-13T13:41:34.045Z"
      },
      {
        "duration": 245,
        "start_time": "2023-07-13T13:41:50.039Z"
      },
      {
        "duration": 206,
        "start_time": "2023-07-13T13:42:48.439Z"
      },
      {
        "duration": 213,
        "start_time": "2023-07-13T13:43:23.918Z"
      },
      {
        "duration": 228,
        "start_time": "2023-07-13T13:43:33.411Z"
      },
      {
        "duration": 208,
        "start_time": "2023-07-13T13:44:46.820Z"
      },
      {
        "duration": 411,
        "start_time": "2023-07-13T13:45:18.532Z"
      },
      {
        "duration": 244,
        "start_time": "2023-07-13T13:45:25.851Z"
      },
      {
        "duration": 190,
        "start_time": "2023-07-13T13:45:34.714Z"
      },
      {
        "duration": 772,
        "start_time": "2023-07-13T13:45:49.166Z"
      },
      {
        "duration": 134,
        "start_time": "2023-07-13T13:45:49.940Z"
      },
      {
        "duration": 48,
        "start_time": "2023-07-13T13:45:50.076Z"
      },
      {
        "duration": 29,
        "start_time": "2023-07-13T13:45:50.126Z"
      },
      {
        "duration": 2411,
        "start_time": "2023-07-13T13:45:50.158Z"
      },
      {
        "duration": 92,
        "start_time": "2023-07-13T13:45:52.571Z"
      },
      {
        "duration": 16,
        "start_time": "2023-07-13T13:45:52.666Z"
      },
      {
        "duration": 25,
        "start_time": "2023-07-13T13:45:52.685Z"
      },
      {
        "duration": 23,
        "start_time": "2023-07-13T13:45:52.712Z"
      },
      {
        "duration": 45,
        "start_time": "2023-07-13T13:45:52.737Z"
      },
      {
        "duration": 15,
        "start_time": "2023-07-13T13:45:52.785Z"
      },
      {
        "duration": 28,
        "start_time": "2023-07-13T13:45:52.802Z"
      },
      {
        "duration": 28,
        "start_time": "2023-07-13T13:45:52.834Z"
      },
      {
        "duration": 25,
        "start_time": "2023-07-13T13:45:52.866Z"
      },
      {
        "duration": 18,
        "start_time": "2023-07-13T13:45:52.894Z"
      },
      {
        "duration": 17,
        "start_time": "2023-07-13T13:45:52.914Z"
      },
      {
        "duration": 28,
        "start_time": "2023-07-13T13:45:52.933Z"
      },
      {
        "duration": 25,
        "start_time": "2023-07-13T13:45:52.962Z"
      },
      {
        "duration": 26,
        "start_time": "2023-07-13T13:45:52.989Z"
      },
      {
        "duration": 474,
        "start_time": "2023-07-13T13:45:53.018Z"
      },
      {
        "duration": 13,
        "start_time": "2023-07-13T13:45:53.495Z"
      },
      {
        "duration": 25,
        "start_time": "2023-07-13T13:45:53.510Z"
      },
      {
        "duration": 35,
        "start_time": "2023-07-13T13:45:53.537Z"
      },
      {
        "duration": 21,
        "start_time": "2023-07-13T13:45:53.575Z"
      },
      {
        "duration": 18,
        "start_time": "2023-07-13T13:45:53.598Z"
      },
      {
        "duration": 9,
        "start_time": "2023-07-13T13:45:53.618Z"
      },
      {
        "duration": 441,
        "start_time": "2023-07-13T13:45:53.629Z"
      },
      {
        "duration": 28,
        "start_time": "2023-07-13T13:45:54.075Z"
      },
      {
        "duration": 116,
        "start_time": "2023-07-13T13:45:54.105Z"
      },
      {
        "duration": 252,
        "start_time": "2023-07-13T13:45:54.223Z"
      },
      {
        "duration": 220,
        "start_time": "2023-07-13T13:45:54.477Z"
      },
      {
        "duration": 300,
        "start_time": "2023-07-13T13:45:54.699Z"
      },
      {
        "duration": 329,
        "start_time": "2023-07-13T13:45:55.002Z"
      },
      {
        "duration": 248,
        "start_time": "2023-07-13T13:45:55.333Z"
      },
      {
        "duration": 232,
        "start_time": "2023-07-13T13:45:55.584Z"
      },
      {
        "duration": 221,
        "start_time": "2023-07-13T13:45:55.817Z"
      },
      {
        "duration": 175,
        "start_time": "2023-07-13T13:45:56.040Z"
      },
      {
        "duration": 267,
        "start_time": "2023-07-13T13:45:56.218Z"
      },
      {
        "duration": 294,
        "start_time": "2023-07-13T13:45:56.488Z"
      },
      {
        "duration": 370,
        "start_time": "2023-07-13T13:45:56.784Z"
      },
      {
        "duration": 247,
        "start_time": "2023-07-13T13:45:57.163Z"
      },
      {
        "duration": 187,
        "start_time": "2023-07-13T13:45:57.411Z"
      },
      {
        "duration": 196,
        "start_time": "2023-07-13T13:45:57.600Z"
      },
      {
        "duration": 342,
        "start_time": "2023-07-13T13:45:57.799Z"
      },
      {
        "duration": 242,
        "start_time": "2023-07-13T13:45:58.143Z"
      },
      {
        "duration": 7,
        "start_time": "2023-07-13T13:45:58.387Z"
      },
      {
        "duration": 42,
        "start_time": "2023-07-13T13:45:58.397Z"
      },
      {
        "duration": 245,
        "start_time": "2023-07-13T13:45:58.441Z"
      },
      {
        "duration": 184,
        "start_time": "2023-07-13T13:45:58.688Z"
      },
      {
        "duration": 4593,
        "start_time": "2023-07-13T13:45:58.874Z"
      },
      {
        "duration": 0,
        "start_time": "2023-07-13T13:46:03.474Z"
      },
      {
        "duration": 0,
        "start_time": "2023-07-13T13:46:03.475Z"
      },
      {
        "duration": 0,
        "start_time": "2023-07-13T13:46:03.477Z"
      },
      {
        "duration": 0,
        "start_time": "2023-07-13T13:46:03.479Z"
      },
      {
        "duration": 0,
        "start_time": "2023-07-13T13:46:03.480Z"
      },
      {
        "duration": 726,
        "start_time": "2023-07-13T13:50:12.234Z"
      },
      {
        "duration": 110,
        "start_time": "2023-07-13T13:50:12.967Z"
      },
      {
        "duration": 45,
        "start_time": "2023-07-13T13:50:13.080Z"
      },
      {
        "duration": 43,
        "start_time": "2023-07-13T13:50:13.127Z"
      },
      {
        "duration": 2250,
        "start_time": "2023-07-13T13:50:13.173Z"
      },
      {
        "duration": 87,
        "start_time": "2023-07-13T13:50:15.425Z"
      },
      {
        "duration": 11,
        "start_time": "2023-07-13T13:50:15.514Z"
      },
      {
        "duration": 15,
        "start_time": "2023-07-13T13:50:15.527Z"
      },
      {
        "duration": 26,
        "start_time": "2023-07-13T13:50:15.552Z"
      },
      {
        "duration": 14,
        "start_time": "2023-07-13T13:50:15.580Z"
      },
      {
        "duration": 10,
        "start_time": "2023-07-13T13:50:15.597Z"
      },
      {
        "duration": 23,
        "start_time": "2023-07-13T13:50:15.609Z"
      },
      {
        "duration": 32,
        "start_time": "2023-07-13T13:50:15.635Z"
      },
      {
        "duration": 12,
        "start_time": "2023-07-13T13:50:15.672Z"
      },
      {
        "duration": 13,
        "start_time": "2023-07-13T13:50:15.686Z"
      },
      {
        "duration": 17,
        "start_time": "2023-07-13T13:50:15.701Z"
      },
      {
        "duration": 20,
        "start_time": "2023-07-13T13:50:15.720Z"
      },
      {
        "duration": 19,
        "start_time": "2023-07-13T13:50:15.742Z"
      },
      {
        "duration": 34,
        "start_time": "2023-07-13T13:50:15.763Z"
      },
      {
        "duration": 411,
        "start_time": "2023-07-13T13:50:15.799Z"
      },
      {
        "duration": 9,
        "start_time": "2023-07-13T13:50:16.212Z"
      },
      {
        "duration": 22,
        "start_time": "2023-07-13T13:50:16.223Z"
      },
      {
        "duration": 34,
        "start_time": "2023-07-13T13:50:16.247Z"
      },
      {
        "duration": 21,
        "start_time": "2023-07-13T13:50:16.283Z"
      },
      {
        "duration": 7,
        "start_time": "2023-07-13T13:50:16.306Z"
      },
      {
        "duration": 9,
        "start_time": "2023-07-13T13:50:16.314Z"
      },
      {
        "duration": 440,
        "start_time": "2023-07-13T13:50:16.325Z"
      },
      {
        "duration": 28,
        "start_time": "2023-07-13T13:50:16.770Z"
      },
      {
        "duration": 96,
        "start_time": "2023-07-13T13:50:16.799Z"
      },
      {
        "duration": 266,
        "start_time": "2023-07-13T13:50:16.897Z"
      },
      {
        "duration": 215,
        "start_time": "2023-07-13T13:50:17.165Z"
      },
      {
        "duration": 292,
        "start_time": "2023-07-13T13:50:17.383Z"
      },
      {
        "duration": 329,
        "start_time": "2023-07-13T13:50:17.678Z"
      },
      {
        "duration": 270,
        "start_time": "2023-07-13T13:50:18.010Z"
      },
      {
        "duration": 272,
        "start_time": "2023-07-13T13:50:18.282Z"
      },
      {
        "duration": 306,
        "start_time": "2023-07-13T13:50:18.556Z"
      },
      {
        "duration": 178,
        "start_time": "2023-07-13T13:50:18.868Z"
      },
      {
        "duration": 260,
        "start_time": "2023-07-13T13:50:19.049Z"
      },
      {
        "duration": 298,
        "start_time": "2023-07-13T13:50:19.311Z"
      },
      {
        "duration": 366,
        "start_time": "2023-07-13T13:50:19.611Z"
      },
      {
        "duration": 261,
        "start_time": "2023-07-13T13:50:19.983Z"
      },
      {
        "duration": 200,
        "start_time": "2023-07-13T13:50:20.246Z"
      },
      {
        "duration": 189,
        "start_time": "2023-07-13T13:50:20.453Z"
      },
      {
        "duration": 367,
        "start_time": "2023-07-13T13:50:20.644Z"
      },
      {
        "duration": 245,
        "start_time": "2023-07-13T13:50:21.013Z"
      },
      {
        "duration": 8,
        "start_time": "2023-07-13T13:50:21.259Z"
      },
      {
        "duration": 14,
        "start_time": "2023-07-13T13:50:21.272Z"
      },
      {
        "duration": 200,
        "start_time": "2023-07-13T13:50:21.288Z"
      },
      {
        "duration": 179,
        "start_time": "2023-07-13T13:50:21.491Z"
      },
      {
        "duration": 1754,
        "start_time": "2023-07-13T13:50:21.674Z"
      },
      {
        "duration": 0,
        "start_time": "2023-07-13T13:50:23.430Z"
      },
      {
        "duration": 0,
        "start_time": "2023-07-13T13:50:23.432Z"
      },
      {
        "duration": 0,
        "start_time": "2023-07-13T13:50:23.433Z"
      },
      {
        "duration": 0,
        "start_time": "2023-07-13T13:50:23.435Z"
      },
      {
        "duration": 0,
        "start_time": "2023-07-13T13:50:23.438Z"
      },
      {
        "duration": 12,
        "start_time": "2023-07-13T13:50:54.466Z"
      },
      {
        "duration": 14,
        "start_time": "2023-07-13T13:51:02.826Z"
      },
      {
        "duration": 17,
        "start_time": "2023-07-13T13:51:27.423Z"
      },
      {
        "duration": 715,
        "start_time": "2023-07-13T13:51:34.603Z"
      },
      {
        "duration": 122,
        "start_time": "2023-07-13T13:51:35.321Z"
      },
      {
        "duration": 54,
        "start_time": "2023-07-13T13:51:35.445Z"
      },
      {
        "duration": 22,
        "start_time": "2023-07-13T13:51:35.500Z"
      },
      {
        "duration": 2222,
        "start_time": "2023-07-13T13:51:35.525Z"
      },
      {
        "duration": 122,
        "start_time": "2023-07-13T13:51:37.749Z"
      },
      {
        "duration": 16,
        "start_time": "2023-07-13T13:51:37.873Z"
      },
      {
        "duration": 9,
        "start_time": "2023-07-13T13:51:37.891Z"
      },
      {
        "duration": 25,
        "start_time": "2023-07-13T13:51:37.902Z"
      },
      {
        "duration": 33,
        "start_time": "2023-07-13T13:51:37.930Z"
      },
      {
        "duration": 13,
        "start_time": "2023-07-13T13:51:37.965Z"
      },
      {
        "duration": 53,
        "start_time": "2023-07-13T13:51:37.980Z"
      },
      {
        "duration": 15,
        "start_time": "2023-07-13T13:51:38.035Z"
      },
      {
        "duration": 35,
        "start_time": "2023-07-13T13:51:38.055Z"
      },
      {
        "duration": 11,
        "start_time": "2023-07-13T13:51:38.092Z"
      },
      {
        "duration": 22,
        "start_time": "2023-07-13T13:51:38.105Z"
      },
      {
        "duration": 48,
        "start_time": "2023-07-13T13:51:38.129Z"
      },
      {
        "duration": 21,
        "start_time": "2023-07-13T13:51:38.179Z"
      },
      {
        "duration": 26,
        "start_time": "2023-07-13T13:51:38.202Z"
      },
      {
        "duration": 653,
        "start_time": "2023-07-13T13:51:38.230Z"
      },
      {
        "duration": 9,
        "start_time": "2023-07-13T13:51:38.885Z"
      },
      {
        "duration": 19,
        "start_time": "2023-07-13T13:51:38.895Z"
      },
      {
        "duration": 10,
        "start_time": "2023-07-13T13:51:38.916Z"
      },
      {
        "duration": 32,
        "start_time": "2023-07-13T13:51:38.928Z"
      },
      {
        "duration": 10,
        "start_time": "2023-07-13T13:51:38.962Z"
      },
      {
        "duration": 37,
        "start_time": "2023-07-13T13:51:38.974Z"
      },
      {
        "duration": 429,
        "start_time": "2023-07-13T13:51:39.012Z"
      },
      {
        "duration": 34,
        "start_time": "2023-07-13T13:51:39.443Z"
      },
      {
        "duration": 224,
        "start_time": "2023-07-13T13:51:39.480Z"
      },
      {
        "duration": 400,
        "start_time": "2023-07-13T13:51:39.707Z"
      },
      {
        "duration": 280,
        "start_time": "2023-07-13T13:51:40.111Z"
      },
      {
        "duration": 295,
        "start_time": "2023-07-13T13:51:40.393Z"
      },
      {
        "duration": 337,
        "start_time": "2023-07-13T13:51:40.690Z"
      },
      {
        "duration": 262,
        "start_time": "2023-07-13T13:51:41.029Z"
      },
      {
        "duration": 248,
        "start_time": "2023-07-13T13:51:41.293Z"
      },
      {
        "duration": 238,
        "start_time": "2023-07-13T13:51:41.543Z"
      },
      {
        "duration": 174,
        "start_time": "2023-07-13T13:51:41.783Z"
      },
      {
        "duration": 265,
        "start_time": "2023-07-13T13:51:41.961Z"
      },
      {
        "duration": 294,
        "start_time": "2023-07-13T13:51:42.228Z"
      },
      {
        "duration": 361,
        "start_time": "2023-07-13T13:51:42.524Z"
      },
      {
        "duration": 255,
        "start_time": "2023-07-13T13:51:42.890Z"
      },
      {
        "duration": 204,
        "start_time": "2023-07-13T13:51:43.147Z"
      },
      {
        "duration": 168,
        "start_time": "2023-07-13T13:51:43.356Z"
      },
      {
        "duration": 378,
        "start_time": "2023-07-13T13:51:43.527Z"
      },
      {
        "duration": 222,
        "start_time": "2023-07-13T13:51:43.907Z"
      },
      {
        "duration": 6,
        "start_time": "2023-07-13T13:51:44.131Z"
      },
      {
        "duration": 13,
        "start_time": "2023-07-13T13:51:44.159Z"
      },
      {
        "duration": 188,
        "start_time": "2023-07-13T13:51:44.174Z"
      },
      {
        "duration": 178,
        "start_time": "2023-07-13T13:51:44.369Z"
      },
      {
        "duration": 1866,
        "start_time": "2023-07-13T13:51:44.559Z"
      },
      {
        "duration": 0,
        "start_time": "2023-07-13T13:51:46.427Z"
      },
      {
        "duration": 0,
        "start_time": "2023-07-13T13:51:46.428Z"
      },
      {
        "duration": 0,
        "start_time": "2023-07-13T13:51:46.430Z"
      },
      {
        "duration": 0,
        "start_time": "2023-07-13T13:51:46.431Z"
      },
      {
        "duration": 0,
        "start_time": "2023-07-13T13:51:46.432Z"
      },
      {
        "duration": 320,
        "start_time": "2023-07-13T13:52:23.573Z"
      },
      {
        "duration": 170,
        "start_time": "2023-07-13T13:52:30.575Z"
      },
      {
        "duration": 220,
        "start_time": "2023-07-13T13:52:34.514Z"
      },
      {
        "duration": 229,
        "start_time": "2023-07-13T13:52:43.402Z"
      },
      {
        "duration": 221,
        "start_time": "2023-07-13T13:53:00.714Z"
      },
      {
        "duration": 214,
        "start_time": "2023-07-13T13:53:12.418Z"
      },
      {
        "duration": 229,
        "start_time": "2023-07-13T13:53:28.111Z"
      },
      {
        "duration": 264,
        "start_time": "2023-07-13T13:53:38.526Z"
      },
      {
        "duration": 222,
        "start_time": "2023-07-13T13:53:47.336Z"
      },
      {
        "duration": 356,
        "start_time": "2023-07-13T13:54:13.053Z"
      },
      {
        "duration": 578,
        "start_time": "2023-07-13T13:55:02.014Z"
      },
      {
        "duration": 370,
        "start_time": "2023-07-13T13:55:15.532Z"
      },
      {
        "duration": 363,
        "start_time": "2023-07-13T13:55:20.227Z"
      },
      {
        "duration": 374,
        "start_time": "2023-07-13T13:56:57.770Z"
      },
      {
        "duration": 5,
        "start_time": "2023-07-13T13:57:32.826Z"
      },
      {
        "duration": 211,
        "start_time": "2023-07-13T13:57:46.059Z"
      },
      {
        "duration": 177,
        "start_time": "2023-07-13T13:59:31.812Z"
      },
      {
        "duration": 249,
        "start_time": "2023-07-13T13:59:38.313Z"
      },
      {
        "duration": 189,
        "start_time": "2023-07-13T14:00:13.539Z"
      },
      {
        "duration": 383,
        "start_time": "2023-07-13T14:00:26.195Z"
      },
      {
        "duration": 200,
        "start_time": "2023-07-13T14:01:07.904Z"
      },
      {
        "duration": 272,
        "start_time": "2023-07-13T14:01:34.609Z"
      },
      {
        "duration": 214,
        "start_time": "2023-07-13T14:06:56.407Z"
      },
      {
        "duration": 319,
        "start_time": "2023-07-13T14:07:47.020Z"
      },
      {
        "duration": 226,
        "start_time": "2023-07-13T14:17:43.860Z"
      },
      {
        "duration": 277,
        "start_time": "2023-07-13T14:19:17.723Z"
      },
      {
        "duration": 198,
        "start_time": "2023-07-13T14:19:22.851Z"
      },
      {
        "duration": 759,
        "start_time": "2023-07-13T14:19:54.937Z"
      },
      {
        "duration": 102,
        "start_time": "2023-07-13T14:19:55.698Z"
      },
      {
        "duration": 67,
        "start_time": "2023-07-13T14:19:55.802Z"
      },
      {
        "duration": 23,
        "start_time": "2023-07-13T14:19:55.872Z"
      },
      {
        "duration": 2349,
        "start_time": "2023-07-13T14:19:55.898Z"
      },
      {
        "duration": 113,
        "start_time": "2023-07-13T14:19:58.250Z"
      },
      {
        "duration": 15,
        "start_time": "2023-07-13T14:19:58.365Z"
      },
      {
        "duration": 29,
        "start_time": "2023-07-13T14:19:58.383Z"
      },
      {
        "duration": 23,
        "start_time": "2023-07-13T14:19:58.415Z"
      },
      {
        "duration": 22,
        "start_time": "2023-07-13T14:19:58.440Z"
      },
      {
        "duration": 29,
        "start_time": "2023-07-13T14:19:58.465Z"
      },
      {
        "duration": 28,
        "start_time": "2023-07-13T14:19:58.498Z"
      },
      {
        "duration": 27,
        "start_time": "2023-07-13T14:19:58.528Z"
      },
      {
        "duration": 15,
        "start_time": "2023-07-13T14:19:58.560Z"
      },
      {
        "duration": 16,
        "start_time": "2023-07-13T14:19:58.578Z"
      },
      {
        "duration": 43,
        "start_time": "2023-07-13T14:19:58.597Z"
      },
      {
        "duration": 18,
        "start_time": "2023-07-13T14:19:58.643Z"
      },
      {
        "duration": 17,
        "start_time": "2023-07-13T14:19:58.663Z"
      },
      {
        "duration": 23,
        "start_time": "2023-07-13T14:19:58.682Z"
      },
      {
        "duration": 501,
        "start_time": "2023-07-13T14:19:58.708Z"
      },
      {
        "duration": 15,
        "start_time": "2023-07-13T14:19:59.212Z"
      },
      {
        "duration": 24,
        "start_time": "2023-07-13T14:19:59.229Z"
      },
      {
        "duration": 29,
        "start_time": "2023-07-13T14:19:59.256Z"
      },
      {
        "duration": 19,
        "start_time": "2023-07-13T14:19:59.287Z"
      },
      {
        "duration": 7,
        "start_time": "2023-07-13T14:19:59.308Z"
      },
      {
        "duration": 20,
        "start_time": "2023-07-13T14:19:59.317Z"
      },
      {
        "duration": 421,
        "start_time": "2023-07-13T14:19:59.340Z"
      },
      {
        "duration": 29,
        "start_time": "2023-07-13T14:19:59.763Z"
      },
      {
        "duration": 121,
        "start_time": "2023-07-13T14:19:59.795Z"
      },
      {
        "duration": 267,
        "start_time": "2023-07-13T14:19:59.919Z"
      },
      {
        "duration": 282,
        "start_time": "2023-07-13T14:20:00.189Z"
      },
      {
        "duration": 355,
        "start_time": "2023-07-13T14:20:00.473Z"
      },
      {
        "duration": 406,
        "start_time": "2023-07-13T14:20:00.831Z"
      },
      {
        "duration": 239,
        "start_time": "2023-07-13T14:20:01.239Z"
      },
      {
        "duration": 249,
        "start_time": "2023-07-13T14:20:01.480Z"
      },
      {
        "duration": 242,
        "start_time": "2023-07-13T14:20:01.732Z"
      },
      {
        "duration": 207,
        "start_time": "2023-07-13T14:20:01.977Z"
      },
      {
        "duration": 330,
        "start_time": "2023-07-13T14:20:02.187Z"
      },
      {
        "duration": 298,
        "start_time": "2023-07-13T14:20:02.519Z"
      },
      {
        "duration": 402,
        "start_time": "2023-07-13T14:20:02.819Z"
      },
      {
        "duration": 276,
        "start_time": "2023-07-13T14:20:03.226Z"
      },
      {
        "duration": 199,
        "start_time": "2023-07-13T14:20:03.505Z"
      },
      {
        "duration": 197,
        "start_time": "2023-07-13T14:20:03.706Z"
      },
      {
        "duration": 359,
        "start_time": "2023-07-13T14:20:03.906Z"
      },
      {
        "duration": 205,
        "start_time": "2023-07-13T14:20:04.267Z"
      },
      {
        "duration": 6,
        "start_time": "2023-07-13T14:20:04.475Z"
      },
      {
        "duration": 9,
        "start_time": "2023-07-13T14:20:04.483Z"
      },
      {
        "duration": 206,
        "start_time": "2023-07-13T14:20:04.493Z"
      },
      {
        "duration": 194,
        "start_time": "2023-07-13T14:20:04.700Z"
      },
      {
        "duration": 2328,
        "start_time": "2023-07-13T14:20:04.896Z"
      },
      {
        "duration": 1,
        "start_time": "2023-07-13T14:20:07.226Z"
      },
      {
        "duration": 1,
        "start_time": "2023-07-13T14:20:07.228Z"
      },
      {
        "duration": 0,
        "start_time": "2023-07-13T14:20:07.231Z"
      },
      {
        "duration": 0,
        "start_time": "2023-07-13T14:20:07.232Z"
      },
      {
        "duration": 0,
        "start_time": "2023-07-13T14:20:07.234Z"
      },
      {
        "duration": 635,
        "start_time": "2023-07-13T14:20:23.515Z"
      },
      {
        "duration": 391,
        "start_time": "2023-07-13T14:20:29.154Z"
      },
      {
        "duration": 199,
        "start_time": "2023-07-13T14:21:22.859Z"
      },
      {
        "duration": 198,
        "start_time": "2023-07-13T14:21:30.108Z"
      },
      {
        "duration": 349,
        "start_time": "2023-07-13T14:22:08.111Z"
      },
      {
        "duration": 292,
        "start_time": "2023-07-13T14:22:12.212Z"
      },
      {
        "duration": 559,
        "start_time": "2023-07-13T14:24:20.860Z"
      },
      {
        "duration": 402,
        "start_time": "2023-07-13T14:24:33.412Z"
      },
      {
        "duration": 809,
        "start_time": "2023-07-14T07:50:17.525Z"
      },
      {
        "duration": 142,
        "start_time": "2023-07-14T07:50:18.337Z"
      },
      {
        "duration": 43,
        "start_time": "2023-07-14T07:50:18.481Z"
      },
      {
        "duration": 15,
        "start_time": "2023-07-14T07:50:18.526Z"
      },
      {
        "duration": 1995,
        "start_time": "2023-07-14T07:50:18.543Z"
      },
      {
        "duration": 74,
        "start_time": "2023-07-14T07:50:20.540Z"
      },
      {
        "duration": 8,
        "start_time": "2023-07-14T07:50:20.617Z"
      },
      {
        "duration": 21,
        "start_time": "2023-07-14T07:50:20.627Z"
      },
      {
        "duration": 29,
        "start_time": "2023-07-14T07:50:20.650Z"
      },
      {
        "duration": 47,
        "start_time": "2023-07-14T07:50:20.682Z"
      },
      {
        "duration": 22,
        "start_time": "2023-07-14T07:50:20.731Z"
      },
      {
        "duration": 29,
        "start_time": "2023-07-14T07:50:20.755Z"
      },
      {
        "duration": 22,
        "start_time": "2023-07-14T07:50:20.786Z"
      },
      {
        "duration": 8,
        "start_time": "2023-07-14T07:50:20.810Z"
      },
      {
        "duration": 16,
        "start_time": "2023-07-14T07:50:20.820Z"
      },
      {
        "duration": 26,
        "start_time": "2023-07-14T07:50:20.838Z"
      },
      {
        "duration": 16,
        "start_time": "2023-07-14T07:50:20.865Z"
      },
      {
        "duration": 12,
        "start_time": "2023-07-14T07:50:20.883Z"
      },
      {
        "duration": 32,
        "start_time": "2023-07-14T07:50:20.896Z"
      },
      {
        "duration": 384,
        "start_time": "2023-07-14T07:50:20.930Z"
      },
      {
        "duration": 9,
        "start_time": "2023-07-14T07:50:21.315Z"
      },
      {
        "duration": 10,
        "start_time": "2023-07-14T07:50:21.326Z"
      },
      {
        "duration": 25,
        "start_time": "2023-07-14T07:50:21.338Z"
      },
      {
        "duration": 18,
        "start_time": "2023-07-14T07:50:21.365Z"
      },
      {
        "duration": 6,
        "start_time": "2023-07-14T07:50:21.384Z"
      },
      {
        "duration": 18,
        "start_time": "2023-07-14T07:50:21.391Z"
      },
      {
        "duration": 342,
        "start_time": "2023-07-14T07:50:21.411Z"
      },
      {
        "duration": 24,
        "start_time": "2023-07-14T07:50:21.760Z"
      },
      {
        "duration": 100,
        "start_time": "2023-07-14T07:50:21.785Z"
      },
      {
        "duration": 231,
        "start_time": "2023-07-14T07:50:21.887Z"
      },
      {
        "duration": 200,
        "start_time": "2023-07-14T07:50:22.120Z"
      },
      {
        "duration": 266,
        "start_time": "2023-07-14T07:50:22.321Z"
      },
      {
        "duration": 288,
        "start_time": "2023-07-14T07:50:22.589Z"
      },
      {
        "duration": 162,
        "start_time": "2023-07-14T07:50:22.878Z"
      },
      {
        "duration": 201,
        "start_time": "2023-07-14T07:50:23.042Z"
      },
      {
        "duration": 205,
        "start_time": "2023-07-14T07:50:23.245Z"
      },
      {
        "duration": 135,
        "start_time": "2023-07-14T07:50:23.459Z"
      },
      {
        "duration": 234,
        "start_time": "2023-07-14T07:50:23.596Z"
      },
      {
        "duration": 273,
        "start_time": "2023-07-14T07:50:23.832Z"
      },
      {
        "duration": 412,
        "start_time": "2023-07-14T07:50:24.107Z"
      },
      {
        "duration": 221,
        "start_time": "2023-07-14T07:50:24.521Z"
      },
      {
        "duration": 141,
        "start_time": "2023-07-14T07:50:24.744Z"
      },
      {
        "duration": 166,
        "start_time": "2023-07-14T07:50:24.887Z"
      },
      {
        "duration": 319,
        "start_time": "2023-07-14T07:50:25.054Z"
      },
      {
        "duration": 156,
        "start_time": "2023-07-14T07:50:25.375Z"
      },
      {
        "duration": 4,
        "start_time": "2023-07-14T07:50:25.533Z"
      },
      {
        "duration": 14,
        "start_time": "2023-07-14T07:50:25.539Z"
      },
      {
        "duration": 153,
        "start_time": "2023-07-14T07:50:25.560Z"
      },
      {
        "duration": 165,
        "start_time": "2023-07-14T07:50:25.715Z"
      },
      {
        "duration": 1282,
        "start_time": "2023-07-14T07:50:25.882Z"
      },
      {
        "duration": 0,
        "start_time": "2023-07-14T07:50:27.165Z"
      },
      {
        "duration": 0,
        "start_time": "2023-07-14T07:50:27.167Z"
      },
      {
        "duration": 0,
        "start_time": "2023-07-14T07:50:27.168Z"
      },
      {
        "duration": 0,
        "start_time": "2023-07-14T07:50:27.169Z"
      },
      {
        "duration": 0,
        "start_time": "2023-07-14T07:50:27.170Z"
      },
      {
        "duration": 32,
        "start_time": "2023-07-14T07:50:53.207Z"
      },
      {
        "duration": 33,
        "start_time": "2023-07-14T07:52:15.867Z"
      },
      {
        "duration": 98,
        "start_time": "2023-07-14T07:52:26.677Z"
      },
      {
        "duration": 5,
        "start_time": "2023-07-14T07:52:31.408Z"
      },
      {
        "duration": 637,
        "start_time": "2023-07-14T07:53:03.221Z"
      },
      {
        "duration": 96,
        "start_time": "2023-07-14T07:53:03.860Z"
      },
      {
        "duration": 44,
        "start_time": "2023-07-14T07:53:03.959Z"
      },
      {
        "duration": 17,
        "start_time": "2023-07-14T07:53:04.006Z"
      },
      {
        "duration": 2139,
        "start_time": "2023-07-14T07:53:04.026Z"
      },
      {
        "duration": 78,
        "start_time": "2023-07-14T07:53:06.167Z"
      },
      {
        "duration": 19,
        "start_time": "2023-07-14T07:53:06.246Z"
      },
      {
        "duration": 7,
        "start_time": "2023-07-14T07:53:06.267Z"
      },
      {
        "duration": 8,
        "start_time": "2023-07-14T07:53:06.276Z"
      },
      {
        "duration": 15,
        "start_time": "2023-07-14T07:53:06.287Z"
      },
      {
        "duration": 30,
        "start_time": "2023-07-14T07:53:06.304Z"
      },
      {
        "duration": 33,
        "start_time": "2023-07-14T07:53:06.336Z"
      },
      {
        "duration": 13,
        "start_time": "2023-07-14T07:53:06.371Z"
      },
      {
        "duration": 16,
        "start_time": "2023-07-14T07:53:06.386Z"
      },
      {
        "duration": 4,
        "start_time": "2023-07-14T07:53:06.405Z"
      },
      {
        "duration": 25,
        "start_time": "2023-07-14T07:53:06.411Z"
      },
      {
        "duration": 23,
        "start_time": "2023-07-14T07:53:06.437Z"
      },
      {
        "duration": 8,
        "start_time": "2023-07-14T07:53:06.461Z"
      },
      {
        "duration": 19,
        "start_time": "2023-07-14T07:53:06.470Z"
      },
      {
        "duration": 16,
        "start_time": "2023-07-14T07:53:06.491Z"
      },
      {
        "duration": 14,
        "start_time": "2023-07-14T07:53:06.509Z"
      },
      {
        "duration": 10,
        "start_time": "2023-07-14T07:53:06.525Z"
      },
      {
        "duration": 8,
        "start_time": "2023-07-14T07:53:06.537Z"
      },
      {
        "duration": 18,
        "start_time": "2023-07-14T07:53:06.547Z"
      },
      {
        "duration": 6,
        "start_time": "2023-07-14T07:53:06.567Z"
      },
      {
        "duration": 19,
        "start_time": "2023-07-14T07:53:06.574Z"
      },
      {
        "duration": 365,
        "start_time": "2023-07-14T07:53:06.595Z"
      },
      {
        "duration": 24,
        "start_time": "2023-07-14T07:53:06.964Z"
      },
      {
        "duration": 103,
        "start_time": "2023-07-14T07:53:06.990Z"
      },
      {
        "duration": 216,
        "start_time": "2023-07-14T07:53:07.094Z"
      },
      {
        "duration": 213,
        "start_time": "2023-07-14T07:53:07.312Z"
      },
      {
        "duration": 269,
        "start_time": "2023-07-14T07:53:07.526Z"
      },
      {
        "duration": 319,
        "start_time": "2023-07-14T07:53:07.797Z"
      },
      {
        "duration": 166,
        "start_time": "2023-07-14T07:53:08.118Z"
      },
      {
        "duration": 192,
        "start_time": "2023-07-14T07:53:08.286Z"
      },
      {
        "duration": 203,
        "start_time": "2023-07-14T07:53:08.480Z"
      },
      {
        "duration": 141,
        "start_time": "2023-07-14T07:53:08.685Z"
      },
      {
        "duration": 247,
        "start_time": "2023-07-14T07:53:08.827Z"
      },
      {
        "duration": 270,
        "start_time": "2023-07-14T07:53:09.076Z"
      },
      {
        "duration": 399,
        "start_time": "2023-07-14T07:53:09.347Z"
      },
      {
        "duration": 236,
        "start_time": "2023-07-14T07:53:09.748Z"
      },
      {
        "duration": 172,
        "start_time": "2023-07-14T07:53:09.985Z"
      },
      {
        "duration": 167,
        "start_time": "2023-07-14T07:53:10.159Z"
      },
      {
        "duration": 305,
        "start_time": "2023-07-14T07:53:10.328Z"
      },
      {
        "duration": 152,
        "start_time": "2023-07-14T07:53:10.635Z"
      },
      {
        "duration": 5,
        "start_time": "2023-07-14T07:53:10.789Z"
      },
      {
        "duration": 6,
        "start_time": "2023-07-14T07:53:10.795Z"
      },
      {
        "duration": 159,
        "start_time": "2023-07-14T07:53:10.803Z"
      },
      {
        "duration": 172,
        "start_time": "2023-07-14T07:53:10.964Z"
      },
      {
        "duration": 1207,
        "start_time": "2023-07-14T07:53:11.137Z"
      },
      {
        "duration": 0,
        "start_time": "2023-07-14T07:53:12.346Z"
      },
      {
        "duration": 0,
        "start_time": "2023-07-14T07:53:12.347Z"
      },
      {
        "duration": 0,
        "start_time": "2023-07-14T07:53:12.347Z"
      },
      {
        "duration": 0,
        "start_time": "2023-07-14T07:53:12.359Z"
      },
      {
        "duration": 0,
        "start_time": "2023-07-14T07:53:12.360Z"
      },
      {
        "duration": 32,
        "start_time": "2023-07-14T07:53:54.696Z"
      },
      {
        "duration": 620,
        "start_time": "2023-07-14T07:54:17.672Z"
      },
      {
        "duration": 92,
        "start_time": "2023-07-14T07:54:18.294Z"
      },
      {
        "duration": 42,
        "start_time": "2023-07-14T07:54:18.388Z"
      },
      {
        "duration": 32,
        "start_time": "2023-07-14T07:54:18.433Z"
      },
      {
        "duration": 2028,
        "start_time": "2023-07-14T07:54:18.467Z"
      },
      {
        "duration": 77,
        "start_time": "2023-07-14T07:54:20.497Z"
      },
      {
        "duration": 11,
        "start_time": "2023-07-14T07:54:20.575Z"
      },
      {
        "duration": 59,
        "start_time": "2023-07-14T07:54:20.588Z"
      },
      {
        "duration": 27,
        "start_time": "2023-07-14T07:54:20.650Z"
      },
      {
        "duration": 56,
        "start_time": "2023-07-14T07:54:20.680Z"
      },
      {
        "duration": 25,
        "start_time": "2023-07-14T07:54:20.738Z"
      },
      {
        "duration": 15,
        "start_time": "2023-07-14T07:54:20.764Z"
      },
      {
        "duration": 11,
        "start_time": "2023-07-14T07:54:20.781Z"
      },
      {
        "duration": 17,
        "start_time": "2023-07-14T07:54:20.794Z"
      },
      {
        "duration": 24,
        "start_time": "2023-07-14T07:54:20.812Z"
      },
      {
        "duration": 33,
        "start_time": "2023-07-14T07:54:20.837Z"
      },
      {
        "duration": 12,
        "start_time": "2023-07-14T07:54:20.872Z"
      },
      {
        "duration": 30,
        "start_time": "2023-07-14T07:54:20.886Z"
      },
      {
        "duration": 12,
        "start_time": "2023-07-14T07:54:20.918Z"
      },
      {
        "duration": 303,
        "start_time": "2023-07-14T07:54:20.932Z"
      },
      {
        "duration": 25,
        "start_time": "2023-07-14T07:54:21.236Z"
      },
      {
        "duration": 14,
        "start_time": "2023-07-14T07:54:21.263Z"
      },
      {
        "duration": 18,
        "start_time": "2023-07-14T07:54:21.279Z"
      },
      {
        "duration": 14,
        "start_time": "2023-07-14T07:54:21.299Z"
      },
      {
        "duration": 6,
        "start_time": "2023-07-14T07:54:21.315Z"
      },
      {
        "duration": 8,
        "start_time": "2023-07-14T07:54:21.322Z"
      },
      {
        "duration": 353,
        "start_time": "2023-07-14T07:54:21.332Z"
      },
      {
        "duration": 28,
        "start_time": "2023-07-14T07:54:21.689Z"
      },
      {
        "duration": 114,
        "start_time": "2023-07-14T07:54:21.719Z"
      },
      {
        "duration": 241,
        "start_time": "2023-07-14T07:54:21.835Z"
      },
      {
        "duration": 213,
        "start_time": "2023-07-14T07:54:22.079Z"
      },
      {
        "duration": 288,
        "start_time": "2023-07-14T07:54:22.294Z"
      },
      {
        "duration": 309,
        "start_time": "2023-07-14T07:54:22.584Z"
      },
      {
        "duration": 175,
        "start_time": "2023-07-14T07:54:22.895Z"
      },
      {
        "duration": 201,
        "start_time": "2023-07-14T07:54:23.072Z"
      },
      {
        "duration": 203,
        "start_time": "2023-07-14T07:54:23.274Z"
      },
      {
        "duration": 139,
        "start_time": "2023-07-14T07:54:23.479Z"
      },
      {
        "duration": 256,
        "start_time": "2023-07-14T07:54:23.620Z"
      },
      {
        "duration": 277,
        "start_time": "2023-07-14T07:54:23.877Z"
      },
      {
        "duration": 362,
        "start_time": "2023-07-14T07:54:24.159Z"
      },
      {
        "duration": 233,
        "start_time": "2023-07-14T07:54:24.523Z"
      },
      {
        "duration": 159,
        "start_time": "2023-07-14T07:54:24.757Z"
      },
      {
        "duration": 166,
        "start_time": "2023-07-14T07:54:24.918Z"
      },
      {
        "duration": 322,
        "start_time": "2023-07-14T07:54:25.085Z"
      },
      {
        "duration": 162,
        "start_time": "2023-07-14T07:54:25.409Z"
      },
      {
        "duration": 5,
        "start_time": "2023-07-14T07:54:25.573Z"
      },
      {
        "duration": 6,
        "start_time": "2023-07-14T07:54:25.579Z"
      },
      {
        "duration": 174,
        "start_time": "2023-07-14T07:54:25.587Z"
      },
      {
        "duration": 178,
        "start_time": "2023-07-14T07:54:25.763Z"
      },
      {
        "duration": 1311,
        "start_time": "2023-07-14T07:54:25.943Z"
      },
      {
        "duration": 0,
        "start_time": "2023-07-14T07:54:27.258Z"
      },
      {
        "duration": 0,
        "start_time": "2023-07-14T07:54:27.259Z"
      },
      {
        "duration": 0,
        "start_time": "2023-07-14T07:54:27.260Z"
      },
      {
        "duration": 0,
        "start_time": "2023-07-14T07:54:27.261Z"
      },
      {
        "duration": 0,
        "start_time": "2023-07-14T07:54:27.263Z"
      },
      {
        "duration": 4,
        "start_time": "2023-07-14T07:54:46.743Z"
      },
      {
        "duration": 675,
        "start_time": "2023-07-14T07:54:56.538Z"
      },
      {
        "duration": 93,
        "start_time": "2023-07-14T07:54:57.215Z"
      },
      {
        "duration": 50,
        "start_time": "2023-07-14T07:54:57.312Z"
      },
      {
        "duration": 16,
        "start_time": "2023-07-14T07:54:57.363Z"
      },
      {
        "duration": 2101,
        "start_time": "2023-07-14T07:54:57.380Z"
      },
      {
        "duration": 78,
        "start_time": "2023-07-14T07:54:59.483Z"
      },
      {
        "duration": 9,
        "start_time": "2023-07-14T07:54:59.563Z"
      },
      {
        "duration": 8,
        "start_time": "2023-07-14T07:54:59.573Z"
      },
      {
        "duration": 6,
        "start_time": "2023-07-14T07:54:59.585Z"
      },
      {
        "duration": 11,
        "start_time": "2023-07-14T07:54:59.592Z"
      },
      {
        "duration": 9,
        "start_time": "2023-07-14T07:54:59.605Z"
      },
      {
        "duration": 55,
        "start_time": "2023-07-14T07:54:59.616Z"
      },
      {
        "duration": 12,
        "start_time": "2023-07-14T07:54:59.673Z"
      },
      {
        "duration": 8,
        "start_time": "2023-07-14T07:54:59.687Z"
      },
      {
        "duration": 15,
        "start_time": "2023-07-14T07:54:59.696Z"
      },
      {
        "duration": 12,
        "start_time": "2023-07-14T07:54:59.713Z"
      },
      {
        "duration": 14,
        "start_time": "2023-07-14T07:54:59.727Z"
      },
      {
        "duration": 21,
        "start_time": "2023-07-14T07:54:59.743Z"
      },
      {
        "duration": 13,
        "start_time": "2023-07-14T07:54:59.766Z"
      },
      {
        "duration": 9,
        "start_time": "2023-07-14T07:54:59.781Z"
      },
      {
        "duration": 37,
        "start_time": "2023-07-14T07:54:59.792Z"
      },
      {
        "duration": 5,
        "start_time": "2023-07-14T07:54:59.831Z"
      },
      {
        "duration": 6,
        "start_time": "2023-07-14T07:54:59.838Z"
      },
      {
        "duration": 9,
        "start_time": "2023-07-14T07:54:59.846Z"
      },
      {
        "duration": 12,
        "start_time": "2023-07-14T07:54:59.857Z"
      },
      {
        "duration": 10,
        "start_time": "2023-07-14T07:54:59.870Z"
      },
      {
        "duration": 369,
        "start_time": "2023-07-14T07:54:59.885Z"
      },
      {
        "duration": 26,
        "start_time": "2023-07-14T07:55:00.260Z"
      },
      {
        "duration": 138,
        "start_time": "2023-07-14T07:55:00.288Z"
      },
      {
        "duration": 226,
        "start_time": "2023-07-14T07:55:00.428Z"
      },
      {
        "duration": 195,
        "start_time": "2023-07-14T07:55:00.659Z"
      },
      {
        "duration": 294,
        "start_time": "2023-07-14T07:55:00.859Z"
      },
      {
        "duration": 308,
        "start_time": "2023-07-14T07:55:01.158Z"
      },
      {
        "duration": 185,
        "start_time": "2023-07-14T07:55:01.468Z"
      },
      {
        "duration": 205,
        "start_time": "2023-07-14T07:55:01.654Z"
      },
      {
        "duration": 217,
        "start_time": "2023-07-14T07:55:01.861Z"
      },
      {
        "duration": 153,
        "start_time": "2023-07-14T07:55:02.081Z"
      },
      {
        "duration": 263,
        "start_time": "2023-07-14T07:55:02.236Z"
      },
      {
        "duration": 248,
        "start_time": "2023-07-14T07:55:02.501Z"
      },
      {
        "duration": 374,
        "start_time": "2023-07-14T07:55:02.751Z"
      },
      {
        "duration": 213,
        "start_time": "2023-07-14T07:55:03.127Z"
      },
      {
        "duration": 147,
        "start_time": "2023-07-14T07:55:03.342Z"
      },
      {
        "duration": 175,
        "start_time": "2023-07-14T07:55:03.491Z"
      },
      {
        "duration": 324,
        "start_time": "2023-07-14T07:55:03.668Z"
      },
      {
        "duration": 207,
        "start_time": "2023-07-14T07:55:03.994Z"
      },
      {
        "duration": 7,
        "start_time": "2023-07-14T07:55:04.203Z"
      },
      {
        "duration": 33,
        "start_time": "2023-07-14T07:55:04.212Z"
      },
      {
        "duration": 176,
        "start_time": "2023-07-14T07:55:04.247Z"
      },
      {
        "duration": 176,
        "start_time": "2023-07-14T07:55:04.424Z"
      },
      {
        "duration": 1657,
        "start_time": "2023-07-14T07:55:04.602Z"
      },
      {
        "duration": 0,
        "start_time": "2023-07-14T07:55:06.261Z"
      },
      {
        "duration": 0,
        "start_time": "2023-07-14T07:55:06.262Z"
      },
      {
        "duration": 0,
        "start_time": "2023-07-14T07:55:06.263Z"
      },
      {
        "duration": 0,
        "start_time": "2023-07-14T07:55:06.264Z"
      },
      {
        "duration": 0,
        "start_time": "2023-07-14T07:55:06.265Z"
      },
      {
        "duration": 5,
        "start_time": "2023-07-14T07:55:09.895Z"
      },
      {
        "duration": 5,
        "start_time": "2023-07-14T07:55:16.274Z"
      },
      {
        "duration": 4,
        "start_time": "2023-07-14T07:55:25.207Z"
      },
      {
        "duration": 4,
        "start_time": "2023-07-14T07:55:28.543Z"
      },
      {
        "duration": 41,
        "start_time": "2023-07-14T07:55:46.663Z"
      },
      {
        "duration": 38,
        "start_time": "2023-07-14T07:55:51.706Z"
      },
      {
        "duration": 30,
        "start_time": "2023-07-14T07:55:59.589Z"
      },
      {
        "duration": 61,
        "start_time": "2023-07-14T07:56:24.077Z"
      },
      {
        "duration": 30,
        "start_time": "2023-07-14T07:56:44.629Z"
      },
      {
        "duration": 1167,
        "start_time": "2023-07-14T08:07:38.059Z"
      },
      {
        "duration": 1283,
        "start_time": "2023-07-14T08:08:44.656Z"
      },
      {
        "duration": 1104,
        "start_time": "2023-07-14T08:09:15.478Z"
      },
      {
        "duration": 1150,
        "start_time": "2023-07-14T08:09:32.519Z"
      },
      {
        "duration": 8,
        "start_time": "2023-07-14T08:09:46.792Z"
      },
      {
        "duration": 10,
        "start_time": "2023-07-14T08:10:13.634Z"
      },
      {
        "duration": 7,
        "start_time": "2023-07-14T08:10:27.896Z"
      },
      {
        "duration": 8,
        "start_time": "2023-07-14T08:10:38.689Z"
      },
      {
        "duration": 12,
        "start_time": "2023-07-14T08:10:57.243Z"
      },
      {
        "duration": 17,
        "start_time": "2023-07-14T08:11:15.106Z"
      },
      {
        "duration": 10,
        "start_time": "2023-07-14T08:12:58.976Z"
      },
      {
        "duration": 13,
        "start_time": "2023-07-14T08:13:11.610Z"
      },
      {
        "duration": 161,
        "start_time": "2023-07-14T08:13:15.664Z"
      },
      {
        "duration": 146,
        "start_time": "2023-07-14T08:18:20.792Z"
      },
      {
        "duration": 140,
        "start_time": "2023-07-14T08:18:57.994Z"
      },
      {
        "duration": 190,
        "start_time": "2023-07-14T08:19:18.840Z"
      },
      {
        "duration": 191,
        "start_time": "2023-07-14T08:22:25.414Z"
      },
      {
        "duration": 14,
        "start_time": "2023-07-14T08:23:47.529Z"
      },
      {
        "duration": 179,
        "start_time": "2023-07-14T08:23:57.668Z"
      },
      {
        "duration": 258,
        "start_time": "2023-07-14T08:24:12.735Z"
      },
      {
        "duration": 142,
        "start_time": "2023-07-14T08:25:42.881Z"
      },
      {
        "duration": 689,
        "start_time": "2023-07-14T08:25:49.584Z"
      },
      {
        "duration": 94,
        "start_time": "2023-07-14T08:25:50.276Z"
      },
      {
        "duration": 45,
        "start_time": "2023-07-14T08:25:50.372Z"
      },
      {
        "duration": 16,
        "start_time": "2023-07-14T08:25:50.420Z"
      },
      {
        "duration": 1966,
        "start_time": "2023-07-14T08:25:50.459Z"
      },
      {
        "duration": 82,
        "start_time": "2023-07-14T08:25:52.426Z"
      },
      {
        "duration": 10,
        "start_time": "2023-07-14T08:25:52.509Z"
      },
      {
        "duration": 6,
        "start_time": "2023-07-14T08:25:52.521Z"
      },
      {
        "duration": 11,
        "start_time": "2023-07-14T08:25:52.529Z"
      },
      {
        "duration": 27,
        "start_time": "2023-07-14T08:25:52.542Z"
      },
      {
        "duration": 13,
        "start_time": "2023-07-14T08:25:52.571Z"
      },
      {
        "duration": 26,
        "start_time": "2023-07-14T08:25:52.586Z"
      },
      {
        "duration": 11,
        "start_time": "2023-07-14T08:25:52.614Z"
      },
      {
        "duration": 5,
        "start_time": "2023-07-14T08:25:52.626Z"
      },
      {
        "duration": 20,
        "start_time": "2023-07-14T08:25:52.632Z"
      },
      {
        "duration": 10,
        "start_time": "2023-07-14T08:25:52.653Z"
      },
      {
        "duration": 6,
        "start_time": "2023-07-14T08:25:52.665Z"
      },
      {
        "duration": 23,
        "start_time": "2023-07-14T08:25:52.672Z"
      },
      {
        "duration": 19,
        "start_time": "2023-07-14T08:25:52.696Z"
      },
      {
        "duration": 289,
        "start_time": "2023-07-14T08:25:52.716Z"
      },
      {
        "duration": 17,
        "start_time": "2023-07-14T08:25:53.007Z"
      },
      {
        "duration": 6,
        "start_time": "2023-07-14T08:25:53.026Z"
      },
      {
        "duration": 6,
        "start_time": "2023-07-14T08:25:53.034Z"
      },
      {
        "duration": 9,
        "start_time": "2023-07-14T08:25:53.041Z"
      },
      {
        "duration": 11,
        "start_time": "2023-07-14T08:25:53.052Z"
      },
      {
        "duration": 5,
        "start_time": "2023-07-14T08:25:53.065Z"
      },
      {
        "duration": 368,
        "start_time": "2023-07-14T08:25:53.071Z"
      },
      {
        "duration": 32,
        "start_time": "2023-07-14T08:25:53.443Z"
      },
      {
        "duration": 101,
        "start_time": "2023-07-14T08:25:53.477Z"
      },
      {
        "duration": 152,
        "start_time": "2023-07-14T08:25:53.579Z"
      },
      {
        "duration": 195,
        "start_time": "2023-07-14T08:25:53.733Z"
      },
      {
        "duration": 246,
        "start_time": "2023-07-14T08:25:53.930Z"
      },
      {
        "duration": 370,
        "start_time": "2023-07-14T08:25:54.178Z"
      },
      {
        "duration": 192,
        "start_time": "2023-07-14T08:25:54.549Z"
      },
      {
        "duration": 188,
        "start_time": "2023-07-14T08:25:54.743Z"
      },
      {
        "duration": 204,
        "start_time": "2023-07-14T08:25:54.933Z"
      },
      {
        "duration": 134,
        "start_time": "2023-07-14T08:25:55.138Z"
      },
      {
        "duration": 241,
        "start_time": "2023-07-14T08:25:55.274Z"
      },
      {
        "duration": 261,
        "start_time": "2023-07-14T08:25:55.517Z"
      },
      {
        "duration": 223,
        "start_time": "2023-07-14T08:25:55.780Z"
      },
      {
        "duration": 332,
        "start_time": "2023-07-14T08:25:56.005Z"
      },
      {
        "duration": 158,
        "start_time": "2023-07-14T08:25:56.339Z"
      },
      {
        "duration": 165,
        "start_time": "2023-07-14T08:25:56.499Z"
      },
      {
        "duration": 303,
        "start_time": "2023-07-14T08:25:56.666Z"
      },
      {
        "duration": 173,
        "start_time": "2023-07-14T08:25:56.971Z"
      },
      {
        "duration": 16,
        "start_time": "2023-07-14T08:25:57.146Z"
      },
      {
        "duration": 45,
        "start_time": "2023-07-14T08:25:57.163Z"
      },
      {
        "duration": 160,
        "start_time": "2023-07-14T08:25:57.210Z"
      },
      {
        "duration": 152,
        "start_time": "2023-07-14T08:25:57.372Z"
      },
      {
        "duration": 3688,
        "start_time": "2023-07-14T08:25:57.525Z"
      },
      {
        "duration": 0,
        "start_time": "2023-07-14T08:26:01.215Z"
      },
      {
        "duration": 0,
        "start_time": "2023-07-14T08:26:01.216Z"
      },
      {
        "duration": 0,
        "start_time": "2023-07-14T08:26:01.217Z"
      },
      {
        "duration": 0,
        "start_time": "2023-07-14T08:26:01.218Z"
      },
      {
        "duration": 0,
        "start_time": "2023-07-14T08:26:01.219Z"
      },
      {
        "duration": 163,
        "start_time": "2023-07-14T08:27:59.251Z"
      },
      {
        "duration": 162,
        "start_time": "2023-07-14T08:28:12.559Z"
      },
      {
        "duration": 180,
        "start_time": "2023-07-14T08:28:35.269Z"
      },
      {
        "duration": 8,
        "start_time": "2023-07-14T08:30:26.066Z"
      },
      {
        "duration": 11,
        "start_time": "2023-07-14T08:30:30.654Z"
      },
      {
        "duration": 142,
        "start_time": "2023-07-14T08:31:50.073Z"
      },
      {
        "duration": 265,
        "start_time": "2023-07-14T08:32:22.930Z"
      },
      {
        "duration": 6,
        "start_time": "2023-07-14T08:39:02.777Z"
      },
      {
        "duration": 8,
        "start_time": "2023-07-14T08:39:18.999Z"
      },
      {
        "duration": 8,
        "start_time": "2023-07-14T08:39:32.942Z"
      },
      {
        "duration": 49,
        "start_time": "2023-07-14T08:40:40.680Z"
      },
      {
        "duration": 10,
        "start_time": "2023-07-14T08:40:54.061Z"
      },
      {
        "duration": 10,
        "start_time": "2023-07-14T08:41:24.921Z"
      },
      {
        "duration": 21,
        "start_time": "2023-07-14T08:43:18.965Z"
      },
      {
        "duration": 150,
        "start_time": "2023-07-14T08:43:32.600Z"
      },
      {
        "duration": 140,
        "start_time": "2023-07-14T08:44:06.969Z"
      },
      {
        "duration": 206,
        "start_time": "2023-07-14T08:44:31.139Z"
      },
      {
        "duration": 188,
        "start_time": "2023-07-14T08:44:38.517Z"
      },
      {
        "duration": 306,
        "start_time": "2023-07-14T09:01:58.742Z"
      },
      {
        "duration": 136,
        "start_time": "2023-07-14T09:02:08.256Z"
      },
      {
        "duration": 22,
        "start_time": "2023-07-14T09:02:30.549Z"
      },
      {
        "duration": 154,
        "start_time": "2023-07-14T09:02:34.964Z"
      },
      {
        "duration": 1230,
        "start_time": "2023-07-14T09:03:36.266Z"
      },
      {
        "duration": 244,
        "start_time": "2023-07-14T09:03:40.349Z"
      },
      {
        "duration": 1018,
        "start_time": "2023-07-14T09:04:48.748Z"
      },
      {
        "duration": 75,
        "start_time": "2023-07-14T09:04:51.436Z"
      },
      {
        "duration": 9,
        "start_time": "2023-07-14T09:04:53.419Z"
      },
      {
        "duration": 182,
        "start_time": "2023-07-14T09:06:39.616Z"
      },
      {
        "duration": 332,
        "start_time": "2023-07-14T09:09:09.014Z"
      },
      {
        "duration": 11,
        "start_time": "2023-07-14T09:09:16.874Z"
      },
      {
        "duration": 149,
        "start_time": "2023-07-14T09:11:11.474Z"
      },
      {
        "duration": 11,
        "start_time": "2023-07-14T09:18:38.556Z"
      },
      {
        "duration": 11,
        "start_time": "2023-07-14T09:18:43.541Z"
      },
      {
        "duration": 175,
        "start_time": "2023-07-14T09:19:38.779Z"
      },
      {
        "duration": 202,
        "start_time": "2023-07-14T09:19:57.652Z"
      },
      {
        "duration": 384,
        "start_time": "2023-07-14T09:20:21.405Z"
      },
      {
        "duration": 164,
        "start_time": "2023-07-14T09:20:36.486Z"
      },
      {
        "duration": 232,
        "start_time": "2023-07-14T09:20:47.196Z"
      },
      {
        "duration": 317,
        "start_time": "2023-07-14T09:20:53.014Z"
      },
      {
        "duration": 216,
        "start_time": "2023-07-14T09:20:59.149Z"
      },
      {
        "duration": 1288,
        "start_time": "2023-07-14T09:21:37.980Z"
      },
      {
        "duration": 510,
        "start_time": "2023-07-14T09:21:44.053Z"
      },
      {
        "duration": 236,
        "start_time": "2023-07-14T09:22:03.155Z"
      },
      {
        "duration": 248,
        "start_time": "2023-07-14T09:22:05.895Z"
      },
      {
        "duration": 351,
        "start_time": "2023-07-14T09:22:45.313Z"
      },
      {
        "duration": 344,
        "start_time": "2023-07-14T09:23:15.017Z"
      },
      {
        "duration": 351,
        "start_time": "2023-07-14T09:23:31.523Z"
      },
      {
        "duration": 316,
        "start_time": "2023-07-14T09:53:49.494Z"
      },
      {
        "duration": 325,
        "start_time": "2023-07-14T09:54:01.870Z"
      },
      {
        "duration": 510,
        "start_time": "2023-07-14T09:54:46.049Z"
      },
      {
        "duration": 306,
        "start_time": "2023-07-14T09:55:05.633Z"
      },
      {
        "duration": 302,
        "start_time": "2023-07-14T09:55:18.105Z"
      },
      {
        "duration": 291,
        "start_time": "2023-07-14T09:55:44.789Z"
      },
      {
        "duration": 298,
        "start_time": "2023-07-14T09:55:52.400Z"
      },
      {
        "duration": 301,
        "start_time": "2023-07-14T09:55:56.820Z"
      },
      {
        "duration": 291,
        "start_time": "2023-07-14T09:56:21.398Z"
      },
      {
        "duration": 557,
        "start_time": "2023-07-14T09:57:15.722Z"
      },
      {
        "duration": 328,
        "start_time": "2023-07-14T09:57:23.001Z"
      },
      {
        "duration": 320,
        "start_time": "2023-07-14T09:57:52.968Z"
      },
      {
        "duration": 497,
        "start_time": "2023-07-14T09:59:14.358Z"
      },
      {
        "duration": 187,
        "start_time": "2023-07-14T09:59:41.888Z"
      },
      {
        "duration": 182,
        "start_time": "2023-07-14T10:00:23.614Z"
      },
      {
        "duration": 188,
        "start_time": "2023-07-14T10:01:18.640Z"
      },
      {
        "duration": 183,
        "start_time": "2023-07-14T10:01:42.489Z"
      },
      {
        "duration": 192,
        "start_time": "2023-07-14T10:02:01.976Z"
      },
      {
        "duration": 191,
        "start_time": "2023-07-14T10:02:08.670Z"
      },
      {
        "duration": 412,
        "start_time": "2023-07-14T10:02:25.732Z"
      },
      {
        "duration": 185,
        "start_time": "2023-07-14T10:02:29.608Z"
      },
      {
        "duration": 179,
        "start_time": "2023-07-14T10:03:33.192Z"
      },
      {
        "duration": 218,
        "start_time": "2023-07-14T10:03:39.173Z"
      },
      {
        "duration": 189,
        "start_time": "2023-07-14T10:03:59.608Z"
      },
      {
        "duration": 10,
        "start_time": "2023-07-14T10:05:04.130Z"
      },
      {
        "duration": 62,
        "start_time": "2023-07-14T10:06:08.267Z"
      },
      {
        "duration": 77,
        "start_time": "2023-07-14T10:06:15.290Z"
      },
      {
        "duration": 191,
        "start_time": "2023-07-14T10:06:19.832Z"
      },
      {
        "duration": 8,
        "start_time": "2023-07-14T10:17:42.098Z"
      },
      {
        "duration": 8,
        "start_time": "2023-07-14T10:18:03.729Z"
      },
      {
        "duration": 147,
        "start_time": "2023-07-14T10:18:19.283Z"
      },
      {
        "duration": 11,
        "start_time": "2023-07-14T10:18:43.441Z"
      },
      {
        "duration": 12,
        "start_time": "2023-07-14T10:19:38.837Z"
      },
      {
        "duration": 2,
        "start_time": "2023-07-14T10:22:41.795Z"
      },
      {
        "duration": 819,
        "start_time": "2023-07-14T15:01:54.991Z"
      },
      {
        "duration": 162,
        "start_time": "2023-07-14T15:01:55.813Z"
      },
      {
        "duration": 42,
        "start_time": "2023-07-14T15:01:55.977Z"
      },
      {
        "duration": 21,
        "start_time": "2023-07-14T15:01:56.021Z"
      },
      {
        "duration": 2047,
        "start_time": "2023-07-14T15:01:56.045Z"
      },
      {
        "duration": 78,
        "start_time": "2023-07-14T15:01:58.094Z"
      },
      {
        "duration": 9,
        "start_time": "2023-07-14T15:01:58.173Z"
      },
      {
        "duration": 15,
        "start_time": "2023-07-14T15:01:58.183Z"
      },
      {
        "duration": 6,
        "start_time": "2023-07-14T15:01:58.200Z"
      },
      {
        "duration": 11,
        "start_time": "2023-07-14T15:01:58.208Z"
      },
      {
        "duration": 9,
        "start_time": "2023-07-14T15:01:58.221Z"
      },
      {
        "duration": 15,
        "start_time": "2023-07-14T15:01:58.258Z"
      },
      {
        "duration": 11,
        "start_time": "2023-07-14T15:01:58.275Z"
      },
      {
        "duration": 6,
        "start_time": "2023-07-14T15:01:58.289Z"
      },
      {
        "duration": 7,
        "start_time": "2023-07-14T15:01:58.296Z"
      },
      {
        "duration": 11,
        "start_time": "2023-07-14T15:01:58.305Z"
      },
      {
        "duration": 7,
        "start_time": "2023-07-14T15:01:58.318Z"
      },
      {
        "duration": 38,
        "start_time": "2023-07-14T15:01:58.326Z"
      },
      {
        "duration": 10,
        "start_time": "2023-07-14T15:01:58.366Z"
      },
      {
        "duration": 296,
        "start_time": "2023-07-14T15:01:58.378Z"
      },
      {
        "duration": 19,
        "start_time": "2023-07-14T15:01:58.675Z"
      },
      {
        "duration": 3,
        "start_time": "2023-07-14T15:01:58.696Z"
      },
      {
        "duration": 6,
        "start_time": "2023-07-14T15:01:58.701Z"
      },
      {
        "duration": 12,
        "start_time": "2023-07-14T15:01:58.709Z"
      },
      {
        "duration": 5,
        "start_time": "2023-07-14T15:01:58.723Z"
      },
      {
        "duration": 5,
        "start_time": "2023-07-14T15:01:58.730Z"
      },
      {
        "duration": 361,
        "start_time": "2023-07-14T15:01:58.737Z"
      },
      {
        "duration": 26,
        "start_time": "2023-07-14T15:01:59.099Z"
      },
      {
        "duration": 106,
        "start_time": "2023-07-14T15:01:59.127Z"
      },
      {
        "duration": 147,
        "start_time": "2023-07-14T15:01:59.234Z"
      },
      {
        "duration": 187,
        "start_time": "2023-07-14T15:01:59.383Z"
      },
      {
        "duration": 205,
        "start_time": "2023-07-14T15:01:59.572Z"
      },
      {
        "duration": 343,
        "start_time": "2023-07-14T15:01:59.779Z"
      },
      {
        "duration": 157,
        "start_time": "2023-07-14T15:02:00.123Z"
      },
      {
        "duration": 163,
        "start_time": "2023-07-14T15:02:00.282Z"
      },
      {
        "duration": 172,
        "start_time": "2023-07-14T15:02:00.446Z"
      },
      {
        "duration": 195,
        "start_time": "2023-07-14T15:02:00.619Z"
      },
      {
        "duration": 194,
        "start_time": "2023-07-14T15:02:00.816Z"
      },
      {
        "duration": 158,
        "start_time": "2023-07-14T15:02:01.012Z"
      },
      {
        "duration": 299,
        "start_time": "2023-07-14T15:02:01.171Z"
      },
      {
        "duration": 229,
        "start_time": "2023-07-14T15:02:01.477Z"
      },
      {
        "duration": 172,
        "start_time": "2023-07-14T15:02:01.708Z"
      },
      {
        "duration": 281,
        "start_time": "2023-07-14T15:02:01.882Z"
      },
      {
        "duration": 214,
        "start_time": "2023-07-14T15:02:02.164Z"
      },
      {
        "duration": 3,
        "start_time": "2023-07-14T15:02:02.380Z"
      },
      {
        "duration": 48,
        "start_time": "2023-07-14T15:02:02.385Z"
      },
      {
        "duration": 37,
        "start_time": "2023-07-14T15:02:02.435Z"
      },
      {
        "duration": 177,
        "start_time": "2023-07-14T15:02:02.474Z"
      },
      {
        "duration": 156,
        "start_time": "2023-07-14T15:02:02.653Z"
      },
      {
        "duration": 267,
        "start_time": "2023-07-14T15:02:02.811Z"
      },
      {
        "duration": 269,
        "start_time": "2023-07-14T15:02:03.081Z"
      },
      {
        "duration": 149,
        "start_time": "2023-07-14T15:02:03.352Z"
      },
      {
        "duration": 249,
        "start_time": "2023-07-14T15:02:03.503Z"
      },
      {
        "duration": 1084,
        "start_time": "2023-07-14T15:02:03.758Z"
      },
      {
        "duration": 0,
        "start_time": "2023-07-14T15:02:04.844Z"
      },
      {
        "duration": 157,
        "start_time": "2023-07-14T15:03:36.599Z"
      },
      {
        "duration": 2,
        "start_time": "2023-07-14T15:04:43.167Z"
      },
      {
        "duration": 151,
        "start_time": "2023-07-14T15:06:20.162Z"
      },
      {
        "duration": 159,
        "start_time": "2023-07-14T15:06:32.279Z"
      },
      {
        "duration": 160,
        "start_time": "2023-07-14T15:07:01.953Z"
      },
      {
        "duration": 571,
        "start_time": "2023-07-14T15:07:50.217Z"
      },
      {
        "duration": 91,
        "start_time": "2023-07-14T15:07:50.790Z"
      },
      {
        "duration": 40,
        "start_time": "2023-07-14T15:07:50.883Z"
      },
      {
        "duration": 14,
        "start_time": "2023-07-14T15:07:50.925Z"
      },
      {
        "duration": 1987,
        "start_time": "2023-07-14T15:07:50.942Z"
      },
      {
        "duration": 74,
        "start_time": "2023-07-14T15:07:52.930Z"
      },
      {
        "duration": 8,
        "start_time": "2023-07-14T15:07:53.006Z"
      },
      {
        "duration": 19,
        "start_time": "2023-07-14T15:07:53.015Z"
      },
      {
        "duration": 9,
        "start_time": "2023-07-14T15:07:53.035Z"
      },
      {
        "duration": 32,
        "start_time": "2023-07-14T15:07:53.046Z"
      },
      {
        "duration": 9,
        "start_time": "2023-07-14T15:07:53.080Z"
      },
      {
        "duration": 22,
        "start_time": "2023-07-14T15:07:53.090Z"
      },
      {
        "duration": 14,
        "start_time": "2023-07-14T15:07:53.114Z"
      },
      {
        "duration": 5,
        "start_time": "2023-07-14T15:07:53.132Z"
      },
      {
        "duration": 4,
        "start_time": "2023-07-14T15:07:53.139Z"
      },
      {
        "duration": 9,
        "start_time": "2023-07-14T15:07:53.160Z"
      },
      {
        "duration": 8,
        "start_time": "2023-07-14T15:07:53.171Z"
      },
      {
        "duration": 11,
        "start_time": "2023-07-14T15:07:53.180Z"
      },
      {
        "duration": 6,
        "start_time": "2023-07-14T15:07:53.192Z"
      },
      {
        "duration": 303,
        "start_time": "2023-07-14T15:07:53.199Z"
      },
      {
        "duration": 10,
        "start_time": "2023-07-14T15:07:53.504Z"
      },
      {
        "duration": 5,
        "start_time": "2023-07-14T15:07:53.515Z"
      },
      {
        "duration": 5,
        "start_time": "2023-07-14T15:07:53.522Z"
      },
      {
        "duration": 9,
        "start_time": "2023-07-14T15:07:53.529Z"
      },
      {
        "duration": 19,
        "start_time": "2023-07-14T15:07:53.540Z"
      },
      {
        "duration": 5,
        "start_time": "2023-07-14T15:07:53.561Z"
      },
      {
        "duration": 355,
        "start_time": "2023-07-14T15:07:53.568Z"
      },
      {
        "duration": 36,
        "start_time": "2023-07-14T15:07:53.925Z"
      },
      {
        "duration": 102,
        "start_time": "2023-07-14T15:07:53.962Z"
      },
      {
        "duration": 167,
        "start_time": "2023-07-14T15:07:54.066Z"
      },
      {
        "duration": 228,
        "start_time": "2023-07-14T15:07:54.235Z"
      },
      {
        "duration": 201,
        "start_time": "2023-07-14T15:07:54.465Z"
      },
      {
        "duration": 332,
        "start_time": "2023-07-14T15:07:54.668Z"
      },
      {
        "duration": 148,
        "start_time": "2023-07-14T15:07:55.001Z"
      },
      {
        "duration": 149,
        "start_time": "2023-07-14T15:07:55.158Z"
      },
      {
        "duration": 166,
        "start_time": "2023-07-14T15:07:55.309Z"
      },
      {
        "duration": 135,
        "start_time": "2023-07-14T15:07:55.477Z"
      },
      {
        "duration": 183,
        "start_time": "2023-07-14T15:07:55.614Z"
      },
      {
        "duration": 160,
        "start_time": "2023-07-14T15:07:55.799Z"
      },
      {
        "duration": 215,
        "start_time": "2023-07-14T15:07:55.961Z"
      },
      {
        "duration": 219,
        "start_time": "2023-07-14T15:07:56.180Z"
      },
      {
        "duration": 145,
        "start_time": "2023-07-14T15:07:56.402Z"
      },
      {
        "duration": 263,
        "start_time": "2023-07-14T15:07:56.549Z"
      },
      {
        "duration": 204,
        "start_time": "2023-07-14T15:07:56.814Z"
      },
      {
        "duration": 2,
        "start_time": "2023-07-14T15:07:57.020Z"
      },
      {
        "duration": 10,
        "start_time": "2023-07-14T15:07:57.024Z"
      },
      {
        "duration": 13,
        "start_time": "2023-07-14T15:07:57.036Z"
      },
      {
        "duration": 157,
        "start_time": "2023-07-14T15:07:57.051Z"
      },
      {
        "duration": 154,
        "start_time": "2023-07-14T15:07:57.210Z"
      },
      {
        "duration": 255,
        "start_time": "2023-07-14T15:07:57.366Z"
      },
      {
        "duration": 257,
        "start_time": "2023-07-14T15:07:57.623Z"
      },
      {
        "duration": 142,
        "start_time": "2023-07-14T15:07:57.881Z"
      },
      {
        "duration": 254,
        "start_time": "2023-07-14T15:07:58.025Z"
      },
      {
        "duration": 1080,
        "start_time": "2023-07-14T15:07:58.281Z"
      },
      {
        "duration": 0,
        "start_time": "2023-07-14T15:07:59.363Z"
      },
      {
        "duration": 140,
        "start_time": "2023-07-14T15:09:28.150Z"
      },
      {
        "duration": 140,
        "start_time": "2023-07-14T15:09:36.924Z"
      },
      {
        "duration": 259,
        "start_time": "2023-07-14T15:09:40.929Z"
      },
      {
        "duration": 257,
        "start_time": "2023-07-14T15:09:44.029Z"
      },
      {
        "duration": 320,
        "start_time": "2023-07-14T15:09:47.013Z"
      },
      {
        "duration": 151,
        "start_time": "2023-07-14T15:09:50.370Z"
      },
      {
        "duration": 161,
        "start_time": "2023-07-14T15:10:10.120Z"
      },
      {
        "duration": 182,
        "start_time": "2023-07-14T15:10:26.989Z"
      },
      {
        "duration": 156,
        "start_time": "2023-07-14T15:10:38.491Z"
      },
      {
        "duration": 199,
        "start_time": "2023-07-14T15:10:50.170Z"
      },
      {
        "duration": 156,
        "start_time": "2023-07-14T15:11:27.691Z"
      },
      {
        "duration": 162,
        "start_time": "2023-07-14T15:13:29.088Z"
      },
      {
        "duration": 155,
        "start_time": "2023-07-14T15:14:07.907Z"
      },
      {
        "duration": 155,
        "start_time": "2023-07-14T15:14:39.953Z"
      },
      {
        "duration": 139,
        "start_time": "2023-07-14T15:15:06.124Z"
      },
      {
        "duration": 144,
        "start_time": "2023-07-14T15:15:40.422Z"
      },
      {
        "duration": 166,
        "start_time": "2023-07-14T15:15:46.480Z"
      },
      {
        "duration": 84,
        "start_time": "2023-07-16T10:46:09.219Z"
      },
      {
        "duration": 985,
        "start_time": "2023-07-16T10:46:17.649Z"
      },
      {
        "duration": 180,
        "start_time": "2023-07-16T10:46:18.637Z"
      },
      {
        "duration": 71,
        "start_time": "2023-07-16T10:46:18.819Z"
      },
      {
        "duration": 33,
        "start_time": "2023-07-16T10:46:18.893Z"
      },
      {
        "duration": 2460,
        "start_time": "2023-07-16T10:46:18.930Z"
      },
      {
        "duration": 120,
        "start_time": "2023-07-16T10:46:21.392Z"
      },
      {
        "duration": 12,
        "start_time": "2023-07-16T10:46:21.515Z"
      },
      {
        "duration": 57,
        "start_time": "2023-07-16T10:46:21.530Z"
      },
      {
        "duration": 35,
        "start_time": "2023-07-16T10:46:21.590Z"
      },
      {
        "duration": 21,
        "start_time": "2023-07-16T10:46:21.628Z"
      },
      {
        "duration": 10,
        "start_time": "2023-07-16T10:46:21.652Z"
      },
      {
        "duration": 30,
        "start_time": "2023-07-16T10:46:21.664Z"
      },
      {
        "duration": 20,
        "start_time": "2023-07-16T10:46:21.696Z"
      },
      {
        "duration": 10,
        "start_time": "2023-07-16T10:46:21.719Z"
      },
      {
        "duration": 55,
        "start_time": "2023-07-16T10:46:21.730Z"
      },
      {
        "duration": 16,
        "start_time": "2023-07-16T10:46:21.787Z"
      },
      {
        "duration": 18,
        "start_time": "2023-07-16T10:46:21.805Z"
      },
      {
        "duration": 31,
        "start_time": "2023-07-16T10:46:21.825Z"
      },
      {
        "duration": 32,
        "start_time": "2023-07-16T10:46:21.858Z"
      },
      {
        "duration": 332,
        "start_time": "2023-07-16T10:46:21.892Z"
      },
      {
        "duration": 11,
        "start_time": "2023-07-16T10:46:22.226Z"
      },
      {
        "duration": 7,
        "start_time": "2023-07-16T10:46:22.240Z"
      },
      {
        "duration": 27,
        "start_time": "2023-07-16T10:46:22.250Z"
      },
      {
        "duration": 11,
        "start_time": "2023-07-16T10:46:22.293Z"
      },
      {
        "duration": 171,
        "start_time": "2023-07-16T10:46:22.308Z"
      },
      {
        "duration": 7,
        "start_time": "2023-07-16T10:46:22.485Z"
      },
      {
        "duration": 484,
        "start_time": "2023-07-16T10:46:22.494Z"
      },
      {
        "duration": 45,
        "start_time": "2023-07-16T10:46:22.980Z"
      },
      {
        "duration": 168,
        "start_time": "2023-07-16T10:46:23.027Z"
      },
      {
        "duration": 248,
        "start_time": "2023-07-16T10:46:23.197Z"
      },
      {
        "duration": 241,
        "start_time": "2023-07-16T10:46:23.447Z"
      },
      {
        "duration": 310,
        "start_time": "2023-07-16T10:46:23.693Z"
      },
      {
        "duration": 492,
        "start_time": "2023-07-16T10:46:24.005Z"
      },
      {
        "duration": 183,
        "start_time": "2023-07-16T10:46:24.508Z"
      },
      {
        "duration": 246,
        "start_time": "2023-07-16T10:46:24.693Z"
      },
      {
        "duration": 207,
        "start_time": "2023-07-16T10:46:24.941Z"
      },
      {
        "duration": 171,
        "start_time": "2023-07-16T10:46:25.150Z"
      },
      {
        "duration": 212,
        "start_time": "2023-07-16T10:46:25.323Z"
      },
      {
        "duration": 204,
        "start_time": "2023-07-16T10:46:25.536Z"
      },
      {
        "duration": 279,
        "start_time": "2023-07-16T10:46:25.743Z"
      },
      {
        "duration": 315,
        "start_time": "2023-07-16T10:46:26.028Z"
      },
      {
        "duration": 187,
        "start_time": "2023-07-16T10:46:26.345Z"
      },
      {
        "duration": 369,
        "start_time": "2023-07-16T10:46:26.534Z"
      },
      {
        "duration": 329,
        "start_time": "2023-07-16T10:46:26.905Z"
      },
      {
        "duration": 4,
        "start_time": "2023-07-16T10:46:27.236Z"
      },
      {
        "duration": 9,
        "start_time": "2023-07-16T10:46:27.242Z"
      },
      {
        "duration": 20,
        "start_time": "2023-07-16T10:46:27.253Z"
      },
      {
        "duration": 128,
        "start_time": "2023-07-16T10:46:27.275Z"
      },
      {
        "duration": 0,
        "start_time": "2023-07-16T10:46:27.405Z"
      },
      {
        "duration": 0,
        "start_time": "2023-07-16T10:46:27.407Z"
      },
      {
        "duration": 1,
        "start_time": "2023-07-16T10:46:27.408Z"
      },
      {
        "duration": 0,
        "start_time": "2023-07-16T10:46:27.410Z"
      },
      {
        "duration": 0,
        "start_time": "2023-07-16T10:46:27.411Z"
      },
      {
        "duration": 0,
        "start_time": "2023-07-16T10:46:27.412Z"
      },
      {
        "duration": 0,
        "start_time": "2023-07-16T10:46:27.413Z"
      },
      {
        "duration": 0,
        "start_time": "2023-07-16T10:46:27.415Z"
      },
      {
        "duration": 314,
        "start_time": "2023-07-16T10:48:00.209Z"
      },
      {
        "duration": 288,
        "start_time": "2023-07-16T10:49:02.419Z"
      },
      {
        "duration": 337,
        "start_time": "2023-07-16T10:49:17.156Z"
      },
      {
        "duration": 293,
        "start_time": "2023-07-16T10:51:02.944Z"
      },
      {
        "duration": 721,
        "start_time": "2023-07-16T10:53:46.249Z"
      },
      {
        "duration": 24,
        "start_time": "2023-07-16T11:00:25.216Z"
      },
      {
        "duration": 256,
        "start_time": "2023-07-16T11:00:36.859Z"
      },
      {
        "duration": 30,
        "start_time": "2023-07-16T11:00:47.889Z"
      },
      {
        "duration": 1425,
        "start_time": "2023-07-16T11:01:27.304Z"
      },
      {
        "duration": 18,
        "start_time": "2023-07-16T11:02:59.756Z"
      },
      {
        "duration": 553,
        "start_time": "2023-07-16T11:03:10.796Z"
      },
      {
        "duration": 1471,
        "start_time": "2023-07-16T11:03:36.816Z"
      },
      {
        "duration": 2626,
        "start_time": "2023-07-16T11:09:21.452Z"
      },
      {
        "duration": 1632,
        "start_time": "2023-07-16T11:09:43.608Z"
      },
      {
        "duration": 1673,
        "start_time": "2023-07-16T11:09:57.180Z"
      },
      {
        "duration": 15,
        "start_time": "2023-07-16T11:10:12.508Z"
      },
      {
        "duration": 95,
        "start_time": "2023-07-16T11:10:24.866Z"
      },
      {
        "duration": 9,
        "start_time": "2023-07-16T11:10:27.514Z"
      },
      {
        "duration": 273,
        "start_time": "2023-07-16T11:11:16.545Z"
      },
      {
        "duration": 47,
        "start_time": "2023-07-16T11:11:42.017Z"
      },
      {
        "duration": 367,
        "start_time": "2023-07-16T11:11:48.836Z"
      },
      {
        "duration": 263,
        "start_time": "2023-07-16T11:12:43.221Z"
      },
      {
        "duration": 240,
        "start_time": "2023-07-16T11:12:51.946Z"
      },
      {
        "duration": 294,
        "start_time": "2023-07-16T11:12:55.736Z"
      },
      {
        "duration": 282,
        "start_time": "2023-07-16T11:13:35.845Z"
      },
      {
        "duration": 263,
        "start_time": "2023-07-16T11:14:39.421Z"
      },
      {
        "duration": 247,
        "start_time": "2023-07-16T11:15:27.158Z"
      },
      {
        "duration": 789,
        "start_time": "2023-07-16T11:15:45.005Z"
      },
      {
        "duration": 753,
        "start_time": "2023-07-16T11:15:49.534Z"
      },
      {
        "duration": 234,
        "start_time": "2023-07-16T11:16:32.117Z"
      },
      {
        "duration": 11,
        "start_time": "2023-07-16T11:16:43.252Z"
      },
      {
        "duration": 444,
        "start_time": "2023-07-16T11:16:48.341Z"
      },
      {
        "duration": 80,
        "start_time": "2023-07-16T11:17:05.383Z"
      },
      {
        "duration": 2216,
        "start_time": "2023-07-16T11:17:28.043Z"
      },
      {
        "duration": 258,
        "start_time": "2023-07-16T11:17:35.317Z"
      },
      {
        "duration": 140,
        "start_time": "2023-07-16T11:17:46.254Z"
      },
      {
        "duration": 313,
        "start_time": "2023-07-16T11:17:49.845Z"
      },
      {
        "duration": 302,
        "start_time": "2023-07-16T11:18:29.058Z"
      },
      {
        "duration": 175,
        "start_time": "2023-07-16T11:18:46.821Z"
      },
      {
        "duration": 256,
        "start_time": "2023-07-16T11:19:04.459Z"
      },
      {
        "duration": 588,
        "start_time": "2023-07-16T11:19:15.459Z"
      },
      {
        "duration": 2779,
        "start_time": "2023-07-16T11:19:50.948Z"
      },
      {
        "duration": 2240,
        "start_time": "2023-07-16T11:20:18.961Z"
      },
      {
        "duration": 2389,
        "start_time": "2023-07-16T11:20:33.034Z"
      },
      {
        "duration": 312,
        "start_time": "2023-07-16T11:20:44.211Z"
      },
      {
        "duration": 390,
        "start_time": "2023-07-16T11:23:03.222Z"
      },
      {
        "duration": 619,
        "start_time": "2023-07-16T13:03:43.057Z"
      },
      {
        "duration": 199,
        "start_time": "2023-07-16T13:03:51.249Z"
      },
      {
        "duration": 180,
        "start_time": "2023-07-16T13:04:02.161Z"
      },
      {
        "duration": 393,
        "start_time": "2023-07-16T13:04:20.152Z"
      },
      {
        "duration": 249,
        "start_time": "2023-07-16T13:05:01.366Z"
      },
      {
        "duration": 374,
        "start_time": "2023-07-16T13:05:39.768Z"
      },
      {
        "duration": 232,
        "start_time": "2023-07-16T13:20:33.071Z"
      },
      {
        "duration": 216,
        "start_time": "2023-07-16T13:20:42.319Z"
      },
      {
        "duration": 31,
        "start_time": "2023-07-16T13:21:26.858Z"
      },
      {
        "duration": 13,
        "start_time": "2023-07-16T13:21:33.819Z"
      },
      {
        "duration": 19,
        "start_time": "2023-07-16T13:25:58.327Z"
      },
      {
        "duration": 20,
        "start_time": "2023-07-16T13:34:29.098Z"
      },
      {
        "duration": 14,
        "start_time": "2023-07-16T13:47:50.975Z"
      },
      {
        "duration": 80,
        "start_time": "2023-07-16T13:48:06.947Z"
      },
      {
        "duration": 15,
        "start_time": "2023-07-16T13:48:10.026Z"
      },
      {
        "duration": 182,
        "start_time": "2023-07-16T13:48:29.585Z"
      },
      {
        "duration": 14,
        "start_time": "2023-07-16T13:48:56.988Z"
      },
      {
        "duration": 1076,
        "start_time": "2023-07-16T13:49:13.075Z"
      },
      {
        "duration": 15,
        "start_time": "2023-07-16T13:49:24.634Z"
      },
      {
        "duration": 1044,
        "start_time": "2023-07-16T13:49:30.836Z"
      },
      {
        "duration": 17,
        "start_time": "2023-07-16T13:49:40.361Z"
      },
      {
        "duration": 1066,
        "start_time": "2023-07-16T13:49:49.083Z"
      },
      {
        "duration": 17,
        "start_time": "2023-07-16T13:49:52.451Z"
      },
      {
        "duration": 175,
        "start_time": "2023-07-16T13:50:06.367Z"
      },
      {
        "duration": 164,
        "start_time": "2023-07-16T13:50:10.040Z"
      },
      {
        "duration": 190,
        "start_time": "2023-07-16T13:50:13.063Z"
      },
      {
        "duration": 319,
        "start_time": "2023-07-16T13:50:36.275Z"
      },
      {
        "duration": 18,
        "start_time": "2023-07-16T13:50:46.995Z"
      },
      {
        "duration": 180,
        "start_time": "2023-07-16T13:50:53.443Z"
      },
      {
        "duration": 63,
        "start_time": "2023-07-16T13:51:17.107Z"
      },
      {
        "duration": 198,
        "start_time": "2023-07-16T13:51:23.363Z"
      },
      {
        "duration": 1090,
        "start_time": "2023-07-16T13:51:42.939Z"
      },
      {
        "duration": 26,
        "start_time": "2023-07-16T13:59:58.985Z"
      },
      {
        "duration": 17,
        "start_time": "2023-07-16T14:00:13.392Z"
      },
      {
        "duration": 1240,
        "start_time": "2023-07-16T14:00:18.389Z"
      },
      {
        "duration": 31,
        "start_time": "2023-07-16T14:00:21.865Z"
      },
      {
        "duration": 23,
        "start_time": "2023-07-16T14:01:14.055Z"
      },
      {
        "duration": 21,
        "start_time": "2023-07-16T14:01:23.092Z"
      },
      {
        "duration": 206,
        "start_time": "2023-07-16T14:01:34.425Z"
      },
      {
        "duration": 24,
        "start_time": "2023-07-16T14:01:44.006Z"
      },
      {
        "duration": 180,
        "start_time": "2023-07-16T14:02:27.969Z"
      },
      {
        "duration": 169,
        "start_time": "2023-07-16T14:02:59.960Z"
      },
      {
        "duration": 167,
        "start_time": "2023-07-16T14:03:20.224Z"
      },
      {
        "duration": 157,
        "start_time": "2023-07-16T14:03:38.225Z"
      },
      {
        "duration": 185,
        "start_time": "2023-07-16T14:04:01.305Z"
      },
      {
        "duration": 228,
        "start_time": "2023-07-16T14:04:36.001Z"
      },
      {
        "duration": 19,
        "start_time": "2023-07-16T14:05:39.317Z"
      },
      {
        "duration": 20,
        "start_time": "2023-07-16T14:06:41.845Z"
      },
      {
        "duration": 25,
        "start_time": "2023-07-16T14:06:46.701Z"
      },
      {
        "duration": 30,
        "start_time": "2023-07-16T14:07:02.278Z"
      },
      {
        "duration": 29,
        "start_time": "2023-07-16T14:07:20.104Z"
      },
      {
        "duration": 207,
        "start_time": "2023-07-16T14:07:54.934Z"
      },
      {
        "duration": 190,
        "start_time": "2023-07-16T14:08:09.529Z"
      },
      {
        "duration": 188,
        "start_time": "2023-07-16T14:09:11.704Z"
      },
      {
        "duration": 19,
        "start_time": "2023-07-16T14:09:23.096Z"
      },
      {
        "duration": 274,
        "start_time": "2023-07-16T14:09:43.125Z"
      },
      {
        "duration": 196,
        "start_time": "2023-07-16T14:09:51.925Z"
      },
      {
        "duration": 26,
        "start_time": "2023-07-16T14:10:30.418Z"
      },
      {
        "duration": 22,
        "start_time": "2023-07-16T14:10:52.626Z"
      },
      {
        "duration": 208,
        "start_time": "2023-07-16T14:11:47.522Z"
      },
      {
        "duration": 1544,
        "start_time": "2023-07-16T14:12:12.950Z"
      },
      {
        "duration": 278,
        "start_time": "2023-07-16T14:12:34.522Z"
      },
      {
        "duration": 183,
        "start_time": "2023-07-16T14:12:43.210Z"
      },
      {
        "duration": 187,
        "start_time": "2023-07-16T14:12:53.783Z"
      },
      {
        "duration": 197,
        "start_time": "2023-07-16T14:13:04.813Z"
      },
      {
        "duration": 1697,
        "start_time": "2023-07-16T14:13:19.621Z"
      },
      {
        "duration": 188,
        "start_time": "2023-07-16T14:13:27.853Z"
      },
      {
        "duration": 424,
        "start_time": "2023-07-16T14:13:34.121Z"
      },
      {
        "duration": 6,
        "start_time": "2023-07-16T14:14:34.441Z"
      },
      {
        "duration": 17,
        "start_time": "2023-07-16T14:14:40.902Z"
      },
      {
        "duration": 200,
        "start_time": "2023-07-16T14:14:47.444Z"
      },
      {
        "duration": 27,
        "start_time": "2023-07-16T14:15:09.328Z"
      },
      {
        "duration": 104,
        "start_time": "2023-07-16T14:15:20.647Z"
      },
      {
        "duration": 258,
        "start_time": "2023-07-16T14:15:40.498Z"
      },
      {
        "duration": 301,
        "start_time": "2023-07-16T14:16:13.908Z"
      },
      {
        "duration": 191,
        "start_time": "2023-07-16T14:17:02.126Z"
      },
      {
        "duration": 215,
        "start_time": "2023-07-16T14:17:03.904Z"
      },
      {
        "duration": 181,
        "start_time": "2023-07-16T14:17:06.239Z"
      },
      {
        "duration": 170,
        "start_time": "2023-07-16T14:21:18.464Z"
      },
      {
        "duration": 164,
        "start_time": "2023-07-16T14:21:40.282Z"
      },
      {
        "duration": 230,
        "start_time": "2023-07-16T14:31:38.491Z"
      },
      {
        "duration": 1648,
        "start_time": "2023-07-16T14:32:40.409Z"
      },
      {
        "duration": 1488,
        "start_time": "2023-07-16T14:32:54.012Z"
      },
      {
        "duration": 482,
        "start_time": "2023-07-16T14:33:42.965Z"
      },
      {
        "duration": 475,
        "start_time": "2023-07-16T14:40:57.148Z"
      },
      {
        "duration": 12,
        "start_time": "2023-07-16T14:41:04.070Z"
      },
      {
        "duration": 16,
        "start_time": "2023-07-16T14:41:09.564Z"
      },
      {
        "duration": 996,
        "start_time": "2023-07-16T14:41:29.239Z"
      },
      {
        "duration": 173,
        "start_time": "2023-07-16T14:41:30.238Z"
      },
      {
        "duration": 75,
        "start_time": "2023-07-16T14:41:30.414Z"
      },
      {
        "duration": 29,
        "start_time": "2023-07-16T14:41:30.492Z"
      },
      {
        "duration": 3337,
        "start_time": "2023-07-16T14:41:30.525Z"
      },
      {
        "duration": 205,
        "start_time": "2023-07-16T14:41:33.865Z"
      },
      {
        "duration": 13,
        "start_time": "2023-07-16T14:41:34.073Z"
      },
      {
        "duration": 17,
        "start_time": "2023-07-16T14:41:34.090Z"
      },
      {
        "duration": 22,
        "start_time": "2023-07-16T14:41:34.113Z"
      },
      {
        "duration": 36,
        "start_time": "2023-07-16T14:41:34.145Z"
      },
      {
        "duration": 15,
        "start_time": "2023-07-16T14:41:34.188Z"
      },
      {
        "duration": 37,
        "start_time": "2023-07-16T14:41:34.210Z"
      },
      {
        "duration": 24,
        "start_time": "2023-07-16T14:41:34.254Z"
      },
      {
        "duration": 10,
        "start_time": "2023-07-16T14:41:34.285Z"
      },
      {
        "duration": 7,
        "start_time": "2023-07-16T14:41:34.302Z"
      },
      {
        "duration": 18,
        "start_time": "2023-07-16T14:41:34.315Z"
      },
      {
        "duration": 12,
        "start_time": "2023-07-16T14:41:34.340Z"
      },
      {
        "duration": 13,
        "start_time": "2023-07-16T14:41:34.356Z"
      },
      {
        "duration": 23,
        "start_time": "2023-07-16T14:41:34.371Z"
      },
      {
        "duration": 10,
        "start_time": "2023-07-16T14:41:34.397Z"
      },
      {
        "duration": 18,
        "start_time": "2023-07-16T14:41:34.409Z"
      },
      {
        "duration": 12,
        "start_time": "2023-07-16T14:41:34.430Z"
      },
      {
        "duration": 29,
        "start_time": "2023-07-16T14:41:34.444Z"
      },
      {
        "duration": 15,
        "start_time": "2023-07-16T14:41:34.477Z"
      },
      {
        "duration": 33,
        "start_time": "2023-07-16T14:41:34.496Z"
      },
      {
        "duration": 19,
        "start_time": "2023-07-16T14:41:34.531Z"
      },
      {
        "duration": 646,
        "start_time": "2023-07-16T14:41:34.553Z"
      },
      {
        "duration": 46,
        "start_time": "2023-07-16T14:41:35.205Z"
      },
      {
        "duration": 148,
        "start_time": "2023-07-16T14:41:35.257Z"
      },
      {
        "duration": 197,
        "start_time": "2023-07-16T14:41:35.412Z"
      },
      {
        "duration": 253,
        "start_time": "2023-07-16T14:41:35.616Z"
      },
      {
        "duration": 344,
        "start_time": "2023-07-16T14:41:35.873Z"
      },
      {
        "duration": 533,
        "start_time": "2023-07-16T14:41:36.218Z"
      },
      {
        "duration": 219,
        "start_time": "2023-07-16T14:41:36.753Z"
      },
      {
        "duration": 238,
        "start_time": "2023-07-16T14:41:36.977Z"
      },
      {
        "duration": 209,
        "start_time": "2023-07-16T14:41:37.221Z"
      },
      {
        "duration": 182,
        "start_time": "2023-07-16T14:41:37.432Z"
      },
      {
        "duration": 281,
        "start_time": "2023-07-16T14:41:37.616Z"
      },
      {
        "duration": 249,
        "start_time": "2023-07-16T14:41:37.903Z"
      },
      {
        "duration": 337,
        "start_time": "2023-07-16T14:41:38.154Z"
      },
      {
        "duration": 311,
        "start_time": "2023-07-16T14:41:38.498Z"
      },
      {
        "duration": 218,
        "start_time": "2023-07-16T14:41:38.812Z"
      },
      {
        "duration": 324,
        "start_time": "2023-07-16T14:41:39.032Z"
      },
      {
        "duration": 291,
        "start_time": "2023-07-16T14:41:39.358Z"
      },
      {
        "duration": 3,
        "start_time": "2023-07-16T14:41:39.651Z"
      },
      {
        "duration": 24,
        "start_time": "2023-07-16T14:41:39.656Z"
      },
      {
        "duration": 12,
        "start_time": "2023-07-16T14:41:39.682Z"
      },
      {
        "duration": 203,
        "start_time": "2023-07-16T14:41:39.697Z"
      },
      {
        "duration": 206,
        "start_time": "2023-07-16T14:41:39.902Z"
      },
      {
        "duration": 6,
        "start_time": "2023-07-16T14:41:40.110Z"
      },
      {
        "duration": 214,
        "start_time": "2023-07-16T14:41:40.119Z"
      },
      {
        "duration": 204,
        "start_time": "2023-07-16T14:41:40.336Z"
      },
      {
        "duration": 189,
        "start_time": "2023-07-16T14:41:40.542Z"
      },
      {
        "duration": 361,
        "start_time": "2023-07-16T14:41:40.733Z"
      },
      {
        "duration": 1393,
        "start_time": "2023-07-16T14:41:41.096Z"
      },
      {
        "duration": 0,
        "start_time": "2023-07-16T14:41:42.496Z"
      },
      {
        "duration": 933,
        "start_time": "2023-07-16T14:42:31.012Z"
      },
      {
        "duration": 649,
        "start_time": "2023-07-16T14:42:44.300Z"
      },
      {
        "duration": 829,
        "start_time": "2023-07-16T14:43:10.146Z"
      },
      {
        "duration": 714,
        "start_time": "2023-07-16T14:44:02.763Z"
      },
      {
        "duration": 900,
        "start_time": "2023-07-16T14:44:22.840Z"
      },
      {
        "duration": 1211,
        "start_time": "2023-07-16T14:44:43.536Z"
      },
      {
        "duration": 31,
        "start_time": "2023-07-16T14:44:57.370Z"
      },
      {
        "duration": 15,
        "start_time": "2023-07-16T14:45:48.118Z"
      },
      {
        "duration": 13,
        "start_time": "2023-07-16T14:46:59.213Z"
      },
      {
        "duration": 902,
        "start_time": "2023-07-16T14:47:23.736Z"
      },
      {
        "duration": 156,
        "start_time": "2023-07-16T14:47:24.642Z"
      },
      {
        "duration": 82,
        "start_time": "2023-07-16T14:47:24.800Z"
      },
      {
        "duration": 24,
        "start_time": "2023-07-16T14:47:24.888Z"
      },
      {
        "duration": 2738,
        "start_time": "2023-07-16T14:47:24.923Z"
      },
      {
        "duration": 138,
        "start_time": "2023-07-16T14:47:27.664Z"
      },
      {
        "duration": 22,
        "start_time": "2023-07-16T14:47:27.804Z"
      },
      {
        "duration": 10,
        "start_time": "2023-07-16T14:47:27.828Z"
      },
      {
        "duration": 9,
        "start_time": "2023-07-16T14:47:27.840Z"
      },
      {
        "duration": 36,
        "start_time": "2023-07-16T14:47:27.875Z"
      },
      {
        "duration": 13,
        "start_time": "2023-07-16T14:47:27.921Z"
      },
      {
        "duration": 26,
        "start_time": "2023-07-16T14:47:27.937Z"
      },
      {
        "duration": 29,
        "start_time": "2023-07-16T14:47:27.965Z"
      },
      {
        "duration": 10,
        "start_time": "2023-07-16T14:47:28.001Z"
      },
      {
        "duration": 14,
        "start_time": "2023-07-16T14:47:28.015Z"
      },
      {
        "duration": 13,
        "start_time": "2023-07-16T14:47:28.032Z"
      },
      {
        "duration": 10,
        "start_time": "2023-07-16T14:47:28.048Z"
      },
      {
        "duration": 26,
        "start_time": "2023-07-16T14:47:28.069Z"
      },
      {
        "duration": 16,
        "start_time": "2023-07-16T14:47:28.100Z"
      },
      {
        "duration": 119,
        "start_time": "2023-07-16T14:47:28.120Z"
      },
      {
        "duration": 0,
        "start_time": "2023-07-16T14:47:28.243Z"
      },
      {
        "duration": 0,
        "start_time": "2023-07-16T14:47:28.244Z"
      },
      {
        "duration": 0,
        "start_time": "2023-07-16T14:47:28.245Z"
      },
      {
        "duration": 0,
        "start_time": "2023-07-16T14:47:28.247Z"
      },
      {
        "duration": 0,
        "start_time": "2023-07-16T14:47:28.248Z"
      },
      {
        "duration": 0,
        "start_time": "2023-07-16T14:47:28.250Z"
      },
      {
        "duration": 0,
        "start_time": "2023-07-16T14:47:28.251Z"
      },
      {
        "duration": 0,
        "start_time": "2023-07-16T14:47:28.269Z"
      },
      {
        "duration": 0,
        "start_time": "2023-07-16T14:47:28.272Z"
      },
      {
        "duration": 0,
        "start_time": "2023-07-16T14:47:28.280Z"
      },
      {
        "duration": 0,
        "start_time": "2023-07-16T14:47:28.283Z"
      },
      {
        "duration": 0,
        "start_time": "2023-07-16T14:47:28.287Z"
      },
      {
        "duration": 0,
        "start_time": "2023-07-16T14:47:28.289Z"
      },
      {
        "duration": 0,
        "start_time": "2023-07-16T14:47:28.294Z"
      },
      {
        "duration": 0,
        "start_time": "2023-07-16T14:47:28.299Z"
      },
      {
        "duration": 0,
        "start_time": "2023-07-16T14:47:28.300Z"
      },
      {
        "duration": 0,
        "start_time": "2023-07-16T14:47:28.302Z"
      },
      {
        "duration": 0,
        "start_time": "2023-07-16T14:47:28.304Z"
      },
      {
        "duration": 0,
        "start_time": "2023-07-16T14:47:28.306Z"
      },
      {
        "duration": 0,
        "start_time": "2023-07-16T14:47:28.310Z"
      },
      {
        "duration": 0,
        "start_time": "2023-07-16T14:47:28.312Z"
      },
      {
        "duration": 0,
        "start_time": "2023-07-16T14:47:28.313Z"
      },
      {
        "duration": 0,
        "start_time": "2023-07-16T14:47:28.314Z"
      },
      {
        "duration": 0,
        "start_time": "2023-07-16T14:47:28.316Z"
      },
      {
        "duration": 0,
        "start_time": "2023-07-16T14:47:28.317Z"
      },
      {
        "duration": 0,
        "start_time": "2023-07-16T14:47:28.319Z"
      },
      {
        "duration": 0,
        "start_time": "2023-07-16T14:47:28.320Z"
      },
      {
        "duration": 0,
        "start_time": "2023-07-16T14:47:28.323Z"
      },
      {
        "duration": 0,
        "start_time": "2023-07-16T14:47:28.325Z"
      },
      {
        "duration": 0,
        "start_time": "2023-07-16T14:47:28.326Z"
      },
      {
        "duration": 0,
        "start_time": "2023-07-16T14:47:28.328Z"
      },
      {
        "duration": 0,
        "start_time": "2023-07-16T14:47:28.329Z"
      },
      {
        "duration": 0,
        "start_time": "2023-07-16T14:47:28.331Z"
      },
      {
        "duration": 0,
        "start_time": "2023-07-16T14:47:28.373Z"
      },
      {
        "duration": 1,
        "start_time": "2023-07-16T14:47:28.374Z"
      },
      {
        "duration": 0,
        "start_time": "2023-07-16T14:47:28.378Z"
      },
      {
        "duration": 80,
        "start_time": "2023-07-16T14:48:12.443Z"
      },
      {
        "duration": 41,
        "start_time": "2023-07-16T14:48:17.668Z"
      },
      {
        "duration": 55,
        "start_time": "2023-07-16T14:48:23.253Z"
      },
      {
        "duration": 19,
        "start_time": "2023-07-16T14:48:42.335Z"
      },
      {
        "duration": 17,
        "start_time": "2023-07-16T14:48:53.633Z"
      },
      {
        "duration": 30,
        "start_time": "2023-07-16T14:49:24.838Z"
      },
      {
        "duration": 9,
        "start_time": "2023-07-16T14:49:50.602Z"
      },
      {
        "duration": 13,
        "start_time": "2023-07-16T14:52:09.939Z"
      },
      {
        "duration": 890,
        "start_time": "2023-07-16T14:52:32.770Z"
      },
      {
        "duration": 158,
        "start_time": "2023-07-16T14:52:33.663Z"
      },
      {
        "duration": 76,
        "start_time": "2023-07-16T14:52:33.830Z"
      },
      {
        "duration": 21,
        "start_time": "2023-07-16T14:52:33.925Z"
      },
      {
        "duration": 2702,
        "start_time": "2023-07-16T14:52:33.951Z"
      },
      {
        "duration": 134,
        "start_time": "2023-07-16T14:52:36.657Z"
      },
      {
        "duration": 18,
        "start_time": "2023-07-16T14:52:36.799Z"
      },
      {
        "duration": 8,
        "start_time": "2023-07-16T14:52:36.820Z"
      },
      {
        "duration": 13,
        "start_time": "2023-07-16T14:52:36.830Z"
      },
      {
        "duration": 33,
        "start_time": "2023-07-16T14:52:36.847Z"
      },
      {
        "duration": 14,
        "start_time": "2023-07-16T14:52:36.883Z"
      },
      {
        "duration": 20,
        "start_time": "2023-07-16T14:52:36.902Z"
      },
      {
        "duration": 14,
        "start_time": "2023-07-16T14:52:36.924Z"
      },
      {
        "duration": 13,
        "start_time": "2023-07-16T14:52:36.940Z"
      },
      {
        "duration": 11,
        "start_time": "2023-07-16T14:52:36.972Z"
      },
      {
        "duration": 205,
        "start_time": "2023-07-16T14:52:36.993Z"
      },
      {
        "duration": 10,
        "start_time": "2023-07-16T14:52:37.205Z"
      },
      {
        "duration": 14,
        "start_time": "2023-07-16T14:52:37.218Z"
      },
      {
        "duration": 7,
        "start_time": "2023-07-16T14:52:37.234Z"
      },
      {
        "duration": 105,
        "start_time": "2023-07-16T14:52:37.243Z"
      },
      {
        "duration": 0,
        "start_time": "2023-07-16T14:52:37.351Z"
      },
      {
        "duration": 0,
        "start_time": "2023-07-16T14:52:37.354Z"
      },
      {
        "duration": 0,
        "start_time": "2023-07-16T14:52:37.356Z"
      },
      {
        "duration": 0,
        "start_time": "2023-07-16T14:52:37.367Z"
      },
      {
        "duration": 0,
        "start_time": "2023-07-16T14:52:37.368Z"
      },
      {
        "duration": 0,
        "start_time": "2023-07-16T14:52:37.368Z"
      },
      {
        "duration": 0,
        "start_time": "2023-07-16T14:52:37.369Z"
      },
      {
        "duration": 0,
        "start_time": "2023-07-16T14:52:37.370Z"
      },
      {
        "duration": 0,
        "start_time": "2023-07-16T14:52:37.371Z"
      },
      {
        "duration": 0,
        "start_time": "2023-07-16T14:52:37.371Z"
      },
      {
        "duration": 0,
        "start_time": "2023-07-16T14:52:37.372Z"
      },
      {
        "duration": 0,
        "start_time": "2023-07-16T14:52:37.373Z"
      },
      {
        "duration": 0,
        "start_time": "2023-07-16T14:52:37.373Z"
      },
      {
        "duration": 0,
        "start_time": "2023-07-16T14:52:37.374Z"
      },
      {
        "duration": 0,
        "start_time": "2023-07-16T14:52:37.375Z"
      },
      {
        "duration": 0,
        "start_time": "2023-07-16T14:52:37.376Z"
      },
      {
        "duration": 0,
        "start_time": "2023-07-16T14:52:37.376Z"
      },
      {
        "duration": 0,
        "start_time": "2023-07-16T14:52:37.377Z"
      },
      {
        "duration": 0,
        "start_time": "2023-07-16T14:52:37.378Z"
      },
      {
        "duration": 0,
        "start_time": "2023-07-16T14:52:37.381Z"
      },
      {
        "duration": 0,
        "start_time": "2023-07-16T14:52:37.382Z"
      },
      {
        "duration": 0,
        "start_time": "2023-07-16T14:52:37.383Z"
      },
      {
        "duration": 0,
        "start_time": "2023-07-16T14:52:37.384Z"
      },
      {
        "duration": 0,
        "start_time": "2023-07-16T14:52:37.385Z"
      },
      {
        "duration": 0,
        "start_time": "2023-07-16T14:52:37.386Z"
      },
      {
        "duration": 0,
        "start_time": "2023-07-16T14:52:37.390Z"
      },
      {
        "duration": 0,
        "start_time": "2023-07-16T14:52:37.391Z"
      },
      {
        "duration": 0,
        "start_time": "2023-07-16T14:52:37.398Z"
      },
      {
        "duration": 0,
        "start_time": "2023-07-16T14:52:37.399Z"
      },
      {
        "duration": 0,
        "start_time": "2023-07-16T14:52:37.400Z"
      },
      {
        "duration": 0,
        "start_time": "2023-07-16T14:52:37.401Z"
      },
      {
        "duration": 0,
        "start_time": "2023-07-16T14:52:37.402Z"
      },
      {
        "duration": 0,
        "start_time": "2023-07-16T14:52:37.403Z"
      },
      {
        "duration": 0,
        "start_time": "2023-07-16T14:52:37.404Z"
      },
      {
        "duration": 0,
        "start_time": "2023-07-16T14:52:37.405Z"
      },
      {
        "duration": 0,
        "start_time": "2023-07-16T14:52:37.407Z"
      },
      {
        "duration": 19,
        "start_time": "2023-07-16T14:53:20.848Z"
      },
      {
        "duration": 84,
        "start_time": "2023-07-16T14:53:26.375Z"
      },
      {
        "duration": 8,
        "start_time": "2023-07-16T14:53:46.360Z"
      },
      {
        "duration": 4,
        "start_time": "2023-07-16T14:54:45.124Z"
      },
      {
        "duration": 4,
        "start_time": "2023-07-16T14:54:48.436Z"
      },
      {
        "duration": 30,
        "start_time": "2023-07-16T14:55:16.005Z"
      },
      {
        "duration": 105,
        "start_time": "2023-07-16T14:55:37.112Z"
      },
      {
        "duration": 22,
        "start_time": "2023-07-16T14:55:57.808Z"
      },
      {
        "duration": 135,
        "start_time": "2023-07-16T14:56:25.102Z"
      },
      {
        "duration": 157,
        "start_time": "2023-07-16T14:59:37.662Z"
      },
      {
        "duration": 22,
        "start_time": "2023-07-16T15:00:06.861Z"
      },
      {
        "duration": 752,
        "start_time": "2023-07-16T15:00:41.502Z"
      },
      {
        "duration": 143,
        "start_time": "2023-07-16T15:00:42.256Z"
      },
      {
        "duration": 74,
        "start_time": "2023-07-16T15:00:42.401Z"
      },
      {
        "duration": 21,
        "start_time": "2023-07-16T15:00:42.478Z"
      },
      {
        "duration": 2568,
        "start_time": "2023-07-16T15:00:42.502Z"
      },
      {
        "duration": 127,
        "start_time": "2023-07-16T15:00:45.072Z"
      },
      {
        "duration": 13,
        "start_time": "2023-07-16T15:00:45.202Z"
      },
      {
        "duration": 36,
        "start_time": "2023-07-16T15:00:45.217Z"
      },
      {
        "duration": 22,
        "start_time": "2023-07-16T15:00:45.256Z"
      },
      {
        "duration": 35,
        "start_time": "2023-07-16T15:00:45.282Z"
      },
      {
        "duration": 28,
        "start_time": "2023-07-16T15:00:45.319Z"
      },
      {
        "duration": 38,
        "start_time": "2023-07-16T15:00:45.350Z"
      },
      {
        "duration": 33,
        "start_time": "2023-07-16T15:00:45.390Z"
      },
      {
        "duration": 11,
        "start_time": "2023-07-16T15:00:45.427Z"
      },
      {
        "duration": 5,
        "start_time": "2023-07-16T15:00:45.440Z"
      },
      {
        "duration": 19,
        "start_time": "2023-07-16T15:00:45.446Z"
      },
      {
        "duration": 35,
        "start_time": "2023-07-16T15:00:45.466Z"
      },
      {
        "duration": 35,
        "start_time": "2023-07-16T15:00:45.503Z"
      },
      {
        "duration": 22,
        "start_time": "2023-07-16T15:00:45.540Z"
      },
      {
        "duration": 26,
        "start_time": "2023-07-16T15:00:45.564Z"
      },
      {
        "duration": 19,
        "start_time": "2023-07-16T15:00:45.596Z"
      },
      {
        "duration": 5,
        "start_time": "2023-07-16T15:00:45.620Z"
      },
      {
        "duration": 17,
        "start_time": "2023-07-16T15:00:45.627Z"
      },
      {
        "duration": 8,
        "start_time": "2023-07-16T15:00:45.647Z"
      },
      {
        "duration": 19,
        "start_time": "2023-07-16T15:00:45.657Z"
      },
      {
        "duration": 30,
        "start_time": "2023-07-16T15:00:45.681Z"
      },
      {
        "duration": 446,
        "start_time": "2023-07-16T15:00:45.716Z"
      },
      {
        "duration": 48,
        "start_time": "2023-07-16T15:00:46.167Z"
      },
      {
        "duration": 112,
        "start_time": "2023-07-16T15:00:46.217Z"
      },
      {
        "duration": 175,
        "start_time": "2023-07-16T15:00:46.331Z"
      },
      {
        "duration": 228,
        "start_time": "2023-07-16T15:00:46.508Z"
      },
      {
        "duration": 263,
        "start_time": "2023-07-16T15:00:46.737Z"
      },
      {
        "duration": 395,
        "start_time": "2023-07-16T15:00:47.002Z"
      },
      {
        "duration": 180,
        "start_time": "2023-07-16T15:00:47.400Z"
      },
      {
        "duration": 190,
        "start_time": "2023-07-16T15:00:47.581Z"
      },
      {
        "duration": 201,
        "start_time": "2023-07-16T15:00:47.773Z"
      },
      {
        "duration": 168,
        "start_time": "2023-07-16T15:00:47.981Z"
      },
      {
        "duration": 200,
        "start_time": "2023-07-16T15:00:48.151Z"
      },
      {
        "duration": 192,
        "start_time": "2023-07-16T15:00:48.353Z"
      },
      {
        "duration": 280,
        "start_time": "2023-07-16T15:00:48.547Z"
      },
      {
        "duration": 298,
        "start_time": "2023-07-16T15:00:48.832Z"
      },
      {
        "duration": 197,
        "start_time": "2023-07-16T15:00:49.132Z"
      },
      {
        "duration": 322,
        "start_time": "2023-07-16T15:00:49.331Z"
      },
      {
        "duration": 266,
        "start_time": "2023-07-16T15:00:49.655Z"
      },
      {
        "duration": 3,
        "start_time": "2023-07-16T15:00:49.923Z"
      },
      {
        "duration": 14,
        "start_time": "2023-07-16T15:00:49.928Z"
      },
      {
        "duration": 9,
        "start_time": "2023-07-16T15:00:49.944Z"
      },
      {
        "duration": 205,
        "start_time": "2023-07-16T15:00:49.955Z"
      },
      {
        "duration": 225,
        "start_time": "2023-07-16T15:00:50.166Z"
      },
      {
        "duration": 10,
        "start_time": "2023-07-16T15:00:50.394Z"
      },
      {
        "duration": 211,
        "start_time": "2023-07-16T15:00:50.406Z"
      },
      {
        "duration": 163,
        "start_time": "2023-07-16T15:00:50.623Z"
      },
      {
        "duration": 212,
        "start_time": "2023-07-16T15:00:50.787Z"
      },
      {
        "duration": 367,
        "start_time": "2023-07-16T15:00:51.008Z"
      },
      {
        "duration": 1549,
        "start_time": "2023-07-16T15:00:51.379Z"
      },
      {
        "duration": 0,
        "start_time": "2023-07-16T15:00:52.930Z"
      },
      {
        "duration": 141,
        "start_time": "2023-07-16T15:02:29.921Z"
      },
      {
        "duration": 148,
        "start_time": "2023-07-16T15:02:45.606Z"
      },
      {
        "duration": 159,
        "start_time": "2023-07-16T15:02:58.353Z"
      },
      {
        "duration": 137,
        "start_time": "2023-07-16T15:03:01.418Z"
      },
      {
        "duration": 187,
        "start_time": "2023-07-16T15:03:12.710Z"
      },
      {
        "duration": 141,
        "start_time": "2023-07-16T15:03:27.810Z"
      },
      {
        "duration": 170,
        "start_time": "2023-07-16T15:03:32.817Z"
      },
      {
        "duration": 134,
        "start_time": "2023-07-16T15:03:35.305Z"
      },
      {
        "duration": 122,
        "start_time": "2023-07-16T15:03:41.022Z"
      },
      {
        "duration": 27,
        "start_time": "2023-07-16T15:03:46.913Z"
      },
      {
        "duration": 33,
        "start_time": "2023-07-16T15:03:52.190Z"
      },
      {
        "duration": 34,
        "start_time": "2023-07-16T15:04:18.961Z"
      },
      {
        "duration": 106,
        "start_time": "2023-07-16T15:04:47.638Z"
      },
      {
        "duration": 25,
        "start_time": "2023-07-16T15:04:55.357Z"
      },
      {
        "duration": 15,
        "start_time": "2023-07-16T15:04:59.017Z"
      },
      {
        "duration": 679,
        "start_time": "2023-07-16T15:05:15.012Z"
      },
      {
        "duration": 108,
        "start_time": "2023-07-16T15:05:15.694Z"
      },
      {
        "duration": 46,
        "start_time": "2023-07-16T15:05:15.804Z"
      },
      {
        "duration": 35,
        "start_time": "2023-07-16T15:05:15.852Z"
      },
      {
        "duration": 2260,
        "start_time": "2023-07-16T15:05:15.890Z"
      },
      {
        "duration": 85,
        "start_time": "2023-07-16T15:05:18.152Z"
      },
      {
        "duration": 9,
        "start_time": "2023-07-16T15:05:18.240Z"
      },
      {
        "duration": 29,
        "start_time": "2023-07-16T15:05:18.251Z"
      },
      {
        "duration": 7,
        "start_time": "2023-07-16T15:05:18.282Z"
      },
      {
        "duration": 27,
        "start_time": "2023-07-16T15:05:18.291Z"
      },
      {
        "duration": 13,
        "start_time": "2023-07-16T15:05:18.320Z"
      },
      {
        "duration": 31,
        "start_time": "2023-07-16T15:05:18.335Z"
      },
      {
        "duration": 22,
        "start_time": "2023-07-16T15:05:18.367Z"
      },
      {
        "duration": 6,
        "start_time": "2023-07-16T15:05:18.392Z"
      },
      {
        "duration": 6,
        "start_time": "2023-07-16T15:05:18.400Z"
      },
      {
        "duration": 11,
        "start_time": "2023-07-16T15:05:18.408Z"
      },
      {
        "duration": 13,
        "start_time": "2023-07-16T15:05:18.421Z"
      },
      {
        "duration": 8,
        "start_time": "2023-07-16T15:05:18.435Z"
      },
      {
        "duration": 12,
        "start_time": "2023-07-16T15:05:18.467Z"
      },
      {
        "duration": 188,
        "start_time": "2023-07-16T15:05:18.484Z"
      },
      {
        "duration": 1,
        "start_time": "2023-07-16T15:05:18.677Z"
      },
      {
        "duration": 0,
        "start_time": "2023-07-16T15:05:18.678Z"
      },
      {
        "duration": 0,
        "start_time": "2023-07-16T15:05:18.680Z"
      },
      {
        "duration": 0,
        "start_time": "2023-07-16T15:05:18.684Z"
      },
      {
        "duration": 0,
        "start_time": "2023-07-16T15:05:18.686Z"
      },
      {
        "duration": 0,
        "start_time": "2023-07-16T15:05:18.688Z"
      },
      {
        "duration": 0,
        "start_time": "2023-07-16T15:05:18.689Z"
      },
      {
        "duration": 0,
        "start_time": "2023-07-16T15:05:18.691Z"
      },
      {
        "duration": 0,
        "start_time": "2023-07-16T15:05:18.692Z"
      },
      {
        "duration": 0,
        "start_time": "2023-07-16T15:05:18.693Z"
      },
      {
        "duration": 0,
        "start_time": "2023-07-16T15:05:18.694Z"
      },
      {
        "duration": 0,
        "start_time": "2023-07-16T15:05:18.696Z"
      },
      {
        "duration": 0,
        "start_time": "2023-07-16T15:05:18.697Z"
      },
      {
        "duration": 0,
        "start_time": "2023-07-16T15:05:18.698Z"
      },
      {
        "duration": 0,
        "start_time": "2023-07-16T15:05:18.699Z"
      },
      {
        "duration": 0,
        "start_time": "2023-07-16T15:05:18.701Z"
      },
      {
        "duration": 0,
        "start_time": "2023-07-16T15:05:18.702Z"
      },
      {
        "duration": 0,
        "start_time": "2023-07-16T15:05:18.703Z"
      },
      {
        "duration": 0,
        "start_time": "2023-07-16T15:05:18.704Z"
      },
      {
        "duration": 0,
        "start_time": "2023-07-16T15:05:18.705Z"
      },
      {
        "duration": 0,
        "start_time": "2023-07-16T15:05:18.707Z"
      },
      {
        "duration": 0,
        "start_time": "2023-07-16T15:05:18.708Z"
      },
      {
        "duration": 0,
        "start_time": "2023-07-16T15:05:18.710Z"
      },
      {
        "duration": 0,
        "start_time": "2023-07-16T15:05:18.711Z"
      },
      {
        "duration": 0,
        "start_time": "2023-07-16T15:05:18.712Z"
      },
      {
        "duration": 0,
        "start_time": "2023-07-16T15:05:18.713Z"
      },
      {
        "duration": 0,
        "start_time": "2023-07-16T15:05:18.714Z"
      },
      {
        "duration": 0,
        "start_time": "2023-07-16T15:05:18.716Z"
      },
      {
        "duration": 0,
        "start_time": "2023-07-16T15:05:18.769Z"
      },
      {
        "duration": 0,
        "start_time": "2023-07-16T15:05:18.771Z"
      },
      {
        "duration": 0,
        "start_time": "2023-07-16T15:05:18.772Z"
      },
      {
        "duration": 0,
        "start_time": "2023-07-16T15:05:18.773Z"
      },
      {
        "duration": 0,
        "start_time": "2023-07-16T15:05:18.774Z"
      },
      {
        "duration": 1,
        "start_time": "2023-07-16T15:05:18.774Z"
      },
      {
        "duration": 0,
        "start_time": "2023-07-16T15:05:18.775Z"
      },
      {
        "duration": 0,
        "start_time": "2023-07-16T15:05:18.776Z"
      },
      {
        "duration": 17,
        "start_time": "2023-07-16T15:05:27.121Z"
      },
      {
        "duration": 709,
        "start_time": "2023-07-16T15:05:56.597Z"
      },
      {
        "duration": 101,
        "start_time": "2023-07-16T15:05:57.308Z"
      },
      {
        "duration": 45,
        "start_time": "2023-07-16T15:05:57.412Z"
      },
      {
        "duration": 27,
        "start_time": "2023-07-16T15:05:57.473Z"
      },
      {
        "duration": 2682,
        "start_time": "2023-07-16T15:05:57.503Z"
      },
      {
        "duration": 121,
        "start_time": "2023-07-16T15:06:00.188Z"
      },
      {
        "duration": 15,
        "start_time": "2023-07-16T15:06:00.312Z"
      },
      {
        "duration": 24,
        "start_time": "2023-07-16T15:06:00.330Z"
      },
      {
        "duration": 18,
        "start_time": "2023-07-16T15:06:00.357Z"
      },
      {
        "duration": 39,
        "start_time": "2023-07-16T15:06:00.377Z"
      },
      {
        "duration": 23,
        "start_time": "2023-07-16T15:06:00.418Z"
      },
      {
        "duration": 41,
        "start_time": "2023-07-16T15:06:00.444Z"
      },
      {
        "duration": 17,
        "start_time": "2023-07-16T15:06:00.487Z"
      },
      {
        "duration": 8,
        "start_time": "2023-07-16T15:06:00.509Z"
      },
      {
        "duration": 21,
        "start_time": "2023-07-16T15:06:00.520Z"
      },
      {
        "duration": 41,
        "start_time": "2023-07-16T15:06:00.544Z"
      },
      {
        "duration": 16,
        "start_time": "2023-07-16T15:06:00.588Z"
      },
      {
        "duration": 24,
        "start_time": "2023-07-16T15:06:00.606Z"
      },
      {
        "duration": 19,
        "start_time": "2023-07-16T15:06:00.632Z"
      },
      {
        "duration": 223,
        "start_time": "2023-07-16T15:06:00.653Z"
      },
      {
        "duration": 0,
        "start_time": "2023-07-16T15:06:00.885Z"
      },
      {
        "duration": 0,
        "start_time": "2023-07-16T15:06:00.886Z"
      },
      {
        "duration": 0,
        "start_time": "2023-07-16T15:06:00.888Z"
      },
      {
        "duration": 0,
        "start_time": "2023-07-16T15:06:00.889Z"
      },
      {
        "duration": 0,
        "start_time": "2023-07-16T15:06:00.889Z"
      },
      {
        "duration": 0,
        "start_time": "2023-07-16T15:06:00.891Z"
      },
      {
        "duration": 0,
        "start_time": "2023-07-16T15:06:00.892Z"
      },
      {
        "duration": 0,
        "start_time": "2023-07-16T15:06:00.893Z"
      },
      {
        "duration": 0,
        "start_time": "2023-07-16T15:06:00.893Z"
      },
      {
        "duration": 0,
        "start_time": "2023-07-16T15:06:00.894Z"
      },
      {
        "duration": 0,
        "start_time": "2023-07-16T15:06:00.897Z"
      },
      {
        "duration": 0,
        "start_time": "2023-07-16T15:06:00.898Z"
      },
      {
        "duration": 0,
        "start_time": "2023-07-16T15:06:00.900Z"
      },
      {
        "duration": 0,
        "start_time": "2023-07-16T15:06:00.902Z"
      },
      {
        "duration": 0,
        "start_time": "2023-07-16T15:06:00.903Z"
      },
      {
        "duration": 0,
        "start_time": "2023-07-16T15:06:00.905Z"
      },
      {
        "duration": 0,
        "start_time": "2023-07-16T15:06:00.907Z"
      },
      {
        "duration": 0,
        "start_time": "2023-07-16T15:06:00.909Z"
      },
      {
        "duration": 0,
        "start_time": "2023-07-16T15:06:00.910Z"
      },
      {
        "duration": 0,
        "start_time": "2023-07-16T15:06:00.912Z"
      },
      {
        "duration": 0,
        "start_time": "2023-07-16T15:06:00.914Z"
      },
      {
        "duration": 0,
        "start_time": "2023-07-16T15:06:00.917Z"
      },
      {
        "duration": 0,
        "start_time": "2023-07-16T15:06:00.918Z"
      },
      {
        "duration": 0,
        "start_time": "2023-07-16T15:06:00.922Z"
      },
      {
        "duration": 0,
        "start_time": "2023-07-16T15:06:00.923Z"
      },
      {
        "duration": 0,
        "start_time": "2023-07-16T15:06:00.926Z"
      },
      {
        "duration": 0,
        "start_time": "2023-07-16T15:06:00.928Z"
      },
      {
        "duration": 0,
        "start_time": "2023-07-16T15:06:00.967Z"
      },
      {
        "duration": 0,
        "start_time": "2023-07-16T15:06:00.971Z"
      },
      {
        "duration": 0,
        "start_time": "2023-07-16T15:06:00.973Z"
      },
      {
        "duration": 0,
        "start_time": "2023-07-16T15:06:00.974Z"
      },
      {
        "duration": 0,
        "start_time": "2023-07-16T15:06:00.975Z"
      },
      {
        "duration": 0,
        "start_time": "2023-07-16T15:06:00.976Z"
      },
      {
        "duration": 0,
        "start_time": "2023-07-16T15:06:00.978Z"
      },
      {
        "duration": 0,
        "start_time": "2023-07-16T15:06:00.981Z"
      },
      {
        "duration": 0,
        "start_time": "2023-07-16T15:06:00.983Z"
      },
      {
        "duration": 7,
        "start_time": "2023-07-16T15:09:03.147Z"
      },
      {
        "duration": 6,
        "start_time": "2023-07-16T15:09:57.338Z"
      },
      {
        "duration": 29,
        "start_time": "2023-07-16T15:10:07.518Z"
      },
      {
        "duration": 65,
        "start_time": "2023-07-16T15:10:20.994Z"
      },
      {
        "duration": 41,
        "start_time": "2023-07-16T15:10:30.863Z"
      },
      {
        "duration": 72,
        "start_time": "2023-07-16T15:10:40.450Z"
      },
      {
        "duration": 35,
        "start_time": "2023-07-16T15:10:47.050Z"
      },
      {
        "duration": 11,
        "start_time": "2023-07-16T15:17:56.950Z"
      },
      {
        "duration": 899,
        "start_time": "2023-07-16T15:18:07.949Z"
      },
      {
        "duration": 151,
        "start_time": "2023-07-16T15:18:08.851Z"
      },
      {
        "duration": 93,
        "start_time": "2023-07-16T15:18:09.006Z"
      },
      {
        "duration": 26,
        "start_time": "2023-07-16T15:18:09.103Z"
      },
      {
        "duration": 3296,
        "start_time": "2023-07-16T15:18:09.131Z"
      },
      {
        "duration": 159,
        "start_time": "2023-07-16T15:18:12.435Z"
      },
      {
        "duration": 15,
        "start_time": "2023-07-16T15:18:12.597Z"
      },
      {
        "duration": 11,
        "start_time": "2023-07-16T15:18:12.615Z"
      },
      {
        "duration": 29,
        "start_time": "2023-07-16T15:18:12.629Z"
      },
      {
        "duration": 49,
        "start_time": "2023-07-16T15:18:12.662Z"
      },
      {
        "duration": 31,
        "start_time": "2023-07-16T15:18:12.728Z"
      },
      {
        "duration": 90,
        "start_time": "2023-07-16T15:18:12.769Z"
      },
      {
        "duration": 66,
        "start_time": "2023-07-16T15:18:12.873Z"
      },
      {
        "duration": 36,
        "start_time": "2023-07-16T15:18:12.944Z"
      },
      {
        "duration": 26,
        "start_time": "2023-07-16T15:18:12.985Z"
      },
      {
        "duration": 34,
        "start_time": "2023-07-16T15:18:13.025Z"
      },
      {
        "duration": 41,
        "start_time": "2023-07-16T15:18:13.061Z"
      },
      {
        "duration": 38,
        "start_time": "2023-07-16T15:18:13.104Z"
      },
      {
        "duration": 28,
        "start_time": "2023-07-16T15:18:13.145Z"
      },
      {
        "duration": 20,
        "start_time": "2023-07-16T15:18:13.180Z"
      },
      {
        "duration": 23,
        "start_time": "2023-07-16T15:18:13.217Z"
      },
      {
        "duration": 5,
        "start_time": "2023-07-16T15:18:13.252Z"
      },
      {
        "duration": 13,
        "start_time": "2023-07-16T15:18:13.266Z"
      },
      {
        "duration": 18,
        "start_time": "2023-07-16T15:18:13.287Z"
      },
      {
        "duration": 16,
        "start_time": "2023-07-16T15:18:13.314Z"
      },
      {
        "duration": 23,
        "start_time": "2023-07-16T15:18:13.340Z"
      },
      {
        "duration": 663,
        "start_time": "2023-07-16T15:18:13.372Z"
      },
      {
        "duration": 52,
        "start_time": "2023-07-16T15:18:14.047Z"
      },
      {
        "duration": 153,
        "start_time": "2023-07-16T15:18:14.107Z"
      },
      {
        "duration": 261,
        "start_time": "2023-07-16T15:18:14.267Z"
      },
      {
        "duration": 332,
        "start_time": "2023-07-16T15:18:14.535Z"
      },
      {
        "duration": 374,
        "start_time": "2023-07-16T15:18:14.874Z"
      },
      {
        "duration": 607,
        "start_time": "2023-07-16T15:18:15.256Z"
      },
      {
        "duration": 240,
        "start_time": "2023-07-16T15:18:15.872Z"
      },
      {
        "duration": 264,
        "start_time": "2023-07-16T15:18:16.115Z"
      },
      {
        "duration": 271,
        "start_time": "2023-07-16T15:18:16.389Z"
      },
      {
        "duration": 182,
        "start_time": "2023-07-16T15:18:16.670Z"
      },
      {
        "duration": 273,
        "start_time": "2023-07-16T15:18:16.854Z"
      },
      {
        "duration": 227,
        "start_time": "2023-07-16T15:18:17.129Z"
      },
      {
        "duration": 429,
        "start_time": "2023-07-16T15:18:17.358Z"
      },
      {
        "duration": 349,
        "start_time": "2023-07-16T15:18:17.799Z"
      },
      {
        "duration": 232,
        "start_time": "2023-07-16T15:18:18.151Z"
      },
      {
        "duration": 396,
        "start_time": "2023-07-16T15:18:18.390Z"
      },
      {
        "duration": 305,
        "start_time": "2023-07-16T15:18:18.790Z"
      },
      {
        "duration": 6,
        "start_time": "2023-07-16T15:18:19.105Z"
      },
      {
        "duration": 12,
        "start_time": "2023-07-16T15:18:19.117Z"
      },
      {
        "duration": 26,
        "start_time": "2023-07-16T15:18:19.131Z"
      },
      {
        "duration": 250,
        "start_time": "2023-07-16T15:18:19.159Z"
      },
      {
        "duration": 215,
        "start_time": "2023-07-16T15:18:19.414Z"
      },
      {
        "duration": 4,
        "start_time": "2023-07-16T15:18:19.632Z"
      },
      {
        "duration": 207,
        "start_time": "2023-07-16T15:18:19.639Z"
      },
      {
        "duration": 255,
        "start_time": "2023-07-16T15:18:19.849Z"
      },
      {
        "duration": 238,
        "start_time": "2023-07-16T15:18:20.113Z"
      },
      {
        "duration": 394,
        "start_time": "2023-07-16T15:18:20.355Z"
      },
      {
        "duration": 1742,
        "start_time": "2023-07-16T15:18:20.752Z"
      },
      {
        "duration": 0,
        "start_time": "2023-07-16T15:18:22.503Z"
      },
      {
        "duration": 133,
        "start_time": "2023-07-16T15:19:01.818Z"
      },
      {
        "duration": 175,
        "start_time": "2023-07-16T15:19:07.128Z"
      },
      {
        "duration": 197,
        "start_time": "2023-07-16T15:19:09.525Z"
      },
      {
        "duration": 107,
        "start_time": "2023-07-16T15:19:14.895Z"
      },
      {
        "duration": 194,
        "start_time": "2023-07-16T15:20:01.596Z"
      },
      {
        "duration": 151,
        "start_time": "2023-07-16T15:20:06.296Z"
      },
      {
        "duration": 430,
        "start_time": "2023-07-16T15:21:00.258Z"
      },
      {
        "duration": 489,
        "start_time": "2023-07-16T15:21:54.849Z"
      },
      {
        "duration": 444,
        "start_time": "2023-07-16T15:23:29.657Z"
      },
      {
        "duration": 70,
        "start_time": "2023-07-16T15:23:47.743Z"
      },
      {
        "duration": 777,
        "start_time": "2023-07-16T15:23:54.502Z"
      },
      {
        "duration": 125,
        "start_time": "2023-07-16T15:23:55.281Z"
      },
      {
        "duration": 49,
        "start_time": "2023-07-16T15:23:55.412Z"
      },
      {
        "duration": 24,
        "start_time": "2023-07-16T15:23:55.467Z"
      },
      {
        "duration": 2802,
        "start_time": "2023-07-16T15:23:55.495Z"
      },
      {
        "duration": 100,
        "start_time": "2023-07-16T15:23:58.300Z"
      },
      {
        "duration": 17,
        "start_time": "2023-07-16T15:23:58.402Z"
      },
      {
        "duration": 8,
        "start_time": "2023-07-16T15:23:58.421Z"
      },
      {
        "duration": 8,
        "start_time": "2023-07-16T15:23:58.431Z"
      },
      {
        "duration": 49,
        "start_time": "2023-07-16T15:23:58.441Z"
      },
      {
        "duration": 14,
        "start_time": "2023-07-16T15:23:58.492Z"
      },
      {
        "duration": 23,
        "start_time": "2023-07-16T15:23:58.508Z"
      },
      {
        "duration": 14,
        "start_time": "2023-07-16T15:23:58.533Z"
      },
      {
        "duration": 18,
        "start_time": "2023-07-16T15:23:58.569Z"
      },
      {
        "duration": 5,
        "start_time": "2023-07-16T15:23:58.593Z"
      },
      {
        "duration": 20,
        "start_time": "2023-07-16T15:23:58.600Z"
      },
      {
        "duration": 10,
        "start_time": "2023-07-16T15:23:58.621Z"
      },
      {
        "duration": 15,
        "start_time": "2023-07-16T15:23:58.634Z"
      },
      {
        "duration": 27,
        "start_time": "2023-07-16T15:23:58.651Z"
      },
      {
        "duration": 14,
        "start_time": "2023-07-16T15:23:58.680Z"
      },
      {
        "duration": 14,
        "start_time": "2023-07-16T15:23:58.697Z"
      },
      {
        "duration": 3,
        "start_time": "2023-07-16T15:23:58.714Z"
      },
      {
        "duration": 9,
        "start_time": "2023-07-16T15:23:58.719Z"
      },
      {
        "duration": 17,
        "start_time": "2023-07-16T15:23:58.730Z"
      },
      {
        "duration": 45,
        "start_time": "2023-07-16T15:23:58.749Z"
      },
      {
        "duration": 7,
        "start_time": "2023-07-16T15:23:58.803Z"
      },
      {
        "duration": 447,
        "start_time": "2023-07-16T15:23:58.812Z"
      },
      {
        "duration": 40,
        "start_time": "2023-07-16T15:23:59.261Z"
      },
      {
        "duration": 130,
        "start_time": "2023-07-16T15:23:59.303Z"
      },
      {
        "duration": 207,
        "start_time": "2023-07-16T15:23:59.436Z"
      },
      {
        "duration": 253,
        "start_time": "2023-07-16T15:23:59.644Z"
      },
      {
        "duration": 325,
        "start_time": "2023-07-16T15:23:59.902Z"
      },
      {
        "duration": 454,
        "start_time": "2023-07-16T15:24:00.229Z"
      },
      {
        "duration": 190,
        "start_time": "2023-07-16T15:24:00.685Z"
      },
      {
        "duration": 233,
        "start_time": "2023-07-16T15:24:00.878Z"
      },
      {
        "duration": 245,
        "start_time": "2023-07-16T15:24:01.113Z"
      },
      {
        "duration": 192,
        "start_time": "2023-07-16T15:24:01.360Z"
      },
      {
        "duration": 258,
        "start_time": "2023-07-16T15:24:01.554Z"
      },
      {
        "duration": 219,
        "start_time": "2023-07-16T15:24:01.814Z"
      },
      {
        "duration": 321,
        "start_time": "2023-07-16T15:24:02.035Z"
      },
      {
        "duration": 317,
        "start_time": "2023-07-16T15:24:02.362Z"
      },
      {
        "duration": 229,
        "start_time": "2023-07-16T15:24:02.682Z"
      },
      {
        "duration": 333,
        "start_time": "2023-07-16T15:24:02.914Z"
      },
      {
        "duration": 249,
        "start_time": "2023-07-16T15:24:03.249Z"
      },
      {
        "duration": 4,
        "start_time": "2023-07-16T15:24:03.500Z"
      },
      {
        "duration": 14,
        "start_time": "2023-07-16T15:24:03.506Z"
      },
      {
        "duration": 6,
        "start_time": "2023-07-16T15:24:03.521Z"
      },
      {
        "duration": 268,
        "start_time": "2023-07-16T15:24:03.529Z"
      },
      {
        "duration": 270,
        "start_time": "2023-07-16T15:24:03.799Z"
      },
      {
        "duration": 8,
        "start_time": "2023-07-16T15:24:04.072Z"
      },
      {
        "duration": 260,
        "start_time": "2023-07-16T15:24:04.083Z"
      },
      {
        "duration": 217,
        "start_time": "2023-07-16T15:24:04.346Z"
      },
      {
        "duration": 236,
        "start_time": "2023-07-16T15:24:04.570Z"
      },
      {
        "duration": 348,
        "start_time": "2023-07-16T15:24:04.808Z"
      },
      {
        "duration": 1456,
        "start_time": "2023-07-16T15:24:05.158Z"
      },
      {
        "duration": 0,
        "start_time": "2023-07-16T15:24:06.616Z"
      },
      {
        "duration": 9,
        "start_time": "2023-07-16T15:24:46.109Z"
      },
      {
        "duration": 2820,
        "start_time": "2023-07-16T15:25:41.301Z"
      },
      {
        "duration": 2919,
        "start_time": "2023-07-16T15:26:09.660Z"
      },
      {
        "duration": 2892,
        "start_time": "2023-07-16T15:26:23.305Z"
      },
      {
        "duration": 75,
        "start_time": "2023-07-16T15:26:35.309Z"
      },
      {
        "duration": 88,
        "start_time": "2023-07-16T15:26:53.508Z"
      },
      {
        "duration": 6,
        "start_time": "2023-07-16T15:27:00.628Z"
      },
      {
        "duration": 86,
        "start_time": "2023-07-16T15:27:29.001Z"
      },
      {
        "duration": 114,
        "start_time": "2023-07-16T15:28:52.347Z"
      },
      {
        "duration": 1403,
        "start_time": "2023-07-16T15:28:59.954Z"
      },
      {
        "duration": 101,
        "start_time": "2023-07-16T15:29:30.603Z"
      },
      {
        "duration": 172,
        "start_time": "2023-07-16T15:29:36.067Z"
      },
      {
        "duration": 388,
        "start_time": "2023-07-16T15:30:23.673Z"
      },
      {
        "duration": 249,
        "start_time": "2023-07-16T15:30:45.323Z"
      },
      {
        "duration": 253,
        "start_time": "2023-07-16T15:31:09.210Z"
      },
      {
        "duration": 20,
        "start_time": "2023-07-16T15:31:29.554Z"
      },
      {
        "duration": 185,
        "start_time": "2023-07-16T15:33:09.491Z"
      },
      {
        "duration": 106,
        "start_time": "2023-07-16T15:33:44.819Z"
      },
      {
        "duration": 20,
        "start_time": "2023-07-16T15:33:49.807Z"
      },
      {
        "duration": 33,
        "start_time": "2023-07-16T15:33:54.398Z"
      },
      {
        "duration": 755,
        "start_time": "2023-07-17T07:42:08.086Z"
      },
      {
        "duration": 189,
        "start_time": "2023-07-17T07:42:08.844Z"
      },
      {
        "duration": 53,
        "start_time": "2023-07-17T07:42:09.035Z"
      },
      {
        "duration": 19,
        "start_time": "2023-07-17T07:42:09.090Z"
      },
      {
        "duration": 2313,
        "start_time": "2023-07-17T07:42:09.111Z"
      },
      {
        "duration": 105,
        "start_time": "2023-07-17T07:42:11.426Z"
      },
      {
        "duration": 11,
        "start_time": "2023-07-17T07:42:11.533Z"
      },
      {
        "duration": 43,
        "start_time": "2023-07-17T07:42:11.546Z"
      },
      {
        "duration": 43,
        "start_time": "2023-07-17T07:42:11.591Z"
      },
      {
        "duration": 53,
        "start_time": "2023-07-17T07:42:11.636Z"
      },
      {
        "duration": 25,
        "start_time": "2023-07-17T07:42:11.691Z"
      },
      {
        "duration": 26,
        "start_time": "2023-07-17T07:42:11.718Z"
      },
      {
        "duration": 33,
        "start_time": "2023-07-17T07:42:11.746Z"
      },
      {
        "duration": 15,
        "start_time": "2023-07-17T07:42:11.783Z"
      },
      {
        "duration": 17,
        "start_time": "2023-07-17T07:42:11.799Z"
      },
      {
        "duration": 32,
        "start_time": "2023-07-17T07:42:11.819Z"
      },
      {
        "duration": 29,
        "start_time": "2023-07-17T07:42:11.853Z"
      },
      {
        "duration": 8,
        "start_time": "2023-07-17T07:42:11.885Z"
      },
      {
        "duration": 9,
        "start_time": "2023-07-17T07:42:11.895Z"
      },
      {
        "duration": 1386,
        "start_time": "2023-07-17T07:42:11.905Z"
      },
      {
        "duration": 8,
        "start_time": "2023-07-17T07:42:13.293Z"
      },
      {
        "duration": 39,
        "start_time": "2023-07-17T07:42:13.302Z"
      },
      {
        "duration": 39,
        "start_time": "2023-07-17T07:42:13.343Z"
      },
      {
        "duration": 17,
        "start_time": "2023-07-17T07:42:13.384Z"
      },
      {
        "duration": 42,
        "start_time": "2023-07-17T07:42:13.403Z"
      },
      {
        "duration": 34,
        "start_time": "2023-07-17T07:42:13.447Z"
      },
      {
        "duration": 428,
        "start_time": "2023-07-17T07:42:13.483Z"
      },
      {
        "duration": 40,
        "start_time": "2023-07-17T07:42:13.913Z"
      },
      {
        "duration": 141,
        "start_time": "2023-07-17T07:42:13.967Z"
      },
      {
        "duration": 197,
        "start_time": "2023-07-17T07:42:14.111Z"
      },
      {
        "duration": 209,
        "start_time": "2023-07-17T07:42:14.310Z"
      },
      {
        "duration": 225,
        "start_time": "2023-07-17T07:42:14.521Z"
      },
      {
        "duration": 395,
        "start_time": "2023-07-17T07:42:14.748Z"
      },
      {
        "duration": 166,
        "start_time": "2023-07-17T07:42:15.145Z"
      },
      {
        "duration": 179,
        "start_time": "2023-07-17T07:42:15.313Z"
      },
      {
        "duration": 190,
        "start_time": "2023-07-17T07:42:15.493Z"
      },
      {
        "duration": 144,
        "start_time": "2023-07-17T07:42:15.685Z"
      },
      {
        "duration": 206,
        "start_time": "2023-07-17T07:42:15.831Z"
      },
      {
        "duration": 179,
        "start_time": "2023-07-17T07:42:16.039Z"
      },
      {
        "duration": 263,
        "start_time": "2023-07-17T07:42:16.220Z"
      },
      {
        "duration": 236,
        "start_time": "2023-07-17T07:42:16.490Z"
      },
      {
        "duration": 175,
        "start_time": "2023-07-17T07:42:16.728Z"
      },
      {
        "duration": 303,
        "start_time": "2023-07-17T07:42:16.905Z"
      },
      {
        "duration": 244,
        "start_time": "2023-07-17T07:42:17.210Z"
      },
      {
        "duration": 14,
        "start_time": "2023-07-17T07:42:17.456Z"
      },
      {
        "duration": 49,
        "start_time": "2023-07-17T07:42:17.471Z"
      },
      {
        "duration": 36,
        "start_time": "2023-07-17T07:42:17.522Z"
      },
      {
        "duration": 192,
        "start_time": "2023-07-17T07:42:17.560Z"
      },
      {
        "duration": 358,
        "start_time": "2023-07-17T07:42:17.754Z"
      },
      {
        "duration": 4,
        "start_time": "2023-07-17T07:42:18.114Z"
      },
      {
        "duration": 210,
        "start_time": "2023-07-17T07:42:18.119Z"
      },
      {
        "duration": 164,
        "start_time": "2023-07-17T07:42:18.330Z"
      },
      {
        "duration": 202,
        "start_time": "2023-07-17T07:42:18.497Z"
      },
      {
        "duration": 312,
        "start_time": "2023-07-17T07:42:18.701Z"
      },
      {
        "duration": 18,
        "start_time": "2023-07-17T07:42:19.015Z"
      },
      {
        "duration": 278,
        "start_time": "2023-07-17T07:42:19.035Z"
      },
      {
        "duration": 69,
        "start_time": "2023-07-17T07:43:55.692Z"
      }
    ],
    "kernelspec": {
      "display_name": "Python 3 (ipykernel)",
      "language": "python",
      "name": "python3"
    },
    "language_info": {
      "codemirror_mode": {
        "name": "ipython",
        "version": 3
      },
      "file_extension": ".py",
      "mimetype": "text/x-python",
      "name": "python",
      "nbconvert_exporter": "python",
      "pygments_lexer": "ipython3",
      "version": "3.9.5"
    },
    "toc": {
      "base_numbering": 1,
      "nav_menu": {},
      "number_sections": true,
      "sideBar": true,
      "skip_h1_title": true,
      "title_cell": "Table of Contents",
      "title_sidebar": "Contents",
      "toc_cell": false,
      "toc_position": {},
      "toc_section_display": true,
      "toc_window_display": false
    },
    "colab": {
      "provenance": []
    }
  },
  "nbformat": 4,
  "nbformat_minor": 0
}