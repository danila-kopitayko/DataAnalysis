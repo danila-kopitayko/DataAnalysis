{
  "cells": [
    {
      "cell_type": "markdown",
      "id": "bcab8e2c",
      "metadata": {
        "id": "bcab8e2c"
      },
      "source": [
        "# Исследование данных о поездках на арендованных самокатах\n",
        "\n",
        "Сервис GoFast предоставляет услуги аренды самокатов. Аренда происходит через мобильное приложение, и услугой можно воспользоваться с подпиской, так и без неё. Различия заключаются в способе оплаты: в случае с подпиской оплачивается абонентская плата и время поездки; в случае без подписки оплачивается старт и время поездки.\n",
        "\n",
        "Есть три таблицы с данными о поездках на арендованных самокатах: таблица с данными о пользователях, о поездках и о типах подписки.\n",
        "\n",
        "## Цели\n",
        " - Изучить данные, сформулировать и проверить гипотезы для развития бизнеса.\n",
        "\n",
        "\n",
        "\n",
        "## План работы\n",
        " - Загрузить таблицы с данными и изучить их\n",
        " - Проверить наличие пропусков, выбросов и дубликатов и устранить их, если они есть\n",
        " - Подготовить данные для проверки гипотез\n",
        " - Проверить гипотезы\n",
        " - Сделать вывод, являются ли пользователи с подпиской более выгодными для бизнеса или нет\n"
      ]
    },
    {
      "cell_type": "code",
      "execution_count": null,
      "id": "72576667",
      "metadata": {
        "id": "72576667"
      },
      "outputs": [],
      "source": [
        "import pandas as pd\n",
        "import numpy as np\n",
        "from scipy import stats as st\n",
        "from math import factorial\n",
        "from matplotlib import pyplot as plt"
      ]
    },
    {
      "cell_type": "markdown",
      "id": "c42cbe00",
      "metadata": {
        "id": "c42cbe00"
      },
      "source": [
        "#### Шаг 1. Загрузка данных"
      ]
    },
    {
      "cell_type": "code",
      "execution_count": null,
      "id": "783ddf2c",
      "metadata": {
        "id": "783ddf2c"
      },
      "outputs": [],
      "source": [
        "try:\n",
        "    users_data = pd.read_csv('/datasets/users_go.csv')\n",
        "    rides_data = pd.read_csv('/datasets/rides_go.csv')\n",
        "    subscription_data = pd.read_csv('/datasets/subscriptions_go.csv')\n",
        "except:\n",
        "    print('Не удалось открыть файл')"
      ]
    },
    {
      "cell_type": "code",
      "execution_count": null,
      "id": "14d2372e",
      "metadata": {
        "scrolled": true,
        "id": "14d2372e",
        "outputId": "8a8b6e22-a4fe-4371-bbe5-4fcb31fae235"
      },
      "outputs": [
        {
          "data": {
            "text/html": [
              "<div>\n",
              "<style scoped>\n",
              "    .dataframe tbody tr th:only-of-type {\n",
              "        vertical-align: middle;\n",
              "    }\n",
              "\n",
              "    .dataframe tbody tr th {\n",
              "        vertical-align: top;\n",
              "    }\n",
              "\n",
              "    .dataframe thead th {\n",
              "        text-align: right;\n",
              "    }\n",
              "</style>\n",
              "<table border=\"1\" class=\"dataframe\">\n",
              "  <thead>\n",
              "    <tr style=\"text-align: right;\">\n",
              "      <th></th>\n",
              "      <th>user_id</th>\n",
              "      <th>name</th>\n",
              "      <th>age</th>\n",
              "      <th>city</th>\n",
              "      <th>subscription_type</th>\n",
              "    </tr>\n",
              "  </thead>\n",
              "  <tbody>\n",
              "    <tr>\n",
              "      <th>0</th>\n",
              "      <td>1</td>\n",
              "      <td>Кира</td>\n",
              "      <td>22</td>\n",
              "      <td>Тюмень</td>\n",
              "      <td>ultra</td>\n",
              "    </tr>\n",
              "    <tr>\n",
              "      <th>1</th>\n",
              "      <td>2</td>\n",
              "      <td>Станислав</td>\n",
              "      <td>31</td>\n",
              "      <td>Омск</td>\n",
              "      <td>ultra</td>\n",
              "    </tr>\n",
              "    <tr>\n",
              "      <th>2</th>\n",
              "      <td>3</td>\n",
              "      <td>Алексей</td>\n",
              "      <td>20</td>\n",
              "      <td>Москва</td>\n",
              "      <td>ultra</td>\n",
              "    </tr>\n",
              "    <tr>\n",
              "      <th>3</th>\n",
              "      <td>4</td>\n",
              "      <td>Константин</td>\n",
              "      <td>26</td>\n",
              "      <td>Ростов-на-Дону</td>\n",
              "      <td>ultra</td>\n",
              "    </tr>\n",
              "    <tr>\n",
              "      <th>4</th>\n",
              "      <td>5</td>\n",
              "      <td>Адель</td>\n",
              "      <td>28</td>\n",
              "      <td>Омск</td>\n",
              "      <td>ultra</td>\n",
              "    </tr>\n",
              "  </tbody>\n",
              "</table>\n",
              "</div>"
            ],
            "text/plain": [
              "   user_id        name  age            city subscription_type\n",
              "0        1        Кира   22          Тюмень             ultra\n",
              "1        2   Станислав   31            Омск             ultra\n",
              "2        3     Алексей   20          Москва             ultra\n",
              "3        4  Константин   26  Ростов-на-Дону             ultra\n",
              "4        5       Адель   28            Омск             ultra"
            ]
          },
          "metadata": {},
          "output_type": "display_data"
        },
        {
          "name": "stdout",
          "output_type": "stream",
          "text": [
            "<class 'pandas.core.frame.DataFrame'>\n",
            "RangeIndex: 1565 entries, 0 to 1564\n",
            "Data columns (total 5 columns):\n",
            " #   Column             Non-Null Count  Dtype \n",
            "---  ------             --------------  ----- \n",
            " 0   user_id            1565 non-null   int64 \n",
            " 1   name               1565 non-null   object\n",
            " 2   age                1565 non-null   int64 \n",
            " 3   city               1565 non-null   object\n",
            " 4   subscription_type  1565 non-null   object\n",
            "dtypes: int64(2), object(3)\n",
            "memory usage: 61.3+ KB\n"
          ]
        }
      ],
      "source": [
        "display(users_data.head())\n",
        "\n",
        "users_data.info()"
      ]
    },
    {
      "cell_type": "code",
      "execution_count": null,
      "id": "c90f598e",
      "metadata": {
        "scrolled": true,
        "id": "c90f598e",
        "outputId": "50571c72-c51b-4e99-b2b1-efe0432f0384"
      },
      "outputs": [
        {
          "data": {
            "text/html": [
              "<div>\n",
              "<style scoped>\n",
              "    .dataframe tbody tr th:only-of-type {\n",
              "        vertical-align: middle;\n",
              "    }\n",
              "\n",
              "    .dataframe tbody tr th {\n",
              "        vertical-align: top;\n",
              "    }\n",
              "\n",
              "    .dataframe thead th {\n",
              "        text-align: right;\n",
              "    }\n",
              "</style>\n",
              "<table border=\"1\" class=\"dataframe\">\n",
              "  <thead>\n",
              "    <tr style=\"text-align: right;\">\n",
              "      <th></th>\n",
              "      <th>user_id</th>\n",
              "      <th>distance</th>\n",
              "      <th>duration</th>\n",
              "      <th>date</th>\n",
              "    </tr>\n",
              "  </thead>\n",
              "  <tbody>\n",
              "    <tr>\n",
              "      <th>0</th>\n",
              "      <td>1</td>\n",
              "      <td>4409.919140</td>\n",
              "      <td>25.599769</td>\n",
              "      <td>2021-01-01</td>\n",
              "    </tr>\n",
              "    <tr>\n",
              "      <th>1</th>\n",
              "      <td>1</td>\n",
              "      <td>2617.592153</td>\n",
              "      <td>15.816871</td>\n",
              "      <td>2021-01-18</td>\n",
              "    </tr>\n",
              "    <tr>\n",
              "      <th>2</th>\n",
              "      <td>1</td>\n",
              "      <td>754.159807</td>\n",
              "      <td>6.232113</td>\n",
              "      <td>2021-04-20</td>\n",
              "    </tr>\n",
              "    <tr>\n",
              "      <th>3</th>\n",
              "      <td>1</td>\n",
              "      <td>2694.783254</td>\n",
              "      <td>18.511000</td>\n",
              "      <td>2021-08-11</td>\n",
              "    </tr>\n",
              "    <tr>\n",
              "      <th>4</th>\n",
              "      <td>1</td>\n",
              "      <td>4028.687306</td>\n",
              "      <td>26.265803</td>\n",
              "      <td>2021-08-28</td>\n",
              "    </tr>\n",
              "  </tbody>\n",
              "</table>\n",
              "</div>"
            ],
            "text/plain": [
              "   user_id     distance   duration        date\n",
              "0        1  4409.919140  25.599769  2021-01-01\n",
              "1        1  2617.592153  15.816871  2021-01-18\n",
              "2        1   754.159807   6.232113  2021-04-20\n",
              "3        1  2694.783254  18.511000  2021-08-11\n",
              "4        1  4028.687306  26.265803  2021-08-28"
            ]
          },
          "metadata": {},
          "output_type": "display_data"
        },
        {
          "name": "stdout",
          "output_type": "stream",
          "text": [
            "<class 'pandas.core.frame.DataFrame'>\n",
            "RangeIndex: 18068 entries, 0 to 18067\n",
            "Data columns (total 4 columns):\n",
            " #   Column    Non-Null Count  Dtype  \n",
            "---  ------    --------------  -----  \n",
            " 0   user_id   18068 non-null  int64  \n",
            " 1   distance  18068 non-null  float64\n",
            " 2   duration  18068 non-null  float64\n",
            " 3   date      18068 non-null  object \n",
            "dtypes: float64(2), int64(1), object(1)\n",
            "memory usage: 564.8+ KB\n"
          ]
        }
      ],
      "source": [
        "display(rides_data.head())\n",
        "\n",
        "rides_data.info()"
      ]
    },
    {
      "cell_type": "code",
      "execution_count": null,
      "id": "ed2e19af",
      "metadata": {
        "id": "ed2e19af",
        "outputId": "de6c41fb-b1d6-4c7f-e841-6c95e79b8bd1"
      },
      "outputs": [
        {
          "data": {
            "text/html": [
              "<div>\n",
              "<style scoped>\n",
              "    .dataframe tbody tr th:only-of-type {\n",
              "        vertical-align: middle;\n",
              "    }\n",
              "\n",
              "    .dataframe tbody tr th {\n",
              "        vertical-align: top;\n",
              "    }\n",
              "\n",
              "    .dataframe thead th {\n",
              "        text-align: right;\n",
              "    }\n",
              "</style>\n",
              "<table border=\"1\" class=\"dataframe\">\n",
              "  <thead>\n",
              "    <tr style=\"text-align: right;\">\n",
              "      <th></th>\n",
              "      <th>subscription_type</th>\n",
              "      <th>minute_price</th>\n",
              "      <th>start_ride_price</th>\n",
              "      <th>subscription_fee</th>\n",
              "    </tr>\n",
              "  </thead>\n",
              "  <tbody>\n",
              "    <tr>\n",
              "      <th>0</th>\n",
              "      <td>free</td>\n",
              "      <td>8</td>\n",
              "      <td>50</td>\n",
              "      <td>0</td>\n",
              "    </tr>\n",
              "    <tr>\n",
              "      <th>1</th>\n",
              "      <td>ultra</td>\n",
              "      <td>6</td>\n",
              "      <td>0</td>\n",
              "      <td>199</td>\n",
              "    </tr>\n",
              "  </tbody>\n",
              "</table>\n",
              "</div>"
            ],
            "text/plain": [
              "  subscription_type  minute_price  start_ride_price  subscription_fee\n",
              "0              free             8                50                 0\n",
              "1             ultra             6                 0               199"
            ]
          },
          "metadata": {},
          "output_type": "display_data"
        },
        {
          "name": "stdout",
          "output_type": "stream",
          "text": [
            "<class 'pandas.core.frame.DataFrame'>\n",
            "RangeIndex: 2 entries, 0 to 1\n",
            "Data columns (total 4 columns):\n",
            " #   Column             Non-Null Count  Dtype \n",
            "---  ------             --------------  ----- \n",
            " 0   subscription_type  2 non-null      object\n",
            " 1   minute_price       2 non-null      int64 \n",
            " 2   start_ride_price   2 non-null      int64 \n",
            " 3   subscription_fee   2 non-null      int64 \n",
            "dtypes: int64(3), object(1)\n",
            "memory usage: 192.0+ bytes\n"
          ]
        }
      ],
      "source": [
        "display(subscription_data.head())\n",
        "\n",
        "subscription_data.info()"
      ]
    },
    {
      "cell_type": "markdown",
      "id": "fce002a1",
      "metadata": {
        "id": "fce002a1"
      },
      "source": [
        "Дано три таблицы с данными: users_data, rides_data, subscription_data.\n",
        "\n",
        "В датафрейме users_data находятся данные о возрасте, городе и типе подписки пользователей, а также их id и имена. Всего в users_data 1565 строк, данные об id пользователей и их возрасте типа int.\n",
        "\n",
        "Во втором датафрейме rides_data видим данные о расстоянии, пройденном за одну поездку, времени одной поездки и дате поездки, и также id пользователя, состоит из 18068 строк. Данные о расстоянии и времени поездки типа float, дата типа object.\n",
        "\n",
        "В третьем датафрейме subscription_data данные о типе подписки  ценах на старт, абонентскую плату и минуту поездки. Цена за начало поездки для пользователей с подпиской принята за ноль, то же самое с ценой за абонентскую плату. Состоит из двух строк."
      ]
    },
    {
      "cell_type": "markdown",
      "id": "e95ebca7",
      "metadata": {
        "id": "e95ebca7"
      },
      "source": [
        "#### Шаг 2. Предобработка данных"
      ]
    },
    {
      "cell_type": "markdown",
      "id": "2108589d",
      "metadata": {
        "id": "2108589d"
      },
      "source": [
        "Приведём столбец date в датафрейме rides_data к типу даты pandas и добавим новый столбец с номером месяца."
      ]
    },
    {
      "cell_type": "code",
      "execution_count": null,
      "id": "af6d202c",
      "metadata": {
        "scrolled": true,
        "id": "af6d202c"
      },
      "outputs": [],
      "source": [
        "rides_data['date'] = pd.to_datetime(rides_data['date'],format='%Y-%m-%dT')"
      ]
    },
    {
      "cell_type": "code",
      "execution_count": null,
      "id": "6ca5ecd5",
      "metadata": {
        "scrolled": true,
        "id": "6ca5ecd5",
        "outputId": "6e07816c-636e-441d-8946-4684f6cb2f4f"
      },
      "outputs": [
        {
          "name": "stdout",
          "output_type": "stream",
          "text": [
            "   user_id     distance   duration       date  month\n",
            "0        1  4409.919140  25.599769 2021-01-01      1\n",
            "1        1  2617.592153  15.816871 2021-01-18      1\n",
            "2        1   754.159807   6.232113 2021-04-20      4\n",
            "3        1  2694.783254  18.511000 2021-08-11      8\n",
            "4        1  4028.687306  26.265803 2021-08-28      8\n"
          ]
        }
      ],
      "source": [
        "rides_data['month'] = rides_data['date'].dt.month\n",
        "print(rides_data.head())"
      ]
    },
    {
      "cell_type": "markdown",
      "id": "2c86bafc",
      "metadata": {
        "id": "2c86bafc"
      },
      "source": [
        "Проверим, за какой период данные."
      ]
    },
    {
      "cell_type": "code",
      "execution_count": null,
      "id": "115e8e69",
      "metadata": {
        "id": "115e8e69",
        "outputId": "44670661-fe0a-4dba-cd37-07ce9fb094a9"
      },
      "outputs": [
        {
          "name": "stdout",
          "output_type": "stream",
          "text": [
            "[2021]\n",
            "[ 1  2  3  4  5  6  7  8  9 10 11 12]\n"
          ]
        }
      ],
      "source": [
        "print(rides_data['date'].dt.year.unique())\n",
        "\n",
        "print(rides_data['date'].dt.month.sort_values().unique())"
      ]
    },
    {
      "cell_type": "markdown",
      "id": "26d1d2c6",
      "metadata": {
        "id": "26d1d2c6"
      },
      "source": [
        "Данные собраны за весь 2021-ый год."
      ]
    },
    {
      "cell_type": "markdown",
      "id": "d775dca6",
      "metadata": {
        "id": "d775dca6"
      },
      "source": [
        "Проверим данные на наличие пропусков и дубликатов."
      ]
    },
    {
      "cell_type": "code",
      "execution_count": null,
      "id": "9bd45cc2",
      "metadata": {
        "scrolled": true,
        "id": "9bd45cc2",
        "outputId": "b24dce3f-06eb-4631-f1ec-d5ddca0be4d2"
      },
      "outputs": [
        {
          "data": {
            "text/plain": [
              "user_id              0\n",
              "name                 0\n",
              "age                  0\n",
              "city                 0\n",
              "subscription_type    0\n",
              "dtype: int64"
            ]
          },
          "execution_count": 9,
          "metadata": {},
          "output_type": "execute_result"
        }
      ],
      "source": [
        "users_data.isna().sum()"
      ]
    },
    {
      "cell_type": "code",
      "execution_count": null,
      "id": "58e484c6",
      "metadata": {
        "id": "58e484c6",
        "outputId": "2f6a214e-b47f-469f-bb50-0e4ab9bbc6a1"
      },
      "outputs": [
        {
          "data": {
            "text/plain": [
              "user_id     0\n",
              "distance    0\n",
              "duration    0\n",
              "date        0\n",
              "month       0\n",
              "dtype: int64"
            ]
          },
          "execution_count": 10,
          "metadata": {},
          "output_type": "execute_result"
        }
      ],
      "source": [
        "rides_data.isna().sum()"
      ]
    },
    {
      "cell_type": "code",
      "execution_count": null,
      "id": "d30a0005",
      "metadata": {
        "id": "d30a0005",
        "outputId": "d6807210-ef72-46a4-d04e-44211ac9575d"
      },
      "outputs": [
        {
          "data": {
            "text/plain": [
              "subscription_type    0\n",
              "minute_price         0\n",
              "start_ride_price     0\n",
              "subscription_fee     0\n",
              "dtype: int64"
            ]
          },
          "execution_count": 11,
          "metadata": {},
          "output_type": "execute_result"
        }
      ],
      "source": [
        "subscription_data.isna().sum()"
      ]
    },
    {
      "cell_type": "markdown",
      "id": "4e37106f",
      "metadata": {
        "id": "4e37106f"
      },
      "source": [
        "Пропусков ни в каком датафрейме нет."
      ]
    },
    {
      "cell_type": "code",
      "execution_count": null,
      "id": "6764a94d",
      "metadata": {
        "scrolled": false,
        "id": "6764a94d",
        "outputId": "83c87249-74f8-4069-86b6-21ffc74b6dca"
      },
      "outputs": [
        {
          "data": {
            "text/plain": [
              "array(['Кира', 'Станислав', 'Алексей', 'Константин', 'Адель', 'Регина',\n",
              "       'Игорь', 'Юрий', 'Ян', 'Валерий', 'Агата', 'Марк', 'Ева',\n",
              "       'Антонина', 'Валерия', 'Амалия', 'Даниил', 'Аделина', 'Святогор',\n",
              "       'Борис', 'Вероника', 'Ростислав', 'Назар', 'Эдуард', 'Василий',\n",
              "       'Денис', 'Тамара', 'Николай', 'Эвелина', 'Федор', 'Руслан', 'Иван',\n",
              "       'Любовь', 'Ярослава', 'Майя', 'Ильдар', 'Данила', 'Нина',\n",
              "       'Стефания', 'Ясмина', 'Дмитрий', 'Александр', 'Одиссей', 'Арсений',\n",
              "       'Алла', 'Таисия', 'Максим', 'Юлиана', 'Павел', 'Карина', 'Алиса',\n",
              "       'Лидия', 'Рамиль', 'Родион', 'Ника', 'Оксана', 'Анастасия',\n",
              "       'Маргарита', 'Вера', 'Тимур', 'Никита', 'Лев', 'Влад', 'Артур',\n",
              "       'Анна', 'Ольга', 'Вячеслав', 'Ксения', 'Виталина', 'Владислав',\n",
              "       'Тамерлан', 'Амина', 'Вадим', 'Олеся', 'Зарина', 'Егор', 'Гордей',\n",
              "       'Лилия', 'Святослав', 'Роберт', 'Амир', 'Влада', 'Богдан',\n",
              "       'Полина', 'Марат', 'Елисей', 'Макар', 'Алина', 'Глеб', 'Андрей',\n",
              "       'Альбина', 'Людмила', 'Марсель', 'Милена', 'Диана', 'Дарина',\n",
              "       'Данил', 'Артемий', 'Лиана', 'Альберт', 'Герман', 'Жанна', 'Нелли',\n",
              "       'Евгения', 'Ариана', 'Самира', 'Захар', 'Эльвира', 'Екатерина',\n",
              "       'Инна', 'Демид', 'Яна', 'Михаил', 'Татьяна', 'Степан', 'Мелания',\n",
              "       'Тимофей', 'Ирина', 'Анжелика', 'Владислава', 'Елизавета',\n",
              "       'Мадина', 'Снежана', 'Даниэль', 'Рустам', 'Каролина', 'Ангелина',\n",
              "       'Владимир', 'Виктория', 'Валентина', 'Семен', 'Арина', 'Лариса',\n",
              "       'Есения', 'Галина', 'Кирилл', 'Игнат', 'Виталий', 'Эмилия',\n",
              "       'Виолетта', 'Яромир', 'Софья', 'Мирослава', 'Евгений', 'Варвара',\n",
              "       'Платон', 'Наталия', 'Анатолий', 'Кристина', 'Всеволод', 'Дарья',\n",
              "       'Наташа', 'Мария', 'Марина', 'Василиса', 'Юлия', 'Илья', 'Злата',\n",
              "       'Роман', 'Наталья', 'Элина', 'Арсен', 'Айдар', 'Алия', 'Виктор',\n",
              "       'Мирон', 'Ульяна', 'Георгий', 'Петр', 'Эльмира', 'Олег', 'Дамир',\n",
              "       'Самир', 'Ярослав', 'Камилла', 'Сергей', 'Эмиль', 'Радмир',\n",
              "       'Савелий', 'Елена', 'Антон', 'Мирослав', 'София', 'Тихон', 'Артём',\n",
              "       'Давид', 'Григорий', 'Алёна', 'Светлана', 'Леонид', 'Александра',\n",
              "       'Василина', 'Милана', 'Матвей'], dtype=object)"
            ]
          },
          "execution_count": 12,
          "metadata": {},
          "output_type": "execute_result"
        }
      ],
      "source": [
        "users_data['name'].unique()"
      ]
    },
    {
      "cell_type": "code",
      "execution_count": null,
      "id": "6b966cfd",
      "metadata": {
        "scrolled": true,
        "id": "6b966cfd",
        "outputId": "85a40e84-2f7d-42a4-8daa-060cf14c5288"
      },
      "outputs": [
        {
          "data": {
            "text/plain": [
              "array(['Тюмень', 'Омск', 'Москва', 'Ростов-на-Дону', 'Краснодар',\n",
              "       'Пятигорск', 'Екатеринбург', 'Сочи'], dtype=object)"
            ]
          },
          "execution_count": 13,
          "metadata": {},
          "output_type": "execute_result"
        }
      ],
      "source": [
        "users_data['city'].unique()"
      ]
    },
    {
      "cell_type": "markdown",
      "id": "a2516312",
      "metadata": {
        "id": "a2516312"
      },
      "source": [
        "Дубликатов нет."
      ]
    },
    {
      "cell_type": "code",
      "execution_count": null,
      "id": "99fc4015",
      "metadata": {
        "id": "99fc4015",
        "outputId": "66b1d1b3-d318-4eac-af04-c23c64c2725e"
      },
      "outputs": [
        {
          "data": {
            "text/plain": [
              "array([   1,    2,    3, ..., 1532, 1533, 1534])"
            ]
          },
          "execution_count": 14,
          "metadata": {},
          "output_type": "execute_result"
        }
      ],
      "source": [
        "users_data['user_id'].unique()"
      ]
    },
    {
      "cell_type": "code",
      "execution_count": null,
      "id": "9e69e5db",
      "metadata": {
        "id": "9e69e5db",
        "outputId": "f2df01e6-4196-4836-f761-fea619e76ce2"
      },
      "outputs": [
        {
          "name": "stdout",
          "output_type": "stream",
          "text": [
            "<class 'pandas.core.frame.DataFrame'>\n",
            "RangeIndex: 1565 entries, 0 to 1564\n",
            "Data columns (total 5 columns):\n",
            " #   Column             Non-Null Count  Dtype \n",
            "---  ------             --------------  ----- \n",
            " 0   user_id            1565 non-null   int64 \n",
            " 1   name               1565 non-null   object\n",
            " 2   age                1565 non-null   int64 \n",
            " 3   city               1565 non-null   object\n",
            " 4   subscription_type  1565 non-null   object\n",
            "dtypes: int64(2), object(3)\n",
            "memory usage: 61.3+ KB\n"
          ]
        },
        {
          "data": {
            "text/plain": [
              "array([   1,    2,    3, ..., 1532, 1533, 1534])"
            ]
          },
          "execution_count": 15,
          "metadata": {},
          "output_type": "execute_result"
        }
      ],
      "source": [
        "users_data.info()\n",
        "users_data['user_id'].unique()"
      ]
    },
    {
      "cell_type": "code",
      "execution_count": null,
      "id": "16db9fe2",
      "metadata": {
        "id": "16db9fe2",
        "outputId": "7be206cd-96eb-47f8-bc0e-07af2e3b6668"
      },
      "outputs": [
        {
          "name": "stdout",
          "output_type": "stream",
          "text": [
            "31\n"
          ]
        },
        {
          "data": {
            "text/html": [
              "<div>\n",
              "<style scoped>\n",
              "    .dataframe tbody tr th:only-of-type {\n",
              "        vertical-align: middle;\n",
              "    }\n",
              "\n",
              "    .dataframe tbody tr th {\n",
              "        vertical-align: top;\n",
              "    }\n",
              "\n",
              "    .dataframe thead th {\n",
              "        text-align: right;\n",
              "    }\n",
              "</style>\n",
              "<table border=\"1\" class=\"dataframe\">\n",
              "  <thead>\n",
              "    <tr style=\"text-align: right;\">\n",
              "      <th></th>\n",
              "      <th>user_id</th>\n",
              "      <th>name</th>\n",
              "      <th>age</th>\n",
              "      <th>city</th>\n",
              "      <th>subscription_type</th>\n",
              "    </tr>\n",
              "  </thead>\n",
              "  <tbody>\n",
              "    <tr>\n",
              "      <th>1534</th>\n",
              "      <td>293</td>\n",
              "      <td>Агата</td>\n",
              "      <td>26</td>\n",
              "      <td>Краснодар</td>\n",
              "      <td>ultra</td>\n",
              "    </tr>\n",
              "    <tr>\n",
              "      <th>1535</th>\n",
              "      <td>16</td>\n",
              "      <td>Амалия</td>\n",
              "      <td>27</td>\n",
              "      <td>Краснодар</td>\n",
              "      <td>ultra</td>\n",
              "    </tr>\n",
              "    <tr>\n",
              "      <th>1536</th>\n",
              "      <td>909</td>\n",
              "      <td>Константин</td>\n",
              "      <td>20</td>\n",
              "      <td>Екатеринбург</td>\n",
              "      <td>free</td>\n",
              "    </tr>\n",
              "    <tr>\n",
              "      <th>1537</th>\n",
              "      <td>403</td>\n",
              "      <td>Полина</td>\n",
              "      <td>19</td>\n",
              "      <td>Сочи</td>\n",
              "      <td>ultra</td>\n",
              "    </tr>\n",
              "    <tr>\n",
              "      <th>1538</th>\n",
              "      <td>908</td>\n",
              "      <td>Рустам</td>\n",
              "      <td>30</td>\n",
              "      <td>Тюмень</td>\n",
              "      <td>free</td>\n",
              "    </tr>\n",
              "    <tr>\n",
              "      <th>1539</th>\n",
              "      <td>43</td>\n",
              "      <td>Стефания</td>\n",
              "      <td>22</td>\n",
              "      <td>Омск</td>\n",
              "      <td>ultra</td>\n",
              "    </tr>\n",
              "    <tr>\n",
              "      <th>1540</th>\n",
              "      <td>127</td>\n",
              "      <td>Павел</td>\n",
              "      <td>25</td>\n",
              "      <td>Пятигорск</td>\n",
              "      <td>ultra</td>\n",
              "    </tr>\n",
              "    <tr>\n",
              "      <th>1541</th>\n",
              "      <td>659</td>\n",
              "      <td>Злата</td>\n",
              "      <td>27</td>\n",
              "      <td>Ростов-на-Дону</td>\n",
              "      <td>ultra</td>\n",
              "    </tr>\n",
              "    <tr>\n",
              "      <th>1542</th>\n",
              "      <td>204</td>\n",
              "      <td>Руслан</td>\n",
              "      <td>30</td>\n",
              "      <td>Пятигорск</td>\n",
              "      <td>ultra</td>\n",
              "    </tr>\n",
              "    <tr>\n",
              "      <th>1543</th>\n",
              "      <td>153</td>\n",
              "      <td>Герман</td>\n",
              "      <td>23</td>\n",
              "      <td>Москва</td>\n",
              "      <td>ultra</td>\n",
              "    </tr>\n",
              "    <tr>\n",
              "      <th>1544</th>\n",
              "      <td>1245</td>\n",
              "      <td>Регина</td>\n",
              "      <td>27</td>\n",
              "      <td>Пятигорск</td>\n",
              "      <td>free</td>\n",
              "    </tr>\n",
              "    <tr>\n",
              "      <th>1545</th>\n",
              "      <td>807</td>\n",
              "      <td>Александр</td>\n",
              "      <td>28</td>\n",
              "      <td>Екатеринбург</td>\n",
              "      <td>free</td>\n",
              "    </tr>\n",
              "    <tr>\n",
              "      <th>1546</th>\n",
              "      <td>924</td>\n",
              "      <td>Мария</td>\n",
              "      <td>23</td>\n",
              "      <td>Пятигорск</td>\n",
              "      <td>free</td>\n",
              "    </tr>\n",
              "    <tr>\n",
              "      <th>1547</th>\n",
              "      <td>635</td>\n",
              "      <td>Герман</td>\n",
              "      <td>21</td>\n",
              "      <td>Москва</td>\n",
              "      <td>ultra</td>\n",
              "    </tr>\n",
              "    <tr>\n",
              "      <th>1548</th>\n",
              "      <td>136</td>\n",
              "      <td>Марсель</td>\n",
              "      <td>25</td>\n",
              "      <td>Тюмень</td>\n",
              "      <td>ultra</td>\n",
              "    </tr>\n",
              "    <tr>\n",
              "      <th>1549</th>\n",
              "      <td>108</td>\n",
              "      <td>Влада</td>\n",
              "      <td>29</td>\n",
              "      <td>Тюмень</td>\n",
              "      <td>ultra</td>\n",
              "    </tr>\n",
              "    <tr>\n",
              "      <th>1550</th>\n",
              "      <td>737</td>\n",
              "      <td>Мелания</td>\n",
              "      <td>27</td>\n",
              "      <td>Ростов-на-Дону</td>\n",
              "      <td>free</td>\n",
              "    </tr>\n",
              "    <tr>\n",
              "      <th>1551</th>\n",
              "      <td>666</td>\n",
              "      <td>Зарина</td>\n",
              "      <td>29</td>\n",
              "      <td>Москва</td>\n",
              "      <td>ultra</td>\n",
              "    </tr>\n",
              "    <tr>\n",
              "      <th>1552</th>\n",
              "      <td>297</td>\n",
              "      <td>Егор</td>\n",
              "      <td>33</td>\n",
              "      <td>Пятигорск</td>\n",
              "      <td>ultra</td>\n",
              "    </tr>\n",
              "    <tr>\n",
              "      <th>1553</th>\n",
              "      <td>121</td>\n",
              "      <td>Алина</td>\n",
              "      <td>25</td>\n",
              "      <td>Пятигорск</td>\n",
              "      <td>ultra</td>\n",
              "    </tr>\n",
              "    <tr>\n",
              "      <th>1554</th>\n",
              "      <td>1198</td>\n",
              "      <td>Демид</td>\n",
              "      <td>29</td>\n",
              "      <td>Ростов-на-Дону</td>\n",
              "      <td>free</td>\n",
              "    </tr>\n",
              "    <tr>\n",
              "      <th>1555</th>\n",
              "      <td>72</td>\n",
              "      <td>Никита</td>\n",
              "      <td>25</td>\n",
              "      <td>Москва</td>\n",
              "      <td>ultra</td>\n",
              "    </tr>\n",
              "    <tr>\n",
              "      <th>1556</th>\n",
              "      <td>422</td>\n",
              "      <td>Кирилл</td>\n",
              "      <td>27</td>\n",
              "      <td>Сочи</td>\n",
              "      <td>ultra</td>\n",
              "    </tr>\n",
              "    <tr>\n",
              "      <th>1557</th>\n",
              "      <td>611</td>\n",
              "      <td>Владимир</td>\n",
              "      <td>28</td>\n",
              "      <td>Омск</td>\n",
              "      <td>ultra</td>\n",
              "    </tr>\n",
              "    <tr>\n",
              "      <th>1558</th>\n",
              "      <td>1237</td>\n",
              "      <td>Евгения</td>\n",
              "      <td>23</td>\n",
              "      <td>Тюмень</td>\n",
              "      <td>free</td>\n",
              "    </tr>\n",
              "    <tr>\n",
              "      <th>1559</th>\n",
              "      <td>209</td>\n",
              "      <td>Андрей</td>\n",
              "      <td>23</td>\n",
              "      <td>Омск</td>\n",
              "      <td>ultra</td>\n",
              "    </tr>\n",
              "    <tr>\n",
              "      <th>1560</th>\n",
              "      <td>829</td>\n",
              "      <td>Федор</td>\n",
              "      <td>29</td>\n",
              "      <td>Пятигорск</td>\n",
              "      <td>free</td>\n",
              "    </tr>\n",
              "    <tr>\n",
              "      <th>1561</th>\n",
              "      <td>809</td>\n",
              "      <td>Юрий</td>\n",
              "      <td>26</td>\n",
              "      <td>Сочи</td>\n",
              "      <td>free</td>\n",
              "    </tr>\n",
              "    <tr>\n",
              "      <th>1562</th>\n",
              "      <td>307</td>\n",
              "      <td>Ясмина</td>\n",
              "      <td>19</td>\n",
              "      <td>Краснодар</td>\n",
              "      <td>ultra</td>\n",
              "    </tr>\n",
              "    <tr>\n",
              "      <th>1563</th>\n",
              "      <td>47</td>\n",
              "      <td>Юрий</td>\n",
              "      <td>28</td>\n",
              "      <td>Тюмень</td>\n",
              "      <td>ultra</td>\n",
              "    </tr>\n",
              "    <tr>\n",
              "      <th>1564</th>\n",
              "      <td>1045</td>\n",
              "      <td>Артемий</td>\n",
              "      <td>28</td>\n",
              "      <td>Ростов-на-Дону</td>\n",
              "      <td>free</td>\n",
              "    </tr>\n",
              "  </tbody>\n",
              "</table>\n",
              "</div>"
            ],
            "text/plain": [
              "      user_id        name  age            city subscription_type\n",
              "1534      293       Агата   26       Краснодар             ultra\n",
              "1535       16      Амалия   27       Краснодар             ultra\n",
              "1536      909  Константин   20    Екатеринбург              free\n",
              "1537      403      Полина   19            Сочи             ultra\n",
              "1538      908      Рустам   30          Тюмень              free\n",
              "1539       43    Стефания   22            Омск             ultra\n",
              "1540      127       Павел   25       Пятигорск             ultra\n",
              "1541      659       Злата   27  Ростов-на-Дону             ultra\n",
              "1542      204      Руслан   30       Пятигорск             ultra\n",
              "1543      153      Герман   23          Москва             ultra\n",
              "1544     1245      Регина   27       Пятигорск              free\n",
              "1545      807   Александр   28    Екатеринбург              free\n",
              "1546      924       Мария   23       Пятигорск              free\n",
              "1547      635      Герман   21          Москва             ultra\n",
              "1548      136     Марсель   25          Тюмень             ultra\n",
              "1549      108       Влада   29          Тюмень             ultra\n",
              "1550      737     Мелания   27  Ростов-на-Дону              free\n",
              "1551      666      Зарина   29          Москва             ultra\n",
              "1552      297        Егор   33       Пятигорск             ultra\n",
              "1553      121       Алина   25       Пятигорск             ultra\n",
              "1554     1198       Демид   29  Ростов-на-Дону              free\n",
              "1555       72      Никита   25          Москва             ultra\n",
              "1556      422      Кирилл   27            Сочи             ultra\n",
              "1557      611    Владимир   28            Омск             ultra\n",
              "1558     1237     Евгения   23          Тюмень              free\n",
              "1559      209      Андрей   23            Омск             ultra\n",
              "1560      829       Федор   29       Пятигорск              free\n",
              "1561      809        Юрий   26            Сочи              free\n",
              "1562      307      Ясмина   19       Краснодар             ultra\n",
              "1563       47        Юрий   28          Тюмень             ultra\n",
              "1564     1045     Артемий   28  Ростов-на-Дону              free"
            ]
          },
          "metadata": {},
          "output_type": "display_data"
        }
      ],
      "source": [
        "print(users_data.duplicated().sum())\n",
        "\n",
        "display(users_data[users_data['user_id'].duplicated()] )"
      ]
    },
    {
      "cell_type": "code",
      "execution_count": null,
      "id": "b0725805",
      "metadata": {
        "id": "b0725805",
        "outputId": "849db6ea-ca08-442a-ef3b-dc40aa68ca00"
      },
      "outputs": [
        {
          "name": "stdout",
          "output_type": "stream",
          "text": [
            "0\n"
          ]
        }
      ],
      "source": [
        "users_data = users_data.drop_duplicates().reset_index(drop=True)\n",
        "\n",
        "print(users_data.duplicated().sum())"
      ]
    },
    {
      "cell_type": "code",
      "execution_count": null,
      "id": "ab2be18a",
      "metadata": {
        "id": "ab2be18a",
        "outputId": "57f670dd-3554-4daa-849f-a4d9169fc6e0"
      },
      "outputs": [
        {
          "name": "stdout",
          "output_type": "stream",
          "text": [
            "0\n"
          ]
        }
      ],
      "source": [
        "print(rides_data.duplicated().sum())"
      ]
    },
    {
      "cell_type": "code",
      "execution_count": null,
      "id": "b7d86562",
      "metadata": {
        "id": "b7d86562",
        "outputId": "f17c4180-784f-41a2-cad6-074053dced05"
      },
      "outputs": [
        {
          "name": "stdout",
          "output_type": "stream",
          "text": [
            "0\n"
          ]
        }
      ],
      "source": [
        "print(subscription_data.duplicated().sum())"
      ]
    },
    {
      "cell_type": "markdown",
      "id": "7b0a67aa",
      "metadata": {
        "id": "7b0a67aa"
      },
      "source": [
        "В ходе предобработки данных были выявлены и удалены явные дубликаты. Неявных дубликатов и пропущенных значений не было найдено ни в одной таблице с данными."
      ]
    },
    {
      "cell_type": "markdown",
      "id": "212593c7",
      "metadata": {
        "id": "212593c7"
      },
      "source": [
        "#### Шаг 3. Исследовательский анализ данных"
      ]
    },
    {
      "cell_type": "code",
      "execution_count": null,
      "id": "e3a4274c",
      "metadata": {
        "scrolled": false,
        "id": "e3a4274c",
        "outputId": "f95c6ee8-1992-4836-b09f-a9e10195fc96"
      },
      "outputs": [
        {
          "data": {
            "text/plain": [
              "Пятигорск         219\n",
              "Екатеринбург      204\n",
              "Ростов-на-Дону    198\n",
              "Краснодар         193\n",
              "Сочи              189\n",
              "Омск              183\n",
              "Тюмень            180\n",
              "Москва            168\n",
              "Name: city, dtype: int64"
            ]
          },
          "execution_count": 20,
          "metadata": {},
          "output_type": "execute_result"
        }
      ],
      "source": [
        "users_data['city'].value_counts()"
      ]
    },
    {
      "cell_type": "code",
      "execution_count": null,
      "id": "b867817e",
      "metadata": {
        "id": "b867817e",
        "outputId": "bf00fda6-65bb-4695-a9ed-c4d57d36da84"
      },
      "outputs": [
        {
          "data": {
            "text/plain": [
              "<AxesSubplot:>"
            ]
          },
          "execution_count": 21,
          "metadata": {},
          "output_type": "execute_result"
        },
        {
          "data": {
            "image/png": "[encoded data removed]",
            "text/plain": [
              "<Figure size 432x288 with 1 Axes>"
            ]
          },
          "metadata": {
            "needs_background": "light"
          },
          "output_type": "display_data"
        }
      ],
      "source": [
        "users_data['city'].value_counts().plot.bar()"
      ]
    },
    {
      "cell_type": "markdown",
      "id": "22c3f37f",
      "metadata": {
        "id": "22c3f37f"
      },
      "source": [
        "Данные есть о восьми городах.\n",
        "\n",
        "В Пятигорске чаще всего арендуют самокаты, реже всего в Москве из данного набора городов."
      ]
    },
    {
      "cell_type": "code",
      "execution_count": null,
      "id": "8c3d64b3",
      "metadata": {
        "id": "8c3d64b3",
        "outputId": "e2a01f83-6232-4729-9840-5511c5a64d3c"
      },
      "outputs": [
        {
          "name": "stdout",
          "output_type": "stream",
          "text": [
            "Соотношение пользователей с подпиской и без подписки: 1.1945636623748213\n"
          ]
        },
        {
          "data": {
            "image/png": "[encoded data removed]",
            "text/plain": [
              "<Figure size 432x288 with 1 Axes>"
            ]
          },
          "metadata": {},
          "output_type": "display_data"
        }
      ],
      "source": [
        "users_data['subscription_type'].value_counts().plot(kind='pie',autopct='%.1f')\n",
        "plt.title('subscription_type')\n",
        "\n",
        "print('Соотношение пользователей с подпиской и без подписки:',\n",
        "      users_data[users_data['subscription_type']=='free']['subscription_type'].count()\n",
        "      / users_data[users_data['subscription_type']=='ultra']['subscription_type'].count())"
      ]
    },
    {
      "cell_type": "code",
      "execution_count": null,
      "id": "3edcf0aa",
      "metadata": {
        "id": "3edcf0aa",
        "outputId": "f75a5803-b516-45f2-e327-f3c9ba1797b3"
      },
      "outputs": [
        {
          "data": {
            "text/plain": [
              "Text(0.5, 0, 'age')"
            ]
          },
          "execution_count": 23,
          "metadata": {},
          "output_type": "execute_result"
        },
        {
          "data": {
            "image/png": "[encoded data removed]",
            "text/plain": [
              "<Figure size 432x288 with 1 Axes>"
            ]
          },
          "metadata": {
            "needs_background": "light"
          },
          "output_type": "display_data"
        }
      ],
      "source": [
        "users_data['age'].hist(bins=30)\n",
        "plt.xlabel('age')"
      ]
    },
    {
      "cell_type": "markdown",
      "id": "750a33cb",
      "metadata": {
        "id": "750a33cb"
      },
      "source": [
        "Возраст пользователей удовлетворяет нормальному распределению, никаких выбросов нет.\n",
        "\n",
        "Видим, что больше всего пользователей, около 140, в возрасте 25 лет."
      ]
    },
    {
      "cell_type": "code",
      "execution_count": null,
      "id": "5e1442bc",
      "metadata": {
        "id": "5e1442bc",
        "outputId": "266022b8-94bf-4bf3-e9c7-e78c312e5b57"
      },
      "outputs": [
        {
          "data": {
            "text/plain": [
              "Text(0.5, 0, 'distance')"
            ]
          },
          "execution_count": 24,
          "metadata": {},
          "output_type": "execute_result"
        },
        {
          "data": {
            "image/png": "[encoded data removed]",
            "text/plain": [
              "<Figure size 432x288 with 1 Axes>"
            ]
          },
          "metadata": {
            "needs_background": "light"
          },
          "output_type": "display_data"
        }
      ],
      "source": [
        "rides_data['distance'].hist(bins=20)\n",
        "plt.xlabel('distance')"
      ]
    },
    {
      "cell_type": "markdown",
      "id": "a7ca9ff2",
      "metadata": {
        "id": "a7ca9ff2"
      },
      "source": [
        "Данные о пройденном расстоянии удовлетворяют нормальному распределению. Больше всего поездок, около 3000, расстоянием в 3 километра. Однако есть небольшой пик на примерно 500 метрах, таких поездок около 500."
      ]
    },
    {
      "cell_type": "code",
      "execution_count": null,
      "id": "70294873",
      "metadata": {
        "id": "70294873",
        "outputId": "e0b03034-bbfd-4971-a988-7b5a0508d5e2"
      },
      "outputs": [
        {
          "data": {
            "text/plain": [
              "Text(0.5, 0, 'duration')"
            ]
          },
          "execution_count": 25,
          "metadata": {},
          "output_type": "execute_result"
        },
        {
          "data": {
            "image/png": "[encoded data removed]",
            "text/plain": [
              "<Figure size 432x288 with 1 Axes>"
            ]
          },
          "metadata": {
            "needs_background": "light"
          },
          "output_type": "display_data"
        }
      ],
      "source": [
        "rides_data['duration'].hist(bins=20)\n",
        "plt.xlabel('duration')"
      ]
    },
    {
      "cell_type": "markdown",
      "id": "77e966b3",
      "metadata": {
        "id": "77e966b3"
      },
      "source": [
        "Выбросов нет, чаще всего, в примерно 2300 случаев, длительность поездки составляет от 15 до 20 минут."
      ]
    },
    {
      "cell_type": "markdown",
      "id": "d3e05ac5",
      "metadata": {
        "id": "d3e05ac5"
      },
      "source": [
        "Таким образом, больше всего пользователей в возрасте 25 лет, они проезжают примерно 3 километра, и занимает поездка от 15 до 20 минут. Пользователей без подписки чуть больше, чем пользователей с подпиской, примерно в 1.2 раза."
      ]
    },
    {
      "cell_type": "markdown",
      "id": "4ef51331",
      "metadata": {
        "id": "4ef51331"
      },
      "source": [
        "#### Шаг 4. Объединение данных"
      ]
    },
    {
      "cell_type": "code",
      "execution_count": null,
      "id": "6bf288b5",
      "metadata": {
        "id": "6bf288b5",
        "outputId": "783686bb-a6c9-420f-ffd7-18aa7640e434"
      },
      "outputs": [
        {
          "name": "stdout",
          "output_type": "stream",
          "text": [
            "   user_id  name  age    city subscription_type     distance   duration  \\\n",
            "0        1  Кира   22  Тюмень             ultra  4409.919140  25.599769   \n",
            "1        1  Кира   22  Тюмень             ultra  2617.592153  15.816871   \n",
            "2        1  Кира   22  Тюмень             ultra   754.159807   6.232113   \n",
            "3        1  Кира   22  Тюмень             ultra  2694.783254  18.511000   \n",
            "4        1  Кира   22  Тюмень             ultra  4028.687306  26.265803   \n",
            "\n",
            "        date  month  minute_price  start_ride_price  subscription_fee  \n",
            "0 2021-01-01      1             6                 0               199  \n",
            "1 2021-01-18      1             6                 0               199  \n",
            "2 2021-04-20      4             6                 0               199  \n",
            "3 2021-08-11      8             6                 0               199  \n",
            "4 2021-08-28      8             6                 0               199  \n"
          ]
        }
      ],
      "source": [
        "data_merged = users_data.merge(rides_data,on='user_id',how='left')\n",
        "\n",
        "data = data_merged.merge(subscription_data,on='subscription_type',how='left')\n",
        "\n",
        "print(data.head(5))"
      ]
    },
    {
      "cell_type": "code",
      "execution_count": null,
      "id": "250fd96c",
      "metadata": {
        "id": "250fd96c",
        "outputId": "4f508d3e-e114-4c31-951f-8080bd1c25b0"
      },
      "outputs": [
        {
          "data": {
            "text/html": [
              "<div>\n",
              "<style scoped>\n",
              "    .dataframe tbody tr th:only-of-type {\n",
              "        vertical-align: middle;\n",
              "    }\n",
              "\n",
              "    .dataframe tbody tr th {\n",
              "        vertical-align: top;\n",
              "    }\n",
              "\n",
              "    .dataframe thead th {\n",
              "        text-align: right;\n",
              "    }\n",
              "</style>\n",
              "<table border=\"1\" class=\"dataframe\">\n",
              "  <thead>\n",
              "    <tr style=\"text-align: right;\">\n",
              "      <th></th>\n",
              "      <th>user_id</th>\n",
              "      <th>name</th>\n",
              "      <th>age</th>\n",
              "      <th>city</th>\n",
              "      <th>subscription_type</th>\n",
              "      <th>distance</th>\n",
              "      <th>duration</th>\n",
              "      <th>date</th>\n",
              "      <th>month</th>\n",
              "      <th>minute_price</th>\n",
              "      <th>start_ride_price</th>\n",
              "      <th>subscription_fee</th>\n",
              "    </tr>\n",
              "  </thead>\n",
              "  <tbody>\n",
              "    <tr>\n",
              "      <th>6500</th>\n",
              "      <td>700</td>\n",
              "      <td>Айдар</td>\n",
              "      <td>22</td>\n",
              "      <td>Омск</td>\n",
              "      <td>free</td>\n",
              "      <td>2515.690719</td>\n",
              "      <td>14.944286</td>\n",
              "      <td>2021-01-02</td>\n",
              "      <td>1</td>\n",
              "      <td>8</td>\n",
              "      <td>50</td>\n",
              "      <td>0</td>\n",
              "    </tr>\n",
              "    <tr>\n",
              "      <th>6501</th>\n",
              "      <td>700</td>\n",
              "      <td>Айдар</td>\n",
              "      <td>22</td>\n",
              "      <td>Омск</td>\n",
              "      <td>free</td>\n",
              "      <td>846.932642</td>\n",
              "      <td>16.234663</td>\n",
              "      <td>2021-02-01</td>\n",
              "      <td>2</td>\n",
              "      <td>8</td>\n",
              "      <td>50</td>\n",
              "      <td>0</td>\n",
              "    </tr>\n",
              "    <tr>\n",
              "      <th>6502</th>\n",
              "      <td>700</td>\n",
              "      <td>Айдар</td>\n",
              "      <td>22</td>\n",
              "      <td>Омск</td>\n",
              "      <td>free</td>\n",
              "      <td>4004.434142</td>\n",
              "      <td>20.016628</td>\n",
              "      <td>2021-02-04</td>\n",
              "      <td>2</td>\n",
              "      <td>8</td>\n",
              "      <td>50</td>\n",
              "      <td>0</td>\n",
              "    </tr>\n",
              "    <tr>\n",
              "      <th>6503</th>\n",
              "      <td>700</td>\n",
              "      <td>Айдар</td>\n",
              "      <td>22</td>\n",
              "      <td>Омск</td>\n",
              "      <td>free</td>\n",
              "      <td>1205.911290</td>\n",
              "      <td>9.782872</td>\n",
              "      <td>2021-02-10</td>\n",
              "      <td>2</td>\n",
              "      <td>8</td>\n",
              "      <td>50</td>\n",
              "      <td>0</td>\n",
              "    </tr>\n",
              "    <tr>\n",
              "      <th>6504</th>\n",
              "      <td>700</td>\n",
              "      <td>Айдар</td>\n",
              "      <td>22</td>\n",
              "      <td>Омск</td>\n",
              "      <td>free</td>\n",
              "      <td>3047.379435</td>\n",
              "      <td>17.427673</td>\n",
              "      <td>2021-02-14</td>\n",
              "      <td>2</td>\n",
              "      <td>8</td>\n",
              "      <td>50</td>\n",
              "      <td>0</td>\n",
              "    </tr>\n",
              "  </tbody>\n",
              "</table>\n",
              "</div>"
            ],
            "text/plain": [
              "      user_id   name  age  city subscription_type     distance   duration  \\\n",
              "6500      700  Айдар   22  Омск              free  2515.690719  14.944286   \n",
              "6501      700  Айдар   22  Омск              free   846.932642  16.234663   \n",
              "6502      700  Айдар   22  Омск              free  4004.434142  20.016628   \n",
              "6503      700  Айдар   22  Омск              free  1205.911290   9.782872   \n",
              "6504      700  Айдар   22  Омск              free  3047.379435  17.427673   \n",
              "\n",
              "           date  month  minute_price  start_ride_price  subscription_fee  \n",
              "6500 2021-01-02      1             8                50                 0  \n",
              "6501 2021-02-01      2             8                50                 0  \n",
              "6502 2021-02-04      2             8                50                 0  \n",
              "6503 2021-02-10      2             8                50                 0  \n",
              "6504 2021-02-14      2             8                50                 0  "
            ]
          },
          "metadata": {},
          "output_type": "display_data"
        },
        {
          "data": {
            "text/html": [
              "<div>\n",
              "<style scoped>\n",
              "    .dataframe tbody tr th:only-of-type {\n",
              "        vertical-align: middle;\n",
              "    }\n",
              "\n",
              "    .dataframe tbody tr th {\n",
              "        vertical-align: top;\n",
              "    }\n",
              "\n",
              "    .dataframe thead th {\n",
              "        text-align: right;\n",
              "    }\n",
              "</style>\n",
              "<table border=\"1\" class=\"dataframe\">\n",
              "  <thead>\n",
              "    <tr style=\"text-align: right;\">\n",
              "      <th></th>\n",
              "      <th>user_id</th>\n",
              "      <th>name</th>\n",
              "      <th>age</th>\n",
              "      <th>city</th>\n",
              "      <th>subscription_type</th>\n",
              "      <th>distance</th>\n",
              "      <th>duration</th>\n",
              "      <th>date</th>\n",
              "      <th>month</th>\n",
              "      <th>minute_price</th>\n",
              "      <th>start_ride_price</th>\n",
              "      <th>subscription_fee</th>\n",
              "    </tr>\n",
              "  </thead>\n",
              "  <tbody>\n",
              "    <tr>\n",
              "      <th>0</th>\n",
              "      <td>1</td>\n",
              "      <td>Кира</td>\n",
              "      <td>22</td>\n",
              "      <td>Тюмень</td>\n",
              "      <td>ultra</td>\n",
              "      <td>4409.919140</td>\n",
              "      <td>25.599769</td>\n",
              "      <td>2021-01-01</td>\n",
              "      <td>1</td>\n",
              "      <td>6</td>\n",
              "      <td>0</td>\n",
              "      <td>199</td>\n",
              "    </tr>\n",
              "    <tr>\n",
              "      <th>1</th>\n",
              "      <td>1</td>\n",
              "      <td>Кира</td>\n",
              "      <td>22</td>\n",
              "      <td>Тюмень</td>\n",
              "      <td>ultra</td>\n",
              "      <td>2617.592153</td>\n",
              "      <td>15.816871</td>\n",
              "      <td>2021-01-18</td>\n",
              "      <td>1</td>\n",
              "      <td>6</td>\n",
              "      <td>0</td>\n",
              "      <td>199</td>\n",
              "    </tr>\n",
              "    <tr>\n",
              "      <th>2</th>\n",
              "      <td>1</td>\n",
              "      <td>Кира</td>\n",
              "      <td>22</td>\n",
              "      <td>Тюмень</td>\n",
              "      <td>ultra</td>\n",
              "      <td>754.159807</td>\n",
              "      <td>6.232113</td>\n",
              "      <td>2021-04-20</td>\n",
              "      <td>4</td>\n",
              "      <td>6</td>\n",
              "      <td>0</td>\n",
              "      <td>199</td>\n",
              "    </tr>\n",
              "    <tr>\n",
              "      <th>3</th>\n",
              "      <td>1</td>\n",
              "      <td>Кира</td>\n",
              "      <td>22</td>\n",
              "      <td>Тюмень</td>\n",
              "      <td>ultra</td>\n",
              "      <td>2694.783254</td>\n",
              "      <td>18.511000</td>\n",
              "      <td>2021-08-11</td>\n",
              "      <td>8</td>\n",
              "      <td>6</td>\n",
              "      <td>0</td>\n",
              "      <td>199</td>\n",
              "    </tr>\n",
              "    <tr>\n",
              "      <th>4</th>\n",
              "      <td>1</td>\n",
              "      <td>Кира</td>\n",
              "      <td>22</td>\n",
              "      <td>Тюмень</td>\n",
              "      <td>ultra</td>\n",
              "      <td>4028.687306</td>\n",
              "      <td>26.265803</td>\n",
              "      <td>2021-08-28</td>\n",
              "      <td>8</td>\n",
              "      <td>6</td>\n",
              "      <td>0</td>\n",
              "      <td>199</td>\n",
              "    </tr>\n",
              "  </tbody>\n",
              "</table>\n",
              "</div>"
            ],
            "text/plain": [
              "   user_id  name  age    city subscription_type     distance   duration  \\\n",
              "0        1  Кира   22  Тюмень             ultra  4409.919140  25.599769   \n",
              "1        1  Кира   22  Тюмень             ultra  2617.592153  15.816871   \n",
              "2        1  Кира   22  Тюмень             ultra   754.159807   6.232113   \n",
              "3        1  Кира   22  Тюмень             ultra  2694.783254  18.511000   \n",
              "4        1  Кира   22  Тюмень             ultra  4028.687306  26.265803   \n",
              "\n",
              "        date  month  minute_price  start_ride_price  subscription_fee  \n",
              "0 2021-01-01      1             6                 0               199  \n",
              "1 2021-01-18      1             6                 0               199  \n",
              "2 2021-04-20      4             6                 0               199  \n",
              "3 2021-08-11      8             6                 0               199  \n",
              "4 2021-08-28      8             6                 0               199  "
            ]
          },
          "metadata": {},
          "output_type": "display_data"
        }
      ],
      "source": [
        "data_free = data[data['subscription_type'] == 'free']\n",
        "\n",
        "display(data_free.head())\n",
        "\n",
        "data_ultra = data[data['subscription_type'] == 'ultra']\n",
        "\n",
        "display(data_ultra.head())"
      ]
    },
    {
      "cell_type": "code",
      "execution_count": null,
      "id": "99c1834d",
      "metadata": {
        "id": "99c1834d",
        "outputId": "9bdd66f4-8be3-4b75-a5c8-ed6d4022e0ee"
      },
      "outputs": [
        {
          "data": {
            "text/plain": [
              "Text(0.5, 1.0, 'No subscription')"
            ]
          },
          "execution_count": 28,
          "metadata": {},
          "output_type": "execute_result"
        },
        {
          "data": {
            "image/png": "[encoded data removed]",
            "text/plain": [
              "<Figure size 432x288 with 1 Axes>"
            ]
          },
          "metadata": {
            "needs_background": "light"
          },
          "output_type": "display_data"
        }
      ],
      "source": [
        "data_free['distance'].hist(bins=50)\n",
        "plt.xlabel('distance')\n",
        "plt.title('No subscription')"
      ]
    },
    {
      "cell_type": "code",
      "execution_count": null,
      "id": "1d29a0b7",
      "metadata": {
        "id": "1d29a0b7",
        "outputId": "bfa46bc0-38dc-4a6c-92f8-b29f135feefe"
      },
      "outputs": [
        {
          "data": {
            "text/plain": [
              "Text(0.5, 1.0, 'Subscription')"
            ]
          },
          "execution_count": 29,
          "metadata": {},
          "output_type": "execute_result"
        },
        {
          "data": {
            "image/png": "[encoded data removed]",
            "text/plain": [
              "<Figure size 432x288 with 1 Axes>"
            ]
          },
          "metadata": {
            "needs_background": "light"
          },
          "output_type": "display_data"
        }
      ],
      "source": [
        "data_ultra['distance'].hist(bins=50)\n",
        "plt.xlabel('distance')\n",
        "plt.title('Subscription')"
      ]
    },
    {
      "cell_type": "markdown",
      "id": "a57f3296",
      "metadata": {
        "id": "a57f3296"
      },
      "source": [
        "В случае поездок пользователей без подписки и с ней наблюдается пик около 500 метров, однако в первом случае он выраженнее.\n",
        "\n",
        "В основном, в обоих случаях пользователи проезжают обычно примерно 3 километра, однако разброс для пользователей без подписки больше."
      ]
    },
    {
      "cell_type": "code",
      "execution_count": null,
      "id": "7fad5469",
      "metadata": {
        "id": "7fad5469",
        "outputId": "11398dd5-ac3b-44d6-d863-c155e2e89c14"
      },
      "outputs": [
        {
          "data": {
            "text/plain": [
              "Text(0.5, 1.0, 'No subscription')"
            ]
          },
          "execution_count": 30,
          "metadata": {},
          "output_type": "execute_result"
        },
        {
          "data": {
            "image/png": "[encoded data removed]",
            "text/plain": [
              "<Figure size 432x288 with 1 Axes>"
            ]
          },
          "metadata": {
            "needs_background": "light"
          },
          "output_type": "display_data"
        }
      ],
      "source": [
        "data_free['duration'].hist(bins=50)\n",
        "plt.xlabel('duration')\n",
        "plt.title('No subscription')"
      ]
    },
    {
      "cell_type": "code",
      "execution_count": null,
      "id": "55b1f765",
      "metadata": {
        "id": "55b1f765",
        "outputId": "ad63dd56-f278-4b8e-e271-ecb608266245"
      },
      "outputs": [
        {
          "data": {
            "text/plain": [
              "Text(0.5, 1.0, 'Subscription')"
            ]
          },
          "execution_count": 31,
          "metadata": {},
          "output_type": "execute_result"
        },
        {
          "data": {
            "image/png": "[encoded data removed]",
            "text/plain": [
              "<Figure size 432x288 with 1 Axes>"
            ]
          },
          "metadata": {
            "needs_background": "light"
          },
          "output_type": "display_data"
        }
      ],
      "source": [
        "data_ultra['duration'].hist(bins=50)\n",
        "plt.xlabel('duration')\n",
        "plt.title('Subscription')"
      ]
    },
    {
      "cell_type": "markdown",
      "id": "80e61ad9",
      "metadata": {
        "id": "80e61ad9"
      },
      "source": [
        "Пользователи как с подпиской, так и без неё, тратят на поездки в основном от 15 до 20 минут. Однако у данных для пользователей без подписки больше разброс, и наблюдается небольшой пик около нуля."
      ]
    },
    {
      "cell_type": "code",
      "execution_count": null,
      "id": "056651b7",
      "metadata": {
        "id": "056651b7",
        "outputId": "0b30de59-4308-4b52-8d03-435ba6665ca2"
      },
      "outputs": [
        {
          "data": {
            "image/png": "[encoded data removed]",
            "text/plain": [
              "<Figure size 432x288 with 1 Axes>"
            ]
          },
          "metadata": {
            "needs_background": "light"
          },
          "output_type": "display_data"
        }
      ],
      "source": [
        "plt.hist(data_ultra['distance'], bins=50,alpha=0.5,label='subscription')\n",
        "plt.hist(data_free['distance'],bins=50,alpha=0.5,label='no subscription' )\n",
        "plt.legend(loc='upper right')\n",
        "plt.xlabel('distance')\n",
        "plt.show()"
      ]
    },
    {
      "cell_type": "code",
      "execution_count": null,
      "id": "99e0e78f",
      "metadata": {
        "id": "99e0e78f",
        "outputId": "e0d43c6c-3b19-4b73-a02e-03e884923e7f"
      },
      "outputs": [
        {
          "data": {
            "image/png": "[encoded data removed]",
            "text/plain": [
              "<Figure size 432x288 with 1 Axes>"
            ]
          },
          "metadata": {
            "needs_background": "light"
          },
          "output_type": "display_data"
        }
      ],
      "source": [
        "plt.hist(data_ultra['duration'], bins=50,alpha=0.5,label='subscription')\n",
        "plt.hist(data_free['duration'],bins=50,alpha=0.5,label='no subscription' )\n",
        "plt.legend(loc='upper right')\n",
        "plt.xlabel('duration')\n",
        "plt.show()"
      ]
    },
    {
      "cell_type": "markdown",
      "id": "402d620f",
      "metadata": {
        "id": "402d620f"
      },
      "source": [
        "#### Шаг 5. Подсчёт выручки"
      ]
    },
    {
      "cell_type": "code",
      "execution_count": null,
      "id": "53049e0a",
      "metadata": {
        "scrolled": false,
        "id": "53049e0a",
        "outputId": "a965cb5f-a1d5-45c6-eb79-42248f9c138d"
      },
      "outputs": [
        {
          "data": {
            "text/html": [
              "<div>\n",
              "<style scoped>\n",
              "    .dataframe tbody tr th:only-of-type {\n",
              "        vertical-align: middle;\n",
              "    }\n",
              "\n",
              "    .dataframe tbody tr th {\n",
              "        vertical-align: top;\n",
              "    }\n",
              "\n",
              "    .dataframe thead tr th {\n",
              "        text-align: left;\n",
              "    }\n",
              "\n",
              "    .dataframe thead tr:last-of-type th {\n",
              "        text-align: right;\n",
              "    }\n",
              "</style>\n",
              "<table border=\"1\" class=\"dataframe\">\n",
              "  <thead>\n",
              "    <tr>\n",
              "      <th></th>\n",
              "      <th></th>\n",
              "      <th colspan=\"2\" halign=\"left\">distance</th>\n",
              "      <th>duration</th>\n",
              "      <th>subscription_type</th>\n",
              "      <th>minute_price</th>\n",
              "      <th>start_ride_price</th>\n",
              "      <th>subscription_fee</th>\n",
              "    </tr>\n",
              "    <tr>\n",
              "      <th></th>\n",
              "      <th></th>\n",
              "      <th>sum</th>\n",
              "      <th>count</th>\n",
              "      <th>sum</th>\n",
              "      <th>first</th>\n",
              "      <th>first</th>\n",
              "      <th>first</th>\n",
              "      <th>first</th>\n",
              "    </tr>\n",
              "    <tr>\n",
              "      <th>user_id</th>\n",
              "      <th>month</th>\n",
              "      <th></th>\n",
              "      <th></th>\n",
              "      <th></th>\n",
              "      <th></th>\n",
              "      <th></th>\n",
              "      <th></th>\n",
              "      <th></th>\n",
              "    </tr>\n",
              "  </thead>\n",
              "  <tbody>\n",
              "    <tr>\n",
              "      <th rowspan=\"5\" valign=\"top\">1</th>\n",
              "      <th>1</th>\n",
              "      <td>7027.511294</td>\n",
              "      <td>2</td>\n",
              "      <td>42.0</td>\n",
              "      <td>ultra</td>\n",
              "      <td>6</td>\n",
              "      <td>0</td>\n",
              "      <td>199</td>\n",
              "    </tr>\n",
              "    <tr>\n",
              "      <th>4</th>\n",
              "      <td>754.159807</td>\n",
              "      <td>1</td>\n",
              "      <td>7.0</td>\n",
              "      <td>ultra</td>\n",
              "      <td>6</td>\n",
              "      <td>0</td>\n",
              "      <td>199</td>\n",
              "    </tr>\n",
              "    <tr>\n",
              "      <th>8</th>\n",
              "      <td>6723.470560</td>\n",
              "      <td>2</td>\n",
              "      <td>46.0</td>\n",
              "      <td>ultra</td>\n",
              "      <td>6</td>\n",
              "      <td>0</td>\n",
              "      <td>199</td>\n",
              "    </tr>\n",
              "    <tr>\n",
              "      <th>10</th>\n",
              "      <td>5809.911100</td>\n",
              "      <td>2</td>\n",
              "      <td>32.0</td>\n",
              "      <td>ultra</td>\n",
              "      <td>6</td>\n",
              "      <td>0</td>\n",
              "      <td>199</td>\n",
              "    </tr>\n",
              "    <tr>\n",
              "      <th>11</th>\n",
              "      <td>7003.499363</td>\n",
              "      <td>3</td>\n",
              "      <td>56.0</td>\n",
              "      <td>ultra</td>\n",
              "      <td>6</td>\n",
              "      <td>0</td>\n",
              "      <td>199</td>\n",
              "    </tr>\n",
              "  </tbody>\n",
              "</table>\n",
              "</div>"
            ],
            "text/plain": [
              "                  distance       duration subscription_type minute_price  \\\n",
              "                       sum count      sum             first        first   \n",
              "user_id month                                                              \n",
              "1       1      7027.511294     2     42.0             ultra            6   \n",
              "        4       754.159807     1      7.0             ultra            6   \n",
              "        8      6723.470560     2     46.0             ultra            6   \n",
              "        10     5809.911100     2     32.0             ultra            6   \n",
              "        11     7003.499363     3     56.0             ultra            6   \n",
              "\n",
              "              start_ride_price subscription_fee  \n",
              "                         first            first  \n",
              "user_id month                                    \n",
              "1       1                    0              199  \n",
              "        4                    0              199  \n",
              "        8                    0              199  \n",
              "        10                   0              199  \n",
              "        11                   0              199  "
            ]
          },
          "execution_count": 34,
          "metadata": {},
          "output_type": "execute_result"
        }
      ],
      "source": [
        "data['duration']=data['duration'].apply(np.ceil)\n",
        "\n",
        "data_agg = data.groupby(['user_id','month']).agg({'distance':['sum','count'],'duration':'sum',\n",
        "                                                  'subscription_type':'first',\\\n",
        "                                                  'minute_price':'first','start_ride_price':'first','subscription_fee':'first'})\n",
        "data_agg.head()\n",
        "#data_agg['duration'] = data_agg['duration'].apply(np.ceil)"
      ]
    },
    {
      "cell_type": "code",
      "execution_count": null,
      "id": "3c019a7e",
      "metadata": {
        "id": "3c019a7e",
        "outputId": "c0860f44-f06a-447e-be59-5ed3170e5d69"
      },
      "outputs": [
        {
          "data": {
            "text/html": [
              "<div>\n",
              "<style scoped>\n",
              "    .dataframe tbody tr th:only-of-type {\n",
              "        vertical-align: middle;\n",
              "    }\n",
              "\n",
              "    .dataframe tbody tr th {\n",
              "        vertical-align: top;\n",
              "    }\n",
              "\n",
              "    .dataframe thead tr th {\n",
              "        text-align: left;\n",
              "    }\n",
              "\n",
              "    .dataframe thead tr:last-of-type th {\n",
              "        text-align: right;\n",
              "    }\n",
              "</style>\n",
              "<table border=\"1\" class=\"dataframe\">\n",
              "  <thead>\n",
              "    <tr>\n",
              "      <th></th>\n",
              "      <th></th>\n",
              "      <th colspan=\"2\" halign=\"left\">distance</th>\n",
              "      <th>duration</th>\n",
              "    </tr>\n",
              "    <tr>\n",
              "      <th></th>\n",
              "      <th></th>\n",
              "      <th>sum</th>\n",
              "      <th>count</th>\n",
              "      <th>sum</th>\n",
              "    </tr>\n",
              "    <tr>\n",
              "      <th>user_id</th>\n",
              "      <th>month</th>\n",
              "      <th></th>\n",
              "      <th></th>\n",
              "      <th></th>\n",
              "    </tr>\n",
              "  </thead>\n",
              "  <tbody>\n",
              "    <tr>\n",
              "      <th rowspan=\"5\" valign=\"top\">1</th>\n",
              "      <th>1</th>\n",
              "      <td>7027.511294</td>\n",
              "      <td>2</td>\n",
              "      <td>42.0</td>\n",
              "    </tr>\n",
              "    <tr>\n",
              "      <th>4</th>\n",
              "      <td>754.159807</td>\n",
              "      <td>1</td>\n",
              "      <td>7.0</td>\n",
              "    </tr>\n",
              "    <tr>\n",
              "      <th>8</th>\n",
              "      <td>6723.470560</td>\n",
              "      <td>2</td>\n",
              "      <td>46.0</td>\n",
              "    </tr>\n",
              "    <tr>\n",
              "      <th>10</th>\n",
              "      <td>5809.911100</td>\n",
              "      <td>2</td>\n",
              "      <td>32.0</td>\n",
              "    </tr>\n",
              "    <tr>\n",
              "      <th>11</th>\n",
              "      <td>7003.499363</td>\n",
              "      <td>3</td>\n",
              "      <td>56.0</td>\n",
              "    </tr>\n",
              "  </tbody>\n",
              "</table>\n",
              "</div>"
            ],
            "text/plain": [
              "                  distance       duration\n",
              "                       sum count      sum\n",
              "user_id month                            \n",
              "1       1      7027.511294     2     42.0\n",
              "        4       754.159807     1      7.0\n",
              "        8      6723.470560     2     46.0\n",
              "        10     5809.911100     2     32.0\n",
              "        11     7003.499363     3     56.0"
            ]
          },
          "execution_count": 35,
          "metadata": {},
          "output_type": "execute_result"
        }
      ],
      "source": [
        "# Код ревьюера\n",
        "data.groupby(['user_id','month']).agg({'distance':['sum','count'],'duration':'sum'}).head()"
      ]
    },
    {
      "cell_type": "code",
      "execution_count": null,
      "id": "12b0d66b",
      "metadata": {
        "id": "12b0d66b",
        "outputId": "c616a1ce-c030-4aa1-92c4-bb95b0906417"
      },
      "outputs": [
        {
          "name": "stdout",
          "output_type": "stream",
          "text": [
            "                  distance       duration subscription_type minute_price  \\\n",
            "                       sum count      sum             first        first   \n",
            "user_id month                                                              \n",
            "1       1      7027.511294     2     42.0             ultra            6   \n",
            "        4       754.159807     1      7.0             ultra            6   \n",
            "        8      6723.470560     2     46.0             ultra            6   \n",
            "        10     5809.911100     2     32.0             ultra            6   \n",
            "        11     7003.499363     3     56.0             ultra            6   \n",
            "\n",
            "              start_ride_price subscription_fee income  \n",
            "                         first            first         \n",
            "user_id month                                           \n",
            "1       1                    0              199  451.0  \n",
            "        4                    0              199  241.0  \n",
            "        8                    0              199  475.0  \n",
            "        10                   0              199  391.0  \n",
            "        11                   0              199  535.0  \n"
          ]
        }
      ],
      "source": [
        "data_agg['income'] = data_agg['minute_price']['first']*data_agg['duration']['sum'] + data_agg['start_ride_price']['first']*data_agg['distance']['count']+data_agg['subscription_fee']['first']\n",
        "\n",
        "print(data_agg.head())"
      ]
    },
    {
      "cell_type": "code",
      "execution_count": null,
      "id": "54c27e64",
      "metadata": {
        "id": "54c27e64",
        "outputId": "cffe2666-4ce3-4ced-bd8b-26795a8728c7"
      },
      "outputs": [
        {
          "data": {
            "text/html": [
              "<div>\n",
              "<style scoped>\n",
              "    .dataframe tbody tr th:only-of-type {\n",
              "        vertical-align: middle;\n",
              "    }\n",
              "\n",
              "    .dataframe tbody tr th {\n",
              "        vertical-align: top;\n",
              "    }\n",
              "\n",
              "    .dataframe thead tr th {\n",
              "        text-align: left;\n",
              "    }\n",
              "\n",
              "    .dataframe thead tr:last-of-type th {\n",
              "        text-align: right;\n",
              "    }\n",
              "</style>\n",
              "<table border=\"1\" class=\"dataframe\">\n",
              "  <thead>\n",
              "    <tr>\n",
              "      <th></th>\n",
              "      <th></th>\n",
              "      <th colspan=\"2\" halign=\"left\">distance</th>\n",
              "      <th>duration</th>\n",
              "      <th>subscription_type</th>\n",
              "      <th>minute_price</th>\n",
              "      <th>start_ride_price</th>\n",
              "      <th>subscription_fee</th>\n",
              "      <th>income</th>\n",
              "    </tr>\n",
              "    <tr>\n",
              "      <th></th>\n",
              "      <th></th>\n",
              "      <th>sum</th>\n",
              "      <th>count</th>\n",
              "      <th>sum</th>\n",
              "      <th>first</th>\n",
              "      <th>first</th>\n",
              "      <th>first</th>\n",
              "      <th>first</th>\n",
              "      <th></th>\n",
              "    </tr>\n",
              "    <tr>\n",
              "      <th>user_id</th>\n",
              "      <th>month</th>\n",
              "      <th></th>\n",
              "      <th></th>\n",
              "      <th></th>\n",
              "      <th></th>\n",
              "      <th></th>\n",
              "      <th></th>\n",
              "      <th></th>\n",
              "      <th></th>\n",
              "    </tr>\n",
              "  </thead>\n",
              "  <tbody>\n",
              "    <tr>\n",
              "      <th rowspan=\"3\" valign=\"top\">1</th>\n",
              "      <th>1</th>\n",
              "      <td>7027.511294</td>\n",
              "      <td>2</td>\n",
              "      <td>42.0</td>\n",
              "      <td>ultra</td>\n",
              "      <td>6</td>\n",
              "      <td>0</td>\n",
              "      <td>199</td>\n",
              "      <td>451.0</td>\n",
              "    </tr>\n",
              "    <tr>\n",
              "      <th>4</th>\n",
              "      <td>754.159807</td>\n",
              "      <td>1</td>\n",
              "      <td>7.0</td>\n",
              "      <td>ultra</td>\n",
              "      <td>6</td>\n",
              "      <td>0</td>\n",
              "      <td>199</td>\n",
              "      <td>241.0</td>\n",
              "    </tr>\n",
              "    <tr>\n",
              "      <th>8</th>\n",
              "      <td>6723.470560</td>\n",
              "      <td>2</td>\n",
              "      <td>46.0</td>\n",
              "      <td>ultra</td>\n",
              "      <td>6</td>\n",
              "      <td>0</td>\n",
              "      <td>199</td>\n",
              "      <td>475.0</td>\n",
              "    </tr>\n",
              "  </tbody>\n",
              "</table>\n",
              "</div>"
            ],
            "text/plain": [
              "                  distance       duration subscription_type minute_price  \\\n",
              "                       sum count      sum             first        first   \n",
              "user_id month                                                              \n",
              "1       1      7027.511294     2     42.0             ultra            6   \n",
              "        4       754.159807     1      7.0             ultra            6   \n",
              "        8      6723.470560     2     46.0             ultra            6   \n",
              "\n",
              "              start_ride_price subscription_fee income  \n",
              "                         first            first         \n",
              "user_id month                                           \n",
              "1       1                    0              199  451.0  \n",
              "        4                    0              199  241.0  \n",
              "        8                    0              199  475.0  "
            ]
          },
          "metadata": {},
          "output_type": "display_data"
        },
        {
          "data": {
            "text/plain": [
              "(subscription_type, first)\n",
              "free     328.641365\n",
              "ultra    362.792191\n",
              "Name: income, dtype: float64"
            ]
          },
          "execution_count": 37,
          "metadata": {},
          "output_type": "execute_result"
        }
      ],
      "source": [
        "# Код ревьюера\n",
        "display(data_agg.head(3))\n",
        "data_agg.groupby(('subscription_type', 'first'))['income'].mean()"
      ]
    },
    {
      "cell_type": "code",
      "execution_count": null,
      "id": "e482036e",
      "metadata": {
        "id": "e482036e",
        "outputId": "1469549f-b0d6-4c7d-8f71-4ef779fd4f72"
      },
      "outputs": [
        {
          "data": {
            "text/plain": [
              "11331"
            ]
          },
          "execution_count": 38,
          "metadata": {},
          "output_type": "execute_result"
        }
      ],
      "source": [
        "# Код ревьюера\n",
        "len(data_agg)"
      ]
    },
    {
      "cell_type": "markdown",
      "id": "41545ac0",
      "metadata": {
        "id": "41545ac0"
      },
      "source": [
        "#### Шаг 6. Проверка гипотез"
      ]
    },
    {
      "cell_type": "markdown",
      "id": "f2fc4b08",
      "metadata": {
        "id": "f2fc4b08"
      },
      "source": [
        "$H_0$: Пользователи с подпиской тратят столько же времени на поездки, как и пользователи без подписки\n",
        "\n",
        "\n",
        "$H_1$: Пользователи с подпиской тратят больше времени на поездки, чем пользователи без подписки"
      ]
    },
    {
      "cell_type": "code",
      "execution_count": null,
      "id": "23ea867b",
      "metadata": {
        "scrolled": true,
        "id": "23ea867b",
        "outputId": "cb5982b5-4d66-40f1-be8e-7002c4554e83"
      },
      "outputs": [
        {
          "name": "stdout",
          "output_type": "stream",
          "text": [
            "1.2804098316645618e-34 18.54198516280583 17.39090929866399\n",
            "Отвергаем гипотезу, что пользователи тратят одинаковое количество времени на поездки\n"
          ]
        }
      ],
      "source": [
        "alpha = 0.05\n",
        "\n",
        "results = st.ttest_ind(data_ultra['duration'],data_free['duration'],alternative='greater')\n",
        "\n",
        "print(results.pvalue,data_ultra['duration'].mean(),data_free['duration'].mean())\n",
        "\n",
        "if results.pvalue<alpha:\n",
        "    print('Отвергаем гипотезу, что пользователи тратят одинаковое количество времени на поездки')\n",
        "else:\n",
        "    print('Нет оснований отвергнуть нулевую гипотезу')"
      ]
    },
    {
      "cell_type": "markdown",
      "id": "17562525",
      "metadata": {
        "id": "17562525"
      },
      "source": [
        "Средняя продолжительность поездок для пользователей с подпиской больше, поэтому принимаем альтернативную гипотезу."
      ]
    },
    {
      "cell_type": "markdown",
      "id": "07dd80c1",
      "metadata": {
        "id": "07dd80c1"
      },
      "source": [
        "$H_0$: Расстояние поездки равно оптимальному расстоянию с точки зрения износа самоката.\n",
        "\n",
        "\n",
        "$H_1$: Расстояние поездки больше оптимального."
      ]
    },
    {
      "cell_type": "code",
      "execution_count": null,
      "id": "9d5dd996",
      "metadata": {
        "id": "9d5dd996",
        "outputId": "fac162ce-5304-4942-a577-a4526e1d898a"
      },
      "outputs": [
        {
          "name": "stdout",
          "output_type": "stream",
          "text": [
            "0.9195368847849785 3115.4453880370247\n",
            "Нет оснований отвергать нулевую гипотезу\n"
          ]
        }
      ],
      "source": [
        "optimal_distance = 3130\n",
        "\n",
        "results = st.ttest_1samp(data_ultra['distance'],optimal_distance,alternative = 'greater')\n",
        "\n",
        "print(results.pvalue,data_ultra['distance'].mean())\n",
        "\n",
        "if results.pvalue<alpha:\n",
        "    print('Отвергаем нулевую гипотезу')\n",
        "else:\n",
        "    print('Нет оснований отвергать нулевую гипотезу')"
      ]
    },
    {
      "cell_type": "markdown",
      "id": "d0af58f6",
      "metadata": {
        "id": "d0af58f6"
      },
      "source": [
        "Значит, можно считать, что расстояние, которое проезжают пользователи, не превосходит 3130 м."
      ]
    },
    {
      "cell_type": "markdown",
      "id": "40e49922",
      "metadata": {
        "id": "40e49922"
      },
      "source": [
        "$H_0$: Помесячная выручка от пользователей с подпиской равна выручке от пользователей без подписки.\n",
        "\n",
        "\n",
        "$H_1$: Помесячная выручка от пользователей с подпиской больше выручки от пользователей без подписки."
      ]
    },
    {
      "cell_type": "code",
      "execution_count": null,
      "id": "0f5d6f7d",
      "metadata": {
        "scrolled": false,
        "id": "0f5d6f7d",
        "outputId": "c77df646-181e-4af7-b460-4352d99f04f4"
      },
      "outputs": [
        {
          "name": "stdout",
          "output_type": "stream",
          "text": [
            "1.8850394384715216e-31 328.6413651073845 362.7921906022502\n",
            "Отвергаем нулевую гипотезу\n"
          ]
        }
      ],
      "source": [
        "income_free = data_agg[data_agg[('subscription_fee', 'first')] == 0]['income']\n",
        "income_ultra = data_agg[data_agg['subscription_fee','first'] != 0]['income']\n",
        "\n",
        "result = st.ttest_ind(income_ultra,income_free,alternative='greater')\n",
        "print(result.pvalue,income_free.mean(),income_ultra.mean())\n",
        "\n",
        "if result.pvalue<alpha:\n",
        "    print('Отвергаем нулевую гипотезу')\n",
        "else:\n",
        "    print('Нет оснований отвергать нулевую гипотезу')\n",
        ""
      ]
    },
    {
      "cell_type": "markdown",
      "id": "693f81d8",
      "metadata": {
        "id": "693f81d8"
      },
      "source": [
        "По результату теста отвергаем нулевую гипотезу.\n",
        "\n",
        "Средняя прибыль от пользователей без подписки составляет примерно 328.6 рублей, а от подписчиков - 362.8 рублей."
      ]
    },
    {
      "cell_type": "code",
      "execution_count": 1,
      "id": "ee553bfe",
      "metadata": {
        "colab": {
          "base_uri": "https://localhost:8080/",
          "height": 159
        },
        "id": "ee553bfe",
        "outputId": "ffce862e-83f7-48b8-a929-24fb50409690"
      },
      "outputs": [
        {
          "output_type": "error",
          "ename": "NameError",
          "evalue": "name 'data_agg' is not defined",
          "traceback": [
            "\u001b[0;31m---------------------------------------------------------------------------\u001b[0m",
            "\u001b[0;31mNameError\u001b[0m                                 Traceback (most recent call last)",
            "\u001b[0;32m<ipython-input-1-fae30e8942ed>\u001b[0m in \u001b[0;36m<cell line: 1>\u001b[0;34m()\u001b[0m\n\u001b[0;32m----> 1\u001b[0;31m \u001b[0msample_ultra\u001b[0m \u001b[0;34m=\u001b[0m \u001b[0mdata_agg\u001b[0m\u001b[0;34m[\u001b[0m\u001b[0mdata_agg\u001b[0m\u001b[0;34m[\u001b[0m\u001b[0;34m(\u001b[0m\u001b[0;34m'subscription_fee'\u001b[0m\u001b[0;34m,\u001b[0m \u001b[0;34m'first'\u001b[0m\u001b[0;34m)\u001b[0m\u001b[0;34m]\u001b[0m \u001b[0;34m==\u001b[0m \u001b[0;36m199\u001b[0m\u001b[0;34m]\u001b[0m\u001b[0;34m[\u001b[0m\u001b[0;34m'income'\u001b[0m\u001b[0;34m]\u001b[0m \u001b[0;31m# Массив выручек подписчиков\u001b[0m\u001b[0;34m\u001b[0m\u001b[0;34m\u001b[0m\u001b[0m\n\u001b[0m\u001b[1;32m      2\u001b[0m \u001b[0msample_free\u001b[0m \u001b[0;34m=\u001b[0m \u001b[0mdata_agg\u001b[0m\u001b[0;34m[\u001b[0m\u001b[0mdata_agg\u001b[0m\u001b[0;34m[\u001b[0m\u001b[0;34m(\u001b[0m\u001b[0;34m'subscription_fee'\u001b[0m\u001b[0;34m,\u001b[0m \u001b[0;34m'first'\u001b[0m\u001b[0;34m)\u001b[0m\u001b[0;34m]\u001b[0m \u001b[0;34m==\u001b[0m \u001b[0;36m0\u001b[0m\u001b[0;34m]\u001b[0m\u001b[0;34m[\u001b[0m\u001b[0;34m'income'\u001b[0m\u001b[0;34m]\u001b[0m \u001b[0;31m# Массив выручек пользователей без подписки\u001b[0m\u001b[0;34m\u001b[0m\u001b[0;34m\u001b[0m\u001b[0m\n",
            "\u001b[0;31mNameError\u001b[0m: name 'data_agg' is not defined"
          ]
        }
      ],
      "source": [
        "sample_ultra = data_agg[data_agg[('subscription_fee', 'first')] == 199]['income'] # Массив выручек подписчиков\n",
        "sample_free = data_agg[data_agg[('subscription_fee', 'first')] == 0]['income'] # Массив выручек пользователей без подписки"
      ]
    },
    {
      "cell_type": "markdown",
      "id": "566a6862",
      "metadata": {
        "id": "566a6862"
      },
      "source": [
        "По результатам теста нельзя говорить, что помесячные выручки совпадают. Причем средняя помесячная цена поездок пользователей с подпиской меньше цены поездок пользователей без подписки."
      ]
    },
    {
      "cell_type": "markdown",
      "id": "b46445b0",
      "metadata": {
        "id": "b46445b0"
      },
      "source": [
        "Чтобы проверить, уменьшилось ли количество обращений в техподдержку после обновления, надо использовать тест для зависимых выборок ttest_rel(). В качестве аргументов передавались бы данные об обращениях до и после обновления."
      ]
    },
    {
      "cell_type": "markdown",
      "id": "61213c5e",
      "metadata": {
        "id": "61213c5e"
      },
      "source": [
        "#### Шаг 7. Распределения"
      ]
    },
    {
      "cell_type": "code",
      "execution_count": null,
      "id": "053bad0a",
      "metadata": {
        "id": "053bad0a"
      },
      "outputs": [],
      "source": []
    },
    {
      "cell_type": "markdown",
      "id": "d6897904",
      "metadata": {
        "id": "d6897904"
      },
      "source": [
        "Вывод:\n",
        "\n",
        "Было проведено исследование по выявлению зависимости прибыли от аренды самокатов от наличия подписки у пользователей.\n",
        "В ходе исследования были сформулированы следующие гипотезы:\n",
        "\n",
        "1) Пользователи с подпиской тратят столько же времени на поездки, как и пользователи без подписки\n",
        "2) Расстояние, которое проезжают пользователи с подпиской равно оптимальному расстоянию с точки зрения износа самоката - 3130 м\n",
        "3) Помесячная выручка от пользователя с подпиской равна выручке пользователей без подписки\n",
        "\n",
        "Первую гипотезу не отвергаем, так как средняя продолжительность поездок для пользователей с подпиской 18.5 минут, а без - 17.4, причем вероятность получить равные средние значения на данных много меньше 0.05.\n",
        "\n",
        "Вторую гипотезу тоже нельзя отвергнуть, так как вероятность получить предполагаемое значение на наших данных примерно 0.9, а наблюдаемое среднее равно 3115.4 м.\n",
        "\n",
        "Третью гипотезу отвергаем, так как средние значения сильно различаются и вероятность получить одинаковые значения на данных много меньше 0.05.\n",
        "\n",
        "Также, по результатам исследования было выявлено, что больше всего пользователей в возрасте 25 лет, они проезжают примерно 3 километра, и занимает поездка от 15 до 20 минут. Пользователей без подписки чуть больше, чем пользователей с подпиской, примерно в 1.2 раза.\n",
        "\n",
        "В заключении, выручка от пользователей с подпиской больше, чем от пользователей без подписки."
      ]
    },
    {
      "cell_type": "code",
      "execution_count": null,
      "id": "e950ba9d",
      "metadata": {
        "id": "e950ba9d"
      },
      "outputs": [],
      "source": []
    }
  ],
  "metadata": {
    "ExecuteTimeLog": [
      {
        "duration": 13,
        "start_time": "2023-07-24T14:25:27.936Z"
      },
      {
        "duration": 3,
        "start_time": "2023-07-24T14:25:58.885Z"
      },
      {
        "duration": 3,
        "start_time": "2023-07-24T14:26:18.281Z"
      },
      {
        "duration": 44,
        "start_time": "2023-07-24T14:26:26.035Z"
      },
      {
        "duration": 404,
        "start_time": "2023-07-24T14:26:31.639Z"
      },
      {
        "duration": 98,
        "start_time": "2023-07-24T14:26:33.649Z"
      },
      {
        "duration": 32,
        "start_time": "2023-07-24T14:26:43.438Z"
      },
      {
        "duration": 32,
        "start_time": "2023-07-24T14:26:52.245Z"
      },
      {
        "duration": 29,
        "start_time": "2023-07-24T14:27:13.741Z"
      },
      {
        "duration": 75,
        "start_time": "2023-07-24T14:34:21.132Z"
      },
      {
        "duration": 14,
        "start_time": "2023-07-24T14:35:00.770Z"
      },
      {
        "duration": 39,
        "start_time": "2023-07-24T14:35:19.574Z"
      },
      {
        "duration": 17,
        "start_time": "2023-07-24T14:35:26.873Z"
      },
      {
        "duration": 273,
        "start_time": "2023-07-24T14:35:30.970Z"
      },
      {
        "duration": 21,
        "start_time": "2023-07-24T14:35:34.894Z"
      },
      {
        "duration": 7,
        "start_time": "2023-07-24T14:35:47.989Z"
      },
      {
        "duration": 19,
        "start_time": "2023-07-24T14:35:55.642Z"
      },
      {
        "duration": 7,
        "start_time": "2023-07-24T17:09:53.451Z"
      },
      {
        "duration": 17,
        "start_time": "2023-07-24T17:10:56.265Z"
      },
      {
        "duration": 9,
        "start_time": "2023-07-24T17:12:23.527Z"
      },
      {
        "duration": 29,
        "start_time": "2023-07-24T17:13:39.127Z"
      },
      {
        "duration": 49,
        "start_time": "2023-07-24T17:13:40.363Z"
      },
      {
        "duration": 17,
        "start_time": "2023-07-24T17:13:40.827Z"
      },
      {
        "duration": 6,
        "start_time": "2023-07-24T17:13:41.182Z"
      },
      {
        "duration": 6,
        "start_time": "2023-07-24T17:13:45.135Z"
      },
      {
        "duration": 6,
        "start_time": "2023-07-24T17:13:46.328Z"
      },
      {
        "duration": 8,
        "start_time": "2023-07-24T17:13:50.886Z"
      },
      {
        "duration": 9,
        "start_time": "2023-07-24T17:13:51.290Z"
      },
      {
        "duration": 12,
        "start_time": "2023-07-24T17:13:58.730Z"
      },
      {
        "duration": 7,
        "start_time": "2023-07-24T17:14:27.566Z"
      },
      {
        "duration": 7,
        "start_time": "2023-07-24T17:14:48.667Z"
      },
      {
        "duration": 5,
        "start_time": "2023-07-24T17:15:51.930Z"
      },
      {
        "duration": 10,
        "start_time": "2023-07-24T17:32:15.222Z"
      },
      {
        "duration": 11,
        "start_time": "2023-07-24T17:32:45.800Z"
      },
      {
        "duration": 923,
        "start_time": "2023-07-24T17:44:50.425Z"
      },
      {
        "duration": 149,
        "start_time": "2023-07-24T17:45:19.047Z"
      },
      {
        "duration": 210,
        "start_time": "2023-07-24T17:45:33.663Z"
      },
      {
        "duration": 4,
        "start_time": "2023-07-24T17:49:40.264Z"
      },
      {
        "duration": 7,
        "start_time": "2023-07-24T17:49:42.961Z"
      },
      {
        "duration": 151,
        "start_time": "2023-07-24T17:50:02.336Z"
      },
      {
        "duration": 187,
        "start_time": "2023-07-24T17:50:06.360Z"
      },
      {
        "duration": 147,
        "start_time": "2023-07-24T17:50:10.119Z"
      },
      {
        "duration": 6,
        "start_time": "2023-07-24T17:50:12.168Z"
      },
      {
        "duration": 138,
        "start_time": "2023-07-24T17:50:14.040Z"
      },
      {
        "duration": 153,
        "start_time": "2023-07-24T17:51:19.585Z"
      },
      {
        "duration": 163,
        "start_time": "2023-07-24T17:56:06.934Z"
      },
      {
        "duration": 157,
        "start_time": "2023-07-24T17:56:24.698Z"
      },
      {
        "duration": 149,
        "start_time": "2023-07-24T17:56:41.226Z"
      },
      {
        "duration": 165,
        "start_time": "2023-07-24T17:57:20.221Z"
      },
      {
        "duration": 14,
        "start_time": "2023-07-24T17:57:54.217Z"
      },
      {
        "duration": 11,
        "start_time": "2023-07-24T17:58:06.902Z"
      },
      {
        "duration": 109,
        "start_time": "2023-07-24T17:58:17.933Z"
      },
      {
        "duration": 336,
        "start_time": "2023-07-24T17:58:23.755Z"
      },
      {
        "duration": 7,
        "start_time": "2023-07-24T17:59:12.979Z"
      },
      {
        "duration": 185,
        "start_time": "2023-07-24T17:59:18.942Z"
      },
      {
        "duration": 236,
        "start_time": "2023-07-24T17:59:30.232Z"
      },
      {
        "duration": 190,
        "start_time": "2023-07-24T17:59:57.378Z"
      },
      {
        "duration": 336,
        "start_time": "2023-07-24T18:00:54.029Z"
      },
      {
        "duration": 291,
        "start_time": "2023-07-24T18:01:07.550Z"
      },
      {
        "duration": 170,
        "start_time": "2023-07-24T18:01:16.904Z"
      },
      {
        "duration": 335,
        "start_time": "2023-07-24T18:01:28.187Z"
      },
      {
        "duration": 293,
        "start_time": "2023-07-24T18:01:36.586Z"
      },
      {
        "duration": 8,
        "start_time": "2023-07-24T18:01:51.747Z"
      },
      {
        "duration": 6,
        "start_time": "2023-07-24T18:02:08.679Z"
      },
      {
        "duration": 177,
        "start_time": "2023-07-24T18:02:13.738Z"
      },
      {
        "duration": 10,
        "start_time": "2023-07-24T18:02:15.657Z"
      },
      {
        "duration": 12,
        "start_time": "2023-07-24T18:02:24.842Z"
      },
      {
        "duration": 20,
        "start_time": "2023-07-24T18:02:35.191Z"
      },
      {
        "duration": 8,
        "start_time": "2023-07-24T18:02:40.691Z"
      },
      {
        "duration": 18,
        "start_time": "2023-07-24T18:02:57.528Z"
      },
      {
        "duration": 10,
        "start_time": "2023-07-24T18:03:18.104Z"
      },
      {
        "duration": 262,
        "start_time": "2023-07-24T18:11:21.583Z"
      },
      {
        "duration": 9,
        "start_time": "2023-07-24T18:11:41.625Z"
      },
      {
        "duration": 6,
        "start_time": "2023-07-24T18:11:44.180Z"
      },
      {
        "duration": 10,
        "start_time": "2023-07-24T18:11:49.714Z"
      },
      {
        "duration": 17,
        "start_time": "2023-07-24T18:12:04.415Z"
      },
      {
        "duration": 11,
        "start_time": "2023-07-24T18:12:07.431Z"
      },
      {
        "duration": 4,
        "start_time": "2023-07-24T18:12:12.387Z"
      },
      {
        "duration": 6,
        "start_time": "2023-07-24T18:12:19.421Z"
      },
      {
        "duration": 4,
        "start_time": "2023-07-24T18:12:22.856Z"
      },
      {
        "duration": 12,
        "start_time": "2023-07-24T18:12:31.063Z"
      },
      {
        "duration": 12,
        "start_time": "2023-07-24T18:12:37.856Z"
      },
      {
        "duration": 2966,
        "start_time": "2023-07-24T18:12:56.019Z"
      },
      {
        "duration": 12,
        "start_time": "2023-07-24T18:13:03.635Z"
      },
      {
        "duration": 0,
        "start_time": "2023-07-24T18:13:20.778Z"
      },
      {
        "duration": 10,
        "start_time": "2023-07-24T18:13:27.387Z"
      },
      {
        "duration": 194,
        "start_time": "2023-07-24T18:13:48.229Z"
      },
      {
        "duration": 503,
        "start_time": "2023-07-24T18:13:54.239Z"
      },
      {
        "duration": 289,
        "start_time": "2023-07-24T18:14:03.172Z"
      },
      {
        "duration": 22,
        "start_time": "2023-07-24T18:21:24.484Z"
      },
      {
        "duration": 17,
        "start_time": "2023-07-24T18:21:29.544Z"
      },
      {
        "duration": 20,
        "start_time": "2023-07-24T18:22:13.283Z"
      },
      {
        "duration": 20,
        "start_time": "2023-07-24T18:22:33.587Z"
      },
      {
        "duration": 13,
        "start_time": "2023-07-24T18:23:30.635Z"
      },
      {
        "duration": 11,
        "start_time": "2023-07-24T18:23:42.671Z"
      },
      {
        "duration": 7,
        "start_time": "2023-07-24T18:24:06.067Z"
      },
      {
        "duration": 14,
        "start_time": "2023-07-24T18:24:08.763Z"
      },
      {
        "duration": 11,
        "start_time": "2023-07-24T18:24:23.203Z"
      },
      {
        "duration": 6,
        "start_time": "2023-07-24T18:24:31.823Z"
      },
      {
        "duration": 13,
        "start_time": "2023-07-24T18:24:55.829Z"
      },
      {
        "duration": 23,
        "start_time": "2023-07-24T18:25:16.727Z"
      },
      {
        "duration": 14,
        "start_time": "2023-07-24T18:25:53.552Z"
      },
      {
        "duration": 7,
        "start_time": "2023-07-24T18:26:03.095Z"
      },
      {
        "duration": 134,
        "start_time": "2023-07-24T18:37:35.629Z"
      },
      {
        "duration": 204,
        "start_time": "2023-07-24T18:37:42.562Z"
      },
      {
        "duration": 168,
        "start_time": "2023-07-24T18:37:54.417Z"
      },
      {
        "duration": 177,
        "start_time": "2023-07-24T18:38:15.506Z"
      },
      {
        "duration": 181,
        "start_time": "2023-07-24T18:38:29.094Z"
      },
      {
        "duration": 67,
        "start_time": "2023-07-25T06:08:02.009Z"
      },
      {
        "duration": 400,
        "start_time": "2023-07-25T06:08:21.209Z"
      },
      {
        "duration": 93,
        "start_time": "2023-07-25T06:08:21.612Z"
      },
      {
        "duration": 165,
        "start_time": "2023-07-25T06:08:21.707Z"
      },
      {
        "duration": 57,
        "start_time": "2023-07-25T06:08:21.875Z"
      },
      {
        "duration": 9,
        "start_time": "2023-07-25T06:08:21.934Z"
      },
      {
        "duration": 32,
        "start_time": "2023-07-25T06:08:21.945Z"
      },
      {
        "duration": 6,
        "start_time": "2023-07-25T06:08:21.980Z"
      },
      {
        "duration": 14,
        "start_time": "2023-07-25T06:08:21.988Z"
      },
      {
        "duration": 15,
        "start_time": "2023-07-25T06:08:22.004Z"
      },
      {
        "duration": 15,
        "start_time": "2023-07-25T06:08:22.023Z"
      },
      {
        "duration": 32,
        "start_time": "2023-07-25T06:08:22.040Z"
      },
      {
        "duration": 14,
        "start_time": "2023-07-25T06:08:22.075Z"
      },
      {
        "duration": 7,
        "start_time": "2023-07-25T06:08:22.092Z"
      },
      {
        "duration": 20,
        "start_time": "2023-07-25T06:08:22.101Z"
      },
      {
        "duration": 6,
        "start_time": "2023-07-25T06:08:22.123Z"
      },
      {
        "duration": 659,
        "start_time": "2023-07-25T06:08:22.131Z"
      },
      {
        "duration": 138,
        "start_time": "2023-07-25T06:08:22.792Z"
      },
      {
        "duration": 313,
        "start_time": "2023-07-25T06:08:22.932Z"
      },
      {
        "duration": 255,
        "start_time": "2023-07-25T06:08:23.248Z"
      },
      {
        "duration": 188,
        "start_time": "2023-07-25T06:08:23.506Z"
      },
      {
        "duration": 23,
        "start_time": "2023-07-25T06:08:23.696Z"
      },
      {
        "duration": 11,
        "start_time": "2023-07-25T06:08:23.721Z"
      },
      {
        "duration": 247,
        "start_time": "2023-07-25T06:08:23.733Z"
      },
      {
        "duration": 331,
        "start_time": "2023-07-25T06:08:23.983Z"
      },
      {
        "duration": 212,
        "start_time": "2023-07-25T06:08:24.316Z"
      },
      {
        "duration": 257,
        "start_time": "2023-07-25T06:08:24.529Z"
      },
      {
        "duration": 41,
        "start_time": "2023-07-25T06:08:24.789Z"
      },
      {
        "duration": 24,
        "start_time": "2023-07-25T06:09:00.505Z"
      },
      {
        "duration": 6,
        "start_time": "2023-07-25T06:11:30.981Z"
      },
      {
        "duration": 168,
        "start_time": "2023-07-25T06:11:35.450Z"
      },
      {
        "duration": 8,
        "start_time": "2023-07-25T06:11:47.629Z"
      },
      {
        "duration": 22,
        "start_time": "2023-07-25T06:12:05.773Z"
      },
      {
        "duration": 9,
        "start_time": "2023-07-25T06:12:24.003Z"
      },
      {
        "duration": 23,
        "start_time": "2023-07-25T06:14:11.429Z"
      },
      {
        "duration": 23,
        "start_time": "2023-07-25T06:14:31.105Z"
      },
      {
        "duration": 25,
        "start_time": "2023-07-25T06:14:55.529Z"
      },
      {
        "duration": 18,
        "start_time": "2023-07-25T06:15:18.614Z"
      },
      {
        "duration": 54,
        "start_time": "2023-07-25T06:15:56.045Z"
      },
      {
        "duration": 19,
        "start_time": "2023-07-25T06:29:25.938Z"
      },
      {
        "duration": 81,
        "start_time": "2023-07-25T06:31:23.045Z"
      },
      {
        "duration": 71,
        "start_time": "2023-07-25T06:31:39.693Z"
      },
      {
        "duration": 73,
        "start_time": "2023-07-25T06:31:47.377Z"
      },
      {
        "duration": 85,
        "start_time": "2023-07-25T06:31:49.530Z"
      },
      {
        "duration": 80,
        "start_time": "2023-07-25T06:32:06.757Z"
      },
      {
        "duration": 31,
        "start_time": "2023-07-25T06:32:51.121Z"
      },
      {
        "duration": 69,
        "start_time": "2023-07-25T06:33:07.513Z"
      },
      {
        "duration": 64,
        "start_time": "2023-07-25T06:33:15.713Z"
      },
      {
        "duration": 81,
        "start_time": "2023-07-25T06:33:20.981Z"
      },
      {
        "duration": 77,
        "start_time": "2023-07-25T06:33:25.005Z"
      },
      {
        "duration": 19,
        "start_time": "2023-07-25T06:33:45.270Z"
      },
      {
        "duration": 26,
        "start_time": "2023-07-25T06:33:48.309Z"
      },
      {
        "duration": 76,
        "start_time": "2023-07-25T06:34:21.899Z"
      },
      {
        "duration": 116,
        "start_time": "2023-07-25T06:34:30.965Z"
      },
      {
        "duration": 89,
        "start_time": "2023-07-25T06:37:39.117Z"
      },
      {
        "duration": 31,
        "start_time": "2023-07-25T06:37:50.218Z"
      },
      {
        "duration": 32,
        "start_time": "2023-07-25T06:38:20.725Z"
      },
      {
        "duration": 31,
        "start_time": "2023-07-25T06:38:36.781Z"
      },
      {
        "duration": 23,
        "start_time": "2023-07-25T06:38:56.645Z"
      },
      {
        "duration": 24,
        "start_time": "2023-07-25T06:40:30.118Z"
      },
      {
        "duration": 1297,
        "start_time": "2023-07-25T06:41:09.371Z"
      },
      {
        "duration": 25,
        "start_time": "2023-07-25T06:41:16.801Z"
      },
      {
        "duration": 23,
        "start_time": "2023-07-25T06:42:02.114Z"
      },
      {
        "duration": 42,
        "start_time": "2023-07-25T06:42:30.104Z"
      },
      {
        "duration": 66,
        "start_time": "2023-07-25T06:43:19.870Z"
      },
      {
        "duration": 38,
        "start_time": "2023-07-25T06:43:23.077Z"
      },
      {
        "duration": 40,
        "start_time": "2023-07-25T06:56:01.333Z"
      },
      {
        "duration": 46,
        "start_time": "2023-07-25T06:56:08.195Z"
      },
      {
        "duration": 12,
        "start_time": "2023-07-25T06:56:45.397Z"
      },
      {
        "duration": 5,
        "start_time": "2023-07-25T06:56:51.265Z"
      },
      {
        "duration": 5,
        "start_time": "2023-07-25T06:56:56.801Z"
      },
      {
        "duration": 14,
        "start_time": "2023-07-25T06:57:03.537Z"
      },
      {
        "duration": 12,
        "start_time": "2023-07-25T06:57:06.437Z"
      },
      {
        "duration": 11,
        "start_time": "2023-07-25T06:57:08.353Z"
      },
      {
        "duration": 12,
        "start_time": "2023-07-25T06:57:23.318Z"
      },
      {
        "duration": 21,
        "start_time": "2023-07-25T06:58:39.895Z"
      },
      {
        "duration": 17,
        "start_time": "2023-07-25T06:58:49.925Z"
      },
      {
        "duration": 22,
        "start_time": "2023-07-25T06:58:57.975Z"
      },
      {
        "duration": 8,
        "start_time": "2023-07-25T06:59:38.425Z"
      },
      {
        "duration": 23,
        "start_time": "2023-07-25T06:59:45.761Z"
      },
      {
        "duration": 17,
        "start_time": "2023-07-25T07:00:15.253Z"
      },
      {
        "duration": 50,
        "start_time": "2023-07-25T07:00:59.870Z"
      },
      {
        "duration": 45,
        "start_time": "2023-07-25T07:01:07.641Z"
      },
      {
        "duration": 45,
        "start_time": "2023-07-25T07:01:12.246Z"
      },
      {
        "duration": 551,
        "start_time": "2023-07-25T13:48:31.156Z"
      },
      {
        "duration": 122,
        "start_time": "2023-07-25T13:48:31.718Z"
      },
      {
        "duration": 530,
        "start_time": "2023-07-25T13:48:31.842Z"
      },
      {
        "duration": 84,
        "start_time": "2023-07-25T13:48:32.376Z"
      },
      {
        "duration": 10,
        "start_time": "2023-07-25T13:48:32.462Z"
      },
      {
        "duration": 34,
        "start_time": "2023-07-25T13:48:32.474Z"
      },
      {
        "duration": 15,
        "start_time": "2023-07-25T13:48:32.510Z"
      },
      {
        "duration": 19,
        "start_time": "2023-07-25T13:48:32.527Z"
      },
      {
        "duration": 14,
        "start_time": "2023-07-25T13:48:32.548Z"
      },
      {
        "duration": 25,
        "start_time": "2023-07-25T13:48:32.565Z"
      },
      {
        "duration": 13,
        "start_time": "2023-07-25T13:48:32.594Z"
      },
      {
        "duration": 19,
        "start_time": "2023-07-25T13:48:32.619Z"
      },
      {
        "duration": 9,
        "start_time": "2023-07-25T13:48:32.640Z"
      },
      {
        "duration": 10,
        "start_time": "2023-07-25T13:48:32.651Z"
      },
      {
        "duration": 29,
        "start_time": "2023-07-25T13:48:32.664Z"
      },
      {
        "duration": 979,
        "start_time": "2023-07-25T13:48:32.695Z"
      },
      {
        "duration": 172,
        "start_time": "2023-07-25T13:48:33.676Z"
      },
      {
        "duration": 398,
        "start_time": "2023-07-25T13:48:33.851Z"
      },
      {
        "duration": 366,
        "start_time": "2023-07-25T13:48:34.253Z"
      },
      {
        "duration": 264,
        "start_time": "2023-07-25T13:48:34.635Z"
      },
      {
        "duration": 38,
        "start_time": "2023-07-25T13:48:34.901Z"
      },
      {
        "duration": 32,
        "start_time": "2023-07-25T13:48:34.941Z"
      },
      {
        "duration": 263,
        "start_time": "2023-07-25T13:48:34.975Z"
      },
      {
        "duration": 346,
        "start_time": "2023-07-25T13:48:35.240Z"
      },
      {
        "duration": 333,
        "start_time": "2023-07-25T13:48:35.589Z"
      },
      {
        "duration": 331,
        "start_time": "2023-07-25T13:48:35.925Z"
      },
      {
        "duration": 74,
        "start_time": "2023-07-25T13:48:36.257Z"
      },
      {
        "duration": 27,
        "start_time": "2023-07-25T14:15:15.637Z"
      },
      {
        "duration": 51,
        "start_time": "2023-07-25T14:34:40.816Z"
      },
      {
        "duration": 5,
        "start_time": "2023-07-25T14:38:45.015Z"
      },
      {
        "duration": 4,
        "start_time": "2023-07-25T14:38:54.258Z"
      },
      {
        "duration": 23,
        "start_time": "2023-07-25T14:39:00.558Z"
      },
      {
        "duration": 102,
        "start_time": "2023-07-25T14:40:35.130Z"
      },
      {
        "duration": 5,
        "start_time": "2023-07-25T14:41:12.858Z"
      },
      {
        "duration": 113,
        "start_time": "2023-07-25T14:41:20.436Z"
      },
      {
        "duration": 34,
        "start_time": "2023-07-25T14:41:23.449Z"
      },
      {
        "duration": 24,
        "start_time": "2023-07-25T14:41:57.029Z"
      },
      {
        "duration": 22,
        "start_time": "2023-07-25T14:46:42.041Z"
      },
      {
        "duration": 135,
        "start_time": "2023-07-25T14:49:17.611Z"
      },
      {
        "duration": 27,
        "start_time": "2023-07-25T14:55:13.612Z"
      },
      {
        "duration": 30,
        "start_time": "2023-07-25T14:58:51.133Z"
      },
      {
        "duration": 45,
        "start_time": "2023-07-25T14:59:17.076Z"
      },
      {
        "duration": 24,
        "start_time": "2023-07-25T14:59:26.729Z"
      },
      {
        "duration": 22,
        "start_time": "2023-07-25T14:59:33.338Z"
      },
      {
        "duration": 23,
        "start_time": "2023-07-25T14:59:37.128Z"
      },
      {
        "duration": 28,
        "start_time": "2023-07-25T14:59:41.449Z"
      },
      {
        "duration": 1854,
        "start_time": "2023-07-25T14:59:51.565Z"
      },
      {
        "duration": 42,
        "start_time": "2023-07-25T14:59:54.693Z"
      },
      {
        "duration": 48,
        "start_time": "2023-07-25T15:01:45.141Z"
      },
      {
        "duration": 30,
        "start_time": "2023-07-25T15:03:01.118Z"
      },
      {
        "duration": 7,
        "start_time": "2023-07-25T15:03:05.617Z"
      },
      {
        "duration": 25,
        "start_time": "2023-07-25T15:03:13.123Z"
      },
      {
        "duration": 86,
        "start_time": "2023-07-25T15:03:28.187Z"
      },
      {
        "duration": 19,
        "start_time": "2023-07-25T15:04:07.717Z"
      },
      {
        "duration": 26,
        "start_time": "2023-07-25T15:04:19.715Z"
      },
      {
        "duration": 31,
        "start_time": "2023-07-25T15:04:37.602Z"
      },
      {
        "duration": 11,
        "start_time": "2023-07-25T15:18:33.715Z"
      },
      {
        "duration": 27,
        "start_time": "2023-07-25T15:19:29.318Z"
      },
      {
        "duration": 27,
        "start_time": "2023-07-25T15:19:40.418Z"
      },
      {
        "duration": 379,
        "start_time": "2023-07-26T05:40:31.332Z"
      },
      {
        "duration": 87,
        "start_time": "2023-07-26T05:40:31.713Z"
      },
      {
        "duration": 82,
        "start_time": "2023-07-26T05:40:31.802Z"
      },
      {
        "duration": 85,
        "start_time": "2023-07-26T05:40:31.886Z"
      },
      {
        "duration": 323,
        "start_time": "2023-07-26T05:40:31.973Z"
      },
      {
        "duration": 95,
        "start_time": "2023-07-26T05:40:32.297Z"
      },
      {
        "duration": 96,
        "start_time": "2023-07-26T05:40:32.394Z"
      },
      {
        "duration": 79,
        "start_time": "2023-07-26T05:40:32.492Z"
      },
      {
        "duration": 31,
        "start_time": "2023-07-26T05:40:32.573Z"
      },
      {
        "duration": 25,
        "start_time": "2023-07-26T05:40:32.607Z"
      },
      {
        "duration": 37,
        "start_time": "2023-07-26T05:40:32.633Z"
      },
      {
        "duration": 43,
        "start_time": "2023-07-26T05:40:32.671Z"
      },
      {
        "duration": 70,
        "start_time": "2023-07-26T05:40:32.716Z"
      },
      {
        "duration": 90,
        "start_time": "2023-07-26T05:40:32.788Z"
      },
      {
        "duration": 18,
        "start_time": "2023-07-26T05:40:32.880Z"
      },
      {
        "duration": 577,
        "start_time": "2023-07-26T05:40:32.899Z"
      },
      {
        "duration": 127,
        "start_time": "2023-07-26T05:40:33.477Z"
      },
      {
        "duration": 255,
        "start_time": "2023-07-26T05:40:33.606Z"
      },
      {
        "duration": 229,
        "start_time": "2023-07-26T05:40:33.863Z"
      },
      {
        "duration": 161,
        "start_time": "2023-07-26T05:40:34.093Z"
      },
      {
        "duration": 53,
        "start_time": "2023-07-26T05:40:34.256Z"
      },
      {
        "duration": 9,
        "start_time": "2023-07-26T05:40:34.311Z"
      },
      {
        "duration": 392,
        "start_time": "2023-07-26T05:40:34.322Z"
      },
      {
        "duration": 224,
        "start_time": "2023-07-26T05:40:34.716Z"
      },
      {
        "duration": 191,
        "start_time": "2023-07-26T05:40:34.941Z"
      },
      {
        "duration": 207,
        "start_time": "2023-07-26T05:40:35.134Z"
      },
      {
        "duration": 30,
        "start_time": "2023-07-26T05:40:35.343Z"
      },
      {
        "duration": 2111,
        "start_time": "2023-07-26T05:40:35.387Z"
      },
      {
        "duration": 27,
        "start_time": "2023-07-26T05:40:57.017Z"
      },
      {
        "duration": 26,
        "start_time": "2023-07-26T05:41:07.788Z"
      },
      {
        "duration": 104,
        "start_time": "2023-07-26T05:42:03.040Z"
      },
      {
        "duration": 23,
        "start_time": "2023-07-26T05:42:09.948Z"
      },
      {
        "duration": 1487,
        "start_time": "2023-07-26T05:42:28.461Z"
      },
      {
        "duration": 3,
        "start_time": "2023-07-26T05:42:34.984Z"
      },
      {
        "duration": 23,
        "start_time": "2023-07-26T05:42:52.357Z"
      },
      {
        "duration": 2789,
        "start_time": "2023-07-26T05:47:09.778Z"
      },
      {
        "duration": 25,
        "start_time": "2023-07-26T05:47:18.858Z"
      },
      {
        "duration": 11,
        "start_time": "2023-07-26T05:55:12.119Z"
      },
      {
        "duration": 10,
        "start_time": "2023-07-26T05:55:17.238Z"
      },
      {
        "duration": 23,
        "start_time": "2023-07-26T06:00:22.016Z"
      },
      {
        "duration": 4,
        "start_time": "2023-07-26T06:01:02.156Z"
      },
      {
        "duration": 9,
        "start_time": "2023-07-26T06:01:35.336Z"
      },
      {
        "duration": 24,
        "start_time": "2023-07-26T06:01:56.235Z"
      },
      {
        "duration": 26,
        "start_time": "2023-07-26T06:02:09.483Z"
      },
      {
        "duration": 31,
        "start_time": "2023-07-26T06:02:45.208Z"
      },
      {
        "duration": 19,
        "start_time": "2023-07-26T06:03:01.936Z"
      },
      {
        "duration": 24,
        "start_time": "2023-07-26T06:03:24.444Z"
      },
      {
        "duration": 30,
        "start_time": "2023-07-26T06:03:47.652Z"
      },
      {
        "duration": 30,
        "start_time": "2023-07-26T06:04:00.724Z"
      },
      {
        "duration": 3,
        "start_time": "2023-07-26T06:04:20.075Z"
      },
      {
        "duration": 33,
        "start_time": "2023-07-26T06:04:25.204Z"
      },
      {
        "duration": 31,
        "start_time": "2023-07-26T06:04:29.172Z"
      },
      {
        "duration": 35,
        "start_time": "2023-07-26T06:04:32.328Z"
      },
      {
        "duration": 31,
        "start_time": "2023-07-26T06:04:41.564Z"
      },
      {
        "duration": 14,
        "start_time": "2023-07-26T06:05:02.644Z"
      },
      {
        "duration": 17,
        "start_time": "2023-07-26T06:05:10.816Z"
      },
      {
        "duration": 559,
        "start_time": "2023-07-26T07:48:13.639Z"
      },
      {
        "duration": 5,
        "start_time": "2023-07-26T07:49:39.253Z"
      },
      {
        "duration": 5,
        "start_time": "2023-07-26T07:53:16.161Z"
      },
      {
        "duration": 6,
        "start_time": "2023-07-26T07:53:36.003Z"
      },
      {
        "duration": 6,
        "start_time": "2023-07-26T08:02:45.850Z"
      },
      {
        "duration": 7,
        "start_time": "2023-07-26T08:06:58.504Z"
      },
      {
        "duration": 8,
        "start_time": "2023-07-26T08:09:03.880Z"
      },
      {
        "duration": 40,
        "start_time": "2023-07-26T08:10:08.668Z"
      },
      {
        "duration": 7,
        "start_time": "2023-07-26T08:10:11.037Z"
      },
      {
        "duration": 5,
        "start_time": "2023-07-26T08:28:16.199Z"
      },
      {
        "duration": 7,
        "start_time": "2023-07-26T08:28:26.042Z"
      },
      {
        "duration": 14,
        "start_time": "2023-07-26T08:32:16.083Z"
      },
      {
        "duration": 159,
        "start_time": "2023-07-26T08:33:44.744Z"
      },
      {
        "duration": 19,
        "start_time": "2023-07-26T08:34:04.344Z"
      },
      {
        "duration": 18,
        "start_time": "2023-07-26T08:34:16.203Z"
      },
      {
        "duration": 10,
        "start_time": "2023-07-26T08:34:30.743Z"
      },
      {
        "duration": 18,
        "start_time": "2023-07-26T08:34:51.903Z"
      },
      {
        "duration": 9,
        "start_time": "2023-07-26T08:36:11.183Z"
      },
      {
        "duration": 6,
        "start_time": "2023-07-26T08:38:46.135Z"
      },
      {
        "duration": 6,
        "start_time": "2023-07-26T08:41:41.311Z"
      },
      {
        "duration": 6,
        "start_time": "2023-07-26T08:41:49.715Z"
      },
      {
        "duration": 9,
        "start_time": "2023-07-26T08:41:54.583Z"
      },
      {
        "duration": 6,
        "start_time": "2023-07-26T08:44:56.807Z"
      },
      {
        "duration": 896,
        "start_time": "2023-07-26T13:17:55.724Z"
      },
      {
        "duration": 105,
        "start_time": "2023-07-26T13:17:56.622Z"
      },
      {
        "duration": 403,
        "start_time": "2023-07-26T13:17:56.729Z"
      },
      {
        "duration": 59,
        "start_time": "2023-07-26T13:17:57.135Z"
      },
      {
        "duration": 9,
        "start_time": "2023-07-26T13:17:57.195Z"
      },
      {
        "duration": 42,
        "start_time": "2023-07-26T13:17:57.205Z"
      },
      {
        "duration": 36,
        "start_time": "2023-07-26T13:17:57.249Z"
      },
      {
        "duration": 22,
        "start_time": "2023-07-26T13:17:57.287Z"
      },
      {
        "duration": 34,
        "start_time": "2023-07-26T13:17:57.311Z"
      },
      {
        "duration": 13,
        "start_time": "2023-07-26T13:17:57.350Z"
      },
      {
        "duration": 43,
        "start_time": "2023-07-26T13:17:57.365Z"
      },
      {
        "duration": 16,
        "start_time": "2023-07-26T13:17:57.410Z"
      },
      {
        "duration": 10,
        "start_time": "2023-07-26T13:17:57.428Z"
      },
      {
        "duration": 20,
        "start_time": "2023-07-26T13:17:57.439Z"
      },
      {
        "duration": 31,
        "start_time": "2023-07-26T13:17:57.461Z"
      },
      {
        "duration": 670,
        "start_time": "2023-07-26T13:17:57.494Z"
      },
      {
        "duration": 138,
        "start_time": "2023-07-26T13:17:58.167Z"
      },
      {
        "duration": 295,
        "start_time": "2023-07-26T13:17:58.307Z"
      },
      {
        "duration": 200,
        "start_time": "2023-07-26T13:17:58.604Z"
      },
      {
        "duration": 190,
        "start_time": "2023-07-26T13:17:58.806Z"
      },
      {
        "duration": 25,
        "start_time": "2023-07-26T13:17:58.998Z"
      },
      {
        "duration": 12,
        "start_time": "2023-07-26T13:17:59.025Z"
      },
      {
        "duration": 276,
        "start_time": "2023-07-26T13:17:59.039Z"
      },
      {
        "duration": 257,
        "start_time": "2023-07-26T13:17:59.317Z"
      },
      {
        "duration": 326,
        "start_time": "2023-07-26T13:17:59.577Z"
      },
      {
        "duration": 229,
        "start_time": "2023-07-26T13:17:59.905Z"
      },
      {
        "duration": 41,
        "start_time": "2023-07-26T13:18:00.136Z"
      },
      {
        "duration": 20,
        "start_time": "2023-07-26T13:18:00.180Z"
      },
      {
        "duration": 13,
        "start_time": "2023-07-26T13:18:00.201Z"
      },
      {
        "duration": 15,
        "start_time": "2023-07-26T13:18:00.216Z"
      },
      {
        "duration": 16,
        "start_time": "2023-07-26T13:19:06.736Z"
      },
      {
        "duration": 12,
        "start_time": "2023-07-26T13:19:45.203Z"
      },
      {
        "duration": 0,
        "start_time": "2023-07-26T13:20:03.944Z"
      },
      {
        "duration": 3388,
        "start_time": "2023-07-26T13:20:13.253Z"
      },
      {
        "duration": 11,
        "start_time": "2023-07-26T13:20:24.772Z"
      },
      {
        "duration": 11,
        "start_time": "2023-07-26T13:20:33.784Z"
      },
      {
        "duration": 22,
        "start_time": "2023-07-26T13:20:51.757Z"
      },
      {
        "duration": 15,
        "start_time": "2023-07-26T13:21:09.968Z"
      },
      {
        "duration": 1154,
        "start_time": "2023-07-26T13:23:40.770Z"
      },
      {
        "duration": 10,
        "start_time": "2023-07-26T13:23:48.270Z"
      },
      {
        "duration": 767,
        "start_time": "2023-07-26T13:23:58.406Z"
      },
      {
        "duration": 889,
        "start_time": "2023-07-26T13:24:02.295Z"
      },
      {
        "duration": 11,
        "start_time": "2023-07-26T13:24:19.040Z"
      },
      {
        "duration": 7,
        "start_time": "2023-07-26T13:24:27.965Z"
      },
      {
        "duration": 738,
        "start_time": "2023-07-26T13:24:32.265Z"
      },
      {
        "duration": 8,
        "start_time": "2023-07-26T13:24:35.202Z"
      },
      {
        "duration": 17,
        "start_time": "2023-07-26T13:24:44.701Z"
      },
      {
        "duration": 9,
        "start_time": "2023-07-26T13:24:59.870Z"
      },
      {
        "duration": 4,
        "start_time": "2023-07-26T13:25:07.965Z"
      },
      {
        "duration": 9,
        "start_time": "2023-07-26T13:29:15.286Z"
      },
      {
        "duration": 13,
        "start_time": "2023-07-26T13:30:10.002Z"
      },
      {
        "duration": 5,
        "start_time": "2023-07-26T13:30:28.293Z"
      },
      {
        "duration": 21,
        "start_time": "2023-07-26T13:30:36.721Z"
      },
      {
        "duration": 32,
        "start_time": "2023-07-26T13:30:41.252Z"
      },
      {
        "duration": 1239,
        "start_time": "2023-07-26T13:30:50.340Z"
      },
      {
        "duration": 25,
        "start_time": "2023-07-26T13:30:53.809Z"
      },
      {
        "duration": 13,
        "start_time": "2023-07-26T13:31:24.408Z"
      },
      {
        "duration": 11,
        "start_time": "2023-07-26T13:31:36.745Z"
      },
      {
        "duration": 11,
        "start_time": "2023-07-26T13:31:43.308Z"
      },
      {
        "duration": 5,
        "start_time": "2023-07-26T13:31:49.636Z"
      },
      {
        "duration": 20,
        "start_time": "2023-07-26T13:31:52.431Z"
      },
      {
        "duration": 6,
        "start_time": "2023-07-26T13:32:09.067Z"
      },
      {
        "duration": 5,
        "start_time": "2023-07-26T13:32:16.677Z"
      },
      {
        "duration": 8,
        "start_time": "2023-07-26T13:32:28.536Z"
      },
      {
        "duration": 31,
        "start_time": "2023-07-26T13:32:38.810Z"
      },
      {
        "duration": 10,
        "start_time": "2023-07-26T13:32:58.729Z"
      },
      {
        "duration": 23,
        "start_time": "2023-07-26T13:33:07.907Z"
      },
      {
        "duration": 10,
        "start_time": "2023-07-26T13:33:45.960Z"
      },
      {
        "duration": 15,
        "start_time": "2023-07-26T13:34:07.175Z"
      },
      {
        "duration": 1015,
        "start_time": "2023-07-26T13:34:47.819Z"
      },
      {
        "duration": 1674,
        "start_time": "2023-07-26T13:34:51.072Z"
      },
      {
        "duration": 10,
        "start_time": "2023-07-26T13:34:55.181Z"
      },
      {
        "duration": 22,
        "start_time": "2023-07-26T13:35:16.771Z"
      },
      {
        "duration": 9,
        "start_time": "2023-07-26T13:35:29.882Z"
      },
      {
        "duration": 32,
        "start_time": "2023-07-26T13:40:54.186Z"
      },
      {
        "duration": 8,
        "start_time": "2023-07-26T13:41:21.917Z"
      },
      {
        "duration": 10,
        "start_time": "2023-07-26T13:41:34.228Z"
      },
      {
        "duration": 6,
        "start_time": "2023-07-26T13:41:55.134Z"
      },
      {
        "duration": 13,
        "start_time": "2023-07-26T13:42:06.509Z"
      },
      {
        "duration": 23,
        "start_time": "2023-07-26T13:42:24.970Z"
      },
      {
        "duration": 9,
        "start_time": "2023-07-26T13:42:40.075Z"
      },
      {
        "duration": 16,
        "start_time": "2023-07-26T13:42:49.948Z"
      },
      {
        "duration": 22,
        "start_time": "2023-07-26T13:43:00.195Z"
      },
      {
        "duration": 12,
        "start_time": "2023-07-26T13:43:07.935Z"
      },
      {
        "duration": 25,
        "start_time": "2023-07-26T13:43:16.108Z"
      },
      {
        "duration": 17,
        "start_time": "2023-07-26T13:43:53.057Z"
      },
      {
        "duration": 9,
        "start_time": "2023-07-26T13:44:00.564Z"
      },
      {
        "duration": 15,
        "start_time": "2023-07-26T13:49:21.310Z"
      },
      {
        "duration": 16,
        "start_time": "2023-07-26T13:53:35.267Z"
      },
      {
        "duration": 15,
        "start_time": "2023-07-26T13:53:40.470Z"
      },
      {
        "duration": 25,
        "start_time": "2023-07-26T13:53:50.037Z"
      },
      {
        "duration": 13,
        "start_time": "2023-07-26T13:56:05.008Z"
      },
      {
        "duration": 15,
        "start_time": "2023-07-26T13:56:19.704Z"
      },
      {
        "duration": 9,
        "start_time": "2023-07-26T13:56:39.624Z"
      },
      {
        "duration": 15,
        "start_time": "2023-07-26T13:56:56.497Z"
      },
      {
        "duration": 16,
        "start_time": "2023-07-26T13:57:06.769Z"
      },
      {
        "duration": 14,
        "start_time": "2023-07-26T13:57:11.620Z"
      },
      {
        "duration": 11,
        "start_time": "2023-07-26T13:57:21.806Z"
      },
      {
        "duration": 19,
        "start_time": "2023-07-26T13:57:31.375Z"
      },
      {
        "duration": 10,
        "start_time": "2023-07-26T13:59:12.635Z"
      },
      {
        "duration": 16,
        "start_time": "2023-07-26T13:59:33.166Z"
      },
      {
        "duration": 19,
        "start_time": "2023-07-26T13:59:44.414Z"
      },
      {
        "duration": 25,
        "start_time": "2023-07-26T14:00:09.252Z"
      },
      {
        "duration": 24,
        "start_time": "2023-07-26T14:00:12.644Z"
      },
      {
        "duration": 34,
        "start_time": "2023-07-26T14:01:18.134Z"
      },
      {
        "duration": 33,
        "start_time": "2023-07-26T14:01:54.800Z"
      },
      {
        "duration": 17,
        "start_time": "2023-07-26T14:02:49.313Z"
      },
      {
        "duration": 1344,
        "start_time": "2023-07-26T14:03:16.589Z"
      },
      {
        "duration": 1251,
        "start_time": "2023-07-26T14:03:22.204Z"
      },
      {
        "duration": 1257,
        "start_time": "2023-07-26T14:03:35.998Z"
      },
      {
        "duration": 1249,
        "start_time": "2023-07-26T14:03:47.310Z"
      },
      {
        "duration": 19,
        "start_time": "2023-07-26T14:03:51.563Z"
      },
      {
        "duration": 12,
        "start_time": "2023-07-26T14:03:56.112Z"
      },
      {
        "duration": 5,
        "start_time": "2023-07-26T14:04:12.989Z"
      },
      {
        "duration": 31,
        "start_time": "2023-07-26T16:28:35.265Z"
      },
      {
        "duration": 2334,
        "start_time": "2023-07-26T16:28:48.812Z"
      },
      {
        "duration": 2669,
        "start_time": "2023-07-26T16:28:53.696Z"
      },
      {
        "duration": 2786,
        "start_time": "2023-07-26T16:28:58.836Z"
      },
      {
        "duration": 2298,
        "start_time": "2023-07-26T16:29:14.147Z"
      },
      {
        "duration": 26,
        "start_time": "2023-07-26T16:30:13.807Z"
      },
      {
        "duration": 18,
        "start_time": "2023-07-26T16:30:18.107Z"
      },
      {
        "duration": 2214,
        "start_time": "2023-07-26T16:30:20.973Z"
      },
      {
        "duration": 11,
        "start_time": "2023-07-26T16:30:24.420Z"
      },
      {
        "duration": 10,
        "start_time": "2023-07-26T16:30:27.533Z"
      },
      {
        "duration": 4027,
        "start_time": "2023-07-26T16:30:31.161Z"
      },
      {
        "duration": 10,
        "start_time": "2023-07-26T16:30:36.615Z"
      },
      {
        "duration": 14,
        "start_time": "2023-07-26T16:30:39.473Z"
      },
      {
        "duration": 20,
        "start_time": "2023-07-26T16:30:56.759Z"
      },
      {
        "duration": 4155,
        "start_time": "2023-07-26T16:31:01.200Z"
      },
      {
        "duration": 180,
        "start_time": "2023-07-26T16:31:09.225Z"
      },
      {
        "duration": 24,
        "start_time": "2023-07-26T16:31:11.304Z"
      },
      {
        "duration": 19,
        "start_time": "2023-07-26T16:31:35.260Z"
      },
      {
        "duration": 18,
        "start_time": "2023-07-26T16:33:15.875Z"
      },
      {
        "duration": 9,
        "start_time": "2023-07-26T16:33:27.815Z"
      },
      {
        "duration": 13,
        "start_time": "2023-07-26T16:33:49.291Z"
      },
      {
        "duration": 12,
        "start_time": "2023-07-26T16:34:02.382Z"
      },
      {
        "duration": 5,
        "start_time": "2023-07-26T16:35:51.959Z"
      },
      {
        "duration": 13,
        "start_time": "2023-07-26T16:36:12.148Z"
      },
      {
        "duration": 22,
        "start_time": "2023-07-26T16:36:18.553Z"
      },
      {
        "duration": 6,
        "start_time": "2023-07-26T16:36:33.282Z"
      },
      {
        "duration": 5,
        "start_time": "2023-07-26T16:36:40.864Z"
      },
      {
        "duration": 30,
        "start_time": "2023-07-26T16:41:13.562Z"
      },
      {
        "duration": 11,
        "start_time": "2023-07-26T16:42:50.868Z"
      },
      {
        "duration": 19,
        "start_time": "2023-07-26T16:43:07.544Z"
      },
      {
        "duration": 7,
        "start_time": "2023-07-26T16:43:31.316Z"
      },
      {
        "duration": 8,
        "start_time": "2023-07-26T16:43:51.159Z"
      },
      {
        "duration": 14,
        "start_time": "2023-07-26T16:43:53.350Z"
      },
      {
        "duration": 10,
        "start_time": "2023-07-26T16:43:59.276Z"
      },
      {
        "duration": 23,
        "start_time": "2023-07-26T17:02:25.084Z"
      },
      {
        "duration": 1805,
        "start_time": "2023-07-26T17:02:35.779Z"
      },
      {
        "duration": 16,
        "start_time": "2023-07-26T17:02:43.126Z"
      },
      {
        "duration": 1831,
        "start_time": "2023-07-26T17:03:01.079Z"
      },
      {
        "duration": 1267,
        "start_time": "2023-07-26T17:03:04.086Z"
      },
      {
        "duration": 16,
        "start_time": "2023-07-26T17:03:14.489Z"
      },
      {
        "duration": 18,
        "start_time": "2023-07-26T17:03:27.790Z"
      },
      {
        "duration": 8,
        "start_time": "2023-07-26T17:03:42.736Z"
      },
      {
        "duration": 14,
        "start_time": "2023-07-26T17:03:51.621Z"
      },
      {
        "duration": 20,
        "start_time": "2023-07-26T17:04:12.987Z"
      },
      {
        "duration": 22,
        "start_time": "2023-07-26T17:04:16.590Z"
      },
      {
        "duration": 11,
        "start_time": "2023-07-26T17:04:26.421Z"
      },
      {
        "duration": 28,
        "start_time": "2023-07-26T17:04:30.807Z"
      },
      {
        "duration": 99,
        "start_time": "2023-07-26T17:04:42.002Z"
      },
      {
        "duration": 102,
        "start_time": "2023-07-26T17:04:45.352Z"
      },
      {
        "duration": 10,
        "start_time": "2023-07-26T17:04:48.990Z"
      },
      {
        "duration": 23,
        "start_time": "2023-07-26T17:04:52.345Z"
      },
      {
        "duration": 14,
        "start_time": "2023-07-26T17:04:59.247Z"
      },
      {
        "duration": 33,
        "start_time": "2023-07-26T17:05:13.046Z"
      },
      {
        "duration": 20,
        "start_time": "2023-07-26T17:05:27.158Z"
      },
      {
        "duration": 31,
        "start_time": "2023-07-26T17:05:40.149Z"
      },
      {
        "duration": 17,
        "start_time": "2023-07-26T17:06:11.948Z"
      },
      {
        "duration": 18,
        "start_time": "2023-07-26T17:06:17.225Z"
      },
      {
        "duration": 27,
        "start_time": "2023-07-26T17:07:37.486Z"
      },
      {
        "duration": 33,
        "start_time": "2023-07-26T17:07:44.056Z"
      },
      {
        "duration": 11,
        "start_time": "2023-07-26T17:07:58.857Z"
      },
      {
        "duration": 13,
        "start_time": "2023-07-26T17:08:05.784Z"
      },
      {
        "duration": 17,
        "start_time": "2023-07-26T17:08:48.570Z"
      },
      {
        "duration": 16,
        "start_time": "2023-07-26T17:09:04.524Z"
      },
      {
        "duration": 14,
        "start_time": "2023-07-26T17:18:10.795Z"
      },
      {
        "duration": 16,
        "start_time": "2023-07-26T17:18:52.270Z"
      },
      {
        "duration": 3,
        "start_time": "2023-07-26T18:37:46.766Z"
      },
      {
        "duration": 12,
        "start_time": "2023-07-26T18:38:28.534Z"
      },
      {
        "duration": 3,
        "start_time": "2023-07-26T18:38:48.810Z"
      },
      {
        "duration": 277,
        "start_time": "2023-07-26T18:38:50.859Z"
      },
      {
        "duration": 6,
        "start_time": "2023-07-26T18:55:59.925Z"
      },
      {
        "duration": 71,
        "start_time": "2023-07-27T05:21:24.019Z"
      },
      {
        "duration": 1319,
        "start_time": "2023-07-27T05:21:36.289Z"
      },
      {
        "duration": 125,
        "start_time": "2023-07-27T05:21:37.611Z"
      },
      {
        "duration": 79,
        "start_time": "2023-07-27T05:21:37.738Z"
      },
      {
        "duration": 55,
        "start_time": "2023-07-27T05:21:37.819Z"
      },
      {
        "duration": 9,
        "start_time": "2023-07-27T05:21:37.877Z"
      },
      {
        "duration": 7,
        "start_time": "2023-07-27T05:21:37.887Z"
      },
      {
        "duration": 7,
        "start_time": "2023-07-27T05:21:37.896Z"
      },
      {
        "duration": 12,
        "start_time": "2023-07-27T05:21:37.905Z"
      },
      {
        "duration": 17,
        "start_time": "2023-07-27T05:21:37.919Z"
      },
      {
        "duration": 10,
        "start_time": "2023-07-27T05:21:37.938Z"
      },
      {
        "duration": 7,
        "start_time": "2023-07-27T05:21:37.949Z"
      },
      {
        "duration": 7,
        "start_time": "2023-07-27T05:21:37.958Z"
      },
      {
        "duration": 6,
        "start_time": "2023-07-27T05:21:37.967Z"
      },
      {
        "duration": 10,
        "start_time": "2023-07-27T05:21:37.977Z"
      },
      {
        "duration": 170,
        "start_time": "2023-07-27T05:21:37.988Z"
      },
      {
        "duration": 159,
        "start_time": "2023-07-27T05:21:38.160Z"
      },
      {
        "duration": 224,
        "start_time": "2023-07-27T05:21:38.321Z"
      },
      {
        "duration": 175,
        "start_time": "2023-07-27T05:21:38.546Z"
      },
      {
        "duration": 178,
        "start_time": "2023-07-27T05:21:38.722Z"
      },
      {
        "duration": 29,
        "start_time": "2023-07-27T05:21:38.901Z"
      },
      {
        "duration": 68,
        "start_time": "2023-07-27T05:21:38.932Z"
      },
      {
        "duration": 266,
        "start_time": "2023-07-27T05:21:39.002Z"
      },
      {
        "duration": 170,
        "start_time": "2023-07-27T05:21:39.270Z"
      },
      {
        "duration": 186,
        "start_time": "2023-07-27T05:21:39.442Z"
      },
      {
        "duration": 231,
        "start_time": "2023-07-27T05:21:39.630Z"
      },
      {
        "duration": 36,
        "start_time": "2023-07-27T05:21:39.863Z"
      },
      {
        "duration": 18,
        "start_time": "2023-07-27T05:21:39.901Z"
      },
      {
        "duration": 7,
        "start_time": "2023-07-27T05:21:39.920Z"
      },
      {
        "duration": 9,
        "start_time": "2023-07-27T05:21:39.928Z"
      },
      {
        "duration": 18,
        "start_time": "2023-07-27T05:21:39.939Z"
      },
      {
        "duration": 5,
        "start_time": "2023-07-27T05:21:39.959Z"
      },
      {
        "duration": 1290,
        "start_time": "2023-07-27T09:57:36.493Z"
      },
      {
        "duration": 163,
        "start_time": "2023-07-27T09:57:37.786Z"
      },
      {
        "duration": 152,
        "start_time": "2023-07-27T09:57:37.950Z"
      },
      {
        "duration": 58,
        "start_time": "2023-07-27T09:57:38.104Z"
      },
      {
        "duration": 8,
        "start_time": "2023-07-27T09:57:38.165Z"
      },
      {
        "duration": 17,
        "start_time": "2023-07-27T09:57:38.175Z"
      },
      {
        "duration": 13,
        "start_time": "2023-07-27T09:57:38.194Z"
      },
      {
        "duration": 19,
        "start_time": "2023-07-27T09:57:38.209Z"
      },
      {
        "duration": 25,
        "start_time": "2023-07-27T09:57:38.230Z"
      },
      {
        "duration": 12,
        "start_time": "2023-07-27T09:57:38.258Z"
      },
      {
        "duration": 15,
        "start_time": "2023-07-27T09:57:38.272Z"
      },
      {
        "duration": 16,
        "start_time": "2023-07-27T09:57:38.289Z"
      },
      {
        "duration": 15,
        "start_time": "2023-07-27T09:57:38.307Z"
      },
      {
        "duration": 13,
        "start_time": "2023-07-27T09:57:38.325Z"
      },
      {
        "duration": 177,
        "start_time": "2023-07-27T09:57:38.339Z"
      },
      {
        "duration": 135,
        "start_time": "2023-07-27T09:57:38.517Z"
      },
      {
        "duration": 275,
        "start_time": "2023-07-27T09:57:38.654Z"
      },
      {
        "duration": 173,
        "start_time": "2023-07-27T09:57:38.930Z"
      },
      {
        "duration": 168,
        "start_time": "2023-07-27T09:57:39.105Z"
      },
      {
        "duration": 24,
        "start_time": "2023-07-27T09:57:39.275Z"
      },
      {
        "duration": 14,
        "start_time": "2023-07-27T09:57:39.301Z"
      },
      {
        "duration": 225,
        "start_time": "2023-07-27T09:57:39.316Z"
      },
      {
        "duration": 200,
        "start_time": "2023-07-27T09:57:39.543Z"
      },
      {
        "duration": 202,
        "start_time": "2023-07-27T09:57:39.745Z"
      },
      {
        "duration": 306,
        "start_time": "2023-07-27T09:57:39.949Z"
      },
      {
        "duration": 30,
        "start_time": "2023-07-27T09:57:40.266Z"
      },
      {
        "duration": 19,
        "start_time": "2023-07-27T09:57:40.298Z"
      },
      {
        "duration": 7,
        "start_time": "2023-07-27T09:57:40.319Z"
      },
      {
        "duration": 23,
        "start_time": "2023-07-27T09:57:40.329Z"
      },
      {
        "duration": 18,
        "start_time": "2023-07-27T09:57:40.367Z"
      },
      {
        "duration": 118,
        "start_time": "2023-07-27T10:07:55.170Z"
      },
      {
        "duration": 22,
        "start_time": "2023-07-27T10:08:22.185Z"
      },
      {
        "duration": 22,
        "start_time": "2023-07-27T10:08:42.515Z"
      },
      {
        "duration": 6,
        "start_time": "2023-07-27T10:14:25.721Z"
      },
      {
        "duration": 23,
        "start_time": "2023-07-27T13:40:39.535Z"
      },
      {
        "duration": 1654,
        "start_time": "2023-07-27T13:40:51.435Z"
      },
      {
        "duration": 385,
        "start_time": "2023-07-27T13:40:56.403Z"
      },
      {
        "duration": 25,
        "start_time": "2023-07-27T13:48:29.908Z"
      },
      {
        "duration": 11,
        "start_time": "2023-07-27T13:48:39.882Z"
      },
      {
        "duration": 11,
        "start_time": "2023-07-27T13:48:43.376Z"
      },
      {
        "duration": 321,
        "start_time": "2023-07-27T14:09:21.084Z"
      },
      {
        "duration": 135,
        "start_time": "2023-07-27T14:09:26.662Z"
      },
      {
        "duration": 1091,
        "start_time": "2023-07-27T14:09:41.894Z"
      },
      {
        "duration": 6,
        "start_time": "2023-07-27T14:09:42.987Z"
      },
      {
        "duration": 8,
        "start_time": "2023-07-27T14:09:42.995Z"
      },
      {
        "duration": 185,
        "start_time": "2023-07-27T14:09:43.006Z"
      },
      {
        "duration": 12,
        "start_time": "2023-07-27T14:09:43.193Z"
      },
      {
        "duration": 73,
        "start_time": "2023-07-27T14:09:43.206Z"
      },
      {
        "duration": 11,
        "start_time": "2023-07-27T14:09:43.281Z"
      },
      {
        "duration": 13,
        "start_time": "2023-07-27T14:09:43.293Z"
      },
      {
        "duration": 8,
        "start_time": "2023-07-27T14:09:43.308Z"
      },
      {
        "duration": 49,
        "start_time": "2023-07-27T14:09:43.319Z"
      },
      {
        "duration": 18,
        "start_time": "2023-07-27T14:09:43.369Z"
      },
      {
        "duration": 10,
        "start_time": "2023-07-27T14:09:43.388Z"
      },
      {
        "duration": 7,
        "start_time": "2023-07-27T14:09:43.400Z"
      },
      {
        "duration": 13,
        "start_time": "2023-07-27T14:09:43.409Z"
      },
      {
        "duration": 47,
        "start_time": "2023-07-27T14:09:43.427Z"
      },
      {
        "duration": 194,
        "start_time": "2023-07-27T14:09:43.476Z"
      },
      {
        "duration": 112,
        "start_time": "2023-07-27T14:09:43.672Z"
      },
      {
        "duration": 263,
        "start_time": "2023-07-27T14:09:43.785Z"
      },
      {
        "duration": 153,
        "start_time": "2023-07-27T14:09:44.050Z"
      },
      {
        "duration": 179,
        "start_time": "2023-07-27T14:09:44.205Z"
      },
      {
        "duration": 20,
        "start_time": "2023-07-27T14:09:44.386Z"
      },
      {
        "duration": 10,
        "start_time": "2023-07-27T14:09:44.407Z"
      },
      {
        "duration": 198,
        "start_time": "2023-07-27T14:09:44.418Z"
      },
      {
        "duration": 241,
        "start_time": "2023-07-27T14:09:44.618Z"
      },
      {
        "duration": 221,
        "start_time": "2023-07-27T14:09:44.861Z"
      },
      {
        "duration": 289,
        "start_time": "2023-07-27T14:09:45.084Z"
      },
      {
        "duration": 59,
        "start_time": "2023-07-27T14:09:45.378Z"
      },
      {
        "duration": 27,
        "start_time": "2023-07-27T14:09:45.442Z"
      },
      {
        "duration": 22,
        "start_time": "2023-07-27T14:09:45.472Z"
      },
      {
        "duration": 6,
        "start_time": "2023-07-27T14:09:45.496Z"
      },
      {
        "duration": 9,
        "start_time": "2023-07-27T14:09:45.504Z"
      },
      {
        "duration": 71,
        "start_time": "2023-07-27T14:09:45.515Z"
      },
      {
        "duration": 5,
        "start_time": "2023-07-27T14:09:45.588Z"
      },
      {
        "duration": 7,
        "start_time": "2023-07-27T14:10:26.279Z"
      },
      {
        "duration": 15,
        "start_time": "2023-07-27T14:14:29.011Z"
      },
      {
        "duration": 132,
        "start_time": "2023-07-27T14:14:37.345Z"
      },
      {
        "duration": 25,
        "start_time": "2023-07-27T14:14:45.149Z"
      },
      {
        "duration": 10,
        "start_time": "2023-07-27T14:15:02.986Z"
      },
      {
        "duration": 182,
        "start_time": "2023-07-27T14:16:04.613Z"
      },
      {
        "duration": 8,
        "start_time": "2023-07-27T15:05:22.020Z"
      },
      {
        "duration": 22,
        "start_time": "2023-07-27T15:08:24.860Z"
      },
      {
        "duration": 11,
        "start_time": "2023-07-27T15:08:32.139Z"
      },
      {
        "duration": 183,
        "start_time": "2023-07-27T15:10:17.990Z"
      },
      {
        "duration": 298,
        "start_time": "2023-07-27T15:13:33.487Z"
      },
      {
        "duration": 269,
        "start_time": "2023-07-27T15:13:39.841Z"
      },
      {
        "duration": 353,
        "start_time": "2023-07-27T15:13:54.862Z"
      },
      {
        "duration": 206,
        "start_time": "2023-07-27T15:16:39.738Z"
      },
      {
        "duration": 210,
        "start_time": "2023-07-27T15:17:29.847Z"
      },
      {
        "duration": 235,
        "start_time": "2023-07-27T15:18:29.590Z"
      },
      {
        "duration": 256,
        "start_time": "2023-07-27T15:18:36.433Z"
      },
      {
        "duration": 249,
        "start_time": "2023-07-27T15:18:45.014Z"
      },
      {
        "duration": 292,
        "start_time": "2023-07-27T15:18:51.444Z"
      },
      {
        "duration": 392,
        "start_time": "2023-07-27T15:21:35.849Z"
      },
      {
        "duration": 8423,
        "start_time": "2023-07-27T15:22:04.493Z"
      },
      {
        "duration": 217,
        "start_time": "2023-07-27T15:22:14.712Z"
      },
      {
        "duration": 180,
        "start_time": "2023-07-27T15:22:18.550Z"
      },
      {
        "duration": 259,
        "start_time": "2023-07-27T15:22:25.187Z"
      },
      {
        "duration": 233,
        "start_time": "2023-07-27T15:22:28.801Z"
      },
      {
        "duration": 207,
        "start_time": "2023-07-27T15:22:54.506Z"
      },
      {
        "duration": 6,
        "start_time": "2023-07-27T15:33:04.588Z"
      },
      {
        "duration": 225,
        "start_time": "2023-07-27T15:33:07.543Z"
      },
      {
        "duration": 234,
        "start_time": "2023-07-27T15:33:10.894Z"
      },
      {
        "duration": 210,
        "start_time": "2023-07-27T15:33:17.293Z"
      },
      {
        "duration": 184,
        "start_time": "2023-07-27T15:33:21.689Z"
      },
      {
        "duration": 214,
        "start_time": "2023-07-27T15:34:09.475Z"
      },
      {
        "duration": 195,
        "start_time": "2023-07-27T15:34:28.307Z"
      },
      {
        "duration": 369,
        "start_time": "2023-07-27T15:34:58.404Z"
      },
      {
        "duration": 189,
        "start_time": "2023-07-27T15:41:00.001Z"
      },
      {
        "duration": 190,
        "start_time": "2023-07-27T15:41:04.819Z"
      },
      {
        "duration": 200,
        "start_time": "2023-07-27T15:41:10.897Z"
      },
      {
        "duration": 229,
        "start_time": "2023-07-27T15:41:21.103Z"
      },
      {
        "duration": 225,
        "start_time": "2023-07-27T15:41:25.623Z"
      },
      {
        "duration": 216,
        "start_time": "2023-07-27T15:41:49.575Z"
      },
      {
        "duration": 237,
        "start_time": "2023-07-27T15:41:57.704Z"
      },
      {
        "duration": 262,
        "start_time": "2023-07-27T15:42:03.507Z"
      },
      {
        "duration": 226,
        "start_time": "2023-07-27T15:42:12.206Z"
      },
      {
        "duration": 61,
        "start_time": "2023-07-27T15:44:15.132Z"
      },
      {
        "duration": 257,
        "start_time": "2023-07-27T15:45:38.917Z"
      },
      {
        "duration": 256,
        "start_time": "2023-07-27T15:56:19.013Z"
      },
      {
        "duration": 220,
        "start_time": "2023-07-27T15:56:35.854Z"
      },
      {
        "duration": 265,
        "start_time": "2023-07-27T15:56:45.448Z"
      },
      {
        "duration": 216,
        "start_time": "2023-07-27T15:57:10.581Z"
      },
      {
        "duration": 200,
        "start_time": "2023-07-27T15:57:19.265Z"
      },
      {
        "duration": 300,
        "start_time": "2023-07-27T17:11:59.248Z"
      },
      {
        "duration": 5,
        "start_time": "2023-07-27T17:12:19.401Z"
      },
      {
        "duration": 233,
        "start_time": "2023-07-27T17:13:37.947Z"
      },
      {
        "duration": 452,
        "start_time": "2023-07-27T17:13:52.211Z"
      },
      {
        "duration": 314,
        "start_time": "2023-07-27T17:14:32.223Z"
      },
      {
        "duration": 221,
        "start_time": "2023-07-27T17:14:53.997Z"
      },
      {
        "duration": 246,
        "start_time": "2023-07-27T17:15:14.399Z"
      },
      {
        "duration": 237,
        "start_time": "2023-07-27T17:15:24.339Z"
      },
      {
        "duration": 227,
        "start_time": "2023-07-27T17:15:46.150Z"
      },
      {
        "duration": 48,
        "start_time": "2023-07-27T17:16:54.104Z"
      },
      {
        "duration": 19,
        "start_time": "2023-07-27T17:37:30.314Z"
      },
      {
        "duration": 1158,
        "start_time": "2023-07-27T17:37:46.160Z"
      },
      {
        "duration": 31,
        "start_time": "2023-07-27T17:37:47.320Z"
      },
      {
        "duration": 29,
        "start_time": "2023-07-27T17:37:47.365Z"
      },
      {
        "duration": 185,
        "start_time": "2023-07-27T17:37:47.396Z"
      },
      {
        "duration": 13,
        "start_time": "2023-07-27T17:37:47.584Z"
      },
      {
        "duration": 31,
        "start_time": "2023-07-27T17:37:47.598Z"
      },
      {
        "duration": 69,
        "start_time": "2023-07-27T17:37:47.631Z"
      },
      {
        "duration": 32,
        "start_time": "2023-07-27T17:37:47.702Z"
      },
      {
        "duration": 58,
        "start_time": "2023-07-27T17:37:47.736Z"
      },
      {
        "duration": 9,
        "start_time": "2023-07-27T17:37:47.797Z"
      },
      {
        "duration": 88,
        "start_time": "2023-07-27T17:37:47.807Z"
      },
      {
        "duration": 11,
        "start_time": "2023-07-27T17:37:47.897Z"
      },
      {
        "duration": 25,
        "start_time": "2023-07-27T17:37:47.910Z"
      },
      {
        "duration": 58,
        "start_time": "2023-07-27T17:37:47.937Z"
      },
      {
        "duration": 16,
        "start_time": "2023-07-27T17:37:47.996Z"
      },
      {
        "duration": 35,
        "start_time": "2023-07-27T17:37:48.014Z"
      },
      {
        "duration": 167,
        "start_time": "2023-07-27T17:37:48.050Z"
      },
      {
        "duration": 255,
        "start_time": "2023-07-27T17:37:48.218Z"
      },
      {
        "duration": 170,
        "start_time": "2023-07-27T17:37:48.480Z"
      },
      {
        "duration": 182,
        "start_time": "2023-07-27T17:37:48.652Z"
      },
      {
        "duration": 29,
        "start_time": "2023-07-27T17:37:48.836Z"
      },
      {
        "duration": 41,
        "start_time": "2023-07-27T17:37:48.866Z"
      },
      {
        "duration": 199,
        "start_time": "2023-07-27T17:37:48.909Z"
      },
      {
        "duration": 184,
        "start_time": "2023-07-27T17:37:49.110Z"
      },
      {
        "duration": 248,
        "start_time": "2023-07-27T17:37:49.296Z"
      },
      {
        "duration": 186,
        "start_time": "2023-07-27T17:37:49.545Z"
      },
      {
        "duration": 352,
        "start_time": "2023-07-27T17:37:49.733Z"
      },
      {
        "duration": 272,
        "start_time": "2023-07-27T17:37:50.087Z"
      },
      {
        "duration": 30,
        "start_time": "2023-07-27T17:37:50.361Z"
      },
      {
        "duration": 50,
        "start_time": "2023-07-27T17:37:50.392Z"
      },
      {
        "duration": 35,
        "start_time": "2023-07-27T17:37:50.450Z"
      },
      {
        "duration": 9,
        "start_time": "2023-07-27T17:37:50.487Z"
      },
      {
        "duration": 11,
        "start_time": "2023-07-27T17:37:50.497Z"
      },
      {
        "duration": 37,
        "start_time": "2023-07-27T17:37:50.510Z"
      },
      {
        "duration": 45,
        "start_time": "2023-07-27T17:37:50.550Z"
      },
      {
        "duration": 11,
        "start_time": "2023-07-27T17:38:27.093Z"
      },
      {
        "duration": 6,
        "start_time": "2023-07-27T17:39:03.858Z"
      },
      {
        "duration": 6,
        "start_time": "2023-07-27T17:39:10.692Z"
      },
      {
        "duration": 8,
        "start_time": "2023-07-27T17:39:26.179Z"
      },
      {
        "duration": 3,
        "start_time": "2023-07-27T17:39:49.901Z"
      },
      {
        "duration": 4,
        "start_time": "2023-07-27T17:39:53.139Z"
      },
      {
        "duration": 11,
        "start_time": "2023-07-27T17:40:12.648Z"
      },
      {
        "duration": 138,
        "start_time": "2023-07-27T17:40:18.150Z"
      },
      {
        "duration": 7,
        "start_time": "2023-07-27T17:40:23.069Z"
      },
      {
        "duration": 15,
        "start_time": "2023-07-27T17:40:26.362Z"
      },
      {
        "duration": 86,
        "start_time": "2023-07-28T05:54:42.740Z"
      },
      {
        "duration": 1613,
        "start_time": "2023-07-28T05:54:51.402Z"
      },
      {
        "duration": 8,
        "start_time": "2023-07-28T05:54:53.018Z"
      },
      {
        "duration": 28,
        "start_time": "2023-07-28T05:54:53.028Z"
      },
      {
        "duration": 572,
        "start_time": "2023-07-28T05:54:53.058Z"
      },
      {
        "duration": 12,
        "start_time": "2023-07-28T05:54:53.633Z"
      },
      {
        "duration": 16,
        "start_time": "2023-07-28T05:54:53.647Z"
      },
      {
        "duration": 41,
        "start_time": "2023-07-28T05:54:53.664Z"
      },
      {
        "duration": 10,
        "start_time": "2023-07-28T05:54:53.706Z"
      },
      {
        "duration": 27,
        "start_time": "2023-07-28T05:54:53.718Z"
      },
      {
        "duration": 21,
        "start_time": "2023-07-28T05:54:53.747Z"
      },
      {
        "duration": 33,
        "start_time": "2023-07-28T05:54:53.770Z"
      },
      {
        "duration": 27,
        "start_time": "2023-07-28T05:54:53.807Z"
      },
      {
        "duration": 22,
        "start_time": "2023-07-28T05:54:53.838Z"
      },
      {
        "duration": 42,
        "start_time": "2023-07-28T05:54:53.863Z"
      },
      {
        "duration": 19,
        "start_time": "2023-07-28T05:54:53.914Z"
      },
      {
        "duration": 6,
        "start_time": "2023-07-28T05:54:53.938Z"
      },
      {
        "duration": 173,
        "start_time": "2023-07-28T05:54:53.946Z"
      },
      {
        "duration": 227,
        "start_time": "2023-07-28T05:54:54.121Z"
      },
      {
        "duration": 204,
        "start_time": "2023-07-28T05:54:54.350Z"
      },
      {
        "duration": 180,
        "start_time": "2023-07-28T05:54:54.556Z"
      },
      {
        "duration": 22,
        "start_time": "2023-07-28T05:54:54.738Z"
      },
      {
        "duration": 67,
        "start_time": "2023-07-28T05:54:54.761Z"
      },
      {
        "duration": 233,
        "start_time": "2023-07-28T05:54:54.830Z"
      },
      {
        "duration": 271,
        "start_time": "2023-07-28T05:54:55.065Z"
      },
      {
        "duration": 247,
        "start_time": "2023-07-28T05:54:55.341Z"
      },
      {
        "duration": 243,
        "start_time": "2023-07-28T05:54:55.590Z"
      },
      {
        "duration": 416,
        "start_time": "2023-07-28T05:54:55.834Z"
      },
      {
        "duration": 352,
        "start_time": "2023-07-28T05:54:56.252Z"
      },
      {
        "duration": 33,
        "start_time": "2023-07-28T05:54:56.606Z"
      },
      {
        "duration": 17,
        "start_time": "2023-07-28T05:54:56.641Z"
      },
      {
        "duration": 55,
        "start_time": "2023-07-28T05:54:56.674Z"
      },
      {
        "duration": 7,
        "start_time": "2023-07-28T05:54:56.731Z"
      },
      {
        "duration": 19,
        "start_time": "2023-07-28T05:54:56.740Z"
      },
      {
        "duration": 41,
        "start_time": "2023-07-28T05:54:56.760Z"
      },
      {
        "duration": 151,
        "start_time": "2023-07-28T05:54:56.803Z"
      },
      {
        "duration": 47,
        "start_time": "2023-07-28T05:55:30.670Z"
      },
      {
        "duration": 35,
        "start_time": "2023-07-28T05:55:36.032Z"
      },
      {
        "duration": 17,
        "start_time": "2023-07-28T05:56:04.404Z"
      },
      {
        "duration": 8,
        "start_time": "2023-07-28T05:56:22.841Z"
      },
      {
        "duration": 17,
        "start_time": "2023-07-28T05:56:32.964Z"
      },
      {
        "duration": 36,
        "start_time": "2023-07-28T05:56:36.485Z"
      },
      {
        "duration": 11,
        "start_time": "2023-07-28T05:56:43.628Z"
      },
      {
        "duration": 31,
        "start_time": "2023-07-28T06:00:51.922Z"
      },
      {
        "duration": 16,
        "start_time": "2023-07-28T06:00:58.975Z"
      },
      {
        "duration": 119,
        "start_time": "2023-07-28T06:02:28.262Z"
      },
      {
        "duration": 102,
        "start_time": "2023-07-28T06:12:04.044Z"
      },
      {
        "duration": 13,
        "start_time": "2023-07-28T06:38:30.017Z"
      },
      {
        "duration": 115,
        "start_time": "2023-07-28T06:38:41.302Z"
      },
      {
        "duration": 13,
        "start_time": "2023-07-28T06:38:47.143Z"
      },
      {
        "duration": 11,
        "start_time": "2023-07-28T06:39:20.522Z"
      },
      {
        "duration": 21,
        "start_time": "2023-07-28T06:40:01.819Z"
      },
      {
        "duration": 19,
        "start_time": "2023-07-28T06:40:10.268Z"
      },
      {
        "duration": 6,
        "start_time": "2023-07-28T06:40:15.528Z"
      },
      {
        "duration": 27,
        "start_time": "2023-07-28T06:40:19.211Z"
      },
      {
        "duration": 38,
        "start_time": "2023-07-28T06:41:22.516Z"
      },
      {
        "duration": 25,
        "start_time": "2023-07-28T06:41:32.223Z"
      },
      {
        "duration": 20,
        "start_time": "2023-07-28T06:41:39.537Z"
      },
      {
        "duration": 9,
        "start_time": "2023-07-28T06:41:47.534Z"
      },
      {
        "duration": 22,
        "start_time": "2023-07-28T06:42:13.097Z"
      },
      {
        "duration": 26,
        "start_time": "2023-07-28T06:42:22.715Z"
      },
      {
        "duration": 27,
        "start_time": "2023-07-28T06:42:50.326Z"
      },
      {
        "duration": 1573,
        "start_time": "2023-07-28T06:43:00.637Z"
      },
      {
        "duration": 30,
        "start_time": "2023-07-28T06:43:03.664Z"
      },
      {
        "duration": 1699,
        "start_time": "2023-07-28T06:43:14.348Z"
      },
      {
        "duration": 29,
        "start_time": "2023-07-28T06:43:22.306Z"
      },
      {
        "duration": 7,
        "start_time": "2023-07-28T06:43:32.937Z"
      },
      {
        "duration": 23,
        "start_time": "2023-07-28T06:43:39.334Z"
      },
      {
        "duration": 15,
        "start_time": "2023-07-28T06:43:46.521Z"
      },
      {
        "duration": 24,
        "start_time": "2023-07-28T06:43:49.747Z"
      },
      {
        "duration": 15,
        "start_time": "2023-07-28T06:51:38.272Z"
      },
      {
        "duration": 12,
        "start_time": "2023-07-28T06:51:45.515Z"
      },
      {
        "duration": 10,
        "start_time": "2023-07-28T06:51:56.015Z"
      },
      {
        "duration": 7,
        "start_time": "2023-07-28T06:52:04.732Z"
      },
      {
        "duration": 13,
        "start_time": "2023-07-28T06:52:31.598Z"
      },
      {
        "duration": 11,
        "start_time": "2023-07-28T06:52:48.536Z"
      },
      {
        "duration": 7,
        "start_time": "2023-07-28T06:53:04.258Z"
      },
      {
        "duration": 8,
        "start_time": "2023-07-28T06:53:13.132Z"
      },
      {
        "duration": 47,
        "start_time": "2023-07-28T06:53:27.167Z"
      },
      {
        "duration": 17,
        "start_time": "2023-07-28T06:53:51.639Z"
      },
      {
        "duration": 13,
        "start_time": "2023-07-28T06:54:04.451Z"
      },
      {
        "duration": 1533,
        "start_time": "2023-07-28T06:54:21.499Z"
      },
      {
        "duration": 39,
        "start_time": "2023-07-28T06:54:24.966Z"
      },
      {
        "duration": 28,
        "start_time": "2023-07-28T07:00:51.668Z"
      },
      {
        "duration": 21,
        "start_time": "2023-07-28T07:01:02.840Z"
      },
      {
        "duration": 11,
        "start_time": "2023-07-28T07:01:18.190Z"
      },
      {
        "duration": 262,
        "start_time": "2023-07-28T07:01:55.833Z"
      },
      {
        "duration": 24,
        "start_time": "2023-07-28T07:03:56.969Z"
      },
      {
        "duration": 17,
        "start_time": "2023-07-28T07:04:05.499Z"
      },
      {
        "duration": 6,
        "start_time": "2023-07-28T07:04:12.737Z"
      },
      {
        "duration": 16,
        "start_time": "2023-07-28T07:04:37.421Z"
      },
      {
        "duration": 13,
        "start_time": "2023-07-28T07:06:17.037Z"
      },
      {
        "duration": 21,
        "start_time": "2023-07-28T07:06:26.794Z"
      },
      {
        "duration": 5,
        "start_time": "2023-07-28T07:06:47.216Z"
      },
      {
        "duration": 8,
        "start_time": "2023-07-28T07:07:01.661Z"
      },
      {
        "duration": 101,
        "start_time": "2023-07-28T07:07:06.348Z"
      },
      {
        "duration": 107,
        "start_time": "2023-07-28T07:07:12.341Z"
      },
      {
        "duration": 12,
        "start_time": "2023-07-28T07:07:27.618Z"
      },
      {
        "duration": 23,
        "start_time": "2023-07-28T07:07:38.310Z"
      },
      {
        "duration": 12,
        "start_time": "2023-07-28T07:07:50.910Z"
      },
      {
        "duration": 14,
        "start_time": "2023-07-28T07:08:01.171Z"
      },
      {
        "duration": 36,
        "start_time": "2023-07-28T07:08:06.666Z"
      },
      {
        "duration": 6,
        "start_time": "2023-07-28T07:08:42.258Z"
      },
      {
        "duration": 1063,
        "start_time": "2023-07-28T07:08:53.092Z"
      },
      {
        "duration": 6,
        "start_time": "2023-07-28T07:08:56.619Z"
      },
      {
        "duration": 16,
        "start_time": "2023-07-28T07:09:28.316Z"
      },
      {
        "duration": 9,
        "start_time": "2023-07-28T07:09:44.398Z"
      },
      {
        "duration": 4,
        "start_time": "2023-07-28T07:09:47.840Z"
      },
      {
        "duration": 8,
        "start_time": "2023-07-28T07:09:52.140Z"
      },
      {
        "duration": 13,
        "start_time": "2023-07-28T07:10:10.298Z"
      },
      {
        "duration": 9,
        "start_time": "2023-07-28T07:10:18.896Z"
      },
      {
        "duration": 73,
        "start_time": "2023-07-28T07:10:54.051Z"
      },
      {
        "duration": 78,
        "start_time": "2023-07-28T07:11:22.317Z"
      },
      {
        "duration": 13,
        "start_time": "2023-07-28T07:11:57.589Z"
      },
      {
        "duration": 14,
        "start_time": "2023-07-28T07:12:09.196Z"
      },
      {
        "duration": 25,
        "start_time": "2023-07-28T07:44:06.815Z"
      },
      {
        "duration": 30,
        "start_time": "2023-07-28T07:44:35.166Z"
      },
      {
        "duration": 11,
        "start_time": "2023-07-28T07:44:53.317Z"
      },
      {
        "duration": 1735,
        "start_time": "2023-07-28T07:45:10.626Z"
      },
      {
        "duration": 26,
        "start_time": "2023-07-28T07:45:21.997Z"
      },
      {
        "duration": 109,
        "start_time": "2023-07-28T07:45:26.289Z"
      },
      {
        "duration": 1348,
        "start_time": "2023-07-28T07:45:49.471Z"
      },
      {
        "duration": 1345,
        "start_time": "2023-07-28T07:45:53.298Z"
      },
      {
        "duration": 28,
        "start_time": "2023-07-28T07:45:56.018Z"
      },
      {
        "duration": 21,
        "start_time": "2023-07-28T07:46:17.045Z"
      },
      {
        "duration": 16,
        "start_time": "2023-07-28T07:46:49.069Z"
      },
      {
        "duration": 100,
        "start_time": "2023-07-28T07:46:56.440Z"
      },
      {
        "duration": 28,
        "start_time": "2023-07-28T07:47:10.987Z"
      },
      {
        "duration": 8,
        "start_time": "2023-07-28T07:49:34.051Z"
      },
      {
        "duration": 10,
        "start_time": "2023-07-28T07:49:42.218Z"
      },
      {
        "duration": 144,
        "start_time": "2023-07-28T07:50:29.443Z"
      },
      {
        "duration": 16,
        "start_time": "2023-07-28T07:51:40.114Z"
      },
      {
        "duration": 17,
        "start_time": "2023-07-28T07:51:56.671Z"
      },
      {
        "duration": 16,
        "start_time": "2023-07-28T07:52:27.606Z"
      },
      {
        "duration": 60,
        "start_time": "2023-07-28T07:52:33.102Z"
      },
      {
        "duration": 30,
        "start_time": "2023-07-28T07:53:44.088Z"
      },
      {
        "duration": 6,
        "start_time": "2023-07-28T07:53:59.919Z"
      },
      {
        "duration": 13,
        "start_time": "2023-07-28T07:54:05.617Z"
      },
      {
        "duration": 11,
        "start_time": "2023-07-28T07:54:23.517Z"
      },
      {
        "duration": 9,
        "start_time": "2023-07-28T07:54:30.283Z"
      },
      {
        "duration": 12,
        "start_time": "2023-07-28T07:54:32.907Z"
      },
      {
        "duration": 26,
        "start_time": "2023-07-28T07:54:40.872Z"
      },
      {
        "duration": 9,
        "start_time": "2023-07-28T07:59:28.187Z"
      },
      {
        "duration": 26,
        "start_time": "2023-07-28T07:59:51.677Z"
      },
      {
        "duration": 146,
        "start_time": "2023-07-28T08:00:32.000Z"
      },
      {
        "duration": 298,
        "start_time": "2023-07-28T08:01:07.279Z"
      },
      {
        "duration": 21,
        "start_time": "2023-07-28T08:03:58.894Z"
      },
      {
        "duration": 35,
        "start_time": "2023-07-28T08:04:19.373Z"
      },
      {
        "duration": 22,
        "start_time": "2023-07-28T08:04:46.765Z"
      },
      {
        "duration": 18,
        "start_time": "2023-07-28T08:05:19.692Z"
      },
      {
        "duration": 14,
        "start_time": "2023-07-28T08:06:08.020Z"
      },
      {
        "duration": 73,
        "start_time": "2023-07-28T08:21:54.337Z"
      },
      {
        "duration": 64,
        "start_time": "2023-07-28T08:22:04.499Z"
      },
      {
        "duration": 25,
        "start_time": "2023-07-28T08:22:35.464Z"
      },
      {
        "duration": 14,
        "start_time": "2023-07-28T08:22:52.121Z"
      },
      {
        "duration": 15,
        "start_time": "2023-07-28T08:23:53.419Z"
      },
      {
        "duration": 14,
        "start_time": "2023-07-28T08:24:08.816Z"
      },
      {
        "duration": 245,
        "start_time": "2023-07-28T08:24:48.922Z"
      },
      {
        "duration": 268,
        "start_time": "2023-07-28T08:25:02.795Z"
      },
      {
        "duration": 129,
        "start_time": "2023-07-28T08:25:07.794Z"
      },
      {
        "duration": 209,
        "start_time": "2023-07-28T08:25:30.433Z"
      },
      {
        "duration": 141,
        "start_time": "2023-07-28T08:25:38.227Z"
      },
      {
        "duration": 14,
        "start_time": "2023-07-28T08:25:53.431Z"
      },
      {
        "duration": 5,
        "start_time": "2023-07-28T08:26:39.436Z"
      },
      {
        "duration": 14,
        "start_time": "2023-07-28T08:26:46.106Z"
      },
      {
        "duration": 7,
        "start_time": "2023-07-28T08:26:48.350Z"
      },
      {
        "duration": 22,
        "start_time": "2023-07-28T08:27:11.471Z"
      },
      {
        "duration": 8,
        "start_time": "2023-07-28T08:27:26.343Z"
      },
      {
        "duration": 79,
        "start_time": "2023-07-28T08:27:58.610Z"
      },
      {
        "duration": 15,
        "start_time": "2023-07-28T08:29:03.824Z"
      },
      {
        "duration": 14,
        "start_time": "2023-07-28T08:31:13.489Z"
      },
      {
        "duration": 2720,
        "start_time": "2023-07-28T08:32:02.988Z"
      },
      {
        "duration": 2827,
        "start_time": "2023-07-28T08:32:21.744Z"
      },
      {
        "duration": 6,
        "start_time": "2023-07-28T08:32:35.700Z"
      },
      {
        "duration": 11,
        "start_time": "2023-07-28T08:32:59.857Z"
      },
      {
        "duration": 18,
        "start_time": "2023-07-28T08:33:21.544Z"
      },
      {
        "duration": 16,
        "start_time": "2023-07-28T08:33:32.156Z"
      },
      {
        "duration": 93,
        "start_time": "2023-07-28T08:33:46.329Z"
      },
      {
        "duration": 15,
        "start_time": "2023-07-28T08:34:01.652Z"
      },
      {
        "duration": 22,
        "start_time": "2023-07-28T08:34:08.671Z"
      },
      {
        "duration": 5,
        "start_time": "2023-07-28T08:35:55.927Z"
      },
      {
        "duration": 13,
        "start_time": "2023-07-28T08:45:54.154Z"
      },
      {
        "duration": 48,
        "start_time": "2023-07-28T08:55:06.565Z"
      },
      {
        "duration": 15,
        "start_time": "2023-07-28T08:55:10.518Z"
      },
      {
        "duration": 38,
        "start_time": "2023-07-28T08:55:19.867Z"
      },
      {
        "duration": 14,
        "start_time": "2023-07-28T08:55:24.910Z"
      },
      {
        "duration": 13,
        "start_time": "2023-07-28T08:55:34.502Z"
      },
      {
        "duration": 397,
        "start_time": "2023-07-28T08:55:37.502Z"
      },
      {
        "duration": 9,
        "start_time": "2023-07-28T08:55:44.552Z"
      },
      {
        "duration": 10,
        "start_time": "2023-07-28T08:55:56.615Z"
      },
      {
        "duration": 40,
        "start_time": "2023-07-28T08:56:28.363Z"
      },
      {
        "duration": 3041,
        "start_time": "2023-07-28T08:56:36.695Z"
      },
      {
        "duration": 38,
        "start_time": "2023-07-28T08:56:40.973Z"
      },
      {
        "duration": 1596,
        "start_time": "2023-07-28T08:56:50.509Z"
      },
      {
        "duration": 11,
        "start_time": "2023-07-28T08:56:56.756Z"
      },
      {
        "duration": 8,
        "start_time": "2023-07-28T08:56:59.439Z"
      },
      {
        "duration": 10,
        "start_time": "2023-07-28T08:57:01.840Z"
      },
      {
        "duration": 9,
        "start_time": "2023-07-28T08:57:10.419Z"
      },
      {
        "duration": 14,
        "start_time": "2023-07-28T08:57:13.005Z"
      },
      {
        "duration": 10,
        "start_time": "2023-07-28T08:57:18.933Z"
      },
      {
        "duration": 7,
        "start_time": "2023-07-28T08:57:30.354Z"
      },
      {
        "duration": 20,
        "start_time": "2023-07-28T08:57:32.772Z"
      },
      {
        "duration": 11,
        "start_time": "2023-07-28T08:57:38.906Z"
      },
      {
        "duration": 8,
        "start_time": "2023-07-28T08:57:43.208Z"
      },
      {
        "duration": 11,
        "start_time": "2023-07-28T08:57:45.605Z"
      },
      {
        "duration": 25,
        "start_time": "2023-07-28T08:58:25.714Z"
      },
      {
        "duration": 1579,
        "start_time": "2023-07-28T08:58:36.474Z"
      },
      {
        "duration": 16,
        "start_time": "2023-07-28T08:58:52.032Z"
      },
      {
        "duration": 19,
        "start_time": "2023-07-28T08:58:57.423Z"
      },
      {
        "duration": 11,
        "start_time": "2023-07-28T08:59:04.144Z"
      },
      {
        "duration": 149,
        "start_time": "2023-07-28T08:59:24.652Z"
      },
      {
        "duration": 8,
        "start_time": "2023-07-28T08:59:38.043Z"
      },
      {
        "duration": 22,
        "start_time": "2023-07-28T08:59:47.030Z"
      },
      {
        "duration": 16,
        "start_time": "2023-07-28T08:59:53.690Z"
      },
      {
        "duration": 10,
        "start_time": "2023-07-28T08:59:57.338Z"
      },
      {
        "duration": 14,
        "start_time": "2023-07-28T09:00:00.072Z"
      },
      {
        "duration": 92,
        "start_time": "2023-07-28T09:02:10.013Z"
      },
      {
        "duration": 66,
        "start_time": "2023-07-28T09:02:37.605Z"
      },
      {
        "duration": 91,
        "start_time": "2023-07-28T09:06:51.847Z"
      },
      {
        "duration": 76,
        "start_time": "2023-07-28T09:06:57.692Z"
      },
      {
        "duration": 89,
        "start_time": "2023-07-28T09:07:04.935Z"
      },
      {
        "duration": 108,
        "start_time": "2023-07-28T09:10:13.540Z"
      },
      {
        "duration": 147,
        "start_time": "2023-07-28T09:11:12.298Z"
      },
      {
        "duration": 89,
        "start_time": "2023-07-28T09:11:51.504Z"
      },
      {
        "duration": 1530,
        "start_time": "2023-07-29T06:20:50.677Z"
      },
      {
        "duration": 5,
        "start_time": "2023-07-29T06:20:52.210Z"
      },
      {
        "duration": 40,
        "start_time": "2023-07-29T06:20:52.216Z"
      },
      {
        "duration": 261,
        "start_time": "2023-07-29T06:20:52.258Z"
      },
      {
        "duration": 13,
        "start_time": "2023-07-29T06:20:52.521Z"
      },
      {
        "duration": 16,
        "start_time": "2023-07-29T06:20:52.536Z"
      },
      {
        "duration": 23,
        "start_time": "2023-07-29T06:20:52.554Z"
      },
      {
        "duration": 26,
        "start_time": "2023-07-29T06:20:52.579Z"
      },
      {
        "duration": 18,
        "start_time": "2023-07-29T06:20:52.607Z"
      },
      {
        "duration": 10,
        "start_time": "2023-07-29T06:20:52.628Z"
      },
      {
        "duration": 24,
        "start_time": "2023-07-29T06:20:52.640Z"
      },
      {
        "duration": 30,
        "start_time": "2023-07-29T06:20:52.666Z"
      },
      {
        "duration": 8,
        "start_time": "2023-07-29T06:20:52.698Z"
      },
      {
        "duration": 24,
        "start_time": "2023-07-29T06:20:52.708Z"
      },
      {
        "duration": 25,
        "start_time": "2023-07-29T06:20:52.735Z"
      },
      {
        "duration": 29,
        "start_time": "2023-07-29T06:20:52.763Z"
      },
      {
        "duration": 107,
        "start_time": "2023-07-29T06:20:52.795Z"
      },
      {
        "duration": 191,
        "start_time": "2023-07-29T06:20:52.904Z"
      },
      {
        "duration": 186,
        "start_time": "2023-07-29T06:20:53.097Z"
      },
      {
        "duration": 195,
        "start_time": "2023-07-29T06:20:53.287Z"
      },
      {
        "duration": 24,
        "start_time": "2023-07-29T06:20:53.486Z"
      },
      {
        "duration": 49,
        "start_time": "2023-07-29T06:20:53.512Z"
      },
      {
        "duration": 221,
        "start_time": "2023-07-29T06:20:53.563Z"
      },
      {
        "duration": 223,
        "start_time": "2023-07-29T06:20:53.787Z"
      },
      {
        "duration": 222,
        "start_time": "2023-07-29T06:20:54.012Z"
      },
      {
        "duration": 227,
        "start_time": "2023-07-29T06:20:54.237Z"
      },
      {
        "duration": 439,
        "start_time": "2023-07-29T06:20:54.466Z"
      },
      {
        "duration": 355,
        "start_time": "2023-07-29T06:20:54.909Z"
      },
      {
        "duration": 33,
        "start_time": "2023-07-29T06:20:55.265Z"
      },
      {
        "duration": 20,
        "start_time": "2023-07-29T06:20:55.300Z"
      },
      {
        "duration": 92,
        "start_time": "2023-07-29T06:20:55.323Z"
      },
      {
        "duration": 7,
        "start_time": "2023-07-29T06:20:55.418Z"
      },
      {
        "duration": 42,
        "start_time": "2023-07-29T06:20:55.426Z"
      },
      {
        "duration": 106,
        "start_time": "2023-07-29T06:20:55.470Z"
      },
      {
        "duration": 102,
        "start_time": "2023-07-29T06:20:55.578Z"
      },
      {
        "duration": 5,
        "start_time": "2023-07-29T06:30:13.833Z"
      },
      {
        "duration": 25,
        "start_time": "2023-07-29T06:33:46.112Z"
      },
      {
        "duration": 21,
        "start_time": "2023-07-29T06:33:53.835Z"
      },
      {
        "duration": 3,
        "start_time": "2023-07-29T06:35:47.783Z"
      },
      {
        "duration": 30,
        "start_time": "2023-07-29T06:37:21.272Z"
      },
      {
        "duration": 12,
        "start_time": "2023-07-29T06:38:12.519Z"
      },
      {
        "duration": 14,
        "start_time": "2023-07-29T06:38:26.561Z"
      },
      {
        "duration": 23,
        "start_time": "2023-07-29T06:38:35.656Z"
      },
      {
        "duration": 9,
        "start_time": "2023-07-29T06:39:05.967Z"
      },
      {
        "duration": 26,
        "start_time": "2023-07-29T06:39:09.520Z"
      },
      {
        "duration": 10,
        "start_time": "2023-07-29T06:39:23.629Z"
      },
      {
        "duration": 10,
        "start_time": "2023-07-29T06:40:46.818Z"
      },
      {
        "duration": 83,
        "start_time": "2023-07-29T06:58:51.018Z"
      },
      {
        "duration": 1397,
        "start_time": "2023-07-29T06:58:58.341Z"
      },
      {
        "duration": 281,
        "start_time": "2023-07-29T06:58:59.741Z"
      },
      {
        "duration": 21,
        "start_time": "2023-07-29T06:59:00.024Z"
      },
      {
        "duration": 92,
        "start_time": "2023-07-29T06:59:00.047Z"
      },
      {
        "duration": 106,
        "start_time": "2023-07-29T06:59:00.143Z"
      },
      {
        "duration": 82,
        "start_time": "2023-07-29T06:59:00.251Z"
      },
      {
        "duration": 64,
        "start_time": "2023-07-29T06:59:00.335Z"
      },
      {
        "duration": 37,
        "start_time": "2023-07-29T06:59:00.402Z"
      },
      {
        "duration": 96,
        "start_time": "2023-07-29T06:59:00.442Z"
      },
      {
        "duration": 84,
        "start_time": "2023-07-29T06:59:00.542Z"
      },
      {
        "duration": 82,
        "start_time": "2023-07-29T06:59:00.628Z"
      },
      {
        "duration": 48,
        "start_time": "2023-07-29T06:59:00.712Z"
      },
      {
        "duration": 102,
        "start_time": "2023-07-29T06:59:00.762Z"
      },
      {
        "duration": 93,
        "start_time": "2023-07-29T06:59:00.866Z"
      },
      {
        "duration": 168,
        "start_time": "2023-07-29T06:59:00.962Z"
      },
      {
        "duration": 271,
        "start_time": "2023-07-29T06:59:01.133Z"
      },
      {
        "duration": 361,
        "start_time": "2023-07-29T06:59:01.407Z"
      },
      {
        "duration": 279,
        "start_time": "2023-07-29T06:59:01.772Z"
      },
      {
        "duration": 38,
        "start_time": "2023-07-29T06:59:02.054Z"
      },
      {
        "duration": 110,
        "start_time": "2023-07-29T06:59:02.095Z"
      },
      {
        "duration": 309,
        "start_time": "2023-07-29T06:59:02.207Z"
      },
      {
        "duration": 301,
        "start_time": "2023-07-29T06:59:02.518Z"
      },
      {
        "duration": 395,
        "start_time": "2023-07-29T06:59:02.826Z"
      },
      {
        "duration": 333,
        "start_time": "2023-07-29T06:59:03.228Z"
      },
      {
        "duration": 559,
        "start_time": "2023-07-29T06:59:03.567Z"
      },
      {
        "duration": 399,
        "start_time": "2023-07-29T06:59:04.129Z"
      },
      {
        "duration": 26,
        "start_time": "2023-07-29T06:59:04.530Z"
      },
      {
        "duration": 62,
        "start_time": "2023-07-29T06:59:04.559Z"
      },
      {
        "duration": 22,
        "start_time": "2023-07-29T06:59:04.624Z"
      },
      {
        "duration": 19,
        "start_time": "2023-07-29T06:59:04.648Z"
      },
      {
        "duration": 6,
        "start_time": "2023-07-29T06:59:04.669Z"
      },
      {
        "duration": 33,
        "start_time": "2023-07-29T06:59:04.677Z"
      },
      {
        "duration": 13,
        "start_time": "2023-07-29T06:59:04.712Z"
      },
      {
        "duration": 95,
        "start_time": "2023-07-29T06:59:04.727Z"
      },
      {
        "duration": 13,
        "start_time": "2023-07-29T06:59:04.825Z"
      },
      {
        "duration": 61,
        "start_time": "2023-07-29T06:59:04.841Z"
      },
      {
        "duration": 15,
        "start_time": "2023-07-29T06:59:18.026Z"
      },
      {
        "duration": 12,
        "start_time": "2023-07-29T06:59:29.991Z"
      },
      {
        "duration": 11,
        "start_time": "2023-07-29T07:00:11.323Z"
      },
      {
        "duration": 13,
        "start_time": "2023-07-29T07:00:16.891Z"
      },
      {
        "duration": 13,
        "start_time": "2023-07-29T07:00:21.671Z"
      },
      {
        "duration": 16,
        "start_time": "2023-07-29T07:00:41.422Z"
      },
      {
        "duration": 17,
        "start_time": "2023-07-29T07:00:55.021Z"
      },
      {
        "duration": 15,
        "start_time": "2023-07-29T07:00:59.290Z"
      },
      {
        "duration": 15,
        "start_time": "2023-07-29T07:01:03.319Z"
      },
      {
        "duration": 16,
        "start_time": "2023-07-29T07:01:18.339Z"
      },
      {
        "duration": 107,
        "start_time": "2023-07-29T07:01:35.596Z"
      },
      {
        "duration": 10,
        "start_time": "2023-07-29T07:01:42.142Z"
      },
      {
        "duration": 16,
        "start_time": "2023-07-29T07:01:47.134Z"
      },
      {
        "duration": 17,
        "start_time": "2023-07-29T07:04:24.131Z"
      },
      {
        "duration": 18,
        "start_time": "2023-07-29T07:04:32.008Z"
      },
      {
        "duration": 2912,
        "start_time": "2023-07-29T07:05:32.448Z"
      },
      {
        "duration": 15,
        "start_time": "2023-07-29T07:05:40.696Z"
      },
      {
        "duration": 18,
        "start_time": "2023-07-29T07:05:57.892Z"
      },
      {
        "duration": 19,
        "start_time": "2023-07-29T07:06:08.588Z"
      },
      {
        "duration": 17,
        "start_time": "2023-07-29T07:06:22.141Z"
      },
      {
        "duration": 24,
        "start_time": "2023-07-29T07:06:44.382Z"
      },
      {
        "duration": 18,
        "start_time": "2023-07-29T07:07:31.104Z"
      },
      {
        "duration": 32,
        "start_time": "2023-07-29T07:08:15.166Z"
      },
      {
        "duration": 22,
        "start_time": "2023-07-29T07:10:22.739Z"
      },
      {
        "duration": 21,
        "start_time": "2023-07-29T07:10:31.802Z"
      },
      {
        "duration": 30,
        "start_time": "2023-07-29T07:11:12.169Z"
      },
      {
        "duration": 20,
        "start_time": "2023-07-29T07:12:58.184Z"
      },
      {
        "duration": 15,
        "start_time": "2023-07-29T07:13:22.088Z"
      },
      {
        "duration": 1145,
        "start_time": "2023-07-29T07:16:44.890Z"
      },
      {
        "duration": 127,
        "start_time": "2023-07-29T07:16:48.523Z"
      },
      {
        "duration": 29,
        "start_time": "2023-07-29T07:16:51.484Z"
      },
      {
        "duration": 18,
        "start_time": "2023-07-29T07:16:56.088Z"
      },
      {
        "duration": 14,
        "start_time": "2023-07-29T07:16:58.353Z"
      },
      {
        "duration": 185,
        "start_time": "2023-07-29T07:21:04.936Z"
      },
      {
        "duration": 120,
        "start_time": "2023-07-29T07:21:14.340Z"
      },
      {
        "duration": 17,
        "start_time": "2023-07-29T07:23:06.790Z"
      },
      {
        "duration": 5,
        "start_time": "2023-07-29T07:23:45.607Z"
      },
      {
        "duration": 13,
        "start_time": "2023-07-29T07:23:58.102Z"
      },
      {
        "duration": 861,
        "start_time": "2023-07-29T07:25:26.625Z"
      },
      {
        "duration": 12,
        "start_time": "2023-07-29T07:25:31.999Z"
      },
      {
        "duration": 11,
        "start_time": "2023-07-29T07:26:00.531Z"
      },
      {
        "duration": 10,
        "start_time": "2023-07-29T07:27:04.026Z"
      },
      {
        "duration": 6,
        "start_time": "2023-07-29T07:27:33.924Z"
      },
      {
        "duration": 25,
        "start_time": "2023-07-29T07:27:47.257Z"
      },
      {
        "duration": 10,
        "start_time": "2023-07-29T07:28:04.358Z"
      },
      {
        "duration": 16,
        "start_time": "2023-07-29T07:28:12.765Z"
      },
      {
        "duration": 5,
        "start_time": "2023-07-29T07:28:32.122Z"
      },
      {
        "duration": 10,
        "start_time": "2023-07-29T07:28:48.353Z"
      },
      {
        "duration": 4,
        "start_time": "2023-07-29T07:29:00.259Z"
      },
      {
        "duration": 1151,
        "start_time": "2023-07-29T07:29:15.365Z"
      },
      {
        "duration": 138,
        "start_time": "2023-07-29T07:29:18.234Z"
      },
      {
        "duration": 20,
        "start_time": "2023-07-29T07:29:21.448Z"
      },
      {
        "duration": 16,
        "start_time": "2023-07-29T07:29:23.344Z"
      },
      {
        "duration": 16,
        "start_time": "2023-07-29T07:29:24.734Z"
      },
      {
        "duration": 9,
        "start_time": "2023-07-29T07:29:27.393Z"
      },
      {
        "duration": 9,
        "start_time": "2023-07-29T07:29:28.308Z"
      },
      {
        "duration": 10,
        "start_time": "2023-07-29T07:29:30.108Z"
      },
      {
        "duration": 6,
        "start_time": "2023-07-29T07:29:32.484Z"
      },
      {
        "duration": 6,
        "start_time": "2023-07-29T07:29:33.684Z"
      },
      {
        "duration": 6,
        "start_time": "2023-07-29T07:29:35.283Z"
      },
      {
        "duration": 5,
        "start_time": "2023-07-29T07:29:37.049Z"
      },
      {
        "duration": 4,
        "start_time": "2023-07-29T07:29:38.655Z"
      },
      {
        "duration": 4,
        "start_time": "2023-07-29T07:29:41.934Z"
      },
      {
        "duration": 15,
        "start_time": "2023-07-29T07:29:43.069Z"
      },
      {
        "duration": 14,
        "start_time": "2023-07-29T07:29:47.353Z"
      },
      {
        "duration": 7,
        "start_time": "2023-07-29T07:29:50.109Z"
      },
      {
        "duration": 7,
        "start_time": "2023-07-29T07:29:51.107Z"
      },
      {
        "duration": 4,
        "start_time": "2023-07-29T07:29:51.952Z"
      },
      {
        "duration": 12,
        "start_time": "2023-07-29T07:32:53.249Z"
      },
      {
        "duration": 251,
        "start_time": "2023-07-29T11:29:42.676Z"
      },
      {
        "duration": 176,
        "start_time": "2023-07-29T11:30:39.417Z"
      },
      {
        "duration": 125,
        "start_time": "2023-07-29T11:30:39.599Z"
      },
      {
        "duration": 111,
        "start_time": "2023-07-29T11:30:39.730Z"
      },
      {
        "duration": 201,
        "start_time": "2023-07-29T11:30:39.856Z"
      },
      {
        "duration": 98,
        "start_time": "2023-07-29T11:30:40.070Z"
      },
      {
        "duration": 134,
        "start_time": "2023-07-29T11:30:40.179Z"
      },
      {
        "duration": 81,
        "start_time": "2023-07-29T11:30:40.321Z"
      },
      {
        "duration": 161,
        "start_time": "2023-07-29T11:30:40.404Z"
      },
      {
        "duration": 134,
        "start_time": "2023-07-29T11:30:40.567Z"
      },
      {
        "duration": 148,
        "start_time": "2023-07-29T11:30:40.709Z"
      },
      {
        "duration": 105,
        "start_time": "2023-07-29T11:30:40.860Z"
      },
      {
        "duration": 133,
        "start_time": "2023-07-29T11:30:40.968Z"
      },
      {
        "duration": 154,
        "start_time": "2023-07-29T11:30:41.103Z"
      },
      {
        "duration": 96,
        "start_time": "2023-07-29T11:30:41.262Z"
      },
      {
        "duration": 125,
        "start_time": "2023-07-29T11:30:41.365Z"
      },
      {
        "duration": 149,
        "start_time": "2023-07-29T11:30:41.492Z"
      },
      {
        "duration": 161,
        "start_time": "2023-07-29T11:30:41.644Z"
      },
      {
        "duration": 388,
        "start_time": "2023-07-29T11:30:41.807Z"
      },
      {
        "duration": 115,
        "start_time": "2023-07-29T11:30:42.200Z"
      },
      {
        "duration": 297,
        "start_time": "2023-07-29T11:30:42.320Z"
      },
      {
        "duration": 250,
        "start_time": "2023-07-29T11:30:42.620Z"
      },
      {
        "duration": 262,
        "start_time": "2023-07-29T11:30:42.875Z"
      },
      {
        "duration": 54,
        "start_time": "2023-07-29T11:30:43.144Z"
      },
      {
        "duration": 145,
        "start_time": "2023-07-29T11:30:43.205Z"
      },
      {
        "duration": 422,
        "start_time": "2023-07-29T11:30:43.356Z"
      },
      {
        "duration": 409,
        "start_time": "2023-07-29T11:30:43.784Z"
      },
      {
        "duration": 542,
        "start_time": "2023-07-29T11:30:44.201Z"
      },
      {
        "duration": 423,
        "start_time": "2023-07-29T11:30:44.749Z"
      },
      {
        "duration": 531,
        "start_time": "2023-07-29T11:30:45.178Z"
      },
      {
        "duration": 528,
        "start_time": "2023-07-29T11:30:45.716Z"
      },
      {
        "duration": 59,
        "start_time": "2023-07-29T11:30:46.250Z"
      },
      {
        "duration": 130,
        "start_time": "2023-07-29T11:30:46.315Z"
      },
      {
        "duration": 109,
        "start_time": "2023-07-29T11:30:46.447Z"
      },
      {
        "duration": 241,
        "start_time": "2023-07-29T11:30:46.558Z"
      },
      {
        "duration": 121,
        "start_time": "2023-07-29T11:30:46.805Z"
      },
      {
        "duration": 145,
        "start_time": "2023-07-29T11:30:46.931Z"
      },
      {
        "duration": 207,
        "start_time": "2023-07-29T11:30:47.082Z"
      },
      {
        "duration": 265,
        "start_time": "2023-07-29T11:30:47.300Z"
      },
      {
        "duration": 24,
        "start_time": "2023-07-29T11:30:47.571Z"
      },
      {
        "duration": 152,
        "start_time": "2023-07-29T11:30:47.607Z"
      },
      {
        "duration": 177,
        "start_time": "2023-07-29T11:30:47.761Z"
      },
      {
        "duration": 47,
        "start_time": "2023-07-29T11:30:48.274Z"
      },
      {
        "duration": 166,
        "start_time": "2023-07-29T11:30:48.331Z"
      },
      {
        "duration": 457,
        "start_time": "2023-07-29T11:31:19.794Z"
      },
      {
        "duration": 229,
        "start_time": "2023-07-29T11:31:22.567Z"
      },
      {
        "duration": 279,
        "start_time": "2023-07-29T11:31:53.858Z"
      },
      {
        "duration": 249,
        "start_time": "2023-07-29T11:33:10.796Z"
      },
      {
        "duration": 377,
        "start_time": "2023-07-29T11:33:15.596Z"
      },
      {
        "duration": 526,
        "start_time": "2023-07-29T11:33:21.495Z"
      },
      {
        "duration": 174,
        "start_time": "2023-07-29T11:34:08.244Z"
      },
      {
        "duration": 356,
        "start_time": "2023-07-29T11:34:26.283Z"
      },
      {
        "duration": 38,
        "start_time": "2023-07-29T11:45:44.722Z"
      },
      {
        "duration": 142,
        "start_time": "2023-07-29T11:49:30.490Z"
      },
      {
        "duration": 0,
        "start_time": "2023-07-29T11:49:49.038Z"
      },
      {
        "duration": 4350,
        "start_time": "2023-07-29T11:50:09.296Z"
      },
      {
        "duration": 4612,
        "start_time": "2023-07-29T11:50:54.412Z"
      },
      {
        "duration": 4747,
        "start_time": "2023-07-29T11:51:22.670Z"
      },
      {
        "duration": 1672,
        "start_time": "2023-07-29T11:51:42.162Z"
      },
      {
        "duration": 191,
        "start_time": "2023-07-29T11:51:43.836Z"
      },
      {
        "duration": 55,
        "start_time": "2023-07-29T11:51:44.039Z"
      },
      {
        "duration": 87,
        "start_time": "2023-07-29T11:51:44.104Z"
      },
      {
        "duration": 166,
        "start_time": "2023-07-29T11:51:44.199Z"
      },
      {
        "duration": 158,
        "start_time": "2023-07-29T11:51:44.370Z"
      },
      {
        "duration": 147,
        "start_time": "2023-07-29T11:51:44.538Z"
      },
      {
        "duration": 164,
        "start_time": "2023-07-29T11:51:44.692Z"
      },
      {
        "duration": 198,
        "start_time": "2023-07-29T11:51:44.865Z"
      },
      {
        "duration": 117,
        "start_time": "2023-07-29T11:51:45.069Z"
      },
      {
        "duration": 306,
        "start_time": "2023-07-29T11:51:45.190Z"
      },
      {
        "duration": 119,
        "start_time": "2023-07-29T11:51:45.498Z"
      },
      {
        "duration": 223,
        "start_time": "2023-07-29T11:51:45.623Z"
      },
      {
        "duration": 153,
        "start_time": "2023-07-29T11:51:45.854Z"
      },
      {
        "duration": 114,
        "start_time": "2023-07-29T11:51:46.019Z"
      },
      {
        "duration": 208,
        "start_time": "2023-07-29T11:51:46.137Z"
      },
      {
        "duration": 97,
        "start_time": "2023-07-29T11:51:46.355Z"
      },
      {
        "duration": 111,
        "start_time": "2023-07-29T11:51:46.461Z"
      },
      {
        "duration": 113,
        "start_time": "2023-07-29T11:51:46.584Z"
      },
      {
        "duration": 134,
        "start_time": "2023-07-29T11:51:46.703Z"
      },
      {
        "duration": 611,
        "start_time": "2023-07-29T11:51:46.844Z"
      },
      {
        "duration": 260,
        "start_time": "2023-07-29T11:51:47.457Z"
      },
      {
        "duration": 449,
        "start_time": "2023-07-29T11:51:47.725Z"
      },
      {
        "duration": 479,
        "start_time": "2023-07-29T11:51:48.178Z"
      },
      {
        "duration": 373,
        "start_time": "2023-07-29T11:51:48.663Z"
      },
      {
        "duration": 70,
        "start_time": "2023-07-29T11:51:49.047Z"
      },
      {
        "duration": 179,
        "start_time": "2023-07-29T11:51:49.126Z"
      },
      {
        "duration": 423,
        "start_time": "2023-07-29T11:51:49.308Z"
      },
      {
        "duration": 340,
        "start_time": "2023-07-29T11:51:49.739Z"
      },
      {
        "duration": 300,
        "start_time": "2023-07-29T11:51:50.087Z"
      },
      {
        "duration": 335,
        "start_time": "2023-07-29T11:51:50.391Z"
      },
      {
        "duration": 557,
        "start_time": "2023-07-29T11:51:50.730Z"
      },
      {
        "duration": 452,
        "start_time": "2023-07-29T11:51:51.295Z"
      },
      {
        "duration": 60,
        "start_time": "2023-07-29T11:51:51.757Z"
      },
      {
        "duration": 161,
        "start_time": "2023-07-29T11:51:51.820Z"
      },
      {
        "duration": 187,
        "start_time": "2023-07-29T11:51:51.985Z"
      },
      {
        "duration": 162,
        "start_time": "2023-07-29T11:51:52.175Z"
      },
      {
        "duration": 108,
        "start_time": "2023-07-29T11:51:52.339Z"
      },
      {
        "duration": 148,
        "start_time": "2023-07-29T11:51:52.449Z"
      },
      {
        "duration": 143,
        "start_time": "2023-07-29T11:51:52.602Z"
      },
      {
        "duration": 255,
        "start_time": "2023-07-29T11:51:52.765Z"
      },
      {
        "duration": 121,
        "start_time": "2023-07-29T11:51:53.022Z"
      },
      {
        "duration": 119,
        "start_time": "2023-07-29T11:51:53.154Z"
      },
      {
        "duration": 355,
        "start_time": "2023-07-29T11:54:44.230Z"
      },
      {
        "duration": 54,
        "start_time": "2023-07-29T11:54:49.815Z"
      },
      {
        "duration": 27,
        "start_time": "2023-07-29T11:54:52.845Z"
      },
      {
        "duration": 15,
        "start_time": "2023-07-29T12:00:28.952Z"
      },
      {
        "duration": 40,
        "start_time": "2023-07-29T12:00:58.485Z"
      },
      {
        "duration": 21,
        "start_time": "2023-07-29T12:01:14.546Z"
      },
      {
        "duration": 20,
        "start_time": "2023-07-29T12:11:49.557Z"
      },
      {
        "duration": 32,
        "start_time": "2023-07-29T12:38:54.462Z"
      },
      {
        "duration": 1135,
        "start_time": "2023-07-29T14:02:37.331Z"
      },
      {
        "duration": 228,
        "start_time": "2023-07-29T14:02:38.468Z"
      },
      {
        "duration": 19,
        "start_time": "2023-07-29T14:02:38.697Z"
      },
      {
        "duration": 14,
        "start_time": "2023-07-29T14:02:38.718Z"
      },
      {
        "duration": 12,
        "start_time": "2023-07-29T14:02:38.734Z"
      },
      {
        "duration": 6,
        "start_time": "2023-07-29T14:02:38.748Z"
      },
      {
        "duration": 7,
        "start_time": "2023-07-29T14:02:38.755Z"
      },
      {
        "duration": 6,
        "start_time": "2023-07-29T14:02:38.763Z"
      },
      {
        "duration": 5,
        "start_time": "2023-07-29T14:02:38.771Z"
      },
      {
        "duration": 42,
        "start_time": "2023-07-29T14:02:38.778Z"
      },
      {
        "duration": 5,
        "start_time": "2023-07-29T14:02:38.821Z"
      },
      {
        "duration": 11,
        "start_time": "2023-07-29T14:02:38.827Z"
      },
      {
        "duration": 5,
        "start_time": "2023-07-29T14:02:38.839Z"
      },
      {
        "duration": 7,
        "start_time": "2023-07-29T14:02:38.845Z"
      },
      {
        "duration": 12,
        "start_time": "2023-07-29T14:02:38.853Z"
      },
      {
        "duration": 13,
        "start_time": "2023-07-29T14:02:38.867Z"
      },
      {
        "duration": 7,
        "start_time": "2023-07-29T14:02:38.881Z"
      },
      {
        "duration": 32,
        "start_time": "2023-07-29T14:02:38.889Z"
      },
      {
        "duration": 3,
        "start_time": "2023-07-29T14:02:38.923Z"
      },
      {
        "duration": 18,
        "start_time": "2023-07-29T14:02:38.927Z"
      },
      {
        "duration": 1028,
        "start_time": "2023-07-29T14:02:59.707Z"
      },
      {
        "duration": 105,
        "start_time": "2023-07-29T14:03:00.737Z"
      },
      {
        "duration": 18,
        "start_time": "2023-07-29T14:03:00.843Z"
      },
      {
        "duration": 32,
        "start_time": "2023-07-29T14:03:00.863Z"
      },
      {
        "duration": 34,
        "start_time": "2023-07-29T14:03:00.896Z"
      },
      {
        "duration": 54,
        "start_time": "2023-07-29T14:03:00.932Z"
      },
      {
        "duration": 16,
        "start_time": "2023-07-29T14:03:00.988Z"
      },
      {
        "duration": 37,
        "start_time": "2023-07-29T14:03:01.006Z"
      },
      {
        "duration": 32,
        "start_time": "2023-07-29T14:03:01.044Z"
      },
      {
        "duration": 51,
        "start_time": "2023-07-29T14:03:01.078Z"
      },
      {
        "duration": 26,
        "start_time": "2023-07-29T14:03:01.131Z"
      },
      {
        "duration": 34,
        "start_time": "2023-07-29T14:03:01.158Z"
      },
      {
        "duration": 34,
        "start_time": "2023-07-29T14:03:01.193Z"
      },
      {
        "duration": 22,
        "start_time": "2023-07-29T14:03:01.229Z"
      },
      {
        "duration": 32,
        "start_time": "2023-07-29T14:03:01.252Z"
      },
      {
        "duration": 28,
        "start_time": "2023-07-29T14:03:01.286Z"
      },
      {
        "duration": 11,
        "start_time": "2023-07-29T14:03:01.316Z"
      },
      {
        "duration": 58,
        "start_time": "2023-07-29T14:03:01.328Z"
      },
      {
        "duration": 16,
        "start_time": "2023-07-29T14:03:01.388Z"
      },
      {
        "duration": 35,
        "start_time": "2023-07-29T14:03:01.406Z"
      },
      {
        "duration": 172,
        "start_time": "2023-07-29T14:03:01.443Z"
      },
      {
        "duration": 83,
        "start_time": "2023-07-29T14:03:01.617Z"
      },
      {
        "duration": 213,
        "start_time": "2023-07-29T14:03:01.702Z"
      },
      {
        "duration": 191,
        "start_time": "2023-07-29T14:03:01.920Z"
      },
      {
        "duration": 148,
        "start_time": "2023-07-29T14:03:02.112Z"
      },
      {
        "duration": 21,
        "start_time": "2023-07-29T14:03:02.262Z"
      },
      {
        "duration": 57,
        "start_time": "2023-07-29T14:03:02.284Z"
      },
      {
        "duration": 213,
        "start_time": "2023-07-29T14:03:02.346Z"
      },
      {
        "duration": 169,
        "start_time": "2023-07-29T14:03:02.560Z"
      },
      {
        "duration": 214,
        "start_time": "2023-07-29T14:03:02.731Z"
      },
      {
        "duration": 169,
        "start_time": "2023-07-29T14:03:02.946Z"
      },
      {
        "duration": 279,
        "start_time": "2023-07-29T14:03:03.116Z"
      },
      {
        "duration": 212,
        "start_time": "2023-07-29T14:03:03.396Z"
      },
      {
        "duration": 25,
        "start_time": "2023-07-29T14:03:03.609Z"
      },
      {
        "duration": 93,
        "start_time": "2023-07-29T14:03:03.635Z"
      },
      {
        "duration": 16,
        "start_time": "2023-07-29T14:03:03.729Z"
      },
      {
        "duration": 16,
        "start_time": "2023-07-29T14:03:03.746Z"
      },
      {
        "duration": 19,
        "start_time": "2023-07-29T14:03:03.764Z"
      },
      {
        "duration": 14,
        "start_time": "2023-07-29T14:03:03.785Z"
      },
      {
        "duration": 14,
        "start_time": "2023-07-29T14:03:03.801Z"
      },
      {
        "duration": 15,
        "start_time": "2023-07-29T14:03:03.817Z"
      },
      {
        "duration": 10,
        "start_time": "2023-07-29T14:03:03.834Z"
      },
      {
        "duration": 39,
        "start_time": "2023-07-29T14:03:03.845Z"
      },
      {
        "duration": 53,
        "start_time": "2023-07-30T11:09:39.304Z"
      },
      {
        "duration": 1154,
        "start_time": "2023-07-30T11:09:51.051Z"
      },
      {
        "duration": 267,
        "start_time": "2023-07-30T11:09:52.207Z"
      },
      {
        "duration": 22,
        "start_time": "2023-07-30T11:09:52.476Z"
      },
      {
        "duration": 37,
        "start_time": "2023-07-30T11:09:52.500Z"
      },
      {
        "duration": 25,
        "start_time": "2023-07-30T11:09:52.540Z"
      },
      {
        "duration": 30,
        "start_time": "2023-07-30T11:09:52.568Z"
      },
      {
        "duration": 19,
        "start_time": "2023-07-30T11:09:52.600Z"
      },
      {
        "duration": 29,
        "start_time": "2023-07-30T11:09:52.622Z"
      },
      {
        "duration": 20,
        "start_time": "2023-07-30T11:09:52.653Z"
      },
      {
        "duration": 32,
        "start_time": "2023-07-30T11:09:52.674Z"
      },
      {
        "duration": 37,
        "start_time": "2023-07-30T11:09:52.708Z"
      },
      {
        "duration": 33,
        "start_time": "2023-07-30T11:09:52.747Z"
      },
      {
        "duration": 28,
        "start_time": "2023-07-30T11:09:52.782Z"
      },
      {
        "duration": 38,
        "start_time": "2023-07-30T11:09:52.814Z"
      },
      {
        "duration": 41,
        "start_time": "2023-07-30T11:09:52.855Z"
      },
      {
        "duration": 37,
        "start_time": "2023-07-30T11:09:52.898Z"
      },
      {
        "duration": 25,
        "start_time": "2023-07-30T11:09:52.937Z"
      },
      {
        "duration": 19,
        "start_time": "2023-07-30T11:09:52.964Z"
      },
      {
        "duration": 19,
        "start_time": "2023-07-30T11:09:52.986Z"
      },
      {
        "duration": 34,
        "start_time": "2023-07-30T11:09:53.007Z"
      },
      {
        "duration": 192,
        "start_time": "2023-07-30T11:09:53.043Z"
      },
      {
        "duration": 93,
        "start_time": "2023-07-30T11:09:53.237Z"
      },
      {
        "duration": 191,
        "start_time": "2023-07-30T11:09:53.332Z"
      },
      {
        "duration": 187,
        "start_time": "2023-07-30T11:09:53.524Z"
      },
      {
        "duration": 171,
        "start_time": "2023-07-30T11:09:53.712Z"
      },
      {
        "duration": 26,
        "start_time": "2023-07-30T11:09:53.889Z"
      },
      {
        "duration": 55,
        "start_time": "2023-07-30T11:09:53.917Z"
      },
      {
        "duration": 235,
        "start_time": "2023-07-30T11:09:53.974Z"
      },
      {
        "duration": 208,
        "start_time": "2023-07-30T11:09:54.211Z"
      },
      {
        "duration": 229,
        "start_time": "2023-07-30T11:09:54.420Z"
      },
      {
        "duration": 270,
        "start_time": "2023-07-30T11:09:54.651Z"
      },
      {
        "duration": 407,
        "start_time": "2023-07-30T11:09:54.923Z"
      },
      {
        "duration": 312,
        "start_time": "2023-07-30T11:09:55.332Z"
      },
      {
        "duration": 58,
        "start_time": "2023-07-30T11:09:55.646Z"
      },
      {
        "duration": 29,
        "start_time": "2023-07-30T11:09:55.705Z"
      },
      {
        "duration": 44,
        "start_time": "2023-07-30T11:09:55.737Z"
      },
      {
        "duration": 58,
        "start_time": "2023-07-30T11:09:55.783Z"
      },
      {
        "duration": 32,
        "start_time": "2023-07-30T11:09:55.843Z"
      },
      {
        "duration": 40,
        "start_time": "2023-07-30T11:09:55.877Z"
      },
      {
        "duration": 46,
        "start_time": "2023-07-30T11:09:55.919Z"
      },
      {
        "duration": 46,
        "start_time": "2023-07-30T11:09:55.970Z"
      },
      {
        "duration": 37,
        "start_time": "2023-07-30T11:09:56.018Z"
      },
      {
        "duration": 57,
        "start_time": "2023-07-30T11:09:56.058Z"
      }
    ],
    "kernelspec": {
      "display_name": "Python 3 (ipykernel)",
      "language": "python",
      "name": "python3"
    },
    "language_info": {
      "codemirror_mode": {
        "name": "ipython",
        "version": 3
      },
      "file_extension": ".py",
      "mimetype": "text/x-python",
      "name": "python",
      "nbconvert_exporter": "python",
      "pygments_lexer": "ipython3",
      "version": "3.9.5"
    },
    "toc": {
      "base_numbering": 1,
      "nav_menu": {},
      "number_sections": true,
      "sideBar": true,
      "skip_h1_title": true,
      "title_cell": "Table of Contents",
      "title_sidebar": "Contents",
      "toc_cell": false,
      "toc_position": {},
      "toc_section_display": true,
      "toc_window_display": true
    },
    "colab": {
      "provenance": []
    }
  },
  "nbformat": 4,
  "nbformat_minor": 5
}